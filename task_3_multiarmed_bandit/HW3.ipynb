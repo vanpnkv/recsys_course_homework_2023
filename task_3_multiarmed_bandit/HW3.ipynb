{
 "cells": [
  {
   "cell_type": "code",
   "execution_count": 95,
   "metadata": {},
   "outputs": [],
   "source": [
    "import numpy as np\n",
    "import pandas as pd\n",
    "import time\n",
    "from functools import partial\n",
    "\n",
    "from scipy.stats import randint, uniform\n",
    "from sim_lib import simulation\n",
    "\n",
    "import optuna\n",
    "\n",
    "pd.options.mode.chained_assignment = None\n",
    "seed = 18475"
   ]
  },
  {
   "cell_type": "markdown",
   "metadata": {},
   "source": [
    "Для решения задачи хочу попробывать реализовать Upper Confidence Bound."
   ]
  },
  {
   "cell_type": "code",
   "execution_count": 83,
   "metadata": {},
   "outputs": [],
   "source": [
    "def ucb(history: pd.DataFrame,alpha: float, b: float):\n",
    "    ucb.t +=1\n",
    "    n_i = (history['impressions'] + b)\n",
    "    explonation = history['clicks'] / n_i\n",
    "    exploration = np.sqrt(2 * np.log(ucb.t) / n_i)\n",
    "    n = np.argmax(explonation + alpha * exploration)\n",
    "    return history.index[n]"
   ]
  },
  {
   "cell_type": "markdown",
   "metadata": {},
   "source": [
    "Сделаем удобный метод чтобы подобрать оптимальные гиперпараметры"
   ]
  },
  {
   "cell_type": "code",
   "execution_count": 84,
   "metadata": {},
   "outputs": [],
   "source": [
    "def testing(alpha: float, b: float):\n",
    "    print(f\"alpha = {alpha}; bias={b}\")\n",
    "    np.random.seed(seed)\n",
    "    start = time.time()\n",
    "    ucb.t = 0\n",
    "    policy = partial(ucb,alpha=alpha,b=b)\n",
    "    output = simulation(policy, n=200000, seed=seed)\n",
    "    end = time.time()\n",
    "    print(end - start)\n",
    "    print(f\"{output['regret']}| {output['regret']/output['rounds']} | {output['total_banners']}\")\n",
    "    print(\"🍰🌟🍰🌟🍰🌟🍰🌟🍰🌟🍰🌟🍰🌟🍰🌟🍰🌟🍰\")\n",
    "    return output['regret'],output['rounds'],output['total_banners']\n"
   ]
  },
  {
   "cell_type": "markdown",
   "metadata": {},
   "source": [
    "Поиск лучших гиперпарамертов. print imrepssions в коде sim_lib.py закомментирован, чтобы не переполнять ноутбук логами."
   ]
  },
  {
   "cell_type": "code",
   "execution_count": 86,
   "metadata": {},
   "outputs": [
    {
     "name": "stdout",
     "output_type": "stream",
     "text": [
      "alpha = 0.001; bias=0.1\n",
      "143.23270201683044\n",
      "7570.250349143192| 0.03785125174571596 | 184\n",
      "🍰🌟🍰🌟🍰🌟🍰🌟🍰🌟🍰🌟🍰🌟🍰🌟🍰🌟🍰\n",
      "alpha = 0.001; bias=0.5\n",
      "144.68812918663025\n",
      "7570.250349143192| 0.03785125174571596 | 184\n",
      "🍰🌟🍰🌟🍰🌟🍰🌟🍰🌟🍰🌟🍰🌟🍰🌟🍰🌟🍰\n",
      "alpha = 0.001; bias=0.7\n",
      "143.61075592041016\n",
      "7570.250349143192| 0.03785125174571596 | 184\n",
      "🍰🌟🍰🌟🍰🌟🍰🌟🍰🌟🍰🌟🍰🌟🍰🌟🍰🌟🍰\n",
      "alpha = 0.001; bias=0.9\n",
      "774.8987948894501\n",
      "7570.250349143192| 0.03785125174571596 | 184\n",
      "🍰🌟🍰🌟🍰🌟🍰🌟🍰🌟🍰🌟🍰🌟🍰🌟🍰🌟🍰\n",
      "alpha = 0.001; bias=1\n",
      "141.61712002754211\n",
      "7570.250349143192| 0.03785125174571596 | 184\n",
      "🍰🌟🍰🌟🍰🌟🍰🌟🍰🌟🍰🌟🍰🌟🍰🌟🍰🌟🍰\n",
      "alpha = 0.001; bias=10\n",
      "142.3335211277008\n",
      "7570.250349143192| 0.03785125174571596 | 184\n",
      "🍰🌟🍰🌟🍰🌟🍰🌟🍰🌟🍰🌟🍰🌟🍰🌟🍰🌟🍰\n",
      "alpha = 0.01; bias=0.1\n",
      "142.8481740951538\n",
      "9714.3448342918| 0.048571724171459 | 184\n",
      "🍰🌟🍰🌟🍰🌟🍰🌟🍰🌟🍰🌟🍰🌟🍰🌟🍰🌟🍰\n",
      "alpha = 0.01; bias=0.5\n",
      "143.63303422927856\n",
      "8430.46331871147| 0.04215231659355735 | 184\n",
      "🍰🌟🍰🌟🍰🌟🍰🌟🍰🌟🍰🌟🍰🌟🍰🌟🍰🌟🍰\n",
      "alpha = 0.01; bias=0.7\n",
      "144.01512503623962\n",
      "8430.46331871147| 0.04215231659355735 | 184\n",
      "🍰🌟🍰🌟🍰🌟🍰🌟🍰🌟🍰🌟🍰🌟🍰🌟🍰🌟🍰\n",
      "alpha = 0.01; bias=0.9\n",
      "142.6859438419342\n",
      "8430.479189936137| 0.042152395949680684 | 184\n",
      "🍰🌟🍰🌟🍰🌟🍰🌟🍰🌟🍰🌟🍰🌟🍰🌟🍰🌟🍰\n",
      "alpha = 0.01; bias=1\n",
      "142.94155597686768\n",
      "974.1013870333624| 0.004870506935166812 | 184\n",
      "🍰🌟🍰🌟🍰🌟🍰🌟🍰🌟🍰🌟🍰🌟🍰🌟🍰🌟🍰\n",
      "alpha = 0.01; bias=10\n",
      "143.33539295196533\n",
      "7570.250349143192| 0.03785125174571596 | 184\n",
      "🍰🌟🍰🌟🍰🌟🍰🌟🍰🌟🍰🌟🍰🌟🍰🌟🍰🌟🍰\n",
      "alpha = 0.1; bias=0.1\n",
      "141.9561321735382\n",
      "256.7479590979893| 0.0012837397954899464 | 184\n",
      "🍰🌟🍰🌟🍰🌟🍰🌟🍰🌟🍰🌟🍰🌟🍰🌟🍰🌟🍰\n",
      "alpha = 0.1; bias=0.5\n",
      "142.36691212654114\n",
      "270.8785899914144| 0.001354392949957072 | 184\n",
      "🍰🌟🍰🌟🍰🌟🍰🌟🍰🌟🍰🌟🍰🌟🍰🌟🍰🌟🍰\n",
      "alpha = 0.1; bias=0.7\n",
      "141.17252397537231\n",
      "252.07773161840245| 0.0012603886580920122 | 184\n",
      "🍰🌟🍰🌟🍰🌟🍰🌟🍰🌟🍰🌟🍰🌟🍰🌟🍰🌟🍰\n",
      "alpha = 0.1; bias=0.9\n",
      "143.44601607322693\n",
      "228.75722434605944| 0.0011437861217302972 | 184\n",
      "🍰🌟🍰🌟🍰🌟🍰🌟🍰🌟🍰🌟🍰🌟🍰🌟🍰🌟🍰\n",
      "alpha = 0.1; bias=1\n",
      "142.3858721256256\n",
      "258.3158253051061| 0.0012915791265255305 | 184\n",
      "🍰🌟🍰🌟🍰🌟🍰🌟🍰🌟🍰🌟🍰🌟🍰🌟🍰🌟🍰\n",
      "alpha = 0.1; bias=10\n",
      "140.93649411201477\n",
      "2066.259605524522| 0.01033129802762261 | 184\n",
      "🍰🌟🍰🌟🍰🌟🍰🌟🍰🌟🍰🌟🍰🌟🍰🌟🍰🌟🍰\n",
      "alpha = 0.5; bias=0.1\n",
      "141.0620460510254\n",
      "4071.7247803869363| 0.020358623901934682 | 184\n",
      "🍰🌟🍰🌟🍰🌟🍰🌟🍰🌟🍰🌟🍰🌟🍰🌟🍰🌟🍰\n",
      "alpha = 0.5; bias=0.5\n",
      "141.7617290019989\n",
      "4005.415761895205| 0.020027078809476025 | 184\n",
      "🍰🌟🍰🌟🍰🌟🍰🌟🍰🌟🍰🌟🍰🌟🍰🌟🍰🌟🍰\n",
      "alpha = 0.5; bias=0.7\n",
      "144.00715112686157\n",
      "4013.825966377164| 0.020069129831885822 | 184\n",
      "🍰🌟🍰🌟🍰🌟🍰🌟🍰🌟🍰🌟🍰🌟🍰🌟🍰🌟🍰\n",
      "alpha = 0.5; bias=0.9\n",
      "143.5639910697937\n",
      "4006.9256325199076| 0.020034628162599537 | 184\n",
      "🍰🌟🍰🌟🍰🌟🍰🌟🍰🌟🍰🌟🍰🌟🍰🌟🍰🌟🍰\n",
      "alpha = 0.5; bias=1\n",
      "142.5114040374756\n",
      "4013.0258661502003| 0.020065129330751 | 184\n",
      "🍰🌟🍰🌟🍰🌟🍰🌟🍰🌟🍰🌟🍰🌟🍰🌟🍰🌟🍰\n",
      "alpha = 0.5; bias=10\n",
      "142.5078489780426\n",
      "3723.443910512248| 0.01861721955256124 | 184\n",
      "🍰🌟🍰🌟🍰🌟🍰🌟🍰🌟🍰🌟🍰🌟🍰🌟🍰🌟🍰\n",
      "alpha = 0.7; bias=0.1\n",
      "143.5596158504486\n",
      "6961.741799940603| 0.034808708999703016 | 184\n",
      "🍰🌟🍰🌟🍰🌟🍰🌟🍰🌟🍰🌟🍰🌟🍰🌟🍰🌟🍰\n",
      "alpha = 0.7; bias=0.5\n",
      "142.959459066391\n",
      "6926.640780759412| 0.03463320390379706 | 184\n",
      "🍰🌟🍰🌟🍰🌟🍰🌟🍰🌟🍰🌟🍰🌟🍰🌟🍰🌟🍰\n",
      "alpha = 0.7; bias=0.7\n",
      "142.74218010902405\n",
      "6955.80022046828| 0.034779001102341396 | 184\n",
      "🍰🌟🍰🌟🍰🌟🍰🌟🍰🌟🍰🌟🍰🌟🍰🌟🍰🌟🍰\n",
      "alpha = 0.7; bias=0.9\n",
      "142.77789330482483\n",
      "6957.958387249121| 0.03478979193624561 | 184\n",
      "🍰🌟🍰🌟🍰🌟🍰🌟🍰🌟🍰🌟🍰🌟🍰🌟🍰🌟🍰\n",
      "alpha = 0.7; bias=1\n",
      "143.1911940574646\n",
      "6910.462444576057| 0.034552312222880285 | 184\n",
      "🍰🌟🍰🌟🍰🌟🍰🌟🍰🌟🍰🌟🍰🌟🍰🌟🍰🌟🍰\n",
      "alpha = 0.7; bias=10\n",
      "143.99246096611023\n",
      "6568.807269757915| 0.032844036348789574 | 184\n",
      "🍰🌟🍰🌟🍰🌟🍰🌟🍰🌟🍰🌟🍰🌟🍰🌟🍰🌟🍰\n",
      "alpha = 0.9; bias=0.1\n",
      "143.8035876750946\n",
      "9900.972957999747| 0.049504864789998736 | 184\n",
      "🍰🌟🍰🌟🍰🌟🍰🌟🍰🌟🍰🌟🍰🌟🍰🌟🍰🌟🍰\n",
      "alpha = 0.9; bias=0.5\n",
      "147.0754199028015\n",
      "9880.079950724163| 0.049400399753620816 | 184\n",
      "🍰🌟🍰🌟🍰🌟🍰🌟🍰🌟🍰🌟🍰🌟🍰🌟🍰🌟🍰\n",
      "alpha = 0.9; bias=0.7\n",
      "148.07937097549438\n",
      "9861.108844133967| 0.049305544220669836 | 184\n",
      "🍰🌟🍰🌟🍰🌟🍰🌟🍰🌟🍰🌟🍰🌟🍰🌟🍰🌟🍰\n",
      "alpha = 0.9; bias=0.9\n",
      "148.21459293365479\n",
      "9839.99147295723| 0.04919995736478615 | 184\n",
      "🍰🌟🍰🌟🍰🌟🍰🌟🍰🌟🍰🌟🍰🌟🍰🌟🍰🌟🍰\n",
      "alpha = 0.9; bias=1\n",
      "148.2782802581787\n",
      "9810.277698562066| 0.04905138849281033 | 184\n",
      "🍰🌟🍰🌟🍰🌟🍰🌟🍰🌟🍰🌟🍰🌟🍰🌟🍰🌟🍰\n",
      "alpha = 0.9; bias=10\n",
      "147.1721329689026\n",
      "9556.459799382037| 0.04778229899691019 | 184\n",
      "🍰🌟🍰🌟🍰🌟🍰🌟🍰🌟🍰🌟🍰🌟🍰🌟🍰🌟🍰\n",
      "alpha = 1; bias=0.1\n",
      "144.02515411376953\n",
      "11189.562327010837| 0.05594781163505418 | 184\n",
      "🍰🌟🍰🌟🍰🌟🍰🌟🍰🌟🍰🌟🍰🌟🍰🌟🍰🌟🍰\n",
      "alpha = 1; bias=0.5\n",
      "142.828861951828\n",
      "11115.343831539685| 0.05557671915769843 | 184\n",
      "🍰🌟🍰🌟🍰🌟🍰🌟🍰🌟🍰🌟🍰🌟🍰🌟🍰🌟🍰\n",
      "alpha = 1; bias=0.7\n",
      "143.2059290409088\n",
      "11077.964004798101| 0.0553898200239905 | 184\n",
      "🍰🌟🍰🌟🍰🌟🍰🌟🍰🌟🍰🌟🍰🌟🍰🌟🍰🌟🍰\n",
      "alpha = 1; bias=0.9\n",
      "143.47094082832336\n",
      "11102.497858165747| 0.055512489290828734 | 184\n",
      "🍰🌟🍰🌟🍰🌟🍰🌟🍰🌟🍰🌟🍰🌟🍰🌟🍰🌟🍰\n",
      "alpha = 1; bias=1\n",
      "143.88572311401367\n",
      "11185.91629936366| 0.0559295814968183 | 184\n",
      "🍰🌟🍰🌟🍰🌟🍰🌟🍰🌟🍰🌟🍰🌟🍰🌟🍰🌟🍰\n",
      "alpha = 1; bias=10\n",
      "143.02043294906616\n",
      "10890.410043771326| 0.05445205021885663 | 184\n",
      "🍰🌟🍰🌟🍰🌟🍰🌟🍰🌟🍰🌟🍰🌟🍰🌟🍰🌟🍰\n"
     ]
    }
   ],
   "source": [
    "best = float(\"inf\")\n",
    "s = None\n",
    "params = None\n",
    "for i in [0.001,0.01,0.1,0.5,0.7,0.9,1]:\n",
    "    for j in [0.1,0.5,0.7,0.9,1,10]:\n",
    "        regret, r, total = testing(i,j)\n",
    "        if regret < best:\n",
    "            best = regret\n",
    "            s = f\"{regret}| {regret/r} | {total}\"\n",
    "            params = f\"alpha = {i}; bias={j}\""
   ]
  },
  {
   "cell_type": "code",
   "execution_count": 88,
   "metadata": {},
   "outputs": [
    {
     "name": "stdout",
     "output_type": "stream",
     "text": [
      "228.75722434605944| 0.0011437861217302972 | 184\n",
      "alpha = 0.1; bias=0.9\n"
     ]
    }
   ],
   "source": [
    "print(s)\n",
    "print(params)"
   ]
  },
  {
   "cell_type": "markdown",
   "metadata": {},
   "source": [
    "Побили бейзлайн, но хочеться еще посмотреть значения в окретсности 0.1 для alpha и поварировать значения сдвига. Можно применить Баесовскую оптимизацию, чтобы подобрать наилучший гиперпареметр вблизи 0.1 и 0.9."
   ]
  },
  {
   "cell_type": "code",
   "execution_count": 108,
   "metadata": {},
   "outputs": [],
   "source": [
    "def objective(trail):\n",
    "  param={\n",
    "      'alpha':trail.suggest_float('alpha' , 0.07,0.1),\n",
    "      'b' :trail.suggest_float('b' , 0.7 , 1),\n",
    "      }\n",
    "  np.random.seed(seed)\n",
    "  start = time.time()\n",
    "  ucb.t = 0\n",
    "  policy = partial(ucb,**param)\n",
    "  output = simulation(policy, n=200000, seed=seed)\n",
    "  end = time.time()\n",
    "  print(end - start)\n",
    "  return output['regret']"
   ]
  },
  {
   "cell_type": "code",
   "execution_count": 109,
   "metadata": {},
   "outputs": [
    {
     "name": "stderr",
     "output_type": "stream",
     "text": [
      "[I 2023-12-07 16:56:23,660] A new study created in memory with name: no-name-a0d200ba-e53f-462d-916e-5f6b830649bf\n"
     ]
    },
    {
     "data": {
      "application/vnd.jupyter.widget-view+json": {
       "model_id": "f3b3fa8bf3784a729ca4e2dffc216c11",
       "version_major": 2,
       "version_minor": 0
      },
      "text/plain": [
       "  0%|          | 0/10 [00:00<?, ?it/s]"
      ]
     },
     "metadata": {},
     "output_type": "display_data"
    },
    {
     "name": "stdout",
     "output_type": "stream",
     "text": [
      "148.96102285385132\n",
      "[I 2023-12-07 16:58:52,629] Trial 0 finished with value: 177.93991807630655 and parameters: {'alpha': 0.07342882079998947, 'b': 0.8130319169237833}. Best is trial 0 with value: 177.93991807630655.\n",
      "147.59166193008423\n",
      "[I 2023-12-07 17:01:20,221] Trial 1 finished with value: 245.11785482905324 and parameters: {'alpha': 0.09148471870393264, 'b': 0.7549926178201269}. Best is trial 0 with value: 177.93991807630655.\n",
      "146.6683280467987\n",
      "[I 2023-12-07 17:03:46,891] Trial 2 finished with value: 138.26318839822264 and parameters: {'alpha': 0.07255732437833178, 'b': 0.7672465927542269}. Best is trial 2 with value: 138.26318839822264.\n",
      "145.96706581115723\n",
      "[I 2023-12-07 17:06:12,859] Trial 3 finished with value: 194.1976466975662 and parameters: {'alpha': 0.08077712172831075, 'b': 0.8804039021487556}. Best is trial 2 with value: 138.26318839822264.\n",
      "145.08413004875183\n",
      "[I 2023-12-07 17:08:37,945] Trial 4 finished with value: 175.84765900928002 and parameters: {'alpha': 0.08596321014085148, 'b': 0.9617611306956697}. Best is trial 2 with value: 138.26318839822264.\n",
      "144.6406388282776\n",
      "[I 2023-12-07 17:11:02,586] Trial 5 finished with value: 193.18915733044838 and parameters: {'alpha': 0.07019000410449687, 'b': 0.8645915830402181}. Best is trial 2 with value: 138.26318839822264.\n",
      "144.14820384979248\n",
      "[I 2023-12-07 17:13:26,736] Trial 6 finished with value: 151.84256710113377 and parameters: {'alpha': 0.07025992997016678, 'b': 0.7600121159409087}. Best is trial 2 with value: 138.26318839822264.\n",
      "143.95235300064087\n",
      "[I 2023-12-07 17:15:50,690] Trial 7 finished with value: 199.57573334403818 and parameters: {'alpha': 0.07362183378647266, 'b': 0.7330840605218913}. Best is trial 2 with value: 138.26318839822264.\n",
      "144.08480429649353\n",
      "[I 2023-12-07 17:18:14,776] Trial 8 finished with value: 256.68678385758807 and parameters: {'alpha': 0.09737703882001894, 'b': 0.9605378189220597}. Best is trial 2 with value: 138.26318839822264.\n",
      "4206.094860076904\n",
      "[I 2023-12-07 18:28:20,872] Trial 9 finished with value: 186.71162704104103 and parameters: {'alpha': 0.08741752688505836, 'b': 0.9164707311395527}. Best is trial 2 with value: 138.26318839822264.\n"
     ]
    }
   ],
   "source": [
    "find_param=optuna.create_study(direction=\"minimize\")\n",
    "find_param.optimize(objective,n_trials=10, show_progress_bar=1)"
   ]
  },
  {
   "cell_type": "markdown",
   "metadata": {},
   "source": [
    "Брать значения выше 0.7 не дало лучшего результата, но смогли достичь 138.263. Побробуем посмотреть значения меньше."
   ]
  },
  {
   "cell_type": "code",
   "execution_count": 113,
   "metadata": {},
   "outputs": [],
   "source": [
    "def objective(trail):\n",
    "  param={\n",
    "      'alpha':trail.suggest_float('alpha' , 0.06,0.07),\n",
    "      'b' :trail.suggest_float('b' , 0.001 , 1),\n",
    "      }\n",
    "  np.random.seed(seed)\n",
    "  start = time.time()\n",
    "  ucb.t = 0\n",
    "  policy = partial(ucb,**param)\n",
    "  output = simulation(policy, n=200000, seed=seed)\n",
    "  end = time.time()\n",
    "  print(end - start)\n",
    "  return output['regret']"
   ]
  },
  {
   "cell_type": "code",
   "execution_count": 114,
   "metadata": {},
   "outputs": [
    {
     "name": "stderr",
     "output_type": "stream",
     "text": [
      "[I 2023-12-07 21:24:14,915] A new study created in memory with name: no-name-833c0c30-8756-4468-b5f4-f6c67e4de49e\n"
     ]
    },
    {
     "data": {
      "application/vnd.jupyter.widget-view+json": {
       "model_id": "325ee82e027e46fe983e8b69859f09af",
       "version_major": 2,
       "version_minor": 0
      },
      "text/plain": [
       "  0%|          | 0/10 [00:00<?, ?it/s]"
      ]
     },
     "metadata": {},
     "output_type": "display_data"
    },
    {
     "name": "stdout",
     "output_type": "stream",
     "text": [
      "145.76109790802002\n",
      "[I 2023-12-07 21:26:40,684] Trial 0 finished with value: 238.66036029094235 and parameters: {'alpha': 0.06890170851238549, 'b': 0.12140007282560375}. Best is trial 0 with value: 238.66036029094235.\n",
      "144.26362299919128\n",
      "[I 2023-12-07 21:29:04,949] Trial 1 finished with value: 182.29488041121277 and parameters: {'alpha': 0.06409830302734475, 'b': 0.6024611677281895}. Best is trial 1 with value: 182.29488041121277.\n",
      "144.04168605804443\n",
      "[I 2023-12-07 21:31:28,992] Trial 2 finished with value: 172.27101883811247 and parameters: {'alpha': 0.06668505943542122, 'b': 0.7927339726973242}. Best is trial 2 with value: 172.27101883811247.\n",
      "144.60155606269836\n",
      "[I 2023-12-07 21:33:53,595] Trial 3 finished with value: 182.7635188942302 and parameters: {'alpha': 0.0686627175471308, 'b': 0.3731882335216777}. Best is trial 2 with value: 172.27101883811247.\n",
      "144.84742999076843\n",
      "[I 2023-12-07 21:36:18,443] Trial 4 finished with value: 131.46047758172622 and parameters: {'alpha': 0.06427250050733893, 'b': 0.39319989157063034}. Best is trial 4 with value: 131.46047758172622.\n",
      "145.34607911109924\n",
      "[I 2023-12-07 21:38:43,791] Trial 5 finished with value: 135.67875181113396 and parameters: {'alpha': 0.06699316111139633, 'b': 0.4179500631188408}. Best is trial 4 with value: 131.46047758172622.\n",
      "144.3028519153595\n",
      "[I 2023-12-07 21:41:08,095] Trial 6 finished with value: 128.13824781047558 and parameters: {'alpha': 0.06921461986443847, 'b': 0.6712286840549132}. Best is trial 6 with value: 128.13824781047558.\n",
      "144.14294004440308\n",
      "[I 2023-12-07 21:43:32,239] Trial 7 finished with value: 140.44392889232716 and parameters: {'alpha': 0.06390234645601985, 'b': 0.2811631481777427}. Best is trial 6 with value: 128.13824781047558.\n",
      "144.6416621208191\n",
      "[I 2023-12-07 21:45:56,882] Trial 8 finished with value: 209.78736782599952 and parameters: {'alpha': 0.06962194501664686, 'b': 0.23887969396026512}. Best is trial 6 with value: 128.13824781047558.\n",
      "144.465970993042\n",
      "[I 2023-12-07 21:48:21,349] Trial 9 finished with value: 192.33944741413023 and parameters: {'alpha': 0.06905601997447508, 'b': 0.06690503743955596}. Best is trial 6 with value: 128.13824781047558.\n"
     ]
    }
   ],
   "source": [
    "find_param=optuna.create_study(direction=\"minimize\")\n",
    "find_param.optimize(objective,n_trials=10, show_progress_bar=1)"
   ]
  },
  {
   "cell_type": "markdown",
   "metadata": {},
   "source": [
    "Еще раз побили бейзлайн. Последняя попытка попробывать зафиксировать bias = 1"
   ]
  },
  {
   "cell_type": "code",
   "execution_count": 115,
   "metadata": {},
   "outputs": [],
   "source": [
    "def objective(trail):\n",
    "  param={\n",
    "      'alpha':trail.suggest_float('alpha' , 0.06,0.07),\n",
    "      'b' :trail.suggest_float('b' , 1 , 1),\n",
    "      }\n",
    "  np.random.seed(seed)\n",
    "  start = time.time()\n",
    "  ucb.t = 0\n",
    "  policy = partial(ucb,**param)\n",
    "  output = simulation(policy, n=200000, seed=seed)\n",
    "  end = time.time()\n",
    "  print(end - start)\n",
    "  return output['regret']"
   ]
  },
  {
   "cell_type": "code",
   "execution_count": 116,
   "metadata": {},
   "outputs": [
    {
     "name": "stderr",
     "output_type": "stream",
     "text": [
      "[I 2023-12-07 21:48:58,674] A new study created in memory with name: no-name-d827554e-b8ae-4a33-8ee8-74ecbf38272e\n"
     ]
    },
    {
     "data": {
      "application/vnd.jupyter.widget-view+json": {
       "model_id": "d5daf60978f74e148300244a80b715c6",
       "version_major": 2,
       "version_minor": 0
      },
      "text/plain": [
       "  0%|          | 0/10 [00:00<?, ?it/s]"
      ]
     },
     "metadata": {},
     "output_type": "display_data"
    },
    {
     "name": "stdout",
     "output_type": "stream",
     "text": [
      "144.9676411151886\n",
      "[I 2023-12-07 21:51:23,647] Trial 0 finished with value: 112.81225115860292 and parameters: {'alpha': 0.06003024869652497, 'b': 1.0}. Best is trial 0 with value: 112.81225115860292.\n",
      "146.50388312339783\n",
      "[I 2023-12-07 21:53:50,152] Trial 1 finished with value: 99.35845293033039 and parameters: {'alpha': 0.06149784492511529, 'b': 1.0}. Best is trial 1 with value: 99.35845293033039.\n",
      "146.04919815063477\n",
      "[I 2023-12-07 21:56:16,202] Trial 2 finished with value: 134.29522854827914 and parameters: {'alpha': 0.06498237991666139, 'b': 1.0}. Best is trial 1 with value: 99.35845293033039.\n",
      "143.71588921546936\n",
      "[I 2023-12-07 21:58:39,919] Trial 3 finished with value: 99.81292684737755 and parameters: {'alpha': 0.061866999277234436, 'b': 1.0}. Best is trial 1 with value: 99.35845293033039.\n",
      "143.8247196674347\n",
      "[I 2023-12-07 22:01:03,745] Trial 4 finished with value: 158.48988935719385 and parameters: {'alpha': 0.06683486127711089, 'b': 1.0}. Best is trial 1 with value: 99.35845293033039.\n",
      "144.19771313667297\n",
      "[I 2023-12-07 22:03:27,944] Trial 5 finished with value: 198.21936264388756 and parameters: {'alpha': 0.06341995125410269, 'b': 1.0}. Best is trial 1 with value: 99.35845293033039.\n",
      "144.6781530380249\n",
      "[I 2023-12-07 22:05:52,624] Trial 6 finished with value: 135.41148904052167 and parameters: {'alpha': 0.0657529158429869, 'b': 1.0}. Best is trial 1 with value: 99.35845293033039.\n",
      "145.01401901245117\n",
      "[I 2023-12-07 22:08:17,639] Trial 7 finished with value: 148.2226637070404 and parameters: {'alpha': 0.06589677530818337, 'b': 1.0}. Best is trial 1 with value: 99.35845293033039.\n",
      "145.39734315872192\n",
      "[I 2023-12-07 22:10:43,038] Trial 8 finished with value: 131.94773612694414 and parameters: {'alpha': 0.06345017077295721, 'b': 1.0}. Best is trial 1 with value: 99.35845293033039.\n",
      "145.98290586471558\n",
      "[I 2023-12-07 22:13:09,022] Trial 9 finished with value: 166.1654755836078 and parameters: {'alpha': 0.06318892652656052, 'b': 1.0}. Best is trial 1 with value: 99.35845293033039.\n"
     ]
    }
   ],
   "source": [
    "find_param=optuna.create_study(direction=\"minimize\")\n",
    "find_param.optimize(objective,n_trials=10, show_progress_bar=1)"
   ]
  },
  {
   "cell_type": "markdown",
   "metadata": {},
   "source": [
    "Лучший результат 99.3585  {'alpha': 0.06149784492511529, 'b': 1.0} "
   ]
  },
  {
   "cell_type": "markdown",
   "metadata": {},
   "source": []
  }
 ],
 "metadata": {
  "kernelspec": {
   "display_name": "ML_tasks",
   "language": "python",
   "name": "python3"
  },
  "language_info": {
   "codemirror_mode": {
    "name": "ipython",
    "version": 3
   },
   "file_extension": ".py",
   "mimetype": "text/x-python",
   "name": "python",
   "nbconvert_exporter": "python",
   "pygments_lexer": "ipython3",
   "version": "3.9.18"
  }
 },
 "nbformat": 4,
 "nbformat_minor": 2
}
