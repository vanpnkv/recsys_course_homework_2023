{
  "metadata": {
    "kernelspec": {
      "language": "python",
      "display_name": "Python 3",
      "name": "python3"
    },
    "language_info": {
      "name": "python",
      "version": "3.10.12",
      "mimetype": "text/x-python",
      "codemirror_mode": {
        "name": "ipython",
        "version": 3
      },
      "pygments_lexer": "ipython3",
      "nbconvert_exporter": "python",
      "file_extension": ".py"
    },
    "kaggle": {
      "accelerator": "none",
      "dataSources": [],
      "dockerImageVersionId": 30587,
      "isInternetEnabled": true,
      "language": "python",
      "sourceType": "notebook",
      "isGpuEnabled": false
    },
    "colab": {
      "provenance": []
    }
  },
  "nbformat_minor": 0,
  "nbformat": 4,
  "cells": [
    {
      "cell_type": "code",
      "source": [
        "import numpy as np\n",
        "import pandas as pd\n",
        "import time\n",
        "from functools import partial\n",
        "\n",
        "from scipy.stats import randint, uniform\n",
        "from sim_lib import simulation\n",
        "\n",
        "pd.options.mode.chained_assignment = None"
      ],
      "metadata": {
        "execution": {
          "iopub.status.busy": "2023-12-07T09:43:56.919524Z",
          "iopub.execute_input": "2023-12-07T09:43:56.919931Z",
          "iopub.status.idle": "2023-12-07T09:43:57.906787Z",
          "shell.execute_reply.started": "2023-12-07T09:43:56.919900Z",
          "shell.execute_reply": "2023-12-07T09:43:57.905364Z"
        },
        "trusted": true,
        "id": "7j65Mld-bg7v"
      },
      "execution_count": null,
      "outputs": []
    },
    {
      "cell_type": "code",
      "source": [
        "def eps_greedy(history: pd.DataFrame, eps: float):\n",
        "    if uniform.rvs() < eps:\n",
        "        n = history.shape[0]\n",
        "        return history.index[randint.rvs(0, n)]\n",
        "\n",
        "    ctr = history['clicks'] / (history['impressions'] + 10)\n",
        "    n = np.argmax(ctr)\n",
        "    return history.index[n]\n",
        "\n",
        "policy = partial(eps_greedy, eps=0.06)"
      ],
      "metadata": {
        "execution": {
          "iopub.status.busy": "2023-12-07T09:44:00.709816Z",
          "iopub.execute_input": "2023-12-07T09:44:00.710413Z",
          "iopub.status.idle": "2023-12-07T09:44:00.718624Z",
          "shell.execute_reply.started": "2023-12-07T09:44:00.710375Z",
          "shell.execute_reply": "2023-12-07T09:44:00.717369Z"
        },
        "trusted": true,
        "id": "5I8tU1-Pbg7w"
      },
      "execution_count": null,
      "outputs": []
    },
    {
      "cell_type": "code",
      "source": [
        "# seed for homework\n",
        "seed = 18475\n",
        "np.random.seed(seed=seed)\n",
        "\n",
        "start = time.time()\n",
        "output = simulation(policy, n=200000, seed=seed)\n",
        "end = time.time()\n",
        "end - start"
      ],
      "metadata": {
        "execution": {
          "iopub.status.busy": "2023-12-07T09:44:03.171387Z",
          "iopub.execute_input": "2023-12-07T09:44:03.171898Z",
          "iopub.status.idle": "2023-12-07T09:54:42.944073Z",
          "shell.execute_reply.started": "2023-12-07T09:44:03.171848Z",
          "shell.execute_reply": "2023-12-07T09:54:42.942731Z"
        },
        "trusted": true,
        "id": "HsDXlm2jbg7w",
        "outputId": "f912d117-8a12-48c4-a1a7-09c2d12e83c8"
      },
      "execution_count": null,
      "outputs": [
        {
          "name": "stdout",
          "text": "1 impressions have been simulated\n10001 impressions have been simulated\n20001 impressions have been simulated\n30001 impressions have been simulated\n40001 impressions have been simulated\n50001 impressions have been simulated\n60001 impressions have been simulated\n70001 impressions have been simulated\n80001 impressions have been simulated\n90001 impressions have been simulated\n100001 impressions have been simulated\n110001 impressions have been simulated\n120001 impressions have been simulated\n130001 impressions have been simulated\n140001 impressions have been simulated\n150001 impressions have been simulated\n160001 impressions have been simulated\n170001 impressions have been simulated\n180001 impressions have been simulated\n190001 impressions have been simulated\n",
          "output_type": "stream"
        },
        {
          "execution_count": 6,
          "output_type": "execute_result",
          "data": {
            "text/plain": "639.7598621845245"
          },
          "metadata": {}
        }
      ]
    },
    {
      "cell_type": "code",
      "source": [
        "# baseline regret\n",
        "output['regret'], output['regret']/output['rounds'],  output['total_banners']"
      ],
      "metadata": {
        "execution": {
          "iopub.status.busy": "2023-12-07T09:54:42.946365Z",
          "iopub.execute_input": "2023-12-07T09:54:42.946775Z",
          "iopub.status.idle": "2023-12-07T09:54:42.953998Z",
          "shell.execute_reply.started": "2023-12-07T09:54:42.946740Z",
          "shell.execute_reply": "2023-12-07T09:54:42.952568Z"
        },
        "trusted": true,
        "id": "dVOCxUiKbg7x",
        "outputId": "ba39404d-d4ca-4167-bbbb-b32ecd97a517"
      },
      "execution_count": null,
      "outputs": [
        {
          "execution_count": 7,
          "output_type": "execute_result",
          "data": {
            "text/plain": "(1540.7609683932544, 0.007703804841966272, 184)"
          },
          "metadata": {}
        }
      ]
    },
    {
      "cell_type": "code",
      "source": [
        "output['history']"
      ],
      "metadata": {
        "execution": {
          "iopub.status.busy": "2023-12-07T09:54:42.955487Z",
          "iopub.execute_input": "2023-12-07T09:54:42.955823Z",
          "iopub.status.idle": "2023-12-07T09:54:42.986342Z",
          "shell.execute_reply.started": "2023-12-07T09:54:42.955795Z",
          "shell.execute_reply": "2023-12-07T09:54:42.985134Z"
        },
        "trusted": true,
        "id": "Hf9Cm-n1bg7x",
        "outputId": "fbf0b097-861d-4ce5-b058-3228c9b57d3a"
      },
      "execution_count": null,
      "outputs": [
        {
          "execution_count": 8,
          "output_type": "execute_result",
          "data": {
            "text/plain": "     impressions  clicks      lifetime         p\n153      18970.0  4199.0  18003.025431  0.220134\n162        228.0    26.0   1537.166719  0.113780\n172        163.0    32.0  19648.592394  0.219968\n173        170.0    18.0  12771.474990  0.122694\n180         26.0     3.0   4655.819793  0.020061\n182          6.0     0.0    889.624649  0.004621\n183          1.0     0.0  15187.163761  0.073886",
            "text/html": "<div>\n<style scoped>\n    .dataframe tbody tr th:only-of-type {\n        vertical-align: middle;\n    }\n\n    .dataframe tbody tr th {\n        vertical-align: top;\n    }\n\n    .dataframe thead th {\n        text-align: right;\n    }\n</style>\n<table border=\"1\" class=\"dataframe\">\n  <thead>\n    <tr style=\"text-align: right;\">\n      <th></th>\n      <th>impressions</th>\n      <th>clicks</th>\n      <th>lifetime</th>\n      <th>p</th>\n    </tr>\n  </thead>\n  <tbody>\n    <tr>\n      <th>153</th>\n      <td>18970.0</td>\n      <td>4199.0</td>\n      <td>18003.025431</td>\n      <td>0.220134</td>\n    </tr>\n    <tr>\n      <th>162</th>\n      <td>228.0</td>\n      <td>26.0</td>\n      <td>1537.166719</td>\n      <td>0.113780</td>\n    </tr>\n    <tr>\n      <th>172</th>\n      <td>163.0</td>\n      <td>32.0</td>\n      <td>19648.592394</td>\n      <td>0.219968</td>\n    </tr>\n    <tr>\n      <th>173</th>\n      <td>170.0</td>\n      <td>18.0</td>\n      <td>12771.474990</td>\n      <td>0.122694</td>\n    </tr>\n    <tr>\n      <th>180</th>\n      <td>26.0</td>\n      <td>3.0</td>\n      <td>4655.819793</td>\n      <td>0.020061</td>\n    </tr>\n    <tr>\n      <th>182</th>\n      <td>6.0</td>\n      <td>0.0</td>\n      <td>889.624649</td>\n      <td>0.004621</td>\n    </tr>\n    <tr>\n      <th>183</th>\n      <td>1.0</td>\n      <td>0.0</td>\n      <td>15187.163761</td>\n      <td>0.073886</td>\n    </tr>\n  </tbody>\n</table>\n</div>"
          },
          "metadata": {}
        }
      ]
    },
    {
      "cell_type": "markdown",
      "source": [
        "Реализуем Upper Confidence Bound (UCB)"
      ],
      "metadata": {
        "id": "ZnoS-8xpbg7y"
      }
    },
    {
      "cell_type": "code",
      "source": [
        "def ucb_policy(history: pd.DataFrame, C):\n",
        "    t = history['impressions'].sum() + 1\n",
        "    ucb_scores = history.apply(\n",
        "        lambda x: (x['clicks'] / (x['impressions'] + 1)) +\n",
        "                  C * np.sqrt(2 * np.log(t) / (x['impressions'] + 1)),\n",
        "        axis=1\n",
        "    )\n",
        "    return history.index[np.argmax(ucb_scores)]"
      ],
      "metadata": {
        "execution": {
          "iopub.status.busy": "2023-12-07T15:38:57.214364Z",
          "iopub.execute_input": "2023-12-07T15:38:57.214938Z",
          "iopub.status.idle": "2023-12-07T15:38:57.224852Z",
          "shell.execute_reply.started": "2023-12-07T15:38:57.214884Z",
          "shell.execute_reply": "2023-12-07T15:38:57.222919Z"
        },
        "trusted": true,
        "id": "nkXyf7NLbg71"
      },
      "execution_count": null,
      "outputs": []
    },
    {
      "cell_type": "code",
      "source": [
        "def upper_confidence_bound(history: pd.DataFrame, balance: float = 1.0):\n",
        "    t = history['impressions'].sum()\n",
        "    exploitation_part = history['clicks'] / (history['impressions'] + 1)\n",
        "    exploration_part = np.sqrt(2 * np.log(t + 1) / (history['impressions'] + 1))\n",
        "\n",
        "    n = np.argmax(exploitation_part + balance * exploration_part)\n",
        "    return history.index[n]"
      ],
      "metadata": {
        "execution": {
          "iopub.status.busy": "2023-12-07T12:51:12.412390Z",
          "iopub.execute_input": "2023-12-07T12:51:12.412930Z",
          "iopub.status.idle": "2023-12-07T12:51:12.421568Z",
          "shell.execute_reply.started": "2023-12-07T12:51:12.412875Z",
          "shell.execute_reply": "2023-12-07T12:51:12.420323Z"
        },
        "trusted": true,
        "id": "s_kHqVavbg72"
      },
      "execution_count": null,
      "outputs": []
    },
    {
      "cell_type": "code",
      "source": [
        "# Создание DataFrame для хранения результатов тестирования\n",
        "results_df = pd.DataFrame(columns=['C_value', 'Regret', 'Avg_Regret_per_Round'])\n",
        "\n",
        "seed = 18475  # заданный сид\n",
        "np.random.seed(seed=seed)\n",
        "n_iterations = 200000\n",
        "\n",
        "# Тестирование с разными значениями C\n",
        "C_values = [0.001, 0.01, 0.1, 0.5, 1, 1.5]\n",
        "for C in C_values:\n",
        "    print(f\"Testing with C = {C}\")\n",
        "    policy = partial(ucb_policy, С=C)\n",
        "    output = simulation(policy, n=200000)\n",
        "    print(\"Regret:\", output['regret'])\n",
        "    print(\"Average Regret per Round:\", output['regret']/output['rounds'])\n",
        "\n",
        "    # Добавление результатов в DataFrame\n",
        "    new_row = {\n",
        "    'C_value': C,\n",
        "    'Regret': output['regret'],\n",
        "    'Avg_Regret_per_Round': output['regret'] / output['rounds']\n",
        "    }\n",
        "\n",
        "    results_df = pd.concat([results_df, pd.DataFrame([new_row])], ignore_index=True)\n",
        "    print(\"------------------------------------------------------\")\n"
      ],
      "metadata": {
        "execution": {
          "iopub.status.busy": "2023-12-07T13:12:08.088931Z",
          "iopub.execute_input": "2023-12-07T13:12:08.089417Z",
          "iopub.status.idle": "2023-12-07T14:24:08.628908Z",
          "shell.execute_reply.started": "2023-12-07T13:12:08.089380Z",
          "shell.execute_reply": "2023-12-07T14:24:08.627372Z"
        },
        "trusted": true,
        "id": "Wk4jOcIwbg72",
        "outputId": "3934f683-fa33-4476-aaa9-b0feaa06960c"
      },
      "execution_count": null,
      "outputs": [
        {
          "name": "stdout",
          "text": "Testing with C = 0.001\n1 impressions have been simulated\n10001 impressions have been simulated\n20001 impressions have been simulated\n30001 impressions have been simulated\n40001 impressions have been simulated\n50001 impressions have been simulated\n60001 impressions have been simulated\n70001 impressions have been simulated\n80001 impressions have been simulated\n90001 impressions have been simulated\n100001 impressions have been simulated\n110001 impressions have been simulated\n120001 impressions have been simulated\n130001 impressions have been simulated\n140001 impressions have been simulated\n150001 impressions have been simulated\n160001 impressions have been simulated\n170001 impressions have been simulated\n180001 impressions have been simulated\n190001 impressions have been simulated\nRegret: 10991.08166216789\nAverage Regret per Round: 0.05495540831083945\n------------------------------------------------------\nTesting with C = 0.01\n1 impressions have been simulated\n10001 impressions have been simulated\n20001 impressions have been simulated\n30001 impressions have been simulated\n40001 impressions have been simulated\n50001 impressions have been simulated\n60001 impressions have been simulated\n70001 impressions have been simulated\n80001 impressions have been simulated\n90001 impressions have been simulated\n100001 impressions have been simulated\n110001 impressions have been simulated\n120001 impressions have been simulated\n130001 impressions have been simulated\n140001 impressions have been simulated\n150001 impressions have been simulated\n160001 impressions have been simulated\n170001 impressions have been simulated\n180001 impressions have been simulated\n190001 impressions have been simulated\nRegret: 9180.312402885822\nAverage Regret per Round: 0.04590156201442911\n------------------------------------------------------\nTesting with C = 0.1\n1 impressions have been simulated\n10001 impressions have been simulated\n20001 impressions have been simulated\n30001 impressions have been simulated\n40001 impressions have been simulated\n50001 impressions have been simulated\n60001 impressions have been simulated\n70001 impressions have been simulated\n80001 impressions have been simulated\n90001 impressions have been simulated\n100001 impressions have been simulated\n110001 impressions have been simulated\n120001 impressions have been simulated\n130001 impressions have been simulated\n140001 impressions have been simulated\n150001 impressions have been simulated\n160001 impressions have been simulated\n170001 impressions have been simulated\n180001 impressions have been simulated\n190001 impressions have been simulated\nRegret: 894.1745432957832\nAverage Regret per Round: 0.004470872716478916\n------------------------------------------------------\nTesting with C = 0.5\n1 impressions have been simulated\n10001 impressions have been simulated\n20001 impressions have been simulated\n30001 impressions have been simulated\n40001 impressions have been simulated\n50001 impressions have been simulated\n60001 impressions have been simulated\n70001 impressions have been simulated\n80001 impressions have been simulated\n90001 impressions have been simulated\n100001 impressions have been simulated\n110001 impressions have been simulated\n120001 impressions have been simulated\n130001 impressions have been simulated\n140001 impressions have been simulated\n150001 impressions have been simulated\n160001 impressions have been simulated\n170001 impressions have been simulated\n180001 impressions have been simulated\n190001 impressions have been simulated\nRegret: 4910.055960284529\nAverage Regret per Round: 0.024550279801422645\n------------------------------------------------------\nTesting with C = 1\n1 impressions have been simulated\n10001 impressions have been simulated\n20001 impressions have been simulated\n30001 impressions have been simulated\n40001 impressions have been simulated\n50001 impressions have been simulated\n60001 impressions have been simulated\n70001 impressions have been simulated\n80001 impressions have been simulated\n90001 impressions have been simulated\n100001 impressions have been simulated\n110001 impressions have been simulated\n120001 impressions have been simulated\n130001 impressions have been simulated\n140001 impressions have been simulated\n150001 impressions have been simulated\n160001 impressions have been simulated\n170001 impressions have been simulated\n180001 impressions have been simulated\n190001 impressions have been simulated\nRegret: 9240.582094897336\nAverage Regret per Round: 0.04620291047448668\n------------------------------------------------------\nTesting with C = 1.5\n1 impressions have been simulated\n10001 impressions have been simulated\n20001 impressions have been simulated\n30001 impressions have been simulated\n40001 impressions have been simulated\n50001 impressions have been simulated\n60001 impressions have been simulated\n70001 impressions have been simulated\n80001 impressions have been simulated\n90001 impressions have been simulated\n100001 impressions have been simulated\n110001 impressions have been simulated\n120001 impressions have been simulated\n130001 impressions have been simulated\n140001 impressions have been simulated\n150001 impressions have been simulated\n160001 impressions have been simulated\n170001 impressions have been simulated\n180001 impressions have been simulated\n190001 impressions have been simulated\nRegret: 8914.231413253707\nAverage Regret per Round: 0.04457115706626853\n------------------------------------------------------\n",
          "output_type": "stream"
        }
      ]
    },
    {
      "cell_type": "code",
      "source": [
        "results_df"
      ],
      "metadata": {
        "execution": {
          "iopub.status.busy": "2023-12-07T14:37:58.038127Z",
          "iopub.execute_input": "2023-12-07T14:37:58.038605Z",
          "iopub.status.idle": "2023-12-07T14:37:58.051676Z",
          "shell.execute_reply.started": "2023-12-07T14:37:58.038570Z",
          "shell.execute_reply": "2023-12-07T14:37:58.050640Z"
        },
        "trusted": true,
        "id": "aylI0IdBbg73",
        "outputId": "01c9b6cc-e4d3-4df0-acb6-a74bc3c2d9ba"
      },
      "execution_count": null,
      "outputs": [
        {
          "execution_count": 23,
          "output_type": "execute_result",
          "data": {
            "text/plain": "   C_value        Regret  Avg_Regret_per_Round\n0    0.001  10991.081662              0.054955\n1    0.010   9180.312403              0.045902\n2    0.100    894.174543              0.004471\n3    0.500   4910.055960              0.024550\n4    1.000   9240.582095              0.046203\n5    1.500   8914.231413              0.044571",
            "text/html": "<div>\n<style scoped>\n    .dataframe tbody tr th:only-of-type {\n        vertical-align: middle;\n    }\n\n    .dataframe tbody tr th {\n        vertical-align: top;\n    }\n\n    .dataframe thead th {\n        text-align: right;\n    }\n</style>\n<table border=\"1\" class=\"dataframe\">\n  <thead>\n    <tr style=\"text-align: right;\">\n      <th></th>\n      <th>C_value</th>\n      <th>Regret</th>\n      <th>Avg_Regret_per_Round</th>\n    </tr>\n  </thead>\n  <tbody>\n    <tr>\n      <th>0</th>\n      <td>0.001</td>\n      <td>10991.081662</td>\n      <td>0.054955</td>\n    </tr>\n    <tr>\n      <th>1</th>\n      <td>0.010</td>\n      <td>9180.312403</td>\n      <td>0.045902</td>\n    </tr>\n    <tr>\n      <th>2</th>\n      <td>0.100</td>\n      <td>894.174543</td>\n      <td>0.004471</td>\n    </tr>\n    <tr>\n      <th>3</th>\n      <td>0.500</td>\n      <td>4910.055960</td>\n      <td>0.024550</td>\n    </tr>\n    <tr>\n      <th>4</th>\n      <td>1.000</td>\n      <td>9240.582095</td>\n      <td>0.046203</td>\n    </tr>\n    <tr>\n      <th>5</th>\n      <td>1.500</td>\n      <td>8914.231413</td>\n      <td>0.044571</td>\n    </tr>\n  </tbody>\n</table>\n</div>"
          },
          "metadata": {}
        }
      ]
    },
    {
      "cell_type": "markdown",
      "source": [
        "Только 0.1 бьет бейзлайл. Посмотрим окружение 0.1, возможно, найдутся значения лучше"
      ],
      "metadata": {
        "id": "f0h8kftfbg74"
      }
    },
    {
      "cell_type": "code",
      "source": [
        "# Создание DataFrame для хранения результатов тестирования\n",
        "results_df_2 = pd.DataFrame(columns=['C_value', 'Regret', 'Avg_Regret_per_Round'])\n",
        "\n",
        "seed = 18475  # заданный сид\n",
        "np.random.seed(seed=seed)\n",
        "n_iterations = 200000\n",
        "\n",
        "# Тестирование с разными значениями C\n",
        "C_values =  [0.08, 0.09, 0.1, 0.11, 0.12]\n",
        "for C in C_values:\n",
        "    print(f\"Testing with C = {C}\")\n",
        "    policy = partial(ucb_policy, С=C)\n",
        "    output = simulation(policy, n=200000)\n",
        "    print(\"Regret:\", output['regret'])\n",
        "    print(\"Average Regret per Round:\", output['regret']/output['rounds'])\n",
        "\n",
        "    # Добавление результатов в DataFrame\n",
        "    new_row = {\n",
        "    'C_value': C,\n",
        "    'Regret': output['regret'],\n",
        "    'Avg_Regret_per_Round': output['regret'] / output['rounds']\n",
        "    }\n",
        "\n",
        "    results_df_2 = pd.concat([results_df_2, pd.DataFrame([new_row])], ignore_index=True)\n",
        "    print(\"------------------------------------------------------\")\n"
      ],
      "metadata": {
        "execution": {
          "iopub.status.busy": "2023-12-07T16:17:28.220243Z",
          "iopub.execute_input": "2023-12-07T16:17:28.220686Z",
          "iopub.status.idle": "2023-12-07T17:15:30.868141Z",
          "shell.execute_reply.started": "2023-12-07T16:17:28.220653Z",
          "shell.execute_reply": "2023-12-07T17:15:30.866861Z"
        },
        "trusted": true,
        "id": "Ii3REp11bg74",
        "outputId": "58e89430-f407-4833-844a-f2f929e3daaa"
      },
      "execution_count": null,
      "outputs": [
        {
          "name": "stdout",
          "text": "Testing with C = 0.08\n1 impressions have been simulated\n10001 impressions have been simulated\n20001 impressions have been simulated\n30001 impressions have been simulated\n40001 impressions have been simulated\n50001 impressions have been simulated\n60001 impressions have been simulated\n70001 impressions have been simulated\n80001 impressions have been simulated\n90001 impressions have been simulated\n100001 impressions have been simulated\n110001 impressions have been simulated\n120001 impressions have been simulated\n130001 impressions have been simulated\n140001 impressions have been simulated\n150001 impressions have been simulated\n160001 impressions have been simulated\n170001 impressions have been simulated\n180001 impressions have been simulated\n190001 impressions have been simulated\nRegret: 1463.2741292503472\nAverage Regret per Round: 0.007316370646251736\n------------------------------------------------------\nTesting with C = 0.09\n1 impressions have been simulated\n10001 impressions have been simulated\n20001 impressions have been simulated\n30001 impressions have been simulated\n40001 impressions have been simulated\n50001 impressions have been simulated\n60001 impressions have been simulated\n70001 impressions have been simulated\n80001 impressions have been simulated\n90001 impressions have been simulated\n100001 impressions have been simulated\n110001 impressions have been simulated\n120001 impressions have been simulated\n130001 impressions have been simulated\n140001 impressions have been simulated\n150001 impressions have been simulated\n160001 impressions have been simulated\n170001 impressions have been simulated\n180001 impressions have been simulated\n190001 impressions have been simulated\nRegret: 1403.3224281192483\nAverage Regret per Round: 0.0070166121405962414\n------------------------------------------------------\nTesting with C = 0.1\n1 impressions have been simulated\n10001 impressions have been simulated\n20001 impressions have been simulated\n30001 impressions have been simulated\n40001 impressions have been simulated\n50001 impressions have been simulated\n60001 impressions have been simulated\n70001 impressions have been simulated\n80001 impressions have been simulated\n90001 impressions have been simulated\n100001 impressions have been simulated\n110001 impressions have been simulated\n120001 impressions have been simulated\n130001 impressions have been simulated\n140001 impressions have been simulated\n150001 impressions have been simulated\n160001 impressions have been simulated\n170001 impressions have been simulated\n180001 impressions have been simulated\n190001 impressions have been simulated\nRegret: 894.1745432957832\nAverage Regret per Round: 0.004470872716478916\n------------------------------------------------------\nTesting with C = 0.11\n1 impressions have been simulated\n10001 impressions have been simulated\n20001 impressions have been simulated\n30001 impressions have been simulated\n40001 impressions have been simulated\n50001 impressions have been simulated\n60001 impressions have been simulated\n70001 impressions have been simulated\n80001 impressions have been simulated\n90001 impressions have been simulated\n100001 impressions have been simulated\n110001 impressions have been simulated\n120001 impressions have been simulated\n130001 impressions have been simulated\n140001 impressions have been simulated\n150001 impressions have been simulated\n160001 impressions have been simulated\n170001 impressions have been simulated\n180001 impressions have been simulated\n190001 impressions have been simulated\nRegret: 790.4304487657686\nAverage Regret per Round: 0.003952152243828843\n------------------------------------------------------\nTesting with C = 0.12\n1 impressions have been simulated\n10001 impressions have been simulated\n20001 impressions have been simulated\n30001 impressions have been simulated\n40001 impressions have been simulated\n50001 impressions have been simulated\n60001 impressions have been simulated\n70001 impressions have been simulated\n80001 impressions have been simulated\n90001 impressions have been simulated\n100001 impressions have been simulated\n110001 impressions have been simulated\n120001 impressions have been simulated\n130001 impressions have been simulated\n140001 impressions have been simulated\n150001 impressions have been simulated\n160001 impressions have been simulated\n170001 impressions have been simulated\n180001 impressions have been simulated\n190001 impressions have been simulated\nRegret: 575.545873553797\nAverage Regret per Round: 0.0028777293677689853\n------------------------------------------------------\n",
          "output_type": "stream"
        }
      ]
    },
    {
      "cell_type": "code",
      "source": [
        "results_df_2"
      ],
      "metadata": {
        "execution": {
          "iopub.status.busy": "2023-12-07T17:16:20.773265Z",
          "iopub.execute_input": "2023-12-07T17:16:20.773684Z",
          "iopub.status.idle": "2023-12-07T17:16:20.786324Z",
          "shell.execute_reply.started": "2023-12-07T17:16:20.773655Z",
          "shell.execute_reply": "2023-12-07T17:16:20.785064Z"
        },
        "trusted": true,
        "id": "XIrsrWICbg75",
        "outputId": "a4afd27d-5050-4299-a024-a3adab2762c3"
      },
      "execution_count": null,
      "outputs": [
        {
          "execution_count": 33,
          "output_type": "execute_result",
          "data": {
            "text/plain": "   C_value       Regret  Avg_Regret_per_Round\n0     0.08  1463.274129              0.007316\n1     0.09  1403.322428              0.007017\n2     0.10   894.174543              0.004471\n3     0.11   790.430449              0.003952\n4     0.12   575.545874              0.002878",
            "text/html": "<div>\n<style scoped>\n    .dataframe tbody tr th:only-of-type {\n        vertical-align: middle;\n    }\n\n    .dataframe tbody tr th {\n        vertical-align: top;\n    }\n\n    .dataframe thead th {\n        text-align: right;\n    }\n</style>\n<table border=\"1\" class=\"dataframe\">\n  <thead>\n    <tr style=\"text-align: right;\">\n      <th></th>\n      <th>C_value</th>\n      <th>Regret</th>\n      <th>Avg_Regret_per_Round</th>\n    </tr>\n  </thead>\n  <tbody>\n    <tr>\n      <th>0</th>\n      <td>0.08</td>\n      <td>1463.274129</td>\n      <td>0.007316</td>\n    </tr>\n    <tr>\n      <th>1</th>\n      <td>0.09</td>\n      <td>1403.322428</td>\n      <td>0.007017</td>\n    </tr>\n    <tr>\n      <th>2</th>\n      <td>0.10</td>\n      <td>894.174543</td>\n      <td>0.004471</td>\n    </tr>\n    <tr>\n      <th>3</th>\n      <td>0.11</td>\n      <td>790.430449</td>\n      <td>0.003952</td>\n    </tr>\n    <tr>\n      <th>4</th>\n      <td>0.12</td>\n      <td>575.545874</td>\n      <td>0.002878</td>\n    </tr>\n  </tbody>\n</table>\n</div>"
          },
          "metadata": {}
        }
      ]
    },
    {
      "cell_type": "markdown",
      "source": [
        "Можем продолжить и посмотрим после 0.12"
      ],
      "metadata": {
        "id": "9v0VTO2Lbg76"
      }
    },
    {
      "cell_type": "code",
      "source": [
        "# Создание DataFrame для хранения результатов тестирования\n",
        "results_df_3 = pd.DataFrame(columns=['C_value', 'Regret', 'Avg_Regret_per_Round'])\n",
        "\n",
        "seed = 18475  # заданный сид\n",
        "np.random.seed(seed=seed)\n",
        "n_iterations = 200000\n",
        "\n",
        "# Тестирование с разными значениями C\n",
        "C_values =  [0.13, 0.14, 0.15]\n",
        "for C in C_values:\n",
        "    print(f\"Testing with C = {C}\")\n",
        "    policy = partial(ucb_policy, С=C)\n",
        "    output = simulation(policy, n=200000)\n",
        "    print(\"Regret:\", output['regret'])\n",
        "    print(\"Average Regret per Round:\", output['regret']/output['rounds'])\n",
        "\n",
        "    # Добавление результатов в DataFrame\n",
        "    new_row = {\n",
        "    'C_value': C,\n",
        "    'Regret': output['regret'],\n",
        "    'Avg_Regret_per_Round': output['regret'] / output['rounds']\n",
        "    }\n",
        "\n",
        "    results_df_3 = pd.concat([results_df_3, pd.DataFrame([new_row])], ignore_index=True)\n",
        "    print(\"------------------------------------------------------\")\n"
      ],
      "metadata": {
        "execution": {
          "iopub.status.busy": "2023-12-07T17:19:44.757801Z",
          "iopub.execute_input": "2023-12-07T17:19:44.758379Z",
          "iopub.status.idle": "2023-12-07T17:57:26.150415Z",
          "shell.execute_reply.started": "2023-12-07T17:19:44.758333Z",
          "shell.execute_reply": "2023-12-07T17:57:26.149267Z"
        },
        "trusted": true,
        "id": "40xEt8kbbg76",
        "outputId": "f7d3add7-8726-4cb9-a3e9-2b1f6c35f591"
      },
      "execution_count": null,
      "outputs": [
        {
          "name": "stdout",
          "text": "Testing with C = 0.13\n1 impressions have been simulated\n10001 impressions have been simulated\n20001 impressions have been simulated\n30001 impressions have been simulated\n40001 impressions have been simulated\n50001 impressions have been simulated\n60001 impressions have been simulated\n70001 impressions have been simulated\n80001 impressions have been simulated\n90001 impressions have been simulated\n100001 impressions have been simulated\n110001 impressions have been simulated\n120001 impressions have been simulated\n130001 impressions have been simulated\n140001 impressions have been simulated\n150001 impressions have been simulated\n160001 impressions have been simulated\n170001 impressions have been simulated\n180001 impressions have been simulated\n190001 impressions have been simulated\nRegret: 853.3820805268102\nAverage Regret per Round: 0.004266910402634051\n------------------------------------------------------\nTesting with C = 0.14\n1 impressions have been simulated\n10001 impressions have been simulated\n20001 impressions have been simulated\n30001 impressions have been simulated\n40001 impressions have been simulated\n50001 impressions have been simulated\n60001 impressions have been simulated\n70001 impressions have been simulated\n80001 impressions have been simulated\n90001 impressions have been simulated\n100001 impressions have been simulated\n110001 impressions have been simulated\n120001 impressions have been simulated\n130001 impressions have been simulated\n140001 impressions have been simulated\n150001 impressions have been simulated\n160001 impressions have been simulated\n170001 impressions have been simulated\n180001 impressions have been simulated\n190001 impressions have been simulated\nRegret: 874.9359609763535\nAverage Regret per Round: 0.004374679804881767\n------------------------------------------------------\nTesting with C = 0.15\n1 impressions have been simulated\n10001 impressions have been simulated\n20001 impressions have been simulated\n30001 impressions have been simulated\n40001 impressions have been simulated\n50001 impressions have been simulated\n60001 impressions have been simulated\n70001 impressions have been simulated\n80001 impressions have been simulated\n90001 impressions have been simulated\n100001 impressions have been simulated\n110001 impressions have been simulated\n120001 impressions have been simulated\n130001 impressions have been simulated\n140001 impressions have been simulated\n150001 impressions have been simulated\n160001 impressions have been simulated\n170001 impressions have been simulated\n180001 impressions have been simulated\n190001 impressions have been simulated\nRegret: 1114.057757532251\nAverage Regret per Round: 0.005570288787661254\n------------------------------------------------------\n",
          "output_type": "stream"
        }
      ]
    },
    {
      "cell_type": "code",
      "source": [
        "results_df_3"
      ],
      "metadata": {
        "execution": {
          "iopub.status.busy": "2023-12-07T17:57:30.417847Z",
          "iopub.execute_input": "2023-12-07T17:57:30.418269Z",
          "iopub.status.idle": "2023-12-07T17:57:30.430719Z",
          "shell.execute_reply.started": "2023-12-07T17:57:30.418238Z",
          "shell.execute_reply": "2023-12-07T17:57:30.429895Z"
        },
        "trusted": true,
        "id": "7Q-v_2kNbg77",
        "outputId": "33e72de6-a5c2-4768-c9a1-48672c7c65fc"
      },
      "execution_count": null,
      "outputs": [
        {
          "execution_count": 36,
          "output_type": "execute_result",
          "data": {
            "text/plain": "   C_value       Regret  Avg_Regret_per_Round\n0     0.13   853.382081              0.004267\n1     0.14   874.935961              0.004375\n2     0.15  1114.057758              0.005570",
            "text/html": "<div>\n<style scoped>\n    .dataframe tbody tr th:only-of-type {\n        vertical-align: middle;\n    }\n\n    .dataframe tbody tr th {\n        vertical-align: top;\n    }\n\n    .dataframe thead th {\n        text-align: right;\n    }\n</style>\n<table border=\"1\" class=\"dataframe\">\n  <thead>\n    <tr style=\"text-align: right;\">\n      <th></th>\n      <th>C_value</th>\n      <th>Regret</th>\n      <th>Avg_Regret_per_Round</th>\n    </tr>\n  </thead>\n  <tbody>\n    <tr>\n      <th>0</th>\n      <td>0.13</td>\n      <td>853.382081</td>\n      <td>0.004267</td>\n    </tr>\n    <tr>\n      <th>1</th>\n      <td>0.14</td>\n      <td>874.935961</td>\n      <td>0.004375</td>\n    </tr>\n    <tr>\n      <th>2</th>\n      <td>0.15</td>\n      <td>1114.057758</td>\n      <td>0.005570</td>\n    </tr>\n  </tbody>\n</table>\n</div>"
          },
          "metadata": {}
        }
      ]
    },
    {
      "cell_type": "markdown",
      "source": [
        "После 0.12 показатель увеличивается\n",
        "\n",
        "Итого:\n",
        "\n",
        "C = 0.12 побил бейзлайн\n",
        "\n",
        "Regret: 575.545 против 1540.761\n"
      ],
      "metadata": {
        "id": "wSds0Hrxbg78"
      }
    },
    {
      "cell_type": "code",
      "source": [],
      "metadata": {
        "id": "wVpjGk-Fbg79"
      },
      "execution_count": null,
      "outputs": []
    }
  ]
}