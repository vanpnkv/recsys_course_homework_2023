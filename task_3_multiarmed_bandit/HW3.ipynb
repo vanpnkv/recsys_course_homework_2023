{
  "cells": [
    {
      "cell_type": "code",
      "execution_count": 2,
      "metadata": {
        "id": "EKcMXGLfxUwo"
      },
      "outputs": [],
      "source": [
        "import numpy as np\n",
        "import pandas as pd\n",
        "import time\n",
        "from functools import partial\n",
        "\n",
        "from scipy.stats import randint, uniform\n",
        "from sim_lib import simulation\n",
        "\n",
        "pd.options.mode.chained_assignment = None\n"
      ]
    },
    {
      "cell_type": "code",
      "execution_count": 3,
      "metadata": {
        "id": "sefoDJs_xUwt"
      },
      "outputs": [],
      "source": [
        "def eps_greedy(history: pd.DataFrame, eps: float):\n",
        "    if uniform.rvs() < eps:\n",
        "        n = history.shape[0]\n",
        "        return history.index[randint.rvs(0, n)]\n",
        "\n",
        "    ctr = history['clicks'] / (history['impressions'] + 10)\n",
        "    n = np.argmax(ctr)\n",
        "    return history.index[n]\n",
        "\n",
        "policy = partial(eps_greedy, eps=0.06)"
      ]
    },
    {
      "cell_type": "code",
      "execution_count": 4,
      "metadata": {
        "colab": {
          "base_uri": "https://localhost:8080/"
        },
        "id": "KXAoOI-ExUwu",
        "outputId": "1b661692-3a90-4fb4-da08-726757622fb3"
      },
      "outputs": [
        {
          "output_type": "stream",
          "name": "stdout",
          "text": [
            "1 impressions have been simulated\n",
            "10001 impressions have been simulated\n",
            "20001 impressions have been simulated\n",
            "30001 impressions have been simulated\n",
            "40001 impressions have been simulated\n",
            "50001 impressions have been simulated\n",
            "60001 impressions have been simulated\n",
            "70001 impressions have been simulated\n",
            "80001 impressions have been simulated\n",
            "90001 impressions have been simulated\n",
            "100001 impressions have been simulated\n",
            "110001 impressions have been simulated\n",
            "120001 impressions have been simulated\n",
            "130001 impressions have been simulated\n",
            "140001 impressions have been simulated\n",
            "150001 impressions have been simulated\n",
            "160001 impressions have been simulated\n",
            "170001 impressions have been simulated\n",
            "180001 impressions have been simulated\n",
            "190001 impressions have been simulated\n"
          ]
        },
        {
          "output_type": "execute_result",
          "data": {
            "text/plain": [
              "607.1075055599213"
            ]
          },
          "metadata": {},
          "execution_count": 4
        }
      ],
      "source": [
        "# seed for homework\n",
        "seed = 18475\n",
        "np.random.seed(seed=seed)\n",
        "\n",
        "start = time.time()\n",
        "output = simulation(policy, n=200000, seed=seed)\n",
        "end = time.time()\n",
        "end - start"
      ]
    },
    {
      "cell_type": "code",
      "execution_count": 5,
      "metadata": {
        "colab": {
          "base_uri": "https://localhost:8080/"
        },
        "id": "GunIEhw5xUww",
        "outputId": "1554a762-74d1-467e-ff22-af75e39451fb"
      },
      "outputs": [
        {
          "output_type": "execute_result",
          "data": {
            "text/plain": [
              "(1540.7609683932544, 0.007703804841966272, 184)"
            ]
          },
          "metadata": {},
          "execution_count": 5
        }
      ],
      "source": [
        "# baseline regret\n",
        "output['regret'], output['regret']/output['rounds'],  output['total_banners']"
      ]
    },
    {
      "cell_type": "code",
      "execution_count": 6,
      "metadata": {
        "colab": {
          "base_uri": "https://localhost:8080/",
          "height": 269
        },
        "id": "NhL5ooxbxUwx",
        "outputId": "e83284be-fb88-41ae-80d2-56a88a33dbe7"
      },
      "outputs": [
        {
          "output_type": "execute_result",
          "data": {
            "text/plain": [
              "     impressions  clicks      lifetime         p\n",
              "153      18970.0  4199.0  18003.025431  0.220134\n",
              "162        228.0    26.0   1537.166719  0.113780\n",
              "172        163.0    32.0  19648.592394  0.219968\n",
              "173        170.0    18.0  12771.474990  0.122694\n",
              "180         26.0     3.0   4655.819793  0.020061\n",
              "182          6.0     0.0    889.624649  0.004621\n",
              "183          1.0     0.0  15187.163761  0.073886"
            ],
            "text/html": [
              "\n",
              "  <div id=\"df-36a4aa6c-95a8-4206-bbe5-d038ff090cb6\" class=\"colab-df-container\">\n",
              "    <div>\n",
              "<style scoped>\n",
              "    .dataframe tbody tr th:only-of-type {\n",
              "        vertical-align: middle;\n",
              "    }\n",
              "\n",
              "    .dataframe tbody tr th {\n",
              "        vertical-align: top;\n",
              "    }\n",
              "\n",
              "    .dataframe thead th {\n",
              "        text-align: right;\n",
              "    }\n",
              "</style>\n",
              "<table border=\"1\" class=\"dataframe\">\n",
              "  <thead>\n",
              "    <tr style=\"text-align: right;\">\n",
              "      <th></th>\n",
              "      <th>impressions</th>\n",
              "      <th>clicks</th>\n",
              "      <th>lifetime</th>\n",
              "      <th>p</th>\n",
              "    </tr>\n",
              "  </thead>\n",
              "  <tbody>\n",
              "    <tr>\n",
              "      <th>153</th>\n",
              "      <td>18970.0</td>\n",
              "      <td>4199.0</td>\n",
              "      <td>18003.025431</td>\n",
              "      <td>0.220134</td>\n",
              "    </tr>\n",
              "    <tr>\n",
              "      <th>162</th>\n",
              "      <td>228.0</td>\n",
              "      <td>26.0</td>\n",
              "      <td>1537.166719</td>\n",
              "      <td>0.113780</td>\n",
              "    </tr>\n",
              "    <tr>\n",
              "      <th>172</th>\n",
              "      <td>163.0</td>\n",
              "      <td>32.0</td>\n",
              "      <td>19648.592394</td>\n",
              "      <td>0.219968</td>\n",
              "    </tr>\n",
              "    <tr>\n",
              "      <th>173</th>\n",
              "      <td>170.0</td>\n",
              "      <td>18.0</td>\n",
              "      <td>12771.474990</td>\n",
              "      <td>0.122694</td>\n",
              "    </tr>\n",
              "    <tr>\n",
              "      <th>180</th>\n",
              "      <td>26.0</td>\n",
              "      <td>3.0</td>\n",
              "      <td>4655.819793</td>\n",
              "      <td>0.020061</td>\n",
              "    </tr>\n",
              "    <tr>\n",
              "      <th>182</th>\n",
              "      <td>6.0</td>\n",
              "      <td>0.0</td>\n",
              "      <td>889.624649</td>\n",
              "      <td>0.004621</td>\n",
              "    </tr>\n",
              "    <tr>\n",
              "      <th>183</th>\n",
              "      <td>1.0</td>\n",
              "      <td>0.0</td>\n",
              "      <td>15187.163761</td>\n",
              "      <td>0.073886</td>\n",
              "    </tr>\n",
              "  </tbody>\n",
              "</table>\n",
              "</div>\n",
              "    <div class=\"colab-df-buttons\">\n",
              "\n",
              "  <div class=\"colab-df-container\">\n",
              "    <button class=\"colab-df-convert\" onclick=\"convertToInteractive('df-36a4aa6c-95a8-4206-bbe5-d038ff090cb6')\"\n",
              "            title=\"Convert this dataframe to an interactive table.\"\n",
              "            style=\"display:none;\">\n",
              "\n",
              "  <svg xmlns=\"http://www.w3.org/2000/svg\" height=\"24px\" viewBox=\"0 -960 960 960\">\n",
              "    <path d=\"M120-120v-720h720v720H120Zm60-500h600v-160H180v160Zm220 220h160v-160H400v160Zm0 220h160v-160H400v160ZM180-400h160v-160H180v160Zm440 0h160v-160H620v160ZM180-180h160v-160H180v160Zm440 0h160v-160H620v160Z\"/>\n",
              "  </svg>\n",
              "    </button>\n",
              "\n",
              "  <style>\n",
              "    .colab-df-container {\n",
              "      display:flex;\n",
              "      gap: 12px;\n",
              "    }\n",
              "\n",
              "    .colab-df-convert {\n",
              "      background-color: #E8F0FE;\n",
              "      border: none;\n",
              "      border-radius: 50%;\n",
              "      cursor: pointer;\n",
              "      display: none;\n",
              "      fill: #1967D2;\n",
              "      height: 32px;\n",
              "      padding: 0 0 0 0;\n",
              "      width: 32px;\n",
              "    }\n",
              "\n",
              "    .colab-df-convert:hover {\n",
              "      background-color: #E2EBFA;\n",
              "      box-shadow: 0px 1px 2px rgba(60, 64, 67, 0.3), 0px 1px 3px 1px rgba(60, 64, 67, 0.15);\n",
              "      fill: #174EA6;\n",
              "    }\n",
              "\n",
              "    .colab-df-buttons div {\n",
              "      margin-bottom: 4px;\n",
              "    }\n",
              "\n",
              "    [theme=dark] .colab-df-convert {\n",
              "      background-color: #3B4455;\n",
              "      fill: #D2E3FC;\n",
              "    }\n",
              "\n",
              "    [theme=dark] .colab-df-convert:hover {\n",
              "      background-color: #434B5C;\n",
              "      box-shadow: 0px 1px 3px 1px rgba(0, 0, 0, 0.15);\n",
              "      filter: drop-shadow(0px 1px 2px rgba(0, 0, 0, 0.3));\n",
              "      fill: #FFFFFF;\n",
              "    }\n",
              "  </style>\n",
              "\n",
              "    <script>\n",
              "      const buttonEl =\n",
              "        document.querySelector('#df-36a4aa6c-95a8-4206-bbe5-d038ff090cb6 button.colab-df-convert');\n",
              "      buttonEl.style.display =\n",
              "        google.colab.kernel.accessAllowed ? 'block' : 'none';\n",
              "\n",
              "      async function convertToInteractive(key) {\n",
              "        const element = document.querySelector('#df-36a4aa6c-95a8-4206-bbe5-d038ff090cb6');\n",
              "        const dataTable =\n",
              "          await google.colab.kernel.invokeFunction('convertToInteractive',\n",
              "                                                    [key], {});\n",
              "        if (!dataTable) return;\n",
              "\n",
              "        const docLinkHtml = 'Like what you see? Visit the ' +\n",
              "          '<a target=\"_blank\" href=https://colab.research.google.com/notebooks/data_table.ipynb>data table notebook</a>'\n",
              "          + ' to learn more about interactive tables.';\n",
              "        element.innerHTML = '';\n",
              "        dataTable['output_type'] = 'display_data';\n",
              "        await google.colab.output.renderOutput(dataTable, element);\n",
              "        const docLink = document.createElement('div');\n",
              "        docLink.innerHTML = docLinkHtml;\n",
              "        element.appendChild(docLink);\n",
              "      }\n",
              "    </script>\n",
              "  </div>\n",
              "\n",
              "\n",
              "<div id=\"df-d234cab5-5bce-40dc-8b68-4d358a1502e6\">\n",
              "  <button class=\"colab-df-quickchart\" onclick=\"quickchart('df-d234cab5-5bce-40dc-8b68-4d358a1502e6')\"\n",
              "            title=\"Suggest charts\"\n",
              "            style=\"display:none;\">\n",
              "\n",
              "<svg xmlns=\"http://www.w3.org/2000/svg\" height=\"24px\"viewBox=\"0 0 24 24\"\n",
              "     width=\"24px\">\n",
              "    <g>\n",
              "        <path d=\"M19 3H5c-1.1 0-2 .9-2 2v14c0 1.1.9 2 2 2h14c1.1 0 2-.9 2-2V5c0-1.1-.9-2-2-2zM9 17H7v-7h2v7zm4 0h-2V7h2v10zm4 0h-2v-4h2v4z\"/>\n",
              "    </g>\n",
              "</svg>\n",
              "  </button>\n",
              "\n",
              "<style>\n",
              "  .colab-df-quickchart {\n",
              "      --bg-color: #E8F0FE;\n",
              "      --fill-color: #1967D2;\n",
              "      --hover-bg-color: #E2EBFA;\n",
              "      --hover-fill-color: #174EA6;\n",
              "      --disabled-fill-color: #AAA;\n",
              "      --disabled-bg-color: #DDD;\n",
              "  }\n",
              "\n",
              "  [theme=dark] .colab-df-quickchart {\n",
              "      --bg-color: #3B4455;\n",
              "      --fill-color: #D2E3FC;\n",
              "      --hover-bg-color: #434B5C;\n",
              "      --hover-fill-color: #FFFFFF;\n",
              "      --disabled-bg-color: #3B4455;\n",
              "      --disabled-fill-color: #666;\n",
              "  }\n",
              "\n",
              "  .colab-df-quickchart {\n",
              "    background-color: var(--bg-color);\n",
              "    border: none;\n",
              "    border-radius: 50%;\n",
              "    cursor: pointer;\n",
              "    display: none;\n",
              "    fill: var(--fill-color);\n",
              "    height: 32px;\n",
              "    padding: 0;\n",
              "    width: 32px;\n",
              "  }\n",
              "\n",
              "  .colab-df-quickchart:hover {\n",
              "    background-color: var(--hover-bg-color);\n",
              "    box-shadow: 0 1px 2px rgba(60, 64, 67, 0.3), 0 1px 3px 1px rgba(60, 64, 67, 0.15);\n",
              "    fill: var(--button-hover-fill-color);\n",
              "  }\n",
              "\n",
              "  .colab-df-quickchart-complete:disabled,\n",
              "  .colab-df-quickchart-complete:disabled:hover {\n",
              "    background-color: var(--disabled-bg-color);\n",
              "    fill: var(--disabled-fill-color);\n",
              "    box-shadow: none;\n",
              "  }\n",
              "\n",
              "  .colab-df-spinner {\n",
              "    border: 2px solid var(--fill-color);\n",
              "    border-color: transparent;\n",
              "    border-bottom-color: var(--fill-color);\n",
              "    animation:\n",
              "      spin 1s steps(1) infinite;\n",
              "  }\n",
              "\n",
              "  @keyframes spin {\n",
              "    0% {\n",
              "      border-color: transparent;\n",
              "      border-bottom-color: var(--fill-color);\n",
              "      border-left-color: var(--fill-color);\n",
              "    }\n",
              "    20% {\n",
              "      border-color: transparent;\n",
              "      border-left-color: var(--fill-color);\n",
              "      border-top-color: var(--fill-color);\n",
              "    }\n",
              "    30% {\n",
              "      border-color: transparent;\n",
              "      border-left-color: var(--fill-color);\n",
              "      border-top-color: var(--fill-color);\n",
              "      border-right-color: var(--fill-color);\n",
              "    }\n",
              "    40% {\n",
              "      border-color: transparent;\n",
              "      border-right-color: var(--fill-color);\n",
              "      border-top-color: var(--fill-color);\n",
              "    }\n",
              "    60% {\n",
              "      border-color: transparent;\n",
              "      border-right-color: var(--fill-color);\n",
              "    }\n",
              "    80% {\n",
              "      border-color: transparent;\n",
              "      border-right-color: var(--fill-color);\n",
              "      border-bottom-color: var(--fill-color);\n",
              "    }\n",
              "    90% {\n",
              "      border-color: transparent;\n",
              "      border-bottom-color: var(--fill-color);\n",
              "    }\n",
              "  }\n",
              "</style>\n",
              "\n",
              "  <script>\n",
              "    async function quickchart(key) {\n",
              "      const quickchartButtonEl =\n",
              "        document.querySelector('#' + key + ' button');\n",
              "      quickchartButtonEl.disabled = true;  // To prevent multiple clicks.\n",
              "      quickchartButtonEl.classList.add('colab-df-spinner');\n",
              "      try {\n",
              "        const charts = await google.colab.kernel.invokeFunction(\n",
              "            'suggestCharts', [key], {});\n",
              "      } catch (error) {\n",
              "        console.error('Error during call to suggestCharts:', error);\n",
              "      }\n",
              "      quickchartButtonEl.classList.remove('colab-df-spinner');\n",
              "      quickchartButtonEl.classList.add('colab-df-quickchart-complete');\n",
              "    }\n",
              "    (() => {\n",
              "      let quickchartButtonEl =\n",
              "        document.querySelector('#df-d234cab5-5bce-40dc-8b68-4d358a1502e6 button');\n",
              "      quickchartButtonEl.style.display =\n",
              "        google.colab.kernel.accessAllowed ? 'block' : 'none';\n",
              "    })();\n",
              "  </script>\n",
              "</div>\n",
              "    </div>\n",
              "  </div>\n"
            ]
          },
          "metadata": {},
          "execution_count": 6
        }
      ],
      "source": [
        "output['history']"
      ]
    },
    {
      "cell_type": "markdown",
      "source": [
        "# Upper confidence bound"
      ],
      "metadata": {
        "id": "wCQA6Jpdz8ev"
      }
    },
    {
      "cell_type": "code",
      "source": [
        "class UpperConfidenceBound:\n",
        "    def __init__(self, tradeoff):\n",
        "        self.tradeoff = tradeoff\n",
        "        self.t = 0\n",
        "\n",
        "    def __call__(self, history: pd.DataFrame):\n",
        "        self.t += 1\n",
        "        exploitation = history['clicks'] / (history['impressions'] + 1)\n",
        "        exploration = np.sqrt(np.log(self.t) / (history['impressions'] + 1))\n",
        "        i = np.argmax(exploitation + self.tradeoff * exploration)\n",
        "        return history.index[i]"
      ],
      "metadata": {
        "id": "4H5T8mw1z42n"
      },
      "execution_count": 7,
      "outputs": []
    },
    {
      "cell_type": "markdown",
      "source": [
        "С помощью Grid Search, оптимизируем tradeoff. Симуляция будем проводить по 50000, чтобы побыстрее найти баланс"
      ],
      "metadata": {
        "id": "z_w5p0ya4oC0"
      }
    },
    {
      "cell_type": "code",
      "execution_count": 8,
      "metadata": {
        "colab": {
          "base_uri": "https://localhost:8080/"
        },
        "id": "tNBrIYpkxUwy",
        "outputId": "8a3e5e99-0841-464c-99e3-be36225d7f4d"
      },
      "outputs": [
        {
          "output_type": "stream",
          "name": "stdout",
          "text": [
            "1 impressions have been simulated\n",
            "10001 impressions have been simulated\n",
            "20001 impressions have been simulated\n",
            "30001 impressions have been simulated\n",
            "40001 impressions have been simulated\n",
            "tradeoff=0.0 result=(4347.373087493353, 0.08694746174986705, 52) time 183.82172966003418\n",
            "1 impressions have been simulated\n",
            "10001 impressions have been simulated\n",
            "20001 impressions have been simulated\n",
            "30001 impressions have been simulated\n",
            "40001 impressions have been simulated\n",
            "tradeoff=0.25 result=(188.49624262724933, 0.0037699248525449864, 52) time 180.10674333572388\n",
            "1 impressions have been simulated\n",
            "10001 impressions have been simulated\n",
            "20001 impressions have been simulated\n",
            "30001 impressions have been simulated\n",
            "40001 impressions have been simulated\n",
            "tradeoff=0.5 result=(553.0571392630012, 0.011061142785260025, 52) time 179.22453451156616\n",
            "1 impressions have been simulated\n",
            "10001 impressions have been simulated\n",
            "20001 impressions have been simulated\n",
            "30001 impressions have been simulated\n",
            "40001 impressions have been simulated\n",
            "tradeoff=0.75 result=(1032.0325496431142, 0.020640650992862282, 52) time 181.5058434009552\n",
            "1 impressions have been simulated\n",
            "10001 impressions have been simulated\n",
            "20001 impressions have been simulated\n",
            "30001 impressions have been simulated\n",
            "40001 impressions have been simulated\n",
            "tradeoff=1.0 result=(1507.6829025975196, 0.030153658051950392, 52) time 189.7253715991974\n"
          ]
        }
      ],
      "source": [
        "for tradeoff in [0.0, 0.25, 0.5, 0.75, 1.0]:\n",
        "    np.random.seed(seed=seed)\n",
        "    start = time.time()\n",
        "    output = simulation(UpperConfidenceBound(tradeoff), n=50000, seed=seed)\n",
        "    end = time.time()\n",
        "    print(f\"tradeoff={tradeoff} result={output['regret'], output['regret']/output['rounds'],  output['total_banners']} time {end - start}\")\n"
      ]
    },
    {
      "cell_type": "markdown",
      "source": [
        "Лучший регрет 188 при трейдофе 0.25 на данном этапе. Проверим близкие значения."
      ],
      "metadata": {
        "id": "O13rheBP8xxa"
      }
    },
    {
      "cell_type": "code",
      "source": [
        "for tradeoff in [0.05, 0.15, 0.35]:\n",
        "    np.random.seed(seed=seed)\n",
        "    start = time.time()\n",
        "    output = simulation(UpperConfidenceBound(tradeoff), n=50000, seed=seed)\n",
        "    end = time.time()\n",
        "    print(f\"tradeoff={tradeoff} result={output['regret'], output['regret']/output['rounds'],  output['total_banners']} time {end - start}\")\n"
      ],
      "metadata": {
        "colab": {
          "base_uri": "https://localhost:8080/"
        },
        "id": "I87VEVHE6aZq",
        "outputId": "b4b5c8cb-a1b6-4472-fe87-72952274209f"
      },
      "execution_count": 9,
      "outputs": [
        {
          "output_type": "stream",
          "name": "stdout",
          "text": [
            "1 impressions have been simulated\n",
            "10001 impressions have been simulated\n",
            "20001 impressions have been simulated\n",
            "30001 impressions have been simulated\n",
            "40001 impressions have been simulated\n",
            "tradeoff=0.05 result=(1354.0384005915591, 0.027080768011831183, 52) time 181.20058965682983\n",
            "1 impressions have been simulated\n",
            "10001 impressions have been simulated\n",
            "20001 impressions have been simulated\n",
            "30001 impressions have been simulated\n",
            "40001 impressions have been simulated\n",
            "tradeoff=0.15 result=(69.92987091948771, 0.0013985974183897542, 52) time 183.04944682121277\n",
            "1 impressions have been simulated\n",
            "10001 impressions have been simulated\n",
            "20001 impressions have been simulated\n",
            "30001 impressions have been simulated\n",
            "40001 impressions have been simulated\n",
            "tradeoff=0.35 result=(333.23838142807404, 0.006664767628561481, 52) time 189.5778636932373\n"
          ]
        }
      ]
    },
    {
      "cell_type": "markdown",
      "source": [
        "tradeoff 0.15 на данный момент лучший 69.9, при 0.25 был выше - 188. От 0.15 до 0.25 увеличивается. Поищем в районе до 0.15"
      ],
      "metadata": {
        "id": "ZnXckaT8-YhC"
      }
    },
    {
      "cell_type": "code",
      "source": [
        "for tradeoff in [0.075, 0.1, 0.125]:\n",
        "    np.random.seed(seed=seed)\n",
        "    start = time.time()\n",
        "    output = simulation(UpperConfidenceBound(tradeoff), n=50000, seed=seed)\n",
        "    end = time.time()\n",
        "    print(f\"tradeoff={tradeoff} result={output['regret'], output['regret']/output['rounds'],  output['total_banners']} time {end - start}\")\n"
      ],
      "metadata": {
        "colab": {
          "base_uri": "https://localhost:8080/"
        },
        "id": "-Y0cbfxp-Y5A",
        "outputId": "31d935d2-668c-44eb-f2f9-5ee3084b8a30"
      },
      "execution_count": 10,
      "outputs": [
        {
          "output_type": "stream",
          "name": "stdout",
          "text": [
            "1 impressions have been simulated\n",
            "10001 impressions have been simulated\n",
            "20001 impressions have been simulated\n",
            "30001 impressions have been simulated\n",
            "40001 impressions have been simulated\n",
            "tradeoff=0.075 result=(46.73681910123482, 0.0009347363820246964, 52) time 180.17704129219055\n",
            "1 impressions have been simulated\n",
            "10001 impressions have been simulated\n",
            "20001 impressions have been simulated\n",
            "30001 impressions have been simulated\n",
            "40001 impressions have been simulated\n",
            "tradeoff=0.1 result=(76.34013721002074, 0.001526802744200415, 52) time 178.6619954109192\n",
            "1 impressions have been simulated\n",
            "10001 impressions have been simulated\n",
            "20001 impressions have been simulated\n",
            "30001 impressions have been simulated\n",
            "40001 impressions have been simulated\n",
            "tradeoff=0.125 result=(55.807639488154045, 0.001116152789763081, 52) time 182.29276514053345\n"
          ]
        }
      ]
    },
    {
      "cell_type": "markdown",
      "source": [
        "Выбираем лучший результат 0.075. Просимулируем на 200000"
      ],
      "metadata": {
        "id": "-SPj65A2B2tp"
      }
    },
    {
      "cell_type": "code",
      "source": [
        "np.random.seed(seed=seed)\n",
        "start = time.time()\n",
        "output = simulation(UpperConfidenceBound(0.075), n=200000, seed=seed)\n",
        "end = time.time()\n",
        "print(f\"tradeoff={tradeoff} result={output['regret'], output['regret']/output['rounds'],  output['total_banners']} time {end - start}\")\n"
      ],
      "metadata": {
        "colab": {
          "base_uri": "https://localhost:8080/"
        },
        "id": "BaaTv78aB-FX",
        "outputId": "9925b537-1e5b-4f6b-d633-a59496c7a078"
      },
      "execution_count": 12,
      "outputs": [
        {
          "output_type": "stream",
          "name": "stdout",
          "text": [
            "1 impressions have been simulated\n",
            "10001 impressions have been simulated\n",
            "20001 impressions have been simulated\n",
            "30001 impressions have been simulated\n",
            "40001 impressions have been simulated\n",
            "50001 impressions have been simulated\n",
            "60001 impressions have been simulated\n",
            "70001 impressions have been simulated\n",
            "80001 impressions have been simulated\n",
            "90001 impressions have been simulated\n",
            "100001 impressions have been simulated\n",
            "110001 impressions have been simulated\n",
            "120001 impressions have been simulated\n",
            "130001 impressions have been simulated\n",
            "140001 impressions have been simulated\n",
            "150001 impressions have been simulated\n",
            "160001 impressions have been simulated\n",
            "170001 impressions have been simulated\n",
            "180001 impressions have been simulated\n",
            "190001 impressions have been simulated\n",
            "tradeoff=0.125 result=(133.3224466487009, 0.0006666122332435045, 184) time 739.410647392273\n"
          ]
        }
      ]
    },
    {
      "cell_type": "markdown",
      "source": [
        "Получили регрет 133 при tradeoff 0.075. Бейзлайн победили"
      ],
      "metadata": {
        "id": "XWa8ajhGCpHK"
      }
    },
    {
      "cell_type": "code",
      "source": [],
      "metadata": {
        "id": "H95rybuvFEkr"
      },
      "execution_count": null,
      "outputs": []
    }
  ],
  "metadata": {
    "kernelspec": {
      "display_name": "Python 3",
      "language": "python",
      "name": "python3"
    },
    "language_info": {
      "codemirror_mode": {
        "name": "ipython",
        "version": 3
      },
      "file_extension": ".py",
      "mimetype": "text/x-python",
      "name": "python",
      "nbconvert_exporter": "python",
      "pygments_lexer": "ipython3",
      "version": "3.7.4"
    },
    "colab": {
      "provenance": []
    }
  },
  "nbformat": 4,
  "nbformat_minor": 0
}