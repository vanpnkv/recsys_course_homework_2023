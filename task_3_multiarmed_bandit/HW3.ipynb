{
 "cells": [
  {
   "cell_type": "markdown",
   "source": [
    "## Подключение библиотек"
   ],
   "metadata": {
    "collapsed": false
   }
  },
  {
   "cell_type": "code",
   "execution_count": 1,
   "metadata": {
    "ExecuteTime": {
     "end_time": "2023-12-07T13:57:54.750310Z",
     "start_time": "2023-12-07T13:57:54.115309Z"
    }
   },
   "outputs": [],
   "source": [
    "import numpy as np\n",
    "import pandas as pd\n",
    "import time\n",
    "from functools import partial\n",
    "\n",
    "from scipy.stats import randint, uniform\n",
    "from sim_lib import simulation\n",
    "\n",
    "pd.options.mode.chained_assignment = None"
   ]
  },
  {
   "cell_type": "markdown",
   "source": [
    "## E-Greedy baseline"
   ],
   "metadata": {
    "collapsed": false
   }
  },
  {
   "cell_type": "code",
   "execution_count": 2,
   "metadata": {
    "ExecuteTime": {
     "end_time": "2023-12-07T13:58:00.387253Z",
     "start_time": "2023-12-07T13:58:00.382420Z"
    }
   },
   "outputs": [],
   "source": [
    "def eps_greedy(history: pd.DataFrame, eps: float):\n",
    "    if uniform.rvs() < eps:\n",
    "        n = history.shape[0]\n",
    "        # choose random banner\n",
    "        return history.index[randint.rvs(0, n)]\n",
    "\n",
    "    # the number of clicks that your ad receives divided by the number of times your ad is shown\n",
    "    ctr = history['clicks'] / (history['impressions'] + 1)\n",
    "    n = np.argmax(ctr)\n",
    "    return history.index[n]\n",
    "\n",
    "\n",
    "policy = partial(eps_greedy, eps=0.06)"
   ]
  },
  {
   "cell_type": "markdown",
   "source": [
    "## Тестирование бейзлайна"
   ],
   "metadata": {
    "collapsed": false
   }
  },
  {
   "cell_type": "code",
   "execution_count": 3,
   "metadata": {
    "ExecuteTime": {
     "end_time": "2023-12-07T14:00:24.791980Z",
     "start_time": "2023-12-07T13:58:04.795505Z"
    }
   },
   "outputs": [
    {
     "name": "stderr",
     "output_type": "stream",
     "text": [
      "  0%|          | 256/200000 [00:00<02:35, 1285.85it/s]"
     ]
    },
    {
     "name": "stdout",
     "output_type": "stream",
     "text": [
      "1 impressions have been simulated\n"
     ]
    },
    {
     "name": "stderr",
     "output_type": "stream",
     "text": [
      "  5%|▌         | 10277/200000 [00:07<02:12, 1436.16it/s]"
     ]
    },
    {
     "name": "stdout",
     "output_type": "stream",
     "text": [
      "10001 impressions have been simulated\n"
     ]
    },
    {
     "name": "stderr",
     "output_type": "stream",
     "text": [
      " 10%|█         | 20159/200000 [00:14<02:06, 1422.17it/s]"
     ]
    },
    {
     "name": "stdout",
     "output_type": "stream",
     "text": [
      "20001 impressions have been simulated\n"
     ]
    },
    {
     "name": "stderr",
     "output_type": "stream",
     "text": [
      " 15%|█▌        | 30151/200000 [00:21<01:58, 1432.28it/s]"
     ]
    },
    {
     "name": "stdout",
     "output_type": "stream",
     "text": [
      "30001 impressions have been simulated\n"
     ]
    },
    {
     "name": "stderr",
     "output_type": "stream",
     "text": [
      " 20%|██        | 40262/200000 [00:28<01:52, 1423.39it/s]"
     ]
    },
    {
     "name": "stdout",
     "output_type": "stream",
     "text": [
      "40001 impressions have been simulated\n"
     ]
    },
    {
     "name": "stderr",
     "output_type": "stream",
     "text": [
      " 25%|██▌       | 50182/200000 [00:35<01:44, 1433.70it/s]"
     ]
    },
    {
     "name": "stdout",
     "output_type": "stream",
     "text": [
      "50001 impressions have been simulated\n"
     ]
    },
    {
     "name": "stderr",
     "output_type": "stream",
     "text": [
      " 30%|███       | 60234/200000 [00:42<01:42, 1367.74it/s]"
     ]
    },
    {
     "name": "stdout",
     "output_type": "stream",
     "text": [
      "60001 impressions have been simulated\n"
     ]
    },
    {
     "name": "stderr",
     "output_type": "stream",
     "text": [
      " 35%|███▌      | 70158/200000 [00:49<01:30, 1430.27it/s]"
     ]
    },
    {
     "name": "stdout",
     "output_type": "stream",
     "text": [
      "70001 impressions have been simulated\n"
     ]
    },
    {
     "name": "stderr",
     "output_type": "stream",
     "text": [
      " 40%|████      | 80287/200000 [00:56<01:23, 1428.12it/s]"
     ]
    },
    {
     "name": "stdout",
     "output_type": "stream",
     "text": [
      "80001 impressions have been simulated\n"
     ]
    },
    {
     "name": "stderr",
     "output_type": "stream",
     "text": [
      " 45%|████▌     | 90271/200000 [01:03<01:15, 1444.46it/s]"
     ]
    },
    {
     "name": "stdout",
     "output_type": "stream",
     "text": [
      "90001 impressions have been simulated\n"
     ]
    },
    {
     "name": "stderr",
     "output_type": "stream",
     "text": [
      " 50%|█████     | 100247/200000 [01:10<01:09, 1435.20it/s]"
     ]
    },
    {
     "name": "stdout",
     "output_type": "stream",
     "text": [
      "100001 impressions have been simulated\n"
     ]
    },
    {
     "name": "stderr",
     "output_type": "stream",
     "text": [
      " 55%|█████▌    | 110288/200000 [01:17<01:02, 1438.70it/s]"
     ]
    },
    {
     "name": "stdout",
     "output_type": "stream",
     "text": [
      "110001 impressions have been simulated\n"
     ]
    },
    {
     "name": "stderr",
     "output_type": "stream",
     "text": [
      " 60%|██████    | 120149/200000 [01:24<00:55, 1428.59it/s]"
     ]
    },
    {
     "name": "stdout",
     "output_type": "stream",
     "text": [
      "120001 impressions have been simulated\n"
     ]
    },
    {
     "name": "stderr",
     "output_type": "stream",
     "text": [
      " 65%|██████▌   | 130252/200000 [01:31<00:49, 1423.03it/s]"
     ]
    },
    {
     "name": "stdout",
     "output_type": "stream",
     "text": [
      "130001 impressions have been simulated\n"
     ]
    },
    {
     "name": "stderr",
     "output_type": "stream",
     "text": [
      " 70%|███████   | 140222/200000 [01:38<00:41, 1434.67it/s]"
     ]
    },
    {
     "name": "stdout",
     "output_type": "stream",
     "text": [
      "140001 impressions have been simulated\n"
     ]
    },
    {
     "name": "stderr",
     "output_type": "stream",
     "text": [
      " 75%|███████▌  | 150210/200000 [01:45<00:34, 1440.58it/s]"
     ]
    },
    {
     "name": "stdout",
     "output_type": "stream",
     "text": [
      "150001 impressions have been simulated\n"
     ]
    },
    {
     "name": "stderr",
     "output_type": "stream",
     "text": [
      " 80%|████████  | 160239/200000 [01:52<00:27, 1447.44it/s]"
     ]
    },
    {
     "name": "stdout",
     "output_type": "stream",
     "text": [
      "160001 impressions have been simulated\n"
     ]
    },
    {
     "name": "stderr",
     "output_type": "stream",
     "text": [
      " 85%|████████▌ | 170154/200000 [01:59<00:20, 1437.07it/s]"
     ]
    },
    {
     "name": "stdout",
     "output_type": "stream",
     "text": [
      "170001 impressions have been simulated\n"
     ]
    },
    {
     "name": "stderr",
     "output_type": "stream",
     "text": [
      " 90%|█████████ | 180287/200000 [02:06<00:13, 1425.99it/s]"
     ]
    },
    {
     "name": "stdout",
     "output_type": "stream",
     "text": [
      "180001 impressions have been simulated\n"
     ]
    },
    {
     "name": "stderr",
     "output_type": "stream",
     "text": [
      " 95%|█████████▌| 190261/200000 [02:13<00:06, 1429.72it/s]"
     ]
    },
    {
     "name": "stdout",
     "output_type": "stream",
     "text": [
      "190001 impressions have been simulated\n"
     ]
    },
    {
     "name": "stderr",
     "output_type": "stream",
     "text": [
      "100%|██████████| 200000/200000 [02:19<00:00, 1428.82it/s]\n"
     ]
    },
    {
     "data": {
      "text/plain": "139.99325895309448"
     },
     "execution_count": 3,
     "metadata": {},
     "output_type": "execute_result"
    }
   ],
   "source": [
    "# seed for homework\n",
    "seed = 18475\n",
    "np.random.seed(seed=seed)\n",
    "\n",
    "start = time.time()\n",
    "output = simulation(policy, n=200000, seed=seed)\n",
    "end = time.time()\n",
    "end - start"
   ]
  },
  {
   "cell_type": "code",
   "execution_count": 4,
   "metadata": {
    "ExecuteTime": {
     "end_time": "2023-12-07T14:01:12.130072Z",
     "start_time": "2023-12-07T14:01:12.127028Z"
    }
   },
   "outputs": [
    {
     "data": {
      "text/plain": "(1470.2117137660496, 0.007351058568830248, 184)"
     },
     "execution_count": 4,
     "metadata": {},
     "output_type": "execute_result"
    }
   ],
   "source": [
    "# baseline regret\n",
    "output['regret'], output['regret'] / output['rounds'], output['total_banners']"
   ]
  },
  {
   "cell_type": "code",
   "execution_count": 5,
   "metadata": {
    "ExecuteTime": {
     "end_time": "2023-12-07T14:01:15.022643Z",
     "start_time": "2023-12-07T14:01:15.014565Z"
    }
   },
   "outputs": [
    {
     "data": {
      "text/plain": "     impressions  clicks      lifetime         p\n153      19624.0  4357.0  18003.025431  0.220134\n162        228.0    26.0   1537.166719  0.113780\n172        163.0    32.0  19648.592394  0.219968\n173        170.0    18.0  12771.474990  0.122694\n180         27.0     3.0   4655.819793  0.020061\n182          6.0     0.0    889.624649  0.004621\n183          1.0     0.0  15187.163761  0.073886",
      "text/html": "<div>\n<style scoped>\n    .dataframe tbody tr th:only-of-type {\n        vertical-align: middle;\n    }\n\n    .dataframe tbody tr th {\n        vertical-align: top;\n    }\n\n    .dataframe thead th {\n        text-align: right;\n    }\n</style>\n<table border=\"1\" class=\"dataframe\">\n  <thead>\n    <tr style=\"text-align: right;\">\n      <th></th>\n      <th>impressions</th>\n      <th>clicks</th>\n      <th>lifetime</th>\n      <th>p</th>\n    </tr>\n  </thead>\n  <tbody>\n    <tr>\n      <th>153</th>\n      <td>19624.0</td>\n      <td>4357.0</td>\n      <td>18003.025431</td>\n      <td>0.220134</td>\n    </tr>\n    <tr>\n      <th>162</th>\n      <td>228.0</td>\n      <td>26.0</td>\n      <td>1537.166719</td>\n      <td>0.113780</td>\n    </tr>\n    <tr>\n      <th>172</th>\n      <td>163.0</td>\n      <td>32.0</td>\n      <td>19648.592394</td>\n      <td>0.219968</td>\n    </tr>\n    <tr>\n      <th>173</th>\n      <td>170.0</td>\n      <td>18.0</td>\n      <td>12771.474990</td>\n      <td>0.122694</td>\n    </tr>\n    <tr>\n      <th>180</th>\n      <td>27.0</td>\n      <td>3.0</td>\n      <td>4655.819793</td>\n      <td>0.020061</td>\n    </tr>\n    <tr>\n      <th>182</th>\n      <td>6.0</td>\n      <td>0.0</td>\n      <td>889.624649</td>\n      <td>0.004621</td>\n    </tr>\n    <tr>\n      <th>183</th>\n      <td>1.0</td>\n      <td>0.0</td>\n      <td>15187.163761</td>\n      <td>0.073886</td>\n    </tr>\n  </tbody>\n</table>\n</div>"
     },
     "execution_count": 5,
     "metadata": {},
     "output_type": "execute_result"
    }
   ],
   "source": [
    "output['history']"
   ]
  },
  {
   "cell_type": "markdown",
   "source": [
    "## UCB policy\n",
    "Реализуем UCB бандита"
   ],
   "metadata": {
    "collapsed": false
   }
  },
  {
   "cell_type": "code",
   "execution_count": 6,
   "outputs": [],
   "source": [
    "def ucb(history: pd.DataFrame, exploration_coef: float):\n",
    "    # добавляем +1, чтобы впоследствии не возникло деления на 0\n",
    "    impressions = history['impressions'] + 1\n",
    "    # кол-во кликов на рекламный банер делить на суммарное число показов банера \n",
    "    ctr_exploitation = history['clicks'] / impressions\n",
    "\n",
    "    # exploration часть\n",
    "    total_impressions = np.sum(impressions)\n",
    "    exploration = np.sqrt(2 * np.log(total_impressions) / impressions)\n",
    "\n",
    "    # домножаем exploration часть на коэффициент, чтобы достичь баланса между exploitation и exploration \n",
    "    # (т.е между уже известной и еще неисследованной частью)\n",
    "    u = ctr_exploitation + exploration_coef * exploration\n",
    "\n",
    "    # выбираем argmax u по всем баннерам\n",
    "    best_banner_id = np.argmax(u)\n",
    "    return history.index[best_banner_id]"
   ],
   "metadata": {
    "collapsed": false,
    "ExecuteTime": {
     "end_time": "2023-12-07T14:01:17.645686Z",
     "start_time": "2023-12-07T14:01:17.638374Z"
    }
   }
  },
  {
   "cell_type": "markdown",
   "source": [
    "## Подбор гиперпараметра: коэффициент при exploration части"
   ],
   "metadata": {
    "collapsed": false
   }
  },
  {
   "cell_type": "code",
   "execution_count": 7,
   "outputs": [],
   "source": [
    "seed = 18475\n",
    "\n",
    "def test_ucb_policy(exploration_coef: float, process_printing=False):\n",
    "    np.random.seed(seed=seed)\n",
    "    ucb_policy = partial(ucb, exploration_coef=exploration_coef)\n",
    "    output = simulation(ucb_policy, n=200000, seed=seed, process_printing=process_printing)\n",
    "    print(f\"coef: {exploration_coef}, regret: {output['regret']:.4f}, \"\n",
    "          f\"average regret: {(output['regret'] / output['rounds']):.4f}, banners: {output['total_banners']}\")"
   ],
   "metadata": {
    "collapsed": false,
    "ExecuteTime": {
     "end_time": "2023-12-07T14:01:19.539787Z",
     "start_time": "2023-12-07T14:01:19.537675Z"
    }
   }
  },
  {
   "cell_type": "markdown",
   "source": [
    "Коэффициент при exploration слагаемом не должен быть большим, тк все же в основном нам важно учесть уже полученные данные exploitation части, и мы хотим добавить небольшое рассмотрение еще недостаточно изученных баннеров из exploration."
   ],
   "metadata": {
    "collapsed": false
   }
  },
  {
   "cell_type": "code",
   "execution_count": 8,
   "outputs": [
    {
     "name": "stderr",
     "output_type": "stream",
     "text": [
      "100%|██████████| 200000/200000 [02:46<00:00, 1198.86it/s]\n"
     ]
    },
    {
     "name": "stdout",
     "output_type": "stream",
     "text": [
      "coef: 0, regret: 8482.3732, average regret: 0.0424, banners: 184\n"
     ]
    },
    {
     "name": "stderr",
     "output_type": "stream",
     "text": [
      "100%|██████████| 200000/200000 [02:53<00:00, 1154.05it/s]\n"
     ]
    },
    {
     "name": "stdout",
     "output_type": "stream",
     "text": [
      "coef: 0.02, regret: 275.2285, average regret: 0.0014, banners: 184\n"
     ]
    },
    {
     "name": "stderr",
     "output_type": "stream",
     "text": [
      "100%|██████████| 200000/200000 [02:57<00:00, 1126.76it/s]\n"
     ]
    },
    {
     "name": "stdout",
     "output_type": "stream",
     "text": [
      "coef: 0.04, regret: 7691.1916, average regret: 0.0385, banners: 184\n"
     ]
    },
    {
     "name": "stderr",
     "output_type": "stream",
     "text": [
      "100%|██████████| 200000/200000 [02:54<00:00, 1145.36it/s]\n"
     ]
    },
    {
     "name": "stdout",
     "output_type": "stream",
     "text": [
      "coef: 0.06, regret: 5841.3414, average regret: 0.0292, banners: 184\n"
     ]
    },
    {
     "name": "stderr",
     "output_type": "stream",
     "text": [
      "100%|██████████| 200000/200000 [02:51<00:00, 1168.92it/s]\n"
     ]
    },
    {
     "name": "stdout",
     "output_type": "stream",
     "text": [
      "coef: 0.08, regret: 164.4385, average regret: 0.0008, banners: 184\n"
     ]
    },
    {
     "name": "stderr",
     "output_type": "stream",
     "text": [
      "100%|██████████| 200000/200000 [02:46<00:00, 1198.38it/s]\n"
     ]
    },
    {
     "name": "stdout",
     "output_type": "stream",
     "text": [
      "coef: 0.1, regret: 207.1156, average regret: 0.0010, banners: 184\n"
     ]
    },
    {
     "name": "stderr",
     "output_type": "stream",
     "text": [
      "100%|██████████| 200000/200000 [02:48<00:00, 1184.20it/s]\n"
     ]
    },
    {
     "name": "stdout",
     "output_type": "stream",
     "text": [
      "coef: 0.15, regret: 419.0433, average regret: 0.0021, banners: 184\n"
     ]
    },
    {
     "name": "stderr",
     "output_type": "stream",
     "text": [
      "100%|██████████| 200000/200000 [02:48<00:00, 1186.59it/s]\n"
     ]
    },
    {
     "name": "stdout",
     "output_type": "stream",
     "text": [
      "coef: 0.2, regret: 750.6938, average regret: 0.0038, banners: 184\n"
     ]
    },
    {
     "name": "stderr",
     "output_type": "stream",
     "text": [
      "100%|██████████| 200000/200000 [02:51<00:00, 1168.99it/s]\n"
     ]
    },
    {
     "name": "stdout",
     "output_type": "stream",
     "text": [
      "coef: 0.3, regret: 1536.9049, average regret: 0.0077, banners: 184\n"
     ]
    },
    {
     "name": "stderr",
     "output_type": "stream",
     "text": [
      "100%|██████████| 200000/200000 [02:48<00:00, 1186.35it/s]\n"
     ]
    },
    {
     "name": "stdout",
     "output_type": "stream",
     "text": [
      "coef: 0.5, regret: 3730.8996, average regret: 0.0187, banners: 184\n"
     ]
    },
    {
     "name": "stderr",
     "output_type": "stream",
     "text": [
      "100%|██████████| 200000/200000 [02:49<00:00, 1178.98it/s]\n"
     ]
    },
    {
     "name": "stdout",
     "output_type": "stream",
     "text": [
      "coef: 0.9, regret: 9110.8636, average regret: 0.0456, banners: 184\n"
     ]
    },
    {
     "name": "stderr",
     "output_type": "stream",
     "text": [
      "100%|██████████| 200000/200000 [02:48<00:00, 1187.66it/s]"
     ]
    },
    {
     "name": "stdout",
     "output_type": "stream",
     "text": [
      "coef: 1, regret: 10383.9400, average regret: 0.0519, banners: 184\n"
     ]
    },
    {
     "name": "stderr",
     "output_type": "stream",
     "text": [
      "\n"
     ]
    }
   ],
   "source": [
    "exploration_coefs = [0, 0.02, 0.04, 0.06, 0.08, 0.1, 0.15, 0.2, 0.3, 0.5, 0.9, 1]\n",
    "\n",
    "for coef in exploration_coefs:\n",
    "    test_ucb_policy(coef)"
   ],
   "metadata": {
    "collapsed": false,
    "ExecuteTime": {
     "end_time": "2023-12-07T14:35:27.801691Z",
     "start_time": "2023-12-07T14:01:22.395906Z"
    }
   }
  },
  {
   "cell_type": "markdown",
   "source": [
    "Видим, что наименьшее значение регрета достигается при coef = 0.08. Для более хорошего результата можем проверить значения коэффициента в окрестностях этой точки:"
   ],
   "metadata": {
    "collapsed": false
   }
  },
  {
   "cell_type": "code",
   "execution_count": 9,
   "outputs": [
    {
     "name": "stderr",
     "output_type": "stream",
     "text": [
      "100%|██████████| 200000/200000 [02:47<00:00, 1190.97it/s]\n"
     ]
    },
    {
     "name": "stdout",
     "output_type": "stream",
     "text": [
      "coef: 0.065, regret: 910.1009, average regret: 0.0046, banners: 184\n"
     ]
    },
    {
     "name": "stderr",
     "output_type": "stream",
     "text": [
      "100%|██████████| 200000/200000 [02:49<00:00, 1177.47it/s]\n"
     ]
    },
    {
     "name": "stdout",
     "output_type": "stream",
     "text": [
      "coef: 0.07, regret: 148.3657, average regret: 0.0007, banners: 184\n"
     ]
    },
    {
     "name": "stderr",
     "output_type": "stream",
     "text": [
      "100%|██████████| 200000/200000 [02:52<00:00, 1159.91it/s]\n"
     ]
    },
    {
     "name": "stdout",
     "output_type": "stream",
     "text": [
      "coef: 0.075, regret: 162.4883, average regret: 0.0008, banners: 184\n"
     ]
    },
    {
     "name": "stderr",
     "output_type": "stream",
     "text": [
      "100%|██████████| 200000/200000 [02:52<00:00, 1157.36it/s]\n"
     ]
    },
    {
     "name": "stdout",
     "output_type": "stream",
     "text": [
      "coef: 0.08, regret: 164.4385, average regret: 0.0008, banners: 184\n"
     ]
    },
    {
     "name": "stderr",
     "output_type": "stream",
     "text": [
      "100%|██████████| 200000/200000 [02:50<00:00, 1171.69it/s]\n"
     ]
    },
    {
     "name": "stdout",
     "output_type": "stream",
     "text": [
      "coef: 0.085, regret: 176.6447, average regret: 0.0009, banners: 184\n"
     ]
    },
    {
     "name": "stderr",
     "output_type": "stream",
     "text": [
      "100%|██████████| 200000/200000 [02:51<00:00, 1169.01it/s]"
     ]
    },
    {
     "name": "stdout",
     "output_type": "stream",
     "text": [
      "coef: 0.09, regret: 188.5252, average regret: 0.0009, banners: 184\n"
     ]
    },
    {
     "name": "stderr",
     "output_type": "stream",
     "text": [
      "\n"
     ]
    }
   ],
   "source": [
    "exploration_coefs = [0.065, 0.07, 0.075, 0.08, 0.085, 0.09]\n",
    "\n",
    "for coef in exploration_coefs:\n",
    "    test_ucb_policy(coef)"
   ],
   "metadata": {
    "collapsed": false,
    "ExecuteTime": {
     "end_time": "2023-12-07T14:52:32.617272Z",
     "start_time": "2023-12-07T14:35:27.801197Z"
    }
   }
  },
  {
   "cell_type": "markdown",
   "source": [
    "Финальное тестирование лучшего коэффициента coef = 0.07."
   ],
   "metadata": {
    "collapsed": false
   }
  },
  {
   "cell_type": "code",
   "execution_count": 11,
   "outputs": [
    {
     "name": "stderr",
     "output_type": "stream",
     "text": [
      "  0%|          | 223/200000 [00:00<02:57, 1125.70it/s]"
     ]
    },
    {
     "name": "stdout",
     "output_type": "stream",
     "text": [
      "1 impressions have been simulated\n"
     ]
    },
    {
     "name": "stderr",
     "output_type": "stream",
     "text": [
      "  5%|▌         | 10206/200000 [00:08<02:36, 1215.21it/s]"
     ]
    },
    {
     "name": "stdout",
     "output_type": "stream",
     "text": [
      "10001 impressions have been simulated\n"
     ]
    },
    {
     "name": "stderr",
     "output_type": "stream",
     "text": [
      " 10%|█         | 20197/200000 [00:16<02:27, 1221.05it/s]"
     ]
    },
    {
     "name": "stdout",
     "output_type": "stream",
     "text": [
      "20001 impressions have been simulated\n"
     ]
    },
    {
     "name": "stderr",
     "output_type": "stream",
     "text": [
      " 15%|█▌        | 30157/200000 [00:24<02:18, 1223.89it/s]"
     ]
    },
    {
     "name": "stdout",
     "output_type": "stream",
     "text": [
      "30001 impressions have been simulated\n"
     ]
    },
    {
     "name": "stderr",
     "output_type": "stream",
     "text": [
      " 20%|██        | 40143/200000 [00:33<02:11, 1214.66it/s]"
     ]
    },
    {
     "name": "stdout",
     "output_type": "stream",
     "text": [
      "40001 impressions have been simulated\n"
     ]
    },
    {
     "name": "stderr",
     "output_type": "stream",
     "text": [
      " 25%|██▌       | 50126/200000 [00:41<02:02, 1223.08it/s]"
     ]
    },
    {
     "name": "stdout",
     "output_type": "stream",
     "text": [
      "50001 impressions have been simulated\n"
     ]
    },
    {
     "name": "stderr",
     "output_type": "stream",
     "text": [
      " 30%|███       | 60145/200000 [00:49<01:54, 1216.21it/s]"
     ]
    },
    {
     "name": "stdout",
     "output_type": "stream",
     "text": [
      "60001 impressions have been simulated\n"
     ]
    },
    {
     "name": "stderr",
     "output_type": "stream",
     "text": [
      " 35%|███▌      | 70134/200000 [00:57<01:47, 1210.74it/s]"
     ]
    },
    {
     "name": "stdout",
     "output_type": "stream",
     "text": [
      "70001 impressions have been simulated\n"
     ]
    },
    {
     "name": "stderr",
     "output_type": "stream",
     "text": [
      " 40%|████      | 80218/200000 [01:05<01:36, 1236.22it/s]"
     ]
    },
    {
     "name": "stdout",
     "output_type": "stream",
     "text": [
      "80001 impressions have been simulated\n"
     ]
    },
    {
     "name": "stderr",
     "output_type": "stream",
     "text": [
      " 45%|████▌     | 90214/200000 [01:14<01:34, 1162.58it/s]"
     ]
    },
    {
     "name": "stdout",
     "output_type": "stream",
     "text": [
      "90001 impressions have been simulated\n"
     ]
    },
    {
     "name": "stderr",
     "output_type": "stream",
     "text": [
      " 50%|█████     | 100229/200000 [01:22<01:21, 1222.65it/s]"
     ]
    },
    {
     "name": "stdout",
     "output_type": "stream",
     "text": [
      "100001 impressions have been simulated\n"
     ]
    },
    {
     "name": "stderr",
     "output_type": "stream",
     "text": [
      " 55%|█████▌    | 110156/200000 [01:30<01:12, 1235.26it/s]"
     ]
    },
    {
     "name": "stdout",
     "output_type": "stream",
     "text": [
      "110001 impressions have been simulated\n"
     ]
    },
    {
     "name": "stderr",
     "output_type": "stream",
     "text": [
      " 60%|██████    | 120209/200000 [01:38<01:04, 1231.80it/s]"
     ]
    },
    {
     "name": "stdout",
     "output_type": "stream",
     "text": [
      "120001 impressions have been simulated\n"
     ]
    },
    {
     "name": "stderr",
     "output_type": "stream",
     "text": [
      " 65%|██████▌   | 130159/200000 [01:46<00:56, 1226.45it/s]"
     ]
    },
    {
     "name": "stdout",
     "output_type": "stream",
     "text": [
      "130001 impressions have been simulated\n"
     ]
    },
    {
     "name": "stderr",
     "output_type": "stream",
     "text": [
      " 70%|███████   | 140181/200000 [01:55<00:48, 1232.05it/s]"
     ]
    },
    {
     "name": "stdout",
     "output_type": "stream",
     "text": [
      "140001 impressions have been simulated\n"
     ]
    },
    {
     "name": "stderr",
     "output_type": "stream",
     "text": [
      " 75%|███████▌  | 150230/200000 [02:03<00:40, 1229.76it/s]"
     ]
    },
    {
     "name": "stdout",
     "output_type": "stream",
     "text": [
      "150001 impressions have been simulated\n"
     ]
    },
    {
     "name": "stderr",
     "output_type": "stream",
     "text": [
      " 80%|████████  | 160156/200000 [02:11<00:32, 1232.05it/s]"
     ]
    },
    {
     "name": "stdout",
     "output_type": "stream",
     "text": [
      "160001 impressions have been simulated\n"
     ]
    },
    {
     "name": "stderr",
     "output_type": "stream",
     "text": [
      " 85%|████████▌ | 170203/200000 [02:19<00:24, 1235.48it/s]"
     ]
    },
    {
     "name": "stdout",
     "output_type": "stream",
     "text": [
      "170001 impressions have been simulated\n"
     ]
    },
    {
     "name": "stderr",
     "output_type": "stream",
     "text": [
      " 90%|█████████ | 180178/200000 [02:27<00:16, 1230.27it/s]"
     ]
    },
    {
     "name": "stdout",
     "output_type": "stream",
     "text": [
      "180001 impressions have been simulated\n"
     ]
    },
    {
     "name": "stderr",
     "output_type": "stream",
     "text": [
      " 95%|█████████▌| 190231/200000 [02:35<00:07, 1230.17it/s]"
     ]
    },
    {
     "name": "stdout",
     "output_type": "stream",
     "text": [
      "190001 impressions have been simulated\n"
     ]
    },
    {
     "name": "stderr",
     "output_type": "stream",
     "text": [
      "100%|██████████| 200000/200000 [02:43<00:00, 1220.68it/s]"
     ]
    },
    {
     "name": "stdout",
     "output_type": "stream",
     "text": [
      "coef: 0.07, regret: 148.3657, average regret: 0.0007, banners: 184\n"
     ]
    },
    {
     "name": "stderr",
     "output_type": "stream",
     "text": [
      "\n"
     ]
    }
   ],
   "source": [
    "best_exploration_coef = 0.07\n",
    "test_ucb_policy(best_exploration_coef, process_printing=True)"
   ],
   "metadata": {
    "collapsed": false,
    "ExecuteTime": {
     "end_time": "2023-12-07T14:59:36.444781Z",
     "start_time": "2023-12-07T14:56:52.598640Z"
    }
   }
  },
  {
   "cell_type": "markdown",
   "source": [
    "Регрет значительно меньше, чем у бейзлайна, баланс между exploitation и exploration подобран. Успех"
   ],
   "metadata": {
    "collapsed": false
   }
  }
 ],
 "metadata": {
  "kernelspec": {
   "display_name": "Python 3",
   "language": "python",
   "name": "python3"
  },
  "language_info": {
   "codemirror_mode": {
    "name": "ipython",
    "version": 3
   },
   "file_extension": ".py",
   "mimetype": "text/x-python",
   "name": "python",
   "nbconvert_exporter": "python",
   "pygments_lexer": "ipython3",
   "version": "3.7.4"
  }
 },
 "nbformat": 4,
 "nbformat_minor": 4
}
