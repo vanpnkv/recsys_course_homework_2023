{
 "cells": [
  {
   "cell_type": "code",
   "execution_count": 1,
   "metadata": {
    "ExecuteTime": {
     "end_time": "2023-12-07T15:38:38.520683Z",
     "start_time": "2023-12-07T15:38:38.037070Z"
    }
   },
   "outputs": [],
   "source": [
    "import numpy as np\n",
    "import pandas as pd\n",
    "import time\n",
    "from functools import partial\n",
    "\n",
    "from scipy.stats import randint, uniform\n",
    "from sim_lib import simulation\n",
    "\n",
    "pd.options.mode.chained_assignment = None\n"
   ]
  },
  {
   "cell_type": "code",
   "execution_count": 2,
   "metadata": {
    "ExecuteTime": {
     "end_time": "2023-12-07T14:41:36.105127Z",
     "start_time": "2023-12-07T14:41:36.092113Z"
    }
   },
   "outputs": [],
   "source": [
    "def eps_greedy(history: pd.DataFrame, eps: float):\n",
    "    if uniform.rvs() < eps:\n",
    "        n = history.shape[0]\n",
    "        return history.index[randint.rvs(0, n)]\n",
    "\n",
    "    ctr = history['clicks'] / (history['impressions'] + 10)\n",
    "    n = np.argmax(ctr)\n",
    "    return history.index[n]\n",
    "\n",
    "policy = partial(eps_greedy, eps=0.06)"
   ]
  },
  {
   "cell_type": "code",
   "execution_count": 2,
   "metadata": {
    "ExecuteTime": {
     "end_time": "2023-12-07T15:38:45.464037Z",
     "start_time": "2023-12-07T15:38:45.460037Z"
    }
   },
   "outputs": [],
   "source": [
    "# seed for homework\n",
    "seed = 18475\n",
    "np.random.seed(seed=seed)\n",
    "\n",
    "start = time.time()\n",
    "output = simulation(policy, n=200000, seed=seed)\n",
    "end = time.time()\n",
    "end - start"
   ]
  },
  {
   "cell_type": "code",
   "execution_count": 4,
   "metadata": {
    "ExecuteTime": {
     "end_time": "2023-12-07T14:46:43.539239Z",
     "start_time": "2023-12-07T14:46:43.523207Z"
    }
   },
   "outputs": [
    {
     "data": {
      "text/plain": [
       "(1540.7609683932544, 0.007703804841966272, 184)"
      ]
     },
     "execution_count": 4,
     "metadata": {},
     "output_type": "execute_result"
    }
   ],
   "source": [
    "# baseline regret\n",
    "output['regret'], output['regret']/output['rounds'],  output['total_banners']"
   ]
  },
  {
   "cell_type": "markdown",
   "metadata": {},
   "source": [
    "Попробуем алгоритм UCB"
   ]
  },
  {
   "cell_type": "code",
   "execution_count": 3,
   "metadata": {
    "ExecuteTime": {
     "end_time": "2023-12-07T15:38:55.246428Z",
     "start_time": "2023-12-07T15:38:55.238432Z"
    }
   },
   "outputs": [],
   "source": [
    "class UCB():\n",
    "    def __init__(self, c=1):\n",
    "        self.t = 0\n",
    "        self.c = c # exploration/exploitation balance\n",
    "        \n",
    "    def __call__(self, history):\n",
    "        self.t += 1\n",
    "        exploitation = history['clicks'] / (history['impressions'] + 1) \n",
    "        exploration = np.sqrt(2 * np.log(self.t) / (history['impressions'] + 1))\n",
    "        i = np.argmax(exploitation + self.c * exploration)\n",
    "        return history.index[i]"
   ]
  },
  {
   "cell_type": "markdown",
   "metadata": {},
   "source": [
    "Подберем оптимальное `с`"
   ]
  },
  {
   "cell_type": "code",
   "execution_count": 4,
   "metadata": {
    "ExecuteTime": {
     "end_time": "2023-12-07T15:46:02.651545Z",
     "start_time": "2023-12-07T15:38:56.931246Z"
    }
   },
   "outputs": [
    {
     "name": "stdout",
     "output_type": "stream",
     "text": [
      "1 impressions have been simulated\n",
      "10001 impressions have been simulated\n",
      "20001 impressions have been simulated\n",
      "30001 impressions have been simulated\n",
      "40001 impressions have been simulated\n",
      "1 impressions have been simulated\n",
      "10001 impressions have been simulated\n",
      "20001 impressions have been simulated\n",
      "30001 impressions have been simulated\n",
      "40001 impressions have been simulated\n",
      "1 impressions have been simulated\n",
      "10001 impressions have been simulated\n",
      "20001 impressions have been simulated\n",
      "30001 impressions have been simulated\n",
      "40001 impressions have been simulated\n",
      "1 impressions have been simulated\n",
      "10001 impressions have been simulated\n",
      "20001 impressions have been simulated\n",
      "30001 impressions have been simulated\n",
      "40001 impressions have been simulated\n",
      "1 impressions have been simulated\n",
      "10001 impressions have been simulated\n",
      "20001 impressions have been simulated\n",
      "30001 impressions have been simulated\n",
      "40001 impressions have been simulated\n",
      "[2393.717146557163, 76.03125965508134, 1844.4500083428345, 225.107890676594, 4679.2185450869]\n",
      "Best c: 0.1\n"
     ]
    }
   ],
   "source": [
    "C = [1, 0.1, 0.01, 0.001, 0.0001]\n",
    "regrets = []\n",
    "for c in C:\n",
    "    policy = UCB(c)\n",
    "    output = simulation(policy, n=50000, seed=seed)\n",
    "    regrets.append(output['regret'])\n",
    "n = np.argmin(regrets)\n",
    "print(regrets)\n",
    "print(f'Best c: {C[n]}')"
   ]
  },
  {
   "cell_type": "markdown",
   "metadata": {},
   "source": [
    "Попробуем уточнить значение оптимума"
   ]
  },
  {
   "cell_type": "code",
   "execution_count": 5,
   "metadata": {
    "ExecuteTime": {
     "end_time": "2023-12-07T15:59:34.862912Z",
     "start_time": "2023-12-07T15:48:07.183376Z"
    }
   },
   "outputs": [
    {
     "name": "stdout",
     "output_type": "stream",
     "text": [
      "1 impressions have been simulated\n",
      "10001 impressions have been simulated\n",
      "20001 impressions have been simulated\n",
      "30001 impressions have been simulated\n",
      "40001 impressions have been simulated\n",
      "50001 impressions have been simulated\n",
      "60001 impressions have been simulated\n",
      "70001 impressions have been simulated\n",
      "80001 impressions have been simulated\n",
      "90001 impressions have been simulated\n",
      "1 impressions have been simulated\n",
      "10001 impressions have been simulated\n",
      "20001 impressions have been simulated\n",
      "30001 impressions have been simulated\n",
      "40001 impressions have been simulated\n",
      "50001 impressions have been simulated\n",
      "60001 impressions have been simulated\n",
      "70001 impressions have been simulated\n",
      "80001 impressions have been simulated\n",
      "90001 impressions have been simulated\n",
      "1 impressions have been simulated\n",
      "10001 impressions have been simulated\n",
      "20001 impressions have been simulated\n",
      "30001 impressions have been simulated\n",
      "40001 impressions have been simulated\n",
      "50001 impressions have been simulated\n",
      "60001 impressions have been simulated\n",
      "70001 impressions have been simulated\n",
      "80001 impressions have been simulated\n",
      "90001 impressions have been simulated\n",
      "1 impressions have been simulated\n",
      "10001 impressions have been simulated\n",
      "20001 impressions have been simulated\n",
      "30001 impressions have been simulated\n",
      "40001 impressions have been simulated\n",
      "50001 impressions have been simulated\n",
      "60001 impressions have been simulated\n",
      "70001 impressions have been simulated\n",
      "80001 impressions have been simulated\n",
      "90001 impressions have been simulated\n",
      "[1400.9078310224972, 432.6942107718553, 319.7817275651725, 126.46467117167602]\n",
      "Best c: 0.05\n"
     ]
    }
   ],
   "source": [
    "C = [0.4, 0.2, 0.1, 0.05]\n",
    "regrets = []\n",
    "for c in C:\n",
    "    policy = UCB(c)\n",
    "    output = simulation(policy, n=100000, seed=seed)\n",
    "    regrets.append(output['regret'])\n",
    "n = np.argmin(regrets)\n",
    "print(regrets)\n",
    "print(f'Best c: {C[n]}')"
   ]
  },
  {
   "cell_type": "markdown",
   "metadata": {},
   "source": [
    "Протестируем на 200 тыс. итераций"
   ]
  },
  {
   "cell_type": "code",
   "execution_count": 6,
   "metadata": {
    "ExecuteTime": {
     "end_time": "2023-12-07T16:28:59.483137Z",
     "start_time": "2023-12-07T16:06:16.789710Z"
    }
   },
   "outputs": [
    {
     "name": "stdout",
     "output_type": "stream",
     "text": [
      "1 impressions have been simulated\n",
      "10001 impressions have been simulated\n",
      "20001 impressions have been simulated\n",
      "30001 impressions have been simulated\n",
      "40001 impressions have been simulated\n",
      "50001 impressions have been simulated\n",
      "60001 impressions have been simulated\n",
      "70001 impressions have been simulated\n",
      "80001 impressions have been simulated\n",
      "90001 impressions have been simulated\n",
      "100001 impressions have been simulated\n",
      "110001 impressions have been simulated\n",
      "120001 impressions have been simulated\n",
      "130001 impressions have been simulated\n",
      "140001 impressions have been simulated\n",
      "150001 impressions have been simulated\n",
      "160001 impressions have been simulated\n",
      "170001 impressions have been simulated\n",
      "180001 impressions have been simulated\n",
      "190001 impressions have been simulated\n",
      "1 impressions have been simulated\n",
      "10001 impressions have been simulated\n",
      "20001 impressions have been simulated\n",
      "30001 impressions have been simulated\n",
      "40001 impressions have been simulated\n",
      "50001 impressions have been simulated\n",
      "60001 impressions have been simulated\n",
      "70001 impressions have been simulated\n",
      "80001 impressions have been simulated\n",
      "90001 impressions have been simulated\n",
      "100001 impressions have been simulated\n",
      "110001 impressions have been simulated\n",
      "120001 impressions have been simulated\n",
      "130001 impressions have been simulated\n",
      "140001 impressions have been simulated\n",
      "150001 impressions have been simulated\n",
      "160001 impressions have been simulated\n",
      "170001 impressions have been simulated\n",
      "180001 impressions have been simulated\n",
      "190001 impressions have been simulated\n",
      "1 impressions have been simulated\n",
      "10001 impressions have been simulated\n",
      "20001 impressions have been simulated\n",
      "30001 impressions have been simulated\n",
      "40001 impressions have been simulated\n",
      "50001 impressions have been simulated\n",
      "60001 impressions have been simulated\n",
      "70001 impressions have been simulated\n",
      "80001 impressions have been simulated\n",
      "90001 impressions have been simulated\n",
      "100001 impressions have been simulated\n",
      "110001 impressions have been simulated\n",
      "120001 impressions have been simulated\n",
      "130001 impressions have been simulated\n",
      "140001 impressions have been simulated\n",
      "150001 impressions have been simulated\n",
      "160001 impressions have been simulated\n",
      "170001 impressions have been simulated\n",
      "180001 impressions have been simulated\n",
      "190001 impressions have been simulated\n",
      "1 impressions have been simulated\n",
      "10001 impressions have been simulated\n",
      "20001 impressions have been simulated\n",
      "30001 impressions have been simulated\n",
      "40001 impressions have been simulated\n",
      "50001 impressions have been simulated\n",
      "60001 impressions have been simulated\n",
      "70001 impressions have been simulated\n",
      "80001 impressions have been simulated\n",
      "90001 impressions have been simulated\n",
      "100001 impressions have been simulated\n",
      "110001 impressions have been simulated\n",
      "120001 impressions have been simulated\n",
      "130001 impressions have been simulated\n",
      "140001 impressions have been simulated\n",
      "150001 impressions have been simulated\n",
      "160001 impressions have been simulated\n",
      "170001 impressions have been simulated\n",
      "180001 impressions have been simulated\n",
      "190001 impressions have been simulated\n"
     ]
    }
   ],
   "source": [
    "C = [0.07, 0.06, 0.05, 0.04]\n",
    "regrets = []\n",
    "for c in C:\n",
    "    policy = UCB(c)\n",
    "    output = simulation(policy, n=200000, seed=seed)\n",
    "    regrets.append(output['regret'])"
   ]
  },
  {
   "cell_type": "markdown",
   "metadata": {},
   "source": [
    "Результат"
   ]
  },
  {
   "cell_type": "code",
   "execution_count": 7,
   "metadata": {
    "ExecuteTime": {
     "end_time": "2023-12-07T16:29:09.669556Z",
     "start_time": "2023-12-07T16:29:09.661044Z"
    }
   },
   "outputs": [
    {
     "name": "stdout",
     "output_type": "stream",
     "text": [
      "Best c: 0.06\n",
      "Best regret: 45.989836615452276\n"
     ]
    }
   ],
   "source": [
    "n = np.argmin(regrets)\n",
    "print(f'Best c: {C[n]}')\n",
    "print(f'Best regret: {regrets[n]}')"
   ]
  }
 ],
 "metadata": {
  "kernelspec": {
   "display_name": "Python 3 (ipykernel)",
   "language": "python",
   "name": "python3"
  },
  "language_info": {
   "codemirror_mode": {
    "name": "ipython",
    "version": 3
   },
   "file_extension": ".py",
   "mimetype": "text/x-python",
   "name": "python",
   "nbconvert_exporter": "python",
   "pygments_lexer": "ipython3",
   "version": "3.10.9"
  },
  "varInspector": {
   "cols": {
    "lenName": 16,
    "lenType": 16,
    "lenVar": 40
   },
   "kernels_config": {
    "python": {
     "delete_cmd_postfix": "",
     "delete_cmd_prefix": "del ",
     "library": "var_list.py",
     "varRefreshCmd": "print(var_dic_list())"
    },
    "r": {
     "delete_cmd_postfix": ") ",
     "delete_cmd_prefix": "rm(",
     "library": "var_list.r",
     "varRefreshCmd": "cat(var_dic_list()) "
    }
   },
   "types_to_exclude": [
    "module",
    "function",
    "builtin_function_or_method",
    "instance",
    "_Feature"
   ],
   "window_display": false
  }
 },
 "nbformat": 4,
 "nbformat_minor": 4
}
