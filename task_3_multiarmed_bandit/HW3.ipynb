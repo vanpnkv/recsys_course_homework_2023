{
 "cells": [
  {
   "cell_type": "code",
   "execution_count": 48,
   "metadata": {},
   "outputs": [],
   "source": [
    "import numpy as np\n",
    "import pandas as pd\n",
    "import time\n",
    "from functools import partial\n",
    "\n",
    "from scipy.stats import randint, uniform\n",
    "from sim_lib import simulation\n",
    "\n",
    "pd.options.mode.chained_assignment = None\n"
   ]
  },
  {
   "cell_type": "code",
   "execution_count": 112,
   "metadata": {},
   "outputs": [],
   "source": [
    "def eps_greedy(history: pd.DataFrame, eps: float):\n",
    "    if uniform.rvs() < eps:\n",
    "        n = history.shape[0]\n",
    "        return history.index[randint.rvs(0, n)]\n",
    "\n",
    "    ctr = history['clicks'] / (history['impressions'] + 10)\n",
    "    n = np.argmax(ctr)\n",
    "    return history.index[n]\n",
    "\n",
    "policy = partial(eps_greedy, eps=0.06)"
   ]
  },
  {
   "cell_type": "code",
   "execution_count": 115,
   "metadata": {},
   "outputs": [
    {
     "name": "stdout",
     "output_type": "stream",
     "text": [
      "1 impressions have been simulated\n",
      "10001 impressions have been simulated\n",
      "20001 impressions have been simulated\n",
      "30001 impressions have been simulated\n",
      "40001 impressions have been simulated\n",
      "50001 impressions have been simulated\n",
      "60001 impressions have been simulated\n",
      "70001 impressions have been simulated\n",
      "80001 impressions have been simulated\n",
      "90001 impressions have been simulated\n",
      "100001 impressions have been simulated\n",
      "110001 impressions have been simulated\n",
      "120001 impressions have been simulated\n",
      "130001 impressions have been simulated\n",
      "140001 impressions have been simulated\n",
      "150001 impressions have been simulated\n",
      "160001 impressions have been simulated\n",
      "170001 impressions have been simulated\n",
      "180001 impressions have been simulated\n",
      "190001 impressions have been simulated\n"
     ]
    },
    {
     "data": {
      "text/plain": [
       "390.1041259765625"
      ]
     },
     "execution_count": 115,
     "metadata": {},
     "output_type": "execute_result"
    }
   ],
   "source": [
    "# seed for homework\n",
    "seed = 18475\n",
    "np.random.seed(seed=seed)\n",
    "\n",
    "start = time.time()\n",
    "output = simulation(policy, n=200000, seed=seed)\n",
    "end = time.time()\n",
    "end - start"
   ]
  },
  {
   "cell_type": "code",
   "execution_count": 117,
   "metadata": {},
   "outputs": [
    {
     "data": {
      "text/plain": [
       "(1540.7609683932544, 0.007703804841966272, 184)"
      ]
     },
     "execution_count": 117,
     "metadata": {},
     "output_type": "execute_result"
    }
   ],
   "source": [
    "# baseline regret\n",
    "output['regret'], output['regret']/output['rounds'],  output['total_banners']"
   ]
  },
  {
   "cell_type": "markdown",
   "metadata": {},
   "source": [
    "Напишем Thompson Sampling"
   ]
  },
  {
   "cell_type": "code",
   "execution_count": 107,
   "metadata": {},
   "outputs": [],
   "source": [
    "class ThompsonSampling:\n",
    "    def __init__(self, arms):\n",
    "        self.arms = arms\n",
    "        self.alpha = np.ones(arms)\n",
    "        self.beta = np.ones(arms)\n",
    "    \n",
    "    def __call__(self, df):\n",
    "        avail_arms = list(df.index)\n",
    "        self.alpha[avail_arms] = (df['clicks'] + 1).values\n",
    "        self.beta[avail_arms] = (df['impressions'] - df['clicks'] + 1).values\n",
    "        \n",
    "        theta = np.random.beta(self.alpha[avail_arms], self.beta[avail_arms])\n",
    "        n = theta.argmax()\n",
    "        action = avail_arms[n]\n",
    "        \n",
    "        return action\n",
    "    "
   ]
  },
  {
   "cell_type": "code",
   "execution_count": 110,
   "metadata": {},
   "outputs": [
    {
     "name": "stdout",
     "output_type": "stream",
     "text": [
      "1 impressions have been simulated\n",
      "10001 impressions have been simulated\n",
      "20001 impressions have been simulated\n",
      "30001 impressions have been simulated\n",
      "40001 impressions have been simulated\n",
      "50001 impressions have been simulated\n",
      "60001 impressions have been simulated\n",
      "70001 impressions have been simulated\n",
      "80001 impressions have been simulated\n",
      "90001 impressions have been simulated\n",
      "100001 impressions have been simulated\n",
      "110001 impressions have been simulated\n",
      "120001 impressions have been simulated\n",
      "130001 impressions have been simulated\n",
      "140001 impressions have been simulated\n",
      "150001 impressions have been simulated\n",
      "160001 impressions have been simulated\n",
      "170001 impressions have been simulated\n",
      "180001 impressions have been simulated\n",
      "190001 impressions have been simulated\n"
     ]
    }
   ],
   "source": [
    "output = simulation(ThompsonSampling(200), n=200000, seed=seed)"
   ]
  },
  {
   "cell_type": "code",
   "execution_count": 111,
   "metadata": {},
   "outputs": [
    {
     "data": {
      "text/plain": [
       "(1107.6565198411663, 0.005538282599205832, 184)"
      ]
     },
     "execution_count": 111,
     "metadata": {},
     "output_type": "execute_result"
    }
   ],
   "source": [
    "output['regret'], output['regret']/output['rounds'],  output['total_banners']"
   ]
  },
  {
   "cell_type": "markdown",
   "metadata": {},
   "source": [
    "Результат уже лучше e-greedy. Thompson sampling, по идее, сам контролирует exploration/explotaition, но раз нужно затюнить, то навесим коэф перед альфой и оверфитнемся на сид"
   ]
  },
  {
   "cell_type": "code",
   "execution_count": 123,
   "metadata": {},
   "outputs": [],
   "source": [
    "class ThompsonSampling:\n",
    "    def __init__(self, arms, alpha_coef):\n",
    "        self.arms = arms\n",
    "        self.alpha = np.ones(arms)\n",
    "        self.beta = np.ones(arms)\n",
    "        self.alpha_coef = alpha_coef\n",
    "        \n",
    "    def __call__(self, df):\n",
    "        avail_arms = list(df.index)\n",
    "        self.alpha[avail_arms] = self.alpha_coef * (df['clicks'] + 1).values\n",
    "        self.beta[avail_arms] = (df['impressions'] - df['clicks'] + 1).values\n",
    "        \n",
    "        theta = np.random.beta(self.alpha[avail_arms], self.beta[avail_arms])\n",
    "        n = theta.argmax()\n",
    "        action = avail_arms[n]\n",
    "        \n",
    "        return action"
   ]
  },
  {
   "cell_type": "code",
   "execution_count": 125,
   "metadata": {},
   "outputs": [
    {
     "name": "stdout",
     "output_type": "stream",
     "text": [
      "1 impressions have been simulated\n",
      "10001 impressions have been simulated\n",
      "20001 impressions have been simulated\n",
      "30001 impressions have been simulated\n",
      "40001 impressions have been simulated\n",
      "50001 impressions have been simulated\n",
      "60001 impressions have been simulated\n",
      "70001 impressions have been simulated\n",
      "80001 impressions have been simulated\n",
      "90001 impressions have been simulated\n",
      "100001 impressions have been simulated\n",
      "110001 impressions have been simulated\n",
      "120001 impressions have been simulated\n",
      "130001 impressions have been simulated\n",
      "140001 impressions have been simulated\n",
      "150001 impressions have been simulated\n",
      "160001 impressions have been simulated\n",
      "170001 impressions have been simulated\n",
      "180001 impressions have been simulated\n",
      "190001 impressions have been simulated\n",
      "coef: 4, regret: 765.5953339227856\n",
      "1 impressions have been simulated\n",
      "10001 impressions have been simulated\n",
      "20001 impressions have been simulated\n",
      "30001 impressions have been simulated\n",
      "40001 impressions have been simulated\n",
      "50001 impressions have been simulated\n",
      "60001 impressions have been simulated\n",
      "70001 impressions have been simulated\n",
      "80001 impressions have been simulated\n",
      "90001 impressions have been simulated\n",
      "100001 impressions have been simulated\n",
      "110001 impressions have been simulated\n",
      "120001 impressions have been simulated\n",
      "130001 impressions have been simulated\n",
      "140001 impressions have been simulated\n",
      "150001 impressions have been simulated\n",
      "160001 impressions have been simulated\n",
      "170001 impressions have been simulated\n",
      "180001 impressions have been simulated\n",
      "190001 impressions have been simulated\n",
      "coef: 10, regret: 564.2688489844712\n",
      "1 impressions have been simulated\n",
      "10001 impressions have been simulated\n",
      "20001 impressions have been simulated\n",
      "30001 impressions have been simulated\n",
      "40001 impressions have been simulated\n",
      "50001 impressions have been simulated\n",
      "60001 impressions have been simulated\n",
      "70001 impressions have been simulated\n",
      "80001 impressions have been simulated\n",
      "90001 impressions have been simulated\n",
      "100001 impressions have been simulated\n",
      "110001 impressions have been simulated\n",
      "120001 impressions have been simulated\n",
      "130001 impressions have been simulated\n",
      "140001 impressions have been simulated\n",
      "150001 impressions have been simulated\n",
      "160001 impressions have been simulated\n",
      "170001 impressions have been simulated\n",
      "180001 impressions have been simulated\n",
      "190001 impressions have been simulated\n",
      "coef: 20, regret: 518.478247796454\n"
     ]
    }
   ],
   "source": [
    "coefs = [4, 10, 20]\n",
    "\n",
    "for coef in coefs:\n",
    "    output = simulation(ThompsonSampling(200, coef), n=200000, seed=seed)\n",
    "    print(f'coef: {coef}, regret: {output[\"regret\"]}')"
   ]
  },
  {
   "cell_type": "markdown",
   "metadata": {},
   "source": [
    "Регрет начинает медленно уменьшаться, оптимальная альфа где-то близко."
   ]
  },
  {
   "cell_type": "code",
   "execution_count": null,
   "metadata": {},
   "outputs": [],
   "source": []
  }
 ],
 "metadata": {
  "kernelspec": {
   "display_name": "Python 3 (ipykernel)",
   "language": "python",
   "name": "python3"
  },
  "language_info": {
   "codemirror_mode": {
    "name": "ipython",
    "version": 3
   },
   "file_extension": ".py",
   "mimetype": "text/x-python",
   "name": "python",
   "nbconvert_exporter": "python",
   "pygments_lexer": "ipython3",
   "version": "3.8.16"
  }
 },
 "nbformat": 4,
 "nbformat_minor": 4
}
