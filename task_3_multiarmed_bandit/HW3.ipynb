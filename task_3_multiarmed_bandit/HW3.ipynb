{
  "cells": [
    {
      "cell_type": "markdown",
      "source": [
        "# sim_lib.py"
      ],
      "metadata": {
        "id": "JTrqUK8A6yCb"
      }
    },
    {
      "cell_type": "code",
      "source": [
        "import numpy as np\n",
        "import pandas as pd\n",
        "\n",
        "from scipy.stats import beta, uniform, bernoulli, expon\n",
        "from typing import Callable\n",
        "\n",
        "ALPHA = 1\n",
        "BETA = 20\n",
        "MU = 10 ** 4\n",
        "MONITORING_FREQ = 10 ** 4\n",
        "MAX_RANDOM = 1111111\n",
        "\n",
        "\n",
        "def generate_new_banner(n, a=ALPHA, b=BETA, mu=MU, random_state=None):\n",
        "    if random_state:\n",
        "        random_state += 1\n",
        "    p = beta.rvs(a, b, size=n, random_state=random_state)\n",
        "    lifetimes = expon.rvs(scale=mu, size=n, random_state=random_state)\n",
        "\n",
        "    return p, lifetimes\n",
        "\n",
        "\n",
        "def simulation(policy: Callable, n=10 ** 6, initial_banners=9, seed=None):\n",
        "    state = pd.DataFrame(np.zeros((initial_banners, 4)), columns=['impressions', 'clicks', 'lifetime', 'p'])\n",
        "    state['p'], state['lifetime'] = generate_new_banner(initial_banners)\n",
        "    regret = 0\n",
        "    max_index = initial_banners\n",
        "    borning_rate = initial_banners*(1-np.exp(-1/MU))\n",
        "    random_state = seed\n",
        "\n",
        "    for i in range(n):\n",
        "        if uniform.rvs(random_state=random_state) < borning_rate or state.shape[0] < 2:\n",
        "            p, lifetime = generate_new_banner(1, random_state=random_state)\n",
        "            new_banner = pd.DataFrame({'impressions': 0, 'clicks': 0, 'lifetime': lifetime, 'p': p}, index=[max_index])\n",
        "            state = pd.concat([state, new_banner], verify_integrity=True)\n",
        "            max_index += 1\n",
        "\n",
        "        index = policy(state[['impressions', 'clicks']].copy())\n",
        "\n",
        "        assert index in state.index, 'Error, wrong action number'\n",
        "\n",
        "        p = state.loc[index, 'p']\n",
        "        reward = bernoulli.rvs(p)\n",
        "        state.loc[index, 'impressions'] += 1\n",
        "        state.loc[index, 'clicks'] += reward\n",
        "        regret = regret + max(state['p']) - p\n",
        "\n",
        "        state['lifetime'] = state['lifetime'] - 1\n",
        "        state = state[state['lifetime'] > 0]\n",
        "        if random_state:\n",
        "            random_state = 7*random_state % MAX_RANDOM\n",
        "\n",
        "        if not i % MONITORING_FREQ:\n",
        "            print('{} impressions have been simulated'.format(i + 1))\n",
        "\n",
        "    return {'regret': regret, 'rounds': n, 'total_banners': max_index, 'history': state}"
      ],
      "metadata": {
        "id": "Rho-Q00C6t_y"
      },
      "execution_count": 1,
      "outputs": []
    },
    {
      "cell_type": "markdown",
      "source": [
        "# task3_example.ipynb"
      ],
      "metadata": {
        "id": "SdVuPS_v68Ri"
      }
    },
    {
      "cell_type": "code",
      "execution_count": 2,
      "metadata": {
        "id": "M_3xOBK-6mO1"
      },
      "outputs": [],
      "source": [
        "import numpy as np\n",
        "import pandas as pd\n",
        "import time\n",
        "from functools import partial\n",
        "\n",
        "from scipy.stats import randint, uniform\n",
        "\n",
        "pd.options.mode.chained_assignment = None\n"
      ]
    },
    {
      "cell_type": "code",
      "execution_count": 3,
      "metadata": {
        "id": "bxtljkGE6mO3"
      },
      "outputs": [],
      "source": [
        "def eps_greedy(history: pd.DataFrame, eps: float):\n",
        "    if uniform.rvs() < eps:\n",
        "        n = history.shape[0]\n",
        "        return history.index[randint.rvs(0, n)]\n",
        "\n",
        "    ctr = history['clicks'] / (history['impressions'] + 10)\n",
        "    n = np.argmax(ctr)\n",
        "    return history.index[n]\n",
        "\n",
        "policy = partial(eps_greedy, eps=0.06)"
      ]
    },
    {
      "cell_type": "code",
      "execution_count": 4,
      "metadata": {
        "colab": {
          "base_uri": "https://localhost:8080/"
        },
        "id": "uJBMxG5Q6mO4",
        "outputId": "133d6a7f-0697-4a0e-d010-25b7f9abe42d"
      },
      "outputs": [
        {
          "output_type": "stream",
          "name": "stdout",
          "text": [
            "1 impressions have been simulated\n",
            "10001 impressions have been simulated\n",
            "20001 impressions have been simulated\n",
            "30001 impressions have been simulated\n",
            "40001 impressions have been simulated\n",
            "50001 impressions have been simulated\n",
            "60001 impressions have been simulated\n",
            "70001 impressions have been simulated\n",
            "80001 impressions have been simulated\n",
            "90001 impressions have been simulated\n",
            "100001 impressions have been simulated\n",
            "110001 impressions have been simulated\n",
            "120001 impressions have been simulated\n",
            "130001 impressions have been simulated\n",
            "140001 impressions have been simulated\n",
            "150001 impressions have been simulated\n",
            "160001 impressions have been simulated\n",
            "170001 impressions have been simulated\n",
            "180001 impressions have been simulated\n",
            "190001 impressions have been simulated\n"
          ]
        },
        {
          "output_type": "execute_result",
          "data": {
            "text/plain": [
              "716.3640353679657"
            ]
          },
          "metadata": {},
          "execution_count": 4
        }
      ],
      "source": [
        "# seed for homework\n",
        "seed = 18475\n",
        "np.random.seed(seed=seed)\n",
        "\n",
        "start = time.time()\n",
        "output = simulation(policy, n=200000, seed=seed)\n",
        "end = time.time()\n",
        "end - start"
      ]
    },
    {
      "cell_type": "code",
      "execution_count": 5,
      "metadata": {
        "colab": {
          "base_uri": "https://localhost:8080/"
        },
        "id": "ViHSyt716mO4",
        "outputId": "32b6790b-2110-4b6d-fe9f-beabe6fff9e2"
      },
      "outputs": [
        {
          "output_type": "execute_result",
          "data": {
            "text/plain": [
              "(1540.7609683932544, 0.007703804841966272, 184)"
            ]
          },
          "metadata": {},
          "execution_count": 5
        }
      ],
      "source": [
        "# baseline regret\n",
        "output['regret'], output['regret']/output['rounds'],  output['total_banners']"
      ]
    },
    {
      "cell_type": "code",
      "execution_count": 6,
      "metadata": {
        "colab": {
          "base_uri": "https://localhost:8080/",
          "height": 269
        },
        "id": "54IA7fXq6mO5",
        "outputId": "1d6bdc58-c75b-4d81-e7b7-07d938146b35"
      },
      "outputs": [
        {
          "output_type": "execute_result",
          "data": {
            "text/plain": [
              "     impressions  clicks      lifetime         p\n",
              "153      18970.0  4199.0  18003.025431  0.220134\n",
              "162        228.0    26.0   1537.166719  0.113780\n",
              "172        163.0    32.0  19648.592394  0.219968\n",
              "173        170.0    18.0  12771.474990  0.122694\n",
              "180         26.0     3.0   4655.819793  0.020061\n",
              "182          6.0     0.0    889.624649  0.004621\n",
              "183          1.0     0.0  15187.163761  0.073886"
            ],
            "text/html": [
              "\n",
              "  <div id=\"df-95401c62-d9c3-4d3e-bd77-75035356fcb0\" class=\"colab-df-container\">\n",
              "    <div>\n",
              "<style scoped>\n",
              "    .dataframe tbody tr th:only-of-type {\n",
              "        vertical-align: middle;\n",
              "    }\n",
              "\n",
              "    .dataframe tbody tr th {\n",
              "        vertical-align: top;\n",
              "    }\n",
              "\n",
              "    .dataframe thead th {\n",
              "        text-align: right;\n",
              "    }\n",
              "</style>\n",
              "<table border=\"1\" class=\"dataframe\">\n",
              "  <thead>\n",
              "    <tr style=\"text-align: right;\">\n",
              "      <th></th>\n",
              "      <th>impressions</th>\n",
              "      <th>clicks</th>\n",
              "      <th>lifetime</th>\n",
              "      <th>p</th>\n",
              "    </tr>\n",
              "  </thead>\n",
              "  <tbody>\n",
              "    <tr>\n",
              "      <th>153</th>\n",
              "      <td>18970.0</td>\n",
              "      <td>4199.0</td>\n",
              "      <td>18003.025431</td>\n",
              "      <td>0.220134</td>\n",
              "    </tr>\n",
              "    <tr>\n",
              "      <th>162</th>\n",
              "      <td>228.0</td>\n",
              "      <td>26.0</td>\n",
              "      <td>1537.166719</td>\n",
              "      <td>0.113780</td>\n",
              "    </tr>\n",
              "    <tr>\n",
              "      <th>172</th>\n",
              "      <td>163.0</td>\n",
              "      <td>32.0</td>\n",
              "      <td>19648.592394</td>\n",
              "      <td>0.219968</td>\n",
              "    </tr>\n",
              "    <tr>\n",
              "      <th>173</th>\n",
              "      <td>170.0</td>\n",
              "      <td>18.0</td>\n",
              "      <td>12771.474990</td>\n",
              "      <td>0.122694</td>\n",
              "    </tr>\n",
              "    <tr>\n",
              "      <th>180</th>\n",
              "      <td>26.0</td>\n",
              "      <td>3.0</td>\n",
              "      <td>4655.819793</td>\n",
              "      <td>0.020061</td>\n",
              "    </tr>\n",
              "    <tr>\n",
              "      <th>182</th>\n",
              "      <td>6.0</td>\n",
              "      <td>0.0</td>\n",
              "      <td>889.624649</td>\n",
              "      <td>0.004621</td>\n",
              "    </tr>\n",
              "    <tr>\n",
              "      <th>183</th>\n",
              "      <td>1.0</td>\n",
              "      <td>0.0</td>\n",
              "      <td>15187.163761</td>\n",
              "      <td>0.073886</td>\n",
              "    </tr>\n",
              "  </tbody>\n",
              "</table>\n",
              "</div>\n",
              "    <div class=\"colab-df-buttons\">\n",
              "\n",
              "  <div class=\"colab-df-container\">\n",
              "    <button class=\"colab-df-convert\" onclick=\"convertToInteractive('df-95401c62-d9c3-4d3e-bd77-75035356fcb0')\"\n",
              "            title=\"Convert this dataframe to an interactive table.\"\n",
              "            style=\"display:none;\">\n",
              "\n",
              "  <svg xmlns=\"http://www.w3.org/2000/svg\" height=\"24px\" viewBox=\"0 -960 960 960\">\n",
              "    <path d=\"M120-120v-720h720v720H120Zm60-500h600v-160H180v160Zm220 220h160v-160H400v160Zm0 220h160v-160H400v160ZM180-400h160v-160H180v160Zm440 0h160v-160H620v160ZM180-180h160v-160H180v160Zm440 0h160v-160H620v160Z\"/>\n",
              "  </svg>\n",
              "    </button>\n",
              "\n",
              "  <style>\n",
              "    .colab-df-container {\n",
              "      display:flex;\n",
              "      gap: 12px;\n",
              "    }\n",
              "\n",
              "    .colab-df-convert {\n",
              "      background-color: #E8F0FE;\n",
              "      border: none;\n",
              "      border-radius: 50%;\n",
              "      cursor: pointer;\n",
              "      display: none;\n",
              "      fill: #1967D2;\n",
              "      height: 32px;\n",
              "      padding: 0 0 0 0;\n",
              "      width: 32px;\n",
              "    }\n",
              "\n",
              "    .colab-df-convert:hover {\n",
              "      background-color: #E2EBFA;\n",
              "      box-shadow: 0px 1px 2px rgba(60, 64, 67, 0.3), 0px 1px 3px 1px rgba(60, 64, 67, 0.15);\n",
              "      fill: #174EA6;\n",
              "    }\n",
              "\n",
              "    .colab-df-buttons div {\n",
              "      margin-bottom: 4px;\n",
              "    }\n",
              "\n",
              "    [theme=dark] .colab-df-convert {\n",
              "      background-color: #3B4455;\n",
              "      fill: #D2E3FC;\n",
              "    }\n",
              "\n",
              "    [theme=dark] .colab-df-convert:hover {\n",
              "      background-color: #434B5C;\n",
              "      box-shadow: 0px 1px 3px 1px rgba(0, 0, 0, 0.15);\n",
              "      filter: drop-shadow(0px 1px 2px rgba(0, 0, 0, 0.3));\n",
              "      fill: #FFFFFF;\n",
              "    }\n",
              "  </style>\n",
              "\n",
              "    <script>\n",
              "      const buttonEl =\n",
              "        document.querySelector('#df-95401c62-d9c3-4d3e-bd77-75035356fcb0 button.colab-df-convert');\n",
              "      buttonEl.style.display =\n",
              "        google.colab.kernel.accessAllowed ? 'block' : 'none';\n",
              "\n",
              "      async function convertToInteractive(key) {\n",
              "        const element = document.querySelector('#df-95401c62-d9c3-4d3e-bd77-75035356fcb0');\n",
              "        const dataTable =\n",
              "          await google.colab.kernel.invokeFunction('convertToInteractive',\n",
              "                                                    [key], {});\n",
              "        if (!dataTable) return;\n",
              "\n",
              "        const docLinkHtml = 'Like what you see? Visit the ' +\n",
              "          '<a target=\"_blank\" href=https://colab.research.google.com/notebooks/data_table.ipynb>data table notebook</a>'\n",
              "          + ' to learn more about interactive tables.';\n",
              "        element.innerHTML = '';\n",
              "        dataTable['output_type'] = 'display_data';\n",
              "        await google.colab.output.renderOutput(dataTable, element);\n",
              "        const docLink = document.createElement('div');\n",
              "        docLink.innerHTML = docLinkHtml;\n",
              "        element.appendChild(docLink);\n",
              "      }\n",
              "    </script>\n",
              "  </div>\n",
              "\n",
              "\n",
              "<div id=\"df-4f8b5e86-9209-4106-bfe6-e46fa73269b2\">\n",
              "  <button class=\"colab-df-quickchart\" onclick=\"quickchart('df-4f8b5e86-9209-4106-bfe6-e46fa73269b2')\"\n",
              "            title=\"Suggest charts\"\n",
              "            style=\"display:none;\">\n",
              "\n",
              "<svg xmlns=\"http://www.w3.org/2000/svg\" height=\"24px\"viewBox=\"0 0 24 24\"\n",
              "     width=\"24px\">\n",
              "    <g>\n",
              "        <path d=\"M19 3H5c-1.1 0-2 .9-2 2v14c0 1.1.9 2 2 2h14c1.1 0 2-.9 2-2V5c0-1.1-.9-2-2-2zM9 17H7v-7h2v7zm4 0h-2V7h2v10zm4 0h-2v-4h2v4z\"/>\n",
              "    </g>\n",
              "</svg>\n",
              "  </button>\n",
              "\n",
              "<style>\n",
              "  .colab-df-quickchart {\n",
              "      --bg-color: #E8F0FE;\n",
              "      --fill-color: #1967D2;\n",
              "      --hover-bg-color: #E2EBFA;\n",
              "      --hover-fill-color: #174EA6;\n",
              "      --disabled-fill-color: #AAA;\n",
              "      --disabled-bg-color: #DDD;\n",
              "  }\n",
              "\n",
              "  [theme=dark] .colab-df-quickchart {\n",
              "      --bg-color: #3B4455;\n",
              "      --fill-color: #D2E3FC;\n",
              "      --hover-bg-color: #434B5C;\n",
              "      --hover-fill-color: #FFFFFF;\n",
              "      --disabled-bg-color: #3B4455;\n",
              "      --disabled-fill-color: #666;\n",
              "  }\n",
              "\n",
              "  .colab-df-quickchart {\n",
              "    background-color: var(--bg-color);\n",
              "    border: none;\n",
              "    border-radius: 50%;\n",
              "    cursor: pointer;\n",
              "    display: none;\n",
              "    fill: var(--fill-color);\n",
              "    height: 32px;\n",
              "    padding: 0;\n",
              "    width: 32px;\n",
              "  }\n",
              "\n",
              "  .colab-df-quickchart:hover {\n",
              "    background-color: var(--hover-bg-color);\n",
              "    box-shadow: 0 1px 2px rgba(60, 64, 67, 0.3), 0 1px 3px 1px rgba(60, 64, 67, 0.15);\n",
              "    fill: var(--button-hover-fill-color);\n",
              "  }\n",
              "\n",
              "  .colab-df-quickchart-complete:disabled,\n",
              "  .colab-df-quickchart-complete:disabled:hover {\n",
              "    background-color: var(--disabled-bg-color);\n",
              "    fill: var(--disabled-fill-color);\n",
              "    box-shadow: none;\n",
              "  }\n",
              "\n",
              "  .colab-df-spinner {\n",
              "    border: 2px solid var(--fill-color);\n",
              "    border-color: transparent;\n",
              "    border-bottom-color: var(--fill-color);\n",
              "    animation:\n",
              "      spin 1s steps(1) infinite;\n",
              "  }\n",
              "\n",
              "  @keyframes spin {\n",
              "    0% {\n",
              "      border-color: transparent;\n",
              "      border-bottom-color: var(--fill-color);\n",
              "      border-left-color: var(--fill-color);\n",
              "    }\n",
              "    20% {\n",
              "      border-color: transparent;\n",
              "      border-left-color: var(--fill-color);\n",
              "      border-top-color: var(--fill-color);\n",
              "    }\n",
              "    30% {\n",
              "      border-color: transparent;\n",
              "      border-left-color: var(--fill-color);\n",
              "      border-top-color: var(--fill-color);\n",
              "      border-right-color: var(--fill-color);\n",
              "    }\n",
              "    40% {\n",
              "      border-color: transparent;\n",
              "      border-right-color: var(--fill-color);\n",
              "      border-top-color: var(--fill-color);\n",
              "    }\n",
              "    60% {\n",
              "      border-color: transparent;\n",
              "      border-right-color: var(--fill-color);\n",
              "    }\n",
              "    80% {\n",
              "      border-color: transparent;\n",
              "      border-right-color: var(--fill-color);\n",
              "      border-bottom-color: var(--fill-color);\n",
              "    }\n",
              "    90% {\n",
              "      border-color: transparent;\n",
              "      border-bottom-color: var(--fill-color);\n",
              "    }\n",
              "  }\n",
              "</style>\n",
              "\n",
              "  <script>\n",
              "    async function quickchart(key) {\n",
              "      const quickchartButtonEl =\n",
              "        document.querySelector('#' + key + ' button');\n",
              "      quickchartButtonEl.disabled = true;  // To prevent multiple clicks.\n",
              "      quickchartButtonEl.classList.add('colab-df-spinner');\n",
              "      try {\n",
              "        const charts = await google.colab.kernel.invokeFunction(\n",
              "            'suggestCharts', [key], {});\n",
              "      } catch (error) {\n",
              "        console.error('Error during call to suggestCharts:', error);\n",
              "      }\n",
              "      quickchartButtonEl.classList.remove('colab-df-spinner');\n",
              "      quickchartButtonEl.classList.add('colab-df-quickchart-complete');\n",
              "    }\n",
              "    (() => {\n",
              "      let quickchartButtonEl =\n",
              "        document.querySelector('#df-4f8b5e86-9209-4106-bfe6-e46fa73269b2 button');\n",
              "      quickchartButtonEl.style.display =\n",
              "        google.colab.kernel.accessAllowed ? 'block' : 'none';\n",
              "    })();\n",
              "  </script>\n",
              "</div>\n",
              "    </div>\n",
              "  </div>\n"
            ]
          },
          "metadata": {},
          "execution_count": 6
        }
      ],
      "source": [
        "output['history']"
      ]
    },
    {
      "cell_type": "markdown",
      "source": [
        "# HW 3 solution"
      ],
      "metadata": {
        "id": "xRxFHKubAk1o"
      }
    },
    {
      "cell_type": "markdown",
      "source": [
        "В качестве policy я взяла upper confidence bound. Чтобы тюнить баланс exploration и exploitation, я добавила коэффициент-множитель С к exploration части."
      ],
      "metadata": {
        "id": "zWOT9J70BD9W"
      }
    },
    {
      "cell_type": "code",
      "source": [
        "class UCB:\n",
        "  def __init__(self, C=1.0):\n",
        "    self.t = 0\n",
        "    self.C = C\n",
        "\n",
        "  def __call__(self, history: pd.DataFrame):\n",
        "    self.t += 1\n",
        "    ctr = history['clicks'] / (history['impressions'] + 1) #+1 в знаменателе, чтобы корректно обрабатывать новые баннеры, у которых не было показов\n",
        "    exploration = np.sqrt(2 * np.log(self.t) / (history['impressions'] + 1))\n",
        "    n = np.argmax(ctr + self.C * exploration)\n",
        "    return history.index[n]"
      ],
      "metadata": {
        "id": "inT5XkvBFtXj"
      },
      "execution_count": 7,
      "outputs": []
    },
    {
      "cell_type": "code",
      "source": [
        "start = time.time()\n",
        "output = simulation(UCB(), n=200000, seed=seed)\n",
        "end = time.time()\n",
        "end - start"
      ],
      "metadata": {
        "colab": {
          "base_uri": "https://localhost:8080/"
        },
        "id": "stwwhJQi65om",
        "outputId": "8ff04380-4a4c-48c7-8abc-06fd713e35b5"
      },
      "execution_count": 8,
      "outputs": [
        {
          "output_type": "stream",
          "name": "stdout",
          "text": [
            "1 impressions have been simulated\n",
            "10001 impressions have been simulated\n",
            "20001 impressions have been simulated\n",
            "30001 impressions have been simulated\n",
            "40001 impressions have been simulated\n",
            "50001 impressions have been simulated\n",
            "60001 impressions have been simulated\n",
            "70001 impressions have been simulated\n",
            "80001 impressions have been simulated\n",
            "90001 impressions have been simulated\n",
            "100001 impressions have been simulated\n",
            "110001 impressions have been simulated\n",
            "120001 impressions have been simulated\n",
            "130001 impressions have been simulated\n",
            "140001 impressions have been simulated\n",
            "150001 impressions have been simulated\n",
            "160001 impressions have been simulated\n",
            "170001 impressions have been simulated\n",
            "180001 impressions have been simulated\n",
            "190001 impressions have been simulated\n"
          ]
        },
        {
          "output_type": "execute_result",
          "data": {
            "text/plain": [
              "811.179233789444"
            ]
          },
          "metadata": {},
          "execution_count": 8
        }
      ]
    },
    {
      "cell_type": "code",
      "source": [
        "#UCB policy regret\n",
        "output['regret'], output['regret']/output['rounds'],  output['total_banners']"
      ],
      "metadata": {
        "colab": {
          "base_uri": "https://localhost:8080/"
        },
        "id": "CP7r1jroKJef",
        "outputId": "66275ec0-2594-4a62-cca2-722906bf42e4"
      },
      "execution_count": 9,
      "outputs": [
        {
          "output_type": "execute_result",
          "data": {
            "text/plain": [
              "(11409.558433606822, 0.057047792168034114, 184)"
            ]
          },
          "metadata": {},
          "execution_count": 9
        }
      ]
    },
    {
      "cell_type": "markdown",
      "source": [
        "Видим, что пока регрет сильно выше бейзлайна. Попробуем уменьшить его, выбрав оптимальный баланс exploitation и exploration с помощью подбора гиперпараметра C."
      ],
      "metadata": {
        "id": "1KgpWshGKd8x"
      }
    },
    {
      "cell_type": "code",
      "source": [
        "# сначала найдем примерные границы, в которых стоит искать оптимальный C.\n",
        "C_grid = [0.0001, 0.001, 0.01, 0.1]\n",
        "\n",
        "seed = 18475\n",
        "np.random.seed(seed=seed)\n",
        "\n",
        "for C in C_grid:\n",
        "  print(f\"C = {C}\")\n",
        "  output = simulation(UCB(C), n=200000, seed=seed)\n",
        "  print(f\"regret = {output['regret']}, C = {C}\\n\")"
      ],
      "metadata": {
        "colab": {
          "base_uri": "https://localhost:8080/"
        },
        "id": "M-c85rL8LSmN",
        "outputId": "43034f85-0f24-46da-d07f-fcf95dfcc006"
      },
      "execution_count": 10,
      "outputs": [
        {
          "output_type": "stream",
          "name": "stdout",
          "text": [
            "C = 0.0001\n",
            "1 impressions have been simulated\n",
            "10001 impressions have been simulated\n",
            "20001 impressions have been simulated\n",
            "30001 impressions have been simulated\n",
            "40001 impressions have been simulated\n",
            "50001 impressions have been simulated\n",
            "60001 impressions have been simulated\n",
            "70001 impressions have been simulated\n",
            "80001 impressions have been simulated\n",
            "90001 impressions have been simulated\n",
            "100001 impressions have been simulated\n",
            "110001 impressions have been simulated\n",
            "120001 impressions have been simulated\n",
            "130001 impressions have been simulated\n",
            "140001 impressions have been simulated\n",
            "150001 impressions have been simulated\n",
            "160001 impressions have been simulated\n",
            "170001 impressions have been simulated\n",
            "180001 impressions have been simulated\n",
            "190001 impressions have been simulated\n",
            "regret = 7570.250349143192, C = 0.0001\n",
            "\n",
            "C = 0.001\n",
            "1 impressions have been simulated\n",
            "10001 impressions have been simulated\n",
            "20001 impressions have been simulated\n",
            "30001 impressions have been simulated\n",
            "40001 impressions have been simulated\n",
            "50001 impressions have been simulated\n",
            "60001 impressions have been simulated\n",
            "70001 impressions have been simulated\n",
            "80001 impressions have been simulated\n",
            "90001 impressions have been simulated\n",
            "100001 impressions have been simulated\n",
            "110001 impressions have been simulated\n",
            "120001 impressions have been simulated\n",
            "130001 impressions have been simulated\n",
            "140001 impressions have been simulated\n",
            "150001 impressions have been simulated\n",
            "160001 impressions have been simulated\n",
            "170001 impressions have been simulated\n",
            "180001 impressions have been simulated\n",
            "190001 impressions have been simulated\n",
            "regret = 3371.391494359444, C = 0.001\n",
            "\n",
            "C = 0.01\n",
            "1 impressions have been simulated\n",
            "10001 impressions have been simulated\n",
            "20001 impressions have been simulated\n",
            "30001 impressions have been simulated\n",
            "40001 impressions have been simulated\n",
            "50001 impressions have been simulated\n",
            "60001 impressions have been simulated\n",
            "70001 impressions have been simulated\n",
            "80001 impressions have been simulated\n",
            "90001 impressions have been simulated\n",
            "100001 impressions have been simulated\n",
            "110001 impressions have been simulated\n",
            "120001 impressions have been simulated\n",
            "130001 impressions have been simulated\n",
            "140001 impressions have been simulated\n",
            "150001 impressions have been simulated\n",
            "160001 impressions have been simulated\n",
            "170001 impressions have been simulated\n",
            "180001 impressions have been simulated\n",
            "190001 impressions have been simulated\n",
            "regret = 11139.687308237757, C = 0.01\n",
            "\n",
            "C = 0.1\n",
            "1 impressions have been simulated\n",
            "10001 impressions have been simulated\n",
            "20001 impressions have been simulated\n",
            "30001 impressions have been simulated\n",
            "40001 impressions have been simulated\n",
            "50001 impressions have been simulated\n",
            "60001 impressions have been simulated\n",
            "70001 impressions have been simulated\n",
            "80001 impressions have been simulated\n",
            "90001 impressions have been simulated\n",
            "100001 impressions have been simulated\n",
            "110001 impressions have been simulated\n",
            "120001 impressions have been simulated\n",
            "130001 impressions have been simulated\n",
            "140001 impressions have been simulated\n",
            "150001 impressions have been simulated\n",
            "160001 impressions have been simulated\n",
            "170001 impressions have been simulated\n",
            "180001 impressions have been simulated\n",
            "190001 impressions have been simulated\n",
            "regret = 1564.3690073111775, C = 0.1\n",
            "\n"
          ]
        }
      ]
    },
    {
      "cell_type": "markdown",
      "source": [
        "Видим, что самый маленький регрет получился при C = 0.1. Попробуем уменьшить его, подобрав более оптимальный гиперпараметр примерно того же порядка"
      ],
      "metadata": {
        "id": "PoOwHoHtUYIv"
      }
    },
    {
      "cell_type": "code",
      "source": [
        "С_grid = np.linspace(0.05, 0.3, 5)\n",
        "\n",
        "seed = 18475\n",
        "np.random.seed(seed=seed)\n",
        "\n",
        "for C in С_grid:\n",
        "  print(f\"C = {C}\")\n",
        "  output = simulation(UCB(C), n=200000, seed=seed)\n",
        "  print(f\"regret = {output['regret']}, C = {C}\\n\")"
      ],
      "metadata": {
        "colab": {
          "base_uri": "https://localhost:8080/",
          "height": 1000
        },
        "id": "BkGC74T9VUxu",
        "outputId": "5bda12e5-c311-4347-e092-459aa16a8760"
      },
      "execution_count": 11,
      "outputs": [
        {
          "output_type": "stream",
          "name": "stdout",
          "text": [
            "C = 0.05\n",
            "1 impressions have been simulated\n",
            "10001 impressions have been simulated\n",
            "20001 impressions have been simulated\n",
            "30001 impressions have been simulated\n",
            "40001 impressions have been simulated\n",
            "50001 impressions have been simulated\n",
            "60001 impressions have been simulated\n",
            "70001 impressions have been simulated\n",
            "80001 impressions have been simulated\n",
            "90001 impressions have been simulated\n",
            "100001 impressions have been simulated\n",
            "110001 impressions have been simulated\n",
            "120001 impressions have been simulated\n",
            "130001 impressions have been simulated\n",
            "140001 impressions have been simulated\n",
            "150001 impressions have been simulated\n",
            "160001 impressions have been simulated\n",
            "170001 impressions have been simulated\n",
            "180001 impressions have been simulated\n",
            "190001 impressions have been simulated\n",
            "regret = 2424.8962079893777, C = 0.05\n",
            "\n",
            "C = 0.1125\n",
            "1 impressions have been simulated\n",
            "10001 impressions have been simulated\n",
            "20001 impressions have been simulated\n",
            "30001 impressions have been simulated\n",
            "40001 impressions have been simulated\n",
            "50001 impressions have been simulated\n",
            "60001 impressions have been simulated\n",
            "70001 impressions have been simulated\n",
            "80001 impressions have been simulated\n",
            "90001 impressions have been simulated\n",
            "100001 impressions have been simulated\n",
            "110001 impressions have been simulated\n",
            "120001 impressions have been simulated\n",
            "130001 impressions have been simulated\n",
            "140001 impressions have been simulated\n",
            "150001 impressions have been simulated\n",
            "160001 impressions have been simulated\n",
            "170001 impressions have been simulated\n",
            "180001 impressions have been simulated\n",
            "190001 impressions have been simulated\n",
            "regret = 238.13372074718464, C = 0.1125\n",
            "\n",
            "C = 0.175\n",
            "1 impressions have been simulated\n",
            "10001 impressions have been simulated\n",
            "20001 impressions have been simulated\n",
            "30001 impressions have been simulated\n",
            "40001 impressions have been simulated\n",
            "50001 impressions have been simulated\n",
            "60001 impressions have been simulated\n",
            "70001 impressions have been simulated\n",
            "80001 impressions have been simulated\n",
            "90001 impressions have been simulated\n",
            "100001 impressions have been simulated\n",
            "110001 impressions have been simulated\n",
            "120001 impressions have been simulated\n",
            "130001 impressions have been simulated\n",
            "140001 impressions have been simulated\n",
            "150001 impressions have been simulated\n",
            "160001 impressions have been simulated\n",
            "170001 impressions have been simulated\n",
            "180001 impressions have been simulated\n",
            "190001 impressions have been simulated\n",
            "regret = 625.4131818087798, C = 0.175\n",
            "\n",
            "C = 0.2375\n",
            "1 impressions have been simulated\n",
            "10001 impressions have been simulated\n",
            "20001 impressions have been simulated\n"
          ]
        },
        {
          "output_type": "error",
          "ename": "KeyboardInterrupt",
          "evalue": "ignored",
          "traceback": [
            "\u001b[0;31m---------------------------------------------------------------------------\u001b[0m",
            "\u001b[0;31mKeyboardInterrupt\u001b[0m                         Traceback (most recent call last)",
            "\u001b[0;32m<ipython-input-11-02dcc1a5e6e0>\u001b[0m in \u001b[0;36m<cell line: 6>\u001b[0;34m()\u001b[0m\n\u001b[1;32m      6\u001b[0m \u001b[0;32mfor\u001b[0m \u001b[0mC\u001b[0m \u001b[0;32min\u001b[0m \u001b[0mС_grid\u001b[0m\u001b[0;34m:\u001b[0m\u001b[0;34m\u001b[0m\u001b[0;34m\u001b[0m\u001b[0m\n\u001b[1;32m      7\u001b[0m   \u001b[0mprint\u001b[0m\u001b[0;34m(\u001b[0m\u001b[0;34mf\"C = {C}\"\u001b[0m\u001b[0;34m)\u001b[0m\u001b[0;34m\u001b[0m\u001b[0;34m\u001b[0m\u001b[0m\n\u001b[0;32m----> 8\u001b[0;31m   \u001b[0moutput\u001b[0m \u001b[0;34m=\u001b[0m \u001b[0msimulation\u001b[0m\u001b[0;34m(\u001b[0m\u001b[0mUCB\u001b[0m\u001b[0;34m(\u001b[0m\u001b[0mC\u001b[0m\u001b[0;34m)\u001b[0m\u001b[0;34m,\u001b[0m \u001b[0mn\u001b[0m\u001b[0;34m=\u001b[0m\u001b[0;36m200000\u001b[0m\u001b[0;34m,\u001b[0m \u001b[0mseed\u001b[0m\u001b[0;34m=\u001b[0m\u001b[0mseed\u001b[0m\u001b[0;34m)\u001b[0m\u001b[0;34m\u001b[0m\u001b[0;34m\u001b[0m\u001b[0m\n\u001b[0m\u001b[1;32m      9\u001b[0m   \u001b[0mprint\u001b[0m\u001b[0;34m(\u001b[0m\u001b[0;34mf\"regret = {output['regret']}, C = {C}\\n\"\u001b[0m\u001b[0;34m)\u001b[0m\u001b[0;34m\u001b[0m\u001b[0;34m\u001b[0m\u001b[0m\n",
            "\u001b[0;32m<ipython-input-1-1f5e578e83f1>\u001b[0m in \u001b[0;36msimulation\u001b[0;34m(policy, n, initial_banners, seed)\u001b[0m\n\u001b[1;32m     36\u001b[0m             \u001b[0mmax_index\u001b[0m \u001b[0;34m+=\u001b[0m \u001b[0;36m1\u001b[0m\u001b[0;34m\u001b[0m\u001b[0;34m\u001b[0m\u001b[0m\n\u001b[1;32m     37\u001b[0m \u001b[0;34m\u001b[0m\u001b[0m\n\u001b[0;32m---> 38\u001b[0;31m         \u001b[0mindex\u001b[0m \u001b[0;34m=\u001b[0m \u001b[0mpolicy\u001b[0m\u001b[0;34m(\u001b[0m\u001b[0mstate\u001b[0m\u001b[0;34m[\u001b[0m\u001b[0;34m[\u001b[0m\u001b[0;34m'impressions'\u001b[0m\u001b[0;34m,\u001b[0m \u001b[0;34m'clicks'\u001b[0m\u001b[0;34m]\u001b[0m\u001b[0;34m]\u001b[0m\u001b[0;34m.\u001b[0m\u001b[0mcopy\u001b[0m\u001b[0;34m(\u001b[0m\u001b[0;34m)\u001b[0m\u001b[0;34m)\u001b[0m\u001b[0;34m\u001b[0m\u001b[0;34m\u001b[0m\u001b[0m\n\u001b[0m\u001b[1;32m     39\u001b[0m \u001b[0;34m\u001b[0m\u001b[0m\n\u001b[1;32m     40\u001b[0m         \u001b[0;32massert\u001b[0m \u001b[0mindex\u001b[0m \u001b[0;32min\u001b[0m \u001b[0mstate\u001b[0m\u001b[0;34m.\u001b[0m\u001b[0mindex\u001b[0m\u001b[0;34m,\u001b[0m \u001b[0;34m'Error, wrong action number'\u001b[0m\u001b[0;34m\u001b[0m\u001b[0;34m\u001b[0m\u001b[0m\n",
            "\u001b[0;32m/usr/local/lib/python3.10/dist-packages/pandas/core/frame.py\u001b[0m in \u001b[0;36m__getitem__\u001b[0;34m(self, key)\u001b[0m\n\u001b[1;32m   3811\u001b[0m             \u001b[0;32mif\u001b[0m \u001b[0mis_iterator\u001b[0m\u001b[0;34m(\u001b[0m\u001b[0mkey\u001b[0m\u001b[0;34m)\u001b[0m\u001b[0;34m:\u001b[0m\u001b[0;34m\u001b[0m\u001b[0;34m\u001b[0m\u001b[0m\n\u001b[1;32m   3812\u001b[0m                 \u001b[0mkey\u001b[0m \u001b[0;34m=\u001b[0m \u001b[0mlist\u001b[0m\u001b[0;34m(\u001b[0m\u001b[0mkey\u001b[0m\u001b[0;34m)\u001b[0m\u001b[0;34m\u001b[0m\u001b[0;34m\u001b[0m\u001b[0m\n\u001b[0;32m-> 3813\u001b[0;31m             \u001b[0mindexer\u001b[0m \u001b[0;34m=\u001b[0m \u001b[0mself\u001b[0m\u001b[0;34m.\u001b[0m\u001b[0mcolumns\u001b[0m\u001b[0;34m.\u001b[0m\u001b[0m_get_indexer_strict\u001b[0m\u001b[0;34m(\u001b[0m\u001b[0mkey\u001b[0m\u001b[0;34m,\u001b[0m \u001b[0;34m\"columns\"\u001b[0m\u001b[0;34m)\u001b[0m\u001b[0;34m[\u001b[0m\u001b[0;36m1\u001b[0m\u001b[0;34m]\u001b[0m\u001b[0;34m\u001b[0m\u001b[0;34m\u001b[0m\u001b[0m\n\u001b[0m\u001b[1;32m   3814\u001b[0m \u001b[0;34m\u001b[0m\u001b[0m\n\u001b[1;32m   3815\u001b[0m         \u001b[0;31m# take() does not accept boolean indexers\u001b[0m\u001b[0;34m\u001b[0m\u001b[0;34m\u001b[0m\u001b[0m\n",
            "\u001b[0;32m/usr/local/lib/python3.10/dist-packages/pandas/core/indexes/base.py\u001b[0m in \u001b[0;36m_get_indexer_strict\u001b[0;34m(self, key, axis_name)\u001b[0m\n\u001b[1;32m   6063\u001b[0m \u001b[0;34m\u001b[0m\u001b[0m\n\u001b[1;32m   6064\u001b[0m         \u001b[0;32mif\u001b[0m \u001b[0mself\u001b[0m\u001b[0;34m.\u001b[0m\u001b[0m_index_as_unique\u001b[0m\u001b[0;34m:\u001b[0m\u001b[0;34m\u001b[0m\u001b[0;34m\u001b[0m\u001b[0m\n\u001b[0;32m-> 6065\u001b[0;31m             \u001b[0mindexer\u001b[0m \u001b[0;34m=\u001b[0m \u001b[0mself\u001b[0m\u001b[0;34m.\u001b[0m\u001b[0mget_indexer_for\u001b[0m\u001b[0;34m(\u001b[0m\u001b[0mkeyarr\u001b[0m\u001b[0;34m)\u001b[0m\u001b[0;34m\u001b[0m\u001b[0;34m\u001b[0m\u001b[0m\n\u001b[0m\u001b[1;32m   6066\u001b[0m             \u001b[0mkeyarr\u001b[0m \u001b[0;34m=\u001b[0m \u001b[0mself\u001b[0m\u001b[0;34m.\u001b[0m\u001b[0mreindex\u001b[0m\u001b[0;34m(\u001b[0m\u001b[0mkeyarr\u001b[0m\u001b[0;34m)\u001b[0m\u001b[0;34m[\u001b[0m\u001b[0;36m0\u001b[0m\u001b[0;34m]\u001b[0m\u001b[0;34m\u001b[0m\u001b[0;34m\u001b[0m\u001b[0m\n\u001b[1;32m   6067\u001b[0m         \u001b[0;32melse\u001b[0m\u001b[0;34m:\u001b[0m\u001b[0;34m\u001b[0m\u001b[0;34m\u001b[0m\u001b[0m\n",
            "\u001b[0;32m/usr/local/lib/python3.10/dist-packages/pandas/core/indexes/base.py\u001b[0m in \u001b[0;36mget_indexer_for\u001b[0;34m(self, target)\u001b[0m\n\u001b[1;32m   6050\u001b[0m         \"\"\"\n\u001b[1;32m   6051\u001b[0m         \u001b[0;32mif\u001b[0m \u001b[0mself\u001b[0m\u001b[0;34m.\u001b[0m\u001b[0m_index_as_unique\u001b[0m\u001b[0;34m:\u001b[0m\u001b[0;34m\u001b[0m\u001b[0;34m\u001b[0m\u001b[0m\n\u001b[0;32m-> 6052\u001b[0;31m             \u001b[0;32mreturn\u001b[0m \u001b[0mself\u001b[0m\u001b[0;34m.\u001b[0m\u001b[0mget_indexer\u001b[0m\u001b[0;34m(\u001b[0m\u001b[0mtarget\u001b[0m\u001b[0;34m)\u001b[0m\u001b[0;34m\u001b[0m\u001b[0;34m\u001b[0m\u001b[0m\n\u001b[0m\u001b[1;32m   6053\u001b[0m         \u001b[0mindexer\u001b[0m\u001b[0;34m,\u001b[0m \u001b[0m_\u001b[0m \u001b[0;34m=\u001b[0m \u001b[0mself\u001b[0m\u001b[0;34m.\u001b[0m\u001b[0mget_indexer_non_unique\u001b[0m\u001b[0;34m(\u001b[0m\u001b[0mtarget\u001b[0m\u001b[0;34m)\u001b[0m\u001b[0;34m\u001b[0m\u001b[0;34m\u001b[0m\u001b[0m\n\u001b[1;32m   6054\u001b[0m         \u001b[0;32mreturn\u001b[0m \u001b[0mindexer\u001b[0m\u001b[0;34m\u001b[0m\u001b[0;34m\u001b[0m\u001b[0m\n",
            "\u001b[0;32m/usr/local/lib/python3.10/dist-packages/pandas/core/indexes/base.py\u001b[0m in \u001b[0;36mget_indexer\u001b[0;34m(self, target, method, limit, tolerance)\u001b[0m\n\u001b[1;32m   3899\u001b[0m         \u001b[0mtarget\u001b[0m \u001b[0;34m=\u001b[0m \u001b[0mself\u001b[0m\u001b[0;34m.\u001b[0m\u001b[0m_maybe_cast_listlike_indexer\u001b[0m\u001b[0;34m(\u001b[0m\u001b[0mtarget\u001b[0m\u001b[0;34m)\u001b[0m\u001b[0;34m\u001b[0m\u001b[0;34m\u001b[0m\u001b[0m\n\u001b[1;32m   3900\u001b[0m \u001b[0;34m\u001b[0m\u001b[0m\n\u001b[0;32m-> 3901\u001b[0;31m         \u001b[0mself\u001b[0m\u001b[0;34m.\u001b[0m\u001b[0m_check_indexing_method\u001b[0m\u001b[0;34m(\u001b[0m\u001b[0mmethod\u001b[0m\u001b[0;34m,\u001b[0m \u001b[0mlimit\u001b[0m\u001b[0;34m,\u001b[0m \u001b[0mtolerance\u001b[0m\u001b[0;34m)\u001b[0m\u001b[0;34m\u001b[0m\u001b[0;34m\u001b[0m\u001b[0m\n\u001b[0m\u001b[1;32m   3902\u001b[0m \u001b[0;34m\u001b[0m\u001b[0m\n\u001b[1;32m   3903\u001b[0m         \u001b[0;32mif\u001b[0m \u001b[0;32mnot\u001b[0m \u001b[0mself\u001b[0m\u001b[0;34m.\u001b[0m\u001b[0m_index_as_unique\u001b[0m\u001b[0;34m:\u001b[0m\u001b[0;34m\u001b[0m\u001b[0;34m\u001b[0m\u001b[0m\n",
            "\u001b[0;32m/usr/local/lib/python3.10/dist-packages/pandas/core/indexes/base.py\u001b[0m in \u001b[0;36m_check_indexing_method\u001b[0;34m(self, method, limit, tolerance)\u001b[0m\n\u001b[1;32m   4045\u001b[0m                     )\n\u001b[1;32m   4046\u001b[0m \u001b[0;34m\u001b[0m\u001b[0m\n\u001b[0;32m-> 4047\u001b[0;31m         \u001b[0;32mif\u001b[0m \u001b[0mis_interval_dtype\u001b[0m\u001b[0;34m(\u001b[0m\u001b[0mself\u001b[0m\u001b[0;34m.\u001b[0m\u001b[0mdtype\u001b[0m\u001b[0;34m)\u001b[0m \u001b[0;32mor\u001b[0m \u001b[0mis_categorical_dtype\u001b[0m\u001b[0;34m(\u001b[0m\u001b[0mself\u001b[0m\u001b[0;34m.\u001b[0m\u001b[0mdtype\u001b[0m\u001b[0;34m)\u001b[0m\u001b[0;34m:\u001b[0m\u001b[0;34m\u001b[0m\u001b[0;34m\u001b[0m\u001b[0m\n\u001b[0m\u001b[1;32m   4048\u001b[0m             \u001b[0;31m# GH#37871 for now this is only for IntervalIndex and CategoricalIndex\u001b[0m\u001b[0;34m\u001b[0m\u001b[0;34m\u001b[0m\u001b[0m\n\u001b[1;32m   4049\u001b[0m             \u001b[0;32mif\u001b[0m \u001b[0mmethod\u001b[0m \u001b[0;32mis\u001b[0m \u001b[0;32mnot\u001b[0m \u001b[0;32mNone\u001b[0m\u001b[0;34m:\u001b[0m\u001b[0;34m\u001b[0m\u001b[0;34m\u001b[0m\u001b[0m\n",
            "\u001b[0;32m/usr/local/lib/python3.10/dist-packages/pandas/core/dtypes/common.py\u001b[0m in \u001b[0;36mis_interval_dtype\u001b[0;34m(arr_or_dtype)\u001b[0m\n\u001b[1;32m    461\u001b[0m \u001b[0;34m\u001b[0m\u001b[0m\n\u001b[1;32m    462\u001b[0m \u001b[0;34m\u001b[0m\u001b[0m\n\u001b[0;32m--> 463\u001b[0;31m \u001b[0;32mdef\u001b[0m \u001b[0mis_interval_dtype\u001b[0m\u001b[0;34m(\u001b[0m\u001b[0marr_or_dtype\u001b[0m\u001b[0;34m)\u001b[0m \u001b[0;34m->\u001b[0m \u001b[0mbool\u001b[0m\u001b[0;34m:\u001b[0m\u001b[0;34m\u001b[0m\u001b[0;34m\u001b[0m\u001b[0m\n\u001b[0m\u001b[1;32m    464\u001b[0m     \"\"\"\n\u001b[1;32m    465\u001b[0m     \u001b[0mCheck\u001b[0m \u001b[0mwhether\u001b[0m \u001b[0man\u001b[0m \u001b[0marray\u001b[0m\u001b[0;34m-\u001b[0m\u001b[0mlike\u001b[0m \u001b[0;32mor\u001b[0m \u001b[0mdtype\u001b[0m \u001b[0;32mis\u001b[0m \u001b[0mof\u001b[0m \u001b[0mthe\u001b[0m \u001b[0mInterval\u001b[0m \u001b[0mdtype\u001b[0m\u001b[0;34m.\u001b[0m\u001b[0;34m\u001b[0m\u001b[0;34m\u001b[0m\u001b[0m\n",
            "\u001b[0;31mKeyboardInterrupt\u001b[0m: "
          ]
        }
      ]
    },
    {
      "cell_type": "markdown",
      "source": [
        "(Я остановила подсчеты, потому что увидела, что регрет растет и смотреть на большие C бессмысленно."
      ],
      "metadata": {
        "id": "7ZTSUY3p0hvK"
      }
    },
    {
      "cell_type": "markdown",
      "source": [
        "Видим, что совсем далеко от 0.1 все-таки нет смысла отходить, потому что регрет растет. Поищем оптимальный С, близкий к 0.1."
      ],
      "metadata": {
        "id": "9rtV8SkRsEVM"
      }
    },
    {
      "cell_type": "code",
      "source": [
        "С_grid = np.linspace(0.075, 0.15, 5)\n",
        "\n",
        "seed = 18475\n",
        "np.random.seed(seed=seed)\n",
        "\n",
        "for C in С_grid:\n",
        "  print(f\"C = {C}\")\n",
        "  output = simulation(UCB(C), n=200000, seed=seed)\n",
        "  print(f\"regret = {output['regret']}, C = {C}\\n\")"
      ],
      "metadata": {
        "colab": {
          "base_uri": "https://localhost:8080/"
        },
        "id": "XliaqMwhtE2J",
        "outputId": "91eb4b94-4457-4347-d0dd-3217a232b413"
      },
      "execution_count": 12,
      "outputs": [
        {
          "output_type": "stream",
          "name": "stdout",
          "text": [
            "C = 0.075\n",
            "1 impressions have been simulated\n",
            "10001 impressions have been simulated\n",
            "20001 impressions have been simulated\n",
            "30001 impressions have been simulated\n",
            "40001 impressions have been simulated\n",
            "50001 impressions have been simulated\n",
            "60001 impressions have been simulated\n",
            "70001 impressions have been simulated\n",
            "80001 impressions have been simulated\n",
            "90001 impressions have been simulated\n",
            "100001 impressions have been simulated\n",
            "110001 impressions have been simulated\n",
            "120001 impressions have been simulated\n",
            "130001 impressions have been simulated\n",
            "140001 impressions have been simulated\n",
            "150001 impressions have been simulated\n",
            "160001 impressions have been simulated\n",
            "170001 impressions have been simulated\n",
            "180001 impressions have been simulated\n",
            "190001 impressions have been simulated\n",
            "regret = 169.29194382429958, C = 0.075\n",
            "\n",
            "C = 0.09375\n",
            "1 impressions have been simulated\n",
            "10001 impressions have been simulated\n",
            "20001 impressions have been simulated\n",
            "30001 impressions have been simulated\n",
            "40001 impressions have been simulated\n",
            "50001 impressions have been simulated\n",
            "60001 impressions have been simulated\n",
            "70001 impressions have been simulated\n",
            "80001 impressions have been simulated\n",
            "90001 impressions have been simulated\n",
            "100001 impressions have been simulated\n",
            "110001 impressions have been simulated\n",
            "120001 impressions have been simulated\n",
            "130001 impressions have been simulated\n",
            "140001 impressions have been simulated\n",
            "150001 impressions have been simulated\n",
            "160001 impressions have been simulated\n",
            "170001 impressions have been simulated\n",
            "180001 impressions have been simulated\n",
            "190001 impressions have been simulated\n",
            "regret = 197.58466881677123, C = 0.09375\n",
            "\n",
            "C = 0.11249999999999999\n",
            "1 impressions have been simulated\n",
            "10001 impressions have been simulated\n",
            "20001 impressions have been simulated\n",
            "30001 impressions have been simulated\n",
            "40001 impressions have been simulated\n",
            "50001 impressions have been simulated\n",
            "60001 impressions have been simulated\n",
            "70001 impressions have been simulated\n",
            "80001 impressions have been simulated\n",
            "90001 impressions have been simulated\n",
            "100001 impressions have been simulated\n",
            "110001 impressions have been simulated\n",
            "120001 impressions have been simulated\n",
            "130001 impressions have been simulated\n",
            "140001 impressions have been simulated\n",
            "150001 impressions have been simulated\n",
            "160001 impressions have been simulated\n",
            "170001 impressions have been simulated\n",
            "180001 impressions have been simulated\n",
            "190001 impressions have been simulated\n",
            "regret = 285.62406995499464, C = 0.11249999999999999\n",
            "\n",
            "C = 0.13124999999999998\n",
            "1 impressions have been simulated\n",
            "10001 impressions have been simulated\n",
            "20001 impressions have been simulated\n",
            "30001 impressions have been simulated\n",
            "40001 impressions have been simulated\n",
            "50001 impressions have been simulated\n",
            "60001 impressions have been simulated\n",
            "70001 impressions have been simulated\n",
            "80001 impressions have been simulated\n",
            "90001 impressions have been simulated\n",
            "100001 impressions have been simulated\n",
            "110001 impressions have been simulated\n",
            "120001 impressions have been simulated\n",
            "130001 impressions have been simulated\n",
            "140001 impressions have been simulated\n",
            "150001 impressions have been simulated\n",
            "160001 impressions have been simulated\n",
            "170001 impressions have been simulated\n",
            "180001 impressions have been simulated\n",
            "190001 impressions have been simulated\n",
            "regret = 352.5604866398054, C = 0.13124999999999998\n",
            "\n",
            "C = 0.15\n",
            "1 impressions have been simulated\n",
            "10001 impressions have been simulated\n",
            "20001 impressions have been simulated\n",
            "30001 impressions have been simulated\n",
            "40001 impressions have been simulated\n",
            "50001 impressions have been simulated\n",
            "60001 impressions have been simulated\n",
            "70001 impressions have been simulated\n",
            "80001 impressions have been simulated\n",
            "90001 impressions have been simulated\n",
            "100001 impressions have been simulated\n",
            "110001 impressions have been simulated\n",
            "120001 impressions have been simulated\n",
            "130001 impressions have been simulated\n",
            "140001 impressions have been simulated\n",
            "150001 impressions have been simulated\n",
            "160001 impressions have been simulated\n",
            "170001 impressions have been simulated\n",
            "180001 impressions have been simulated\n",
            "190001 impressions have been simulated\n",
            "regret = 412.2650332423724, C = 0.15\n",
            "\n"
          ]
        }
      ]
    },
    {
      "cell_type": "markdown",
      "source": [
        "Вывод: получили минимальный регрет равный 169 при C = 0.075, что значительно ниже регрета бейзлайна"
      ],
      "metadata": {
        "id": "9ML11D0DBdz9"
      }
    }
  ],
  "metadata": {
    "kernelspec": {
      "display_name": "Python 3",
      "name": "python3"
    },
    "language_info": {
      "codemirror_mode": {
        "name": "ipython",
        "version": 3
      },
      "file_extension": ".py",
      "mimetype": "text/x-python",
      "name": "python",
      "nbconvert_exporter": "python",
      "pygments_lexer": "ipython3",
      "version": "3.7.4"
    },
    "colab": {
      "provenance": []
    }
  },
  "nbformat": 4,
  "nbformat_minor": 0
}