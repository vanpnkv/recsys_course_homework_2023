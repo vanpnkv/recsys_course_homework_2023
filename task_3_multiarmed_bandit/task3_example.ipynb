{
 "cells": [
  {
   "cell_type": "code",
   "execution_count": 1,
   "metadata": {},
   "outputs": [],
   "source": [
    "import numpy as np\n",
    "import pandas as pd\n",
    "import time\n",
    "from functools import partial\n",
    "\n",
    "from scipy.stats import randint, uniform\n",
    "\n",
    "from utils import validate_policy\n",
    "\n",
    "pd.options.mode.chained_assignment = None"
   ]
  },
  {
   "cell_type": "code",
   "execution_count": 2,
   "metadata": {},
   "outputs": [],
   "source": [
    "def eps_greedy(history: pd.DataFrame, eps: float):\n",
    "    if uniform.rvs() < eps:\n",
    "        n = history.shape[0]\n",
    "        return history.index[randint.rvs(0, n)]\n",
    "\n",
    "    ctr = history['clicks'] / (history['impressions'] + 10)\n",
    "    n = np.argmax(ctr)\n",
    "    return history.index[n]\n",
    "\n",
    "policy = partial(eps_greedy, eps=0.06)"
   ]
  },
  {
   "cell_type": "code",
   "execution_count": 3,
   "metadata": {},
   "outputs": [
    {
     "name": "stdout",
     "output_type": "stream",
     "text": [
      "Impressions simulated: 1 |   Regret per round: 0.114\n",
      "Impressions simulated: 10001 |   Regret per round: 0.0327\n",
      "Impressions simulated: 20001 |   Regret per round: 0.0207\n",
      "Impressions simulated: 30001 |   Regret per round: 0.0162\n",
      "Impressions simulated: 40001 |   Regret per round: 0.0136\n",
      "Impressions simulated: 50001 |   Regret per round: 0.0121\n",
      "Impressions simulated: 60001 |   Regret per round: 0.0112\n",
      "Impressions simulated: 70001 |   Regret per round: 0.0106\n",
      "Impressions simulated: 80001 |   Regret per round: 0.01\n",
      "Impressions simulated: 90001 |   Regret per round: 0.0095\n",
      "Impressions simulated: 100001 |   Regret per round: 0.0093\n",
      "Impressions simulated: 110001 |   Regret per round: 0.009\n",
      "Impressions simulated: 120001 |   Regret per round: 0.0087\n",
      "Impressions simulated: 130001 |   Regret per round: 0.0085\n",
      "Impressions simulated: 140001 |   Regret per round: 0.0084\n",
      "Impressions simulated: 150001 |   Regret per round: 0.0083\n",
      "Impressions simulated: 160001 |   Regret per round: 0.0081\n",
      "Impressions simulated: 170001 |   Regret per round: 0.008\n",
      "Impressions simulated: 180001 |   Regret per round: 0.0079\n",
      "Impressions simulated: 190001 |   Regret per round: 0.0078\n",
      "\n",
      "Validation took 2 min 14 sec\n"
     ]
    }
   ],
   "source": [
    "output = validate_policy(\n",
    "    policy=policy,\n",
    "    n=200_000,    \n",
    "    seed=18475    \n",
    ")"
   ]
  },
  {
   "cell_type": "code",
   "execution_count": 4,
   "metadata": {},
   "outputs": [
    {
     "data": {
      "text/plain": [
       "(1540.7609683932544, 0.007703804841966272, 184)"
      ]
     },
     "execution_count": 4,
     "metadata": {},
     "output_type": "execute_result"
    }
   ],
   "source": [
    "# baseline regret\n",
    "output['regret'], output['regret']/output['rounds'],  output['total_banners']"
   ]
  },
  {
   "cell_type": "code",
   "execution_count": 5,
   "metadata": {},
   "outputs": [
    {
     "data": {
      "text/html": [
       "<div>\n",
       "<style scoped>\n",
       "    .dataframe tbody tr th:only-of-type {\n",
       "        vertical-align: middle;\n",
       "    }\n",
       "\n",
       "    .dataframe tbody tr th {\n",
       "        vertical-align: top;\n",
       "    }\n",
       "\n",
       "    .dataframe thead th {\n",
       "        text-align: right;\n",
       "    }\n",
       "</style>\n",
       "<table border=\"1\" class=\"dataframe\">\n",
       "  <thead>\n",
       "    <tr style=\"text-align: right;\">\n",
       "      <th></th>\n",
       "      <th>impressions</th>\n",
       "      <th>clicks</th>\n",
       "      <th>lifetime</th>\n",
       "      <th>p</th>\n",
       "    </tr>\n",
       "  </thead>\n",
       "  <tbody>\n",
       "    <tr>\n",
       "      <th>153</th>\n",
       "      <td>18970.0</td>\n",
       "      <td>4199.0</td>\n",
       "      <td>18003.025431</td>\n",
       "      <td>0.220134</td>\n",
       "    </tr>\n",
       "    <tr>\n",
       "      <th>162</th>\n",
       "      <td>228.0</td>\n",
       "      <td>26.0</td>\n",
       "      <td>1537.166719</td>\n",
       "      <td>0.113780</td>\n",
       "    </tr>\n",
       "    <tr>\n",
       "      <th>172</th>\n",
       "      <td>163.0</td>\n",
       "      <td>32.0</td>\n",
       "      <td>19648.592394</td>\n",
       "      <td>0.219968</td>\n",
       "    </tr>\n",
       "    <tr>\n",
       "      <th>173</th>\n",
       "      <td>170.0</td>\n",
       "      <td>18.0</td>\n",
       "      <td>12771.474990</td>\n",
       "      <td>0.122694</td>\n",
       "    </tr>\n",
       "    <tr>\n",
       "      <th>180</th>\n",
       "      <td>26.0</td>\n",
       "      <td>3.0</td>\n",
       "      <td>4655.819793</td>\n",
       "      <td>0.020061</td>\n",
       "    </tr>\n",
       "    <tr>\n",
       "      <th>182</th>\n",
       "      <td>6.0</td>\n",
       "      <td>0.0</td>\n",
       "      <td>889.624649</td>\n",
       "      <td>0.004621</td>\n",
       "    </tr>\n",
       "    <tr>\n",
       "      <th>183</th>\n",
       "      <td>1.0</td>\n",
       "      <td>0.0</td>\n",
       "      <td>15187.163761</td>\n",
       "      <td>0.073886</td>\n",
       "    </tr>\n",
       "  </tbody>\n",
       "</table>\n",
       "</div>"
      ],
      "text/plain": [
       "     impressions  clicks      lifetime         p\n",
       "153      18970.0  4199.0  18003.025431  0.220134\n",
       "162        228.0    26.0   1537.166719  0.113780\n",
       "172        163.0    32.0  19648.592394  0.219968\n",
       "173        170.0    18.0  12771.474990  0.122694\n",
       "180         26.0     3.0   4655.819793  0.020061\n",
       "182          6.0     0.0    889.624649  0.004621\n",
       "183          1.0     0.0  15187.163761  0.073886"
      ]
     },
     "execution_count": 5,
     "metadata": {},
     "output_type": "execute_result"
    }
   ],
   "source": [
    "output['history']"
   ]
  },
  {
   "cell_type": "code",
   "execution_count": null,
   "metadata": {},
   "outputs": [],
   "source": []
  }
 ],
 "metadata": {
  "kernelspec": {
   "display_name": "Python 3",
   "language": "python",
   "name": "python3"
  },
  "language_info": {
   "codemirror_mode": {
    "name": "ipython",
    "version": 3
   },
   "file_extension": ".py",
   "mimetype": "text/x-python",
   "name": "python",
   "nbconvert_exporter": "python",
   "pygments_lexer": "ipython3",
   "version": "3.9.6"
  }
 },
 "nbformat": 4,
 "nbformat_minor": 4
}
