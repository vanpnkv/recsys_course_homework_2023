{
 "cells": [
  {
   "cell_type": "code",
   "execution_count": 2,
   "metadata": {
    "execution": {
     "iopub.execute_input": "2023-12-04T19:48:28.918042Z",
     "iopub.status.busy": "2023-12-04T19:48:28.917665Z",
     "iopub.status.idle": "2023-12-04T19:48:29.259808Z",
     "shell.execute_reply": "2023-12-04T19:48:29.258909Z",
     "shell.execute_reply.started": "2023-12-04T19:48:28.918012Z"
    }
   },
   "outputs": [],
   "source": [
    "import pandas as pd"
   ]
  },
  {
   "cell_type": "code",
   "execution_count": 3,
   "metadata": {
    "execution": {
     "iopub.execute_input": "2023-12-04T18:26:04.685883Z",
     "iopub.status.busy": "2023-12-04T18:26:04.685572Z",
     "iopub.status.idle": "2023-12-04T18:26:48.438281Z",
     "shell.execute_reply": "2023-12-04T18:26:48.437238Z",
     "shell.execute_reply.started": "2023-12-04T18:26:04.685861Z"
    }
   },
   "outputs": [
    {
     "data": {
      "text/html": [
       "<div>\n",
       "<style scoped>\n",
       "    .dataframe tbody tr th:only-of-type {\n",
       "        vertical-align: middle;\n",
       "    }\n",
       "\n",
       "    .dataframe tbody tr th {\n",
       "        vertical-align: top;\n",
       "    }\n",
       "\n",
       "    .dataframe thead th {\n",
       "        text-align: right;\n",
       "    }\n",
       "</style>\n",
       "<table border=\"1\" class=\"dataframe\">\n",
       "  <thead>\n",
       "    <tr style=\"text-align: right;\">\n",
       "      <th></th>\n",
       "      <th>date_time</th>\n",
       "      <th>zone_id</th>\n",
       "      <th>banner_id</th>\n",
       "      <th>oaid_hash</th>\n",
       "      <th>campaign_clicks</th>\n",
       "      <th>os_id</th>\n",
       "      <th>country_id</th>\n",
       "      <th>banner_id0</th>\n",
       "      <th>rate0</th>\n",
       "      <th>g0</th>\n",
       "      <th>coeff_sum0</th>\n",
       "      <th>banner_id1</th>\n",
       "      <th>rate1</th>\n",
       "      <th>g1</th>\n",
       "      <th>coeff_sum1</th>\n",
       "      <th>impressions</th>\n",
       "      <th>clicks</th>\n",
       "    </tr>\n",
       "  </thead>\n",
       "  <tbody>\n",
       "    <tr>\n",
       "      <th>0</th>\n",
       "      <td>2021-09-27 00:01:30.000000</td>\n",
       "      <td>0</td>\n",
       "      <td>0</td>\n",
       "      <td>5664530014561852622</td>\n",
       "      <td>0</td>\n",
       "      <td>0</td>\n",
       "      <td>0</td>\n",
       "      <td>1240</td>\n",
       "      <td>0.067</td>\n",
       "      <td>0.035016</td>\n",
       "      <td>-7.268846</td>\n",
       "      <td>0</td>\n",
       "      <td>0.010</td>\n",
       "      <td>0.049516</td>\n",
       "      <td>-5.369901</td>\n",
       "      <td>1</td>\n",
       "      <td>1</td>\n",
       "    </tr>\n",
       "    <tr>\n",
       "      <th>1</th>\n",
       "      <td>2021-09-26 22:54:49.000000</td>\n",
       "      <td>1</td>\n",
       "      <td>1</td>\n",
       "      <td>5186611064559013950</td>\n",
       "      <td>0</td>\n",
       "      <td>0</td>\n",
       "      <td>1</td>\n",
       "      <td>1</td>\n",
       "      <td>0.002</td>\n",
       "      <td>0.054298</td>\n",
       "      <td>-2.657477</td>\n",
       "      <td>269</td>\n",
       "      <td>0.004</td>\n",
       "      <td>0.031942</td>\n",
       "      <td>-4.449220</td>\n",
       "      <td>1</td>\n",
       "      <td>1</td>\n",
       "    </tr>\n",
       "    <tr>\n",
       "      <th>2</th>\n",
       "      <td>2021-09-26 23:57:20.000000</td>\n",
       "      <td>2</td>\n",
       "      <td>2</td>\n",
       "      <td>2215519569292448030</td>\n",
       "      <td>3</td>\n",
       "      <td>0</td>\n",
       "      <td>0</td>\n",
       "      <td>2</td>\n",
       "      <td>0.014</td>\n",
       "      <td>0.014096</td>\n",
       "      <td>-3.824875</td>\n",
       "      <td>21</td>\n",
       "      <td>0.014</td>\n",
       "      <td>0.014906</td>\n",
       "      <td>-3.939309</td>\n",
       "      <td>1</td>\n",
       "      <td>1</td>\n",
       "    </tr>\n",
       "    <tr>\n",
       "      <th>3</th>\n",
       "      <td>2021-09-27 00:04:30.000000</td>\n",
       "      <td>3</td>\n",
       "      <td>3</td>\n",
       "      <td>6262169206735077204</td>\n",
       "      <td>0</td>\n",
       "      <td>1</td>\n",
       "      <td>1</td>\n",
       "      <td>3</td>\n",
       "      <td>0.012</td>\n",
       "      <td>0.015232</td>\n",
       "      <td>-3.461357</td>\n",
       "      <td>99</td>\n",
       "      <td>0.006</td>\n",
       "      <td>0.050671</td>\n",
       "      <td>-3.418403</td>\n",
       "      <td>1</td>\n",
       "      <td>1</td>\n",
       "    </tr>\n",
       "    <tr>\n",
       "      <th>4</th>\n",
       "      <td>2021-09-27 00:06:21.000000</td>\n",
       "      <td>4</td>\n",
       "      <td>4</td>\n",
       "      <td>4778985830203613115</td>\n",
       "      <td>0</td>\n",
       "      <td>1</td>\n",
       "      <td>0</td>\n",
       "      <td>4</td>\n",
       "      <td>0.019</td>\n",
       "      <td>0.051265</td>\n",
       "      <td>-4.009026</td>\n",
       "      <td>11464230</td>\n",
       "      <td>6.790</td>\n",
       "      <td>0.032005</td>\n",
       "      <td>-2.828797</td>\n",
       "      <td>1</td>\n",
       "      <td>1</td>\n",
       "    </tr>\n",
       "  </tbody>\n",
       "</table>\n",
       "</div>"
      ],
      "text/plain": [
       "                    date_time  zone_id  banner_id            oaid_hash  \\\n",
       "0  2021-09-27 00:01:30.000000        0          0  5664530014561852622   \n",
       "1  2021-09-26 22:54:49.000000        1          1  5186611064559013950   \n",
       "2  2021-09-26 23:57:20.000000        2          2  2215519569292448030   \n",
       "3  2021-09-27 00:04:30.000000        3          3  6262169206735077204   \n",
       "4  2021-09-27 00:06:21.000000        4          4  4778985830203613115   \n",
       "\n",
       "   campaign_clicks  os_id  country_id  banner_id0  rate0        g0  \\\n",
       "0                0      0           0        1240  0.067  0.035016   \n",
       "1                0      0           1           1  0.002  0.054298   \n",
       "2                3      0           0           2  0.014  0.014096   \n",
       "3                0      1           1           3  0.012  0.015232   \n",
       "4                0      1           0           4  0.019  0.051265   \n",
       "\n",
       "   coeff_sum0  banner_id1  rate1        g1  coeff_sum1  impressions  clicks  \n",
       "0   -7.268846           0  0.010  0.049516   -5.369901            1       1  \n",
       "1   -2.657477         269  0.004  0.031942   -4.449220            1       1  \n",
       "2   -3.824875          21  0.014  0.014906   -3.939309            1       1  \n",
       "3   -3.461357          99  0.006  0.050671   -3.418403            1       1  \n",
       "4   -4.009026    11464230  6.790  0.032005   -2.828797            1       1  "
      ]
     },
     "execution_count": 3,
     "metadata": {},
     "output_type": "execute_result"
    }
   ],
   "source": [
    "data = pd.read_csv('data.csv')\n",
    "data.head()"
   ]
  },
  {
   "cell_type": "code",
   "execution_count": 4,
   "metadata": {
    "execution": {
     "iopub.execute_input": "2023-12-04T18:26:48.440617Z",
     "iopub.status.busy": "2023-12-04T18:26:48.440307Z",
     "iopub.status.idle": "2023-12-04T18:26:48.724891Z",
     "shell.execute_reply": "2023-12-04T18:26:48.724060Z",
     "shell.execute_reply.started": "2023-12-04T18:26:48.440586Z"
    }
   },
   "outputs": [],
   "source": [
    "# удалим лишние колонки\n",
    "data = data.drop(columns = ['banner_id0', 'banner_id1', 'rate0', 'rate1', 'g0', 'g1', 'coeff_sum0', 'coeff_sum1'])"
   ]
  },
  {
   "cell_type": "code",
   "execution_count": 19,
   "metadata": {
    "execution": {
     "iopub.execute_input": "2023-12-04T17:39:41.932666Z",
     "iopub.status.busy": "2023-12-04T17:39:41.932368Z",
     "iopub.status.idle": "2023-12-04T17:39:42.363911Z",
     "shell.execute_reply": "2023-12-04T17:39:42.363057Z",
     "shell.execute_reply.started": "2023-12-04T17:39:41.932642Z"
    }
   },
   "outputs": [
    {
     "data": {
      "text/plain": [
       "<Axes: xlabel='campaign_clicks'>"
      ]
     },
     "execution_count": 19,
     "metadata": {},
     "output_type": "execute_result"
    },
    {
     "data": {
      "image/png": "[encoded data removed]",
      "text/plain": [
       "<Figure size 640x480 with 1 Axes>"
      ]
     },
     "metadata": {},
     "output_type": "display_data"
    }
   ],
   "source": [
    "import matplotlib.pyplot as plt\n",
    "data.groupby('campaign_clicks')['clicks'].mean().plot()\n"
   ]
  },
  {
   "cell_type": "markdown",
   "metadata": {},
   "source": [
    "Ненулевое количество кликов только для наблюдений с campaign_clicks < 250 (примерно)"
   ]
  },
  {
   "cell_type": "code",
   "execution_count": 5,
   "metadata": {
    "execution": {
     "iopub.execute_input": "2023-12-04T18:26:48.726230Z",
     "iopub.status.busy": "2023-12-04T18:26:48.725956Z",
     "iopub.status.idle": "2023-12-04T18:26:48.753571Z",
     "shell.execute_reply": "2023-12-04T18:26:48.752825Z",
     "shell.execute_reply.started": "2023-12-04T18:26:48.726207Z"
    }
   },
   "outputs": [],
   "source": [
    "data['before_clicks'] = data['campaign_clicks'] > 250\n",
    "data['before_clicks'] = data['before_clicks'].astype(int)"
   ]
  },
  {
   "cell_type": "code",
   "execution_count": 46,
   "metadata": {
    "execution": {
     "iopub.execute_input": "2023-12-04T18:30:42.431490Z",
     "iopub.status.busy": "2023-12-04T18:30:42.431166Z",
     "iopub.status.idle": "2023-12-04T18:30:42.449188Z",
     "shell.execute_reply": "2023-12-04T18:30:42.447874Z",
     "shell.execute_reply.started": "2023-12-04T18:30:42.431466Z"
    }
   },
   "outputs": [
    {
     "data": {
      "text/plain": [
       "5457"
      ]
     },
     "execution_count": 46,
     "metadata": {},
     "output_type": "execute_result"
    }
   ],
   "source": [
    "data['before_clicks'].sum()"
   ]
  },
  {
   "cell_type": "code",
   "execution_count": 24,
   "metadata": {
    "execution": {
     "iopub.execute_input": "2023-12-04T18:06:16.146804Z",
     "iopub.status.busy": "2023-12-04T18:06:16.146391Z",
     "iopub.status.idle": "2023-12-04T18:06:16.290813Z",
     "shell.execute_reply": "2023-12-04T18:06:16.289890Z",
     "shell.execute_reply.started": "2023-12-04T18:06:16.146772Z"
    }
   },
   "outputs": [
    {
     "data": {
      "text/plain": [
       "os_id\n",
       "2     4589979\n",
       "0     3856798\n",
       "1     3178693\n",
       "4     3012541\n",
       "3      759767\n",
       "6      310346\n",
       "5      111946\n",
       "8        1273\n",
       "7          99\n",
       "9          25\n",
       "10          5\n",
       "Name: count, dtype: int64"
      ]
     },
     "execution_count": 24,
     "metadata": {},
     "output_type": "execute_result"
    }
   ],
   "source": [
    "data['os_id'].value_counts()"
   ]
  },
  {
   "cell_type": "markdown",
   "metadata": {},
   "source": [
    "Редкие группы присоединим к ближайшим по среднему числу кликов"
   ]
  },
  {
   "cell_type": "code",
   "execution_count": 23,
   "metadata": {
    "execution": {
     "iopub.execute_input": "2023-12-04T18:03:26.954359Z",
     "iopub.status.busy": "2023-12-04T18:03:26.953459Z",
     "iopub.status.idle": "2023-12-04T18:03:27.225423Z",
     "shell.execute_reply": "2023-12-04T18:03:27.224584Z",
     "shell.execute_reply.started": "2023-12-04T18:03:26.954333Z"
    }
   },
   "outputs": [
    {
     "data": {
      "text/plain": [
       "os_id\n",
       "0     0.030062\n",
       "1     0.013518\n",
       "2     0.017832\n",
       "3     0.048044\n",
       "4     0.039583\n",
       "5     0.053302\n",
       "6     0.063603\n",
       "7     0.030303\n",
       "8     0.024352\n",
       "9     0.000000\n",
       "10    0.000000\n",
       "Name: clicks, dtype: float64"
      ]
     },
     "execution_count": 23,
     "metadata": {},
     "output_type": "execute_result"
    }
   ],
   "source": [
    "data.groupby('os_id')['clicks'].mean()"
   ]
  },
  {
   "cell_type": "code",
   "execution_count": 6,
   "metadata": {
    "execution": {
     "iopub.execute_input": "2023-12-04T18:26:48.755460Z",
     "iopub.status.busy": "2023-12-04T18:26:48.755225Z",
     "iopub.status.idle": "2023-12-04T18:26:48.857324Z",
     "shell.execute_reply": "2023-12-04T18:26:48.856515Z",
     "shell.execute_reply.started": "2023-12-04T18:26:48.755439Z"
    }
   },
   "outputs": [],
   "source": [
    "#9 10 c 2 \n",
    "# 7 8 c 0\n",
    "data['os_id'] = data['os_id'].replace({9: 2, 10: 2, 7: 0, 8: 0})"
   ]
  },
  {
   "cell_type": "code",
   "execution_count": 29,
   "metadata": {
    "execution": {
     "iopub.execute_input": "2023-12-04T18:19:21.277078Z",
     "iopub.status.busy": "2023-12-04T18:19:21.276623Z",
     "iopub.status.idle": "2023-12-04T18:19:23.042105Z",
     "shell.execute_reply": "2023-12-04T18:19:23.041147Z",
     "shell.execute_reply.started": "2023-12-04T18:19:21.277049Z"
    }
   },
   "outputs": [
    {
     "name": "stdout",
     "output_type": "stream",
     "text": [
      "unique users: 6510316\n",
      "unique banners: 1633\n"
     ]
    }
   ],
   "source": [
    "print('unique users:', data['oaid_hash'].nunique())\n",
    "print('unique banners:', data['banner_id'].nunique())"
   ]
  },
  {
   "cell_type": "code",
   "execution_count": 7,
   "metadata": {
    "execution": {
     "iopub.execute_input": "2023-12-04T18:21:06.590753Z",
     "iopub.status.busy": "2023-12-04T18:21:06.590421Z",
     "iopub.status.idle": "2023-12-04T18:21:07.277655Z",
     "shell.execute_reply": "2023-12-04T18:21:07.276829Z",
     "shell.execute_reply.started": "2023-12-04T18:21:06.590721Z"
    }
   },
   "outputs": [],
   "source": [
    "from sklearn.preprocessing import OneHotEncoder"
   ]
  },
  {
   "cell_type": "markdown",
   "metadata": {},
   "source": [
    "Остальное как в прошлом дз, но не удаляем айди юзера и баннера"
   ]
  },
  {
   "cell_type": "code",
   "execution_count": 8,
   "metadata": {
    "execution": {
     "iopub.execute_input": "2023-12-04T18:26:48.858437Z",
     "iopub.status.busy": "2023-12-04T18:26:48.858225Z",
     "iopub.status.idle": "2023-12-04T18:27:47.097700Z",
     "shell.execute_reply": "2023-12-04T18:27:47.096837Z",
     "shell.execute_reply.started": "2023-12-04T18:26:48.858418Z"
    }
   },
   "outputs": [
    {
     "name": "stderr",
     "output_type": "stream",
     "text": [
      "C:\\Anaconda3\\lib\\site-packages\\sklearn\\preprocessing\\_encoders.py:202: UserWarning: Found unknown categories in columns [0, 1, 2, 6, 8] during transform. These unknown categories will be encoded as all zeros\n",
      "  warnings.warn(\n"
     ]
    }
   ],
   "source": [
    "   # удаляем impressions\n",
    "data = data.drop('impressions', axis = 1)\n",
    "\n",
    "# создаем фичи от времени\n",
    "data.date_time = pd.to_datetime(data.date_time)\n",
    "data['day'] = data['date_time'].dt.weekday\n",
    "data['hour'] = data['date_time'].dt.hour\n",
    "\n",
    "# добавляем интерсекции между часом и днем недели \n",
    "data['hour_day'] = data['day'].astype(str) + ' ' + data['hour'].astype(str)\n",
    "data['hour_day'] = pd.factorize(data['hour_day'])[0]\n",
    "\n",
    "# выделяем редкие zone id в категорию -1\n",
    "zone_id_counts = data['zone_id'].value_counts()\n",
    "idxs = zone_id_counts[zone_id_counts < 10].index\n",
    "\n",
    "data.loc[data['zone_id'].isin(idxs), 'zone_id'] = -1\n",
    "\n",
    "# делим выборку на train и test\n",
    "data = data.sort_values(by='date_time', ignore_index=True)\n",
    "cut_off_val = data[data['date_time'] < pd.to_datetime('2021-10-01')].index[-1]\n",
    "cut_off_test = data[data['date_time'] < pd.to_datetime('2021-10-02')].index[-1]\n",
    "\n",
    "y = data['clicks']\n",
    "data = data.drop(columns = ['clicks', 'campaign_clicks', 'date_time'])\n",
    "data_train, data_test = data.iloc[:cut_off_test, :], data.iloc[cut_off_test:, :]\n",
    "y_train_all, y_test = y.iloc[:cut_off_test], y.iloc[cut_off_test:]\n",
    "\n",
    "# делаем one hot encodings\n",
    "enc = OneHotEncoder(drop='first', handle_unknown='ignore')\n",
    "enc.fit(data_train)\n",
    "transformed_train_all = enc.transform(data_train)\n",
    "transformed_test = enc.transform(data_test)"
   ]
  },
  {
   "cell_type": "code",
   "execution_count": 9,
   "metadata": {
    "execution": {
     "iopub.execute_input": "2023-12-04T18:27:54.756512Z",
     "iopub.status.busy": "2023-12-04T18:27:54.756176Z",
     "iopub.status.idle": "2023-12-04T18:27:55.828493Z",
     "shell.execute_reply": "2023-12-04T18:27:55.827485Z",
     "shell.execute_reply.started": "2023-12-04T18:27:54.756489Z"
    }
   },
   "outputs": [],
   "source": [
    "transformed_train, transformed_val = transformed_train_all[:cut_off_val], transformed_train_all[cut_off_val:]\n",
    "y_train, y_val = y_train_all[:cut_off_val], y_train_all[cut_off_val:]"
   ]
  },
  {
   "cell_type": "code",
   "execution_count": 1,
   "metadata": {
    "execution": {
     "iopub.execute_input": "2023-12-04T18:32:12.786745Z",
     "iopub.status.busy": "2023-12-04T18:32:12.786403Z",
     "iopub.status.idle": "2023-12-04T18:33:11.726253Z",
     "shell.execute_reply": "2023-12-04T18:33:11.725193Z",
     "shell.execute_reply.started": "2023-12-04T18:32:12.786710Z"
    }
   },
   "outputs": [
    {
     "name": "stdout",
     "output_type": "stream",
     "text": [
      "Collecting xlearn\n",
      "  Downloading xlearn-0.40a1.tar.gz (4.9 MB)\n",
      "\u001b[2K     \u001b[90m━━━━━━━━━━━━━━━━━━━━━━━━━━━━━━━━━━━━━━━━\u001b[0m \u001b[32m4.9/4.9 MB\u001b[0m \u001b[31m2.7 MB/s\u001b[0m eta \u001b[36m0:00:00\u001b[0m00:01\u001b[0m00:01\u001b[0m0m\n",
      "\u001b[?25h  Preparing metadata (setup.py) ... \u001b[?25ldone\n",
      "\u001b[?25hBuilding wheels for collected packages: xlearn\n",
      "  Building wheel for xlearn (setup.py) ... \u001b[?25ldone\n",
      "\u001b[?25h  Created wheel for xlearn: filename=xlearn-0.40a1-py3-none-any.whl size=145455 sha256=20a8964e2c0de3ec94aa9cfb9ccca1a554cf1a9c430a994d46fb87dc3c4c974e\n",
      "  Stored in directory: /Users/mariamitrankova/Library/Caches/pip/wheels/1c/11/3b/df8413edafafa96e8eddf2ca22ff15a19ceb6b5f9b9a28e443\n",
      "Successfully built xlearn\n",
      "Installing collected packages: xlearn\n",
      "Successfully installed xlearn-0.40a1\n"
     ]
    }
   ],
   "source": [
    "!pip install xlearn"
   ]
  },
  {
   "cell_type": "code",
   "execution_count": 10,
   "metadata": {
    "execution": {
     "iopub.execute_input": "2023-12-04T19:48:42.767715Z",
     "iopub.status.busy": "2023-12-04T19:48:42.767257Z",
     "iopub.status.idle": "2023-12-04T19:48:43.501340Z",
     "shell.execute_reply": "2023-12-04T19:48:43.500565Z",
     "shell.execute_reply.started": "2023-12-04T19:48:42.767689Z"
    }
   },
   "outputs": [],
   "source": [
    "import xlearn as xl\n",
    "import numpy as np"
   ]
  },
  {
   "cell_type": "code",
   "execution_count": 11,
   "metadata": {
    "execution": {
     "iopub.execute_input": "2023-12-04T19:17:59.023450Z",
     "iopub.status.busy": "2023-12-04T19:17:59.023122Z",
     "iopub.status.idle": "2023-12-04T19:18:00.581795Z",
     "shell.execute_reply": "2023-12-04T19:18:00.580647Z",
     "shell.execute_reply.started": "2023-12-04T19:17:59.023427Z"
    }
   },
   "outputs": [
    {
     "data": {
      "text/plain": [
       "array([0, 0, 0, ..., 8, 8, 8])"
      ]
     },
     "execution_count": 11,
     "metadata": {},
     "output_type": "execute_result"
    }
   ],
   "source": [
    "fields = []\n",
    "for i, col in enumerate(data_train.columns):\n",
    "    fields += [i]*len(data_train[col].unique())\n",
    "fields = np.array(fields)\n",
    "fields"
   ]
  },
  {
   "cell_type": "code",
   "execution_count": 12,
   "metadata": {
    "execution": {
     "iopub.execute_input": "2023-12-04T19:34:02.177967Z",
     "iopub.status.busy": "2023-12-04T19:34:02.177468Z",
     "iopub.status.idle": "2023-12-04T19:34:02.190106Z",
     "shell.execute_reply": "2023-12-04T19:34:02.189128Z",
     "shell.execute_reply.started": "2023-12-04T19:34:02.177943Z"
    }
   },
   "outputs": [],
   "source": [
    "from tqdm import tqdm \n",
    "\n",
    "def convert_to_libffm(X, labels, file):\n",
    "    row_idx, col_idx = X.nonzero()\n",
    "    values = X.data\n",
    "    with open(file, \"w\") as file:\n",
    "        file.write(f\"{labels[row_idx[0]]}\")\n",
    "        file.write(f' {fields[col_idx[0]]}:{col_idx[0]}:{values[0]}')\n",
    "        for i in tqdm(range(1, len(row_idx))):\n",
    "            if row_idx[i] == row_idx[i-1]:\n",
    "                file.write(f' {fields[col_idx[i]]}:{col_idx[i]}:{values[i]}')\n",
    "            else:\n",
    "                file.write('\\n')\n",
    "                file.write(f'{labels[row_idx[i]]}')\n",
    "                file.write(f' {fields[col_idx[i]]}:{col_idx[i]}:{values[i]}')"
   ]
  },
  {
   "cell_type": "code",
   "execution_count": 13,
   "metadata": {
    "execution": {
     "iopub.execute_input": "2023-12-04T19:34:02.826930Z",
     "iopub.status.busy": "2023-12-04T19:34:02.826555Z",
     "iopub.status.idle": "2023-12-04T19:37:14.533168Z",
     "shell.execute_reply": "2023-12-04T19:37:14.532180Z",
     "shell.execute_reply.started": "2023-12-04T19:34:02.826901Z"
    }
   },
   "outputs": [
    {
     "name": "stderr",
     "output_type": "stream",
     "text": [
      "100%|██████████████████████████████████████████████████████████████████| 86863321/86863321 [05:26<00:00, 265766.64it/s]\n"
     ]
    }
   ],
   "source": [
    "convert_to_libffm(transformed_train, y_train, 'train.txt')"
   ]
  },
  {
   "cell_type": "code",
   "execution_count": 14,
   "metadata": {
    "execution": {
     "iopub.execute_input": "2023-12-04T19:45:22.940927Z",
     "iopub.status.busy": "2023-12-04T19:45:22.940559Z",
     "iopub.status.idle": "2023-12-04T19:46:03.573405Z",
     "shell.execute_reply": "2023-12-04T19:46:03.572226Z",
     "shell.execute_reply.started": "2023-12-04T19:45:22.940901Z"
    }
   },
   "outputs": [
    {
     "name": "stderr",
     "output_type": "stream",
     "text": [
      "100%|██████████████████████████████████████████████████████████████████| 12006038/12006038 [00:39<00:00, 303433.72it/s]\n",
      "100%|████████████████████████████████████████████████████████████████████| 9835764/9835764 [00:32<00:00, 304962.18it/s]\n"
     ]
    }
   ],
   "source": [
    "convert_to_libffm(transformed_val, y_val.values, 'val.txt')\n",
    "convert_to_libffm(transformed_test, y_test.values, 'test.txt')"
   ]
  },
  {
   "cell_type": "code",
   "execution_count": 15,
   "metadata": {
    "execution": {
     "iopub.execute_input": "2023-12-04T19:48:49.398104Z",
     "iopub.status.busy": "2023-12-04T19:48:49.397761Z",
     "iopub.status.idle": "2023-12-04T19:48:49.402757Z",
     "shell.execute_reply": "2023-12-04T19:48:49.401682Z",
     "shell.execute_reply.started": "2023-12-04T19:48:49.398078Z"
    }
   },
   "outputs": [],
   "source": [
    "ffm_model = xl.create_ffm() \n",
    "ffm_model.setTrain(\"train.txt\")"
   ]
  },
  {
   "cell_type": "code",
   "execution_count": 16,
   "metadata": {
    "execution": {
     "iopub.execute_input": "2023-12-04T19:48:51.728456Z",
     "iopub.status.busy": "2023-12-04T19:48:51.728128Z"
    }
   },
   "outputs": [],
   "source": [
    "param = {'task':'binary', 'lr':0.2, 'lambda':0.002, 'k': 4, 'epoch' : 10, 'metric': 'auc'}\n",
    "ffm_model.fit(param, \"model_default.out\")"
   ]
  },
  {
   "cell_type": "code",
   "execution_count": 18,
   "metadata": {},
   "outputs": [],
   "source": [
    "from sklearn.metrics import roc_auc_score, log_loss"
   ]
  },
  {
   "cell_type": "code",
   "execution_count": 19,
   "metadata": {},
   "outputs": [
    {
     "name": "stdout",
     "output_type": "stream",
     "text": [
      "auc: 0.7898091290479862\n",
      "log_loss: 0.15592709130561022\n"
     ]
    }
   ],
   "source": [
    "ffm_model.setSigmoid()\n",
    "ffm_model.setTest(\"val.txt\")\n",
    "pred = ffm_model.predict(\"model_default.out\")\n",
    "print(f\"auc: {roc_auc_score(y_val, pred)}\")\n",
    "print(f\"log_loss: {log_loss(y_val, pred)}\")"
   ]
  },
  {
   "cell_type": "code",
   "execution_count": 20,
   "metadata": {},
   "outputs": [
    {
     "name": "stdout",
     "output_type": "stream",
     "text": [
      "Test Baseline:\n",
      "auc: 0.5\n",
      "log_loss: 0.15303284409655607\n"
     ]
    }
   ],
   "source": [
    "# бейзлайн\n",
    "pred = np.ones_like(y_test) * y_test.mean()\n",
    "print(f\"auc: {roc_auc_score(y_test, pred)}\")\n",
    "print(f\"log_loss: {log_loss(y_test, pred)}\")"
   ]
  },
  {
   "cell_type": "code",
   "execution_count": 21,
   "metadata": {},
   "outputs": [
    {
     "name": "stdout",
     "output_type": "stream",
     "text": [
      "test auc: 0.7768808920288568\n",
      "test log_loss: 0.13678437330644386\n"
     ]
    }
   ],
   "source": [
    "# метрики\n",
    "ffm_model.setSigmoid()\n",
    "ffm_model.setTest(\"test.txt\")\n",
    "pred = ffm_model.predict(\"model_default.out\")\n",
    "print(f\"test auc: {roc_auc_score(y_test, pred)}\")\n",
    "print(f\"test log_loss: {log_loss(y_test, pred)}\")"
   ]
  }
 ],
 "metadata": {
  "kaggle": {
   "accelerator": "none",
   "dataSources": [
    {
     "datasetId": 4012891,
     "sourceId": 6982515,
     "sourceType": "datasetVersion"
    }
   ],
   "dockerImageVersionId": 30587,
   "isGpuEnabled": false,
   "isInternetEnabled": true,
   "language": "python",
   "sourceType": "notebook"
  },
  "kernelspec": {
   "display_name": "Python 3 (ipykernel)",
   "language": "python",
   "name": "python3"
  },
  "language_info": {
   "codemirror_mode": {
    "name": "ipython",
    "version": 3
   },
   "file_extension": ".py",
   "mimetype": "text/x-python",
   "name": "python",
   "nbconvert_exporter": "python",
   "pygments_lexer": "ipython3",
   "version": "3.9.13"
  }
 },
 "nbformat": 4,
 "nbformat_minor": 4
}
