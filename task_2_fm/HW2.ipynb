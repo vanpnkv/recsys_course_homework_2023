{
 "cells": [
  {
   "cell_type": "code",
   "execution_count": 1,
   "id": "6b1a2756-1ebc-42e4-ba57-e03790c1ada3",
   "metadata": {
    "tags": []
   },
   "outputs": [],
   "source": [
    "import numpy as np\n",
    "import pandas as pd\n",
    "import matplotlib.pyplot as plt\n",
    "import xlearn as xl"
   ]
  },
  {
   "cell_type": "code",
   "execution_count": 2,
   "id": "1a924c1a-70bf-4ac2-933f-5a26c2171879",
   "metadata": {
    "tags": []
   },
   "outputs": [
    {
     "data": {
      "text/html": [
       "<div>\n",
       "<style scoped>\n",
       "    .dataframe tbody tr th:only-of-type {\n",
       "        vertical-align: middle;\n",
       "    }\n",
       "\n",
       "    .dataframe tbody tr th {\n",
       "        vertical-align: top;\n",
       "    }\n",
       "\n",
       "    .dataframe thead th {\n",
       "        text-align: right;\n",
       "    }\n",
       "</style>\n",
       "<table border=\"1\" class=\"dataframe\">\n",
       "  <thead>\n",
       "    <tr style=\"text-align: right;\">\n",
       "      <th></th>\n",
       "      <th>date_time</th>\n",
       "      <th>zone_id</th>\n",
       "      <th>banner_id</th>\n",
       "      <th>oaid_hash</th>\n",
       "      <th>campaign_clicks</th>\n",
       "      <th>os_id</th>\n",
       "      <th>country_id</th>\n",
       "      <th>impressions</th>\n",
       "      <th>clicks</th>\n",
       "    </tr>\n",
       "  </thead>\n",
       "  <tbody>\n",
       "    <tr>\n",
       "      <th>1390198</th>\n",
       "      <td>2021-09-01 00:02:49.000000</td>\n",
       "      <td>30</td>\n",
       "      <td>596</td>\n",
       "      <td>5236744527665721365</td>\n",
       "      <td>0</td>\n",
       "      <td>0</td>\n",
       "      <td>7</td>\n",
       "      <td>1</td>\n",
       "      <td>0</td>\n",
       "    </tr>\n",
       "    <tr>\n",
       "      <th>5041415</th>\n",
       "      <td>2021-09-26 00:00:00.000000</td>\n",
       "      <td>41</td>\n",
       "      <td>29</td>\n",
       "      <td>1834033519797437404</td>\n",
       "      <td>1</td>\n",
       "      <td>3</td>\n",
       "      <td>0</td>\n",
       "      <td>1</td>\n",
       "      <td>0</td>\n",
       "    </tr>\n",
       "    <tr>\n",
       "      <th>1442602</th>\n",
       "      <td>2021-09-26 00:00:00.000000</td>\n",
       "      <td>1</td>\n",
       "      <td>188</td>\n",
       "      <td>7416450538971744701</td>\n",
       "      <td>2</td>\n",
       "      <td>2</td>\n",
       "      <td>15</td>\n",
       "      <td>1</td>\n",
       "      <td>0</td>\n",
       "    </tr>\n",
       "    <tr>\n",
       "      <th>7232498</th>\n",
       "      <td>2021-09-26 00:00:00.000000</td>\n",
       "      <td>17</td>\n",
       "      <td>52</td>\n",
       "      <td>1832228443297591417</td>\n",
       "      <td>2</td>\n",
       "      <td>2</td>\n",
       "      <td>5</td>\n",
       "      <td>1</td>\n",
       "      <td>0</td>\n",
       "    </tr>\n",
       "    <tr>\n",
       "      <th>14938691</th>\n",
       "      <td>2021-09-26 00:00:00.000000</td>\n",
       "      <td>47</td>\n",
       "      <td>73</td>\n",
       "      <td>4180077124914749282</td>\n",
       "      <td>1</td>\n",
       "      <td>4</td>\n",
       "      <td>13</td>\n",
       "      <td>1</td>\n",
       "      <td>0</td>\n",
       "    </tr>\n",
       "  </tbody>\n",
       "</table>\n",
       "</div>"
      ],
      "text/plain": [
       "                           date_time  zone_id  banner_id            oaid_hash  \\\n",
       "1390198   2021-09-01 00:02:49.000000       30        596  5236744527665721365   \n",
       "5041415   2021-09-26 00:00:00.000000       41         29  1834033519797437404   \n",
       "1442602   2021-09-26 00:00:00.000000        1        188  7416450538971744701   \n",
       "7232498   2021-09-26 00:00:00.000000       17         52  1832228443297591417   \n",
       "14938691  2021-09-26 00:00:00.000000       47         73  4180077124914749282   \n",
       "\n",
       "          campaign_clicks  os_id  country_id  impressions  clicks  \n",
       "1390198                 0      0           7            1       0  \n",
       "5041415                 1      3           0            1       0  \n",
       "1442602                 2      2          15            1       0  \n",
       "7232498                 2      2           5            1       0  \n",
       "14938691                1      4          13            1       0  "
      ]
     },
     "execution_count": 2,
     "metadata": {},
     "output_type": "execute_result"
    }
   ],
   "source": [
    "data = pd.read_csv('data.csv')\n",
    "data = data.drop(columns=['banner_id0', 'banner_id1', 'rate0', 'rate1', 'g0', 'g1', 'coeff_sum0', 'coeff_sum1'])\n",
    "data = data.sort_values(by=['date_time']) \n",
    "data.head()"
   ]
  },
  {
   "cell_type": "markdown",
   "metadata": {},
   "source": [
    "Самая первая строчка похожа на то, что за 25 дней до старта просто протестировали, что всё работает. Уберем ее:)"
   ]
  },
  {
   "cell_type": "code",
   "execution_count": 3,
   "metadata": {},
   "outputs": [
    {
     "data": {
      "text/html": [
       "<div>\n",
       "<style scoped>\n",
       "    .dataframe tbody tr th:only-of-type {\n",
       "        vertical-align: middle;\n",
       "    }\n",
       "\n",
       "    .dataframe tbody tr th {\n",
       "        vertical-align: top;\n",
       "    }\n",
       "\n",
       "    .dataframe thead th {\n",
       "        text-align: right;\n",
       "    }\n",
       "</style>\n",
       "<table border=\"1\" class=\"dataframe\">\n",
       "  <thead>\n",
       "    <tr style=\"text-align: right;\">\n",
       "      <th></th>\n",
       "      <th>date_time</th>\n",
       "      <th>zone_id</th>\n",
       "      <th>banner_id</th>\n",
       "      <th>oaid_hash</th>\n",
       "      <th>campaign_clicks</th>\n",
       "      <th>os_id</th>\n",
       "      <th>country_id</th>\n",
       "      <th>impressions</th>\n",
       "      <th>clicks</th>\n",
       "    </tr>\n",
       "  </thead>\n",
       "  <tbody>\n",
       "    <tr>\n",
       "      <th>5041415</th>\n",
       "      <td>2021-09-26 00:00:00.000000</td>\n",
       "      <td>41</td>\n",
       "      <td>29</td>\n",
       "      <td>1834033519797437404</td>\n",
       "      <td>1</td>\n",
       "      <td>3</td>\n",
       "      <td>0</td>\n",
       "      <td>1</td>\n",
       "      <td>0</td>\n",
       "    </tr>\n",
       "    <tr>\n",
       "      <th>1442602</th>\n",
       "      <td>2021-09-26 00:00:00.000000</td>\n",
       "      <td>1</td>\n",
       "      <td>188</td>\n",
       "      <td>7416450538971744701</td>\n",
       "      <td>2</td>\n",
       "      <td>2</td>\n",
       "      <td>15</td>\n",
       "      <td>1</td>\n",
       "      <td>0</td>\n",
       "    </tr>\n",
       "    <tr>\n",
       "      <th>7232498</th>\n",
       "      <td>2021-09-26 00:00:00.000000</td>\n",
       "      <td>17</td>\n",
       "      <td>52</td>\n",
       "      <td>1832228443297591417</td>\n",
       "      <td>2</td>\n",
       "      <td>2</td>\n",
       "      <td>5</td>\n",
       "      <td>1</td>\n",
       "      <td>0</td>\n",
       "    </tr>\n",
       "    <tr>\n",
       "      <th>14938691</th>\n",
       "      <td>2021-09-26 00:00:00.000000</td>\n",
       "      <td>47</td>\n",
       "      <td>73</td>\n",
       "      <td>4180077124914749282</td>\n",
       "      <td>1</td>\n",
       "      <td>4</td>\n",
       "      <td>13</td>\n",
       "      <td>1</td>\n",
       "      <td>0</td>\n",
       "    </tr>\n",
       "    <tr>\n",
       "      <th>11536774</th>\n",
       "      <td>2021-09-26 00:00:00.000000</td>\n",
       "      <td>48</td>\n",
       "      <td>266</td>\n",
       "      <td>1459689388363839798</td>\n",
       "      <td>1</td>\n",
       "      <td>0</td>\n",
       "      <td>1</td>\n",
       "      <td>1</td>\n",
       "      <td>0</td>\n",
       "    </tr>\n",
       "  </tbody>\n",
       "</table>\n",
       "</div>"
      ],
      "text/plain": [
       "                           date_time  zone_id  banner_id            oaid_hash  \\\n",
       "5041415   2021-09-26 00:00:00.000000       41         29  1834033519797437404   \n",
       "1442602   2021-09-26 00:00:00.000000        1        188  7416450538971744701   \n",
       "7232498   2021-09-26 00:00:00.000000       17         52  1832228443297591417   \n",
       "14938691  2021-09-26 00:00:00.000000       47         73  4180077124914749282   \n",
       "11536774  2021-09-26 00:00:00.000000       48        266  1459689388363839798   \n",
       "\n",
       "          campaign_clicks  os_id  country_id  impressions  clicks  \n",
       "5041415                 1      3           0            1       0  \n",
       "1442602                 2      2          15            1       0  \n",
       "7232498                 2      2           5            1       0  \n",
       "14938691                1      4          13            1       0  \n",
       "11536774                1      0           1            1       0  "
      ]
     },
     "execution_count": 3,
     "metadata": {},
     "output_type": "execute_result"
    }
   ],
   "source": [
    "data = data[data['date_time'] > '2021-09-02']\n",
    "data.head()"
   ]
  },
  {
   "cell_type": "code",
   "execution_count": 4,
   "metadata": {},
   "outputs": [
    {
     "data": {
      "text/html": [
       "<div>\n",
       "<style scoped>\n",
       "    .dataframe tbody tr th:only-of-type {\n",
       "        vertical-align: middle;\n",
       "    }\n",
       "\n",
       "    .dataframe tbody tr th {\n",
       "        vertical-align: top;\n",
       "    }\n",
       "\n",
       "    .dataframe thead th {\n",
       "        text-align: right;\n",
       "    }\n",
       "</style>\n",
       "<table border=\"1\" class=\"dataframe\">\n",
       "  <thead>\n",
       "    <tr style=\"text-align: right;\">\n",
       "      <th></th>\n",
       "      <th>date_time</th>\n",
       "      <th>zone_id</th>\n",
       "      <th>banner_id</th>\n",
       "      <th>oaid_hash</th>\n",
       "      <th>campaign_clicks</th>\n",
       "      <th>os_id</th>\n",
       "      <th>country_id</th>\n",
       "      <th>impressions</th>\n",
       "      <th>clicks</th>\n",
       "    </tr>\n",
       "  </thead>\n",
       "  <tbody>\n",
       "    <tr>\n",
       "      <th>10139863</th>\n",
       "      <td>2021-10-02 23:59:59.000000</td>\n",
       "      <td>24</td>\n",
       "      <td>180</td>\n",
       "      <td>1030486855470422958</td>\n",
       "      <td>0</td>\n",
       "      <td>2</td>\n",
       "      <td>6</td>\n",
       "      <td>1</td>\n",
       "      <td>0</td>\n",
       "    </tr>\n",
       "    <tr>\n",
       "      <th>5597133</th>\n",
       "      <td>2021-10-02 23:59:59.000000</td>\n",
       "      <td>73</td>\n",
       "      <td>92</td>\n",
       "      <td>5392241310084555538</td>\n",
       "      <td>0</td>\n",
       "      <td>1</td>\n",
       "      <td>0</td>\n",
       "      <td>1</td>\n",
       "      <td>0</td>\n",
       "    </tr>\n",
       "    <tr>\n",
       "      <th>8660907</th>\n",
       "      <td>2021-10-02 23:59:59.000000</td>\n",
       "      <td>17</td>\n",
       "      <td>1235</td>\n",
       "      <td>5569517219693927594</td>\n",
       "      <td>0</td>\n",
       "      <td>4</td>\n",
       "      <td>0</td>\n",
       "      <td>1</td>\n",
       "      <td>0</td>\n",
       "    </tr>\n",
       "    <tr>\n",
       "      <th>2991997</th>\n",
       "      <td>2021-10-02 23:59:59.000000</td>\n",
       "      <td>1</td>\n",
       "      <td>2</td>\n",
       "      <td>4888551521096100763</td>\n",
       "      <td>0</td>\n",
       "      <td>0</td>\n",
       "      <td>0</td>\n",
       "      <td>1</td>\n",
       "      <td>0</td>\n",
       "    </tr>\n",
       "    <tr>\n",
       "      <th>3226555</th>\n",
       "      <td>2021-10-02 23:59:59.000000</td>\n",
       "      <td>74</td>\n",
       "      <td>418</td>\n",
       "      <td>8774465000271096189</td>\n",
       "      <td>0</td>\n",
       "      <td>0</td>\n",
       "      <td>5</td>\n",
       "      <td>1</td>\n",
       "      <td>0</td>\n",
       "    </tr>\n",
       "  </tbody>\n",
       "</table>\n",
       "</div>"
      ],
      "text/plain": [
       "                           date_time  zone_id  banner_id            oaid_hash  \\\n",
       "10139863  2021-10-02 23:59:59.000000       24        180  1030486855470422958   \n",
       "5597133   2021-10-02 23:59:59.000000       73         92  5392241310084555538   \n",
       "8660907   2021-10-02 23:59:59.000000       17       1235  5569517219693927594   \n",
       "2991997   2021-10-02 23:59:59.000000        1          2  4888551521096100763   \n",
       "3226555   2021-10-02 23:59:59.000000       74        418  8774465000271096189   \n",
       "\n",
       "          campaign_clicks  os_id  country_id  impressions  clicks  \n",
       "10139863                0      2           6            1       0  \n",
       "5597133                 0      1           0            1       0  \n",
       "8660907                 0      4           0            1       0  \n",
       "2991997                 0      0           0            1       0  \n",
       "3226555                 0      0           5            1       0  "
      ]
     },
     "execution_count": 4,
     "metadata": {},
     "output_type": "execute_result"
    }
   ],
   "source": [
    "data.tail()"
   ]
  },
  {
   "cell_type": "markdown",
   "metadata": {},
   "source": [
    "В нашем распоряжении примерно 1 неделя наблюдений. Теперь разумно посмотреть на график кликов от времени (по часам)."
   ]
  },
  {
   "cell_type": "code",
   "execution_count": 13,
   "metadata": {},
   "outputs": [
    {
     "data": {
      "image/png": "[encoded data removed]",
      "text/plain": [
       "<Figure size 640x480 with 1 Axes>"
      ]
     },
     "metadata": {},
     "output_type": "display_data"
    }
   ],
   "source": [
    "data_for_graphic = data.copy()\n",
    "data_for_graphic['date_time'] = pd.to_datetime(data_for_graphic['date_time'])\n",
    "data_for_graphic['date_hour'] = data_for_graphic['date_time'].dt.round(\"H\")\n",
    "clicks_day = data_for_graphic.groupby('date_hour')['clicks'].sum()\n",
    "\n",
    "\n",
    "plt.xlabel(\"date\")\n",
    "plt.ylabel(\"clicks\")\n",
    "plt.title('Clicks in each day')\n",
    "\n",
    "plt.plot(clicks_day.index, clicks_day)\n",
    "plt.show()"
   ]
  },
  {
   "cell_type": "markdown",
   "metadata": {},
   "source": [
    "Наблюдается повышенная активность примерно в одно и то же время каждый день. + в некоторые дни активность больше (выходные скорее всего). "
   ]
  },
  {
   "cell_type": "code",
   "execution_count": 14,
   "metadata": {},
   "outputs": [
    {
     "data": {
      "image/png": "[encoded data removed]",
      "text/plain": [
       "<Figure size 640x480 with 1 Axes>"
      ]
     },
     "metadata": {},
     "output_type": "display_data"
    }
   ],
   "source": [
    "data_for_graphic = data.copy()\n",
    "data_for_graphic['date_time'] = pd.to_datetime(data_for_graphic['date_time'])\n",
    "data_for_graphic['date_hour'] = data_for_graphic['date_time'].dt.hour\n",
    "clicks_day = data_for_graphic.groupby('date_hour')['clicks'].sum()\n",
    "\n",
    "\n",
    "plt.xlabel(\"hour\")\n",
    "plt.ylabel(\"clicks\")\n",
    "plt.title('Clicks in hour')\n",
    "\n",
    "plt.plot(clicks_day.index, clicks_day)\n",
    "plt.show()"
   ]
  },
  {
   "cell_type": "markdown",
   "metadata": {},
   "source": [
    "Если бы данных было бы больше, чем 1 неделя, стоило бы и месяц, и день недели в качестве фичи учитывать. Но тут мы оставляем 2 дня исключительно на тест и валидацию => не набирается даже полной недели. Будем использовать только значение `hour`"
   ]
  },
  {
   "cell_type": "code",
   "execution_count": 15,
   "id": "5047bd2e-fe77-4991-854a-236fd93c36ba",
   "metadata": {
    "tags": []
   },
   "outputs": [],
   "source": [
    "# feature engeneering\n",
    "# + до этого удалена ненужная дата\n",
    "data['hour'] = pd.to_datetime(data['date_time']).dt.hour"
   ]
  },
  {
   "cell_type": "code",
   "execution_count": 16,
   "metadata": {},
   "outputs": [],
   "source": [
    "val_day = '2021-10-02'\n",
    "test_day = '2021-10-03'"
   ]
  },
  {
   "cell_type": "markdown",
   "metadata": {},
   "source": [
    "Сформируем датасеты"
   ]
  },
  {
   "cell_type": "code",
   "execution_count": 17,
   "id": "1220d700-2dad-444a-8735-f1cdcba85fb4",
   "metadata": {
    "tags": []
   },
   "outputs": [],
   "source": [
    "train  = data[(data['date_time']<val_day)]\n",
    "val = data[(data['date_time']>=val_day) & (data['date_time']<test_day)]\n",
    "test = data[(data['date_time']>=test_day)]"
   ]
  },
  {
   "cell_type": "code",
   "execution_count": 18,
   "metadata": {},
   "outputs": [
    {
     "data": {
      "text/html": [
       "<div>\n",
       "<style scoped>\n",
       "    .dataframe tbody tr th:only-of-type {\n",
       "        vertical-align: middle;\n",
       "    }\n",
       "\n",
       "    .dataframe tbody tr th {\n",
       "        vertical-align: top;\n",
       "    }\n",
       "\n",
       "    .dataframe thead th {\n",
       "        text-align: right;\n",
       "    }\n",
       "</style>\n",
       "<table border=\"1\" class=\"dataframe\">\n",
       "  <thead>\n",
       "    <tr style=\"text-align: right;\">\n",
       "      <th></th>\n",
       "      <th>date_time</th>\n",
       "      <th>zone_id</th>\n",
       "      <th>banner_id</th>\n",
       "      <th>oaid_hash</th>\n",
       "      <th>campaign_clicks</th>\n",
       "      <th>os_id</th>\n",
       "      <th>country_id</th>\n",
       "      <th>impressions</th>\n",
       "      <th>clicks</th>\n",
       "      <th>hour</th>\n",
       "    </tr>\n",
       "  </thead>\n",
       "  <tbody>\n",
       "    <tr>\n",
       "      <th>3594598</th>\n",
       "      <td>2021-10-01 23:59:59.000000</td>\n",
       "      <td>254</td>\n",
       "      <td>584</td>\n",
       "      <td>284430210636077854</td>\n",
       "      <td>0</td>\n",
       "      <td>2</td>\n",
       "      <td>10</td>\n",
       "      <td>1</td>\n",
       "      <td>0</td>\n",
       "      <td>23</td>\n",
       "    </tr>\n",
       "    <tr>\n",
       "      <th>8604214</th>\n",
       "      <td>2021-10-01 23:59:59.000000</td>\n",
       "      <td>34</td>\n",
       "      <td>47</td>\n",
       "      <td>1801023712706150066</td>\n",
       "      <td>1</td>\n",
       "      <td>2</td>\n",
       "      <td>5</td>\n",
       "      <td>1</td>\n",
       "      <td>0</td>\n",
       "      <td>23</td>\n",
       "    </tr>\n",
       "    <tr>\n",
       "      <th>1633515</th>\n",
       "      <td>2021-10-01 23:59:59.000000</td>\n",
       "      <td>3</td>\n",
       "      <td>1239</td>\n",
       "      <td>2731395125248566348</td>\n",
       "      <td>0</td>\n",
       "      <td>2</td>\n",
       "      <td>0</td>\n",
       "      <td>1</td>\n",
       "      <td>0</td>\n",
       "      <td>23</td>\n",
       "    </tr>\n",
       "    <tr>\n",
       "      <th>6571049</th>\n",
       "      <td>2021-10-01 23:59:59.000000</td>\n",
       "      <td>139</td>\n",
       "      <td>49</td>\n",
       "      <td>7391999856880902949</td>\n",
       "      <td>0</td>\n",
       "      <td>0</td>\n",
       "      <td>0</td>\n",
       "      <td>1</td>\n",
       "      <td>0</td>\n",
       "      <td>23</td>\n",
       "    </tr>\n",
       "    <tr>\n",
       "      <th>6809215</th>\n",
       "      <td>2021-10-01 23:59:59.000000</td>\n",
       "      <td>275</td>\n",
       "      <td>102</td>\n",
       "      <td>2807164680012628209</td>\n",
       "      <td>0</td>\n",
       "      <td>4</td>\n",
       "      <td>1</td>\n",
       "      <td>1</td>\n",
       "      <td>0</td>\n",
       "      <td>23</td>\n",
       "    </tr>\n",
       "  </tbody>\n",
       "</table>\n",
       "</div>"
      ],
      "text/plain": [
       "                          date_time  zone_id  banner_id            oaid_hash  \\\n",
       "3594598  2021-10-01 23:59:59.000000      254        584   284430210636077854   \n",
       "8604214  2021-10-01 23:59:59.000000       34         47  1801023712706150066   \n",
       "1633515  2021-10-01 23:59:59.000000        3       1239  2731395125248566348   \n",
       "6571049  2021-10-01 23:59:59.000000      139         49  7391999856880902949   \n",
       "6809215  2021-10-01 23:59:59.000000      275        102  2807164680012628209   \n",
       "\n",
       "         campaign_clicks  os_id  country_id  impressions  clicks  hour  \n",
       "3594598                0      2          10            1       0    23  \n",
       "8604214                1      2           5            1       0    23  \n",
       "1633515                0      2           0            1       0    23  \n",
       "6571049                0      0           0            1       0    23  \n",
       "6809215                0      4           1            1       0    23  "
      ]
     },
     "execution_count": 18,
     "metadata": {},
     "output_type": "execute_result"
    }
   ],
   "source": [
    "train.tail()"
   ]
  },
  {
   "cell_type": "markdown",
   "id": "ec72175f-cf1c-4700-a52c-23d36ad0b818",
   "metadata": {},
   "source": [
    "Теперь преобразуем данные в нужный для libffm формат"
   ]
  },
  {
   "cell_type": "code",
   "execution_count": 13,
   "metadata": {},
   "outputs": [],
   "source": [
    "cat_features = [(0, 'zone_id'), (1, 'banner_id'), (2, 'oaid_hash'), (3, 'campaign_clicks'), (4, 'os_id'), (5, 'country_id'), (6, 'hour'), (7, 'impressions')]\n",
    "\n",
    "code = 0\n",
    "counter_for_libffm = {}\n",
    "for i, feat in cat_features:\n",
    "    counter_for_libffm[feat] = {}\n",
    "\n",
    "def to_ffm_format(filename, data):\n",
    "    global code\n",
    "    with open(filename, \"w\") as file:\n",
    "        for _, iterrow in data.iterrows():\n",
    "            for ind, category in cat_features:\n",
    "                if iterrow[category] not in counter_for_libffm[category]:\n",
    "                    code += 1\n",
    "                    counter_for_libffm[category][iterrow[category]] = code\n",
    "            file.write(str(iterrow['clicks']) + f' {i}:{counter_for_libffm[ind][iterrow[category]]}:1' + '\\n')\n",
    "to_ffm_format(\"train.txt\", train)\n",
    "to_ffm_format(\"val.txt\", val)\n",
    "to_ffm_format(\"test.txt\", test)"
   ]
  },
  {
   "cell_type": "code",
   "execution_count": null,
   "metadata": {},
   "outputs": [],
   "source": [
    "for k in range(10, 5, -2):\n",
    "    for lam in [0.0001, 0.001, 0.01]:\n",
    "        for lr in [0.01, 0.1]:\n",
    "            print(f'Параметры: k={k}, lambda={lam}, lr={lr}')\n",
    "            ffm_model = xl.create_ffm()\n",
    "            ffm_model.setTrain(\"train.txt\")\n",
    "            ffm_model.setValidate(\"val.txt\")\n",
    "            params = {'task':'binary',\n",
    "                    'metric': 'auc',\n",
    "                    'lr': lr, \n",
    "                    'lambda': lam, \n",
    "                    'k': k\n",
    "            }\n",
    "            ffm_model.fit(params, 'model.out')\n",
    "        "
   ]
  },
  {
   "cell_type": "markdown",
   "metadata": {},
   "source": [
    "Лучше всего получилось при k=10, lr=0.1, lambda=0.0001. Запустим с тестовой"
   ]
  },
  {
   "cell_type": "code",
   "execution_count": 3,
   "id": "7f19d29b-aa74-4048-af8c-2faf0f5ae305",
   "metadata": {
    "tags": []
   },
   "outputs": [
    {
     "name": "stdout",
     "output_type": "stream",
     "text": [
      "\u001b[32m\u001b[1m----------------------------------------------------------------------------------------------\n",
      "           _\n",
      "          | |\n",
      "     __  _| |     ___  __ _ _ __ _ __\n",
      "     \\ \\/ / |    / _ \\/ _` | '__| '_ \\ \n",
      "      >  <| |___|  __/ (_| | |  | | | |\n",
      "     /_/\\_\\_____/\\___|\\__,_|_|  |_| |_|\n",
      "\n",
      "        xLearn   -- 0.40 Version --\n",
      "----------------------------------------------------------------------------------------------\n",
      "\n",
      "\u001b[39m\u001b[0m\u001b[32m[------------] \u001b[0mxLearn uses 20 threads for training task.\n",
      "\u001b[32m\u001b[1m[ ACTION     ] Read Problem ...\u001b[0m\n",
      "\u001b[32m[------------] \u001b[0mFirst check if the text file has been already converted to binary format.\n",
      "\u001b[32m[------------] \u001b[0mBinary file (train.txt.bin) found. Skip converting text to binary.\n",
      "\u001b[32m[------------] \u001b[0mFirst check if the text file has been already converted to binary format.\n",
      "\u001b[32m[------------] \u001b[0mBinary file (val.txt.bin) found. Skip converting text to binary.\n",
      "\u001b[32m[------------] \u001b[0mNumber of Feature: 6516267\n",
      "\u001b[32m[------------] \u001b[0mNumber of Field: 7\n",
      "\u001b[32m[------------] \u001b[0mTime cost for reading problem: 4.56 (sec)\n",
      "\u001b[32m\u001b[1m[ ACTION     ] Initialize model ...\u001b[0m\n",
      "\u001b[32m[------------] \u001b[0mModel size: 4.13 GB\n",
      "\u001b[32m[------------] \u001b[0mTime cost for model initial: 2.45 (sec)\n",
      "\u001b[32m\u001b[1m[ ACTION     ] Start to train ...\u001b[0m\n",
      "\u001b[32m[------------]\u001b[0m Epoch      Train log_loss       Test log_loss            Test AUC     Time cost (sec)\n",
      "\u001b[32m[ \u001b[0m  10%\u001b[32m      ]\u001b[0m     1            0.103978            0.130138            0.797501                5.64\n",
      "\u001b[32m[ \u001b[0m  20%\u001b[32m      ]\u001b[0m     2            0.100361            0.128538            0.803167                5.56\n",
      "\u001b[32m[ \u001b[0m  30%\u001b[32m      ]\u001b[0m     3            0.096963            0.127459            0.808228                5.48\n",
      "\u001b[32m[ \u001b[0m  40%\u001b[32m      ]\u001b[0m     4            0.093141            0.125739            0.812857                5.49\n",
      "\u001b[32m[ \u001b[0m  50%\u001b[32m      ]\u001b[0m     5            0.088745            0.124597            0.816261                5.56\n",
      "\u001b[32m[ \u001b[0m  60%\u001b[32m      ]\u001b[0m     6            0.084124            0.123966            0.818313                5.63\n",
      "\u001b[32m[ \u001b[0m  70%\u001b[32m      ]\u001b[0m     7            0.079602            0.123859            0.819454                5.67\n",
      "\u001b[32m[ \u001b[0m  80%\u001b[32m      ]\u001b[0m     8            0.075303            0.124230            0.819462                5.64\n",
      "\u001b[32m[ \u001b[0m  90%\u001b[32m      ]\u001b[0m     9            0.071247            0.124948            0.818804                5.71\n",
      "\u001b[32m[ \u001b[0m 100%\u001b[32m      ]\u001b[0m    10            0.067442            0.125731            0.817657                5.86\n",
      "\u001b[32m\u001b[1m[ ACTION     ] Early-stopping at epoch 8, best AUC: 0.819462\u001b[0m\n",
      "\u001b[32m\u001b[1m[ ACTION     ] Start to save model ...\u001b[0m\n",
      "\u001b[32m[------------] \u001b[0mModel file: model.out\n",
      "\u001b[32m[------------] \u001b[0mTime cost for saving model: 2.52 (sec)\n",
      "\u001b[32m\u001b[1m[ ACTION     ] Finish training\u001b[0m\n",
      "\u001b[32m\u001b[1m[ ACTION     ] Clear the xLearn environment ...\u001b[0m\n",
      "\u001b[32m\u001b[1m[------------] Total time cost: 69.23 (sec)\u001b[0m\n"
     ]
    }
   ],
   "source": [
    "model = xl.create_ffm()\n",
    "model.setTrain(\"train.txt\")\n",
    "model.setValidate(\"val.txt\")\n",
    "model.setTest(\"test.txt\")\n",
    "param = {'task':'binary',\n",
    "         'metric':'auc',\n",
    "         'lr':0.1,\n",
    "         'lambda':0.0001,\n",
    "         'k': 10\n",
    "         }\n",
    "model.fit(param, 'model.out')"
   ]
  },
  {
   "cell_type": "markdown",
   "metadata": {},
   "source": [
    "# Итого\n",
    "log_loss=0.123859            auc=0.819454"
   ]
  }
 ],
 "metadata": {
  "kernelspec": {
   "display_name": "Python 3 (ipykernel)",
   "language": "python",
   "name": "python3"
  },
  "language_info": {
   "codemirror_mode": {
    "name": "ipython",
    "version": 3
   },
   "file_extension": ".py",
   "mimetype": "text/x-python",
   "name": "python",
   "nbconvert_exporter": "python",
   "pygments_lexer": "ipython3",
   "version": "3.10.12"
  }
 },
 "nbformat": 4,
 "nbformat_minor": 5
}
