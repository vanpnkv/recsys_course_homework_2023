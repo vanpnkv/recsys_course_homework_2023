{
 "cells": [
  {
   "cell_type": "code",
   "execution_count": 3,
   "metadata": {
    "_cell_guid": "b1076dfc-b9ad-4769-8c92-a6c4dae69d19",
    "_uuid": "8f2839f25d086af736a60e9eeb907d3b93b6e0e5",
    "execution": {
     "iopub.execute_input": "2023-12-04T16:56:04.051524Z",
     "iopub.status.busy": "2023-12-04T16:56:04.050791Z",
     "iopub.status.idle": "2023-12-04T16:57:16.476610Z",
     "shell.execute_reply": "2023-12-04T16:57:16.475480Z",
     "shell.execute_reply.started": "2023-12-04T16:56:04.051492Z"
    }
   },
   "outputs": [
    {
     "name": "stdout",
     "output_type": "stream",
     "text": [
      "Collecting xlearn\n",
      "  Downloading xlearn-0.40a1.tar.gz (4.9 MB)\n",
      "\u001b[2K     \u001b[90m━━━━━━━━━━━━━━━━━━━━━━━━━━━━━━━━━━━━━━━━\u001b[0m \u001b[32m4.9/4.9 MB\u001b[0m \u001b[31m68.2 MB/s\u001b[0m eta \u001b[36m0:00:00\u001b[0m:00:01\u001b[0m0:01\u001b[0m\n",
      "\u001b[?25h  Preparing metadata (setup.py) ... \u001b[?25ldone\n",
      "\u001b[?25hBuilding wheels for collected packages: xlearn\n",
      "  Building wheel for xlearn (setup.py) ... \u001b[?25ldone\n",
      "\u001b[?25h  Created wheel for xlearn: filename=xlearn-0.40a1-py3-none-any.whl size=225735 sha256=322fb40f74251ced96f6ecd4e4137ad78f81804c50836025a21189831b5b2ca9\n",
      "  Stored in directory: /root/.cache/pip/wheels/09/48/04/779ee06b22532c86cde8da8984b83284517492dad1df998c6a\n",
      "Successfully built xlearn\n",
      "Installing collected packages: xlearn\n",
      "Successfully installed xlearn-0.40a1\n"
     ]
    }
   ],
   "source": [
    "!pip install xlearn\n"
   ]
  },
  {
   "cell_type": "code",
   "execution_count": 4,
   "metadata": {
    "execution": {
     "iopub.execute_input": "2023-12-04T16:57:16.479332Z",
     "iopub.status.busy": "2023-12-04T16:57:16.478906Z",
     "iopub.status.idle": "2023-12-04T16:57:16.553072Z",
     "shell.execute_reply": "2023-12-04T16:57:16.552265Z",
     "shell.execute_reply.started": "2023-12-04T16:57:16.479292Z"
    }
   },
   "outputs": [],
   "source": [
    "import xlearn as xl"
   ]
  },
  {
   "cell_type": "code",
   "execution_count": 1,
   "metadata": {
    "_kg_hide-input": true,
    "execution": {
     "iopub.execute_input": "2023-12-04T16:57:22.904143Z",
     "iopub.status.busy": "2023-12-04T16:57:22.903732Z",
     "iopub.status.idle": "2023-12-04T16:57:23.513640Z",
     "shell.execute_reply": "2023-12-04T16:57:23.512700Z",
     "shell.execute_reply.started": "2023-12-04T16:57:22.904115Z"
    }
   },
   "outputs": [],
   "source": [
    "import pandas as pd\n",
    "import numpy as np\n",
    "import matplotlib.pyplot as plt\n",
    "import seaborn as sns\n",
    "from IPython.display import display, HTML\n",
    "import datetime\n",
    "from scipy.sparse import hstack\n",
    "from sklearn.preprocessing import OneHotEncoder\n",
    "from sklearn.metrics import log_loss,roc_auc_score, classification_report\n",
    "from sklearn.linear_model import LogisticRegression\n",
    "import warnings\n",
    "warnings.filterwarnings(\"ignore\")\n",
    "from sklearn.model_selection import ParameterGrid"
   ]
  },
  {
   "cell_type": "markdown",
   "metadata": {},
   "source": [
    "Информация по датасету:\n",
    "\n",
    "* date_time - время показа рекламы\n",
    "* oaid_hash - хэш юзера\n",
    "* zone_id - id зоны, где зона - место на сайте для размещения рекламы\n",
    "* banner_id - id баннера, где баннер - сама реклама\n",
    "* campaign_clicks - общее количество показов данной кампании (которой соотвествует баннер) данному юзеру, произошедшие до текущего показа. Кампанию стоит понимать как что-то общее (рекламодатель/тематика/ и т. п.) для баннеров.\n",
    "* os_id - id операционной системы\n",
    "* country_id - id страны\n",
    "* banner_id0 - нулевой баннер в “стакане” баннеров\n",
    "* banner_id1 - перый баннер в “стакане” баннеров\n",
    "* rate0 - стоимость 1 клика установленная рекламодателем для banner_id0\n",
    "* rate1 - стоимость 1 клика установленная рекламодателем для banner_id1\n",
    "* g0 - стандартное отклонение предикта с banner_id0\n",
    "* g1 - стандартное отклонение предикта с banner_id1\n",
    "* coeff_sum0 - сумма коэффициентов для banner_id0\n",
    "* coeff_sum1 - сумма коэффициентов для banner_id1\n",
    "* impressions - был ли показ\n",
    "* clicks - был ли клик\n",
    "\n",
    "\n",
    " колонки:  banner_id0, banner_id1, rate0, rate1, g0, g1, coeff_sum0, coeff_sum1 использовать не нужно"
   ]
  },
  {
   "cell_type": "code",
   "execution_count": 2,
   "metadata": {
    "execution": {
     "iopub.execute_input": "2023-12-04T16:57:25.930759Z",
     "iopub.status.busy": "2023-12-04T16:57:25.930268Z",
     "iopub.status.idle": "2023-12-04T16:58:43.711058Z",
     "shell.execute_reply": "2023-12-04T16:58:43.710145Z",
     "shell.execute_reply.started": "2023-12-04T16:57:25.930727Z"
    }
   },
   "outputs": [
    {
     "data": {
      "text/html": [
       "<div>\n",
       "<style scoped>\n",
       "    .dataframe tbody tr th:only-of-type {\n",
       "        vertical-align: middle;\n",
       "    }\n",
       "\n",
       "    .dataframe tbody tr th {\n",
       "        vertical-align: top;\n",
       "    }\n",
       "\n",
       "    .dataframe thead th {\n",
       "        text-align: right;\n",
       "    }\n",
       "</style>\n",
       "<table border=\"1\" class=\"dataframe\">\n",
       "  <thead>\n",
       "    <tr style=\"text-align: right;\">\n",
       "      <th></th>\n",
       "      <th>date_time</th>\n",
       "      <th>zone_id</th>\n",
       "      <th>banner_id</th>\n",
       "      <th>campaign_clicks</th>\n",
       "      <th>os_id</th>\n",
       "      <th>country_id</th>\n",
       "      <th>impressions</th>\n",
       "      <th>clicks</th>\n",
       "    </tr>\n",
       "  </thead>\n",
       "  <tbody>\n",
       "    <tr>\n",
       "      <th>0</th>\n",
       "      <td>2021-09-27 00:01:30</td>\n",
       "      <td>0</td>\n",
       "      <td>0</td>\n",
       "      <td>0</td>\n",
       "      <td>0</td>\n",
       "      <td>0</td>\n",
       "      <td>1</td>\n",
       "      <td>1</td>\n",
       "    </tr>\n",
       "    <tr>\n",
       "      <th>1</th>\n",
       "      <td>2021-09-26 22:54:49</td>\n",
       "      <td>1</td>\n",
       "      <td>1</td>\n",
       "      <td>0</td>\n",
       "      <td>0</td>\n",
       "      <td>1</td>\n",
       "      <td>1</td>\n",
       "      <td>1</td>\n",
       "    </tr>\n",
       "    <tr>\n",
       "      <th>2</th>\n",
       "      <td>2021-09-26 23:57:20</td>\n",
       "      <td>2</td>\n",
       "      <td>2</td>\n",
       "      <td>3</td>\n",
       "      <td>0</td>\n",
       "      <td>0</td>\n",
       "      <td>1</td>\n",
       "      <td>1</td>\n",
       "    </tr>\n",
       "    <tr>\n",
       "      <th>3</th>\n",
       "      <td>2021-09-27 00:04:30</td>\n",
       "      <td>3</td>\n",
       "      <td>3</td>\n",
       "      <td>0</td>\n",
       "      <td>1</td>\n",
       "      <td>1</td>\n",
       "      <td>1</td>\n",
       "      <td>1</td>\n",
       "    </tr>\n",
       "    <tr>\n",
       "      <th>4</th>\n",
       "      <td>2021-09-27 00:06:21</td>\n",
       "      <td>4</td>\n",
       "      <td>4</td>\n",
       "      <td>0</td>\n",
       "      <td>1</td>\n",
       "      <td>0</td>\n",
       "      <td>1</td>\n",
       "      <td>1</td>\n",
       "    </tr>\n",
       "  </tbody>\n",
       "</table>\n",
       "</div>"
      ],
      "text/plain": [
       "            date_time  zone_id  banner_id  campaign_clicks  os_id  country_id  \\\n",
       "0 2021-09-27 00:01:30        0          0                0      0           0   \n",
       "1 2021-09-26 22:54:49        1          1                0      0           1   \n",
       "2 2021-09-26 23:57:20        2          2                3      0           0   \n",
       "3 2021-09-27 00:04:30        3          3                0      1           1   \n",
       "4 2021-09-27 00:06:21        4          4                0      1           0   \n",
       "\n",
       "   impressions  clicks  \n",
       "0            1       1  \n",
       "1            1       1  \n",
       "2            1       1  \n",
       "3            1       1  \n",
       "4            1       1  "
      ]
     },
     "execution_count": 2,
     "metadata": {},
     "output_type": "execute_result"
    }
   ],
   "source": [
    "data = pd.read_csv('data.csv', parse_dates=['date_time'],infer_datetime_format=True)\n",
    "columns_to_drop = ['oaid_hash','banner_id0','banner_id1', 'rate0', 'rate1', 'g0', 'g1', 'coeff_sum0', 'coeff_sum1']\n",
    "data.drop(columns_to_drop, axis=1, inplace = True)\n",
    "data.head()"
   ]
  },
  {
   "cell_type": "code",
   "execution_count": 3,
   "metadata": {
    "execution": {
     "iopub.execute_input": "2023-12-04T15:41:01.454455Z",
     "iopub.status.busy": "2023-12-04T15:41:01.454050Z",
     "iopub.status.idle": "2023-12-04T15:41:01.461868Z",
     "shell.execute_reply": "2023-12-04T15:41:01.460844Z",
     "shell.execute_reply.started": "2023-12-04T15:41:01.454417Z"
    }
   },
   "outputs": [],
   "source": [
    "def plot_bar(df,title):\n",
    "    fig, axes = plt.subplots(nrows=1, ncols=2, figsize=(20, 5))\n",
    "    for i, col in enumerate(df.columns):\n",
    "        df[col].plot(kind='bar', ax=axes[i])\n",
    "        axes[i].set_title(col)\n",
    "    plt.tight_layout()\n",
    "    fig.suptitle(title,y=1.05)\n",
    "    plt.show()"
   ]
  },
  {
   "cell_type": "code",
   "execution_count": 4,
   "metadata": {
    "execution": {
     "iopub.execute_input": "2023-12-04T15:41:01.463719Z",
     "iopub.status.busy": "2023-12-04T15:41:01.463384Z",
     "iopub.status.idle": "2023-12-04T15:41:01.484448Z",
     "shell.execute_reply": "2023-12-04T15:41:01.483606Z",
     "shell.execute_reply.started": "2023-12-04T15:41:01.463664Z"
    }
   },
   "outputs": [],
   "source": [
    "def analysis(data: pd.DataFrame):\n",
    "    font_size = \"20px\"\n",
    "    text ='Описательные характеристики'\n",
    "    print('\\n')\n",
    "    display(HTML(f\"<p style='font-size: {font_size}'>{text}</p>\"))\n",
    "\n",
    "    print('\\nЧисло пропусков в данных:')\n",
    "    display(pd.DataFrame(data.isnull().sum()))\n",
    "\n",
    "    print('\\nЧисло уникальных значений в столбцах:')\n",
    "    display(pd.DataFrame(data.nunique()))\n",
    "\n",
    "    print('\\nОписательные статистики:')\n",
    "    display(data.describe())\n",
    "\n",
    "    columns_for_plotting = ['zone_id','banner_id','campaign_clicks','os_id', 'country_id','impressions','clicks']\n",
    "\n",
    "    print('\\nМатрица корреляции:')\n",
    "    fig, axes = plt.subplots(figsize=(7, 5))\n",
    "    sns.heatmap(data.corr(),cmap='YlGnBu', annot=True)\n",
    "    plt.show()\n",
    "\n",
    "    print('\\nАнализ дат:')\n",
    "    ind = ['Различных лет','Различных месяцев','Различных дат']\n",
    "    dat = [ data.date_time.dt.year.nunique(),data.date_time.dt.month.nunique(),data.date_time.dt.date.nunique()]\n",
    "    display(pd.DataFrame(data=dat, index=ind))\n",
    "\n",
    "    print('\\nАнализ времени:')\n",
    "    ind = ['Различных часов']\n",
    "    dat = [ data.date_time.dt.hour.nunique()]\n",
    "    display(pd.DataFrame(data=dat, index=ind))\n",
    "\n",
    "\n",
    "    font_size = \"20px\"\n",
    "    text ='Анализ распределения кликов'\n",
    "    print('\\n')\n",
    "    display(HTML(f\"<p style='font-size: {font_size}'>{text}</p>\"))\n",
    "\n",
    "\n",
    "\n",
    "    print('\\nЧисло действий по датам:')\n",
    "\n",
    "    display(pd.DataFrame(data.groupby(data['date_time'].dt.date)['clicks'].count()))\n",
    "\n",
    "    clicks_by_day = pd.DataFrame()\n",
    "    grouping = data.groupby(data['date_time'].dt.date)['clicks']\n",
    "    clicks_by_day['Число кликов'] = grouping.sum()\n",
    "    clicks_by_day['Число отсутсвия кликов'] = grouping.apply(lambda x: (x == 0).sum())\n",
    "    plot_bar(clicks_by_day,'Число действий по датам')\n",
    "\n",
    "    print('\\nЧисло действий по дням недели:')\n",
    "    display(pd.DataFrame(data.groupby(data['date_time'].dt.dayofweek)['clicks'].count()))\n",
    "\n",
    "\n",
    "    clicks_by_month = pd.DataFrame()\n",
    "    grouping = data.groupby(data['date_time'].dt.dayofweek)['clicks']\n",
    "    clicks_by_month['Число кликов'] = grouping.sum()\n",
    "    clicks_by_month['Число отсутсвия кликов'] = grouping.apply(lambda x: (x == 0).sum())\n",
    "    plot_bar(clicks_by_month,'Число действий по дням недели')\n",
    "\n",
    "\n",
    "    print('\\nЧисло действий по месяцам:')\n",
    "    display(pd.DataFrame(data.groupby(data['date_time'].dt.month)['clicks'].count()))\n",
    "\n",
    "\n",
    "    clicks_by_month = pd.DataFrame()\n",
    "    grouping = data.groupby(data['date_time'].dt.month)['clicks']\n",
    "    clicks_by_month['Число кликов'] = grouping.sum()\n",
    "    clicks_by_month['Число отсутсвия кликов'] = grouping.apply(lambda x: (x == 0).sum())\n",
    "    plot_bar(clicks_by_month,'Число действий по месяцам')\n",
    "\n",
    "\n",
    "\n",
    "    print('\\nЧисло действий по часам:')\n",
    "    display(pd.DataFrame(data.groupby(data['date_time'].dt.hour)['clicks'].count()))\n",
    "\n",
    "\n",
    "    clicks_by_month = pd.DataFrame()\n",
    "    grouping = data.groupby(data['date_time'].dt.hour)['clicks']\n",
    "    clicks_by_month['Число кликов'] = grouping.sum()\n",
    "    clicks_by_month['Число отсутсвия кликов'] = grouping.apply(lambda x: (x == 0).sum())\n",
    "    plot_bar(clicks_by_month,'Число действий по месяцам')"
   ]
  },
  {
   "cell_type": "code",
   "execution_count": 5,
   "metadata": {
    "scrolled": true
   },
   "outputs": [
    {
     "name": "stdout",
     "output_type": "stream",
     "text": [
      "\n",
      "\n"
     ]
    },
    {
     "data": {
      "text/html": [
       "<p style='font-size: 20px'>Описательные характеристики</p>"
      ],
      "text/plain": [
       "<IPython.core.display.HTML object>"
      ]
     },
     "metadata": {},
     "output_type": "display_data"
    },
    {
     "name": "stdout",
     "output_type": "stream",
     "text": [
      "\n",
      "Число пропусков в данных:\n"
     ]
    },
    {
     "data": {
      "text/html": [
       "<div>\n",
       "<style scoped>\n",
       "    .dataframe tbody tr th:only-of-type {\n",
       "        vertical-align: middle;\n",
       "    }\n",
       "\n",
       "    .dataframe tbody tr th {\n",
       "        vertical-align: top;\n",
       "    }\n",
       "\n",
       "    .dataframe thead th {\n",
       "        text-align: right;\n",
       "    }\n",
       "</style>\n",
       "<table border=\"1\" class=\"dataframe\">\n",
       "  <thead>\n",
       "    <tr style=\"text-align: right;\">\n",
       "      <th></th>\n",
       "      <th>0</th>\n",
       "    </tr>\n",
       "  </thead>\n",
       "  <tbody>\n",
       "    <tr>\n",
       "      <th>date_time</th>\n",
       "      <td>0</td>\n",
       "    </tr>\n",
       "    <tr>\n",
       "      <th>zone_id</th>\n",
       "      <td>0</td>\n",
       "    </tr>\n",
       "    <tr>\n",
       "      <th>banner_id</th>\n",
       "      <td>0</td>\n",
       "    </tr>\n",
       "    <tr>\n",
       "      <th>campaign_clicks</th>\n",
       "      <td>0</td>\n",
       "    </tr>\n",
       "    <tr>\n",
       "      <th>os_id</th>\n",
       "      <td>0</td>\n",
       "    </tr>\n",
       "    <tr>\n",
       "      <th>country_id</th>\n",
       "      <td>0</td>\n",
       "    </tr>\n",
       "    <tr>\n",
       "      <th>impressions</th>\n",
       "      <td>0</td>\n",
       "    </tr>\n",
       "    <tr>\n",
       "      <th>clicks</th>\n",
       "      <td>0</td>\n",
       "    </tr>\n",
       "  </tbody>\n",
       "</table>\n",
       "</div>"
      ],
      "text/plain": [
       "                 0\n",
       "date_time        0\n",
       "zone_id          0\n",
       "banner_id        0\n",
       "campaign_clicks  0\n",
       "os_id            0\n",
       "country_id       0\n",
       "impressions      0\n",
       "clicks           0"
      ]
     },
     "metadata": {},
     "output_type": "display_data"
    },
    {
     "name": "stdout",
     "output_type": "stream",
     "text": [
      "\n",
      "Число уникальных значений в столбцах:\n"
     ]
    },
    {
     "data": {
      "text/html": [
       "<div>\n",
       "<style scoped>\n",
       "    .dataframe tbody tr th:only-of-type {\n",
       "        vertical-align: middle;\n",
       "    }\n",
       "\n",
       "    .dataframe tbody tr th {\n",
       "        vertical-align: top;\n",
       "    }\n",
       "\n",
       "    .dataframe thead th {\n",
       "        text-align: right;\n",
       "    }\n",
       "</style>\n",
       "<table border=\"1\" class=\"dataframe\">\n",
       "  <thead>\n",
       "    <tr style=\"text-align: right;\">\n",
       "      <th></th>\n",
       "      <th>0</th>\n",
       "    </tr>\n",
       "  </thead>\n",
       "  <tbody>\n",
       "    <tr>\n",
       "      <th>date_time</th>\n",
       "      <td>604712</td>\n",
       "    </tr>\n",
       "    <tr>\n",
       "      <th>zone_id</th>\n",
       "      <td>3444</td>\n",
       "    </tr>\n",
       "    <tr>\n",
       "      <th>banner_id</th>\n",
       "      <td>1633</td>\n",
       "    </tr>\n",
       "    <tr>\n",
       "      <th>campaign_clicks</th>\n",
       "      <td>822</td>\n",
       "    </tr>\n",
       "    <tr>\n",
       "      <th>os_id</th>\n",
       "      <td>11</td>\n",
       "    </tr>\n",
       "    <tr>\n",
       "      <th>country_id</th>\n",
       "      <td>17</td>\n",
       "    </tr>\n",
       "    <tr>\n",
       "      <th>impressions</th>\n",
       "      <td>1</td>\n",
       "    </tr>\n",
       "    <tr>\n",
       "      <th>clicks</th>\n",
       "      <td>2</td>\n",
       "    </tr>\n",
       "  </tbody>\n",
       "</table>\n",
       "</div>"
      ],
      "text/plain": [
       "                      0\n",
       "date_time        604712\n",
       "zone_id            3444\n",
       "banner_id          1633\n",
       "campaign_clicks     822\n",
       "os_id                11\n",
       "country_id           17\n",
       "impressions           1\n",
       "clicks                2"
      ]
     },
     "metadata": {},
     "output_type": "display_data"
    },
    {
     "name": "stdout",
     "output_type": "stream",
     "text": [
      "\n",
      "Описательные статистики:\n"
     ]
    },
    {
     "data": {
      "text/html": [
       "<div>\n",
       "<style scoped>\n",
       "    .dataframe tbody tr th:only-of-type {\n",
       "        vertical-align: middle;\n",
       "    }\n",
       "\n",
       "    .dataframe tbody tr th {\n",
       "        vertical-align: top;\n",
       "    }\n",
       "\n",
       "    .dataframe thead th {\n",
       "        text-align: right;\n",
       "    }\n",
       "</style>\n",
       "<table border=\"1\" class=\"dataframe\">\n",
       "  <thead>\n",
       "    <tr style=\"text-align: right;\">\n",
       "      <th></th>\n",
       "      <th>zone_id</th>\n",
       "      <th>banner_id</th>\n",
       "      <th>campaign_clicks</th>\n",
       "      <th>os_id</th>\n",
       "      <th>country_id</th>\n",
       "      <th>impressions</th>\n",
       "      <th>clicks</th>\n",
       "    </tr>\n",
       "  </thead>\n",
       "  <tbody>\n",
       "    <tr>\n",
       "      <th>count</th>\n",
       "      <td>1.582147e+07</td>\n",
       "      <td>1.582147e+07</td>\n",
       "      <td>1.582147e+07</td>\n",
       "      <td>1.582147e+07</td>\n",
       "      <td>1.582147e+07</td>\n",
       "      <td>15821472.0</td>\n",
       "      <td>1.582147e+07</td>\n",
       "    </tr>\n",
       "    <tr>\n",
       "      <th>mean</th>\n",
       "      <td>8.152679e+01</td>\n",
       "      <td>3.816483e+02</td>\n",
       "      <td>6.238540e-01</td>\n",
       "      <td>1.840605e+00</td>\n",
       "      <td>4.346986e+00</td>\n",
       "      <td>1.0</td>\n",
       "      <td>2.668835e-02</td>\n",
       "    </tr>\n",
       "    <tr>\n",
       "      <th>std</th>\n",
       "      <td>1.632448e+02</td>\n",
       "      <td>3.959386e+02</td>\n",
       "      <td>9.249152e+00</td>\n",
       "      <td>1.530005e+00</td>\n",
       "      <td>4.317701e+00</td>\n",
       "      <td>0.0</td>\n",
       "      <td>1.611710e-01</td>\n",
       "    </tr>\n",
       "    <tr>\n",
       "      <th>min</th>\n",
       "      <td>0.000000e+00</td>\n",
       "      <td>0.000000e+00</td>\n",
       "      <td>0.000000e+00</td>\n",
       "      <td>0.000000e+00</td>\n",
       "      <td>0.000000e+00</td>\n",
       "      <td>1.0</td>\n",
       "      <td>0.000000e+00</td>\n",
       "    </tr>\n",
       "    <tr>\n",
       "      <th>25%</th>\n",
       "      <td>1.400000e+01</td>\n",
       "      <td>5.200000e+01</td>\n",
       "      <td>0.000000e+00</td>\n",
       "      <td>1.000000e+00</td>\n",
       "      <td>0.000000e+00</td>\n",
       "      <td>1.0</td>\n",
       "      <td>0.000000e+00</td>\n",
       "    </tr>\n",
       "    <tr>\n",
       "      <th>50%</th>\n",
       "      <td>1.900000e+01</td>\n",
       "      <td>2.170000e+02</td>\n",
       "      <td>0.000000e+00</td>\n",
       "      <td>2.000000e+00</td>\n",
       "      <td>4.000000e+00</td>\n",
       "      <td>1.0</td>\n",
       "      <td>0.000000e+00</td>\n",
       "    </tr>\n",
       "    <tr>\n",
       "      <th>75%</th>\n",
       "      <td>6.000000e+01</td>\n",
       "      <td>6.110000e+02</td>\n",
       "      <td>0.000000e+00</td>\n",
       "      <td>3.000000e+00</td>\n",
       "      <td>7.000000e+00</td>\n",
       "      <td>1.0</td>\n",
       "      <td>0.000000e+00</td>\n",
       "    </tr>\n",
       "    <tr>\n",
       "      <th>max</th>\n",
       "      <td>3.443000e+03</td>\n",
       "      <td>1.632000e+03</td>\n",
       "      <td>8.290000e+02</td>\n",
       "      <td>1.000000e+01</td>\n",
       "      <td>1.600000e+01</td>\n",
       "      <td>1.0</td>\n",
       "      <td>1.000000e+00</td>\n",
       "    </tr>\n",
       "  </tbody>\n",
       "</table>\n",
       "</div>"
      ],
      "text/plain": [
       "            zone_id     banner_id  campaign_clicks         os_id  \\\n",
       "count  1.582147e+07  1.582147e+07     1.582147e+07  1.582147e+07   \n",
       "mean   8.152679e+01  3.816483e+02     6.238540e-01  1.840605e+00   \n",
       "std    1.632448e+02  3.959386e+02     9.249152e+00  1.530005e+00   \n",
       "min    0.000000e+00  0.000000e+00     0.000000e+00  0.000000e+00   \n",
       "25%    1.400000e+01  5.200000e+01     0.000000e+00  1.000000e+00   \n",
       "50%    1.900000e+01  2.170000e+02     0.000000e+00  2.000000e+00   \n",
       "75%    6.000000e+01  6.110000e+02     0.000000e+00  3.000000e+00   \n",
       "max    3.443000e+03  1.632000e+03     8.290000e+02  1.000000e+01   \n",
       "\n",
       "         country_id  impressions        clicks  \n",
       "count  1.582147e+07   15821472.0  1.582147e+07  \n",
       "mean   4.346986e+00          1.0  2.668835e-02  \n",
       "std    4.317701e+00          0.0  1.611710e-01  \n",
       "min    0.000000e+00          1.0  0.000000e+00  \n",
       "25%    0.000000e+00          1.0  0.000000e+00  \n",
       "50%    4.000000e+00          1.0  0.000000e+00  \n",
       "75%    7.000000e+00          1.0  0.000000e+00  \n",
       "max    1.600000e+01          1.0  1.000000e+00  "
      ]
     },
     "metadata": {},
     "output_type": "display_data"
    },
    {
     "name": "stdout",
     "output_type": "stream",
     "text": [
      "\n",
      "Матрица корреляции:\n"
     ]
    },
    {
     "data": {
      "image/png": "[encoded data removed]",
      "text/plain": [
       "<Figure size 504x360 with 2 Axes>"
      ]
     },
     "metadata": {
      "needs_background": "light"
     },
     "output_type": "display_data"
    },
    {
     "name": "stdout",
     "output_type": "stream",
     "text": [
      "\n",
      "Анализ дат:\n"
     ]
    },
    {
     "data": {
      "text/html": [
       "<div>\n",
       "<style scoped>\n",
       "    .dataframe tbody tr th:only-of-type {\n",
       "        vertical-align: middle;\n",
       "    }\n",
       "\n",
       "    .dataframe tbody tr th {\n",
       "        vertical-align: top;\n",
       "    }\n",
       "\n",
       "    .dataframe thead th {\n",
       "        text-align: right;\n",
       "    }\n",
       "</style>\n",
       "<table border=\"1\" class=\"dataframe\">\n",
       "  <thead>\n",
       "    <tr style=\"text-align: right;\">\n",
       "      <th></th>\n",
       "      <th>0</th>\n",
       "    </tr>\n",
       "  </thead>\n",
       "  <tbody>\n",
       "    <tr>\n",
       "      <th>Различных лет</th>\n",
       "      <td>1</td>\n",
       "    </tr>\n",
       "    <tr>\n",
       "      <th>Различных месяцев</th>\n",
       "      <td>2</td>\n",
       "    </tr>\n",
       "    <tr>\n",
       "      <th>Различных дат</th>\n",
       "      <td>8</td>\n",
       "    </tr>\n",
       "  </tbody>\n",
       "</table>\n",
       "</div>"
      ],
      "text/plain": [
       "                   0\n",
       "Различных лет      1\n",
       "Различных месяцев  2\n",
       "Различных дат      8"
      ]
     },
     "metadata": {},
     "output_type": "display_data"
    },
    {
     "name": "stdout",
     "output_type": "stream",
     "text": [
      "\n",
      "Анализ времени:\n"
     ]
    },
    {
     "data": {
      "text/html": [
       "<div>\n",
       "<style scoped>\n",
       "    .dataframe tbody tr th:only-of-type {\n",
       "        vertical-align: middle;\n",
       "    }\n",
       "\n",
       "    .dataframe tbody tr th {\n",
       "        vertical-align: top;\n",
       "    }\n",
       "\n",
       "    .dataframe thead th {\n",
       "        text-align: right;\n",
       "    }\n",
       "</style>\n",
       "<table border=\"1\" class=\"dataframe\">\n",
       "  <thead>\n",
       "    <tr style=\"text-align: right;\">\n",
       "      <th></th>\n",
       "      <th>0</th>\n",
       "    </tr>\n",
       "  </thead>\n",
       "  <tbody>\n",
       "    <tr>\n",
       "      <th>Различных часов</th>\n",
       "      <td>24</td>\n",
       "    </tr>\n",
       "  </tbody>\n",
       "</table>\n",
       "</div>"
      ],
      "text/plain": [
       "                  0\n",
       "Различных часов  24"
      ]
     },
     "metadata": {},
     "output_type": "display_data"
    },
    {
     "name": "stdout",
     "output_type": "stream",
     "text": [
      "\n",
      "\n"
     ]
    },
    {
     "data": {
      "text/html": [
       "<p style='font-size: 20px'>Анализ распределения кликов</p>"
      ],
      "text/plain": [
       "<IPython.core.display.HTML object>"
      ]
     },
     "metadata": {},
     "output_type": "display_data"
    },
    {
     "name": "stdout",
     "output_type": "stream",
     "text": [
      "\n",
      "Число действий по датам:\n"
     ]
    },
    {
     "data": {
      "text/html": [
       "<div>\n",
       "<style scoped>\n",
       "    .dataframe tbody tr th:only-of-type {\n",
       "        vertical-align: middle;\n",
       "    }\n",
       "\n",
       "    .dataframe tbody tr th {\n",
       "        vertical-align: top;\n",
       "    }\n",
       "\n",
       "    .dataframe thead th {\n",
       "        text-align: right;\n",
       "    }\n",
       "</style>\n",
       "<table border=\"1\" class=\"dataframe\">\n",
       "  <thead>\n",
       "    <tr style=\"text-align: right;\">\n",
       "      <th></th>\n",
       "      <th>clicks</th>\n",
       "    </tr>\n",
       "    <tr>\n",
       "      <th>date_time</th>\n",
       "      <th></th>\n",
       "    </tr>\n",
       "  </thead>\n",
       "  <tbody>\n",
       "    <tr>\n",
       "      <th>2021-09-01</th>\n",
       "      <td>1</td>\n",
       "    </tr>\n",
       "    <tr>\n",
       "      <th>2021-09-26</th>\n",
       "      <td>3102610</td>\n",
       "    </tr>\n",
       "    <tr>\n",
       "      <th>2021-09-27</th>\n",
       "      <td>2367303</td>\n",
       "    </tr>\n",
       "    <tr>\n",
       "      <th>2021-09-28</th>\n",
       "      <td>2307355</td>\n",
       "    </tr>\n",
       "    <tr>\n",
       "      <th>2021-09-29</th>\n",
       "      <td>2420588</td>\n",
       "    </tr>\n",
       "    <tr>\n",
       "      <th>2021-09-30</th>\n",
       "      <td>1851189</td>\n",
       "    </tr>\n",
       "    <tr>\n",
       "      <th>2021-10-01</th>\n",
       "      <td>1643448</td>\n",
       "    </tr>\n",
       "    <tr>\n",
       "      <th>2021-10-02</th>\n",
       "      <td>2128978</td>\n",
       "    </tr>\n",
       "  </tbody>\n",
       "</table>\n",
       "</div>"
      ],
      "text/plain": [
       "             clicks\n",
       "date_time          \n",
       "2021-09-01        1\n",
       "2021-09-26  3102610\n",
       "2021-09-27  2367303\n",
       "2021-09-28  2307355\n",
       "2021-09-29  2420588\n",
       "2021-09-30  1851189\n",
       "2021-10-01  1643448\n",
       "2021-10-02  2128978"
      ]
     },
     "metadata": {},
     "output_type": "display_data"
    },
    {
     "data": {
      "image/png": "[encoded data removed]",
      "text/plain": [
       "<Figure size 1440x360 with 2 Axes>"
      ]
     },
     "metadata": {
      "needs_background": "light"
     },
     "output_type": "display_data"
    },
    {
     "name": "stdout",
     "output_type": "stream",
     "text": [
      "\n",
      "Число действий по дням недели:\n"
     ]
    },
    {
     "data": {
      "text/html": [
       "<div>\n",
       "<style scoped>\n",
       "    .dataframe tbody tr th:only-of-type {\n",
       "        vertical-align: middle;\n",
       "    }\n",
       "\n",
       "    .dataframe tbody tr th {\n",
       "        vertical-align: top;\n",
       "    }\n",
       "\n",
       "    .dataframe thead th {\n",
       "        text-align: right;\n",
       "    }\n",
       "</style>\n",
       "<table border=\"1\" class=\"dataframe\">\n",
       "  <thead>\n",
       "    <tr style=\"text-align: right;\">\n",
       "      <th></th>\n",
       "      <th>clicks</th>\n",
       "    </tr>\n",
       "    <tr>\n",
       "      <th>date_time</th>\n",
       "      <th></th>\n",
       "    </tr>\n",
       "  </thead>\n",
       "  <tbody>\n",
       "    <tr>\n",
       "      <th>0</th>\n",
       "      <td>2367303</td>\n",
       "    </tr>\n",
       "    <tr>\n",
       "      <th>1</th>\n",
       "      <td>2307355</td>\n",
       "    </tr>\n",
       "    <tr>\n",
       "      <th>2</th>\n",
       "      <td>2420589</td>\n",
       "    </tr>\n",
       "    <tr>\n",
       "      <th>3</th>\n",
       "      <td>1851189</td>\n",
       "    </tr>\n",
       "    <tr>\n",
       "      <th>4</th>\n",
       "      <td>1643448</td>\n",
       "    </tr>\n",
       "    <tr>\n",
       "      <th>5</th>\n",
       "      <td>2128978</td>\n",
       "    </tr>\n",
       "    <tr>\n",
       "      <th>6</th>\n",
       "      <td>3102610</td>\n",
       "    </tr>\n",
       "  </tbody>\n",
       "</table>\n",
       "</div>"
      ],
      "text/plain": [
       "            clicks\n",
       "date_time         \n",
       "0          2367303\n",
       "1          2307355\n",
       "2          2420589\n",
       "3          1851189\n",
       "4          1643448\n",
       "5          2128978\n",
       "6          3102610"
      ]
     },
     "metadata": {},
     "output_type": "display_data"
    },
    {
     "data": {
      "image/png": "[encoded data removed]",
      "text/plain": [
       "<Figure size 1440x360 with 2 Axes>"
      ]
     },
     "metadata": {
      "needs_background": "light"
     },
     "output_type": "display_data"
    },
    {
     "name": "stdout",
     "output_type": "stream",
     "text": [
      "\n",
      "Число действий по месяцам:\n"
     ]
    },
    {
     "data": {
      "text/html": [
       "<div>\n",
       "<style scoped>\n",
       "    .dataframe tbody tr th:only-of-type {\n",
       "        vertical-align: middle;\n",
       "    }\n",
       "\n",
       "    .dataframe tbody tr th {\n",
       "        vertical-align: top;\n",
       "    }\n",
       "\n",
       "    .dataframe thead th {\n",
       "        text-align: right;\n",
       "    }\n",
       "</style>\n",
       "<table border=\"1\" class=\"dataframe\">\n",
       "  <thead>\n",
       "    <tr style=\"text-align: right;\">\n",
       "      <th></th>\n",
       "      <th>clicks</th>\n",
       "    </tr>\n",
       "    <tr>\n",
       "      <th>date_time</th>\n",
       "      <th></th>\n",
       "    </tr>\n",
       "  </thead>\n",
       "  <tbody>\n",
       "    <tr>\n",
       "      <th>9</th>\n",
       "      <td>12049046</td>\n",
       "    </tr>\n",
       "    <tr>\n",
       "      <th>10</th>\n",
       "      <td>3772426</td>\n",
       "    </tr>\n",
       "  </tbody>\n",
       "</table>\n",
       "</div>"
      ],
      "text/plain": [
       "             clicks\n",
       "date_time          \n",
       "9          12049046\n",
       "10          3772426"
      ]
     },
     "metadata": {},
     "output_type": "display_data"
    },
    {
     "data": {
      "image/png": "[encoded data removed]",
      "text/plain": [
       "<Figure size 1440x360 with 2 Axes>"
      ]
     },
     "metadata": {
      "needs_background": "light"
     },
     "output_type": "display_data"
    },
    {
     "name": "stdout",
     "output_type": "stream",
     "text": [
      "\n",
      "Число действий по часам:\n"
     ]
    },
    {
     "data": {
      "text/html": [
       "<div>\n",
       "<style scoped>\n",
       "    .dataframe tbody tr th:only-of-type {\n",
       "        vertical-align: middle;\n",
       "    }\n",
       "\n",
       "    .dataframe tbody tr th {\n",
       "        vertical-align: top;\n",
       "    }\n",
       "\n",
       "    .dataframe thead th {\n",
       "        text-align: right;\n",
       "    }\n",
       "</style>\n",
       "<table border=\"1\" class=\"dataframe\">\n",
       "  <thead>\n",
       "    <tr style=\"text-align: right;\">\n",
       "      <th></th>\n",
       "      <th>clicks</th>\n",
       "    </tr>\n",
       "    <tr>\n",
       "      <th>date_time</th>\n",
       "      <th></th>\n",
       "    </tr>\n",
       "  </thead>\n",
       "  <tbody>\n",
       "    <tr>\n",
       "      <th>0</th>\n",
       "      <td>550788</td>\n",
       "    </tr>\n",
       "    <tr>\n",
       "      <th>1</th>\n",
       "      <td>498533</td>\n",
       "    </tr>\n",
       "    <tr>\n",
       "      <th>2</th>\n",
       "      <td>482018</td>\n",
       "    </tr>\n",
       "    <tr>\n",
       "      <th>3</th>\n",
       "      <td>444033</td>\n",
       "    </tr>\n",
       "    <tr>\n",
       "      <th>4</th>\n",
       "      <td>405813</td>\n",
       "    </tr>\n",
       "    <tr>\n",
       "      <th>5</th>\n",
       "      <td>474251</td>\n",
       "    </tr>\n",
       "    <tr>\n",
       "      <th>6</th>\n",
       "      <td>476654</td>\n",
       "    </tr>\n",
       "    <tr>\n",
       "      <th>7</th>\n",
       "      <td>481859</td>\n",
       "    </tr>\n",
       "    <tr>\n",
       "      <th>8</th>\n",
       "      <td>547525</td>\n",
       "    </tr>\n",
       "    <tr>\n",
       "      <th>9</th>\n",
       "      <td>516624</td>\n",
       "    </tr>\n",
       "    <tr>\n",
       "      <th>10</th>\n",
       "      <td>509720</td>\n",
       "    </tr>\n",
       "    <tr>\n",
       "      <th>11</th>\n",
       "      <td>592749</td>\n",
       "    </tr>\n",
       "    <tr>\n",
       "      <th>12</th>\n",
       "      <td>625483</td>\n",
       "    </tr>\n",
       "    <tr>\n",
       "      <th>13</th>\n",
       "      <td>634799</td>\n",
       "    </tr>\n",
       "    <tr>\n",
       "      <th>14</th>\n",
       "      <td>716351</td>\n",
       "    </tr>\n",
       "    <tr>\n",
       "      <th>15</th>\n",
       "      <td>744556</td>\n",
       "    </tr>\n",
       "    <tr>\n",
       "      <th>16</th>\n",
       "      <td>918587</td>\n",
       "    </tr>\n",
       "    <tr>\n",
       "      <th>17</th>\n",
       "      <td>910469</td>\n",
       "    </tr>\n",
       "    <tr>\n",
       "      <th>18</th>\n",
       "      <td>1014305</td>\n",
       "    </tr>\n",
       "    <tr>\n",
       "      <th>19</th>\n",
       "      <td>1135143</td>\n",
       "    </tr>\n",
       "    <tr>\n",
       "      <th>20</th>\n",
       "      <td>1082943</td>\n",
       "    </tr>\n",
       "    <tr>\n",
       "      <th>21</th>\n",
       "      <td>812888</td>\n",
       "    </tr>\n",
       "    <tr>\n",
       "      <th>22</th>\n",
       "      <td>667214</td>\n",
       "    </tr>\n",
       "    <tr>\n",
       "      <th>23</th>\n",
       "      <td>578167</td>\n",
       "    </tr>\n",
       "  </tbody>\n",
       "</table>\n",
       "</div>"
      ],
      "text/plain": [
       "            clicks\n",
       "date_time         \n",
       "0           550788\n",
       "1           498533\n",
       "2           482018\n",
       "3           444033\n",
       "4           405813\n",
       "5           474251\n",
       "6           476654\n",
       "7           481859\n",
       "8           547525\n",
       "9           516624\n",
       "10          509720\n",
       "11          592749\n",
       "12          625483\n",
       "13          634799\n",
       "14          716351\n",
       "15          744556\n",
       "16          918587\n",
       "17          910469\n",
       "18         1014305\n",
       "19         1135143\n",
       "20         1082943\n",
       "21          812888\n",
       "22          667214\n",
       "23          578167"
      ]
     },
     "metadata": {},
     "output_type": "display_data"
    },
    {
     "data": {
      "image/png": "[encoded data removed]",
      "text/plain": [
       "<Figure size 1440x360 with 2 Axes>"
      ]
     },
     "metadata": {
      "needs_background": "light"
     },
     "output_type": "display_data"
    }
   ],
   "source": [
    "analysis(data)"
   ]
  },
  {
   "cell_type": "markdown",
   "metadata": {},
   "source": [
    "## Итого мы имеем:\n",
    "* все признаки, кроме campaign_clicks - категориальные\n",
    "* между признаками нет сильной корреляции, что очень хорошо, тк нет необходимости убирать какие-то из них\n",
    "* `impressions` всегда равняется 1, то есть показ всегда был, поэтому в дальнейшем можем убрать этот признак из анализа\n",
    "* у нас имеется всего 8 дат, которые идут подряд, поэтому наверное выделение года и месяца особого смысла не имеет. Однако день недели может оказывать влияние на клики, поскольку можно предположить, что поведение в выходные дни может отличаться от рабочих.\n",
    "* аналогично дню недели можно предположить что поведение пользователей в разное время дня может меняться, поэтому стоит его выделить.\n",
    "* видно, что 01-09-2023 было совершено только одно действие, кажется можно его просто удалить\n",
    "\n"
   ]
  },
  {
   "cell_type": "markdown",
   "metadata": {},
   "source": [
    "## Преобразование признаков"
   ]
  },
  {
   "cell_type": "code",
   "execution_count": 6,
   "metadata": {
    "execution": {
     "iopub.execute_input": "2023-12-04T16:58:43.713839Z",
     "iopub.status.busy": "2023-12-04T16:58:43.713126Z",
     "iopub.status.idle": "2023-12-04T16:58:43.723371Z",
     "shell.execute_reply": "2023-12-04T16:58:43.722446Z",
     "shell.execute_reply.started": "2023-12-04T16:58:43.713781Z"
    }
   },
   "outputs": [],
   "source": [
    "def feature_engineering(data: pd.DataFrame) -> pd.DataFrame:\n",
    "    data.drop(['impressions'], axis=1, inplace = True)\n",
    "    # убираем дату с 1 действием\n",
    "    data = data[~(data.date_time.dt.date == datetime.date(2021, 9, 1))]\n",
    "    # выделяем дату\n",
    "    data['date'] = data.date_time.dt.date\n",
    "    # выделяем день недели\n",
    "    data['day_of_week'] = data.date_time.dt.dayofweek\n",
    "    # выделяем время дня\n",
    "    data['hour'] = data.date_time.dt.hour\n",
    "    # сгруппируем часы в промежутки дня утро, день, вечер, ночь (утро с 6 до 12, обед с 12 до 18, вечер с 18 до 24, ночь с 24 до 6)\n",
    "    bins = [0, 6, 12, 18,  24]\n",
    "    labels = ['Ночь', 'Утро', 'Обед', 'Вечер'] \n",
    "    #data['time_of_day'] = pd.cut(data['hour'], bins=bins, labels=labels, right=False)\n",
    "    \n",
    "    features = list(set(data.columns) - set(['date_time','date']))\n",
    "    \n",
    "    #Деление на train-val-test\n",
    "\n",
    "\n",
    "    # выделяем последний день на test, предпоследний на валидацию, все остальное - на обучение\n",
    "    train_data = data[(data.date < datetime.date(2021,10, 1))][features]\n",
    "    val_data = data[(data.date == datetime.date(2021,10, 1))][features]\n",
    "    test_data = data[(data.date == datetime.date(2021,10, 2))][features]\n",
    "\n",
    "    return train_data, val_data, test_data"
   ]
  },
  {
   "cell_type": "code",
   "execution_count": 7,
   "metadata": {
    "execution": {
     "iopub.execute_input": "2023-12-04T16:58:43.725028Z",
     "iopub.status.busy": "2023-12-04T16:58:43.724643Z",
     "iopub.status.idle": "2023-12-04T16:59:07.833760Z",
     "shell.execute_reply": "2023-12-04T16:59:07.832962Z",
     "shell.execute_reply.started": "2023-12-04T16:58:43.724985Z"
    }
   },
   "outputs": [],
   "source": [
    "train_data, val_data, test_data = feature_engineering(data) "
   ]
  },
  {
   "cell_type": "code",
   "execution_count": 8,
   "metadata": {
    "execution": {
     "iopub.status.busy": "2023-12-04T16:57:16.634491Z",
     "iopub.status.idle": "2023-12-04T16:57:16.634862Z",
     "shell.execute_reply": "2023-12-04T16:57:16.634683Z",
     "shell.execute_reply.started": "2023-12-04T16:57:16.634663Z"
    }
   },
   "outputs": [
    {
     "data": {
      "text/html": [
       "<div>\n",
       "<style scoped>\n",
       "    .dataframe tbody tr th:only-of-type {\n",
       "        vertical-align: middle;\n",
       "    }\n",
       "\n",
       "    .dataframe tbody tr th {\n",
       "        vertical-align: top;\n",
       "    }\n",
       "\n",
       "    .dataframe thead th {\n",
       "        text-align: right;\n",
       "    }\n",
       "</style>\n",
       "<table border=\"1\" class=\"dataframe\">\n",
       "  <thead>\n",
       "    <tr style=\"text-align: right;\">\n",
       "      <th></th>\n",
       "      <th>clicks</th>\n",
       "      <th>day_of_week</th>\n",
       "      <th>campaign_clicks</th>\n",
       "      <th>zone_id</th>\n",
       "      <th>hour</th>\n",
       "      <th>os_id</th>\n",
       "      <th>country_id</th>\n",
       "      <th>banner_id</th>\n",
       "    </tr>\n",
       "  </thead>\n",
       "  <tbody>\n",
       "    <tr>\n",
       "      <th>0</th>\n",
       "      <td>1</td>\n",
       "      <td>0</td>\n",
       "      <td>0</td>\n",
       "      <td>0</td>\n",
       "      <td>0</td>\n",
       "      <td>0</td>\n",
       "      <td>0</td>\n",
       "      <td>0</td>\n",
       "    </tr>\n",
       "    <tr>\n",
       "      <th>1</th>\n",
       "      <td>1</td>\n",
       "      <td>6</td>\n",
       "      <td>0</td>\n",
       "      <td>1</td>\n",
       "      <td>22</td>\n",
       "      <td>0</td>\n",
       "      <td>1</td>\n",
       "      <td>1</td>\n",
       "    </tr>\n",
       "    <tr>\n",
       "      <th>2</th>\n",
       "      <td>1</td>\n",
       "      <td>6</td>\n",
       "      <td>3</td>\n",
       "      <td>2</td>\n",
       "      <td>23</td>\n",
       "      <td>0</td>\n",
       "      <td>0</td>\n",
       "      <td>2</td>\n",
       "    </tr>\n",
       "    <tr>\n",
       "      <th>3</th>\n",
       "      <td>1</td>\n",
       "      <td>0</td>\n",
       "      <td>0</td>\n",
       "      <td>3</td>\n",
       "      <td>0</td>\n",
       "      <td>1</td>\n",
       "      <td>1</td>\n",
       "      <td>3</td>\n",
       "    </tr>\n",
       "    <tr>\n",
       "      <th>4</th>\n",
       "      <td>1</td>\n",
       "      <td>0</td>\n",
       "      <td>0</td>\n",
       "      <td>4</td>\n",
       "      <td>0</td>\n",
       "      <td>1</td>\n",
       "      <td>0</td>\n",
       "      <td>4</td>\n",
       "    </tr>\n",
       "  </tbody>\n",
       "</table>\n",
       "</div>"
      ],
      "text/plain": [
       "   clicks  day_of_week  campaign_clicks  zone_id  hour  os_id  country_id  \\\n",
       "0       1            0                0        0     0      0           0   \n",
       "1       1            6                0        1    22      0           1   \n",
       "2       1            6                3        2    23      0           0   \n",
       "3       1            0                0        3     0      1           1   \n",
       "4       1            0                0        4     0      1           0   \n",
       "\n",
       "   banner_id  \n",
       "0          0  \n",
       "1          1  \n",
       "2          2  \n",
       "3          3  \n",
       "4          4  "
      ]
     },
     "execution_count": 8,
     "metadata": {},
     "output_type": "execute_result"
    }
   ],
   "source": [
    "train_data.head()"
   ]
  },
  {
   "cell_type": "markdown",
   "metadata": {},
   "source": [
    "## Подготовка данных"
   ]
  },
  {
   "cell_type": "markdown",
   "metadata": {},
   "source": [
    "Для FFM входные данные должны быть в определенном формате(https://medium.com/@fareedkhandev/solve-large-scale-machine-learning-problem-in-python-58416f67c0ef#:~:text=For%20FFM%2C%20the%20input%20data%20should%20be%20in%20the%20libffm%20format.)\n",
    "\n",
    "Буду использовать функцию для преобразования из:\n",
    "https://github.com/wngaw/blog/blob/master/xlearn_example/src/utils.py"
   ]
  },
  {
   "cell_type": "code",
   "execution_count": 13,
   "metadata": {
    "execution": {
     "iopub.execute_input": "2023-12-04T16:59:07.842060Z",
     "iopub.status.busy": "2023-12-04T16:59:07.841709Z",
     "iopub.status.idle": "2023-12-04T16:59:07.861050Z",
     "shell.execute_reply": "2023-12-04T16:59:07.860157Z",
     "shell.execute_reply.started": "2023-12-04T16:59:07.842035Z"
    }
   },
   "outputs": [],
   "source": [
    "import json\n",
    "import math\n",
    "def convert_to_ffm(path, df, type, target, numerics, categories, features, encoder):\n",
    "    # Flagging categorical and numerical fields\n",
    "    #print('convert_to_ffm - START')\n",
    "    for x in numerics:\n",
    "        if(x not in encoder['catdict']):\n",
    "            #print(f'UPDATING CATDICT: numeric field - {x}')\n",
    "            encoder['catdict'][x] = 0\n",
    "    for x in categories:\n",
    "        if(x not in encoder['catdict']):\n",
    "            #print(f'UPDATING CATDICT: categorical field - {x}')\n",
    "            encoder['catdict'][x] = 1\n",
    "\n",
    "    nrows = df.shape[0]\n",
    "    with open(path + str(type) + \"_ffm.txt\", \"w\") as text_file:\n",
    "\n",
    "        # Looping over rows to convert each row to libffm format\n",
    "        for n, r in enumerate(range(nrows)):\n",
    "            datastring = \"\"\n",
    "            datarow = df.iloc[r].to_dict()\n",
    "            datastring += str(int(datarow[target]))  # Set Target Variable here\n",
    "\n",
    "            # For numerical fields, we are creating a dummy field here\n",
    "            for i, x in enumerate(encoder['catdict'].keys()):\n",
    "                if(encoder['catdict'][x] == 0):\n",
    "                    # Not adding numerical values that are nan\n",
    "                    if math.isnan(datarow[x]) is not True:\n",
    "                        datastring = datastring + \" \"+str(i)+\":\" + str(i)+\":\" + str(datarow[x])\n",
    "                else:\n",
    "\n",
    "                    # For a new field appearing in a training example\n",
    "                    if(x not in encoder['catcodes']):\n",
    "                        #print(f'UPDATING CATCODES: categorical field - {x}')\n",
    "                        encoder['catcodes'][x] = {}\n",
    "                        encoder['currentcode'] += 1\n",
    "                        #print(f'UPDATING CATCODES: categorical value for field {x} - {datarow[x]}')\n",
    "                        encoder['catcodes'][x][datarow[x]] = encoder['currentcode']  # encoding the feature\n",
    "\n",
    "                    # For already encoded fields\n",
    "                    elif(datarow[x] not in encoder['catcodes'][x]):\n",
    "                        encoder['currentcode'] += 1\n",
    "                        #print(f'UPDATING CATCODES: categorical value for field {x} - {datarow[x]}')\n",
    "                        encoder['catcodes'][x][datarow[x]] = encoder['currentcode']  # encoding the feature\n",
    "\n",
    "                    code = encoder['catcodes'][x][datarow[x]]\n",
    "                    datastring = datastring + \" \"+str(i)+\":\" + str(int(code))+\":1\"\n",
    "\n",
    "            datastring += '\\n'\n",
    "            text_file.write(datastring)\n",
    "\n",
    "    # print('Encoder Summary:')\n",
    "    # print(json.dumps(encoder, indent=4))\n",
    "    return encoder"
   ]
  },
  {
   "cell_type": "code",
   "execution_count": 14,
   "metadata": {
    "execution": {
     "iopub.execute_input": "2023-12-04T16:59:07.862588Z",
     "iopub.status.busy": "2023-12-04T16:59:07.862281Z",
     "iopub.status.idle": "2023-12-04T16:59:07.870301Z",
     "shell.execute_reply": "2023-12-04T16:59:07.869483Z",
     "shell.execute_reply.started": "2023-12-04T16:59:07.862562Z"
    }
   },
   "outputs": [],
   "source": [
    "#определяем списки фичей для передачи в функцию\n",
    "target = 'clicks'\n",
    "numer_feat = ['campaign_clicks','day_of_week','hour']\n",
    "categ_feat = ['zone_id', 'os_id', 'country_id', 'banner_id']\n",
    "features = numer_feat+categ_feat"
   ]
  },
  {
   "cell_type": "code",
   "execution_count": 15,
   "metadata": {
    "execution": {
     "iopub.execute_input": "2023-12-04T16:59:07.871538Z",
     "iopub.status.busy": "2023-12-04T16:59:07.871272Z",
     "iopub.status.idle": "2023-12-04T16:59:07.881273Z",
     "shell.execute_reply": "2023-12-04T16:59:07.880494Z",
     "shell.execute_reply.started": "2023-12-04T16:59:07.871515Z"
    }
   },
   "outputs": [],
   "source": [
    "encoder = {\"currentcode\": len(numer_feat),  # Unique index for each numerical field or categorical variables\n",
    "           \"catdict\": {},  # Dictionary that stores numerical and categorical variables\n",
    "           \"catcodes\": {}}  # Dictionary that stores index for each categorical variables per categorical field"
   ]
  },
  {
   "cell_type": "code",
   "execution_count": 16,
   "metadata": {},
   "outputs": [],
   "source": [
    "#применяем функцию для train\n",
    "encoder_train = convert_to_ffm('', train_data, 'train', target, numer_feat, categ_feat, features, encoder)"
   ]
  },
  {
   "cell_type": "code",
   "execution_count": 17,
   "metadata": {
    "execution": {
     "iopub.status.busy": "2023-12-04T17:01:45.839376Z",
     "iopub.status.idle": "2023-12-04T17:01:45.839923Z",
     "shell.execute_reply": "2023-12-04T17:01:45.839654Z",
     "shell.execute_reply.started": "2023-12-04T17:01:45.839629Z"
    }
   },
   "outputs": [],
   "source": [
    "#применяем функцию для val\n",
    "encoder_val = convert_to_ffm('', val_data, 'val', target, numer_feat, categ_feat, features, encoder)"
   ]
  },
  {
   "cell_type": "code",
   "execution_count": 18,
   "metadata": {
    "execution": {
     "iopub.execute_input": "2023-12-04T15:48:53.564288Z",
     "iopub.status.busy": "2023-12-04T15:48:53.563999Z",
     "iopub.status.idle": "2023-12-04T15:53:12.382942Z",
     "shell.execute_reply": "2023-12-04T15:53:12.381970Z",
     "shell.execute_reply.started": "2023-12-04T15:48:53.564262Z"
    }
   },
   "outputs": [],
   "source": [
    "#применяем функцию для test\n",
    "encoder_test = convert_to_ffm('', test_data, 'test', target, numer_feat, categ_feat, features, encoder)"
   ]
  },
  {
   "cell_type": "code",
   "execution_count": 19,
   "metadata": {
    "execution": {
     "iopub.execute_input": "2023-12-04T16:54:13.441493Z",
     "iopub.status.busy": "2023-12-04T16:54:13.440688Z",
     "iopub.status.idle": "2023-12-04T16:54:13.446088Z",
     "shell.execute_reply": "2023-12-04T16:54:13.445138Z",
     "shell.execute_reply.started": "2023-12-04T16:54:13.441456Z"
    }
   },
   "outputs": [],
   "source": [
    "y_test = test_data['clicks']\n",
    "y_val = val_data['clicks']"
   ]
  },
  {
   "cell_type": "markdown",
   "metadata": {},
   "source": [
    "У меня не получилось установить xlearn локально, коллаб прерывал сеанс без каких-либо ошибок, поэтому последней надеждой был kaggle. Я залила полученные txt файлы в датасет ffm-format - https://www.kaggle.com/datasets/anastasiasmi/ffm-format/data"
   ]
  },
  {
   "cell_type": "code",
   "execution_count": null,
   "metadata": {
    "execution": {
     "iopub.execute_input": "2023-12-04T16:26:23.355379Z",
     "iopub.status.busy": "2023-12-04T16:26:23.354377Z"
    }
   },
   "outputs": [],
   "source": [
    "params = {\n",
    "    'task': ['binary'],\n",
    "    'lr': [0.1],\n",
    "    'lambda':[1e-2, 1e-3, 1e-4],\n",
    "    'k': [2, 5, 7, 9]}\n",
    "\n",
    "#df для хранения результатов обучения, чтобы потом было удобно сравнить модели\n",
    "scores_df = pd.DataFrame(columns=[\"lambda\", \"k\", \"roc_auc\", \"log_loss\"])\n",
    "\n",
    "for param in ParameterGrid(params):\n",
    "    \n",
    "    #Обучаем модель\n",
    "    print('Рассматриваемые параметры: ' + '\\n' + str(param))\n",
    "    ffm_model = xl.create_ffm()\n",
    "    ffm_model.setTrain(\"/kaggle/input/ffm-format/val_ffm.txt\")\n",
    "    ffm_model.setValidate(\"/kaggle/input/ffm-format/train_ffm.txt\")\n",
    "    ffm_model.fit(param, f\"./model_l_{param['lambda']}_k_{param['k']}.out\")\n",
    "    ffm_model.setSigmoid()\n",
    "    \n",
    "    #Применяем модель\n",
    "    ffm_model.predict(f\"./model_l_{param['lambda']}_k_{param['k']}.out', f'./y_pred_l_{param['lambda']}_k_{param['k']}.txt\")\n",
    "    y_pred = np.genfromtxt(f\"y_pred_l_{param['lambda']}_k_{param['k']}.txt\", dtype=float)\n",
    "    log_loss_sc = log_loss(y_test, y_pred)\n",
    "    roc_auc_sc = roc_auc_score(y_test, y_pred)\n",
    "    print('Результаты:')\n",
    "    print(\"Log Loss:\", log_loss_sc)\n",
    "    print(\"ROC AUC:\", roc_auc_sc)\n",
    "\n",
    "    scores_df = scores_df.append({\n",
    "    \"lambda\": param['lambda'],\n",
    "    \"k\": param['k'],\n",
    "    \"roc_auc\": roc_auc_sc,\n",
    "    \"log_loss\": log_loss_sc,}, ignore_index=True)"
   ]
  },
  {
   "attachments": {
    "image.png": {
     "image/png": "[encoded data removed]"
    }
   },
   "cell_type": "markdown",
   "metadata": {},
   "source": [
    "В результате, я так и не смогла его победить. kaggle хотя-бы выдавал следующую информацию, после чего вылетал:\n",
    "![image.png](attachment:image.png)"
   ]
  },
  {
   "cell_type": "code",
   "execution_count": null,
   "metadata": {},
   "outputs": [],
   "source": [
    "scores_df"
   ]
  }
 ],
 "metadata": {
  "kaggle": {
   "accelerator": "gpu",
   "dataSources": [
    {
     "datasetId": 4007846,
     "sourceId": 7076821,
     "sourceType": "datasetVersion"
    },
    {
     "datasetId": 4106853,
     "sourceId": 7120411,
     "sourceType": "datasetVersion"
    },
    {
     "datasetId": 4107932,
     "sourceId": 7121889,
     "sourceType": "datasetVersion"
    }
   ],
   "dockerImageVersionId": 30588,
   "isGpuEnabled": true,
   "isInternetEnabled": true,
   "language": "python",
   "sourceType": "notebook"
  },
  "kernelspec": {
   "display_name": "Python 3 (ipykernel)",
   "language": "python",
   "name": "python3"
  },
  "language_info": {
   "codemirror_mode": {
    "name": "ipython",
    "version": 3
   },
   "file_extension": ".py",
   "mimetype": "text/x-python",
   "name": "python",
   "nbconvert_exporter": "python",
   "pygments_lexer": "ipython3",
   "version": "3.9.7"
  }
 },
 "nbformat": 4,
 "nbformat_minor": 4
}
