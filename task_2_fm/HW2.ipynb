{
 "cells": [
  {
   "cell_type": "code",
   "execution_count": 2,
   "metadata": {
    "id": "I-fmgS8ly5Xs"
   },
   "outputs": [],
   "source": [
    "import xlearn as xl\n",
    "\n",
    "import pandas as pd\n",
    "import numpy as np\n",
    "\n",
    "import matplotlib.pyplot as plt\n",
    "import seaborn as sns\n",
    "\n",
    "from sklearn.metrics import log_loss, roc_auc_score, accuracy_score, make_scorer\n",
    "from sklearn.preprocessing import OneHotEncoder\n",
    "from sklearn.model_selection import ParameterGrid\n",
    "from scipy.sparse import hstack"
   ]
  },
  {
   "cell_type": "code",
   "execution_count": 3,
   "metadata": {
    "colab": {
     "base_uri": "https://localhost:8080/",
     "height": 313
    },
    "id": "_DBNYgnAzJW-",
    "outputId": "47afd08f-91c6-45b7-c405-8189c9d2c975"
   },
   "outputs": [
    {
     "data": {
      "text/html": [
       "<div>\n",
       "<style scoped>\n",
       "    .dataframe tbody tr th:only-of-type {\n",
       "        vertical-align: middle;\n",
       "    }\n",
       "\n",
       "    .dataframe tbody tr th {\n",
       "        vertical-align: top;\n",
       "    }\n",
       "\n",
       "    .dataframe thead th {\n",
       "        text-align: right;\n",
       "    }\n",
       "</style>\n",
       "<table border=\"1\" class=\"dataframe\">\n",
       "  <thead>\n",
       "    <tr style=\"text-align: right;\">\n",
       "      <th></th>\n",
       "      <th>date_time</th>\n",
       "      <th>zone_id</th>\n",
       "      <th>banner_id</th>\n",
       "      <th>oaid_hash</th>\n",
       "      <th>campaign_clicks</th>\n",
       "      <th>os_id</th>\n",
       "      <th>country_id</th>\n",
       "      <th>banner_id0</th>\n",
       "      <th>rate0</th>\n",
       "      <th>g0</th>\n",
       "      <th>coeff_sum0</th>\n",
       "      <th>banner_id1</th>\n",
       "      <th>rate1</th>\n",
       "      <th>g1</th>\n",
       "      <th>coeff_sum1</th>\n",
       "      <th>impressions</th>\n",
       "      <th>clicks</th>\n",
       "    </tr>\n",
       "  </thead>\n",
       "  <tbody>\n",
       "    <tr>\n",
       "      <th>0</th>\n",
       "      <td>2021-09-27 00:01:30.000000</td>\n",
       "      <td>0</td>\n",
       "      <td>0</td>\n",
       "      <td>5664530014561852622</td>\n",
       "      <td>0</td>\n",
       "      <td>0</td>\n",
       "      <td>0</td>\n",
       "      <td>1240</td>\n",
       "      <td>0.067</td>\n",
       "      <td>0.035016</td>\n",
       "      <td>-7.268846</td>\n",
       "      <td>0</td>\n",
       "      <td>0.010</td>\n",
       "      <td>0.049516</td>\n",
       "      <td>-5.369901</td>\n",
       "      <td>1</td>\n",
       "      <td>1</td>\n",
       "    </tr>\n",
       "    <tr>\n",
       "      <th>1</th>\n",
       "      <td>2021-09-26 22:54:49.000000</td>\n",
       "      <td>1</td>\n",
       "      <td>1</td>\n",
       "      <td>5186611064559013950</td>\n",
       "      <td>0</td>\n",
       "      <td>0</td>\n",
       "      <td>1</td>\n",
       "      <td>1</td>\n",
       "      <td>0.002</td>\n",
       "      <td>0.054298</td>\n",
       "      <td>-2.657477</td>\n",
       "      <td>269</td>\n",
       "      <td>0.004</td>\n",
       "      <td>0.031942</td>\n",
       "      <td>-4.449220</td>\n",
       "      <td>1</td>\n",
       "      <td>1</td>\n",
       "    </tr>\n",
       "    <tr>\n",
       "      <th>2</th>\n",
       "      <td>2021-09-26 23:57:20.000000</td>\n",
       "      <td>2</td>\n",
       "      <td>2</td>\n",
       "      <td>2215519569292448030</td>\n",
       "      <td>3</td>\n",
       "      <td>0</td>\n",
       "      <td>0</td>\n",
       "      <td>2</td>\n",
       "      <td>0.014</td>\n",
       "      <td>0.014096</td>\n",
       "      <td>-3.824875</td>\n",
       "      <td>21</td>\n",
       "      <td>0.014</td>\n",
       "      <td>0.014906</td>\n",
       "      <td>-3.939309</td>\n",
       "      <td>1</td>\n",
       "      <td>1</td>\n",
       "    </tr>\n",
       "    <tr>\n",
       "      <th>3</th>\n",
       "      <td>2021-09-27 00:04:30.000000</td>\n",
       "      <td>3</td>\n",
       "      <td>3</td>\n",
       "      <td>6262169206735077204</td>\n",
       "      <td>0</td>\n",
       "      <td>1</td>\n",
       "      <td>1</td>\n",
       "      <td>3</td>\n",
       "      <td>0.012</td>\n",
       "      <td>0.015232</td>\n",
       "      <td>-3.461357</td>\n",
       "      <td>99</td>\n",
       "      <td>0.006</td>\n",
       "      <td>0.050671</td>\n",
       "      <td>-3.418403</td>\n",
       "      <td>1</td>\n",
       "      <td>1</td>\n",
       "    </tr>\n",
       "    <tr>\n",
       "      <th>4</th>\n",
       "      <td>2021-09-27 00:06:21.000000</td>\n",
       "      <td>4</td>\n",
       "      <td>4</td>\n",
       "      <td>4778985830203613115</td>\n",
       "      <td>0</td>\n",
       "      <td>1</td>\n",
       "      <td>0</td>\n",
       "      <td>4</td>\n",
       "      <td>0.019</td>\n",
       "      <td>0.051265</td>\n",
       "      <td>-4.009026</td>\n",
       "      <td>11464230</td>\n",
       "      <td>6.790</td>\n",
       "      <td>0.032005</td>\n",
       "      <td>-2.828797</td>\n",
       "      <td>1</td>\n",
       "      <td>1</td>\n",
       "    </tr>\n",
       "  </tbody>\n",
       "</table>\n",
       "</div>"
      ],
      "text/plain": [
       "                    date_time  zone_id  banner_id            oaid_hash  \\\n",
       "0  2021-09-27 00:01:30.000000        0          0  5664530014561852622   \n",
       "1  2021-09-26 22:54:49.000000        1          1  5186611064559013950   \n",
       "2  2021-09-26 23:57:20.000000        2          2  2215519569292448030   \n",
       "3  2021-09-27 00:04:30.000000        3          3  6262169206735077204   \n",
       "4  2021-09-27 00:06:21.000000        4          4  4778985830203613115   \n",
       "\n",
       "   campaign_clicks  os_id  country_id  banner_id0  rate0        g0  \\\n",
       "0                0      0           0        1240  0.067  0.035016   \n",
       "1                0      0           1           1  0.002  0.054298   \n",
       "2                3      0           0           2  0.014  0.014096   \n",
       "3                0      1           1           3  0.012  0.015232   \n",
       "4                0      1           0           4  0.019  0.051265   \n",
       "\n",
       "   coeff_sum0  banner_id1  rate1        g1  coeff_sum1  impressions  clicks  \n",
       "0   -7.268846           0  0.010  0.049516   -5.369901            1       1  \n",
       "1   -2.657477         269  0.004  0.031942   -4.449220            1       1  \n",
       "2   -3.824875          21  0.014  0.014906   -3.939309            1       1  \n",
       "3   -3.461357          99  0.006  0.050671   -3.418403            1       1  \n",
       "4   -4.009026    11464230  6.790  0.032005   -2.828797            1       1  "
      ]
     },
     "execution_count": 3,
     "metadata": {},
     "output_type": "execute_result"
    }
   ],
   "source": [
    "PATH = '/content/drive/MyDrive/Recsys'\n",
    "data = pd.read_csv(PATH + '/data.csv')\n",
    "data.head()"
   ]
  },
  {
   "cell_type": "markdown",
   "metadata": {},
   "source": [
    "### Подготовка данных"
   ]
  },
  {
   "cell_type": "code",
   "execution_count": 6,
   "metadata": {
    "id": "w-rTDmpT3-1j"
   },
   "outputs": [],
   "source": [
    "def train_val_test_split(data: pd.DataFrame):\n",
    "    \"\"\"\n",
    "    Разбивает данные на тренировочную, валидационную и тестовую выборки.\n",
    "    В тестовую часть попадает последний день, в валидационную - предпоследний\n",
    "    \"\"\"\n",
    "    test_day = data['date_time'].dt.date.max()\n",
    "    val_day = test_day - pd.Timedelta(days=1)\n",
    "\n",
    "    Test = data.loc[data['date_time'].dt.date == test_day]\n",
    "    Val = data.loc[data['date_time'].dt.date == val_day]\n",
    "    Train = data.loc[data['date_time'].dt.date < val_day]\n",
    "\n",
    "    Test = Test.drop(['date_time'], axis=1)\n",
    "    Val = Val.drop(['date_time'], axis=1)\n",
    "    Train = Train.drop(['date_time'], axis=1)\n",
    "\n",
    "    return Train, Val, Test"
   ]
  },
  {
   "cell_type": "code",
   "execution_count": 7,
   "metadata": {
    "id": "2JtpaoLn3-5F"
   },
   "outputs": [],
   "source": [
    "def feature_engineering(data: pd.DataFrame) -> pd.DataFrame:\n",
    "    \"\"\"\n",
    "    Создает фичи и подготовливает категориальные и числовые признаки для подачи в модель.\n",
    "    \"\"\"\n",
    "\n",
    "    # Выделим день недели и час в отдельные переменные\n",
    "    data['date_time'] = pd.to_datetime(data['date_time'], format=\"%Y-%m-%d %H:%M:%S.%f\")\n",
    "    data['weekday'] = data['date_time'].dt.weekday\n",
    "    data['hour'] = data['date_time'].dt.hour\n",
    "    # Так как переменная hour циклична, трансформируем ее в 2 отдельные фичи\n",
    "    data['hour_sin'] = np.sin(2 * np.pi * data['hour'] / 24)\n",
    "    data['hour_cos'] = np.cos(2 * np.pi * data['hour'] / 24)\n",
    "    # Возьмем логарифм campaign_clicks, чтобы немного сгладить смещение\n",
    "    data['log_campaign_clicks'] = np.log10(data['campaign_clicks'].to_numpy() + 1)\n",
    "\n",
    "    # Удалим ненужные переменные\n",
    "    data = data.drop(columns = ['oaid_hash', 'banner_id0', 'banner_id1',\n",
    "                                'rate0', 'rate1', 'g0', 'g1', 'campaign_clicks',\n",
    "                                'coeff_sum0', 'coeff_sum1', 'impressions', 'hour'])\n",
    "\n",
    "    return data"
   ]
  },
  {
   "cell_type": "code",
   "execution_count": 8,
   "metadata": {
    "id": "BnheWn4PFfXQ"
   },
   "outputs": [],
   "source": [
    "data_prepared = feature_engineering(data)"
   ]
  },
  {
   "cell_type": "code",
   "execution_count": 9,
   "metadata": {
    "id": "Y6wbkQzDF5mY"
   },
   "outputs": [],
   "source": [
    "del data"
   ]
  },
  {
   "cell_type": "code",
   "execution_count": 10,
   "metadata": {
    "id": "hrXMeQXB4NVO"
   },
   "outputs": [],
   "source": [
    "Train, Val, Test = train_val_test_split(data_prepared)"
   ]
  },
  {
   "cell_type": "code",
   "execution_count": 11,
   "metadata": {
    "colab": {
     "base_uri": "https://localhost:8080/",
     "height": 206
    },
    "id": "qz3c11FgI9Eo",
    "outputId": "55e41833-ed05-4966-c978-9e022aa262a5"
   },
   "outputs": [
    {
     "data": {
      "text/html": [
       "<div>\n",
       "<style scoped>\n",
       "    .dataframe tbody tr th:only-of-type {\n",
       "        vertical-align: middle;\n",
       "    }\n",
       "\n",
       "    .dataframe tbody tr th {\n",
       "        vertical-align: top;\n",
       "    }\n",
       "\n",
       "    .dataframe thead th {\n",
       "        text-align: right;\n",
       "    }\n",
       "</style>\n",
       "<table border=\"1\" class=\"dataframe\">\n",
       "  <thead>\n",
       "    <tr style=\"text-align: right;\">\n",
       "      <th></th>\n",
       "      <th>zone_id</th>\n",
       "      <th>banner_id</th>\n",
       "      <th>os_id</th>\n",
       "      <th>country_id</th>\n",
       "      <th>clicks</th>\n",
       "      <th>weekday</th>\n",
       "      <th>hour_sin</th>\n",
       "      <th>hour_cos</th>\n",
       "      <th>log_campaign_clicks</th>\n",
       "    </tr>\n",
       "  </thead>\n",
       "  <tbody>\n",
       "    <tr>\n",
       "      <th>0</th>\n",
       "      <td>0</td>\n",
       "      <td>0</td>\n",
       "      <td>0</td>\n",
       "      <td>0</td>\n",
       "      <td>1</td>\n",
       "      <td>0</td>\n",
       "      <td>0.000000</td>\n",
       "      <td>1.000000</td>\n",
       "      <td>0.00000</td>\n",
       "    </tr>\n",
       "    <tr>\n",
       "      <th>1</th>\n",
       "      <td>1</td>\n",
       "      <td>1</td>\n",
       "      <td>0</td>\n",
       "      <td>1</td>\n",
       "      <td>1</td>\n",
       "      <td>6</td>\n",
       "      <td>-0.500000</td>\n",
       "      <td>0.866025</td>\n",
       "      <td>0.00000</td>\n",
       "    </tr>\n",
       "    <tr>\n",
       "      <th>2</th>\n",
       "      <td>2</td>\n",
       "      <td>2</td>\n",
       "      <td>0</td>\n",
       "      <td>0</td>\n",
       "      <td>1</td>\n",
       "      <td>6</td>\n",
       "      <td>-0.258819</td>\n",
       "      <td>0.965926</td>\n",
       "      <td>0.60206</td>\n",
       "    </tr>\n",
       "    <tr>\n",
       "      <th>3</th>\n",
       "      <td>3</td>\n",
       "      <td>3</td>\n",
       "      <td>1</td>\n",
       "      <td>1</td>\n",
       "      <td>1</td>\n",
       "      <td>0</td>\n",
       "      <td>0.000000</td>\n",
       "      <td>1.000000</td>\n",
       "      <td>0.00000</td>\n",
       "    </tr>\n",
       "    <tr>\n",
       "      <th>4</th>\n",
       "      <td>4</td>\n",
       "      <td>4</td>\n",
       "      <td>1</td>\n",
       "      <td>0</td>\n",
       "      <td>1</td>\n",
       "      <td>0</td>\n",
       "      <td>0.000000</td>\n",
       "      <td>1.000000</td>\n",
       "      <td>0.00000</td>\n",
       "    </tr>\n",
       "  </tbody>\n",
       "</table>\n",
       "</div>"
      ],
      "text/plain": [
       "   zone_id  banner_id  os_id  country_id  clicks  weekday  hour_sin  hour_cos  \\\n",
       "0        0          0      0           0       1        0  0.000000  1.000000   \n",
       "1        1          1      0           1       1        6 -0.500000  0.866025   \n",
       "2        2          2      0           0       1        6 -0.258819  0.965926   \n",
       "3        3          3      1           1       1        0  0.000000  1.000000   \n",
       "4        4          4      1           0       1        0  0.000000  1.000000   \n",
       "\n",
       "   log_campaign_clicks  \n",
       "0              0.00000  \n",
       "1              0.00000  \n",
       "2              0.60206  \n",
       "3              0.00000  \n",
       "4              0.00000  "
      ]
     },
     "execution_count": 11,
     "metadata": {},
     "output_type": "execute_result"
    }
   ],
   "source": [
    "Train.head()"
   ]
  },
  {
   "cell_type": "code",
   "execution_count": 12,
   "metadata": {
    "id": "Rb4bE8k9JMtK"
   },
   "outputs": [],
   "source": [
    "del data_prepared"
   ]
  },
  {
   "cell_type": "markdown",
   "metadata": {},
   "source": [
    "### Преобразование в ffm формат"
   ]
  },
  {
   "cell_type": "code",
   "execution_count": 19,
   "metadata": {
    "id": "qWMPqYCGG4S-"
   },
   "outputs": [],
   "source": [
    "# https://github.com/wngaw/blog/blob/master/xlearn_example/src/utils.py\n",
    "\n",
    "import json\n",
    "import math\n",
    "\n",
    "\n",
    "def convert_to_ffm(path, df, type, target, numerics, categories, features, encoder):\n",
    "    # Flagging categorical and numerical fields\n",
    "    print('convert_to_ffm - START')\n",
    "    for x in numerics:\n",
    "        if(x not in encoder['catdict']):\n",
    "            print(f'UPDATING CATDICT: numeric field - {x}')\n",
    "            encoder['catdict'][x] = 0\n",
    "    for x in categories:\n",
    "        if(x not in encoder['catdict']):\n",
    "            print(f'UPDATING CATDICT: categorical field - {x}')\n",
    "            encoder['catdict'][x] = 1\n",
    "\n",
    "    nrows = df.shape[0]\n",
    "    with open(path + str(type) + \"_ffm.txt\", \"w\") as text_file:\n",
    "\n",
    "        # Looping over rows to convert each row to libffm format\n",
    "        for n, r in enumerate(range(nrows)):\n",
    "            datastring = \"\"\n",
    "            datarow = df.iloc[r].to_dict()\n",
    "            datastring += str(int(datarow[target]))  # Set Target Variable here\n",
    "\n",
    "            # For numerical fields, we are creating a dummy field here\n",
    "            for i, x in enumerate(encoder['catdict'].keys()):\n",
    "                if(encoder['catdict'][x] == 0):\n",
    "                    # Not adding numerical values that are nan\n",
    "                    if math.isnan(datarow[x]) is not True:\n",
    "                        datastring = datastring + \" \"+str(i)+\":\" + str(i)+\":\" + str(datarow[x])\n",
    "                else:\n",
    "\n",
    "                    # For a new field appearing in a training example\n",
    "                    if(x not in encoder['catcodes']):\n",
    "                        print(f'UPDATING CATCODES: categorical field - {x}')\n",
    "                        encoder['catcodes'][x] = {}\n",
    "                        encoder['currentcode'] += 1\n",
    "                        #print(f'UPDATING CATCODES: categorical value for field {x} - {datarow[x]}')\n",
    "                        encoder['catcodes'][x][datarow[x]] = encoder['currentcode']  # encoding the feature\n",
    "\n",
    "                    # For already encoded fields\n",
    "                    elif(datarow[x] not in encoder['catcodes'][x]):\n",
    "                        encoder['currentcode'] += 1\n",
    "                        #print(f'UPDATING CATCODES: categorical value for field {x} - {datarow[x]}')\n",
    "                        encoder['catcodes'][x][datarow[x]] = encoder['currentcode']  # encoding the feature\n",
    "\n",
    "                    code = encoder['catcodes'][x][datarow[x]]\n",
    "                    datastring = datastring + \" \"+str(i)+\":\" + str(int(code))+\":1\"\n",
    "\n",
    "            datastring += '\\n'\n",
    "            text_file.write(datastring)\n",
    "\n",
    "    # print('Encoder Summary:')\n",
    "    # print(json.dumps(encoder, indent=4))\n",
    "    return encoder"
   ]
  },
  {
   "cell_type": "code",
   "execution_count": 20,
   "metadata": {
    "id": "7bm7e9U6G7sF"
   },
   "outputs": [],
   "source": [
    "categorical = ['zone_id', 'banner_id', 'os_id', 'country_id', 'weekday']\n",
    "numerical = ['log_campaign_clicks', 'hour_cos', 'hour_sin']\n",
    "full = categorical + numerical\n",
    "target = 'clicks'\n",
    "\n",
    "# Инициализируем кодировщик \n",
    "encoder = {\"currentcode\": len(numerical),\n",
    "           \"catdict\": {},\n",
    "           \"catcodes\": {}}\n",
    "\n",
    "# Выделим реальные метки, чтобы потом удалить Val и Test и не занимать ими память\n",
    "y_test = Test['clicks']\n",
    "y_val = Val['clicks']"
   ]
  },
  {
   "cell_type": "code",
   "execution_count": 21,
   "metadata": {
    "colab": {
     "base_uri": "https://localhost:8080/"
    },
    "id": "ApZBKpLbILik",
    "outputId": "419e1b25-4a73-43e5-ab33-21bc5903f93b"
   },
   "outputs": [
    {
     "name": "stdout",
     "output_type": "stream",
     "text": [
      "convert_to_ffm - START\n",
      "UPDATING CATDICT: numeric field - log_campaign_clicks\n",
      "UPDATING CATDICT: numeric field - hour_cos\n",
      "UPDATING CATDICT: numeric field - hour_sin\n",
      "UPDATING CATDICT: categorical field - zone_id\n",
      "UPDATING CATDICT: categorical field - banner_id\n",
      "UPDATING CATDICT: categorical field - os_id\n",
      "UPDATING CATDICT: categorical field - country_id\n",
      "UPDATING CATDICT: categorical field - weekday\n",
      "UPDATING CATCODES: categorical field - zone_id\n",
      "UPDATING CATCODES: categorical field - banner_id\n",
      "UPDATING CATCODES: categorical field - os_id\n",
      "UPDATING CATCODES: categorical field - country_id\n",
      "UPDATING CATCODES: categorical field - weekday\n"
     ]
    }
   ],
   "source": [
    "encoder = convert_to_ffm('', Train, 'Train', target, numerical, categorical, full, encoder)"
   ]
  },
  {
   "cell_type": "code",
   "execution_count": 22,
   "metadata": {
    "colab": {
     "base_uri": "https://localhost:8080/"
    },
    "id": "UiKyyQcwIL2j",
    "outputId": "a189ae68-bab6-406d-88a2-717867f84dc0"
   },
   "outputs": [
    {
     "name": "stdout",
     "output_type": "stream",
     "text": [
      "convert_to_ffm - START\n"
     ]
    }
   ],
   "source": [
    "encoder = convert_to_ffm('', Val, 'Val', target, numerical, categorical, full, encoder)"
   ]
  },
  {
   "cell_type": "code",
   "execution_count": 23,
   "metadata": {
    "colab": {
     "base_uri": "https://localhost:8080/"
    },
    "id": "rkYpFcrGTb9v",
    "outputId": "0cd4145a-a417-4d95-e6c5-2fc0bfb1ff29"
   },
   "outputs": [
    {
     "name": "stdout",
     "output_type": "stream",
     "text": [
      "convert_to_ffm - START\n"
     ]
    }
   ],
   "source": [
    "encoder = convert_to_ffm('', Test, 'Test', target, numerical, categorical, full, encoder)"
   ]
  },
  {
   "cell_type": "code",
   "execution_count": 27,
   "metadata": {
    "id": "S82DEh-qUH7A"
   },
   "outputs": [],
   "source": [
    "del Train,Val,Test"
   ]
  },
  {
   "cell_type": "markdown",
   "metadata": {},
   "source": [
    "### Обучение модели"
   ]
  },
  {
   "cell_type": "code",
   "execution_count": 10,
   "metadata": {},
   "outputs": [],
   "source": [
    "# Создадим словарь с параметрами\n",
    "param_dict = {\n",
    "    \"task\": ['binary'],\n",
    "    \"metric\": ['auc'],\n",
    "    \"lr\": [0.1, 0.2],\n",
    "    \"lambda\": [0.0001, 0.001],\n",
    "    \"k\" : [4, 6, 8]\n",
    "}\n",
    "param_grid = list(ParameterGrid(param_dict))"
   ]
  },
  {
   "cell_type": "code",
   "execution_count": 11,
   "metadata": {},
   "outputs": [
    {
     "data": {
      "text/plain": [
       "[{'k': 4, 'lambda': 0.0001, 'lr': 0.1, 'metric': 'auc', 'task': 'binary'},\n",
       " {'k': 4, 'lambda': 0.0001, 'lr': 0.2, 'metric': 'auc', 'task': 'binary'},\n",
       " {'k': 4, 'lambda': 0.001, 'lr': 0.1, 'metric': 'auc', 'task': 'binary'},\n",
       " {'k': 4, 'lambda': 0.001, 'lr': 0.2, 'metric': 'auc', 'task': 'binary'},\n",
       " {'k': 6, 'lambda': 0.0001, 'lr': 0.1, 'metric': 'auc', 'task': 'binary'},\n",
       " {'k': 6, 'lambda': 0.0001, 'lr': 0.2, 'metric': 'auc', 'task': 'binary'},\n",
       " {'k': 6, 'lambda': 0.001, 'lr': 0.1, 'metric': 'auc', 'task': 'binary'},\n",
       " {'k': 6, 'lambda': 0.001, 'lr': 0.2, 'metric': 'auc', 'task': 'binary'},\n",
       " {'k': 8, 'lambda': 0.0001, 'lr': 0.1, 'metric': 'auc', 'task': 'binary'},\n",
       " {'k': 8, 'lambda': 0.0001, 'lr': 0.2, 'metric': 'auc', 'task': 'binary'},\n",
       " {'k': 8, 'lambda': 0.001, 'lr': 0.1, 'metric': 'auc', 'task': 'binary'},\n",
       " {'k': 8, 'lambda': 0.001, 'lr': 0.2, 'metric': 'auc', 'task': 'binary'}]"
      ]
     },
     "execution_count": 11,
     "metadata": {},
     "output_type": "execute_result"
    }
   ],
   "source": [
    "param_grid"
   ]
  },
  {
   "cell_type": "code",
   "execution_count": 42,
   "metadata": {},
   "outputs": [
    {
     "name": "stdout",
     "output_type": "stream",
     "text": [
      "{'k': 4, 'lambda': 0.0001, 'lr': 0.1, 'metric': 'auc', 'task': 'binary'}\n",
      "AUC: 0.785893627389289\n",
      "Log-loss: 0.10256103334432431\n",
      "---------------------------------------------------------------\n",
      "{'k': 4, 'lambda': 0.0001, 'lr': 0.2, 'metric': 'auc', 'task': 'binary'}\n",
      "AUC: 0.789339920697833\n",
      "Log-loss: 0.1014448878402344\n",
      "---------------------------------------------------------------\n",
      "{'k': 4, 'lambda': 0.001, 'lr': 0.1, 'metric': 'auc', 'task': 'binary'}\n",
      "AUC: 0.7737935452447177\n",
      "Log-loss: 0.10925722658843434\n",
      "---------------------------------------------------------------\n",
      "{'k': 4, 'lambda': 0.001, 'lr': 0.2, 'metric': 'auc', 'task': 'binary'}\n",
      "AUC: 0.7731571120455539\n",
      "Log-loss: 0.10798479707946335\n",
      "---------------------------------------------------------------\n",
      "{'k': 6, 'lambda': 0.0001, 'lr': 0.1, 'metric': 'auc', 'task': 'binary'}\n",
      "AUC: 0.8113491433399229\n",
      "Log-loss: 0.10234339770310413\n",
      "---------------------------------------------------------------\n",
      "{'k': 6, 'lambda': 0.0001, 'lr': 0.2, 'metric': 'auc', 'task': 'binary'}\n",
      "AUC: 0.818783327346469\n",
      "Log-loss: 0.1002553965753616\n",
      "---------------------------------------------------------------\n",
      "{'k': 6, 'lambda': 0.001, 'lr': 0.1, 'metric': 'auc', 'task': 'binary'}\n",
      "AUC: 0.8027877147003403\n",
      "Log-loss: 0.10556528361743904\n",
      "---------------------------------------------------------------\n",
      "{'k': 6, 'lambda': 0.001, 'lr': 0.2, 'metric': 'auc', 'task': 'binary'}\n",
      "AUC: 0.8090195020127176\n",
      "Log-loss: 0.10525782130583863\n",
      "---------------------------------------------------------------\n",
      "{'k': 8, 'lambda': 0.0001, 'lr': 0.1, 'metric': 'auc', 'task': 'binary'}\n",
      "AUC: 0.7954095358793057\n",
      "Log-loss: 0.10314668302419416\n",
      "---------------------------------------------------------------\n",
      "{'k': 8, 'lambda': 0.0001, 'lr': 0.2, 'metric': 'auc', 'task': 'binary'}\n",
      "AUC: 0.7942396053861118\n",
      "Log-loss: 0.10668269333121164\n",
      "---------------------------------------------------------------\n",
      "{'k': 8, 'lambda': 0.001, 'lr': 0.1, 'metric': 'auc', 'task': 'binary'}\n",
      "AUC: 0.7878299200117205\n",
      "Log-loss: 0.10792716523738326\n",
      "---------------------------------------------------------------\n",
      "{'k': 8, 'lambda': 0.001, 'lr': 0.2, 'metric': 'auc', 'task': 'binary'}\n",
      "AUC: 0.7854243648000926\n",
      "Log-loss: 0.10841970938094322\n",
      "---------------------------------------------------------------\n"
     ]
    }
   ],
   "source": [
    "best_auc = 0\n",
    "best_log_loss = np.inf\n",
    "best_param = None\n",
    "\n",
    "# Проходимся по наборам параметров и сохраняем лучший результат\n",
    "for param in param_grid:\n",
    "    print(param)\n",
    "    ffm_model = xl.create_ffm()       \n",
    "    ffm_model.setTrain(\"Train_ffm.txt\")     \n",
    "    ffm_model.setValidate(\"Val_ffm.txt\")\n",
    "    ffm_model.fit(param, \"./model.out\")\n",
    "\n",
    "    ffm_model.setTest(\"Val_ffm.txt\")  \n",
    "    ffm_model.setSigmoid()        \n",
    "    ffm_model.predict(\"./model.out\", \"./output.txt\")\n",
    "\n",
    "    with open(\"./output.txt\", 'r') as f:\n",
    "        y_pred_proba = np.array([float(prediction) for prediction in f.readlines()])\n",
    "\n",
    "    roc_auc_res = roc_auc_score(y_val, y_pred_proba)\n",
    "    log_loss_res = log_loss(y_val, y_pred_proba)\n",
    "    print('AUC:', roc_auc_res)\n",
    "    print('Log-loss:', log_loss_res)\n",
    "    print('----------------------------------')\n",
    "    if best_auc < roc_auc_res:\n",
    "        best_auc = roc_auc_res\n",
    "        best_log_loss = log_loss_res\n",
    "        best_param = param"
   ]
  },
  {
   "cell_type": "code",
   "execution_count": 43,
   "metadata": {},
   "outputs": [
    {
     "name": "stdout",
     "output_type": "stream",
     "text": [
      "{'k': 6, 'lambda': 0.0001, 'lr': 0.2, 'metric': 'auc', 'task': 'binary'}\n",
      "Best AUC: 0.818783327346469\n",
      "Best log-loss: 0.1002553965753616\n"
     ]
    }
   ],
   "source": [
    "print(best_param)\n",
    "print('Best AUC:', best_auc)\n",
    "print('Best log-loss:', best_log_loss)"
   ]
  },
  {
   "cell_type": "markdown",
   "metadata": {},
   "source": [
    "Попробуем увеличить lr."
   ]
  },
  {
   "cell_type": "code",
   "execution_count": 44,
   "metadata": {},
   "outputs": [
    {
     "name": "stdout",
     "output_type": "stream",
     "text": [
      "AUC: 0.8186202773322994\n",
      "Log-loss: 0.10027096179859396\n"
     ]
    }
   ],
   "source": [
    "param = {'k': 6, 'lambda': 0.0001, 'lr': 0.3, 'metric': 'auc', 'task': 'binary'}\n",
    "ffm_model = xl.create_ffm()       \n",
    "ffm_model.setTrain(\"Train_ffm.txt\")     \n",
    "ffm_model.setValidate(\"Val_ffm.txt\")\n",
    "ffm_model.fit(param, \"./model.out\")\n",
    "\n",
    "ffm_model.setTest(\"Val_ffm.txt\")  \n",
    "ffm_model.setSigmoid()        \n",
    "ffm_model.predict(\"./model.out\", \"./output.txt\")\n",
    "\n",
    "with open(\"./output.txt\", 'r') as f:\n",
    "    y_pred_proba = np.array([float(prediction) for prediction in f.readlines()])\n",
    "\n",
    "roc_auc_res = roc_auc_score(y_val, y_pred_proba)\n",
    "log_loss_res = log_loss(y_val, y_pred_proba)\n",
    "print('AUC:', roc_auc_res)\n",
    "print('Log-loss:', log_loss_res)"
   ]
  },
  {
   "cell_type": "markdown",
   "metadata": {},
   "source": [
    "Лучше не стало, оставим, как раньше."
   ]
  },
  {
   "cell_type": "code",
   "execution_count": 45,
   "metadata": {},
   "outputs": [
    {
     "name": "stdout",
     "output_type": "stream",
     "text": [
      "AUC: 0.801783327346469\n",
      "Log-loss: 0.13327312614481404\n"
     ]
    }
   ],
   "source": [
    "# Результаты для тестовой части\n",
    "ffm_model = xl.create_ffm()       \n",
    "ffm_model.setTrain(\"Train_ffm.txt\")     \n",
    "ffm_model.setValidate(\"Val_ffm.txt\")\n",
    "ffm_model.fit(param, \"./model.out\")\n",
    "\n",
    "ffm_model.setTest(\"Test_ffm.txt\")  \n",
    "ffm_model.setSigmoid()        \n",
    "ffm_model.predict(\"./model.out\", \"./output.txt\")\n",
    "\n",
    "with open(\"./output.txt\", 'r') as f:\n",
    "    y_pred_proba = np.array([float(prediction) for prediction in f.readlines()])\n",
    "\n",
    "print('AUC:', roc_auc_score(y_test, y_pred_proba))\n",
    "print('Log-loss:', log_loss(y_test, y_pred_proba))"
   ]
  },
  {
   "cell_type": "markdown",
   "metadata": {},
   "source": [
    "В прошлом дз результаты модели были следующими:\\\n",
    "ROC AUC: 0.779, Log-loss: 0.135"
   ]
  },
  {
   "cell_type": "markdown",
   "metadata": {},
   "source": [
    "Таким образом, AUC увеличилась, в то время как Log-loss совсем немного уменьшилась. Лучшая модель выбиралась именно по AUC, поэтому, возможно, нет заметного улучшения по метрике Log-loss."
   ]
  }
 ],
 "metadata": {
  "colab": {
   "provenance": []
  },
  "kernelspec": {
   "display_name": "Python 3 (ipykernel)",
   "language": "python",
   "name": "python3"
  },
  "language_info": {
   "codemirror_mode": {
    "name": "ipython",
    "version": 3
   },
   "file_extension": ".py",
   "mimetype": "text/x-python",
   "name": "python",
   "nbconvert_exporter": "python",
   "pygments_lexer": "ipython3",
   "version": "3.9.7"
  }
 },
 "nbformat": 4,
 "nbformat_minor": 1
}
