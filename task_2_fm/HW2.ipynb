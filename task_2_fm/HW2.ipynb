{
  "cells": [
    {
      "cell_type": "markdown",
      "metadata": {
        "id": "LfUytDZShub7"
      },
      "source": [
        "#Загрузка данных"
      ]
    },
    {
      "cell_type": "code",
      "execution_count": 1,
      "metadata": {
        "id": "0k0vrdPpiiIQ",
        "colab": {
          "base_uri": "https://localhost:8080/"
        },
        "outputId": "5bb6327a-f062-47d4-a009-d1357f1d3a8d"
      },
      "outputs": [
        {
          "output_type": "stream",
          "name": "stdout",
          "text": [
            "Drive already mounted at /content/drive; to attempt to forcibly remount, call drive.mount(\"/content/drive\", force_remount=True).\n"
          ]
        }
      ],
      "source": [
        "from google.colab import drive\n",
        "drive.mount('/content/drive')"
      ]
    },
    {
      "cell_type": "code",
      "execution_count": 5,
      "metadata": {
        "collapsed": true,
        "id": "LPqXvftuho1s"
      },
      "outputs": [],
      "source": [
        "import pandas as pd\n",
        "import matplotlib.pyplot as plt\n",
        "import numpy as np\n",
        "from sklearn.metrics import log_loss, roc_auc_score"
      ]
    },
    {
      "cell_type": "code",
      "execution_count": 6,
      "metadata": {
        "colab": {
          "base_uri": "https://localhost:8080/",
          "height": 313
        },
        "id": "csZ7GwQfho1u",
        "outputId": "5fa1024e-3d06-446f-fb66-d69fecf5ca7f"
      },
      "outputs": [
        {
          "output_type": "execute_result",
          "data": {
            "text/plain": [
              "                    date_time  zone_id  banner_id            oaid_hash  \\\n",
              "0  2021-09-27 00:01:30.000000        0          0  5664530014561852622   \n",
              "1  2021-09-26 22:54:49.000000        1          1  5186611064559013950   \n",
              "2  2021-09-26 23:57:20.000000        2          2  2215519569292448030   \n",
              "3  2021-09-27 00:04:30.000000        3          3  6262169206735077204   \n",
              "4  2021-09-27 00:06:21.000000        4          4  4778985830203613115   \n",
              "\n",
              "   campaign_clicks  os_id  country_id  banner_id0  rate0        g0  \\\n",
              "0                0      0           0        1240  0.067  0.035016   \n",
              "1                0      0           1           1  0.002  0.054298   \n",
              "2                3      0           0           2  0.014  0.014096   \n",
              "3                0      1           1           3  0.012  0.015232   \n",
              "4                0      1           0           4  0.019  0.051265   \n",
              "\n",
              "   coeff_sum0  banner_id1  rate1        g1  coeff_sum1  impressions  clicks  \n",
              "0   -7.268846           0  0.010  0.049516   -5.369901            1       1  \n",
              "1   -2.657477         269  0.004  0.031942   -4.449220            1       1  \n",
              "2   -3.824875          21  0.014  0.014906   -3.939309            1       1  \n",
              "3   -3.461357          99  0.006  0.050671   -3.418403            1       1  \n",
              "4   -4.009026    11464230  6.790  0.032005   -2.828797            1       1  "
            ],
            "text/html": [
              "\n",
              "  <div id=\"df-5681f441-c40a-47d6-851a-039d8f9ce090\" class=\"colab-df-container\">\n",
              "    <div>\n",
              "<style scoped>\n",
              "    .dataframe tbody tr th:only-of-type {\n",
              "        vertical-align: middle;\n",
              "    }\n",
              "\n",
              "    .dataframe tbody tr th {\n",
              "        vertical-align: top;\n",
              "    }\n",
              "\n",
              "    .dataframe thead th {\n",
              "        text-align: right;\n",
              "    }\n",
              "</style>\n",
              "<table border=\"1\" class=\"dataframe\">\n",
              "  <thead>\n",
              "    <tr style=\"text-align: right;\">\n",
              "      <th></th>\n",
              "      <th>date_time</th>\n",
              "      <th>zone_id</th>\n",
              "      <th>banner_id</th>\n",
              "      <th>oaid_hash</th>\n",
              "      <th>campaign_clicks</th>\n",
              "      <th>os_id</th>\n",
              "      <th>country_id</th>\n",
              "      <th>banner_id0</th>\n",
              "      <th>rate0</th>\n",
              "      <th>g0</th>\n",
              "      <th>coeff_sum0</th>\n",
              "      <th>banner_id1</th>\n",
              "      <th>rate1</th>\n",
              "      <th>g1</th>\n",
              "      <th>coeff_sum1</th>\n",
              "      <th>impressions</th>\n",
              "      <th>clicks</th>\n",
              "    </tr>\n",
              "  </thead>\n",
              "  <tbody>\n",
              "    <tr>\n",
              "      <th>0</th>\n",
              "      <td>2021-09-27 00:01:30.000000</td>\n",
              "      <td>0</td>\n",
              "      <td>0</td>\n",
              "      <td>5664530014561852622</td>\n",
              "      <td>0</td>\n",
              "      <td>0</td>\n",
              "      <td>0</td>\n",
              "      <td>1240</td>\n",
              "      <td>0.067</td>\n",
              "      <td>0.035016</td>\n",
              "      <td>-7.268846</td>\n",
              "      <td>0</td>\n",
              "      <td>0.010</td>\n",
              "      <td>0.049516</td>\n",
              "      <td>-5.369901</td>\n",
              "      <td>1</td>\n",
              "      <td>1</td>\n",
              "    </tr>\n",
              "    <tr>\n",
              "      <th>1</th>\n",
              "      <td>2021-09-26 22:54:49.000000</td>\n",
              "      <td>1</td>\n",
              "      <td>1</td>\n",
              "      <td>5186611064559013950</td>\n",
              "      <td>0</td>\n",
              "      <td>0</td>\n",
              "      <td>1</td>\n",
              "      <td>1</td>\n",
              "      <td>0.002</td>\n",
              "      <td>0.054298</td>\n",
              "      <td>-2.657477</td>\n",
              "      <td>269</td>\n",
              "      <td>0.004</td>\n",
              "      <td>0.031942</td>\n",
              "      <td>-4.449220</td>\n",
              "      <td>1</td>\n",
              "      <td>1</td>\n",
              "    </tr>\n",
              "    <tr>\n",
              "      <th>2</th>\n",
              "      <td>2021-09-26 23:57:20.000000</td>\n",
              "      <td>2</td>\n",
              "      <td>2</td>\n",
              "      <td>2215519569292448030</td>\n",
              "      <td>3</td>\n",
              "      <td>0</td>\n",
              "      <td>0</td>\n",
              "      <td>2</td>\n",
              "      <td>0.014</td>\n",
              "      <td>0.014096</td>\n",
              "      <td>-3.824875</td>\n",
              "      <td>21</td>\n",
              "      <td>0.014</td>\n",
              "      <td>0.014906</td>\n",
              "      <td>-3.939309</td>\n",
              "      <td>1</td>\n",
              "      <td>1</td>\n",
              "    </tr>\n",
              "    <tr>\n",
              "      <th>3</th>\n",
              "      <td>2021-09-27 00:04:30.000000</td>\n",
              "      <td>3</td>\n",
              "      <td>3</td>\n",
              "      <td>6262169206735077204</td>\n",
              "      <td>0</td>\n",
              "      <td>1</td>\n",
              "      <td>1</td>\n",
              "      <td>3</td>\n",
              "      <td>0.012</td>\n",
              "      <td>0.015232</td>\n",
              "      <td>-3.461357</td>\n",
              "      <td>99</td>\n",
              "      <td>0.006</td>\n",
              "      <td>0.050671</td>\n",
              "      <td>-3.418403</td>\n",
              "      <td>1</td>\n",
              "      <td>1</td>\n",
              "    </tr>\n",
              "    <tr>\n",
              "      <th>4</th>\n",
              "      <td>2021-09-27 00:06:21.000000</td>\n",
              "      <td>4</td>\n",
              "      <td>4</td>\n",
              "      <td>4778985830203613115</td>\n",
              "      <td>0</td>\n",
              "      <td>1</td>\n",
              "      <td>0</td>\n",
              "      <td>4</td>\n",
              "      <td>0.019</td>\n",
              "      <td>0.051265</td>\n",
              "      <td>-4.009026</td>\n",
              "      <td>11464230</td>\n",
              "      <td>6.790</td>\n",
              "      <td>0.032005</td>\n",
              "      <td>-2.828797</td>\n",
              "      <td>1</td>\n",
              "      <td>1</td>\n",
              "    </tr>\n",
              "  </tbody>\n",
              "</table>\n",
              "</div>\n",
              "    <div class=\"colab-df-buttons\">\n",
              "\n",
              "  <div class=\"colab-df-container\">\n",
              "    <button class=\"colab-df-convert\" onclick=\"convertToInteractive('df-5681f441-c40a-47d6-851a-039d8f9ce090')\"\n",
              "            title=\"Convert this dataframe to an interactive table.\"\n",
              "            style=\"display:none;\">\n",
              "\n",
              "  <svg xmlns=\"http://www.w3.org/2000/svg\" height=\"24px\" viewBox=\"0 -960 960 960\">\n",
              "    <path d=\"M120-120v-720h720v720H120Zm60-500h600v-160H180v160Zm220 220h160v-160H400v160Zm0 220h160v-160H400v160ZM180-400h160v-160H180v160Zm440 0h160v-160H620v160ZM180-180h160v-160H180v160Zm440 0h160v-160H620v160Z\"/>\n",
              "  </svg>\n",
              "    </button>\n",
              "\n",
              "  <style>\n",
              "    .colab-df-container {\n",
              "      display:flex;\n",
              "      gap: 12px;\n",
              "    }\n",
              "\n",
              "    .colab-df-convert {\n",
              "      background-color: #E8F0FE;\n",
              "      border: none;\n",
              "      border-radius: 50%;\n",
              "      cursor: pointer;\n",
              "      display: none;\n",
              "      fill: #1967D2;\n",
              "      height: 32px;\n",
              "      padding: 0 0 0 0;\n",
              "      width: 32px;\n",
              "    }\n",
              "\n",
              "    .colab-df-convert:hover {\n",
              "      background-color: #E2EBFA;\n",
              "      box-shadow: 0px 1px 2px rgba(60, 64, 67, 0.3), 0px 1px 3px 1px rgba(60, 64, 67, 0.15);\n",
              "      fill: #174EA6;\n",
              "    }\n",
              "\n",
              "    .colab-df-buttons div {\n",
              "      margin-bottom: 4px;\n",
              "    }\n",
              "\n",
              "    [theme=dark] .colab-df-convert {\n",
              "      background-color: #3B4455;\n",
              "      fill: #D2E3FC;\n",
              "    }\n",
              "\n",
              "    [theme=dark] .colab-df-convert:hover {\n",
              "      background-color: #434B5C;\n",
              "      box-shadow: 0px 1px 3px 1px rgba(0, 0, 0, 0.15);\n",
              "      filter: drop-shadow(0px 1px 2px rgba(0, 0, 0, 0.3));\n",
              "      fill: #FFFFFF;\n",
              "    }\n",
              "  </style>\n",
              "\n",
              "    <script>\n",
              "      const buttonEl =\n",
              "        document.querySelector('#df-5681f441-c40a-47d6-851a-039d8f9ce090 button.colab-df-convert');\n",
              "      buttonEl.style.display =\n",
              "        google.colab.kernel.accessAllowed ? 'block' : 'none';\n",
              "\n",
              "      async function convertToInteractive(key) {\n",
              "        const element = document.querySelector('#df-5681f441-c40a-47d6-851a-039d8f9ce090');\n",
              "        const dataTable =\n",
              "          await google.colab.kernel.invokeFunction('convertToInteractive',\n",
              "                                                    [key], {});\n",
              "        if (!dataTable) return;\n",
              "\n",
              "        const docLinkHtml = 'Like what you see? Visit the ' +\n",
              "          '<a target=\"_blank\" href=https://colab.research.google.com/notebooks/data_table.ipynb>data table notebook</a>'\n",
              "          + ' to learn more about interactive tables.';\n",
              "        element.innerHTML = '';\n",
              "        dataTable['output_type'] = 'display_data';\n",
              "        await google.colab.output.renderOutput(dataTable, element);\n",
              "        const docLink = document.createElement('div');\n",
              "        docLink.innerHTML = docLinkHtml;\n",
              "        element.appendChild(docLink);\n",
              "      }\n",
              "    </script>\n",
              "  </div>\n",
              "\n",
              "\n",
              "<div id=\"df-96d80432-902c-4167-b52c-ad9842752f2a\">\n",
              "  <button class=\"colab-df-quickchart\" onclick=\"quickchart('df-96d80432-902c-4167-b52c-ad9842752f2a')\"\n",
              "            title=\"Suggest charts\"\n",
              "            style=\"display:none;\">\n",
              "\n",
              "<svg xmlns=\"http://www.w3.org/2000/svg\" height=\"24px\"viewBox=\"0 0 24 24\"\n",
              "     width=\"24px\">\n",
              "    <g>\n",
              "        <path d=\"M19 3H5c-1.1 0-2 .9-2 2v14c0 1.1.9 2 2 2h14c1.1 0 2-.9 2-2V5c0-1.1-.9-2-2-2zM9 17H7v-7h2v7zm4 0h-2V7h2v10zm4 0h-2v-4h2v4z\"/>\n",
              "    </g>\n",
              "</svg>\n",
              "  </button>\n",
              "\n",
              "<style>\n",
              "  .colab-df-quickchart {\n",
              "      --bg-color: #E8F0FE;\n",
              "      --fill-color: #1967D2;\n",
              "      --hover-bg-color: #E2EBFA;\n",
              "      --hover-fill-color: #174EA6;\n",
              "      --disabled-fill-color: #AAA;\n",
              "      --disabled-bg-color: #DDD;\n",
              "  }\n",
              "\n",
              "  [theme=dark] .colab-df-quickchart {\n",
              "      --bg-color: #3B4455;\n",
              "      --fill-color: #D2E3FC;\n",
              "      --hover-bg-color: #434B5C;\n",
              "      --hover-fill-color: #FFFFFF;\n",
              "      --disabled-bg-color: #3B4455;\n",
              "      --disabled-fill-color: #666;\n",
              "  }\n",
              "\n",
              "  .colab-df-quickchart {\n",
              "    background-color: var(--bg-color);\n",
              "    border: none;\n",
              "    border-radius: 50%;\n",
              "    cursor: pointer;\n",
              "    display: none;\n",
              "    fill: var(--fill-color);\n",
              "    height: 32px;\n",
              "    padding: 0;\n",
              "    width: 32px;\n",
              "  }\n",
              "\n",
              "  .colab-df-quickchart:hover {\n",
              "    background-color: var(--hover-bg-color);\n",
              "    box-shadow: 0 1px 2px rgba(60, 64, 67, 0.3), 0 1px 3px 1px rgba(60, 64, 67, 0.15);\n",
              "    fill: var(--button-hover-fill-color);\n",
              "  }\n",
              "\n",
              "  .colab-df-quickchart-complete:disabled,\n",
              "  .colab-df-quickchart-complete:disabled:hover {\n",
              "    background-color: var(--disabled-bg-color);\n",
              "    fill: var(--disabled-fill-color);\n",
              "    box-shadow: none;\n",
              "  }\n",
              "\n",
              "  .colab-df-spinner {\n",
              "    border: 2px solid var(--fill-color);\n",
              "    border-color: transparent;\n",
              "    border-bottom-color: var(--fill-color);\n",
              "    animation:\n",
              "      spin 1s steps(1) infinite;\n",
              "  }\n",
              "\n",
              "  @keyframes spin {\n",
              "    0% {\n",
              "      border-color: transparent;\n",
              "      border-bottom-color: var(--fill-color);\n",
              "      border-left-color: var(--fill-color);\n",
              "    }\n",
              "    20% {\n",
              "      border-color: transparent;\n",
              "      border-left-color: var(--fill-color);\n",
              "      border-top-color: var(--fill-color);\n",
              "    }\n",
              "    30% {\n",
              "      border-color: transparent;\n",
              "      border-left-color: var(--fill-color);\n",
              "      border-top-color: var(--fill-color);\n",
              "      border-right-color: var(--fill-color);\n",
              "    }\n",
              "    40% {\n",
              "      border-color: transparent;\n",
              "      border-right-color: var(--fill-color);\n",
              "      border-top-color: var(--fill-color);\n",
              "    }\n",
              "    60% {\n",
              "      border-color: transparent;\n",
              "      border-right-color: var(--fill-color);\n",
              "    }\n",
              "    80% {\n",
              "      border-color: transparent;\n",
              "      border-right-color: var(--fill-color);\n",
              "      border-bottom-color: var(--fill-color);\n",
              "    }\n",
              "    90% {\n",
              "      border-color: transparent;\n",
              "      border-bottom-color: var(--fill-color);\n",
              "    }\n",
              "  }\n",
              "</style>\n",
              "\n",
              "  <script>\n",
              "    async function quickchart(key) {\n",
              "      const quickchartButtonEl =\n",
              "        document.querySelector('#' + key + ' button');\n",
              "      quickchartButtonEl.disabled = true;  // To prevent multiple clicks.\n",
              "      quickchartButtonEl.classList.add('colab-df-spinner');\n",
              "      try {\n",
              "        const charts = await google.colab.kernel.invokeFunction(\n",
              "            'suggestCharts', [key], {});\n",
              "      } catch (error) {\n",
              "        console.error('Error during call to suggestCharts:', error);\n",
              "      }\n",
              "      quickchartButtonEl.classList.remove('colab-df-spinner');\n",
              "      quickchartButtonEl.classList.add('colab-df-quickchart-complete');\n",
              "    }\n",
              "    (() => {\n",
              "      let quickchartButtonEl =\n",
              "        document.querySelector('#df-96d80432-902c-4167-b52c-ad9842752f2a button');\n",
              "      quickchartButtonEl.style.display =\n",
              "        google.colab.kernel.accessAllowed ? 'block' : 'none';\n",
              "    })();\n",
              "  </script>\n",
              "</div>\n",
              "    </div>\n",
              "  </div>\n"
            ]
          },
          "metadata": {},
          "execution_count": 6
        }
      ],
      "source": [
        "data = pd.read_csv('/content/drive/MyDrive/recsys/data.csv')\n",
        "data.head()"
      ]
    },
    {
      "cell_type": "code",
      "execution_count": 7,
      "metadata": {
        "id": "jmE3SaYqLuEa"
      },
      "outputs": [],
      "source": [
        "# убираем дубликаты из датасета\n",
        "data.drop_duplicates(keep='first', inplace=True, ignore_index=True)"
      ]
    },
    {
      "cell_type": "code",
      "execution_count": 8,
      "metadata": {
        "colab": {
          "base_uri": "https://localhost:8080/",
          "height": 313
        },
        "id": "qxTcoHuHjE29",
        "outputId": "a99ff45c-5ef1-416b-ae24-c22860b50aba"
      },
      "outputs": [
        {
          "output_type": "execute_result",
          "data": {
            "text/plain": [
              "                    date_time  zone_id  banner_id            oaid_hash  \\\n",
              "0  2021-09-27 00:01:30.000000        0          0  5664530014561852622   \n",
              "1  2021-09-26 22:54:49.000000        1          1  5186611064559013950   \n",
              "2  2021-09-26 23:57:20.000000        2          2  2215519569292448030   \n",
              "3  2021-09-27 00:04:30.000000        3          3  6262169206735077204   \n",
              "4  2021-09-27 00:06:21.000000        4          4  4778985830203613115   \n",
              "\n",
              "   campaign_clicks  os_id  country_id  impressions  clicks  \n",
              "0                0      0           0            1       1  \n",
              "1                0      0           1            1       1  \n",
              "2                3      0           0            1       1  \n",
              "3                0      1           1            1       1  \n",
              "4                0      1           0            1       1  "
            ],
            "text/html": [
              "\n",
              "  <div id=\"df-e9a85b29-2e75-492d-b1d3-913052ec4224\" class=\"colab-df-container\">\n",
              "    <div>\n",
              "<style scoped>\n",
              "    .dataframe tbody tr th:only-of-type {\n",
              "        vertical-align: middle;\n",
              "    }\n",
              "\n",
              "    .dataframe tbody tr th {\n",
              "        vertical-align: top;\n",
              "    }\n",
              "\n",
              "    .dataframe thead th {\n",
              "        text-align: right;\n",
              "    }\n",
              "</style>\n",
              "<table border=\"1\" class=\"dataframe\">\n",
              "  <thead>\n",
              "    <tr style=\"text-align: right;\">\n",
              "      <th></th>\n",
              "      <th>date_time</th>\n",
              "      <th>zone_id</th>\n",
              "      <th>banner_id</th>\n",
              "      <th>oaid_hash</th>\n",
              "      <th>campaign_clicks</th>\n",
              "      <th>os_id</th>\n",
              "      <th>country_id</th>\n",
              "      <th>impressions</th>\n",
              "      <th>clicks</th>\n",
              "    </tr>\n",
              "  </thead>\n",
              "  <tbody>\n",
              "    <tr>\n",
              "      <th>0</th>\n",
              "      <td>2021-09-27 00:01:30.000000</td>\n",
              "      <td>0</td>\n",
              "      <td>0</td>\n",
              "      <td>5664530014561852622</td>\n",
              "      <td>0</td>\n",
              "      <td>0</td>\n",
              "      <td>0</td>\n",
              "      <td>1</td>\n",
              "      <td>1</td>\n",
              "    </tr>\n",
              "    <tr>\n",
              "      <th>1</th>\n",
              "      <td>2021-09-26 22:54:49.000000</td>\n",
              "      <td>1</td>\n",
              "      <td>1</td>\n",
              "      <td>5186611064559013950</td>\n",
              "      <td>0</td>\n",
              "      <td>0</td>\n",
              "      <td>1</td>\n",
              "      <td>1</td>\n",
              "      <td>1</td>\n",
              "    </tr>\n",
              "    <tr>\n",
              "      <th>2</th>\n",
              "      <td>2021-09-26 23:57:20.000000</td>\n",
              "      <td>2</td>\n",
              "      <td>2</td>\n",
              "      <td>2215519569292448030</td>\n",
              "      <td>3</td>\n",
              "      <td>0</td>\n",
              "      <td>0</td>\n",
              "      <td>1</td>\n",
              "      <td>1</td>\n",
              "    </tr>\n",
              "    <tr>\n",
              "      <th>3</th>\n",
              "      <td>2021-09-27 00:04:30.000000</td>\n",
              "      <td>3</td>\n",
              "      <td>3</td>\n",
              "      <td>6262169206735077204</td>\n",
              "      <td>0</td>\n",
              "      <td>1</td>\n",
              "      <td>1</td>\n",
              "      <td>1</td>\n",
              "      <td>1</td>\n",
              "    </tr>\n",
              "    <tr>\n",
              "      <th>4</th>\n",
              "      <td>2021-09-27 00:06:21.000000</td>\n",
              "      <td>4</td>\n",
              "      <td>4</td>\n",
              "      <td>4778985830203613115</td>\n",
              "      <td>0</td>\n",
              "      <td>1</td>\n",
              "      <td>0</td>\n",
              "      <td>1</td>\n",
              "      <td>1</td>\n",
              "    </tr>\n",
              "  </tbody>\n",
              "</table>\n",
              "</div>\n",
              "    <div class=\"colab-df-buttons\">\n",
              "\n",
              "  <div class=\"colab-df-container\">\n",
              "    <button class=\"colab-df-convert\" onclick=\"convertToInteractive('df-e9a85b29-2e75-492d-b1d3-913052ec4224')\"\n",
              "            title=\"Convert this dataframe to an interactive table.\"\n",
              "            style=\"display:none;\">\n",
              "\n",
              "  <svg xmlns=\"http://www.w3.org/2000/svg\" height=\"24px\" viewBox=\"0 -960 960 960\">\n",
              "    <path d=\"M120-120v-720h720v720H120Zm60-500h600v-160H180v160Zm220 220h160v-160H400v160Zm0 220h160v-160H400v160ZM180-400h160v-160H180v160Zm440 0h160v-160H620v160ZM180-180h160v-160H180v160Zm440 0h160v-160H620v160Z\"/>\n",
              "  </svg>\n",
              "    </button>\n",
              "\n",
              "  <style>\n",
              "    .colab-df-container {\n",
              "      display:flex;\n",
              "      gap: 12px;\n",
              "    }\n",
              "\n",
              "    .colab-df-convert {\n",
              "      background-color: #E8F0FE;\n",
              "      border: none;\n",
              "      border-radius: 50%;\n",
              "      cursor: pointer;\n",
              "      display: none;\n",
              "      fill: #1967D2;\n",
              "      height: 32px;\n",
              "      padding: 0 0 0 0;\n",
              "      width: 32px;\n",
              "    }\n",
              "\n",
              "    .colab-df-convert:hover {\n",
              "      background-color: #E2EBFA;\n",
              "      box-shadow: 0px 1px 2px rgba(60, 64, 67, 0.3), 0px 1px 3px 1px rgba(60, 64, 67, 0.15);\n",
              "      fill: #174EA6;\n",
              "    }\n",
              "\n",
              "    .colab-df-buttons div {\n",
              "      margin-bottom: 4px;\n",
              "    }\n",
              "\n",
              "    [theme=dark] .colab-df-convert {\n",
              "      background-color: #3B4455;\n",
              "      fill: #D2E3FC;\n",
              "    }\n",
              "\n",
              "    [theme=dark] .colab-df-convert:hover {\n",
              "      background-color: #434B5C;\n",
              "      box-shadow: 0px 1px 3px 1px rgba(0, 0, 0, 0.15);\n",
              "      filter: drop-shadow(0px 1px 2px rgba(0, 0, 0, 0.3));\n",
              "      fill: #FFFFFF;\n",
              "    }\n",
              "  </style>\n",
              "\n",
              "    <script>\n",
              "      const buttonEl =\n",
              "        document.querySelector('#df-e9a85b29-2e75-492d-b1d3-913052ec4224 button.colab-df-convert');\n",
              "      buttonEl.style.display =\n",
              "        google.colab.kernel.accessAllowed ? 'block' : 'none';\n",
              "\n",
              "      async function convertToInteractive(key) {\n",
              "        const element = document.querySelector('#df-e9a85b29-2e75-492d-b1d3-913052ec4224');\n",
              "        const dataTable =\n",
              "          await google.colab.kernel.invokeFunction('convertToInteractive',\n",
              "                                                    [key], {});\n",
              "        if (!dataTable) return;\n",
              "\n",
              "        const docLinkHtml = 'Like what you see? Visit the ' +\n",
              "          '<a target=\"_blank\" href=https://colab.research.google.com/notebooks/data_table.ipynb>data table notebook</a>'\n",
              "          + ' to learn more about interactive tables.';\n",
              "        element.innerHTML = '';\n",
              "        dataTable['output_type'] = 'display_data';\n",
              "        await google.colab.output.renderOutput(dataTable, element);\n",
              "        const docLink = document.createElement('div');\n",
              "        docLink.innerHTML = docLinkHtml;\n",
              "        element.appendChild(docLink);\n",
              "      }\n",
              "    </script>\n",
              "  </div>\n",
              "\n",
              "\n",
              "<div id=\"df-7526588f-602b-4853-bfad-7cb9d9b4f3e2\">\n",
              "  <button class=\"colab-df-quickchart\" onclick=\"quickchart('df-7526588f-602b-4853-bfad-7cb9d9b4f3e2')\"\n",
              "            title=\"Suggest charts\"\n",
              "            style=\"display:none;\">\n",
              "\n",
              "<svg xmlns=\"http://www.w3.org/2000/svg\" height=\"24px\"viewBox=\"0 0 24 24\"\n",
              "     width=\"24px\">\n",
              "    <g>\n",
              "        <path d=\"M19 3H5c-1.1 0-2 .9-2 2v14c0 1.1.9 2 2 2h14c1.1 0 2-.9 2-2V5c0-1.1-.9-2-2-2zM9 17H7v-7h2v7zm4 0h-2V7h2v10zm4 0h-2v-4h2v4z\"/>\n",
              "    </g>\n",
              "</svg>\n",
              "  </button>\n",
              "\n",
              "<style>\n",
              "  .colab-df-quickchart {\n",
              "      --bg-color: #E8F0FE;\n",
              "      --fill-color: #1967D2;\n",
              "      --hover-bg-color: #E2EBFA;\n",
              "      --hover-fill-color: #174EA6;\n",
              "      --disabled-fill-color: #AAA;\n",
              "      --disabled-bg-color: #DDD;\n",
              "  }\n",
              "\n",
              "  [theme=dark] .colab-df-quickchart {\n",
              "      --bg-color: #3B4455;\n",
              "      --fill-color: #D2E3FC;\n",
              "      --hover-bg-color: #434B5C;\n",
              "      --hover-fill-color: #FFFFFF;\n",
              "      --disabled-bg-color: #3B4455;\n",
              "      --disabled-fill-color: #666;\n",
              "  }\n",
              "\n",
              "  .colab-df-quickchart {\n",
              "    background-color: var(--bg-color);\n",
              "    border: none;\n",
              "    border-radius: 50%;\n",
              "    cursor: pointer;\n",
              "    display: none;\n",
              "    fill: var(--fill-color);\n",
              "    height: 32px;\n",
              "    padding: 0;\n",
              "    width: 32px;\n",
              "  }\n",
              "\n",
              "  .colab-df-quickchart:hover {\n",
              "    background-color: var(--hover-bg-color);\n",
              "    box-shadow: 0 1px 2px rgba(60, 64, 67, 0.3), 0 1px 3px 1px rgba(60, 64, 67, 0.15);\n",
              "    fill: var(--button-hover-fill-color);\n",
              "  }\n",
              "\n",
              "  .colab-df-quickchart-complete:disabled,\n",
              "  .colab-df-quickchart-complete:disabled:hover {\n",
              "    background-color: var(--disabled-bg-color);\n",
              "    fill: var(--disabled-fill-color);\n",
              "    box-shadow: none;\n",
              "  }\n",
              "\n",
              "  .colab-df-spinner {\n",
              "    border: 2px solid var(--fill-color);\n",
              "    border-color: transparent;\n",
              "    border-bottom-color: var(--fill-color);\n",
              "    animation:\n",
              "      spin 1s steps(1) infinite;\n",
              "  }\n",
              "\n",
              "  @keyframes spin {\n",
              "    0% {\n",
              "      border-color: transparent;\n",
              "      border-bottom-color: var(--fill-color);\n",
              "      border-left-color: var(--fill-color);\n",
              "    }\n",
              "    20% {\n",
              "      border-color: transparent;\n",
              "      border-left-color: var(--fill-color);\n",
              "      border-top-color: var(--fill-color);\n",
              "    }\n",
              "    30% {\n",
              "      border-color: transparent;\n",
              "      border-left-color: var(--fill-color);\n",
              "      border-top-color: var(--fill-color);\n",
              "      border-right-color: var(--fill-color);\n",
              "    }\n",
              "    40% {\n",
              "      border-color: transparent;\n",
              "      border-right-color: var(--fill-color);\n",
              "      border-top-color: var(--fill-color);\n",
              "    }\n",
              "    60% {\n",
              "      border-color: transparent;\n",
              "      border-right-color: var(--fill-color);\n",
              "    }\n",
              "    80% {\n",
              "      border-color: transparent;\n",
              "      border-right-color: var(--fill-color);\n",
              "      border-bottom-color: var(--fill-color);\n",
              "    }\n",
              "    90% {\n",
              "      border-color: transparent;\n",
              "      border-bottom-color: var(--fill-color);\n",
              "    }\n",
              "  }\n",
              "</style>\n",
              "\n",
              "  <script>\n",
              "    async function quickchart(key) {\n",
              "      const quickchartButtonEl =\n",
              "        document.querySelector('#' + key + ' button');\n",
              "      quickchartButtonEl.disabled = true;  // To prevent multiple clicks.\n",
              "      quickchartButtonEl.classList.add('colab-df-spinner');\n",
              "      try {\n",
              "        const charts = await google.colab.kernel.invokeFunction(\n",
              "            'suggestCharts', [key], {});\n",
              "      } catch (error) {\n",
              "        console.error('Error during call to suggestCharts:', error);\n",
              "      }\n",
              "      quickchartButtonEl.classList.remove('colab-df-spinner');\n",
              "      quickchartButtonEl.classList.add('colab-df-quickchart-complete');\n",
              "    }\n",
              "    (() => {\n",
              "      let quickchartButtonEl =\n",
              "        document.querySelector('#df-7526588f-602b-4853-bfad-7cb9d9b4f3e2 button');\n",
              "      quickchartButtonEl.style.display =\n",
              "        google.colab.kernel.accessAllowed ? 'block' : 'none';\n",
              "    })();\n",
              "  </script>\n",
              "</div>\n",
              "    </div>\n",
              "  </div>\n"
            ]
          },
          "metadata": {},
          "execution_count": 8
        }
      ],
      "source": [
        "#убираем неиспользуемые колонки\n",
        "data.drop(columns=['banner_id0', 'banner_id1', 'rate0', 'rate1', 'g0', 'g1', 'coeff_sum0', 'coeff_sum1'], inplace=True)\n",
        "data.head()"
      ]
    },
    {
      "cell_type": "code",
      "execution_count": 9,
      "metadata": {
        "id": "Ru6zkRPyA_Ka"
      },
      "outputs": [],
      "source": [
        "#убираем колонку impressions\n",
        "data.drop(columns=['impressions'], inplace=True)"
      ]
    },
    {
      "cell_type": "code",
      "execution_count": 10,
      "metadata": {
        "id": "cc_VpBNG9X9F"
      },
      "outputs": [],
      "source": [
        "#добавляем колонку дата показа\n",
        "data['date'] = pd.to_datetime(data['date_time']).dt.date"
      ]
    },
    {
      "cell_type": "code",
      "execution_count": 11,
      "metadata": {
        "id": "jIkCUYu68vTO"
      },
      "outputs": [],
      "source": [
        "#добавляем колонку время показа\n",
        "data['hour'] = pd.to_datetime(data['date_time']).dt.hour"
      ]
    },
    {
      "cell_type": "code",
      "execution_count": 12,
      "metadata": {
        "id": "8fFzjIhy-cxI"
      },
      "outputs": [],
      "source": [
        "#убираем колонку date_time\n",
        "data.drop(columns = ['date_time'], inplace=True)"
      ]
    },
    {
      "cell_type": "code",
      "source": [
        "from datetime import date\n",
        "#разделим данные на обучающую, тестовую и валидационную выборки\n",
        "#валидационная нужна для подбора гиперпараметров\n",
        "test_date = data['date'].max() #последний день\n",
        "val_date = date(2021, 10, 1) #предпоследний день в датасете\n",
        "\n",
        "train = data[data['date'] < val_date]\n",
        "test = data[data['date'] == test_date]\n",
        "val = data[data['date'] == val_date]\n",
        "\n",
        "print(len(train))\n",
        "print(len(test))\n",
        "print(len(val))"
      ],
      "metadata": {
        "colab": {
          "base_uri": "https://localhost:8080/"
        },
        "id": "lO76yDykPSLh",
        "outputId": "e4a3c5d5-dd26-4e8f-e812-7b0e9c1f9c24"
      },
      "execution_count": 13,
      "outputs": [
        {
          "output_type": "stream",
          "name": "stdout",
          "text": [
            "12041489\n",
            "2127795\n",
            "1642557\n"
          ]
        }
      ]
    },
    {
      "cell_type": "code",
      "source": [
        "#уберем ненужную колонку date\n",
        "train = train.drop(columns=['date'])\n",
        "test = test.drop(columns=['date'])\n",
        "val = val.drop(columns=['date'])"
      ],
      "metadata": {
        "id": "nBYwXELxxkeg"
      },
      "execution_count": 14,
      "outputs": []
    },
    {
      "cell_type": "markdown",
      "metadata": {
        "id": "DErW2mQJRLfQ"
      },
      "source": [
        "#Baseline"
      ]
    },
    {
      "cell_type": "code",
      "execution_count": null,
      "metadata": {
        "colab": {
          "base_uri": "https://localhost:8080/"
        },
        "id": "cxbwQD8TReZp",
        "outputId": "d81232de-531f-40ff-f579-5d03bd121370"
      },
      "outputs": [
        {
          "output_type": "stream",
          "name": "stdout",
          "text": [
            "baseline logloss: 0.15407879603434949\n",
            "baseline auc: 0.5\n"
          ]
        }
      ],
      "source": [
        "mean_value = y_train.mean()\n",
        "y_pred = [mean_value] * len(y_test)\n",
        "logloss = log_loss(y_test, y_pred)\n",
        "print(f\"baseline logloss: {logloss}\")\n",
        "auc = roc_auc_score(y_test, y_pred)\n",
        "print(f\"baseline auc: {auc}\")"
      ]
    },
    {
      "cell_type": "markdown",
      "metadata": {
        "id": "VQs4brzzRPBm"
      },
      "source": [
        "#Логистическая регрессия из HW1"
      ]
    },
    {
      "cell_type": "markdown",
      "metadata": {
        "id": "kuTJ1L16N917"
      },
      "source": [
        "В качестве модели возьмем логистическую регрессию с l2-регуляризацией"
      ]
    },
    {
      "cell_type": "code",
      "execution_count": null,
      "metadata": {
        "id": "b4-ulvEmOYT2"
      },
      "outputs": [],
      "source": [
        "from sklearn.linear_model import LogisticRegression\n",
        "\n",
        "model = LogisticRegression(\n",
        "    solver = 'liblinear'\n",
        ")"
      ]
    },
    {
      "cell_type": "code",
      "source": [
        "model = model.fit(X_train, y_train)"
      ],
      "metadata": {
        "id": "AK3QUoD1fb1B"
      },
      "execution_count": null,
      "outputs": []
    },
    {
      "cell_type": "code",
      "source": [
        "y_pred = model.predict_proba(X_test)[:, 1]"
      ],
      "metadata": {
        "id": "ZlHfOz-ofrLW"
      },
      "execution_count": null,
      "outputs": []
    },
    {
      "cell_type": "code",
      "source": [
        "logloss = log_loss(y_test, y_pred)\n",
        "print(f\"logloss: {logloss}\")\n",
        "auc = roc_auc_score(y_test, y_pred)\n",
        "print(f\"auc: {auc}\")"
      ],
      "metadata": {
        "id": "ZuE2kVXPsHnW",
        "colab": {
          "base_uri": "https://localhost:8080/"
        },
        "outputId": "3d850105-2826-41ed-88d5-a4dfa90a8b30"
      },
      "execution_count": null,
      "outputs": [
        {
          "output_type": "stream",
          "name": "stdout",
          "text": [
            "logloss: 0.1325096903606202\n",
            "auc: 0.7808475982975257\n"
          ]
        }
      ]
    },
    {
      "cell_type": "markdown",
      "source": [
        "получилось побить бейзлайн"
      ],
      "metadata": {
        "id": "991qMk7fIZvX"
      }
    },
    {
      "cell_type": "markdown",
      "source": [
        "#FFM"
      ],
      "metadata": {
        "id": "wIX-8hHHrh0r"
      }
    },
    {
      "cell_type": "code",
      "source": [
        "#устанавливаем xlearn, откуда возьмем имплементацию FFM\n",
        "!pip install xlearn"
      ],
      "metadata": {
        "colab": {
          "base_uri": "https://localhost:8080/"
        },
        "id": "d46k_OmUrj7G",
        "outputId": "1a98c518-34a2-479e-86b3-30785638ac6d"
      },
      "execution_count": 12,
      "outputs": [
        {
          "output_type": "stream",
          "name": "stdout",
          "text": [
            "Requirement already satisfied: xlearn in /usr/local/lib/python3.10/dist-packages (0.40a1)\n"
          ]
        }
      ]
    },
    {
      "cell_type": "markdown",
      "source": [
        "Сначала приведем датасет в libffm формат. Код взят отсюда https://github.com/wngaw/blog/blob/master/xlearn_example/src/utils.py"
      ],
      "metadata": {
        "id": "-NL8EF6PuOff"
      }
    },
    {
      "cell_type": "code",
      "source": [
        "import json\n",
        "import math\n",
        "\n",
        "\n",
        "def _convert_to_ffm(path, df, type, target, numerics, categories, features, encoder):\n",
        "    # Flagging categorical and numerical fields\n",
        "    print('convert_to_ffm - START')\n",
        "    for x in numerics:\n",
        "        if(x not in encoder['catdict']):\n",
        "            #print(f'UPDATING CATDICT: numeric field - {x}')\n",
        "            encoder['catdict'][x] = 0\n",
        "    for x in categories:\n",
        "        if(x not in encoder['catdict']):\n",
        "            #print(f'UPDATING CATDICT: categorical field - {x}')\n",
        "            encoder['catdict'][x] = 1\n",
        "\n",
        "    nrows = df.shape[0]\n",
        "    with open(path + str(type) + \"_ffm.txt\", \"w\") as text_file:\n",
        "\n",
        "        # Looping over rows to convert each row to libffm format\n",
        "        for n, r in enumerate(range(nrows)):\n",
        "            datastring = \"\"\n",
        "            datarow = df.iloc[r].to_dict()\n",
        "            datastring += str(int(datarow[target]))  # Set Target Variable here\n",
        "\n",
        "            # For numerical fields, we are creating a dummy field here\n",
        "            for i, x in enumerate(encoder['catdict'].keys()):\n",
        "                if(encoder['catdict'][x] == 0):\n",
        "                    # Not adding numerical values that are nan\n",
        "                    if math.isnan(datarow[x]) is not True:\n",
        "                        datastring = datastring + \" \"+str(i)+\":\" + str(i)+\":\" + str(datarow[x])\n",
        "                else:\n",
        "\n",
        "                    # For a new field appearing in a training example\n",
        "                    if(x not in encoder['catcodes']):\n",
        "                        #print(f'UPDATING CATCODES: categorical field - {x}')\n",
        "                        encoder['catcodes'][x] = {}\n",
        "                        encoder['currentcode'] += 1\n",
        "                        #print(f'UPDATING CATCODES: categorical value for field {x} - {datarow[x]}')\n",
        "                        encoder['catcodes'][x][datarow[x]] = encoder['currentcode']  # encoding the feature\n",
        "\n",
        "                    # For already encoded fields\n",
        "                    elif(datarow[x] not in encoder['catcodes'][x]):\n",
        "                        encoder['currentcode'] += 1\n",
        "                        #print(f'UPDATING CATCODES: categorical value for field {x} - {datarow[x]}')\n",
        "                        encoder['catcodes'][x][datarow[x]] = encoder['currentcode']  # encoding the feature\n",
        "\n",
        "                    code = encoder['catcodes'][x][datarow[x]]\n",
        "                    datastring = datastring + \" \"+str(i)+\":\" + str(int(code))+\":1\"\n",
        "\n",
        "            datastring += '\\n'\n",
        "            text_file.write(datastring)\n",
        "\n",
        "    # print('Encoder Summary:')\n",
        "    # print(json.dumps(encoder, indent=4))\n",
        "    return encoder"
      ],
      "metadata": {
        "id": "RzoaK3rWuqA2"
      },
      "execution_count": 11,
      "outputs": []
    },
    {
      "cell_type": "code",
      "source": [
        "NUMERICAL_FEATURES = ['campaign_clicks', 'hour']\n",
        "CATEGORICAL_FEATURES = ['os_id', 'country_id', 'zone_id', 'banner_id', 'oaid_hash']\n",
        "ALL_FEATURES =  ['os_id', 'country_id', 'zone_id', 'banner_id', 'oaid_hash', 'campaign_clicks', 'hour']\n",
        "GOAL = ['clicks']\n",
        "\n",
        "\n",
        "encoder = {\"currentcode\": len(NUMERICAL_FEATURES),\n",
        "           \"catdict\": {},\n",
        "           \"catcodes\": {}}"
      ],
      "metadata": {
        "id": "FSyb3v2dvWfi"
      },
      "execution_count": 14,
      "outputs": []
    },
    {
      "cell_type": "code",
      "source": [
        "encoder = _convert_to_ffm('', train, 'train', GOAL[0],\n",
        "                          NUMERICAL_FEATURES,\n",
        "                          CATEGORICAL_FEATURES,\n",
        "                          ALL_FEATURES,\n",
        "                          encoder)"
      ],
      "metadata": {
        "colab": {
          "base_uri": "https://localhost:8080/"
        },
        "id": "YoUGSlOpB7mZ",
        "outputId": "a918bae1-d48c-442b-f2f9-063acbf18271"
      },
      "execution_count": 15,
      "outputs": [
        {
          "output_type": "stream",
          "name": "stdout",
          "text": [
            "convert_to_ffm - START\n"
          ]
        }
      ]
    },
    {
      "cell_type": "code",
      "source": [
        "encoder = _convert_to_ffm('', test, 'test', GOAL[0],\n",
        "                          NUMERICAL_FEATURES,\n",
        "                          CATEGORICAL_FEATURES,\n",
        "                          ALL_FEATURES,\n",
        "                          encoder)"
      ],
      "metadata": {
        "colab": {
          "base_uri": "https://localhost:8080/"
        },
        "id": "j2dxRGSK4cgG",
        "outputId": "d5bac96b-4189-4b1a-f828-f04f8d60f8a0"
      },
      "execution_count": 16,
      "outputs": [
        {
          "output_type": "stream",
          "name": "stdout",
          "text": [
            "convert_to_ffm - START\n"
          ]
        }
      ]
    },
    {
      "cell_type": "code",
      "source": [
        "encoder = _convert_to_ffm('', val, 'val', GOAL[0],\n",
        "                          NUMERICAL_FEATURES,\n",
        "                          CATEGORICAL_FEATURES,\n",
        "                          ALL_FEATURES,\n",
        "                          encoder)"
      ],
      "metadata": {
        "colab": {
          "base_uri": "https://localhost:8080/"
        },
        "id": "scFfmkMsB-Ny",
        "outputId": "a809b446-5e2d-45ff-aa92-00bed48548f7"
      },
      "execution_count": 17,
      "outputs": [
        {
          "output_type": "stream",
          "name": "stdout",
          "text": [
            "convert_to_ffm - START\n"
          ]
        }
      ]
    },
    {
      "cell_type": "code",
      "source": [
        "import xlearn as xl\n",
        "\n",
        "ffm_model = xl.create_ffm()\n",
        "ffm_model.setTrain(\"/content/train_ffm.txt\")\n",
        "param = {'task': 'binary',\n",
        "         'lr': 0.2,\n",
        "         'lambda': 0.002,\n",
        "         'metric': 'auc'}"
      ],
      "metadata": {
        "id": "psmqODifKoFK"
      },
      "execution_count": 4,
      "outputs": []
    },
    {
      "cell_type": "code",
      "source": [
        "#без этого xlearn не работает в колабе\n",
        "import os\n",
        "os.environ['USER'] = 'test'"
      ],
      "metadata": {
        "id": "Nilqp7FOpJTC"
      },
      "execution_count": 1,
      "outputs": []
    },
    {
      "cell_type": "code",
      "source": [
        "ffm_model.fit(param, './model.out')"
      ],
      "metadata": {
        "id": "Av9UPKWYhBqd"
      },
      "execution_count": 5,
      "outputs": []
    },
    {
      "cell_type": "code",
      "source": [
        "ffm_model.setTest(\"/content/test_ffm.txt\")\n",
        "ffm_model.setSigmoid() # Convert output to 0-1\n",
        "\n",
        "# Start to predict\n",
        "# The output result will be stored in output.txt\n",
        "ffm_model.predict(\"./model.out\", \"./output.txt\")"
      ],
      "metadata": {
        "id": "QVTKBNTVrdau"
      },
      "execution_count": 24,
      "outputs": []
    },
    {
      "cell_type": "code",
      "source": [
        "y_pred = pd.read_csv(\"output.txt\", header=None)\n",
        "y_test = test['clicks']\n",
        "\n",
        "logloss = log_loss(y_test, y_pred)\n",
        "print(f\"logloss: {logloss}\")\n",
        "auc = roc_auc_score(y_test, y_pred)\n",
        "print(f\"auc: {auc}\")"
      ],
      "metadata": {
        "colab": {
          "base_uri": "https://localhost:8080/"
        },
        "id": "18_Yv1sfs17M",
        "outputId": "a071937a-ee10-4095-b98a-b0e0fc2a0590"
      },
      "execution_count": 25,
      "outputs": [
        {
          "output_type": "stream",
          "name": "stdout",
          "text": [
            "logloss: 0.1492597106388284\n",
            "auc: 0.7528505949778825\n"
          ]
        }
      ]
    },
    {
      "cell_type": "markdown",
      "source": [
        "видим, что логлосс и auc немного хуже, чем у линейной модели из первой домашки. попробуем улучшить метрики, подобрав гиперпараметры (коэффициент регуляризации lambda и размерность латентного пространства k) модели."
      ],
      "metadata": {
        "id": "fzDNT-k0uXrW"
      }
    },
    {
      "cell_type": "code",
      "source": [
        "#Сначала подберем оптимальный параметр k\n",
        "import xlearn as xl\n",
        "\n",
        "k_grid = [1, 2, 3, 4, 5, 6, 7, 8, 9, 10]\n",
        "\n",
        "for k in k_grid:\n",
        "  print(f\"k = {k}\")\n",
        "  ffm_model = xl.create_ffm()\n",
        "  ffm_model.setTrain(\"/content/train_ffm.txt\")\n",
        "  param = {'task': 'binary',\n",
        "            'k': k,\n",
        "            'metric': 'auc'}\n",
        "  MODEL_NAME = f\"model_{k}.out\"\n",
        "  ffm_model.fit(param, f'./{MODEL_NAME}')\n",
        "\n",
        "  ffm_model.setTest(\"/content/val_ffm.txt\")\n",
        "  ffm_model.setSigmoid()\n",
        "  ffm_model.predict(f\"./{MODEL_NAME}\", \"./output.txt\")\n",
        "\n",
        "  y_pred = pd.read_csv(\"output.txt\", header=None)\n",
        "  y_test = val['clicks']\n",
        "\n",
        "  logloss = log_loss(y_test, y_pred)\n",
        "  print(f\"logloss: {logloss}\")\n",
        "  auc = roc_auc_score(y_test, y_pred)\n",
        "  print(f\"auc: {auc}\")"
      ],
      "metadata": {
        "colab": {
          "base_uri": "https://localhost:8080/"
        },
        "id": "3YkDUKzcu1D_",
        "outputId": "fb78b037-d03d-4ce0-d1c5-d0c9d2e64e49"
      },
      "execution_count": 15,
      "outputs": [
        {
          "output_type": "stream",
          "name": "stdout",
          "text": [
            "k = 1\n",
            "logloss: 0.16218607549673195\n",
            "auc: 0.780922604261618\n",
            "k = 2\n",
            "logloss: 0.1615562583910295\n",
            "auc: 0.7819587507502028\n",
            "k = 3\n",
            "logloss: 0.15994091779299963\n",
            "auc: 0.7847911341773649\n",
            "k = 4\n",
            "logloss: 0.15949835311836089\n",
            "auc: 0.7856908582660176\n",
            "k = 5\n",
            "logloss: 0.1593282227211086\n",
            "auc: 0.7864133515854739\n",
            "k = 6\n",
            "logloss: 0.15923544263503336\n",
            "auc: 0.7861907380548316\n",
            "k = 7\n",
            "logloss: 0.15921015323451687\n",
            "auc: 0.7864210782767111\n",
            "k = 8\n",
            "logloss: 0.1590032212032277\n",
            "auc: 0.7869808834531536\n",
            "k = 9\n",
            "logloss: 0.15946850271546442\n",
            "auc: 0.7871642544004769\n",
            "k = 10\n",
            "logloss: 0.1585866997203471\n",
            "auc: 0.7878037158097543\n"
          ]
        }
      ]
    },
    {
      "cell_type": "markdown",
      "source": [
        "Видим, что лучшее значение метрик достигается при k = 10. Скорее всего, можно получить еще лучшее значение метрик при k > 10, но в FFM мы выучиваем эмбеддинги для всех взаимодействий фичей друг с другом (то есть для n фичей суммарно n^2 эмбеддингов), поэтому размерность латентного пространства должна быть небольшой, поэтому остановимся на k = 10."
      ],
      "metadata": {
        "id": "MDonH1bE69EA"
      }
    },
    {
      "cell_type": "code",
      "source": [
        "#теперь подберем лямбду, ее дефолтное значение в xlearn = 0.00002\n",
        "import xlearn as xl\n",
        "\n",
        "for l in [0.00001, 0.0001, 0.001, 0.01, 0.1, 1]:\n",
        "  print(f\"lambda = {l}\")\n",
        "  ffm_model = xl.create_ffm()\n",
        "  ffm_model.setTrain(\"/content/train_ffm.txt\")\n",
        "  param = {'task': 'binary',\n",
        "            'lambda': l,\n",
        "           'k': 10,\n",
        "            'metric': 'auc'}\n",
        "  MODEL_NAME = f\"model_{l}.out\"\n",
        "  ffm_model.fit(param, f'./{MODEL_NAME}')\n",
        "\n",
        "  ffm_model.setTest(\"/content/val_ffm.txt\")\n",
        "  ffm_model.setSigmoid()\n",
        "  ffm_model.predict(f\"./{MODEL_NAME}\", \"./output.txt\")\n",
        "\n",
        "  y_pred = pd.read_csv(\"output.txt\", header=None)\n",
        "  y_test = val['clicks']\n",
        "\n",
        "  logloss = log_loss(y_test, y_pred)\n",
        "  print(f\"logloss: {logloss}\")\n",
        "  auc = roc_auc_score(y_test, y_pred)\n",
        "  print(f\"auc: {auc}\")"
      ],
      "metadata": {
        "colab": {
          "base_uri": "https://localhost:8080/"
        },
        "id": "TMoYJks78kVn",
        "outputId": "5d502eb9-5921-4b7b-def2-4099658956ce"
      },
      "execution_count": 13,
      "outputs": [
        {
          "output_type": "stream",
          "name": "stdout",
          "text": [
            "lambda = 1e-05\n",
            "logloss: 0.16376672093609465\n",
            "auc: 0.7859209130678468\n",
            "lambda = 0.0001\n",
            "logloss: 0.15369141388657498\n",
            "auc: 0.7926610476381074\n",
            "lambda = 0.001\n",
            "logloss: 0.17032483158762915\n",
            "auc: 0.7461716371363983\n",
            "lambda = 0.01\n",
            "logloss: 0.1764815824883843\n",
            "auc: 0.7379001352291226\n",
            "lambda = 0.1\n",
            "logloss: 0.1786247740544869\n",
            "auc: 0.7458013272954983\n",
            "lambda = 1\n",
            "logloss: 0.17929805061517146\n",
            "auc: 0.7199720912025233\n"
          ]
        }
      ]
    },
    {
      "cell_type": "markdown",
      "source": [
        "Видим, что лучшее значение auc достигается при lambda = 0.0001. Протестируем финальную модель с k = 10 и lambda = 0.0001"
      ],
      "metadata": {
        "id": "Epms_6FH_9Wc"
      }
    },
    {
      "cell_type": "code",
      "source": [
        "import xlearn as xl\n",
        "\n",
        "ffm_model = xl.create_ffm()\n",
        "ffm_model.setTrain(\"/content/train_ffm.txt\")\n",
        "param = {'task': 'binary',\n",
        "          'lambda': 0.0001,\n",
        "          'k': 10,\n",
        "          'metric': 'auc'}\n",
        "\n",
        "ffm_model.setTest(\"/content/test_ffm.txt\")\n",
        "ffm_model.setSigmoid() # Convert output to 0-1\n",
        "ffm_model.fit(param, f'./model.out')"
      ],
      "metadata": {
        "id": "PWs4WTg6AbUM"
      },
      "execution_count": 3,
      "outputs": []
    },
    {
      "cell_type": "code",
      "source": [
        "ffm_model.predict(\"./model.out\", \"./output.txt\")\n",
        "y_pred = pd.read_csv(\"output.txt\", header=None)\n",
        "y_test = test['clicks']\n",
        "\n",
        "logloss = log_loss(y_test, y_pred)\n",
        "print(f\"logloss: {logloss}\")\n",
        "auc = roc_auc_score(y_test, y_pred)\n",
        "print(f\"auc: {auc}\")"
      ],
      "metadata": {
        "colab": {
          "base_uri": "https://localhost:8080/"
        },
        "id": "lzgBHh-FICCV",
        "outputId": "f810eced-5bf7-4a5b-cde4-985239b099eb"
      },
      "execution_count": 15,
      "outputs": [
        {
          "output_type": "stream",
          "name": "stdout",
          "text": [
            "logloss: 0.13556217070556895\n",
            "auc: 0.7781032937739147\n"
          ]
        }
      ]
    },
    {
      "cell_type": "markdown",
      "source": [
        "Получили значения logloss и auc чуть хуже, чем у логистической регрессии, но очень близкие к ним"
      ],
      "metadata": {
        "id": "zBnNJL1zKRR4"
      }
    }
  ],
  "metadata": {
    "colab": {
      "collapsed_sections": [
        "DErW2mQJRLfQ"
      ],
      "provenance": [],
      "machine_shape": "hm"
    },
    "kernelspec": {
      "display_name": "Python 3",
      "name": "python3"
    },
    "language_info": {
      "codemirror_mode": {
        "name": "ipython",
        "version": 2
      },
      "file_extension": ".py",
      "mimetype": "text/x-python",
      "name": "python",
      "nbconvert_exporter": "python",
      "pygments_lexer": "ipython2",
      "version": "2.7.6"
    }
  },
  "nbformat": 4,
  "nbformat_minor": 0
}