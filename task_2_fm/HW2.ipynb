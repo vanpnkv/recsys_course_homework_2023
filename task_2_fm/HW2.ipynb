{
  "nbformat": 4,
  "nbformat_minor": 0,
  "metadata": {
    "colab": {
      "provenance": [],
      "machine_shape": "hm"
    },
    "kernelspec": {
      "name": "python3",
      "display_name": "Python 3"
    },
    "language_info": {
      "name": "python"
    }
  },
  "cells": [
    {
      "cell_type": "code",
      "source": [
        "from google.colab import drive\n",
        "drive.mount('/content/drive')"
      ],
      "metadata": {
        "colab": {
          "base_uri": "https://localhost:8080/"
        },
        "id": "fAg6iQKVB1h1",
        "outputId": "c8eda3ed-0f70-4780-96fa-9181e8688c3c"
      },
      "execution_count": 4,
      "outputs": [
        {
          "output_type": "stream",
          "name": "stdout",
          "text": [
            "Drive already mounted at /content/drive; to attempt to forcibly remount, call drive.mount(\"/content/drive\", force_remount=True).\n"
          ]
        }
      ]
    },
    {
      "cell_type": "code",
      "execution_count": 5,
      "metadata": {
        "id": "PKiubUI3Bv9v"
      },
      "outputs": [],
      "source": [
        "import numpy as np\n",
        "import pandas as pd"
      ]
    },
    {
      "cell_type": "code",
      "source": [
        "df = pd.read_csv('/content/drive/My Drive/Copy of data.csv')\n",
        "df.drop(['banner_id0', 'banner_id1', 'rate0', 'rate1', 'g0', 'g1', 'coeff_sum0', 'coeff_sum1'], axis=1, inplace=True)\n",
        "df.head()"
      ],
      "metadata": {
        "colab": {
          "base_uri": "https://localhost:8080/",
          "height": 313
        },
        "id": "aHvbhvdzB4qw",
        "outputId": "3b7c7b6d-bb01-4a1f-a7ad-9606ac33acf5"
      },
      "execution_count": 6,
      "outputs": [
        {
          "output_type": "execute_result",
          "data": {
            "text/plain": [
              "                    date_time  zone_id  banner_id            oaid_hash  \\\n",
              "0  2021-09-27 00:01:30.000000        0          0  5664530014561852622   \n",
              "1  2021-09-26 22:54:49.000000        1          1  5186611064559013950   \n",
              "2  2021-09-26 23:57:20.000000        2          2  2215519569292448030   \n",
              "3  2021-09-27 00:04:30.000000        3          3  6262169206735077204   \n",
              "4  2021-09-27 00:06:21.000000        4          4  4778985830203613115   \n",
              "\n",
              "   campaign_clicks  os_id  country_id  impressions  clicks  \n",
              "0                0      0           0            1       1  \n",
              "1                0      0           1            1       1  \n",
              "2                3      0           0            1       1  \n",
              "3                0      1           1            1       1  \n",
              "4                0      1           0            1       1  "
            ],
            "text/html": [
              "\n",
              "  <div id=\"df-000fd06b-756c-41c8-b90e-1bc453cea607\" class=\"colab-df-container\">\n",
              "    <div>\n",
              "<style scoped>\n",
              "    .dataframe tbody tr th:only-of-type {\n",
              "        vertical-align: middle;\n",
              "    }\n",
              "\n",
              "    .dataframe tbody tr th {\n",
              "        vertical-align: top;\n",
              "    }\n",
              "\n",
              "    .dataframe thead th {\n",
              "        text-align: right;\n",
              "    }\n",
              "</style>\n",
              "<table border=\"1\" class=\"dataframe\">\n",
              "  <thead>\n",
              "    <tr style=\"text-align: right;\">\n",
              "      <th></th>\n",
              "      <th>date_time</th>\n",
              "      <th>zone_id</th>\n",
              "      <th>banner_id</th>\n",
              "      <th>oaid_hash</th>\n",
              "      <th>campaign_clicks</th>\n",
              "      <th>os_id</th>\n",
              "      <th>country_id</th>\n",
              "      <th>impressions</th>\n",
              "      <th>clicks</th>\n",
              "    </tr>\n",
              "  </thead>\n",
              "  <tbody>\n",
              "    <tr>\n",
              "      <th>0</th>\n",
              "      <td>2021-09-27 00:01:30.000000</td>\n",
              "      <td>0</td>\n",
              "      <td>0</td>\n",
              "      <td>5664530014561852622</td>\n",
              "      <td>0</td>\n",
              "      <td>0</td>\n",
              "      <td>0</td>\n",
              "      <td>1</td>\n",
              "      <td>1</td>\n",
              "    </tr>\n",
              "    <tr>\n",
              "      <th>1</th>\n",
              "      <td>2021-09-26 22:54:49.000000</td>\n",
              "      <td>1</td>\n",
              "      <td>1</td>\n",
              "      <td>5186611064559013950</td>\n",
              "      <td>0</td>\n",
              "      <td>0</td>\n",
              "      <td>1</td>\n",
              "      <td>1</td>\n",
              "      <td>1</td>\n",
              "    </tr>\n",
              "    <tr>\n",
              "      <th>2</th>\n",
              "      <td>2021-09-26 23:57:20.000000</td>\n",
              "      <td>2</td>\n",
              "      <td>2</td>\n",
              "      <td>2215519569292448030</td>\n",
              "      <td>3</td>\n",
              "      <td>0</td>\n",
              "      <td>0</td>\n",
              "      <td>1</td>\n",
              "      <td>1</td>\n",
              "    </tr>\n",
              "    <tr>\n",
              "      <th>3</th>\n",
              "      <td>2021-09-27 00:04:30.000000</td>\n",
              "      <td>3</td>\n",
              "      <td>3</td>\n",
              "      <td>6262169206735077204</td>\n",
              "      <td>0</td>\n",
              "      <td>1</td>\n",
              "      <td>1</td>\n",
              "      <td>1</td>\n",
              "      <td>1</td>\n",
              "    </tr>\n",
              "    <tr>\n",
              "      <th>4</th>\n",
              "      <td>2021-09-27 00:06:21.000000</td>\n",
              "      <td>4</td>\n",
              "      <td>4</td>\n",
              "      <td>4778985830203613115</td>\n",
              "      <td>0</td>\n",
              "      <td>1</td>\n",
              "      <td>0</td>\n",
              "      <td>1</td>\n",
              "      <td>1</td>\n",
              "    </tr>\n",
              "  </tbody>\n",
              "</table>\n",
              "</div>\n",
              "    <div class=\"colab-df-buttons\">\n",
              "\n",
              "  <div class=\"colab-df-container\">\n",
              "    <button class=\"colab-df-convert\" onclick=\"convertToInteractive('df-000fd06b-756c-41c8-b90e-1bc453cea607')\"\n",
              "            title=\"Convert this dataframe to an interactive table.\"\n",
              "            style=\"display:none;\">\n",
              "\n",
              "  <svg xmlns=\"http://www.w3.org/2000/svg\" height=\"24px\" viewBox=\"0 -960 960 960\">\n",
              "    <path d=\"M120-120v-720h720v720H120Zm60-500h600v-160H180v160Zm220 220h160v-160H400v160Zm0 220h160v-160H400v160ZM180-400h160v-160H180v160Zm440 0h160v-160H620v160ZM180-180h160v-160H180v160Zm440 0h160v-160H620v160Z\"/>\n",
              "  </svg>\n",
              "    </button>\n",
              "\n",
              "  <style>\n",
              "    .colab-df-container {\n",
              "      display:flex;\n",
              "      gap: 12px;\n",
              "    }\n",
              "\n",
              "    .colab-df-convert {\n",
              "      background-color: #E8F0FE;\n",
              "      border: none;\n",
              "      border-radius: 50%;\n",
              "      cursor: pointer;\n",
              "      display: none;\n",
              "      fill: #1967D2;\n",
              "      height: 32px;\n",
              "      padding: 0 0 0 0;\n",
              "      width: 32px;\n",
              "    }\n",
              "\n",
              "    .colab-df-convert:hover {\n",
              "      background-color: #E2EBFA;\n",
              "      box-shadow: 0px 1px 2px rgba(60, 64, 67, 0.3), 0px 1px 3px 1px rgba(60, 64, 67, 0.15);\n",
              "      fill: #174EA6;\n",
              "    }\n",
              "\n",
              "    .colab-df-buttons div {\n",
              "      margin-bottom: 4px;\n",
              "    }\n",
              "\n",
              "    [theme=dark] .colab-df-convert {\n",
              "      background-color: #3B4455;\n",
              "      fill: #D2E3FC;\n",
              "    }\n",
              "\n",
              "    [theme=dark] .colab-df-convert:hover {\n",
              "      background-color: #434B5C;\n",
              "      box-shadow: 0px 1px 3px 1px rgba(0, 0, 0, 0.15);\n",
              "      filter: drop-shadow(0px 1px 2px rgba(0, 0, 0, 0.3));\n",
              "      fill: #FFFFFF;\n",
              "    }\n",
              "  </style>\n",
              "\n",
              "    <script>\n",
              "      const buttonEl =\n",
              "        document.querySelector('#df-000fd06b-756c-41c8-b90e-1bc453cea607 button.colab-df-convert');\n",
              "      buttonEl.style.display =\n",
              "        google.colab.kernel.accessAllowed ? 'block' : 'none';\n",
              "\n",
              "      async function convertToInteractive(key) {\n",
              "        const element = document.querySelector('#df-000fd06b-756c-41c8-b90e-1bc453cea607');\n",
              "        const dataTable =\n",
              "          await google.colab.kernel.invokeFunction('convertToInteractive',\n",
              "                                                    [key], {});\n",
              "        if (!dataTable) return;\n",
              "\n",
              "        const docLinkHtml = 'Like what you see? Visit the ' +\n",
              "          '<a target=\"_blank\" href=https://colab.research.google.com/notebooks/data_table.ipynb>data table notebook</a>'\n",
              "          + ' to learn more about interactive tables.';\n",
              "        element.innerHTML = '';\n",
              "        dataTable['output_type'] = 'display_data';\n",
              "        await google.colab.output.renderOutput(dataTable, element);\n",
              "        const docLink = document.createElement('div');\n",
              "        docLink.innerHTML = docLinkHtml;\n",
              "        element.appendChild(docLink);\n",
              "      }\n",
              "    </script>\n",
              "  </div>\n",
              "\n",
              "\n",
              "<div id=\"df-46e84807-a869-45b2-b8b9-29feed0c75f6\">\n",
              "  <button class=\"colab-df-quickchart\" onclick=\"quickchart('df-46e84807-a869-45b2-b8b9-29feed0c75f6')\"\n",
              "            title=\"Suggest charts\"\n",
              "            style=\"display:none;\">\n",
              "\n",
              "<svg xmlns=\"http://www.w3.org/2000/svg\" height=\"24px\"viewBox=\"0 0 24 24\"\n",
              "     width=\"24px\">\n",
              "    <g>\n",
              "        <path d=\"M19 3H5c-1.1 0-2 .9-2 2v14c0 1.1.9 2 2 2h14c1.1 0 2-.9 2-2V5c0-1.1-.9-2-2-2zM9 17H7v-7h2v7zm4 0h-2V7h2v10zm4 0h-2v-4h2v4z\"/>\n",
              "    </g>\n",
              "</svg>\n",
              "  </button>\n",
              "\n",
              "<style>\n",
              "  .colab-df-quickchart {\n",
              "      --bg-color: #E8F0FE;\n",
              "      --fill-color: #1967D2;\n",
              "      --hover-bg-color: #E2EBFA;\n",
              "      --hover-fill-color: #174EA6;\n",
              "      --disabled-fill-color: #AAA;\n",
              "      --disabled-bg-color: #DDD;\n",
              "  }\n",
              "\n",
              "  [theme=dark] .colab-df-quickchart {\n",
              "      --bg-color: #3B4455;\n",
              "      --fill-color: #D2E3FC;\n",
              "      --hover-bg-color: #434B5C;\n",
              "      --hover-fill-color: #FFFFFF;\n",
              "      --disabled-bg-color: #3B4455;\n",
              "      --disabled-fill-color: #666;\n",
              "  }\n",
              "\n",
              "  .colab-df-quickchart {\n",
              "    background-color: var(--bg-color);\n",
              "    border: none;\n",
              "    border-radius: 50%;\n",
              "    cursor: pointer;\n",
              "    display: none;\n",
              "    fill: var(--fill-color);\n",
              "    height: 32px;\n",
              "    padding: 0;\n",
              "    width: 32px;\n",
              "  }\n",
              "\n",
              "  .colab-df-quickchart:hover {\n",
              "    background-color: var(--hover-bg-color);\n",
              "    box-shadow: 0 1px 2px rgba(60, 64, 67, 0.3), 0 1px 3px 1px rgba(60, 64, 67, 0.15);\n",
              "    fill: var(--button-hover-fill-color);\n",
              "  }\n",
              "\n",
              "  .colab-df-quickchart-complete:disabled,\n",
              "  .colab-df-quickchart-complete:disabled:hover {\n",
              "    background-color: var(--disabled-bg-color);\n",
              "    fill: var(--disabled-fill-color);\n",
              "    box-shadow: none;\n",
              "  }\n",
              "\n",
              "  .colab-df-spinner {\n",
              "    border: 2px solid var(--fill-color);\n",
              "    border-color: transparent;\n",
              "    border-bottom-color: var(--fill-color);\n",
              "    animation:\n",
              "      spin 1s steps(1) infinite;\n",
              "  }\n",
              "\n",
              "  @keyframes spin {\n",
              "    0% {\n",
              "      border-color: transparent;\n",
              "      border-bottom-color: var(--fill-color);\n",
              "      border-left-color: var(--fill-color);\n",
              "    }\n",
              "    20% {\n",
              "      border-color: transparent;\n",
              "      border-left-color: var(--fill-color);\n",
              "      border-top-color: var(--fill-color);\n",
              "    }\n",
              "    30% {\n",
              "      border-color: transparent;\n",
              "      border-left-color: var(--fill-color);\n",
              "      border-top-color: var(--fill-color);\n",
              "      border-right-color: var(--fill-color);\n",
              "    }\n",
              "    40% {\n",
              "      border-color: transparent;\n",
              "      border-right-color: var(--fill-color);\n",
              "      border-top-color: var(--fill-color);\n",
              "    }\n",
              "    60% {\n",
              "      border-color: transparent;\n",
              "      border-right-color: var(--fill-color);\n",
              "    }\n",
              "    80% {\n",
              "      border-color: transparent;\n",
              "      border-right-color: var(--fill-color);\n",
              "      border-bottom-color: var(--fill-color);\n",
              "    }\n",
              "    90% {\n",
              "      border-color: transparent;\n",
              "      border-bottom-color: var(--fill-color);\n",
              "    }\n",
              "  }\n",
              "</style>\n",
              "\n",
              "  <script>\n",
              "    async function quickchart(key) {\n",
              "      const quickchartButtonEl =\n",
              "        document.querySelector('#' + key + ' button');\n",
              "      quickchartButtonEl.disabled = true;  // To prevent multiple clicks.\n",
              "      quickchartButtonEl.classList.add('colab-df-spinner');\n",
              "      try {\n",
              "        const charts = await google.colab.kernel.invokeFunction(\n",
              "            'suggestCharts', [key], {});\n",
              "      } catch (error) {\n",
              "        console.error('Error during call to suggestCharts:', error);\n",
              "      }\n",
              "      quickchartButtonEl.classList.remove('colab-df-spinner');\n",
              "      quickchartButtonEl.classList.add('colab-df-quickchart-complete');\n",
              "    }\n",
              "    (() => {\n",
              "      let quickchartButtonEl =\n",
              "        document.querySelector('#df-46e84807-a869-45b2-b8b9-29feed0c75f6 button');\n",
              "      quickchartButtonEl.style.display =\n",
              "        google.colab.kernel.accessAllowed ? 'block' : 'none';\n",
              "    })();\n",
              "  </script>\n",
              "</div>\n",
              "    </div>\n",
              "  </div>\n"
            ]
          },
          "metadata": {},
          "execution_count": 6
        }
      ]
    },
    {
      "cell_type": "markdown",
      "source": [
        "Оставим только категориальные данные, от impressions избавимся. Последний день в тест, предпоследний выделим для валидации."
      ],
      "metadata": {
        "id": "UUVo-Pf6DgE8"
      }
    },
    {
      "cell_type": "code",
      "source": [
        "df['oaid_hash'].value_counts()"
      ],
      "metadata": {
        "colab": {
          "base_uri": "https://localhost:8080/"
        },
        "id": "AII7VedkCMyI",
        "outputId": "6531e668-5fd1-47e4-feb3-03edf16a398b"
      },
      "execution_count": 4,
      "outputs": [
        {
          "output_type": "execute_result",
          "data": {
            "text/plain": [
              "308174966294367527     5243\n",
              "2890718152668627077    2511\n",
              "2521895603443866206    2289\n",
              "8212556321845734673    1974\n",
              "3375698397737628939    1959\n",
              "                       ... \n",
              "7989197060799678922       1\n",
              "3207898120952090573       1\n",
              "8578082337233412909       1\n",
              "8779980718415233023       1\n",
              "453968700792456599        1\n",
              "Name: oaid_hash, Length: 6510316, dtype: int64"
            ]
          },
          "metadata": {},
          "execution_count": 4
        }
      ]
    },
    {
      "cell_type": "markdown",
      "source": [
        "Видно, что присутствуют редки пользователи, но не будем их трогать"
      ],
      "metadata": {
        "id": "lU4u0zfGESDF"
      }
    },
    {
      "cell_type": "code",
      "source": [
        "def feature_engineering(df: pd.DataFrame) -> pd.DataFrame:\n",
        "  df.drop(['campaign_clicks', 'impressions'], axis=1, inplace=True)\n",
        "  datetime = pd.to_datetime(df['date_time'])\n",
        "  df['date'] = datetime.dt.date\n",
        "  df.drop('date_time', axis=1, inplace=True)\n",
        "\n",
        "  df_train = df[df['date'] < pd.Timestamp('2021-10-01').date()]\n",
        "  df_train.drop('date', axis=1, inplace=True)\n",
        "  # X_train = df_train.drop(['clicks', 'date'], axis=1)\n",
        "  # y_train = df_train['clicks']\n",
        "\n",
        "  df_val = df[df['date'] == pd.Timestamp('2021-10-01').date()]\n",
        "  df_val.drop('date', axis=1, inplace=True)\n",
        "  # X_val = df_val.drop(['clicks', 'date'], axis=1)\n",
        "  # y_val = df_val['clicks']\n",
        "\n",
        "  df_test = df[df['date'] == pd.Timestamp('2021-10-02').date()]\n",
        "  df_test.drop('date', axis=1, inplace=True)\n",
        "  # X_test = df_test.drop(['clicks', 'date'], axis=1)\n",
        "  # y_test = df_test['clicks']\n",
        "\n",
        "  return df_train, df_val, df_test"
      ],
      "metadata": {
        "id": "OjNHBPcxEaT7"
      },
      "execution_count": 7,
      "outputs": []
    },
    {
      "cell_type": "code",
      "source": [
        "df_train, df_val, df_test = feature_engineering(df)\n"
      ],
      "metadata": {
        "colab": {
          "base_uri": "https://localhost:8080/"
        },
        "id": "87cJpvPzHYCJ",
        "outputId": "02a3f324-fa9d-4f92-d88c-e1b7b1ecb809"
      },
      "execution_count": 8,
      "outputs": [
        {
          "output_type": "stream",
          "name": "stderr",
          "text": [
            "<ipython-input-7-5d3f884a2840>:8: SettingWithCopyWarning: \n",
            "A value is trying to be set on a copy of a slice from a DataFrame\n",
            "\n",
            "See the caveats in the documentation: https://pandas.pydata.org/pandas-docs/stable/user_guide/indexing.html#returning-a-view-versus-a-copy\n",
            "  df_train.drop('date', axis=1, inplace=True)\n",
            "<ipython-input-7-5d3f884a2840>:13: SettingWithCopyWarning: \n",
            "A value is trying to be set on a copy of a slice from a DataFrame\n",
            "\n",
            "See the caveats in the documentation: https://pandas.pydata.org/pandas-docs/stable/user_guide/indexing.html#returning-a-view-versus-a-copy\n",
            "  df_val.drop('date', axis=1, inplace=True)\n",
            "<ipython-input-7-5d3f884a2840>:18: SettingWithCopyWarning: \n",
            "A value is trying to be set on a copy of a slice from a DataFrame\n",
            "\n",
            "See the caveats in the documentation: https://pandas.pydata.org/pandas-docs/stable/user_guide/indexing.html#returning-a-view-versus-a-copy\n",
            "  df_test.drop('date', axis=1, inplace=True)\n"
          ]
        }
      ]
    },
    {
      "cell_type": "markdown",
      "source": [
        "Приведем данные в нужный формат для обучения"
      ],
      "metadata": {
        "id": "z-92QmKpIn9h"
      }
    },
    {
      "cell_type": "code",
      "source": [
        "#  https://github.com/Bobe24/Dataframe2libffm/blob/master/dataframe2libffm.py\n",
        "category_column = [\n",
        "  'zone_id',\n",
        "  'banner_id',\n",
        "  'os_id',\n",
        "  'country_id',\n",
        "  'clicks',\n",
        "  'oaid_hash'\n",
        "  ]\n",
        "\n",
        "class FFMFormat:\n",
        "    def __init__(self):\n",
        "        self.field_index_ = None\n",
        "        self.feature_index_ = None\n",
        "        self.y = None\n",
        "\n",
        "    def fit(self, df, y=None):\n",
        "        self.y = y\n",
        "        df_ffm = df[df.columns.difference([self.y])]\n",
        "        if self.field_index_ is None:\n",
        "            self.field_index_ = {col: i for i, col in enumerate(df_ffm)}\n",
        "\n",
        "        if self.feature_index_ is not None:\n",
        "            last_idx = max(list(self.feature_index_.values()))\n",
        "\n",
        "        if self.feature_index_ is None:\n",
        "            self.feature_index_ = dict()\n",
        "            last_idx = 0\n",
        "\n",
        "        for col in df_ffm.columns:\n",
        "            vals = df_ffm[col].unique()\n",
        "            for val in vals:\n",
        "                if pd.isnull(val):\n",
        "                    continue\n",
        "                name = '{}_{}'.format(col, val)\n",
        "                if name not in self.feature_index_:\n",
        "                    self.feature_index_[name] = last_idx\n",
        "                    last_idx += 1\n",
        "            self.feature_index_[col] = last_idx\n",
        "            last_idx += 1\n",
        "        return self\n",
        "\n",
        "    def fit_transform(self, df, y=None):\n",
        "        self.fit(df, y)\n",
        "        return self.transform(df)\n",
        "\n",
        "    def transform_row_(self, row, t):\n",
        "        ffm = []\n",
        "        if self.y != None:\n",
        "            ffm.append(str(row.loc[row.index == self.y][0]))\n",
        "        if self.y is None:\n",
        "            ffm.append(str(0))\n",
        "\n",
        "        for col, val in row.loc[row.index != self.y].to_dict().items():\n",
        "            col_type = t[col]\n",
        "            name = '{}_{}'.format(col, val)\n",
        "            # if col_type.kind == 'O':\n",
        "            if col in category_column:\n",
        "                ffm.append('{}:{}:1'.format(self.field_index_[col],\n",
        "                                            self.feature_index_[name]))\n",
        "            else:\n",
        "            # elif col_type.kind == 'i':\n",
        "                ffm.append('{}:{}:{}'.format(self.field_index_[col],\n",
        "                                             self.feature_index_[col], val))\n",
        "        return ' '.join(ffm)\n",
        "\n",
        "    def transform(self, df):\n",
        "        t = df.dtypes.to_dict()\n",
        "        return pd.Series(\n",
        "            {idx: self.transform_row_(row, t) for idx, row in df.iterrows()})\n"
      ],
      "metadata": {
        "id": "pQGMta0GINXV"
      },
      "execution_count": 13,
      "outputs": []
    },
    {
      "cell_type": "code",
      "source": [
        "ffm_encoder = FFMFormat()\n",
        "ffm_train = ffm_encoder.fit_transform(df_train, y='clicks')\n",
        "ffm_train.to_csv('train.txt', index=False, header=False)\n",
        "\n",
        "ffm_val = ffm_encoder.fit_transform(df_val, y='clicks')\n",
        "ffm_val.to_csv('val.txt', index=False, header=False)"
      ],
      "metadata": {
        "id": "m4cRHU_rLM0q"
      },
      "execution_count": 14,
      "outputs": []
    },
    {
      "cell_type": "code",
      "source": [
        "!cp val.txt /content/drive/MyDrive/recsys_hw2"
      ],
      "metadata": {
        "id": "gr2DVT5ygG6I"
      },
      "execution_count": 16,
      "outputs": []
    },
    {
      "cell_type": "markdown",
      "source": [
        "Для обучения модели будем использовать библиотеку xlearn"
      ],
      "metadata": {
        "id": "N3YTZnrgZ-GI"
      }
    },
    {
      "cell_type": "code",
      "source": [
        "!pip install xlearn"
      ],
      "metadata": {
        "colab": {
          "base_uri": "https://localhost:8080/"
        },
        "id": "-SkGcRnpL1fp",
        "outputId": "24dcdba0-9f1c-4dd0-908c-04f2e91e9cb2"
      },
      "execution_count": 1,
      "outputs": [
        {
          "output_type": "stream",
          "name": "stdout",
          "text": [
            "Requirement already satisfied: xlearn in /usr/local/lib/python3.10/dist-packages (0.40a1)\n"
          ]
        }
      ]
    },
    {
      "cell_type": "code",
      "source": [
        "import xlearn as xl\n",
        "from sklearn.model_selection import ParameterGrid"
      ],
      "metadata": {
        "id": "R5NZp909FLv6"
      },
      "execution_count": 1,
      "outputs": []
    },
    {
      "cell_type": "code",
      "source": [
        "import os\n",
        "os.environ['USER'] = 'test'"
      ],
      "metadata": {
        "id": "9o6l8ai3k57W"
      },
      "execution_count": 2,
      "outputs": []
    },
    {
      "cell_type": "code",
      "source": [
        "param_grid = {\n",
        "    'task': ['binary'],\n",
        "    'lr': [0.1],\n",
        "    'lambda':[0.1, 0.001, 0.0001],\n",
        "    'k': [4, 8],\n",
        "    'metric': ['auc'],\n",
        "}\n",
        "for param in ParameterGrid(param_grid):\n",
        "  print(param)\n",
        "  ffm_model = xl.create_ffm()\n",
        "  ffm_model.setTrain('train.txt')\n",
        "  ffm_model.setValidate('val.txt')\n",
        "  ffm_model.fit(param, 'model.out')"
      ],
      "metadata": {
        "colab": {
          "base_uri": "https://localhost:8080/"
        },
        "id": "iBVKQ1E8L-1n",
        "outputId": "ad493658-cdde-483d-a4cb-4a5fd0046e78"
      },
      "execution_count": 3,
      "outputs": [
        {
          "output_type": "stream",
          "name": "stdout",
          "text": [
            "{'k': 4, 'lambda': 0.1, 'lr': 0.1, 'metric': 'auc', 'task': 'binary'}\n",
            "{'k': 4, 'lambda': 0.001, 'lr': 0.1, 'metric': 'auc', 'task': 'binary'}\n",
            "{'k': 4, 'lambda': 0.0001, 'lr': 0.1, 'metric': 'auc', 'task': 'binary'}\n",
            "{'k': 8, 'lambda': 0.1, 'lr': 0.1, 'metric': 'auc', 'task': 'binary'}\n",
            "{'k': 8, 'lambda': 0.001, 'lr': 0.1, 'metric': 'auc', 'task': 'binary'}\n",
            "{'k': 8, 'lambda': 0.0001, 'lr': 0.1, 'metric': 'auc', 'task': 'binary'}\n"
          ]
        }
      ]
    },
    {
      "cell_type": "markdown",
      "source": [
        "Лучшие результаты оказались у модели .... Проверим на тестовых данных."
      ],
      "metadata": {
        "id": "-xfvTjrpcsk7"
      }
    },
    {
      "cell_type": "code",
      "source": [
        "ffm_encoder = FFMFormat()\n",
        "ffm_test = ffm_encoder.fit_test(df_train, y='clicks')\n",
        "ffm_test.to_csv('test.txt', index=False, header=False)"
      ],
      "metadata": {
        "id": "UAu2Jumxmn2K"
      },
      "execution_count": null,
      "outputs": []
    }
  ]
}