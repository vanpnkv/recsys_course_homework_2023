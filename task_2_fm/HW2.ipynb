{
 "cells": [
  {
   "cell_type": "code",
   "execution_count": 60,
   "metadata": {
    "_cell_guid": "b1076dfc-b9ad-4769-8c92-a6c4dae69d19",
    "_uuid": "8f2839f25d086af736a60e9eeb907d3b93b6e0e5"
   },
   "outputs": [],
   "source": [
    "import matplotlib.pyplot as plt\n",
    "import numpy as np\n",
    "import pandas as pd\n",
    "import sklearn\n",
    "import xlearn\n",
    "\n",
    "import optuna\n",
    "\n",
    "import gc\n",
    "\n",
    "import math\n",
    "\n",
    "from sklearn.metrics import roc_auc_score, log_loss, roc_curve"
   ]
  },
  {
   "cell_type": "code",
   "execution_count": 31,
   "metadata": {
    "tags": []
   },
   "outputs": [],
   "source": [
    "PATH = './data.csv'\n",
    "data = pd.read_csv(PATH)"
   ]
  },
  {
   "cell_type": "markdown",
   "metadata": {},
   "source": [
    "Датасет состоит из показов рекламы.\n",
    "- oaid_hash - хэш юзера\n",
    "- date_time - время показа рекламы\n",
    "- zone_id - id зоны, где зона - место на сайте для размещения рекламы\n",
    "- banner_id - id баннера, где баннер - сама реклама\n",
    "- campaign_clicks - общее количество показов данной кампании (которой соотвествует баннер) данному юзеру, произошедшие до текущего показа. - - - Кампанию стоит понимать как что-то общее (рекламодатель/тематика/ и т. п.) для баннеров.\n",
    "- os_id - id операционной системы\n",
    "- country_id - id страны\n",
    "- impressions - был ли показ\n",
    "- clicks - был ли клик\n",
    "\n",
    "\n",
    "Для Домашней работы 2, колонки: banner_id0, banner_id1, rate0, rate1, g0, g1, coeff_sum0, coeff_sum1 использовать не нужно! Они будут использоваться в последующих Домашних работах.\n",
    "\n",
    "Прошлое дз (baseline был побит):\n",
    "auc: 0.702188450129561,\n",
    "log_loss: 0.1359679997059639"
   ]
  },
  {
   "cell_type": "code",
   "execution_count": 4,
   "metadata": {
    "execution": {
     "iopub.execute_input": "2023-12-04T20:00:26.018556Z",
     "iopub.status.busy": "2023-12-04T20:00:26.017488Z",
     "iopub.status.idle": "2023-12-04T20:00:27.684207Z",
     "shell.execute_reply": "2023-12-04T20:00:27.683053Z",
     "shell.execute_reply.started": "2023-12-04T20:00:26.018514Z"
    }
   },
   "outputs": [
    {
     "name": "stdout",
     "output_type": "stream",
     "text": [
      "unique impressions: [1]\n",
      "\n",
      "date_time              0\n",
      "zone_id                0\n",
      "banner_id              0\n",
      "oaid_hash              0\n",
      "campaign_clicks        0\n",
      "os_id                  0\n",
      "country_id             0\n",
      "banner_id0             0\n",
      "rate0                 69\n",
      "g0                    69\n",
      "coeff_sum0            69\n",
      "banner_id1             0\n",
      "rate1              19744\n",
      "g1                 19744\n",
      "coeff_sum1         19744\n",
      "impressions            0\n",
      "clicks                 0\n",
      "dtype: int64\n"
     ]
    }
   ],
   "source": [
    "print(f\"unique impressions: {data['impressions'].unique()}\\n\") # impressions все равны 1, их нет смысла брать\n",
    "\n",
    "print(data.isnull().sum(axis = 0)) # по нашим столбцам NaN'ов нету"
   ]
  },
  {
   "cell_type": "code",
   "execution_count": 32,
   "metadata": {
    "tags": []
   },
   "outputs": [],
   "source": [
    "data['date_time'] = pd.to_datetime(data['date_time'])"
   ]
  },
  {
   "cell_type": "code",
   "execution_count": 6,
   "metadata": {
    "execution": {
     "iopub.execute_input": "2023-12-04T20:00:35.842266Z",
     "iopub.status.busy": "2023-12-04T20:00:35.841919Z",
     "iopub.status.idle": "2023-12-04T20:00:42.751674Z",
     "shell.execute_reply": "2023-12-04T20:00:42.750670Z",
     "shell.execute_reply.started": "2023-12-04T20:00:35.842237Z"
    }
   },
   "outputs": [
    {
     "data": {
      "text/plain": [
       "<Axes: xlabel='date_time'>"
      ]
     },
     "execution_count": 6,
     "metadata": {},
     "output_type": "execute_result"
    },
    {
     "data": {
      "image/png": "[encoded data removed]",
      "text/plain": [
       "<Figure size 640x480 with 1 Axes>"
      ]
     },
     "metadata": {},
     "output_type": "display_data"
    }
   ],
   "source": [
    "data['date_time'].dt.date.value_counts().plot(kind='bar')"
   ]
  },
  {
   "cell_type": "markdown",
   "metadata": {},
   "source": [
    "Выброс -- 2021-09-01. Удалим его"
   ]
  },
  {
   "cell_type": "code",
   "execution_count": 33,
   "metadata": {
    "tags": []
   },
   "outputs": [],
   "source": [
    "data = data[data['date_time'].dt.date != pd.Timestamp('2021-09-01').date()]"
   ]
  },
  {
   "cell_type": "code",
   "execution_count": 34,
   "metadata": {
    "tags": []
   },
   "outputs": [
    {
     "data": {
      "text/html": [
       "<div>\n",
       "<style scoped>\n",
       "    .dataframe tbody tr th:only-of-type {\n",
       "        vertical-align: middle;\n",
       "    }\n",
       "\n",
       "    .dataframe tbody tr th {\n",
       "        vertical-align: top;\n",
       "    }\n",
       "\n",
       "    .dataframe thead th {\n",
       "        text-align: right;\n",
       "    }\n",
       "</style>\n",
       "<table border=\"1\" class=\"dataframe\">\n",
       "  <thead>\n",
       "    <tr style=\"text-align: right;\">\n",
       "      <th></th>\n",
       "      <th>oaid_hash</th>\n",
       "      <th>date_time</th>\n",
       "      <th>zone_id</th>\n",
       "      <th>os_id</th>\n",
       "      <th>banner_id</th>\n",
       "      <th>campaign_clicks</th>\n",
       "      <th>country_id</th>\n",
       "      <th>clicks</th>\n",
       "    </tr>\n",
       "  </thead>\n",
       "  <tbody>\n",
       "    <tr>\n",
       "      <th>0</th>\n",
       "      <td>5664530014561852622</td>\n",
       "      <td>2021-09-27 00:01:30</td>\n",
       "      <td>0</td>\n",
       "      <td>0</td>\n",
       "      <td>0</td>\n",
       "      <td>0</td>\n",
       "      <td>0</td>\n",
       "      <td>1</td>\n",
       "    </tr>\n",
       "    <tr>\n",
       "      <th>1</th>\n",
       "      <td>5186611064559013950</td>\n",
       "      <td>2021-09-26 22:54:49</td>\n",
       "      <td>1</td>\n",
       "      <td>0</td>\n",
       "      <td>1</td>\n",
       "      <td>0</td>\n",
       "      <td>1</td>\n",
       "      <td>1</td>\n",
       "    </tr>\n",
       "    <tr>\n",
       "      <th>2</th>\n",
       "      <td>2215519569292448030</td>\n",
       "      <td>2021-09-26 23:57:20</td>\n",
       "      <td>2</td>\n",
       "      <td>0</td>\n",
       "      <td>2</td>\n",
       "      <td>3</td>\n",
       "      <td>0</td>\n",
       "      <td>1</td>\n",
       "    </tr>\n",
       "    <tr>\n",
       "      <th>3</th>\n",
       "      <td>6262169206735077204</td>\n",
       "      <td>2021-09-27 00:04:30</td>\n",
       "      <td>3</td>\n",
       "      <td>1</td>\n",
       "      <td>3</td>\n",
       "      <td>0</td>\n",
       "      <td>1</td>\n",
       "      <td>1</td>\n",
       "    </tr>\n",
       "    <tr>\n",
       "      <th>4</th>\n",
       "      <td>4778985830203613115</td>\n",
       "      <td>2021-09-27 00:06:21</td>\n",
       "      <td>4</td>\n",
       "      <td>1</td>\n",
       "      <td>4</td>\n",
       "      <td>0</td>\n",
       "      <td>0</td>\n",
       "      <td>1</td>\n",
       "    </tr>\n",
       "  </tbody>\n",
       "</table>\n",
       "</div>"
      ],
      "text/plain": [
       "             oaid_hash           date_time  zone_id  os_id  banner_id  \\\n",
       "0  5664530014561852622 2021-09-27 00:01:30        0      0          0   \n",
       "1  5186611064559013950 2021-09-26 22:54:49        1      0          1   \n",
       "2  2215519569292448030 2021-09-26 23:57:20        2      0          2   \n",
       "3  6262169206735077204 2021-09-27 00:04:30        3      1          3   \n",
       "4  4778985830203613115 2021-09-27 00:06:21        4      1          4   \n",
       "\n",
       "   campaign_clicks  country_id  clicks  \n",
       "0                0           0       1  \n",
       "1                0           1       1  \n",
       "2                3           0       1  \n",
       "3                0           1       1  \n",
       "4                0           0       1  "
      ]
     },
     "execution_count": 34,
     "metadata": {},
     "output_type": "execute_result"
    }
   ],
   "source": [
    "# Вытащим используемые фичи\n",
    "\n",
    "data = data[['oaid_hash', 'date_time', 'zone_id', 'os_id', 'banner_id', 'campaign_clicks', 'country_id', 'clicks']]\n",
    "data.head()"
   ]
  },
  {
   "cell_type": "code",
   "execution_count": 35,
   "metadata": {
    "tags": []
   },
   "outputs": [
    {
     "name": "stdout",
     "output_type": "stream",
     "text": [
      "oaid_hash maximal: 9223371107563590722\n",
      "numeric cols: ['zone_id', 'os_id', 'banner_id', 'campaign_clicks', 'country_id', 'clicks']\n"
     ]
    }
   ],
   "source": [
    "# переведем даты в дни недели и часы, переведем все числовые данные в тип, который занимает меньший объем памяти\n",
    "numeric_cols = data.select_dtypes(include='number').columns.tolist()\n",
    "print(f\"oaid_hash maximal: {data['oaid_hash'].max()}\")\n",
    "numeric_cols.remove('oaid_hash') # oaid_hash трогать не будем, для него тип подходит\n",
    "print(f\"numeric cols: {numeric_cols}\")"
   ]
  },
  {
   "cell_type": "code",
   "execution_count": 36,
   "metadata": {
    "tags": []
   },
   "outputs": [],
   "source": [
    "data[numeric_cols] = data[numeric_cols].astype('int16')\n",
    "data['date_time'] = pd.to_datetime(data['date_time'])\n",
    "data['hour'] = data['date_time'].dt.hour.astype('int16')\n",
    "data['day_number'] = data['date_time'].dt.weekday.astype('int16')"
   ]
  },
  {
   "cell_type": "markdown",
   "metadata": {},
   "source": [
    "Перед анализом данных уберем тестовую выборку"
   ]
  },
  {
   "cell_type": "code",
   "execution_count": 37,
   "metadata": {
    "tags": []
   },
   "outputs": [
    {
     "data": {
      "text/plain": [
       "1362"
      ]
     },
     "execution_count": 37,
     "metadata": {},
     "output_type": "execute_result"
    }
   ],
   "source": [
    "# разделим данные на трейн и тест. Оставим у train столбец date_time, он пригодится для отделения валидации\n",
    "max_date = data['date_time'].dt.date.max()\n",
    "test_data = data[data['date_time'].dt.date == max_date].drop(columns=['date_time'])\n",
    "train_data = data[data['date_time'].dt.date < max_date]\n",
    "\n",
    "gc.collect()"
   ]
  },
  {
   "cell_type": "code",
   "execution_count": 12,
   "metadata": {
    "execution": {
     "iopub.execute_input": "2023-12-04T20:01:14.375453Z",
     "iopub.status.busy": "2023-12-04T20:01:14.374813Z",
     "iopub.status.idle": "2023-12-04T20:01:16.584261Z",
     "shell.execute_reply": "2023-12-04T20:01:16.582983Z",
     "shell.execute_reply.started": "2023-12-04T20:01:14.375415Z"
    }
   },
   "outputs": [
    {
     "data": {
      "image/png": "[encoded data removed]",
      "text/plain": [
       "<Figure size 1000x1000 with 4 Axes>"
      ]
     },
     "metadata": {},
     "output_type": "display_data"
    }
   ],
   "source": [
    "# Посмотрим на кол-во кликов по разным фичам. Сперва посмотрим на более удобные в отображении признаки\n",
    "\n",
    "features_1 = ['os_id', 'country_id', 'hour', 'day_number']\n",
    "\n",
    "fig, axs = plt.subplots(2, 2, figsize=(10, 10))\n",
    "plot_index = 0\n",
    "\n",
    "for i in range(2):\n",
    "    for j in range(2):\n",
    "        clicks_per_feature = train_data.groupby(features_1[plot_index])['clicks'].sum()\n",
    "        ax = axs[i, j]\n",
    "        clicks_per_feature.plot(kind='bar', color='black', ax=ax)\n",
    "        ax.set_title(f'Clicks per {features_1[plot_index]}')\n",
    "        plot_index += 1\n",
    "\n",
    "fig.suptitle('Распределение кликов по признакам', fontsize=13)\n",
    "plt.tight_layout()\n",
    "plt.show()"
   ]
  },
  {
   "cell_type": "markdown",
   "metadata": {},
   "source": [
    "Количество кликов по этим признакам распределено довольно разнообразно, выбросов мало. Единственное, что бросается в глаза, это то, что `os_id` практически нет в категориях выше 6. В`country_id` практически пустых значений нет, но можно тоже объединить."
   ]
  },
  {
   "cell_type": "code",
   "execution_count": 13,
   "metadata": {
    "execution": {
     "iopub.execute_input": "2023-12-04T20:01:16.586356Z",
     "iopub.status.busy": "2023-12-04T20:01:16.585926Z",
     "iopub.status.idle": "2023-12-04T20:01:16.841993Z",
     "shell.execute_reply": "2023-12-04T20:01:16.840844Z",
     "shell.execute_reply.started": "2023-12-04T20:01:16.586316Z"
    }
   },
   "outputs": [
    {
     "name": "stdout",
     "output_type": "stream",
     "text": [
      "without normalise\n",
      "os_id\n",
      "2     4099560\n",
      "0     3279152\n",
      "1     2773802\n",
      "4     2531697\n",
      "3      651830\n",
      "6      257782\n",
      "5       97525\n",
      "8        1017\n",
      "7          99\n",
      "9          24\n",
      "10          5\n",
      "Name: count, dtype: int64\n",
      "\n",
      "with normalise\n",
      "os_id\n",
      "2     2.994020e-01\n",
      "0     2.394854e-01\n",
      "1     2.025783e-01\n",
      "4     1.848967e-01\n",
      "3     4.760492e-02\n",
      "6     1.882652e-02\n",
      "5     7.122516e-03\n",
      "8     7.427428e-05\n",
      "7     7.230239e-06\n",
      "9     1.752785e-06\n",
      "10    3.651636e-07\n",
      "Name: proportion, dtype: float64\n"
     ]
    }
   ],
   "source": [
    "# посчитаем категории os_id\n",
    "print(\"without normalise\")\n",
    "print(train_data['os_id'].value_counts())\n",
    "print(\"\\nwith normalise\")\n",
    "print(train_data['os_id'].value_counts(normalize=True))"
   ]
  },
  {
   "cell_type": "markdown",
   "metadata": {},
   "source": [
    "Объединим все, что меньше 1e-3, в новую категорию. Так как `os` существует не так много, то новый номер можно выбрать не очень большой"
   ]
  },
  {
   "cell_type": "code",
   "execution_count": 14,
   "metadata": {
    "execution": {
     "iopub.execute_input": "2023-12-04T20:01:16.844529Z",
     "iopub.status.busy": "2023-12-04T20:01:16.843419Z",
     "iopub.status.idle": "2023-12-04T20:01:17.061601Z",
     "shell.execute_reply": "2023-12-04T20:01:17.060157Z",
     "shell.execute_reply.started": "2023-12-04T20:01:16.844489Z"
    }
   },
   "outputs": [
    {
     "name": "stdout",
     "output_type": "stream",
     "text": [
      "without normalise\n",
      "country_id\n",
      "0     4268040\n",
      "5     1689814\n",
      "6     1394561\n",
      "7     1373117\n",
      "1     1154254\n",
      "3     1074344\n",
      "15     540412\n",
      "12     419898\n",
      "9      354648\n",
      "10     339790\n",
      "4      335702\n",
      "11     188816\n",
      "8      170027\n",
      "13     159744\n",
      "14     115615\n",
      "16      64866\n",
      "2       48845\n",
      "Name: count, dtype: int64\n",
      "\n",
      "without normalise\n",
      "country_id\n",
      "0     0.311707\n",
      "5     0.123412\n",
      "6     0.101849\n",
      "7     0.100282\n",
      "1     0.084298\n",
      "3     0.078462\n",
      "15    0.039468\n",
      "12    0.030666\n",
      "9     0.025901\n",
      "10    0.024816\n",
      "4     0.024517\n",
      "11    0.013790\n",
      "8     0.012418\n",
      "13    0.011667\n",
      "14    0.008444\n",
      "16    0.004737\n",
      "2     0.003567\n",
      "Name: proportion, dtype: float64\n"
     ]
    }
   ],
   "source": [
    "# аналогично с country_id\n",
    "print(\"without normalise\")\n",
    "print(train_data['country_id'].value_counts())\n",
    "print(\"\\nwithout normalise\")\n",
    "print(train_data['country_id'].value_counts(normalize=True))"
   ]
  },
  {
   "cell_type": "markdown",
   "metadata": {},
   "source": [
    "Объединим все, что меньше 1e-2, в новую категорию. Так как стран тоже ограниченное кол-во, выберем номер новой категории 200"
   ]
  },
  {
   "cell_type": "code",
   "execution_count": 38,
   "metadata": {
    "tags": []
   },
   "outputs": [],
   "source": [
    "def reassign(df, column_name, threshold, new_category, normalize=True):\n",
    "    category_counts = df[column_name].value_counts(normalize=normalize)\n",
    "    rare_categories = category_counts[category_counts < threshold].index.tolist()\n",
    "    df.loc[df[column_name].isin(rare_categories), column_name] = new_category\n",
    "    return df"
   ]
  },
  {
   "cell_type": "code",
   "execution_count": 39,
   "metadata": {
    "tags": []
   },
   "outputs": [],
   "source": [
    "train_data = reassign(train_data, 'os_id', 1e-3, 20)\n",
    "train_data = reassign(train_data, 'country_id', 1e-2, 200)"
   ]
  },
  {
   "cell_type": "code",
   "execution_count": 17,
   "metadata": {
    "execution": {
     "iopub.execute_input": "2023-12-04T20:01:17.757264Z",
     "iopub.status.busy": "2023-12-04T20:01:17.756615Z",
     "iopub.status.idle": "2023-12-04T20:01:19.898121Z",
     "shell.execute_reply": "2023-12-04T20:01:19.897373Z",
     "shell.execute_reply.started": "2023-12-04T20:01:17.757227Z"
    }
   },
   "outputs": [
    {
     "data": {
      "image/png": "[encoded data removed]",
      "text/plain": [
       "<Figure size 1000x500 with 3 Axes>"
      ]
     },
     "metadata": {},
     "output_type": "display_data"
    }
   ],
   "source": [
    "features_2 = ['zone_id', 'banner_id', 'campaign_clicks']\n",
    "\n",
    "fig, axs = plt.subplots(3, 1, figsize=(10, 5))\n",
    "plot_index = 0\n",
    "\n",
    "for j in range(3):\n",
    "    clicks_per_feature = train_data.groupby(features_2[plot_index])['clicks'].sum()\n",
    "    ax = axs[j]\n",
    "    clicks_per_feature.plot(kind='hist', color='black', ax=ax, logy=True)\n",
    "    ax.set_title(f'Clicks per {features_2[plot_index]}')\n",
    "    plot_index += 1\n",
    "\n",
    "fig.suptitle('Распределение кликов по признакам', fontsize=13)\n",
    "plt.tight_layout()\n",
    "plt.show()"
   ]
  },
  {
   "cell_type": "markdown",
   "metadata": {},
   "source": [
    "Ну тут распределение какое-то менее приятное получилось. Тоже объединим редкие категории (по порогу 1e-3)"
   ]
  },
  {
   "cell_type": "code",
   "execution_count": 40,
   "metadata": {
    "tags": []
   },
   "outputs": [
    {
     "name": "stdout",
     "output_type": "stream",
     "text": [
      "3943 2132\n"
     ]
    }
   ],
   "source": [
    "class_zone_id =  train_data['zone_id'].max() + 500\n",
    "class_banner_id = train_data['banner_id'].max() + 500\n",
    "train_data = reassign(train_data, 'zone_id', 1e-3, class_zone_id)\n",
    "train_data = reassign(train_data, 'banner_id', 1e-2, class_banner_id)\n",
    "print(class_zone_id, class_banner_id)"
   ]
  },
  {
   "cell_type": "code",
   "execution_count": 19,
   "metadata": {
    "execution": {
     "iopub.execute_input": "2023-12-04T20:01:20.531170Z",
     "iopub.status.busy": "2023-12-04T20:01:20.530439Z",
     "iopub.status.idle": "2023-12-04T20:01:24.930912Z",
     "shell.execute_reply": "2023-12-04T20:01:24.929698Z",
     "shell.execute_reply.started": "2023-12-04T20:01:20.531130Z"
    }
   },
   "outputs": [
    {
     "name": "stdout",
     "output_type": "stream",
     "text": [
      "oaid_hash\n",
      "308174966294367527     3.409167e-04\n",
      "2890718152668627077    1.833852e-04\n",
      "2521895603443866206    1.671719e-04\n",
      "8212556321845734673    1.441666e-04\n",
      "3375698397737628939    1.430711e-04\n",
      "                           ...     \n",
      "232745324250944698     7.303272e-08\n",
      "8635129584864552187    7.303272e-08\n",
      "7590420289968071067    7.303272e-08\n",
      "2965446629425844749    7.303272e-08\n",
      "453968700792456599     7.303272e-08\n",
      "Name: proportion, Length: 5660417, dtype: float64\n",
      "\n",
      "Number of rare hashes: 5130185\n"
     ]
    }
   ],
   "source": [
    "print(train_data['oaid_hash'].value_counts(normalize=True))\n",
    "print(f\"\\nNumber of rare hashes: {(train_data['oaid_hash'].value_counts() < 5).sum()}\")"
   ]
  },
  {
   "cell_type": "code",
   "execution_count": 20,
   "metadata": {
    "execution": {
     "iopub.execute_input": "2023-12-04T20:01:24.932367Z",
     "iopub.status.busy": "2023-12-04T20:01:24.932052Z",
     "iopub.status.idle": "2023-12-04T20:01:24.953446Z",
     "shell.execute_reply": "2023-12-04T20:01:24.951695Z",
     "shell.execute_reply.started": "2023-12-04T20:01:24.932340Z"
    }
   },
   "outputs": [
    {
     "data": {
      "text/plain": [
       "1116910879938"
      ]
     },
     "execution_count": 20,
     "metadata": {},
     "output_type": "execute_result"
    }
   ],
   "source": [
    "train_data['oaid_hash'].min()"
   ]
  },
  {
   "cell_type": "markdown",
   "metadata": {},
   "source": [
    "Видим большое количество редко встречающихся хэшей. Их лучше убрать. Так как хэши ограничены снизу довольно большими числами, то присвоим им класс 0"
   ]
  },
  {
   "cell_type": "code",
   "execution_count": 41,
   "metadata": {
    "tags": []
   },
   "outputs": [],
   "source": [
    "train_data = reassign(train_data, 'oaid_hash', 5, 0, False)"
   ]
  },
  {
   "cell_type": "markdown",
   "metadata": {},
   "source": [
    "Отделим теперь выборку, на которой будем валидироваться"
   ]
  },
  {
   "cell_type": "code",
   "execution_count": 42,
   "metadata": {
    "tags": []
   },
   "outputs": [
    {
     "name": "stderr",
     "output_type": "stream",
     "text": [
      "C:\\Users\\amoseichuk\\AppData\\Local\\Temp\\ipykernel_21884\\743699599.py:2: UserWarning: Boolean Series key will be reindexed to match DataFrame index.\n",
      "  val_data = train_data[data['date_time'].dt.date == max_date].drop(columns=['date_time'])\n",
      "C:\\Users\\amoseichuk\\AppData\\Local\\Temp\\ipykernel_21884\\743699599.py:3: UserWarning: Boolean Series key will be reindexed to match DataFrame index.\n",
      "  train_data = train_data[data['date_time'].dt.date < max_date].drop(columns=['date_time'])\n"
     ]
    }
   ],
   "source": [
    "max_date = train_data['date_time'].dt.date.max()\n",
    "val_data = train_data[data['date_time'].dt.date == max_date].drop(columns=['date_time'])\n",
    "train_data = train_data[data['date_time'].dt.date < max_date].drop(columns=['date_time'])"
   ]
  },
  {
   "cell_type": "code",
   "execution_count": 45,
   "metadata": {
    "tags": []
   },
   "outputs": [],
   "source": [
    "def prepare_test(test_data):\n",
    "    test_data = reassign(test_data, 'os_id', 1e-3, 20)\n",
    "    test_data = reassign(test_data, 'country_id', 1e-2, 200)\n",
    "    test_data = reassign(test_data, 'zone_id', 1e-3, class_zone_id)\n",
    "    test_data = reassign(test_data, 'banner_id', 1e-2, class_banner_id)\n",
    "    test_data = reassign(test_data, 'oaid_hash', 5, 0, False)\n",
    "    return test_data"
   ]
  },
  {
   "cell_type": "code",
   "execution_count": 46,
   "metadata": {
    "tags": []
   },
   "outputs": [],
   "source": [
    "test_data = prepare_test(test_data)"
   ]
  },
  {
   "cell_type": "code",
   "execution_count": 47,
   "metadata": {
    "tags": []
   },
   "outputs": [
    {
     "name": "stdout",
     "output_type": "stream",
     "text": [
      "<class 'pandas.core.frame.DataFrame'>\n",
      "Int64Index: 12049045 entries, 0 to 15821471\n",
      "Data columns (total 9 columns):\n",
      " #   Column           Dtype\n",
      "---  ------           -----\n",
      " 0   oaid_hash        int64\n",
      " 1   zone_id          int16\n",
      " 2   os_id            int16\n",
      " 3   banner_id        int16\n",
      " 4   campaign_clicks  int16\n",
      " 5   country_id       int16\n",
      " 6   clicks           int16\n",
      " 7   hour             int16\n",
      " 8   day_number       int16\n",
      "dtypes: int16(8), int64(1)\n",
      "memory usage: 367.7 MB\n",
      "None\n",
      "<class 'pandas.core.frame.DataFrame'>\n",
      "Int64Index: 1643448 entries, 59 to 15821466\n",
      "Data columns (total 9 columns):\n",
      " #   Column           Non-Null Count    Dtype\n",
      "---  ------           --------------    -----\n",
      " 0   oaid_hash        1643448 non-null  int64\n",
      " 1   zone_id          1643448 non-null  int16\n",
      " 2   os_id            1643448 non-null  int16\n",
      " 3   banner_id        1643448 non-null  int16\n",
      " 4   campaign_clicks  1643448 non-null  int16\n",
      " 5   country_id       1643448 non-null  int16\n",
      " 6   clicks           1643448 non-null  int16\n",
      " 7   hour             1643448 non-null  int16\n",
      " 8   day_number       1643448 non-null  int16\n",
      "dtypes: int16(8), int64(1)\n",
      "memory usage: 50.2 MB\n",
      "None\n",
      "<class 'pandas.core.frame.DataFrame'>\n",
      "Int64Index: 2128978 entries, 164 to 15821469\n",
      "Data columns (total 9 columns):\n",
      " #   Column           Dtype\n",
      "---  ------           -----\n",
      " 0   oaid_hash        int64\n",
      " 1   zone_id          int16\n",
      " 2   os_id            int16\n",
      " 3   banner_id        int16\n",
      " 4   campaign_clicks  int16\n",
      " 5   country_id       int16\n",
      " 6   clicks           int16\n",
      " 7   hour             int16\n",
      " 8   day_number       int16\n",
      "dtypes: int16(8), int64(1)\n",
      "memory usage: 65.0 MB\n",
      "None\n"
     ]
    }
   ],
   "source": [
    "print(train_data.info())\n",
    "print(val_data.info())\n",
    "print(test_data.info())"
   ]
  },
  {
   "cell_type": "code",
   "execution_count": 51,
   "metadata": {
    "tags": []
   },
   "outputs": [],
   "source": [
    "# смотрел сюда https://github.com/aksnzhy/xlearn_doc/blob/master/python_api/index.rst\n",
    "# и сюда https://github.com/ycjuan/libffm/blob/master/README\n",
    "# и сюда https://github.com/SongDark/libffm_converter/blob/master/libffm_converter.py\n",
    "# и еще куда-то тоже смотрел\n",
    "# libffm format: label field_1:index_1:value_1 field_2:index_2:value_2 ...\n",
    "\n",
    "from tqdm.notebook import tqdm\n",
    "\n",
    "curr_code = 0\n",
    "dict_field = {} "
   ]
  },
  {
   "cell_type": "code",
   "execution_count": 52,
   "metadata": {
    "tags": []
   },
   "outputs": [],
   "source": [
    "def libffm(filename, data, target_column, categorical_features):\n",
    "    global curr_code, dict_field\n",
    "    with open(filename, \"w\") as f:\n",
    "        for index, row in tqdm(data.iterrows()):\n",
    "            parse_row(row, target_column, categorical_features, f)\n",
    "\n",
    "def parse_row(row, target_column, categorical_features, f):\n",
    "    global curr_code\n",
    "    f.write(str(row[target_column]))\n",
    "    for i, feature in enumerate(categorical_features):\n",
    "        if feature not in dict_field:\n",
    "            dict_field[feature] = {}\n",
    "            curr_code += 1\n",
    "            dict_field[feature][row[feature]] = curr_code\n",
    "        elif row[feature] not in dict_field[feature]:\n",
    "            curr_code += 1\n",
    "            dict_field[feature][row[feature]] = curr_code\n",
    "        f.write(f' {i}:{dict_field[feature][row[feature]]}:1')\n",
    "    f.write('\\n')"
   ]
  },
  {
   "cell_type": "code",
   "execution_count": 53,
   "metadata": {
    "tags": []
   },
   "outputs": [],
   "source": [
    "train, val, test = \"train.txt\", \"validation.txt\", \"test.txt\" \n",
    "target_column = \"clicks\"\n",
    "categorical_features = ['oaid_hash', 'zone_id', 'os_id', 'banner_id', 'country_id', 'hour', 'day_number']"
   ]
  },
  {
   "cell_type": "code",
   "execution_count": 54,
   "metadata": {
    "tags": []
   },
   "outputs": [
    {
     "data": {
      "application/vnd.jupyter.widget-view+json": {
       "model_id": "e3e75a8239664a3ab146466e645b7e8e",
       "version_major": 2,
       "version_minor": 0
      },
      "text/plain": [
       "0it [00:00, ?it/s]"
      ]
     },
     "metadata": {},
     "output_type": "display_data"
    }
   ],
   "source": [
    "libffm(train, train_data, target_column, categorical_features)"
   ]
  },
  {
   "cell_type": "code",
   "execution_count": 55,
   "metadata": {},
   "outputs": [
    {
     "data": {
      "application/vnd.jupyter.widget-view+json": {
       "model_id": "fb7762a5505d4f15a98e2cd59c63906b",
       "version_major": 2,
       "version_minor": 0
      },
      "text/plain": [
       "0it [00:00, ?it/s]"
      ]
     },
     "metadata": {},
     "output_type": "display_data"
    },
    {
     "data": {
      "application/vnd.jupyter.widget-view+json": {
       "model_id": "c87de6f1cf734226b6966eee304ce11d",
       "version_major": 2,
       "version_minor": 0
      },
      "text/plain": [
       "0it [00:00, ?it/s]"
      ]
     },
     "metadata": {},
     "output_type": "display_data"
    }
   ],
   "source": [
    "libffm(val, val_data, target_column, categorical_features)\n",
    "libffm(test, test_data, target_column, categorical_features)"
   ]
  },
  {
   "cell_type": "code",
   "execution_count": 27,
   "metadata": {},
   "outputs": [],
   "source": [
    "y_val = val_data['clicks']"
   ]
  },
  {
   "cell_type": "code",
   "execution_count": 30,
   "metadata": {},
   "outputs": [],
   "source": [
    "def objective(trial):\n",
    "\n",
    "    c = trial.suggest_float(\"lambda\", 0.0001, 3, log=True)\n",
    "    lr = trial.suggest_float(\"lr\", 0.01, 0.3, log=True)\n",
    "    k = trial.suggest_int(\"k\", 2, 16)\n",
    "    \n",
    "    params = {'task':'binary', 'lr': lr, 'lambda': с, 'k': k, 'metric': 'auc'}\n",
    "    ffm_model = xlearn.create_ffm()\n",
    "    ffm_model.setTrain('./train.txt')\n",
    "    ffm_model.setTest('./validation.txt')\n",
    "    ffm_model.fit(params, './model.out')\n",
    "    ffm_model.setSigmoid()\n",
    "    ffm_model.predict('./model.out', './res.txt')\n",
    "\n",
    "    with open('res.txt', 'r') as f:\n",
    "        y_pred_proba = np.array(list(map(float, filter(lambda s: len(s) > 0, f.read().split('\\n')))))\n",
    "\n",
    "    return roc_auc_score(y_val, y_pred_proba)"
   ]
  },
  {
   "cell_type": "code",
   "execution_count": 31,
   "metadata": {},
   "outputs": [
    {
     "name": "stderr",
     "output_type": "stream",
     "text": [
      "[I 2023-12-05 02:10:55,607] A new study created in memory with name: no-name-7690abc5-e869-4076-9a27-131a535e7648\n"
     ]
    },
    {
     "data": {
      "application/vnd.jupyter.widget-view+json": {
       "model_id": "1b1023a4b4914f0195e81fea56536250",
       "version_major": 2,
       "version_minor": 0
      },
      "text/plain": [
       "  0%|          | 0/15 [00:00<?, ?it/s]"
      ]
     },
     "metadata": {},
     "output_type": "display_data"
    },
    {
     "name": "stdout",
     "output_type": "stream",
     "text": [
      "[I 2023-12-05 02:13:45,140] Trial 0 finished with value: 0.7487822996143102 and parameters: {'lambda': 0.046643477907612495, 'lr': 0.023781331002450078, 'k': 14}. Best is trial 0 with value: 0.7487822996143102.\n",
      "[I 2023-12-05 02:16:59,226] Trial 1 finished with value: 0.7469889775834959 and parameters: {'lambda': 0.0004601385098088976, 'lr': 0.2808632538701753, 'k': 14}. Best is trial 0 with value: 0.7487822996143102.\n",
      "[I 2023-12-05 02:19:35,336] Trial 2 finished with value: 0.7514268459349595 and parameters: {'lambda': 0.008818750049792042, 'lr': 0.13326406486792472, 'k': 11}. Best is trial 2 with value: 0.7514268459349595.\n",
      "[I 2023-12-05 02:22:21,608] Trial 3 finished with value: 0.7484737024255163 and parameters: {'lambda': 0.0001257495305667381, 'lr': 0.17451298323940465, 'k': 12}. Best is trial 2 with value: 0.7514268459349595.\n",
      "[I 2023-12-05 02:24:52,068] Trial 4 finished with value: 0.7513318431641844 and parameters: {'lambda': 1.487492086869331, 'lr': 0.041248498451725166, 'k': 9}. Best is trial 2 with value: 0.7514268459349595.\n",
      "[I 2023-12-05 02:28:18,029] Trial 5 finished with value: 0.7489718060371466 and parameters: {'lambda': 0.32487068936127056, 'lr': 0.19890198774163592, 'k': 14}. Best is trial 2 with value: 0.7514268459349595.\n",
      "[I 2023-12-05 02:29:42,587] Trial 6 finished with value: 0.7508381314533769 and parameters: {'lambda': 0.5303056991979447, 'lr': 0.11331905587648028, 'k': 4}. Best is trial 2 with value: 0.7514268459349595.\n",
      "[I 2023-12-05 02:32:59,971] Trial 7 finished with value: 0.7503797224235766 and parameters: {'lambda': 0.0011732512045194293, 'lr': 0.11203504190835774, 'k': 16}. Best is trial 2 with value: 0.7514268459349595.\n",
      "[I 2023-12-05 02:34:46,897] Trial 8 finished with value: 0.7476485974353713 and parameters: {'lambda': 0.002842251950299989, 'lr': 0.02179005321925852, 'k': 7}. Best is trial 2 with value: 0.7514268459349595.\n",
      "[I 2023-12-05 02:37:50,513] Trial 9 finished with value: 0.7514916533014633 and parameters: {'lambda': 0.0027891460486388535, 'lr': 0.0701267281446324, 'k': 15}. Best is trial 9 with value: 0.7514916533014633.\n",
      "[I 2023-12-05 02:39:01,109] Trial 10 finished with value: 0.7447823317698437 and parameters: {'lambda': 0.03321489338317218, 'lr': 0.010531637785897071, 'k': 3}. Best is trial 9 with value: 0.7514916533014633.\n",
      "[I 2023-12-05 02:41:30,888] Trial 11 finished with value: 0.7510647586225443 and parameters: {'lambda': 0.007229145919863304, 'lr': 0.07810541826012131, 'k': 11}. Best is trial 9 with value: 0.7514916533014633.\n",
      "[I 2023-12-05 02:43:52,559] Trial 12 finished with value: 0.7512908447165774 and parameters: {'lambda': 0.008091403779301233, 'lr': 0.05907401748571696, 'k': 9}. Best is trial 9 with value: 0.7514916533014633.\n",
      "[I 2023-12-05 02:47:19,824] Trial 13 finished with value: 0.7500764109580251 and parameters: {'lambda': 0.001947179762738002, 'lr': 0.10298033181134968, 'k': 16}. Best is trial 9 with value: 0.7514916533014633.\n",
      "[I 2023-12-05 02:49:52,073] Trial 14 finished with value: 0.7511692447829146 and parameters: {'lambda': 0.02531991907234041, 'lr': 0.054552149634859486, 'k': 11}. Best is trial 9 with value: 0.7514916533014633.\n"
     ]
    }
   ],
   "source": [
    "study = optuna.create_study(direction=\"maximize\")\n",
    "study.optimize(objective, n_trials=15, show_progress_bar=1)"
   ]
  },
  {
   "cell_type": "markdown",
   "metadata": {},
   "source": [
    "Кросс-валидацию не использовал для экономии времени на обучение"
   ]
  },
  {
   "cell_type": "code",
   "execution_count": 32,
   "metadata": {},
   "outputs": [
    {
     "data": {
      "text/plain": [
       "{'lambda': 0.0027891460486388535, 'lr': 0.0701267281446324, 'k': 15}"
      ]
     },
     "execution_count": 32,
     "metadata": {},
     "output_type": "execute_result"
    }
   ],
   "source": [
    "study.best_params"
   ]
  },
  {
   "cell_type": "markdown",
   "metadata": {},
   "source": [
    "Видно, что `k` уперлась в границу отрезка поиска и по хорошему надо бы сделать его больше и проверить. Но, к сожалению, это не влезет в память.  \n",
    "\n",
    "Объединим валидацию с трейном."
   ]
  },
  {
   "cell_type": "code",
   "execution_count": 40,
   "metadata": {},
   "outputs": [],
   "source": [
    "with open(\"train.txt\", 'r') as file1:\n",
    "    file1_content = file1.read()\n",
    "    \n",
    "with open(\"validation.txt\", 'r') as file2:\n",
    "    file2_content = file2.read()\n",
    "\n",
    "with open(\"full_train\", 'w') as file3:\n",
    "    file3.write(file1_content)\n",
    "    file3.write(file2_content)"
   ]
  },
  {
   "cell_type": "code",
   "execution_count": 56,
   "metadata": {},
   "outputs": [],
   "source": [
    "params = {'task': 'binary', 'metric': 'auc', 'lambda': 0.0027891460486388535, 'lr': 0.0701267281446324, 'k': 15}"
   ]
  },
  {
   "cell_type": "code",
   "execution_count": 57,
   "metadata": {},
   "outputs": [],
   "source": [
    "y_test = test_data['clicks']"
   ]
  },
  {
   "cell_type": "code",
   "execution_count": 22,
   "metadata": {},
   "outputs": [
    {
     "data": {
      "text/plain": [
       "62"
      ]
     },
     "execution_count": 22,
     "metadata": {},
     "output_type": "execute_result"
    }
   ],
   "source": [
    "del test_data, train_data, val_data, data\n",
    "gc.collect()"
   ]
  },
  {
   "cell_type": "code",
   "execution_count": 69,
   "metadata": {},
   "outputs": [],
   "source": [
    "ffm_model = xlearn.create_ffm()\n",
    "ffm_model.setTrain('./full_train')\n",
    "ffm_model.setTest('./test.txt')\n",
    "ffm_model.fit(params, './final_model.out')\n",
    "ffm_model.setSigmoid()\n",
    "ffm_model.predict('./final_model.out', './final_res.txt')\n",
    "\n",
    "with open('./final_res.txt', 'r') as f:\n",
    "    y_proba = np.array(list(map(float, filter(lambda s: len(s) > 0, f.read().split('\\n')))))"
   ]
  },
  {
   "cell_type": "code",
   "execution_count": 70,
   "metadata": {},
   "outputs": [
    {
     "name": "stdout",
     "output_type": "stream",
     "text": [
      "AUC: 0.7580856155431807, log_loss: 0.14321384845241147\n"
     ]
    }
   ],
   "source": [
    "log_loss = log_loss(y_test, y_proba)\n",
    "auc = roc_auc_score(y_test, y_proba)\n",
    "print(f\"AUC: {auc}, log_loss: {log_loss}\")"
   ]
  },
  {
   "cell_type": "markdown",
   "metadata": {},
   "source": [
    "AUC получился лучше, а log_loss немного хуже прошлого решения (auc: 0.702188450129561, log_loss: 0.1359679997059639)"
   ]
  }
 ],
 "metadata": {
  "kaggle": {
   "accelerator": "none",
   "dataSources": [
    {
     "datasetId": 4012891,
     "sourceId": 6982515,
     "sourceType": "datasetVersion"
    }
   ],
   "dockerImageVersionId": 30587,
   "isGpuEnabled": false,
   "isInternetEnabled": true,
   "language": "python",
   "sourceType": "notebook"
  },
  "kernelspec": {
   "display_name": "Python 3 (ipykernel)",
   "language": "python",
   "name": "python3"
  },
  "language_info": {
   "codemirror_mode": {
    "name": "ipython",
    "version": 3
   },
   "file_extension": ".py",
   "mimetype": "text/x-python",
   "name": "python",
   "nbconvert_exporter": "python",
   "pygments_lexer": "ipython3",
   "version": "3.10.9"
  }
 },
 "nbformat": 4,
 "nbformat_minor": 4
}
