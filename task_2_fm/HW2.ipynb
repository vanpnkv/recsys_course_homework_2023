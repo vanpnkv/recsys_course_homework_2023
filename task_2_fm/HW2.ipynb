{
 "cells": [
  {
   "cell_type": "code",
   "execution_count": 1,
   "metadata": {},
   "outputs": [
    {
     "name": "stderr",
     "output_type": "stream",
     "text": [
      "/usr/lib/python3/dist-packages/scipy/__init__.py:146: UserWarning: A NumPy version >=1.17.3 and <1.25.0 is required for this version of SciPy (detected version 1.25.0\n",
      "  warnings.warn(f\"A NumPy version >={np_minversion} and <{np_maxversion}\"\n"
     ]
    }
   ],
   "source": [
    "import numpy as np\n",
    "import pandas as pd\n",
    "import matplotlib.pyplot as plt\n",
    "from sklearn.preprocessing import OneHotEncoder\n",
    "from sklearn.model_selection import ParameterGrid\n",
    "from sklearn.metrics import log_loss, roc_auc_score\n",
    "import datetime as dt\n",
    "import math\n",
    "from tqdm.notebook import tqdm\n",
    "import xlearn as xl"
   ]
  },
  {
   "cell_type": "code",
   "execution_count": 2,
   "metadata": {
    "pycharm": {
     "name": "#%%\n"
    }
   },
   "outputs": [
    {
     "name": "stderr",
     "output_type": "stream",
     "text": [
      "/tmp/ipykernel_427/3287559034.py:1: FutureWarning: The argument 'date_parser' is deprecated and will be removed in a future version. Please use 'date_format' instead, or read your data in as 'object' dtype and then call 'to_datetime'.\n",
      "  data = pd.read_csv('data.csv', parse_dates=['date_time'], date_parser=pd.to_datetime)\n"
     ]
    },
    {
     "data": {
      "text/html": [
       "<div>\n",
       "<style scoped>\n",
       "    .dataframe tbody tr th:only-of-type {\n",
       "        vertical-align: middle;\n",
       "    }\n",
       "\n",
       "    .dataframe tbody tr th {\n",
       "        vertical-align: top;\n",
       "    }\n",
       "\n",
       "    .dataframe thead th {\n",
       "        text-align: right;\n",
       "    }\n",
       "</style>\n",
       "<table border=\"1\" class=\"dataframe\">\n",
       "  <thead>\n",
       "    <tr style=\"text-align: right;\">\n",
       "      <th></th>\n",
       "      <th>date_time</th>\n",
       "      <th>zone_id</th>\n",
       "      <th>banner_id</th>\n",
       "      <th>oaid_hash</th>\n",
       "      <th>campaign_clicks</th>\n",
       "      <th>os_id</th>\n",
       "      <th>country_id</th>\n",
       "      <th>banner_id0</th>\n",
       "      <th>rate0</th>\n",
       "      <th>g0</th>\n",
       "      <th>coeff_sum0</th>\n",
       "      <th>banner_id1</th>\n",
       "      <th>rate1</th>\n",
       "      <th>g1</th>\n",
       "      <th>coeff_sum1</th>\n",
       "      <th>impressions</th>\n",
       "      <th>clicks</th>\n",
       "    </tr>\n",
       "  </thead>\n",
       "  <tbody>\n",
       "    <tr>\n",
       "      <th>0</th>\n",
       "      <td>2021-09-27 00:01:30</td>\n",
       "      <td>0</td>\n",
       "      <td>0</td>\n",
       "      <td>5664530014561852622</td>\n",
       "      <td>0</td>\n",
       "      <td>0</td>\n",
       "      <td>0</td>\n",
       "      <td>1240</td>\n",
       "      <td>0.067</td>\n",
       "      <td>0.035016</td>\n",
       "      <td>-7.268846</td>\n",
       "      <td>0</td>\n",
       "      <td>0.010</td>\n",
       "      <td>0.049516</td>\n",
       "      <td>-5.369901</td>\n",
       "      <td>1</td>\n",
       "      <td>1</td>\n",
       "    </tr>\n",
       "    <tr>\n",
       "      <th>1</th>\n",
       "      <td>2021-09-26 22:54:49</td>\n",
       "      <td>1</td>\n",
       "      <td>1</td>\n",
       "      <td>5186611064559013950</td>\n",
       "      <td>0</td>\n",
       "      <td>0</td>\n",
       "      <td>1</td>\n",
       "      <td>1</td>\n",
       "      <td>0.002</td>\n",
       "      <td>0.054298</td>\n",
       "      <td>-2.657477</td>\n",
       "      <td>269</td>\n",
       "      <td>0.004</td>\n",
       "      <td>0.031942</td>\n",
       "      <td>-4.449220</td>\n",
       "      <td>1</td>\n",
       "      <td>1</td>\n",
       "    </tr>\n",
       "    <tr>\n",
       "      <th>2</th>\n",
       "      <td>2021-09-26 23:57:20</td>\n",
       "      <td>2</td>\n",
       "      <td>2</td>\n",
       "      <td>2215519569292448030</td>\n",
       "      <td>3</td>\n",
       "      <td>0</td>\n",
       "      <td>0</td>\n",
       "      <td>2</td>\n",
       "      <td>0.014</td>\n",
       "      <td>0.014096</td>\n",
       "      <td>-3.824875</td>\n",
       "      <td>21</td>\n",
       "      <td>0.014</td>\n",
       "      <td>0.014906</td>\n",
       "      <td>-3.939309</td>\n",
       "      <td>1</td>\n",
       "      <td>1</td>\n",
       "    </tr>\n",
       "    <tr>\n",
       "      <th>3</th>\n",
       "      <td>2021-09-27 00:04:30</td>\n",
       "      <td>3</td>\n",
       "      <td>3</td>\n",
       "      <td>6262169206735077204</td>\n",
       "      <td>0</td>\n",
       "      <td>1</td>\n",
       "      <td>1</td>\n",
       "      <td>3</td>\n",
       "      <td>0.012</td>\n",
       "      <td>0.015232</td>\n",
       "      <td>-3.461357</td>\n",
       "      <td>99</td>\n",
       "      <td>0.006</td>\n",
       "      <td>0.050671</td>\n",
       "      <td>-3.418403</td>\n",
       "      <td>1</td>\n",
       "      <td>1</td>\n",
       "    </tr>\n",
       "    <tr>\n",
       "      <th>4</th>\n",
       "      <td>2021-09-27 00:06:21</td>\n",
       "      <td>4</td>\n",
       "      <td>4</td>\n",
       "      <td>4778985830203613115</td>\n",
       "      <td>0</td>\n",
       "      <td>1</td>\n",
       "      <td>0</td>\n",
       "      <td>4</td>\n",
       "      <td>0.019</td>\n",
       "      <td>0.051265</td>\n",
       "      <td>-4.009026</td>\n",
       "      <td>11464230</td>\n",
       "      <td>6.790</td>\n",
       "      <td>0.032005</td>\n",
       "      <td>-2.828797</td>\n",
       "      <td>1</td>\n",
       "      <td>1</td>\n",
       "    </tr>\n",
       "  </tbody>\n",
       "</table>\n",
       "</div>"
      ],
      "text/plain": [
       "            date_time  zone_id  banner_id            oaid_hash  \\\n",
       "0 2021-09-27 00:01:30        0          0  5664530014561852622   \n",
       "1 2021-09-26 22:54:49        1          1  5186611064559013950   \n",
       "2 2021-09-26 23:57:20        2          2  2215519569292448030   \n",
       "3 2021-09-27 00:04:30        3          3  6262169206735077204   \n",
       "4 2021-09-27 00:06:21        4          4  4778985830203613115   \n",
       "\n",
       "   campaign_clicks  os_id  country_id  banner_id0  rate0        g0  \\\n",
       "0                0      0           0        1240  0.067  0.035016   \n",
       "1                0      0           1           1  0.002  0.054298   \n",
       "2                3      0           0           2  0.014  0.014096   \n",
       "3                0      1           1           3  0.012  0.015232   \n",
       "4                0      1           0           4  0.019  0.051265   \n",
       "\n",
       "   coeff_sum0  banner_id1  rate1        g1  coeff_sum1  impressions  clicks  \n",
       "0   -7.268846           0  0.010  0.049516   -5.369901            1       1  \n",
       "1   -2.657477         269  0.004  0.031942   -4.449220            1       1  \n",
       "2   -3.824875          21  0.014  0.014906   -3.939309            1       1  \n",
       "3   -3.461357          99  0.006  0.050671   -3.418403            1       1  \n",
       "4   -4.009026    11464230  6.790  0.032005   -2.828797            1       1  "
      ]
     },
     "execution_count": 2,
     "metadata": {},
     "output_type": "execute_result"
    }
   ],
   "source": [
    "data = pd.read_csv('data.csv', parse_dates=['date_time'], date_parser=pd.to_datetime)\n",
    "data.head()"
   ]
  },
  {
   "cell_type": "code",
   "execution_count": 3,
   "metadata": {},
   "outputs": [],
   "source": [
    "data.drop(['oaid_hash', 'banner_id0', 'banner_id1', 'rate0', 'rate1', 'g0', 'g1', 'coeff_sum0', 'coeff_sum1'], axis=1, inplace=True)"
   ]
  },
  {
   "cell_type": "code",
   "execution_count": 4,
   "metadata": {
    "scrolled": true
   },
   "outputs": [
    {
     "data": {
      "text/html": [
       "<div>\n",
       "<style scoped>\n",
       "    .dataframe tbody tr th:only-of-type {\n",
       "        vertical-align: middle;\n",
       "    }\n",
       "\n",
       "    .dataframe tbody tr th {\n",
       "        vertical-align: top;\n",
       "    }\n",
       "\n",
       "    .dataframe thead th {\n",
       "        text-align: right;\n",
       "    }\n",
       "</style>\n",
       "<table border=\"1\" class=\"dataframe\">\n",
       "  <thead>\n",
       "    <tr style=\"text-align: right;\">\n",
       "      <th></th>\n",
       "      <th>date_time</th>\n",
       "      <th>zone_id</th>\n",
       "      <th>banner_id</th>\n",
       "      <th>campaign_clicks</th>\n",
       "      <th>os_id</th>\n",
       "      <th>country_id</th>\n",
       "      <th>impressions</th>\n",
       "      <th>clicks</th>\n",
       "    </tr>\n",
       "  </thead>\n",
       "  <tbody>\n",
       "    <tr>\n",
       "      <th>0</th>\n",
       "      <td>2021-09-27 00:01:30</td>\n",
       "      <td>0</td>\n",
       "      <td>0</td>\n",
       "      <td>0</td>\n",
       "      <td>0</td>\n",
       "      <td>0</td>\n",
       "      <td>1</td>\n",
       "      <td>1</td>\n",
       "    </tr>\n",
       "    <tr>\n",
       "      <th>1</th>\n",
       "      <td>2021-09-26 22:54:49</td>\n",
       "      <td>1</td>\n",
       "      <td>1</td>\n",
       "      <td>0</td>\n",
       "      <td>0</td>\n",
       "      <td>1</td>\n",
       "      <td>1</td>\n",
       "      <td>1</td>\n",
       "    </tr>\n",
       "    <tr>\n",
       "      <th>2</th>\n",
       "      <td>2021-09-26 23:57:20</td>\n",
       "      <td>2</td>\n",
       "      <td>2</td>\n",
       "      <td>3</td>\n",
       "      <td>0</td>\n",
       "      <td>0</td>\n",
       "      <td>1</td>\n",
       "      <td>1</td>\n",
       "    </tr>\n",
       "    <tr>\n",
       "      <th>3</th>\n",
       "      <td>2021-09-27 00:04:30</td>\n",
       "      <td>3</td>\n",
       "      <td>3</td>\n",
       "      <td>0</td>\n",
       "      <td>1</td>\n",
       "      <td>1</td>\n",
       "      <td>1</td>\n",
       "      <td>1</td>\n",
       "    </tr>\n",
       "    <tr>\n",
       "      <th>4</th>\n",
       "      <td>2021-09-27 00:06:21</td>\n",
       "      <td>4</td>\n",
       "      <td>4</td>\n",
       "      <td>0</td>\n",
       "      <td>1</td>\n",
       "      <td>0</td>\n",
       "      <td>1</td>\n",
       "      <td>1</td>\n",
       "    </tr>\n",
       "  </tbody>\n",
       "</table>\n",
       "</div>"
      ],
      "text/plain": [
       "            date_time  zone_id  banner_id  campaign_clicks  os_id  country_id  \\\n",
       "0 2021-09-27 00:01:30        0          0                0      0           0   \n",
       "1 2021-09-26 22:54:49        1          1                0      0           1   \n",
       "2 2021-09-26 23:57:20        2          2                3      0           0   \n",
       "3 2021-09-27 00:04:30        3          3                0      1           1   \n",
       "4 2021-09-27 00:06:21        4          4                0      1           0   \n",
       "\n",
       "   impressions  clicks  \n",
       "0            1       1  \n",
       "1            1       1  \n",
       "2            1       1  \n",
       "3            1       1  \n",
       "4            1       1  "
      ]
     },
     "execution_count": 4,
     "metadata": {},
     "output_type": "execute_result"
    }
   ],
   "source": [
    "data.head()"
   ]
  },
  {
   "cell_type": "markdown",
   "metadata": {},
   "source": [
    "Изучим наши данные с разных сторон"
   ]
  },
  {
   "cell_type": "code",
   "execution_count": 5,
   "metadata": {},
   "outputs": [
    {
     "data": {
      "text/plain": [
       "date_time          False\n",
       "zone_id            False\n",
       "banner_id          False\n",
       "campaign_clicks    False\n",
       "os_id              False\n",
       "country_id         False\n",
       "impressions        False\n",
       "clicks             False\n",
       "dtype: bool"
      ]
     },
     "execution_count": 5,
     "metadata": {},
     "output_type": "execute_result"
    }
   ],
   "source": [
    "data.isna().any()"
   ]
  },
  {
   "cell_type": "code",
   "execution_count": 6,
   "metadata": {},
   "outputs": [
    {
     "data": {
      "text/plain": [
       "date_time          604712\n",
       "zone_id              3444\n",
       "banner_id            1633\n",
       "campaign_clicks       822\n",
       "os_id                  11\n",
       "country_id             17\n",
       "impressions             1\n",
       "clicks                  2\n",
       "dtype: int64"
      ]
     },
     "execution_count": 6,
     "metadata": {},
     "output_type": "execute_result"
    }
   ],
   "source": [
    "data.nunique()"
   ]
  },
  {
   "cell_type": "code",
   "execution_count": 7,
   "metadata": {
    "scrolled": false
   },
   "outputs": [
    {
     "data": {
      "image/png": "[encoded data removed]",
      "text/plain": [
       "<Figure size 1080x1080 with 7 Axes>"
      ]
     },
     "metadata": {
      "needs_background": "light"
     },
     "output_type": "display_data"
    }
   ],
   "source": [
    "plt.figure(figsize=(15,15))\n",
    "for i, feature in enumerate(data.columns.values[1:]):\n",
    "    plt.subplot(4, 2, 1+i)\n",
    "    plt.hist(data[feature])\n",
    "    plt.title(feature)\n",
    "plt.show()"
   ]
  },
  {
   "cell_type": "code",
   "execution_count": 8,
   "metadata": {
    "scrolled": true
   },
   "outputs": [
    {
     "data": {
      "text/plain": [
       "date_time\n",
       "2021-09-26    3102610\n",
       "2021-09-29    2420588\n",
       "2021-09-27    2367303\n",
       "2021-09-28    2307355\n",
       "2021-10-02    2128978\n",
       "2021-09-30    1851189\n",
       "2021-10-01    1643448\n",
       "2021-09-01          1\n",
       "Name: count, dtype: int64"
      ]
     },
     "execution_count": 8,
     "metadata": {},
     "output_type": "execute_result"
    }
   ],
   "source": [
    "data.date_time.dt.date.value_counts()"
   ]
  },
  {
   "cell_type": "code",
   "execution_count": 9,
   "metadata": {},
   "outputs": [
    {
     "data": {
      "text/plain": [
       "<AxesSubplot:>"
      ]
     },
     "execution_count": 9,
     "metadata": {},
     "output_type": "execute_result"
    },
    {
     "data": {
      "image/png": "[encoded data removed]",
      "text/plain": [
       "<Figure size 432x288 with 1 Axes>"
      ]
     },
     "metadata": {
      "needs_background": "light"
     },
     "output_type": "display_data"
    }
   ],
   "source": [
    "data.date_time.dt.hour.hist()"
   ]
  },
  {
   "cell_type": "markdown",
   "metadata": {},
   "source": [
    "Из всего этого можно сделать следующие выводы: \n",
    "\n",
    "1) Признак impressions -- константа\n",
    "\n",
    "2) Классы был клик/не было -- несбалансированны\n",
    "\n",
    "3) В фичах zone_id, banner_id, campaign_clicks, os_id есть классы с маленьким числом элементов\n",
    "\n",
    "4) В date_time есть 1 выброс\n",
    "\n",
    "5) Стоит добавить фичу \"час\""
   ]
  },
  {
   "cell_type": "code",
   "execution_count": 10,
   "metadata": {},
   "outputs": [],
   "source": [
    "data.pop('impressions')\n",
    "data = data[data['date_time'].dt.date != dt.date(2021, 9, 1)]  #Удалили выброс\n",
    "data['hour'] = data['date_time'].dt.hour #Добавили фичу час"
   ]
  },
  {
   "cell_type": "code",
   "execution_count": 11,
   "metadata": {},
   "outputs": [],
   "source": [
    "data = data.sort_values('date_time')"
   ]
  },
  {
   "cell_type": "code",
   "execution_count": 12,
   "metadata": {},
   "outputs": [
    {
     "name": "stdout",
     "output_type": "stream",
     "text": [
      "2128978 1643448 12049045\n"
     ]
    }
   ],
   "source": [
    "test = data[data['date_time'].dt.date == dt.date(2021, 10, 2)]\n",
    "val = data[data['date_time'].dt.date == dt.date(2021, 10, 1)]\n",
    "train = data[data['date_time'].dt.date < dt.date(2021, 10, 1)]\n",
    "print(len(test), len(val), len(train))"
   ]
  },
  {
   "cell_type": "code",
   "execution_count": 13,
   "metadata": {},
   "outputs": [
    {
     "data": {
      "text/plain": [
       "8423230    2021-09-26 00:00:00\n",
       "7683145    2021-09-26 00:00:00\n",
       "4647065    2021-09-26 00:00:00\n",
       "11536774   2021-09-26 00:00:00\n",
       "1442602    2021-09-26 00:00:00\n",
       "                   ...        \n",
       "9163452    2021-09-30 23:59:59\n",
       "13381233   2021-09-30 23:59:59\n",
       "15357035   2021-09-30 23:59:59\n",
       "5296942    2021-09-30 23:59:59\n",
       "6636311    2021-09-30 23:59:59\n",
       "Name: date_time, Length: 12049045, dtype: datetime64[ns]"
      ]
     },
     "execution_count": 13,
     "metadata": {},
     "output_type": "execute_result"
    }
   ],
   "source": [
    "test.pop('date_time')\n",
    "val.pop('date_time')\n",
    "train.pop('date_time')"
   ]
  },
  {
   "cell_type": "markdown",
   "metadata": {},
   "source": [
    "С помощью следующей функции преобразуем данные, чтобы их можно было скормить FFM модели"
   ]
  },
  {
   "cell_type": "code",
   "execution_count": 14,
   "metadata": {},
   "outputs": [],
   "source": [
    "###https://github.com/wngaw/blog/blob/master/xlearn_example/src/utils.py\n",
    "\n",
    "def _convert_to_ffm(path, df, type, target, numerics, categories, encoder):\n",
    "    # Flagging categorical and numerical fields\n",
    "    print('convert_to_ffm - START')\n",
    "    for x in numerics:\n",
    "        if(x not in encoder['catdict']):\n",
    "            print(f'UPDATING CATDICT: numeric field - {x}')\n",
    "            encoder['catdict'][x] = 0\n",
    "    for x in categories:\n",
    "        if(x not in encoder['catdict']):\n",
    "            print(f'UPDATING CATDICT: categorical field - {x}')\n",
    "            encoder['catdict'][x] = 1\n",
    "\n",
    "    nrows = df.shape[0]\n",
    "    with open(path + str(type) + \"_ffm.txt\", \"w\") as text_file:\n",
    "\n",
    "        # Looping over rows to convert each row to libffm format\n",
    "        for n, r in tqdm(enumerate(range(nrows))):\n",
    "            datastring = \"\"\n",
    "            datarow = df.iloc[r].to_dict()\n",
    "            datastring += str(int(datarow[target]))  # Set Target Variable here\n",
    "\n",
    "            # For numerical fields, we are creating a dummy field here\n",
    "            for i, x in enumerate(encoder['catdict'].keys()):\n",
    "                if(encoder['catdict'][x] == 0):\n",
    "                    # Not adding numerical values that are nan\n",
    "                    if math.isnan(datarow[x]) is not True:\n",
    "                        datastring = datastring + \" \"+str(i)+\":\" + str(i)+\":\" + str(datarow[x])\n",
    "                else:\n",
    "\n",
    "                    # For a new field appearing in a training example\n",
    "                    if(x not in encoder['catcodes']):\n",
    "                        #print(f'UPDATING CATCODES: categorical field - {x}')\n",
    "                        encoder['catcodes'][x] = {}\n",
    "                        encoder['currentcode'] += 1\n",
    "                        #print(f'UPDATING CATCODES: categorical value for field {x} - {datarow[x]}')\n",
    "                        encoder['catcodes'][x][datarow[x]] = encoder['currentcode']  # encoding the feature\n",
    "\n",
    "                    # For already encoded fields\n",
    "                    elif(datarow[x] not in encoder['catcodes'][x]):\n",
    "                        encoder['currentcode'] += 1\n",
    "                        #print(f'UPDATING CATCODES: categorical value for field {x} - {datarow[x]}')\n",
    "                        encoder['catcodes'][x][datarow[x]] = encoder['currentcode']  # encoding the feature\n",
    "\n",
    "                    code = encoder['catcodes'][x][datarow[x]]\n",
    "                    datastring = datastring + \" \"+str(i)+\":\" + str(int(code))+\":1\"\n",
    "\n",
    "            datastring += '\\n'\n",
    "            text_file.write(datastring)\n",
    "\n",
    "    return encoder"
   ]
  },
  {
   "cell_type": "code",
   "execution_count": 15,
   "metadata": {},
   "outputs": [],
   "source": [
    "categories = ['zone_id', 'banner_id', 'os_id', 'country_id', 'hour']\n",
    "numerics = []"
   ]
  },
  {
   "cell_type": "code",
   "execution_count": 16,
   "metadata": {},
   "outputs": [],
   "source": [
    "encoder = {\"currentcode\": 0,\n",
    "           \"catdict\": {},\n",
    "           \"catcodes\": {}}"
   ]
  },
  {
   "cell_type": "code",
   "execution_count": 17,
   "metadata": {},
   "outputs": [],
   "source": [
    "#encoder = _convert_to_ffm(\"\", train, \"train\", \"clicks\", numerics, categories, encoder)"
   ]
  },
  {
   "cell_type": "code",
   "execution_count": 18,
   "metadata": {},
   "outputs": [],
   "source": [
    "#encoder = _convert_to_ffm(\"\", val, \"val\", \"clicks\", numerics, categories, encoder)"
   ]
  },
  {
   "cell_type": "code",
   "execution_count": 19,
   "metadata": {},
   "outputs": [],
   "source": [
    "#encoder = _convert_to_ffm(\"\", test, \"test\", \"clicks\", numerics, categories, encoder)"
   ]
  },
  {
   "cell_type": "markdown",
   "metadata": {},
   "source": [
    "С помощью grid search подберем лучшие гиперпараметры"
   ]
  },
  {
   "cell_type": "code",
   "execution_count": 20,
   "metadata": {},
   "outputs": [],
   "source": [
    "ffm_model = xl.create_ffm()\n",
    "ffm_model.setTrain(\"train_ffm.txt\")\n",
    "ffm_model.setValidate(\"val_ffm.txt\")\n",
    "params_grid = {\"task\": [\"binary\"],\n",
    "               \"k\": [4, 6, 8],\n",
    "               \"lr\": [0.1],\n",
    "               \"lambda\": [0.001, 0.0001],\n",
    "               \"metric\": [\"auc\"],\n",
    "               \"epoch\": [30]}"
   ]
  },
  {
   "cell_type": "code",
   "execution_count": 21,
   "metadata": {},
   "outputs": [
    {
     "name": "stdout",
     "output_type": "stream",
     "text": [
      "{'epoch': 30, 'k': 4, 'lambda': 0.001, 'lr': 0.1, 'metric': 'auc', 'task': 'binary'}\n",
      "\u001b[32m\u001b[1m----------------------------------------------------------------------------------------------\n",
      "           _\n",
      "          | |\n",
      "     __  _| |     ___  __ _ _ __ _ __\n",
      "     \\ \\/ / |    / _ \\/ _` | '__| '_ \\ \n",
      "      >  <| |___|  __/ (_| | |  | | | |\n",
      "     /_/\\_\\_____/\\___|\\__,_|_|  |_| |_|\n",
      "\n",
      "        xLearn   -- 0.40 Version --\n",
      "----------------------------------------------------------------------------------------------\n",
      "\n",
      "\u001b[39m\u001b[0m\u001b[32m[------------] \u001b[0mxLearn uses 4 threads for training task.\n",
      "\u001b[32m\u001b[1m[ ACTION     ] Read Problem ...\u001b[0m\n",
      "\u001b[32m[------------] \u001b[0mFirst check if the text file has been already converted to binary format.\n",
      "\u001b[32m[------------] \u001b[0mBinary file (train_ffm.txt.bin) found. Skip converting text to binary.\n",
      "\u001b[32m[------------] \u001b[0mFirst check if the text file has been already converted to binary format.\n",
      "\u001b[32m[------------] \u001b[0mBinary file (val_ffm.txt.bin) found. Skip converting text to binary.\n",
      "\u001b[32m[------------] \u001b[0mNumber of Feature: 4969\n",
      "\u001b[32m[------------] \u001b[0mNumber of Field: 5\n",
      "\u001b[32m[------------] \u001b[0mTime cost for reading problem: 12.27 (sec)\n",
      "\u001b[32m\u001b[1m[ ACTION     ] Initialize model ...\u001b[0m\n",
      "\u001b[32m[------------] \u001b[0mModel size: 815.23 KB\n",
      "\u001b[32m[------------] \u001b[0mTime cost for model initial: 0.00 (sec)\n",
      "\u001b[32m\u001b[1m[ ACTION     ] Start to train ...\u001b[0m\n",
      "\u001b[32m[------------]\u001b[0m Epoch      Train log_loss       Test log_loss            Test AUC     Time cost (sec)\n",
      "\u001b[32m[ \u001b[0m   3%\u001b[32m      ]\u001b[0m     1            0.100403            0.155423            0.783464                3.48\n",
      "\u001b[32m[ \u001b[0m   6%\u001b[32m      ]\u001b[0m     2            0.099628            0.155009            0.783979                3.48\n",
      "\u001b[32m[ \u001b[0m  10%\u001b[32m      ]\u001b[0m     3            0.099454            0.154647            0.784662                3.46\n",
      "\u001b[32m[ \u001b[0m  13%\u001b[32m      ]\u001b[0m     4            0.099365            0.154572            0.784400                3.54\n",
      "\u001b[32m[ \u001b[0m  16%\u001b[32m      ]\u001b[0m     5            0.099307            0.154632            0.784992                3.45\n",
      "\u001b[32m[ \u001b[0m  20%\u001b[32m      ]\u001b[0m     6            0.099255            0.154631            0.784827                3.41\n",
      "\u001b[32m[ \u001b[0m  23%\u001b[32m      ]\u001b[0m     7            0.099215            0.154652            0.784712                3.17\n",
      "\u001b[32m[ \u001b[0m  26%\u001b[32m      ]\u001b[0m     8            0.099194            0.154409            0.785046                3.17\n",
      "\u001b[32m[ \u001b[0m  30%\u001b[32m      ]\u001b[0m     9            0.099164            0.154587            0.785122                3.23\n",
      "\u001b[32m[ \u001b[0m  33%\u001b[32m      ]\u001b[0m    10            0.099113            0.154502            0.784842                3.44\n",
      "\u001b[32m[ \u001b[0m  36%\u001b[32m      ]\u001b[0m    11            0.099102            0.154607            0.784843                3.66\n",
      "\u001b[32m[ \u001b[0m  40%\u001b[32m      ]\u001b[0m    12            0.099084            0.154473            0.784939                3.67\n",
      "\u001b[32m[ \u001b[0m  43%\u001b[32m      ]\u001b[0m    13            0.099059            0.154402            0.785235                3.55\n",
      "\u001b[32m[ \u001b[0m  46%\u001b[32m      ]\u001b[0m    14            0.099047            0.154405            0.785254                3.46\n",
      "\u001b[32m[ \u001b[0m  50%\u001b[32m      ]\u001b[0m    15            0.099025            0.154463            0.785271                3.55\n",
      "\u001b[32m[ \u001b[0m  53%\u001b[32m      ]\u001b[0m    16            0.099005            0.154410            0.785305                3.47\n",
      "\u001b[32m[ \u001b[0m  56%\u001b[32m      ]\u001b[0m    17            0.098984            0.154336            0.785402                3.45\n",
      "\u001b[32m[ \u001b[0m  60%\u001b[32m      ]\u001b[0m    18            0.098999            0.154213            0.785606                3.46\n",
      "\u001b[32m[ \u001b[0m  63%\u001b[32m      ]\u001b[0m    19            0.098988            0.154319            0.785452                3.46\n",
      "\u001b[32m[ \u001b[0m  66%\u001b[32m      ]\u001b[0m    20            0.098952            0.154470            0.785397                3.48\n",
      "\u001b[32m[ \u001b[0m  70%\u001b[32m      ]\u001b[0m    21            0.098951            0.154327            0.785537                3.68\n",
      "\u001b[32m[ \u001b[0m  73%\u001b[32m      ]\u001b[0m    22            0.098946            0.154251            0.785584                4.32\n",
      "\u001b[32m[ \u001b[0m  76%\u001b[32m      ]\u001b[0m    23            0.098929            0.154306            0.785688                4.53\n",
      "\u001b[32m[ \u001b[0m  80%\u001b[32m      ]\u001b[0m    24            0.098916            0.154320            0.785581                4.45\n",
      "\u001b[32m[ \u001b[0m  83%\u001b[32m      ]\u001b[0m    25            0.098914            0.154262            0.785612                4.45\n",
      "\u001b[32m[ \u001b[0m  86%\u001b[32m      ]\u001b[0m    26            0.098902            0.154192            0.785698                4.24\n",
      "\u001b[32m[ \u001b[0m  90%\u001b[32m      ]\u001b[0m    27            0.098893            0.154284            0.785521                4.13\n",
      "\u001b[32m[ \u001b[0m  93%\u001b[32m      ]\u001b[0m    28            0.098874            0.154290            0.785470                4.43\n",
      "\u001b[32m[ \u001b[0m  96%\u001b[32m      ]\u001b[0m    29            0.098867            0.154309            0.785524                4.40\n",
      "\u001b[32m[ \u001b[0m 100%\u001b[32m      ]\u001b[0m    30            0.098875            0.154233            0.785510                4.48\n",
      "\u001b[32m\u001b[1m[ ACTION     ] Early-stopping at epoch 26, best AUC: 0.785698\u001b[0m\n",
      "\u001b[32m\u001b[1m[ ACTION     ] Start to save model ...\u001b[0m\n",
      "\u001b[32m[------------] \u001b[0mModel file: model.out\n",
      "\u001b[32m[------------] \u001b[0mTime cost for saving model: 0.00 (sec)\n",
      "\u001b[32m\u001b[1m[ ACTION     ] Finish training\u001b[0m\n",
      "\u001b[32m\u001b[1m[ ACTION     ] Clear the xLearn environment ...\u001b[0m\n",
      "{'epoch': 30, 'k': 4, 'lambda': 0.0001, 'lr': 0.1, 'metric': 'auc', 'task': 'binary'}\n",
      "\u001b[32m\u001b[1m[------------] Total time cost: 124.46 (sec)\u001b[0m\n",
      "\u001b[32m\u001b[1m----------------------------------------------------------------------------------------------\n",
      "           _\n",
      "          | |\n",
      "     __  _| |     ___  __ _ _ __ _ __\n",
      "     \\ \\/ / |    / _ \\/ _` | '__| '_ \\ \n",
      "      >  <| |___|  __/ (_| | |  | | | |\n",
      "     /_/\\_\\_____/\\___|\\__,_|_|  |_| |_|\n",
      "\n",
      "        xLearn   -- 0.40 Version --\n",
      "----------------------------------------------------------------------------------------------\n",
      "\n",
      "\u001b[39m\u001b[0m\u001b[32m[------------] \u001b[0mxLearn uses 4 threads for training task.\n",
      "\u001b[32m\u001b[1m[ ACTION     ] Read Problem ...\u001b[0m\n",
      "\u001b[32m[------------] \u001b[0mFirst check if the text file has been already converted to binary format.\n",
      "\u001b[32m[------------] \u001b[0mBinary file (train_ffm.txt.bin) found. Skip converting text to binary.\n",
      "\u001b[32m[------------] \u001b[0mFirst check if the text file has been already converted to binary format.\n",
      "\u001b[32m[------------] \u001b[0mBinary file (val_ffm.txt.bin) found. Skip converting text to binary.\n",
      "\u001b[32m[------------] \u001b[0mNumber of Feature: 4969\n",
      "\u001b[32m[------------] \u001b[0mNumber of Field: 5\n",
      "\u001b[32m[------------] \u001b[0mTime cost for reading problem: 22.88 (sec)\n",
      "\u001b[32m\u001b[1m[ ACTION     ] Initialize model ...\u001b[0m\n",
      "\u001b[32m[------------] \u001b[0mModel size: 815.23 KB\n",
      "\u001b[32m[------------] \u001b[0mTime cost for model initial: 0.00 (sec)\n",
      "\u001b[32m\u001b[1m[ ACTION     ] Start to train ...\u001b[0m\n",
      "\u001b[32m[------------]\u001b[0m Epoch      Train log_loss       Test log_loss            Test AUC     Time cost (sec)\n",
      "\u001b[32m[ \u001b[0m   3%\u001b[32m      ]\u001b[0m     1            0.098469            0.150770            0.796230                4.03\n",
      "\u001b[32m[ \u001b[0m   6%\u001b[32m      ]\u001b[0m     2            0.097319            0.150126            0.799118                4.04\n",
      "\u001b[32m[ \u001b[0m  10%\u001b[32m      ]\u001b[0m     3            0.096983            0.149620            0.800259                4.66\n",
      "\u001b[32m[ \u001b[0m  13%\u001b[32m      ]\u001b[0m     4            0.096807            0.149723            0.800315                3.21\n",
      "\u001b[32m[ \u001b[0m  16%\u001b[32m      ]\u001b[0m     5            0.096643            0.149651            0.800528                3.40\n",
      "\u001b[32m[ \u001b[0m  20%\u001b[32m      ]\u001b[0m     6            0.096548            0.149855            0.800023                3.58\n",
      "\u001b[32m[ \u001b[0m  23%\u001b[32m      ]\u001b[0m     7            0.096460            0.149627            0.800370                3.61\n",
      "\u001b[32m[ \u001b[0m  26%\u001b[32m      ]\u001b[0m     8            0.096369            0.149924            0.799865                3.69\n",
      "\u001b[32m[ \u001b[0m  30%\u001b[32m      ]\u001b[0m     9            0.096314            0.149476            0.800351                3.66\n",
      "\u001b[32m[ \u001b[0m  33%\u001b[32m      ]\u001b[0m    10            0.096269            0.149565            0.800154                3.61\n",
      "\u001b[32m[ \u001b[0m  36%\u001b[32m      ]\u001b[0m    11            0.096205            0.149499            0.800288                3.54\n",
      "\u001b[32m[ \u001b[0m  40%\u001b[32m      ]\u001b[0m    12            0.096179            0.149684            0.799995                3.53\n",
      "\u001b[32m[ \u001b[0m  43%\u001b[32m      ]\u001b[0m    13            0.096142            0.149502            0.800241                3.53\n",
      "\u001b[32m[ \u001b[0m  46%\u001b[32m      ]\u001b[0m    14            0.096092            0.149508            0.800194                3.73\n",
      "\u001b[32m[ \u001b[0m  50%\u001b[32m      ]\u001b[0m    15            0.096071            0.149532            0.800224                3.71\n",
      "\u001b[32m[ \u001b[0m  53%\u001b[32m      ]\u001b[0m    16            0.096041            0.149612            0.800054                3.78\n",
      "\u001b[32m[ \u001b[0m  56%\u001b[32m      ]\u001b[0m    17            0.096023            0.149506            0.800137                3.62\n",
      "\u001b[32m[ \u001b[0m  60%\u001b[32m      ]\u001b[0m    18            0.096003            0.149639            0.799943                3.52\n",
      "\u001b[32m[ \u001b[0m  63%\u001b[32m      ]\u001b[0m    19            0.095973            0.149662            0.799667                3.51\n",
      "\u001b[32m[ \u001b[0m  66%\u001b[32m      ]\u001b[0m    20            0.095960            0.149661            0.799807                3.88\n",
      "\u001b[32m[ \u001b[0m  70%\u001b[32m      ]\u001b[0m    21            0.095912            0.149616            0.799760                3.93\n",
      "\u001b[32m[ \u001b[0m  73%\u001b[32m      ]\u001b[0m    22            0.095905            0.149661            0.799706                3.56\n",
      "\u001b[32m[ \u001b[0m  76%\u001b[32m      ]\u001b[0m    23            0.095897            0.149691            0.799605                3.54\n",
      "\u001b[32m\u001b[1m[ ACTION     ] Early-stopping at epoch 5, best AUC: 0.800528\u001b[0m\n",
      "\u001b[32m\u001b[1m[ ACTION     ] Start to save model ...\u001b[0m\n",
      "\u001b[32m[------------] \u001b[0mModel file: model.out\n",
      "\u001b[32m[------------] \u001b[0mTime cost for saving model: 0.00 (sec)\n",
      "\u001b[32m\u001b[1m[ ACTION     ] Finish training\u001b[0m\n",
      "\u001b[32m\u001b[1m[ ACTION     ] Clear the xLearn environment ...\u001b[0m\n",
      "{'epoch': 30, 'k': 6, 'lambda': 0.001, 'lr': 0.1, 'metric': 'auc', 'task': 'binary'}\n",
      "\u001b[32m\u001b[1m[------------] Total time cost: 107.90 (sec)\u001b[0m\n",
      "\u001b[32m\u001b[1m----------------------------------------------------------------------------------------------\n",
      "           _\n",
      "          | |\n",
      "     __  _| |     ___  __ _ _ __ _ __\n",
      "     \\ \\/ / |    / _ \\/ _` | '__| '_ \\ \n",
      "      >  <| |___|  __/ (_| | |  | | | |\n",
      "     /_/\\_\\_____/\\___|\\__,_|_|  |_| |_|\n",
      "\n",
      "        xLearn   -- 0.40 Version --\n",
      "----------------------------------------------------------------------------------------------\n",
      "\n",
      "\u001b[39m\u001b[0m\u001b[32m[------------] \u001b[0mxLearn uses 4 threads for training task.\n",
      "\u001b[32m\u001b[1m[ ACTION     ] Read Problem ...\u001b[0m\n",
      "\u001b[32m[------------] \u001b[0mFirst check if the text file has been already converted to binary format.\n",
      "\u001b[32m[------------] \u001b[0mBinary file (train_ffm.txt.bin) found. Skip converting text to binary.\n"
     ]
    },
    {
     "name": "stdout",
     "output_type": "stream",
     "text": [
      "\u001b[32m[------------] \u001b[0mFirst check if the text file has been already converted to binary format.\n",
      "\u001b[32m[------------] \u001b[0mBinary file (val_ffm.txt.bin) found. Skip converting text to binary.\n",
      "\u001b[32m[------------] \u001b[0mNumber of Feature: 4969\n",
      "\u001b[32m[------------] \u001b[0mNumber of Field: 5\n",
      "\u001b[32m[------------] \u001b[0mTime cost for reading problem: 8.93 (sec)\n",
      "\u001b[32m\u001b[1m[ ACTION     ] Initialize model ...\u001b[0m\n",
      "\u001b[32m[------------] \u001b[0mModel size: 1.55 MB\n",
      "\u001b[32m[------------] \u001b[0mTime cost for model initial: 0.00 (sec)\n",
      "\u001b[32m\u001b[1m[ ACTION     ] Start to train ...\u001b[0m\n",
      "\u001b[32m[------------]\u001b[0m Epoch      Train log_loss       Test log_loss            Test AUC     Time cost (sec)\n",
      "\u001b[32m[ \u001b[0m   3%\u001b[32m      ]\u001b[0m     1            0.100362            0.155097            0.784064                4.04\n",
      "\u001b[32m[ \u001b[0m   6%\u001b[32m      ]\u001b[0m     2            0.099579            0.155087            0.784095                4.51\n",
      "\u001b[32m[ \u001b[0m  10%\u001b[32m      ]\u001b[0m     3            0.099421            0.154657            0.784799                4.76\n",
      "\u001b[32m[ \u001b[0m  13%\u001b[32m      ]\u001b[0m     4            0.099346            0.154861            0.784873                4.05\n",
      "\u001b[32m[ \u001b[0m  16%\u001b[32m      ]\u001b[0m     5            0.099283            0.154448            0.785279                4.06\n",
      "\u001b[32m[ \u001b[0m  20%\u001b[32m      ]\u001b[0m     6            0.099218            0.154661            0.785153                4.25\n",
      "\u001b[32m[ \u001b[0m  23%\u001b[32m      ]\u001b[0m     7            0.099181            0.154774            0.784920                3.84\n",
      "\u001b[32m[ \u001b[0m  26%\u001b[32m      ]\u001b[0m     8            0.099134            0.154675            0.785132                3.77\n",
      "\u001b[32m[ \u001b[0m  30%\u001b[32m      ]\u001b[0m     9            0.099108            0.154446            0.785372                4.13\n",
      "\u001b[32m[ \u001b[0m  33%\u001b[32m      ]\u001b[0m    10            0.099083            0.154363            0.785388                4.53\n",
      "\u001b[32m[ \u001b[0m  36%\u001b[32m      ]\u001b[0m    11            0.099043            0.154371            0.785557                4.72\n",
      "\u001b[32m[ \u001b[0m  40%\u001b[32m      ]\u001b[0m    12            0.099030            0.154453            0.785530                5.20\n",
      "\u001b[32m[ \u001b[0m  43%\u001b[32m      ]\u001b[0m    13            0.099002            0.154372            0.785528                4.51\n",
      "\u001b[32m[ \u001b[0m  46%\u001b[32m      ]\u001b[0m    14            0.098992            0.154366            0.785526                4.27\n",
      "\u001b[32m\u001b[1m[ ACTION     ] Early-stopping at epoch 11, best AUC: 0.785557\u001b[0m\n",
      "\u001b[32m\u001b[1m[ ACTION     ] Start to save model ...\u001b[0m\n",
      "\u001b[32m[------------] \u001b[0mModel file: model.out\n",
      "\u001b[32m[------------] \u001b[0mTime cost for saving model: 0.00 (sec)\n",
      "\u001b[32m\u001b[1m[ ACTION     ] Finish training\u001b[0m\n",
      "\u001b[32m\u001b[1m[ ACTION     ] Clear the xLearn environment ...\u001b[0m\n",
      "{'epoch': 30, 'k': 6, 'lambda': 0.0001, 'lr': 0.1, 'metric': 'auc', 'task': 'binary'}\n",
      "\u001b[32m\u001b[1m[------------] Total time cost: 69.60 (sec)\u001b[0m\n",
      "\u001b[32m\u001b[1m----------------------------------------------------------------------------------------------\n",
      "           _\n",
      "          | |\n",
      "     __  _| |     ___  __ _ _ __ _ __\n",
      "     \\ \\/ / |    / _ \\/ _` | '__| '_ \\ \n",
      "      >  <| |___|  __/ (_| | |  | | | |\n",
      "     /_/\\_\\_____/\\___|\\__,_|_|  |_| |_|\n",
      "\n",
      "        xLearn   -- 0.40 Version --\n",
      "----------------------------------------------------------------------------------------------\n",
      "\n",
      "\u001b[39m\u001b[0m\u001b[32m[------------] \u001b[0mxLearn uses 4 threads for training task.\n",
      "\u001b[32m\u001b[1m[ ACTION     ] Read Problem ...\u001b[0m\n",
      "\u001b[32m[------------] \u001b[0mFirst check if the text file has been already converted to binary format.\n",
      "\u001b[32m[------------] \u001b[0mBinary file (train_ffm.txt.bin) found. Skip converting text to binary.\n",
      "\u001b[32m[------------] \u001b[0mFirst check if the text file has been already converted to binary format.\n",
      "\u001b[32m[------------] \u001b[0mBinary file (val_ffm.txt.bin) found. Skip converting text to binary.\n",
      "\u001b[32m[------------] \u001b[0mNumber of Feature: 4969\n",
      "\u001b[32m[------------] \u001b[0mNumber of Field: 5\n",
      "\u001b[32m[------------] \u001b[0mTime cost for reading problem: 9.95 (sec)\n",
      "\u001b[32m\u001b[1m[ ACTION     ] Initialize model ...\u001b[0m\n",
      "\u001b[32m[------------] \u001b[0mModel size: 1.55 MB\n",
      "\u001b[32m[------------] \u001b[0mTime cost for model initial: 0.00 (sec)\n",
      "\u001b[32m\u001b[1m[ ACTION     ] Start to train ...\u001b[0m\n",
      "\u001b[32m[------------]\u001b[0m Epoch      Train log_loss       Test log_loss            Test AUC     Time cost (sec)\n",
      "\u001b[32m[ \u001b[0m   3%\u001b[32m      ]\u001b[0m     1            0.098364            0.150262            0.797315                3.82\n",
      "\u001b[32m[ \u001b[0m   6%\u001b[32m      ]\u001b[0m     2            0.097245            0.149763            0.799781                4.32\n",
      "\u001b[32m[ \u001b[0m  10%\u001b[32m      ]\u001b[0m     3            0.096891            0.149177            0.800428                3.69\n",
      "\u001b[32m[ \u001b[0m  13%\u001b[32m      ]\u001b[0m     4            0.096679            0.149487            0.800384                4.18\n",
      "\u001b[32m[ \u001b[0m  16%\u001b[32m      ]\u001b[0m     5            0.096556            0.149267            0.801173                4.18\n",
      "\u001b[32m[ \u001b[0m  20%\u001b[32m      ]\u001b[0m     6            0.096451            0.149508            0.800689                3.69\n",
      "\u001b[32m[ \u001b[0m  23%\u001b[32m      ]\u001b[0m     7            0.096336            0.149388            0.800426                3.69\n",
      "\u001b[32m[ \u001b[0m  26%\u001b[32m      ]\u001b[0m     8            0.096287            0.149339            0.800426                3.91\n",
      "\u001b[32m\u001b[1m[ ACTION     ] Early-stopping at epoch 5, best AUC: 0.801173\u001b[0m\n",
      "\u001b[32m\u001b[1m[ ACTION     ] Start to save model ...\u001b[0m\n",
      "\u001b[32m[------------] \u001b[0mModel file: model.out\n",
      "\u001b[32m[------------] \u001b[0mTime cost for saving model: 0.00 (sec)\n",
      "\u001b[32m\u001b[1m[ ACTION     ] Finish training\u001b[0m\n",
      "\u001b[32m\u001b[1m[ ACTION     ] Clear the xLearn environment ...\u001b[0m\n",
      "{'epoch': 30, 'k': 8, 'lambda': 0.001, 'lr': 0.1, 'metric': 'auc', 'task': 'binary'}\n",
      "\u001b[32m\u001b[1m[------------] Total time cost: 41.44 (sec)\u001b[0m\n",
      "\u001b[32m\u001b[1m----------------------------------------------------------------------------------------------\n",
      "           _\n",
      "          | |\n",
      "     __  _| |     ___  __ _ _ __ _ __\n",
      "     \\ \\/ / |    / _ \\/ _` | '__| '_ \\ \n",
      "      >  <| |___|  __/ (_| | |  | | | |\n",
      "     /_/\\_\\_____/\\___|\\__,_|_|  |_| |_|\n",
      "\n",
      "        xLearn   -- 0.40 Version --\n",
      "----------------------------------------------------------------------------------------------\n",
      "\n",
      "\u001b[39m\u001b[0m\u001b[32m[------------] \u001b[0mxLearn uses 4 threads for training task.\n",
      "\u001b[32m\u001b[1m[ ACTION     ] Read Problem ...\u001b[0m\n",
      "\u001b[32m[------------] \u001b[0mFirst check if the text file has been already converted to binary format.\n",
      "\u001b[32m[------------] \u001b[0mBinary file (train_ffm.txt.bin) found. Skip converting text to binary.\n",
      "\u001b[32m[------------] \u001b[0mFirst check if the text file has been already converted to binary format.\n",
      "\u001b[32m[------------] \u001b[0mBinary file (val_ffm.txt.bin) found. Skip converting text to binary.\n",
      "\u001b[32m[------------] \u001b[0mNumber of Feature: 4969\n",
      "\u001b[32m[------------] \u001b[0mNumber of Field: 5\n",
      "\u001b[32m[------------] \u001b[0mTime cost for reading problem: 31.20 (sec)\n",
      "\u001b[32m\u001b[1m[ ACTION     ] Initialize model ...\u001b[0m\n",
      "\u001b[32m[------------] \u001b[0mModel size: 1.55 MB\n",
      "\u001b[32m[------------] \u001b[0mTime cost for model initial: 0.00 (sec)\n",
      "\u001b[32m\u001b[1m[ ACTION     ] Start to train ...\u001b[0m\n",
      "\u001b[32m[------------]\u001b[0m Epoch      Train log_loss       Test log_loss            Test AUC     Time cost (sec)\n",
      "\u001b[32m[ \u001b[0m   3%\u001b[32m      ]\u001b[0m     1            0.100363            0.155095            0.784104                3.97\n",
      "\u001b[32m[ \u001b[0m   6%\u001b[32m      ]\u001b[0m     2            0.099573            0.155126            0.784098                4.19\n",
      "\u001b[32m[ \u001b[0m  10%\u001b[32m      ]\u001b[0m     3            0.099398            0.154616            0.785192                4.45\n",
      "\u001b[32m[ \u001b[0m  13%\u001b[32m      ]\u001b[0m     4            0.099317            0.154793            0.784689                4.45\n",
      "\u001b[32m[ \u001b[0m  16%\u001b[32m      ]\u001b[0m     5            0.099250            0.154531            0.785139                3.94\n",
      "\u001b[32m[ \u001b[0m  20%\u001b[32m      ]\u001b[0m     6            0.099187            0.154462            0.785438                4.72\n",
      "\u001b[32m[ \u001b[0m  23%\u001b[32m      ]\u001b[0m     7            0.099135            0.154617            0.785472                4.45\n",
      "\u001b[32m[ \u001b[0m  26%\u001b[32m      ]\u001b[0m     8            0.099111            0.154501            0.785507                3.94\n",
      "\u001b[32m[ \u001b[0m  30%\u001b[32m      ]\u001b[0m     9            0.099051            0.154480            0.785811                4.12\n",
      "\u001b[32m[ \u001b[0m  33%\u001b[32m      ]\u001b[0m    10            0.099037            0.154415            0.785522                5.27\n",
      "\u001b[32m[ \u001b[0m  36%\u001b[32m      ]\u001b[0m    11            0.099019            0.154336            0.785698                5.49\n",
      "\u001b[32m[ \u001b[0m  40%\u001b[32m      ]\u001b[0m    12            0.098990            0.154405            0.785920                4.68\n",
      "\u001b[32m[ \u001b[0m  43%\u001b[32m      ]\u001b[0m    13            0.098964            0.154291            0.785822                5.10\n",
      "\u001b[32m[ \u001b[0m  46%\u001b[32m      ]\u001b[0m    14            0.098943            0.154310            0.785756                4.61\n",
      "\u001b[32m[ \u001b[0m  50%\u001b[32m      ]\u001b[0m    15            0.098942            0.154295            0.785829                4.32\n",
      "\u001b[32m[ \u001b[0m  53%\u001b[32m      ]\u001b[0m    16            0.098910            0.154435            0.785831                5.11\n",
      "\u001b[32m[ \u001b[0m  56%\u001b[32m      ]\u001b[0m    17            0.098896            0.154263            0.785864                4.13\n",
      "\u001b[32m[ \u001b[0m  60%\u001b[32m      ]\u001b[0m    18            0.098892            0.154273            0.785945                4.05\n",
      "\u001b[32m[ \u001b[0m  63%\u001b[32m      ]\u001b[0m    19            0.098885            0.154265            0.785827                3.89\n",
      "\u001b[32m[ \u001b[0m  66%\u001b[32m      ]\u001b[0m    20            0.098865            0.154258            0.785927                4.12\n",
      "\u001b[32m[ \u001b[0m  70%\u001b[32m      ]\u001b[0m    21            0.098859            0.154257            0.785957                4.86\n",
      "\u001b[32m[ \u001b[0m  73%\u001b[32m      ]\u001b[0m    22            0.098856            0.154288            0.785916                5.85\n",
      "\u001b[32m[ \u001b[0m  76%\u001b[32m      ]\u001b[0m    23            0.098836            0.154292            0.785967                6.06\n",
      "\u001b[32m[ \u001b[0m  80%\u001b[32m      ]\u001b[0m    24            0.098830            0.154332            0.785793                6.77\n",
      "\u001b[32m[ \u001b[0m  83%\u001b[32m      ]\u001b[0m    25            0.098823            0.154138            0.786067                7.11\n",
      "\u001b[32m[ \u001b[0m  86%\u001b[32m      ]\u001b[0m    26            0.098811            0.154188            0.786032                6.49\n",
      "\u001b[32m[ \u001b[0m  90%\u001b[32m      ]\u001b[0m    27            0.098807            0.154334            0.785804                6.40\n",
      "\u001b[32m[ \u001b[0m  93%\u001b[32m      ]\u001b[0m    28            0.098811            0.154331            0.786039                6.57\n",
      "\u001b[32m[ \u001b[0m  96%\u001b[32m      ]\u001b[0m    29            0.098802            0.154278            0.785878                7.24\n",
      "\u001b[32m[ \u001b[0m 100%\u001b[32m      ]\u001b[0m    30            0.098787            0.154353            0.785815                5.65\n",
      "\u001b[32m\u001b[1m[ ACTION     ] Early-stopping at epoch 25, best AUC: 0.786067\u001b[0m\n",
      "\u001b[32m\u001b[1m[ ACTION     ] Start to save model ...\u001b[0m\n",
      "\u001b[32m[------------] \u001b[0mModel file: model.out\n",
      "\u001b[32m[------------] \u001b[0mTime cost for saving model: 0.00 (sec)\n",
      "\u001b[32m\u001b[1m[ ACTION     ] Finish training\u001b[0m\n",
      "\u001b[32m\u001b[1m[ ACTION     ] Clear the xLearn environment ...\u001b[0m\n",
      "{'epoch': 30, 'k': 8, 'lambda': 0.0001, 'lr': 0.1, 'metric': 'auc', 'task': 'binary'}\n",
      "\u001b[32m\u001b[1m[------------] Total time cost: 183.33 (sec)\u001b[0m\n",
      "\u001b[32m\u001b[1m----------------------------------------------------------------------------------------------\n",
      "           _\n",
      "          | |\n",
      "     __  _| |     ___  __ _ _ __ _ __\n",
      "     \\ \\/ / |    / _ \\/ _` | '__| '_ \\ \n",
      "      >  <| |___|  __/ (_| | |  | | | |\n",
      "     /_/\\_\\_____/\\___|\\__,_|_|  |_| |_|\n",
      "\n",
      "        xLearn   -- 0.40 Version --\n",
      "----------------------------------------------------------------------------------------------\n",
      "\n",
      "\u001b[39m\u001b[0m\u001b[32m[------------] \u001b[0mxLearn uses 4 threads for training task.\n",
      "\u001b[32m\u001b[1m[ ACTION     ] Read Problem ...\u001b[0m\n",
      "\u001b[32m[------------] \u001b[0mFirst check if the text file has been already converted to binary format.\n"
     ]
    },
    {
     "name": "stdout",
     "output_type": "stream",
     "text": [
      "\u001b[32m[------------] \u001b[0mBinary file (train_ffm.txt.bin) found. Skip converting text to binary.\n",
      "\u001b[32m[------------] \u001b[0mFirst check if the text file has been already converted to binary format.\n",
      "\u001b[32m[------------] \u001b[0mBinary file (val_ffm.txt.bin) found. Skip converting text to binary.\n",
      "\u001b[32m[------------] \u001b[0mNumber of Feature: 4969\n",
      "\u001b[32m[------------] \u001b[0mNumber of Field: 5\n",
      "\u001b[32m[------------] \u001b[0mTime cost for reading problem: 24.81 (sec)\n",
      "\u001b[32m\u001b[1m[ ACTION     ] Initialize model ...\u001b[0m\n",
      "\u001b[32m[------------] \u001b[0mModel size: 1.55 MB\n",
      "\u001b[32m[------------] \u001b[0mTime cost for model initial: 0.00 (sec)\n",
      "\u001b[32m\u001b[1m[ ACTION     ] Start to train ...\u001b[0m\n",
      "\u001b[32m[------------]\u001b[0m Epoch      Train log_loss       Test log_loss            Test AUC     Time cost (sec)\n",
      "\u001b[32m[ \u001b[0m   3%\u001b[32m      ]\u001b[0m     1            0.098349            0.150222            0.797736                3.46\n",
      "\u001b[32m[ \u001b[0m   6%\u001b[32m      ]\u001b[0m     2            0.097156            0.150146            0.799173                3.54\n",
      "\u001b[32m[ \u001b[0m  10%\u001b[32m      ]\u001b[0m     3            0.096840            0.149720            0.799873                3.51\n",
      "\u001b[32m[ \u001b[0m  13%\u001b[32m      ]\u001b[0m     4            0.096600            0.149422            0.800718                3.57\n",
      "\u001b[32m[ \u001b[0m  16%\u001b[32m      ]\u001b[0m     5            0.096469            0.149857            0.799957                3.45\n",
      "\u001b[32m[ \u001b[0m  20%\u001b[32m      ]\u001b[0m     6            0.096366            0.149266            0.800974                3.46\n",
      "\u001b[32m[ \u001b[0m  23%\u001b[32m      ]\u001b[0m     7            0.096295            0.149503            0.800529                3.48\n",
      "\u001b[32m[ \u001b[0m  26%\u001b[32m      ]\u001b[0m     8            0.096193            0.149436            0.800576                3.49\n",
      "\u001b[32m[ \u001b[0m  30%\u001b[32m      ]\u001b[0m     9            0.096121            0.149461            0.800548                3.53\n",
      "\u001b[32m[ \u001b[0m  33%\u001b[32m      ]\u001b[0m    10            0.096060            0.149519            0.800482                3.47\n",
      "\u001b[32m[ \u001b[0m  36%\u001b[32m      ]\u001b[0m    11            0.095997            0.149432            0.800479                3.46\n",
      "\u001b[32m\u001b[1m[ ACTION     ] Early-stopping at epoch 6, best AUC: 0.800974\u001b[0m\n",
      "\u001b[32m\u001b[1m[ ACTION     ] Start to save model ...\u001b[0m\n",
      "\u001b[32m[------------] \u001b[0mModel file: model.out\n",
      "\u001b[32m[------------] \u001b[0mTime cost for saving model: 0.00 (sec)\n",
      "\u001b[32m\u001b[1m[ ACTION     ] Finish training\u001b[0m\n",
      "\u001b[32m\u001b[1m[ ACTION     ] Clear the xLearn environment ...\u001b[0m\n",
      "\u001b[32m\u001b[1m[------------] Total time cost: 63.34 (sec)\u001b[0m\n"
     ]
    }
   ],
   "source": [
    "for params in ParameterGrid(params_grid):\n",
    "    print(params)\n",
    "    ffm_model = xl.create_ffm()\n",
    "    ffm_model.setTrain(\"train_ffm.txt\")\n",
    "    ffm_model.setValidate(\"val_ffm.txt\")\n",
    "    ffm_model.fit(params, \"model.out\")"
   ]
  },
  {
   "cell_type": "code",
   "execution_count": 23,
   "metadata": {},
   "outputs": [
    {
     "name": "stdout",
     "output_type": "stream",
     "text": [
      "\u001b[32m\u001b[1m----------------------------------------------------------------------------------------------\n",
      "           _\n",
      "          | |\n",
      "     __  _| |     ___  __ _ _ __ _ __\n",
      "     \\ \\/ / |    / _ \\/ _` | '__| '_ \\ \n",
      "      >  <| |___|  __/ (_| | |  | | | |\n",
      "     /_/\\_\\_____/\\___|\\__,_|_|  |_| |_|\n",
      "\n",
      "        xLearn   -- 0.40 Version --\n",
      "----------------------------------------------------------------------------------------------\n",
      "\n",
      "\u001b[39m\u001b[0m\u001b[32m[------------] \u001b[0mxLearn uses 4 threads for prediction task.\n",
      "\u001b[32m\u001b[1m[ ACTION     ] Load model ...\u001b[0m\n",
      "\u001b[32m[------------] \u001b[0mLoad model from model.out\n",
      "\u001b[32m[------------] \u001b[0mLoss function: cross-entropy\n",
      "\u001b[32m[------------] \u001b[0mScore function: ffm\n",
      "\u001b[32m[------------] \u001b[0mNumber of Feature: 4969\n",
      "\u001b[32m[------------] \u001b[0mNumber of K: 8\n",
      "\u001b[32m[------------] \u001b[0mNumber of field: 5\n",
      "\u001b[32m[------------] \u001b[0mTime cost for loading model: 0.00 (sec)\n",
      "\u001b[32m\u001b[1m[ ACTION     ] Read Problem ...\u001b[0m\n",
      "\u001b[32m[------------] \u001b[0mFirst check if the text file has been already converted to binary format.\n",
      "\u001b[32m[------------] \u001b[0mBinary file (test_ffm.txt.bin) NOT found. Convert text file to binary file.\n",
      "\u001b[32m[------------] \u001b[0mTime cost for reading problem: 11.14 (sec)\n",
      "\u001b[32m\u001b[1m[ ACTION     ] Start to predict ...\u001b[0m\n",
      "\u001b[32m[------------] \u001b[0mThe test loss is: 0.133087\n",
      "\u001b[32m\u001b[1m[ ACTION     ] Clear the xLearn environment ...\u001b[0m\n",
      "\u001b[32m\u001b[1m[------------] Total time cost: 12.06 (sec)\u001b[0m\n"
     ]
    }
   ],
   "source": [
    "ffm_model.setTest(\"test_ffm.txt\")\n",
    "ffm_model.predict(\"model.out\", \"output.txt\")"
   ]
  },
  {
   "cell_type": "code",
   "execution_count": 26,
   "metadata": {},
   "outputs": [
    {
     "name": "stdout",
     "output_type": "stream",
     "text": [
      "roc_auc = 0.7912082770314087 log_loss = 1.273015563137955\n"
     ]
    }
   ],
   "source": [
    "y_pred = pd.read_csv('output.txt', header=None)\n",
    "y_true = test['clicks']\n",
    "print('roc_auc =', roc_auc_score(y_true, y_pred), 'log_loss =', log_loss(y_true, y_pred))"
   ]
  },
  {
   "cell_type": "code",
   "execution_count": null,
   "metadata": {},
   "outputs": [],
   "source": []
  }
 ],
 "metadata": {
  "kernelspec": {
   "display_name": "Python 3 (ipykernel)",
   "language": "python",
   "name": "python3"
  },
  "language_info": {
   "codemirror_mode": {
    "name": "ipython",
    "version": 3
   },
   "file_extension": ".py",
   "mimetype": "text/x-python",
   "name": "python",
   "nbconvert_exporter": "python",
   "pygments_lexer": "ipython3",
   "version": "3.10.12"
  }
 },
 "nbformat": 4,
 "nbformat_minor": 1
}
