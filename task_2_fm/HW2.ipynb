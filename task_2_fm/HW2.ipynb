{
  "nbformat": 4,
  "nbformat_minor": 0,
  "metadata": {
    "colab": {
      "provenance": [],
      "machine_shape": "hm"
    },
    "kernelspec": {
      "name": "python3",
      "display_name": "Python 3"
    },
    "language_info": {
      "name": "python"
    }
  },
  "cells": [
    {
      "cell_type": "code",
      "source": [
        "from google.colab import drive\n",
        "drive.mount('/content/drive')"
      ],
      "metadata": {
        "colab": {
          "base_uri": "https://localhost:8080/"
        },
        "id": "fAg6iQKVB1h1",
        "outputId": "b07295d8-ec3c-4c9e-c9a8-3b365b57e061"
      },
      "execution_count": 3,
      "outputs": [
        {
          "output_type": "stream",
          "name": "stdout",
          "text": [
            "Drive already mounted at /content/drive; to attempt to forcibly remount, call drive.mount(\"/content/drive\", force_remount=True).\n"
          ]
        }
      ]
    },
    {
      "cell_type": "code",
      "execution_count": 4,
      "metadata": {
        "id": "PKiubUI3Bv9v"
      },
      "outputs": [],
      "source": [
        "import numpy as np\n",
        "import pandas as pd"
      ]
    },
    {
      "cell_type": "code",
      "source": [
        "df = pd.read_csv('/content/drive/My Drive/Copy of data.csv')\n",
        "df.drop(['banner_id0', 'banner_id1', 'rate0', 'rate1', 'g0', 'g1', 'coeff_sum0', 'coeff_sum1'], axis=1, inplace=True)\n",
        "df.head()"
      ],
      "metadata": {
        "colab": {
          "base_uri": "https://localhost:8080/",
          "height": 313
        },
        "id": "aHvbhvdzB4qw",
        "outputId": "c631db78-e45d-4e12-e07e-f44bd69f9cda"
      },
      "execution_count": 5,
      "outputs": [
        {
          "output_type": "execute_result",
          "data": {
            "text/plain": [
              "                    date_time  zone_id  banner_id            oaid_hash  \\\n",
              "0  2021-09-27 00:01:30.000000        0          0  5664530014561852622   \n",
              "1  2021-09-26 22:54:49.000000        1          1  5186611064559013950   \n",
              "2  2021-09-26 23:57:20.000000        2          2  2215519569292448030   \n",
              "3  2021-09-27 00:04:30.000000        3          3  6262169206735077204   \n",
              "4  2021-09-27 00:06:21.000000        4          4  4778985830203613115   \n",
              "\n",
              "   campaign_clicks  os_id  country_id  impressions  clicks  \n",
              "0                0      0           0            1       1  \n",
              "1                0      0           1            1       1  \n",
              "2                3      0           0            1       1  \n",
              "3                0      1           1            1       1  \n",
              "4                0      1           0            1       1  "
            ],
            "text/html": [
              "\n",
              "  <div id=\"df-58a6057a-6dc9-43c9-ba4d-133e33028d1c\" class=\"colab-df-container\">\n",
              "    <div>\n",
              "<style scoped>\n",
              "    .dataframe tbody tr th:only-of-type {\n",
              "        vertical-align: middle;\n",
              "    }\n",
              "\n",
              "    .dataframe tbody tr th {\n",
              "        vertical-align: top;\n",
              "    }\n",
              "\n",
              "    .dataframe thead th {\n",
              "        text-align: right;\n",
              "    }\n",
              "</style>\n",
              "<table border=\"1\" class=\"dataframe\">\n",
              "  <thead>\n",
              "    <tr style=\"text-align: right;\">\n",
              "      <th></th>\n",
              "      <th>date_time</th>\n",
              "      <th>zone_id</th>\n",
              "      <th>banner_id</th>\n",
              "      <th>oaid_hash</th>\n",
              "      <th>campaign_clicks</th>\n",
              "      <th>os_id</th>\n",
              "      <th>country_id</th>\n",
              "      <th>impressions</th>\n",
              "      <th>clicks</th>\n",
              "    </tr>\n",
              "  </thead>\n",
              "  <tbody>\n",
              "    <tr>\n",
              "      <th>0</th>\n",
              "      <td>2021-09-27 00:01:30.000000</td>\n",
              "      <td>0</td>\n",
              "      <td>0</td>\n",
              "      <td>5664530014561852622</td>\n",
              "      <td>0</td>\n",
              "      <td>0</td>\n",
              "      <td>0</td>\n",
              "      <td>1</td>\n",
              "      <td>1</td>\n",
              "    </tr>\n",
              "    <tr>\n",
              "      <th>1</th>\n",
              "      <td>2021-09-26 22:54:49.000000</td>\n",
              "      <td>1</td>\n",
              "      <td>1</td>\n",
              "      <td>5186611064559013950</td>\n",
              "      <td>0</td>\n",
              "      <td>0</td>\n",
              "      <td>1</td>\n",
              "      <td>1</td>\n",
              "      <td>1</td>\n",
              "    </tr>\n",
              "    <tr>\n",
              "      <th>2</th>\n",
              "      <td>2021-09-26 23:57:20.000000</td>\n",
              "      <td>2</td>\n",
              "      <td>2</td>\n",
              "      <td>2215519569292448030</td>\n",
              "      <td>3</td>\n",
              "      <td>0</td>\n",
              "      <td>0</td>\n",
              "      <td>1</td>\n",
              "      <td>1</td>\n",
              "    </tr>\n",
              "    <tr>\n",
              "      <th>3</th>\n",
              "      <td>2021-09-27 00:04:30.000000</td>\n",
              "      <td>3</td>\n",
              "      <td>3</td>\n",
              "      <td>6262169206735077204</td>\n",
              "      <td>0</td>\n",
              "      <td>1</td>\n",
              "      <td>1</td>\n",
              "      <td>1</td>\n",
              "      <td>1</td>\n",
              "    </tr>\n",
              "    <tr>\n",
              "      <th>4</th>\n",
              "      <td>2021-09-27 00:06:21.000000</td>\n",
              "      <td>4</td>\n",
              "      <td>4</td>\n",
              "      <td>4778985830203613115</td>\n",
              "      <td>0</td>\n",
              "      <td>1</td>\n",
              "      <td>0</td>\n",
              "      <td>1</td>\n",
              "      <td>1</td>\n",
              "    </tr>\n",
              "  </tbody>\n",
              "</table>\n",
              "</div>\n",
              "    <div class=\"colab-df-buttons\">\n",
              "\n",
              "  <div class=\"colab-df-container\">\n",
              "    <button class=\"colab-df-convert\" onclick=\"convertToInteractive('df-58a6057a-6dc9-43c9-ba4d-133e33028d1c')\"\n",
              "            title=\"Convert this dataframe to an interactive table.\"\n",
              "            style=\"display:none;\">\n",
              "\n",
              "  <svg xmlns=\"http://www.w3.org/2000/svg\" height=\"24px\" viewBox=\"0 -960 960 960\">\n",
              "    <path d=\"M120-120v-720h720v720H120Zm60-500h600v-160H180v160Zm220 220h160v-160H400v160Zm0 220h160v-160H400v160ZM180-400h160v-160H180v160Zm440 0h160v-160H620v160ZM180-180h160v-160H180v160Zm440 0h160v-160H620v160Z\"/>\n",
              "  </svg>\n",
              "    </button>\n",
              "\n",
              "  <style>\n",
              "    .colab-df-container {\n",
              "      display:flex;\n",
              "      gap: 12px;\n",
              "    }\n",
              "\n",
              "    .colab-df-convert {\n",
              "      background-color: #E8F0FE;\n",
              "      border: none;\n",
              "      border-radius: 50%;\n",
              "      cursor: pointer;\n",
              "      display: none;\n",
              "      fill: #1967D2;\n",
              "      height: 32px;\n",
              "      padding: 0 0 0 0;\n",
              "      width: 32px;\n",
              "    }\n",
              "\n",
              "    .colab-df-convert:hover {\n",
              "      background-color: #E2EBFA;\n",
              "      box-shadow: 0px 1px 2px rgba(60, 64, 67, 0.3), 0px 1px 3px 1px rgba(60, 64, 67, 0.15);\n",
              "      fill: #174EA6;\n",
              "    }\n",
              "\n",
              "    .colab-df-buttons div {\n",
              "      margin-bottom: 4px;\n",
              "    }\n",
              "\n",
              "    [theme=dark] .colab-df-convert {\n",
              "      background-color: #3B4455;\n",
              "      fill: #D2E3FC;\n",
              "    }\n",
              "\n",
              "    [theme=dark] .colab-df-convert:hover {\n",
              "      background-color: #434B5C;\n",
              "      box-shadow: 0px 1px 3px 1px rgba(0, 0, 0, 0.15);\n",
              "      filter: drop-shadow(0px 1px 2px rgba(0, 0, 0, 0.3));\n",
              "      fill: #FFFFFF;\n",
              "    }\n",
              "  </style>\n",
              "\n",
              "    <script>\n",
              "      const buttonEl =\n",
              "        document.querySelector('#df-58a6057a-6dc9-43c9-ba4d-133e33028d1c button.colab-df-convert');\n",
              "      buttonEl.style.display =\n",
              "        google.colab.kernel.accessAllowed ? 'block' : 'none';\n",
              "\n",
              "      async function convertToInteractive(key) {\n",
              "        const element = document.querySelector('#df-58a6057a-6dc9-43c9-ba4d-133e33028d1c');\n",
              "        const dataTable =\n",
              "          await google.colab.kernel.invokeFunction('convertToInteractive',\n",
              "                                                    [key], {});\n",
              "        if (!dataTable) return;\n",
              "\n",
              "        const docLinkHtml = 'Like what you see? Visit the ' +\n",
              "          '<a target=\"_blank\" href=https://colab.research.google.com/notebooks/data_table.ipynb>data table notebook</a>'\n",
              "          + ' to learn more about interactive tables.';\n",
              "        element.innerHTML = '';\n",
              "        dataTable['output_type'] = 'display_data';\n",
              "        await google.colab.output.renderOutput(dataTable, element);\n",
              "        const docLink = document.createElement('div');\n",
              "        docLink.innerHTML = docLinkHtml;\n",
              "        element.appendChild(docLink);\n",
              "      }\n",
              "    </script>\n",
              "  </div>\n",
              "\n",
              "\n",
              "<div id=\"df-a51f30ae-d462-4eec-90ea-e0b2026470ef\">\n",
              "  <button class=\"colab-df-quickchart\" onclick=\"quickchart('df-a51f30ae-d462-4eec-90ea-e0b2026470ef')\"\n",
              "            title=\"Suggest charts\"\n",
              "            style=\"display:none;\">\n",
              "\n",
              "<svg xmlns=\"http://www.w3.org/2000/svg\" height=\"24px\"viewBox=\"0 0 24 24\"\n",
              "     width=\"24px\">\n",
              "    <g>\n",
              "        <path d=\"M19 3H5c-1.1 0-2 .9-2 2v14c0 1.1.9 2 2 2h14c1.1 0 2-.9 2-2V5c0-1.1-.9-2-2-2zM9 17H7v-7h2v7zm4 0h-2V7h2v10zm4 0h-2v-4h2v4z\"/>\n",
              "    </g>\n",
              "</svg>\n",
              "  </button>\n",
              "\n",
              "<style>\n",
              "  .colab-df-quickchart {\n",
              "      --bg-color: #E8F0FE;\n",
              "      --fill-color: #1967D2;\n",
              "      --hover-bg-color: #E2EBFA;\n",
              "      --hover-fill-color: #174EA6;\n",
              "      --disabled-fill-color: #AAA;\n",
              "      --disabled-bg-color: #DDD;\n",
              "  }\n",
              "\n",
              "  [theme=dark] .colab-df-quickchart {\n",
              "      --bg-color: #3B4455;\n",
              "      --fill-color: #D2E3FC;\n",
              "      --hover-bg-color: #434B5C;\n",
              "      --hover-fill-color: #FFFFFF;\n",
              "      --disabled-bg-color: #3B4455;\n",
              "      --disabled-fill-color: #666;\n",
              "  }\n",
              "\n",
              "  .colab-df-quickchart {\n",
              "    background-color: var(--bg-color);\n",
              "    border: none;\n",
              "    border-radius: 50%;\n",
              "    cursor: pointer;\n",
              "    display: none;\n",
              "    fill: var(--fill-color);\n",
              "    height: 32px;\n",
              "    padding: 0;\n",
              "    width: 32px;\n",
              "  }\n",
              "\n",
              "  .colab-df-quickchart:hover {\n",
              "    background-color: var(--hover-bg-color);\n",
              "    box-shadow: 0 1px 2px rgba(60, 64, 67, 0.3), 0 1px 3px 1px rgba(60, 64, 67, 0.15);\n",
              "    fill: var(--button-hover-fill-color);\n",
              "  }\n",
              "\n",
              "  .colab-df-quickchart-complete:disabled,\n",
              "  .colab-df-quickchart-complete:disabled:hover {\n",
              "    background-color: var(--disabled-bg-color);\n",
              "    fill: var(--disabled-fill-color);\n",
              "    box-shadow: none;\n",
              "  }\n",
              "\n",
              "  .colab-df-spinner {\n",
              "    border: 2px solid var(--fill-color);\n",
              "    border-color: transparent;\n",
              "    border-bottom-color: var(--fill-color);\n",
              "    animation:\n",
              "      spin 1s steps(1) infinite;\n",
              "  }\n",
              "\n",
              "  @keyframes spin {\n",
              "    0% {\n",
              "      border-color: transparent;\n",
              "      border-bottom-color: var(--fill-color);\n",
              "      border-left-color: var(--fill-color);\n",
              "    }\n",
              "    20% {\n",
              "      border-color: transparent;\n",
              "      border-left-color: var(--fill-color);\n",
              "      border-top-color: var(--fill-color);\n",
              "    }\n",
              "    30% {\n",
              "      border-color: transparent;\n",
              "      border-left-color: var(--fill-color);\n",
              "      border-top-color: var(--fill-color);\n",
              "      border-right-color: var(--fill-color);\n",
              "    }\n",
              "    40% {\n",
              "      border-color: transparent;\n",
              "      border-right-color: var(--fill-color);\n",
              "      border-top-color: var(--fill-color);\n",
              "    }\n",
              "    60% {\n",
              "      border-color: transparent;\n",
              "      border-right-color: var(--fill-color);\n",
              "    }\n",
              "    80% {\n",
              "      border-color: transparent;\n",
              "      border-right-color: var(--fill-color);\n",
              "      border-bottom-color: var(--fill-color);\n",
              "    }\n",
              "    90% {\n",
              "      border-color: transparent;\n",
              "      border-bottom-color: var(--fill-color);\n",
              "    }\n",
              "  }\n",
              "</style>\n",
              "\n",
              "  <script>\n",
              "    async function quickchart(key) {\n",
              "      const quickchartButtonEl =\n",
              "        document.querySelector('#' + key + ' button');\n",
              "      quickchartButtonEl.disabled = true;  // To prevent multiple clicks.\n",
              "      quickchartButtonEl.classList.add('colab-df-spinner');\n",
              "      try {\n",
              "        const charts = await google.colab.kernel.invokeFunction(\n",
              "            'suggestCharts', [key], {});\n",
              "      } catch (error) {\n",
              "        console.error('Error during call to suggestCharts:', error);\n",
              "      }\n",
              "      quickchartButtonEl.classList.remove('colab-df-spinner');\n",
              "      quickchartButtonEl.classList.add('colab-df-quickchart-complete');\n",
              "    }\n",
              "    (() => {\n",
              "      let quickchartButtonEl =\n",
              "        document.querySelector('#df-a51f30ae-d462-4eec-90ea-e0b2026470ef button');\n",
              "      quickchartButtonEl.style.display =\n",
              "        google.colab.kernel.accessAllowed ? 'block' : 'none';\n",
              "    })();\n",
              "  </script>\n",
              "</div>\n",
              "    </div>\n",
              "  </div>\n"
            ]
          },
          "metadata": {},
          "execution_count": 5
        }
      ]
    },
    {
      "cell_type": "markdown",
      "source": [
        "Оставим только категориальные данные, от impressions избавимся. Последний день в тест, предпоследний выделим для валидации."
      ],
      "metadata": {
        "id": "UUVo-Pf6DgE8"
      }
    },
    {
      "cell_type": "code",
      "source": [
        "df['oaid_hash'].value_counts()"
      ],
      "metadata": {
        "colab": {
          "base_uri": "https://localhost:8080/"
        },
        "id": "AII7VedkCMyI",
        "outputId": "1aa242e1-6939-414e-87c4-099ea9a1d436"
      },
      "execution_count": 4,
      "outputs": [
        {
          "output_type": "execute_result",
          "data": {
            "text/plain": [
              "308174966294367527     5243\n",
              "2890718152668627077    2511\n",
              "2521895603443866206    2289\n",
              "8212556321845734673    1974\n",
              "3375698397737628939    1959\n",
              "                       ... \n",
              "7989197060799678922       1\n",
              "3207898120952090573       1\n",
              "8578082337233412909       1\n",
              "8779980718415233023       1\n",
              "453968700792456599        1\n",
              "Name: oaid_hash, Length: 6510316, dtype: int64"
            ]
          },
          "metadata": {},
          "execution_count": 4
        }
      ]
    },
    {
      "cell_type": "markdown",
      "source": [
        "Видно, что присутствуют редки пользователи, но не будем их трогать"
      ],
      "metadata": {
        "id": "lU4u0zfGESDF"
      }
    },
    {
      "cell_type": "code",
      "source": [
        "def feature_engineering(df: pd.DataFrame) -> pd.DataFrame:\n",
        "  df.drop(['campaign_clicks', 'impressions'], axis=1, inplace=True)\n",
        "  datetime = pd.to_datetime(df['date_time'])\n",
        "  df['date'] = datetime.dt.date\n",
        "  df.drop('date_time', axis=1, inplace=True)\n",
        "\n",
        "  df_train = df[df['date'] < pd.Timestamp('2021-10-01').date()]\n",
        "  df_train.drop('date', axis=1, inplace=True)\n",
        "  # X_train = df_train.drop(['clicks', 'date'], axis=1)\n",
        "  # y_train = df_train['clicks']\n",
        "\n",
        "  df_val = df[df['date'] == pd.Timestamp('2021-10-01').date()]\n",
        "  df_val.drop('date', axis=1, inplace=True)\n",
        "  # X_val = df_val.drop(['clicks', 'date'], axis=1)\n",
        "  # y_val = df_val['clicks']\n",
        "\n",
        "  df_test = df[df['date'] == pd.Timestamp('2021-10-02').date()]\n",
        "  df_test.drop('date', axis=1, inplace=True)\n",
        "  # X_test = df_test.drop(['clicks', 'date'], axis=1)\n",
        "  # y_test = df_test['clicks']\n",
        "\n",
        "  return df_train, df_val, df_test"
      ],
      "metadata": {
        "id": "OjNHBPcxEaT7"
      },
      "execution_count": 5,
      "outputs": []
    },
    {
      "cell_type": "code",
      "source": [
        "df_train, df_val, df_test = feature_engineering(df)\n"
      ],
      "metadata": {
        "colab": {
          "base_uri": "https://localhost:8080/"
        },
        "id": "87cJpvPzHYCJ",
        "outputId": "02a3f324-fa9d-4f92-d88c-e1b7b1ecb809"
      },
      "execution_count": null,
      "outputs": [
        {
          "output_type": "stream",
          "name": "stderr",
          "text": [
            "<ipython-input-7-5d3f884a2840>:8: SettingWithCopyWarning: \n",
            "A value is trying to be set on a copy of a slice from a DataFrame\n",
            "\n",
            "See the caveats in the documentation: https://pandas.pydata.org/pandas-docs/stable/user_guide/indexing.html#returning-a-view-versus-a-copy\n",
            "  df_train.drop('date', axis=1, inplace=True)\n",
            "<ipython-input-7-5d3f884a2840>:13: SettingWithCopyWarning: \n",
            "A value is trying to be set on a copy of a slice from a DataFrame\n",
            "\n",
            "See the caveats in the documentation: https://pandas.pydata.org/pandas-docs/stable/user_guide/indexing.html#returning-a-view-versus-a-copy\n",
            "  df_val.drop('date', axis=1, inplace=True)\n",
            "<ipython-input-7-5d3f884a2840>:18: SettingWithCopyWarning: \n",
            "A value is trying to be set on a copy of a slice from a DataFrame\n",
            "\n",
            "See the caveats in the documentation: https://pandas.pydata.org/pandas-docs/stable/user_guide/indexing.html#returning-a-view-versus-a-copy\n",
            "  df_test.drop('date', axis=1, inplace=True)\n"
          ]
        }
      ]
    },
    {
      "cell_type": "markdown",
      "source": [
        "Приведем данные в нужный формат для обучения"
      ],
      "metadata": {
        "id": "z-92QmKpIn9h"
      }
    },
    {
      "cell_type": "code",
      "source": [
        "#  https://github.com/Bobe24/Dataframe2libffm/blob/master/dataframe2libffm.py\n",
        "category_column = [\n",
        "  'zone_id',\n",
        "  'banner_id',\n",
        "  'os_id',\n",
        "  'country_id',\n",
        "  'clicks',\n",
        "  'oaid_hash'\n",
        "  ]\n",
        "\n",
        "class FFMFormat:\n",
        "    def __init__(self):\n",
        "        self.field_index_ = None\n",
        "        self.feature_index_ = None\n",
        "        self.y = None\n",
        "\n",
        "    def fit(self, df, y=None):\n",
        "        self.y = y\n",
        "        df_ffm = df[df.columns.difference([self.y])]\n",
        "        if self.field_index_ is None:\n",
        "            self.field_index_ = {col: i for i, col in enumerate(df_ffm)}\n",
        "\n",
        "        if self.feature_index_ is not None:\n",
        "            last_idx = max(list(self.feature_index_.values()))\n",
        "\n",
        "        if self.feature_index_ is None:\n",
        "            self.feature_index_ = dict()\n",
        "            last_idx = 0\n",
        "\n",
        "        for col in df_ffm.columns:\n",
        "            vals = df_ffm[col].unique()\n",
        "            for val in vals:\n",
        "                if pd.isnull(val):\n",
        "                    continue\n",
        "                name = '{}_{}'.format(col, val)\n",
        "                if name not in self.feature_index_:\n",
        "                    self.feature_index_[name] = last_idx\n",
        "                    last_idx += 1\n",
        "            self.feature_index_[col] = last_idx\n",
        "            last_idx += 1\n",
        "        return self\n",
        "\n",
        "    def fit_transform(self, df, y=None):\n",
        "        self.fit(df, y)\n",
        "        return self.transform(df)\n",
        "\n",
        "    def transform_row_(self, row, t):\n",
        "        ffm = []\n",
        "        if self.y != None:\n",
        "            ffm.append(str(row.loc[row.index == self.y][0]))\n",
        "        if self.y is None:\n",
        "            ffm.append(str(0))\n",
        "\n",
        "        for col, val in row.loc[row.index != self.y].to_dict().items():\n",
        "            col_type = t[col]\n",
        "            name = '{}_{}'.format(col, val)\n",
        "            # if col_type.kind == 'O':\n",
        "            if col in category_column:\n",
        "                ffm.append('{}:{}:1'.format(self.field_index_[col],\n",
        "                                            self.feature_index_[name]))\n",
        "            else:\n",
        "            # elif col_type.kind == 'i':\n",
        "                ffm.append('{}:{}:{}'.format(self.field_index_[col],\n",
        "                                             self.feature_index_[col], val))\n",
        "        return ' '.join(ffm)\n",
        "\n",
        "    def transform(self, df):\n",
        "        t = df.dtypes.to_dict()\n",
        "        return pd.Series(\n",
        "            {idx: self.transform_row_(row, t) for idx, row in df.iterrows()})\n"
      ],
      "metadata": {
        "id": "pQGMta0GINXV"
      },
      "execution_count": 6,
      "outputs": []
    },
    {
      "cell_type": "code",
      "source": [
        "ffm_encoder = FFMFormat()\n",
        "ffm_train = ffm_encoder.fit_transform(df_train, y='clicks')\n",
        "ffm_train.to_csv('train.txt', index=False, header=False)\n",
        "\n",
        "ffm_val = ffm_encoder.fit_transform(df_val, y='clicks')\n",
        "ffm_val.to_csv('val.txt', index=False, header=False)"
      ],
      "metadata": {
        "id": "m4cRHU_rLM0q"
      },
      "execution_count": null,
      "outputs": []
    },
    {
      "cell_type": "code",
      "source": [
        "!cp val.txt /content/drive/MyDrive/recsys_hw2"
      ],
      "metadata": {
        "id": "gr2DVT5ygG6I"
      },
      "execution_count": null,
      "outputs": []
    },
    {
      "cell_type": "markdown",
      "source": [
        "Для обучения модели будем использовать библиотеку xlearn"
      ],
      "metadata": {
        "id": "N3YTZnrgZ-GI"
      }
    },
    {
      "cell_type": "code",
      "source": [
        "!pip install xlearn"
      ],
      "metadata": {
        "colab": {
          "base_uri": "https://localhost:8080/"
        },
        "id": "-SkGcRnpL1fp",
        "outputId": "83674d64-0c14-42ca-825f-1c7d0e381da7"
      },
      "execution_count": 7,
      "outputs": [
        {
          "output_type": "stream",
          "name": "stdout",
          "text": [
            "Requirement already satisfied: xlearn in /usr/local/lib/python3.10/dist-packages (0.40a1)\n"
          ]
        }
      ]
    },
    {
      "cell_type": "code",
      "source": [
        "import xlearn as xl\n",
        "from sklearn.model_selection import ParameterGrid"
      ],
      "metadata": {
        "id": "R5NZp909FLv6"
      },
      "execution_count": 1,
      "outputs": []
    },
    {
      "cell_type": "code",
      "source": [
        "import os\n",
        "os.environ['USER'] = 'test'"
      ],
      "metadata": {
        "id": "9o6l8ai3k57W"
      },
      "execution_count": 2,
      "outputs": []
    },
    {
      "cell_type": "code",
      "source": [
        "param_grid = {\n",
        "    'task': ['binary'],\n",
        "    'lr': [0.1],\n",
        "    'lambda':[0.1, 0.001, 0.0001],\n",
        "    'k': [4, 8],\n",
        "    'metric': ['auc'],\n",
        "}\n",
        "for param in ParameterGrid(param_grid):\n",
        "  print(param)\n",
        "  ffm_model = xl.create_ffm()\n",
        "  ffm_model.setTrain('/content/drive/MyDrive/recsys_hw2/train.txt')\n",
        "  ffm_model.setValidate('/content/drive/MyDrive/recsys_hw2/val.txt')\n",
        "  ffm_model.fit(param, 'model.out')"
      ],
      "metadata": {
        "id": "rBjFtiCujsqQ"
      },
      "execution_count": null,
      "outputs": []
    },
    {
      "cell_type": "markdown",
      "source": [
        "В колабе не отображаются логи, вставил их в кодовые ячейки"
      ],
      "metadata": {
        "id": "6bVAvIxHyQPC"
      }
    },
    {
      "cell_type": "code",
      "source": [
        "{'k': 4, 'lambda': 0.1, 'lr': 0.1, 'metric': 'auc', 'task': 'binary'}\n",
        "----------------------------------------------------------------------------------------------\n",
        "           _\n",
        "          | |\n",
        "     __  _| |     ___  __ _ _ __ _ __\n",
        "     \\ \\/ / |    / _ \\/ _` | '__| '_ \\\n",
        "      >  <| |___|  __/ (_| | |  | | | |\n",
        "     /_/\\_\\_____/\\___|\\__,_|_|  |_| |_|\n",
        "\n",
        "        xLearn   -- 0.40 Version --\n",
        "----------------------------------------------------------------------------------------------\n",
        "\n",
        "[------------] xLearn uses 8 threads for training task.\n",
        "[ ACTION     ] Read Problem ...\n",
        "[------------] First check if the text file has been already converted to binary format.\n",
        "[------------] Binary file (/content/drive/MyDrive/recsys_hw2/train.txt.bin) found. Skip converting text to binary.\n",
        "[------------] First check if the text file has been already converted to binary format.\n",
        "[------------] Binary file (/content/drive/MyDrive/recsys_hw2/val.txt.bin) found. Skip converting text to binary.\n",
        "[------------] Number of Feature: 5665370\n",
        "[------------] Number of Field: 5\n",
        "[------------] Time cost for reading problem: 10.15 (sec)\n",
        "[ ACTION     ] Initialize model ...\n",
        "[------------] Model size: 907.69 MB\n",
        "[------------] Time cost for model initial: 1.17 (sec)\n",
        "[ ACTION     ] Start to train ...\n",
        "[------------] Epoch      Train log_loss       Test log_loss            Test AUC     Time cost (sec)\n",
        "[   10%      ]     1            0.107819            0.176001            0.759995                4.36\n",
        "[   20%      ]     2            0.106552            0.175757            0.767240                4.68\n",
        "[   30%      ]     3            0.106052            0.175395            0.764262                4.44\n",
        "[   40%      ]     4            0.105531            0.175051            0.766409                4.33\n",
        "[   50%      ]     5            0.105007            0.175023            0.766249                4.48\n",
        "[   60%      ]     6            0.104673            0.174970            0.770019                4.66\n",
        "[   70%      ]     7            0.104213            0.174884            0.770983                4.43\n",
        "[   80%      ]     8            0.104041            0.174500            0.770955                4.31\n",
        "[   90%      ]     9            0.103614            0.174506            0.770674                4.66\n",
        "[  100%      ]    10            0.103387            0.174276            0.770890                4.33\n",
        "[ ACTION     ] Early-stopping at epoch 7, best AUC: 0.770983\n",
        "[ ACTION     ] Start to save model ...\n",
        "[------------] Model file: model.out\n",
        "[------------] Time cost for saving model: 1.48 (sec)\n",
        "[ ACTION     ] Finish training\n",
        "[ ACTION     ] Clear the xLearn environment ...\n",
        "[------------] Total time cost: 59.08 (sec)\n",
        "{'k': 4, 'lambda': 0.001, 'lr': 0.1, 'metric': 'auc', 'task': 'binary'}\n",
        "----------------------------------------------------------------------------------------------\n",
        "           _\n",
        "          | |\n",
        "     __  _| |     ___  __ _ _ __ _ __\n",
        "     \\ \\/ / |    / _ \\/ _` | '__| '_ \\\n",
        "      >  <| |___|  __/ (_| | |  | | | |\n",
        "     /_/\\_\\_____/\\___|\\__,_|_|  |_| |_|\n",
        "\n",
        "        xLearn   -- 0.40 Version --\n",
        "----------------------------------------------------------------------------------------------\n",
        "\n",
        "[------------] xLearn uses 8 threads for training task.\n",
        "[ ACTION     ] Read Problem ...\n",
        "[------------] First check if the text file has been already converted to binary format.\n",
        "[------------] Binary file (/content/drive/MyDrive/recsys_hw2/train.txt.bin) found. Skip converting text to binary.\n",
        "[------------] First check if the text file has been already converted to binary format.\n",
        "[------------] Binary file (/content/drive/MyDrive/recsys_hw2/val.txt.bin) found. Skip converting text to binary.\n",
        "[------------] Number of Feature: 5665370\n",
        "[------------] Number of Field: 5\n",
        "[------------] Time cost for reading problem: 10.16 (sec)\n",
        "[ ACTION     ] Initialize model ...\n",
        "[------------] Model size: 907.69 MB\n",
        "[------------] Time cost for model initial: 1.17 (sec)\n",
        "[ ACTION     ] Start to train ...\n",
        "[------------] Epoch      Train log_loss       Test log_loss            Test AUC     Time cost (sec)\n",
        "[   10%      ]     1            0.099944            0.154582            0.787462                4.35\n",
        "[   20%      ]     2            0.097858            0.153098            0.791374                4.45\n",
        "[   30%      ]     3            0.096427            0.152599            0.793584                4.54\n",
        "[   40%      ]     4            0.095041            0.152037            0.795730                4.28\n",
        "[   50%      ]     5            0.093676            0.151128            0.799213                4.40\n",
        "[   60%      ]     6            0.092375            0.150563            0.800596                4.70\n",
        "[   70%      ]     7            0.091121            0.150267            0.802342                4.36\n",
        "[   80%      ]     8            0.089877            0.149736            0.804047                4.42\n",
        "[   90%      ]     9            0.088688            0.149366            0.805443                4.76\n",
        "[  100%      ]    10            0.087512            0.148980            0.806906                4.38\n",
        "[ ACTION     ] Start to save model ...\n",
        "[------------] Model file: model.out\n",
        "[------------] Time cost for saving model: 2.06 (sec)\n",
        "[ ACTION     ] Finish training\n",
        "[ ACTION     ] Clear the xLearn environment ...\n",
        "[------------] Total time cost: 60.53 (sec)\n",
        "{'k': 4, 'lambda': 0.0001, 'lr': 0.1, 'metric': 'auc', 'task': 'binary'}\n",
        "----------------------------------------------------------------------------------------------\n",
        "           _\n",
        "          | |\n",
        "     __  _| |     ___  __ _ _ __ _ __\n",
        "     \\ \\/ / |    / _ \\/ _` | '__| '_ \\\n",
        "      >  <| |___|  __/ (_| | |  | | | |\n",
        "     /_/\\_\\_____/\\___|\\__,_|_|  |_| |_|\n",
        "\n",
        "        xLearn   -- 0.40 Version --\n",
        "----------------------------------------------------------------------------------------------\n",
        "\n",
        "[------------] xLearn uses 8 threads for training task.\n",
        "[ ACTION     ] Read Problem ...\n",
        "[------------] First check if the text file has been already converted to binary format.\n",
        "[------------] Binary file (/content/drive/MyDrive/recsys_hw2/train.txt.bin) found. Skip converting text to binary.\n",
        "[------------] First check if the text file has been already converted to binary format.\n",
        "[------------] Binary file (/content/drive/MyDrive/recsys_hw2/val.txt.bin) found. Skip converting text to binary.\n",
        "[------------] Number of Feature: 5665370\n",
        "[------------] Number of Field: 5\n",
        "[------------] Time cost for reading problem: 11.09 (sec)\n",
        "[ ACTION     ] Initialize model ...\n",
        "[------------] Model size: 907.69 MB\n",
        "[------------] Time cost for model initial: 3.64 (sec)\n",
        "[ ACTION     ] Start to train ...\n",
        "[------------] Epoch      Train log_loss       Test log_loss            Test AUC     Time cost (sec)\n",
        "[   10%      ]     1            0.098016            0.149312            0.800069                5.08\n",
        "[   20%      ]     2            0.094146            0.147409            0.808242                5.20\n",
        "[   30%      ]     3            0.090263            0.145562            0.814680                5.72\n",
        "[   40%      ]     4            0.085849            0.143822            0.819339                5.42\n",
        "[   50%      ]     5            0.080804            0.142946            0.821973                4.58\n",
        "[   60%      ]     6            0.075396            0.143146            0.821855                4.48\n",
        "[   70%      ]     7            0.069875            0.143769            0.820940                4.61\n",
        "[   80%      ]     8            0.064463            0.145384            0.818426                4.75\n",
        "[ ACTION     ] Early-stopping at epoch 5, best AUC: 0.821973\n",
        "[ ACTION     ] Start to save model ...\n",
        "[------------] Model file: model.out\n",
        "[------------] Time cost for saving model: 2.46 (sec)\n",
        "[ ACTION     ] Finish training\n",
        "[ ACTION     ] Clear the xLearn environment ...\n",
        "[------------] Total time cost: 60.88 (sec)"
      ],
      "metadata": {
        "id": "Lz-kX57xkuzl"
      },
      "execution_count": null,
      "outputs": []
    },
    {
      "cell_type": "code",
      "source": [
        "{'k': 8, 'lambda': 0.1, 'lr': 0.1, 'metric': 'auc', 'task': 'binary'}\n",
        "----------------------------------------------------------------------------------------------\n",
        "           _\n",
        "          | |\n",
        "     __  _| |     ___  __ _ _ __ _ __\n",
        "     \\ \\/ / |    / _ \\/ _` | '__| '_ \\\n",
        "      >  <| |___|  __/ (_| | |  | | | |\n",
        "     /_/\\_\\_____/\\___|\\__,_|_|  |_| |_|\n",
        "\n",
        "        xLearn   -- 0.40 Version --\n",
        "----------------------------------------------------------------------------------------------\n",
        "\n",
        "[------------] xLearn uses 8 threads for training task.\n",
        "[ ACTION     ] Read Problem ...\n",
        "[------------] First check if the text file has been already converted to binary format.\n",
        "[------------] Binary file (/content/drive/MyDrive/recsys_hw2/train.txt.bin) found. Skip converting text to binary.\n",
        "[------------] First check if the text file has been already converted to binary format.\n",
        "[------------] Binary file (/content/drive/MyDrive/recsys_hw2/val.txt.bin) found. Skip converting text to binary.\n",
        "[------------] Number of Feature: 5665370\n",
        "[------------] Number of Field: 5\n",
        "[------------] Time cost for reading problem: 16.47 (sec)\n",
        "[ ACTION     ] Initialize model ...\n",
        "[------------] Model size: 1.73 GB\n",
        "[------------] Time cost for model initial: 3.63 (sec)\n",
        "[ ACTION     ] Start to train ...\n",
        "[------------] Epoch      Train log_loss       Test log_loss            Test AUC     Time cost (sec)\n",
        "[   10%      ]     1            0.107771            0.175893            0.756480                5.89\n",
        "[   20%      ]     2            0.106779            0.175212            0.763524                5.80\n",
        "[   30%      ]     3            0.106040            0.175245            0.769005                5.88\n",
        "[   40%      ]     4            0.105339            0.175196            0.768905                6.20\n",
        "[   50%      ]     5            0.104931            0.175134            0.768608                5.80\n",
        "[   60%      ]     6            0.104599            0.175024            0.767195                6.16\n",
        "[ ACTION     ] Early-stopping at epoch 3, best AUC: 0.769005\n",
        "[ ACTION     ] Start to save model ...\n",
        "[------------] Model file: model.out\n",
        "[------------] Time cost for saving model: 3.50 (sec)\n",
        "[ ACTION     ] Finish training\n",
        "[ ACTION     ] Clear the xLearn environment ...\n",
        "[------------] Total time cost: 63.24 (sec)\n",
        "{'k': 8, 'lambda': 0.001, 'lr': 0.1, 'metric': 'auc', 'task': 'binary'}\n",
        "----------------------------------------------------------------------------------------------\n",
        "           _\n",
        "          | |\n",
        "     __  _| |     ___  __ _ _ __ _ __\n",
        "     \\ \\/ / |    / _ \\/ _` | '__| '_ \\\n",
        "      >  <| |___|  __/ (_| | |  | | | |\n",
        "     /_/\\_\\_____/\\___|\\__,_|_|  |_| |_|\n",
        "\n",
        "        xLearn   -- 0.40 Version --\n",
        "----------------------------------------------------------------------------------------------\n",
        "\n",
        "[------------] xLearn uses 8 threads for training task.\n",
        "[ ACTION     ] Read Problem ...\n",
        "[------------] First check if the text file has been already converted to binary format.\n",
        "[------------] Binary file (/content/drive/MyDrive/recsys_hw2/train.txt.bin) found. Skip converting text to binary.\n",
        "[------------] First check if the text file has been already converted to binary format.\n",
        "[------------] Binary file (/content/drive/MyDrive/recsys_hw2/val.txt.bin) found. Skip converting text to binary.\n",
        "[------------] Number of Feature: 5665370\n",
        "[------------] Number of Field: 5\n",
        "[------------] Time cost for reading problem: 11.97 (sec)\n",
        "[ ACTION     ] Initialize model ...\n",
        "[------------] Model size: 1.73 GB\n",
        "[------------] Time cost for model initial: 2.20 (sec)\n",
        "[ ACTION     ] Start to train ...\n",
        "[------------] Epoch      Train log_loss       Test log_loss            Test AUC     Time cost (sec)\n",
        "[   10%      ]     1            0.099902            0.154330            0.787671                5.83\n",
        "[   20%      ]     2            0.097782            0.153396            0.791561                6.18\n",
        "[   30%      ]     3            0.096275            0.152300            0.794559                5.81\n",
        "[   40%      ]     4            0.094807            0.151767            0.796667                6.31\n",
        "[   50%      ]     5            0.093375            0.151292            0.799027                5.90\n",
        "[   60%      ]     6            0.092015            0.150618            0.801451                5.84\n",
        "[   70%      ]     7            0.090685            0.149956            0.803335                6.11\n",
        "[   80%      ]     8            0.089370            0.149661            0.804967                5.91\n",
        "[   90%      ]     9            0.088102            0.149099            0.806776                6.14\n",
        "[  100%      ]    10            0.086873            0.148941            0.807659                5.57\n",
        "[ ACTION     ] Start to save model ...\n",
        "[------------] Model file: model.out\n",
        "[------------] Time cost for saving model: 3.54 (sec)\n",
        "[ ACTION     ] Finish training\n",
        "[ ACTION     ] Clear the xLearn environment ...\n",
        "[------------] Total time cost: 82.15 (sec)\n",
        "{'k': 8, 'lambda': 0.0001, 'lr': 0.1, 'metric': 'auc', 'task': 'binary'}\n",
        "----------------------------------------------------------------------------------------------\n",
        "           _\n",
        "          | |\n",
        "     __  _| |     ___  __ _ _ __ _ __\n",
        "     \\ \\/ / |    / _ \\/ _` | '__| '_ \\\n",
        "      >  <| |___|  __/ (_| | |  | | | |\n",
        "     /_/\\_\\_____/\\___|\\__,_|_|  |_| |_|\n",
        "\n",
        "        xLearn   -- 0.40 Version --\n",
        "----------------------------------------------------------------------------------------------\n",
        "\n",
        "[------------] xLearn uses 8 threads for training task.\n",
        "[ ACTION     ] Read Problem ...\n",
        "[------------] First check if the text file has been already converted to binary format.\n",
        "[------------] Binary file (/content/drive/MyDrive/recsys_hw2/train.txt.bin) found. Skip converting text to binary.\n",
        "[------------] First check if the text file has been already converted to binary format.\n",
        "[------------] Binary file (/content/drive/MyDrive/recsys_hw2/val.txt.bin) found. Skip converting text to binary.\n",
        "[------------] Number of Feature: 5665370\n",
        "[------------] Number of Field: 5\n",
        "[------------] Time cost for reading problem: 11.44 (sec)\n",
        "[ ACTION     ] Initialize model ...\n",
        "[------------] Model size: 1.73 GB\n",
        "[------------] Time cost for model initial: 2.19 (sec)\n",
        "[ ACTION     ] Start to train ...\n",
        "[------------] Epoch      Train log_loss       Test log_loss            Test AUC     Time cost (sec)\n",
        "[   10%      ]     1            0.097774            0.149066            0.802444                5.93\n",
        "[   20%      ]     2            0.093311            0.146515            0.811016                5.51\n",
        "[   30%      ]     3            0.088531            0.144522            0.817968                5.67\n",
        "[   40%      ]     4            0.082963            0.143164            0.822278                5.75\n",
        "[   50%      ]     5            0.076890            0.143364            0.823002                5.51\n",
        "[   60%      ]     6            0.070606            0.143929            0.822012                6.07\n",
        "[   70%      ]     7            0.064414            0.145336            0.820140                5.75\n",
        "[   80%      ]     8            0.058701            0.147460            0.817185                5.90\n",
        "[ ACTION     ] Early-stopping at epoch 5, best AUC: 0.823002\n",
        "[ ACTION     ] Start to save model ...\n",
        "[------------] Model file: model.out\n",
        "[------------] Time cost for saving model: 3.59 (sec)\n",
        "[ ACTION     ] Finish training\n",
        "[ ACTION     ] Clear the xLearn environment ...\n",
        "[------------] Total time cost: 66.64 (sec)"
      ],
      "metadata": {
        "id": "YX2fwNmHnJwz"
      },
      "execution_count": null,
      "outputs": []
    },
    {
      "cell_type": "markdown",
      "source": [
        "Из результатов видно, что k = 8, немного лучше k = 4. C увеличением lambda, увеличивается auc. Попробуем еще уменьшить lambda"
      ],
      "metadata": {
        "id": "HOvx6xARoC8h"
      }
    },
    {
      "cell_type": "code",
      "source": [
        "param_grid = {\n",
        "    'task': ['binary'],\n",
        "    'lr': [0.1],\n",
        "    'lambda':[0.00001, 0.000001, 0.0000001],\n",
        "    'k': [8],\n",
        "    'metric': ['auc'],\n",
        "}\n",
        "for param in ParameterGrid(param_grid):\n",
        "  print(param)\n",
        "  ffm_model = xl.create_ffm()\n",
        "  ffm_model.setTrain('/content/drive/MyDrive/recsys_hw2/train.txt')\n",
        "  ffm_model.setValidate('/content/drive/MyDrive/recsys_hw2/val.txt')\n",
        "  ffm_model.fit(param, 'model.out')"
      ],
      "metadata": {
        "id": "trFmLoTElWin"
      },
      "execution_count": null,
      "outputs": []
    },
    {
      "cell_type": "code",
      "source": [
        "{'k': 8, 'lambda': 1e-05, 'lr': 0.1, 'metric': 'auc', 'task': 'binary'}\n",
        "----------------------------------------------------------------------------------------------\n",
        "           _\n",
        "          | |\n",
        "     __  _| |     ___  __ _ _ __ _ __\n",
        "     \\ \\/ / |    / _ \\/ _` | '__| '_ \\\n",
        "      >  <| |___|  __/ (_| | |  | | | |\n",
        "     /_/\\_\\_____/\\___|\\__,_|_|  |_| |_|\n",
        "\n",
        "        xLearn   -- 0.40 Version --\n",
        "----------------------------------------------------------------------------------------------\n",
        "\n",
        "[------------] xLearn uses 8 threads for training task.\n",
        "[ ACTION     ] Read Problem ...\n",
        "[------------] First check if the text file has been already converted to binary format.\n",
        "[------------] Binary file (/content/drive/MyDrive/recsys_hw2/train.txt.bin) found. Skip converting text to binary.\n",
        "[------------] First check if the text file has been already converted to binary format.\n",
        "[------------] Binary file (/content/drive/MyDrive/recsys_hw2/val.txt.bin) found. Skip converting text to binary.\n",
        "[------------] Number of Feature: 5665370\n",
        "[------------] Number of Field: 5\n",
        "[------------] Time cost for reading problem: 15.12 (sec)\n",
        "[ ACTION     ] Initialize model ...\n",
        "[------------] Model size: 1.73 GB\n",
        "[------------] Time cost for model initial: 3.75 (sec)\n",
        "[ ACTION     ] Start to train ...\n",
        "[------------] Epoch      Train log_loss       Test log_loss            Test AUC     Time cost (sec)\n",
        "[   10%      ]     1            0.097145            0.147621            0.805996                6.88\n",
        "[   20%      ]     2            0.088830            0.143168            0.819404                6.31\n",
        "[   30%      ]     3            0.075649            0.144162            0.817908                6.83\n",
        "[   40%      ]     4            0.060635            0.150408            0.807022                6.23\n",
        "[   50%      ]     5            0.048881            0.157371            0.799152                7.17\n",
        "[ ACTION     ] Early-stopping at epoch 2, best AUC: 0.819404\n",
        "[ ACTION     ] Start to save model ...\n",
        "[------------] Model file: model.out\n",
        "[------------] Time cost for saving model: 4.62 (sec)\n",
        "[ ACTION     ] Finish training\n",
        "[ ACTION     ] Clear the xLearn environment ...\n",
        "[------------] Total time cost: 60.38 (sec)\n",
        "{'k': 8, 'lambda': 1e-06, 'lr': 0.1, 'metric': 'auc', 'task': 'binary'}\n",
        "----------------------------------------------------------------------------------------------\n",
        "           _\n",
        "          | |\n",
        "     __  _| |     ___  __ _ _ __ _ __\n",
        "     \\ \\/ / |    / _ \\/ _` | '__| '_ \\\n",
        "      >  <| |___|  __/ (_| | |  | | | |\n",
        "     /_/\\_\\_____/\\___|\\__,_|_|  |_| |_|\n",
        "\n",
        "        xLearn   -- 0.40 Version --\n",
        "----------------------------------------------------------------------------------------------\n",
        "\n",
        "[------------] xLearn uses 8 threads for training task.\n",
        "[ ACTION     ] Read Problem ...\n",
        "[------------] First check if the text file has been already converted to binary format.\n",
        "[------------] Binary file (/content/drive/MyDrive/recsys_hw2/train.txt.bin) found. Skip converting text to binary.\n",
        "[------------] First check if the text file has been already converted to binary format.\n",
        "[------------] Binary file (/content/drive/MyDrive/recsys_hw2/val.txt.bin) found. Skip converting text to binary.\n",
        "[------------] Number of Feature: 5665370\n",
        "[------------] Number of Field: 5\n",
        "[------------] Time cost for reading problem: 14.18 (sec)\n",
        "[ ACTION     ] Initialize model ...\n",
        "[------------] Model size: 1.73 GB\n",
        "[------------] Time cost for model initial: 2.28 (sec)\n",
        "[ ACTION     ] Start to train ...\n",
        "[------------] Epoch      Train log_loss       Test log_loss            Test AUC     Time cost (sec)\n",
        "[   10%      ]     1            0.097074            0.147126            0.807328                6.44\n",
        "[   20%      ]     2            0.087980            0.143130            0.819725                7.51\n",
        "[   30%      ]     3            0.073041            0.145945            0.814570                7.59\n",
        "[   40%      ]     4            0.056771            0.155364            0.798822                7.02\n",
        "[   50%      ]     5            0.045515            0.164620            0.790223                6.43\n",
        "[ ACTION     ] Early-stopping at epoch 2, best AUC: 0.819725\n",
        "[ ACTION     ] Start to save model ...\n",
        "[------------] Model file: model.out\n",
        "[------------] Time cost for saving model: 4.96 (sec)\n",
        "[ ACTION     ] Finish training\n",
        "[ ACTION     ] Clear the xLearn environment ...\n",
        "[------------] Total time cost: 59.45 (sec)\n",
        "{'k': 8, 'lambda': 1e-07, 'lr': 0.1, 'metric': 'auc', 'task': 'binary'}\n",
        "----------------------------------------------------------------------------------------------\n",
        "           _\n",
        "          | |\n",
        "     __  _| |     ___  __ _ _ __ _ __\n",
        "     \\ \\/ / |    / _ \\/ _` | '__| '_ \\\n",
        "      >  <| |___|  __/ (_| | |  | | | |\n",
        "     /_/\\_\\_____/\\___|\\__,_|_|  |_| |_|\n",
        "\n",
        "        xLearn   -- 0.40 Version --\n",
        "----------------------------------------------------------------------------------------------\n",
        "\n",
        "[------------] xLearn uses 8 threads for training task.\n",
        "[ ACTION     ] Read Problem ...\n",
        "[------------] First check if the text file has been already converted to binary format.\n",
        "[------------] Binary file (/content/drive/MyDrive/recsys_hw2/train.txt.bin) found. Skip converting text to binary.\n",
        "[------------] First check if the text file has been already converted to binary format.\n",
        "[------------] Binary file (/content/drive/MyDrive/recsys_hw2/val.txt.bin) found. Skip converting text to binary.\n",
        "[------------] Number of Feature: 5665370\n",
        "[------------] Number of Field: 5\n",
        "[------------] Time cost for reading problem: 13.39 (sec)\n",
        "[ ACTION     ] Initialize model ...\n",
        "[------------] Model size: 1.73 GB\n",
        "[------------] Time cost for model initial: 2.45 (sec)\n",
        "[ ACTION     ] Start to train ...\n",
        "[------------] Epoch      Train log_loss       Test log_loss            Test AUC     Time cost (sec)\n",
        "[   10%      ]     1            0.096964            0.147381            0.807014                6.47\n",
        "[   20%      ]     2            0.087151            0.143240            0.819795                6.40\n",
        "[   30%      ]     3            0.071174            0.147373            0.811513                6.56\n",
        "[   40%      ]     4            0.054898            0.157610            0.796451                6.67\n",
        "[   50%      ]     5            0.044474            0.167031            0.788122                6.35\n",
        "[ ACTION     ] Early-stopping at epoch 2, best AUC: 0.819795\n",
        "[ ACTION     ] Start to save model ...\n",
        "[------------] Model file: model.out\n",
        "[------------] Time cost for saving model: 3.86 (sec)\n",
        "[ ACTION     ] Finish training\n",
        "[ ACTION     ] Clear the xLearn environment ...\n",
        "[------------] Total time cost: 55.15 (sec)"
      ],
      "metadata": {
        "id": "DsPwM4qUp8jm"
      },
      "execution_count": null,
      "outputs": []
    },
    {
      "cell_type": "markdown",
      "source": [
        "Уменьшение lambda не дало результотов. Лучшие результаты оказались у модели с k=8, lambda=0.0001. Проверим на тестовых данных."
      ],
      "metadata": {
        "id": "-xfvTjrpcsk7"
      }
    },
    {
      "cell_type": "code",
      "source": [
        "ffm_encoder = FFMFormat()\n",
        "ffm_test = ffm_encoder.fit_transform(df_test, y='clicks')\n",
        "ffm_test.to_csv('test.txt', index=False, header=False)"
      ],
      "metadata": {
        "id": "UAu2Jumxmn2K"
      },
      "execution_count": null,
      "outputs": []
    },
    {
      "cell_type": "code",
      "source": [
        "!cp test.txt /content/drive/MyDrive/recsys_hw2"
      ],
      "metadata": {
        "id": "hUuJyWDht5IJ"
      },
      "execution_count": null,
      "outputs": []
    },
    {
      "cell_type": "code",
      "source": [
        "params = {\n",
        "    'task': 'binary',\n",
        "    'lr': 0.1,\n",
        "    'lambda':0.0001,\n",
        "    'k': 8,\n",
        "    'metric': 'auc',\n",
        "}\n",
        "ffm_model = xl.create_ffm()\n",
        "ffm_model.setTrain('/content/drive/MyDrive/recsys_hw2/train.txt')\n",
        "ffm_model.setValidate('/content/drive/MyDrive/recsys_hw2/val.txt')\n",
        "ffm_model.fit(param, 'model.out')\n"
      ],
      "metadata": {
        "id": "Ynw-cEZPq6kE"
      },
      "execution_count": null,
      "outputs": []
    },
    {
      "cell_type": "code",
      "source": [
        "----------------------------------------------------------------------------------------------\n",
        "           _\n",
        "          | |\n",
        "     __  _| |     ___  __ _ _ __ _ __\n",
        "     \\ \\/ / |    / _ \\/ _` | '__| '_ \\\n",
        "      >  <| |___|  __/ (_| | |  | | | |\n",
        "     /_/\\_\\_____/\\___|\\__,_|_|  |_| |_|\n",
        "\n",
        "        xLearn   -- 0.40 Version --\n",
        "----------------------------------------------------------------------------------------------\n",
        "\n",
        "[------------] xLearn uses 8 threads for training task.\n",
        "[ ACTION     ] Read Problem ...\n",
        "[------------] First check if the text file has been already converted to binary format.\n",
        "[------------] Binary file (/content/drive/MyDrive/recsys_hw2/train.txt.bin) found. Skip converting text to binary.\n",
        "[------------] First check if the text file has been already converted to binary format.\n",
        "[------------] Binary file (/content/drive/MyDrive/recsys_hw2/val.txt.bin) found. Skip converting text to binary.\n",
        "[------------] Number of Feature: 5665370\n",
        "[------------] Number of Field: 5\n",
        "[------------] Time cost for reading problem: 15.72 (sec)\n",
        "[ ACTION     ] Initialize model ...\n",
        "[------------] Model size: 1.73 GB\n",
        "[------------] Time cost for model initial: 3.70 (sec)\n",
        "[ ACTION     ] Start to train ...\n",
        "[------------] Epoch      Train log_loss       Test log_loss            Test AUC     Time cost (sec)\n",
        "[   10%      ]     1            0.096976            0.146548            0.809004                6.93\n",
        "[   20%      ]     2            0.087336            0.142749            0.820385                6.00\n",
        "[   30%      ]     3            0.071341            0.146886            0.812959                7.14\n",
        "[   40%      ]     4            0.054705            0.157021            0.797807                6.75\n",
        "[   50%      ]     5            0.043993            0.168139            0.788127                6.97\n",
        "[ ACTION     ] Early-stopping at epoch 2, best AUC: 0.820385\n",
        "[ ACTION     ] Start to save model ...\n",
        "[------------] Model file: model.out\n",
        "[------------] Time cost for saving model: 5.27 (sec)\n",
        "[ ACTION     ] Finish training\n",
        "[ ACTION     ] Clear the xLearn environment ...\n",
        "[------------] Total time cost: 61.87 (sec)"
      ],
      "metadata": {
        "id": "zdoTqNwhsHoe"
      },
      "execution_count": null,
      "outputs": []
    },
    {
      "cell_type": "code",
      "source": [
        "ffm_model.setTest('/content/drive/MyDrive/recsys_hw2/test.txt')\n",
        "ffm_model.setSigmoid()\n",
        "ffm_model.predict(\"model.out\", \"output.txt\")"
      ],
      "metadata": {
        "id": "oFxZHimrr9Fr"
      },
      "execution_count": null,
      "outputs": []
    },
    {
      "cell_type": "code",
      "source": [
        "----------------------------------------------------------------------------------------------\n",
        "           _\n",
        "          | |\n",
        "     __  _| |     ___  __ _ _ __ _ __\n",
        "     \\ \\/ / |    / _ \\/ _` | '__| '_ \\\n",
        "      >  <| |___|  __/ (_| | |  | | | |\n",
        "     /_/\\_\\_____/\\___|\\__,_|_|  |_| |_|\n",
        "\n",
        "        xLearn   -- 0.40 Version --\n",
        "----------------------------------------------------------------------------------------------\n",
        "\n",
        "[------------] xLearn uses 8 threads for prediction task.\n",
        "[ ACTION     ] Load model ...\n",
        "[------------] Load model from model.out\n",
        "[------------] Loss function: cross-entropy\n",
        "[------------] Score function: ffm\n",
        "[------------] Number of Feature: 5665370\n",
        "[------------] Number of K: 8\n",
        "[------------] Number of field: 5\n",
        "[------------] Time cost for loading model: 1.35 (sec)\n",
        "[ ACTION     ] Read Problem ...\n",
        "[------------] First check if the text file has been already converted to binary format.\n",
        "[------------] Binary file (/content/drive/MyDrive/recsys_hw2/test.txt.bin) NOT found. Convert text file to binary file.\n",
        "[------------] Time cost for reading problem: 6.45 (sec)\n",
        "[ ACTION     ] Start to predict ...\n",
        "[------------] The test loss is: 0.152884\n",
        "[ ACTION     ] Clear the xLearn environment ...\n",
        "[------------] Total time cost: 9.26 (sec)"
      ],
      "metadata": {
        "id": "Llbrww6QsSw1"
      },
      "execution_count": null,
      "outputs": []
    },
    {
      "cell_type": "code",
      "source": [
        "df.drop(['campaign_clicks', 'impressions'], axis=1, inplace=True)\n",
        "datetime = pd.to_datetime(df['date_time'])\n",
        "df['date'] = datetime.dt.date\n",
        "df.drop('date_time', axis=1, inplace=True)\n",
        "df_test = df[df['date'] == pd.Timestamp('2021-10-02').date()]\n",
        "df_test.drop('date', axis=1, inplace=True)\n",
        "y_test = df_test['clicks']"
      ],
      "metadata": {
        "colab": {
          "base_uri": "https://localhost:8080/"
        },
        "id": "puS-uxaRw_wH",
        "outputId": "74a7010f-0da6-487b-e24f-5e62bbe9b8c9"
      },
      "execution_count": 6,
      "outputs": [
        {
          "output_type": "stream",
          "name": "stderr",
          "text": [
            "<ipython-input-6-fa423fe684b3>:6: SettingWithCopyWarning: \n",
            "A value is trying to be set on a copy of a slice from a DataFrame\n",
            "\n",
            "See the caveats in the documentation: https://pandas.pydata.org/pandas-docs/stable/user_guide/indexing.html#returning-a-view-versus-a-copy\n",
            "  df_test.drop('date', axis=1, inplace=True)\n"
          ]
        }
      ]
    },
    {
      "cell_type": "code",
      "source": [
        "y_pred = pd.read_csv('output.txt', header=None)"
      ],
      "metadata": {
        "id": "xPtHi50Xxcph"
      },
      "execution_count": 7,
      "outputs": []
    },
    {
      "cell_type": "code",
      "source": [
        "from sklearn.metrics import roc_auc_score, log_loss\n",
        "auc = roc_auc_score(y_test, y_pred)\n",
        "log_loss = log_loss(y_test, y_pred)\n",
        "print(f'auc={auc} log_loss={log_loss}')"
      ],
      "metadata": {
        "colab": {
          "base_uri": "https://localhost:8080/"
        },
        "id": "_TGZL89XxfGR",
        "outputId": "9a807ea0-8cb6-457e-81cf-a4d3afb9ed59"
      },
      "execution_count": 8,
      "outputs": [
        {
          "output_type": "stream",
          "name": "stdout",
          "text": [
            "auc=0.5859046923718023 log_loss=0.1528592157237372\n"
          ]
        }
      ]
    },
    {
      "cell_type": "code",
      "source": [],
      "metadata": {
        "id": "LeUBSenIx2OD"
      },
      "execution_count": null,
      "outputs": []
    }
  ]
}