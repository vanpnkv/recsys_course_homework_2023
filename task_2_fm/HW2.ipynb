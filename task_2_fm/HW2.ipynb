{
 "cells": [
  {
   "cell_type": "markdown",
   "id": "b8e188d1",
   "metadata": {},
   "source": [
    "# Домашнее задание 2: FM\n",
    "\n",
    "Рекомендательные системы, Оксана Нырка"
   ]
  },
  {
   "cell_type": "markdown",
   "id": "92ac72ab",
   "metadata": {},
   "source": [
    "### Загрузка библиотек и данных"
   ]
  },
  {
   "cell_type": "code",
   "execution_count": 2,
   "id": "69fb664d",
   "metadata": {},
   "outputs": [
    {
     "name": "stdout",
     "output_type": "stream",
     "text": [
      "Processing c:\\users\\оксана\\documents\\recsys\\task_1_recsys\\xlearn-0.4.4-py2.py3-none-win_amd64.whl\n",
      "Requirement already satisfied: scipy in c:\\anaconda3\\lib\\site-packages (from xlearn==0.4.4) (1.10.1)\n",
      "Requirement already satisfied: numpy in c:\\anaconda3\\lib\\site-packages (from xlearn==0.4.4) (1.24.2)\n",
      "Installing collected packages: xlearn\n",
      "  Attempting uninstall: xlearn\n",
      "    Found existing installation: xlearn 0.40a1\n",
      "    Uninstalling xlearn-0.40a1:\n",
      "      Successfully uninstalled xlearn-0.40a1\n",
      "Successfully installed xlearn-0.4.4\n"
     ]
    }
   ],
   "source": [
    "#!pip install xlearn-0.4.4-py2.py3-none-win_amd64.whl"
   ]
  },
  {
   "cell_type": "code",
   "execution_count": 2,
   "id": "beccd90c",
   "metadata": {},
   "outputs": [],
   "source": [
    "import pandas as pd\n",
    "import matplotlib.pyplot as plt\n",
    "import numpy as np\n",
    "from sklearn.preprocessing import OneHotEncoder\n",
    "from scipy import sparse\n",
    "import xlearn as xl\n",
    "from sklearn.metrics import log_loss\n",
    "from sklearn.metrics import roc_auc_score"
   ]
  },
  {
   "cell_type": "code",
   "execution_count": 5,
   "id": "9b41324c",
   "metadata": {},
   "outputs": [],
   "source": [
    "data = pd.read_csv('data.csv')\n",
    "data = data.drop(columns = ['banner_id0', 'banner_id1', 'rate0', 'rate1', 'g0', 'g1', 'coeff_sum0', 'coeff_sum1'])"
   ]
  },
  {
   "cell_type": "code",
   "execution_count": 6,
   "id": "61fdb911",
   "metadata": {},
   "outputs": [
    {
     "data": {
      "text/html": [
       "<div>\n",
       "<style scoped>\n",
       "    .dataframe tbody tr th:only-of-type {\n",
       "        vertical-align: middle;\n",
       "    }\n",
       "\n",
       "    .dataframe tbody tr th {\n",
       "        vertical-align: top;\n",
       "    }\n",
       "\n",
       "    .dataframe thead th {\n",
       "        text-align: right;\n",
       "    }\n",
       "</style>\n",
       "<table border=\"1\" class=\"dataframe\">\n",
       "  <thead>\n",
       "    <tr style=\"text-align: right;\">\n",
       "      <th></th>\n",
       "      <th>date_time</th>\n",
       "      <th>zone_id</th>\n",
       "      <th>banner_id</th>\n",
       "      <th>oaid_hash</th>\n",
       "      <th>campaign_clicks</th>\n",
       "      <th>os_id</th>\n",
       "      <th>country_id</th>\n",
       "      <th>impressions</th>\n",
       "      <th>clicks</th>\n",
       "    </tr>\n",
       "  </thead>\n",
       "  <tbody>\n",
       "    <tr>\n",
       "      <th>0</th>\n",
       "      <td>2021-09-27 00:01:30</td>\n",
       "      <td>0</td>\n",
       "      <td>0</td>\n",
       "      <td>5664530014561852622</td>\n",
       "      <td>0</td>\n",
       "      <td>0</td>\n",
       "      <td>0</td>\n",
       "      <td>1</td>\n",
       "      <td>1</td>\n",
       "    </tr>\n",
       "    <tr>\n",
       "      <th>1</th>\n",
       "      <td>2021-09-26 22:54:49</td>\n",
       "      <td>1</td>\n",
       "      <td>1</td>\n",
       "      <td>5186611064559013950</td>\n",
       "      <td>0</td>\n",
       "      <td>0</td>\n",
       "      <td>1</td>\n",
       "      <td>1</td>\n",
       "      <td>1</td>\n",
       "    </tr>\n",
       "    <tr>\n",
       "      <th>2</th>\n",
       "      <td>2021-09-26 23:57:20</td>\n",
       "      <td>2</td>\n",
       "      <td>2</td>\n",
       "      <td>2215519569292448030</td>\n",
       "      <td>3</td>\n",
       "      <td>0</td>\n",
       "      <td>0</td>\n",
       "      <td>1</td>\n",
       "      <td>1</td>\n",
       "    </tr>\n",
       "    <tr>\n",
       "      <th>3</th>\n",
       "      <td>2021-09-27 00:04:30</td>\n",
       "      <td>3</td>\n",
       "      <td>3</td>\n",
       "      <td>6262169206735077204</td>\n",
       "      <td>0</td>\n",
       "      <td>1</td>\n",
       "      <td>1</td>\n",
       "      <td>1</td>\n",
       "      <td>1</td>\n",
       "    </tr>\n",
       "    <tr>\n",
       "      <th>4</th>\n",
       "      <td>2021-09-27 00:06:21</td>\n",
       "      <td>4</td>\n",
       "      <td>4</td>\n",
       "      <td>4778985830203613115</td>\n",
       "      <td>0</td>\n",
       "      <td>1</td>\n",
       "      <td>0</td>\n",
       "      <td>1</td>\n",
       "      <td>1</td>\n",
       "    </tr>\n",
       "  </tbody>\n",
       "</table>\n",
       "</div>"
      ],
      "text/plain": [
       "            date_time  zone_id  banner_id            oaid_hash  \\\n",
       "0 2021-09-27 00:01:30        0          0  5664530014561852622   \n",
       "1 2021-09-26 22:54:49        1          1  5186611064559013950   \n",
       "2 2021-09-26 23:57:20        2          2  2215519569292448030   \n",
       "3 2021-09-27 00:04:30        3          3  6262169206735077204   \n",
       "4 2021-09-27 00:06:21        4          4  4778985830203613115   \n",
       "\n",
       "   campaign_clicks  os_id  country_id  impressions  clicks  \n",
       "0                0      0           0            1       1  \n",
       "1                0      0           1            1       1  \n",
       "2                3      0           0            1       1  \n",
       "3                0      1           1            1       1  \n",
       "4                0      1           0            1       1  "
      ]
     },
     "execution_count": 6,
     "metadata": {},
     "output_type": "execute_result"
    }
   ],
   "source": [
    "# date_time : object -> datetime\n",
    "data.date_time = pd.to_datetime(data.date_time)\n",
    "data.head()"
   ]
  },
  {
   "cell_type": "markdown",
   "id": "ae8b386d",
   "metadata": {},
   "source": [
    "### Описательный анализ"
   ]
  },
  {
   "cell_type": "code",
   "execution_count": 7,
   "id": "579d8833",
   "metadata": {},
   "outputs": [
    {
     "name": "stdout",
     "output_type": "stream",
     "text": [
      "(15821471, 9)\n"
     ]
    }
   ],
   "source": [
    "# Удалим выброс за 1 сентября\n",
    "data = data[data['date_time'] >= pd.to_datetime('2021-09-26')]\n",
    "print(data.shape)"
   ]
  },
  {
   "cell_type": "markdown",
   "id": "ad262aa6",
   "metadata": {},
   "source": [
    "В этой задаче используем также *oaid_hash* - id юзера, посмотрим на нее:"
   ]
  },
  {
   "cell_type": "code",
   "execution_count": 23,
   "id": "a7cec91e",
   "metadata": {
    "scrolled": false
   },
   "outputs": [
    {
     "data": {
      "image/png": "[encoded data removed]",
      "text/plain": [
       "<Figure size 640x480 with 1 Axes>"
      ]
     },
     "metadata": {},
     "output_type": "display_data"
    }
   ],
   "source": [
    "data.oaid_hash.value_counts().reset_index(drop = True).plot.hist(logy = True, color = \"#27AFC9\", title = 'User ID');"
   ]
  },
  {
   "cell_type": "markdown",
   "id": "a943387f",
   "metadata": {},
   "source": [
    "Заметим, что встречаются юзеры, на которых в датасете одно наблюдение, и их достаточно много, но они не несут много полезной информации. Т.к. удаление означает потерю большого количества данных, давайте их объединим в одну категорию."
   ]
  },
  {
   "cell_type": "markdown",
   "id": "962c1e9a",
   "metadata": {},
   "source": [
    "Т.к. будем использовать матричные факторизации, помимо id юзера, добавим id баннера. Эту колонку никак видоизменять не будем."
   ]
  },
  {
   "cell_type": "code",
   "execution_count": 26,
   "id": "57947809",
   "metadata": {
    "scrolled": false
   },
   "outputs": [
    {
     "data": {
      "image/png": "[encoded data removed]",
      "text/plain": [
       "<Figure size 640x480 with 1 Axes>"
      ]
     },
     "metadata": {},
     "output_type": "display_data"
    }
   ],
   "source": [
    "data.banner_id.plot.hist(logy = True, color = \"#27AFC9\", title = 'Banner ID');"
   ]
  },
  {
   "cell_type": "markdown",
   "id": "43799900",
   "metadata": {},
   "source": [
    "### Feature engineering"
   ]
  },
  {
   "cell_type": "markdown",
   "id": "c83da3d4",
   "metadata": {},
   "source": [
    "Будем использовать те же фичи, что и в HW1 (с модификациями) + преобразуем *oaid_hash* и добавим *banner_id*."
   ]
  },
  {
   "cell_type": "markdown",
   "id": "e9e939c9",
   "metadata": {},
   "source": [
    "> По-другому объединим *os_id*: редкие значения (от 7 до 10) в близкие значения по таргету"
   ]
  },
  {
   "cell_type": "code",
   "execution_count": 22,
   "id": "c3f27b0a",
   "metadata": {
    "scrolled": false
   },
   "outputs": [
    {
     "data": {
      "image/png": "[encoded data removed]",
      "text/plain": [
       "<Figure size 640x480 with 1 Axes>"
      ]
     },
     "metadata": {},
     "output_type": "display_data"
    }
   ],
   "source": [
    "data.groupby('os_id')['clicks'].mean().plot.bar(title = \"Mean click probability depending on OS ID\", xlabel = \"OS ID\", color = \"#27AFC9\");"
   ]
  },
  {
   "cell_type": "markdown",
   "id": "3229f12d",
   "metadata": {},
   "source": [
    "+ 9 и 10 категории добавим к первой\n",
    "+ 7 к нулевой\n",
    "+ 8 ко второй\n"
   ]
  },
  {
   "cell_type": "markdown",
   "id": "e2bf17a0",
   "metadata": {},
   "source": [
    "> Разделим *campaign_clicks* другим способом (в HW1 использовалась бинарная фича: был клик до этого или нет)"
   ]
  },
  {
   "cell_type": "code",
   "execution_count": 23,
   "id": "4a9231c8",
   "metadata": {},
   "outputs": [
    {
     "data": {
      "image/png": "[encoded data removed]",
      "text/plain": [
       "<Figure size 640x480 with 1 Axes>"
      ]
     },
     "metadata": {},
     "output_type": "display_data"
    }
   ],
   "source": [
    "data.groupby('campaign_clicks')['clicks'].mean().plot(title = 'Mean click probability depending on clicks before');"
   ]
  },
  {
   "cell_type": "markdown",
   "id": "ecf8d8e1",
   "metadata": {},
   "source": [
    "*Наблюдение:* у часто показываемых реклам нет кликов (но там по одному наблюдению)\n",
    "\n",
    "Сделаем бинарную переменную: меньше 200 кликов и больше"
   ]
  },
  {
   "cell_type": "code",
   "execution_count": 8,
   "id": "778e2303",
   "metadata": {},
   "outputs": [
    {
     "data": {
      "text/html": [
       "<div>\n",
       "<style scoped>\n",
       "    .dataframe tbody tr th:only-of-type {\n",
       "        vertical-align: middle;\n",
       "    }\n",
       "\n",
       "    .dataframe tbody tr th {\n",
       "        vertical-align: top;\n",
       "    }\n",
       "\n",
       "    .dataframe thead th {\n",
       "        text-align: right;\n",
       "    }\n",
       "</style>\n",
       "<table border=\"1\" class=\"dataframe\">\n",
       "  <thead>\n",
       "    <tr style=\"text-align: right;\">\n",
       "      <th></th>\n",
       "      <th>date_time</th>\n",
       "      <th>zone_id</th>\n",
       "      <th>banner_id</th>\n",
       "      <th>oaid_hash</th>\n",
       "      <th>campaign_clicks</th>\n",
       "      <th>os_id</th>\n",
       "      <th>country_id</th>\n",
       "      <th>clicks</th>\n",
       "      <th>day</th>\n",
       "      <th>hour</th>\n",
       "      <th>before_clicks</th>\n",
       "    </tr>\n",
       "  </thead>\n",
       "  <tbody>\n",
       "    <tr>\n",
       "      <th>0</th>\n",
       "      <td>2021-09-27 00:01:30</td>\n",
       "      <td>0</td>\n",
       "      <td>0</td>\n",
       "      <td>-1</td>\n",
       "      <td>0</td>\n",
       "      <td>0</td>\n",
       "      <td>0</td>\n",
       "      <td>1</td>\n",
       "      <td>0</td>\n",
       "      <td>0</td>\n",
       "      <td>0</td>\n",
       "    </tr>\n",
       "    <tr>\n",
       "      <th>1</th>\n",
       "      <td>2021-09-26 22:54:49</td>\n",
       "      <td>1</td>\n",
       "      <td>1</td>\n",
       "      <td>-1</td>\n",
       "      <td>0</td>\n",
       "      <td>0</td>\n",
       "      <td>1</td>\n",
       "      <td>1</td>\n",
       "      <td>6</td>\n",
       "      <td>22</td>\n",
       "      <td>0</td>\n",
       "    </tr>\n",
       "    <tr>\n",
       "      <th>2</th>\n",
       "      <td>2021-09-26 23:57:20</td>\n",
       "      <td>2</td>\n",
       "      <td>2</td>\n",
       "      <td>2215519569292448030</td>\n",
       "      <td>3</td>\n",
       "      <td>0</td>\n",
       "      <td>0</td>\n",
       "      <td>1</td>\n",
       "      <td>6</td>\n",
       "      <td>23</td>\n",
       "      <td>0</td>\n",
       "    </tr>\n",
       "    <tr>\n",
       "      <th>3</th>\n",
       "      <td>2021-09-27 00:04:30</td>\n",
       "      <td>3</td>\n",
       "      <td>3</td>\n",
       "      <td>-1</td>\n",
       "      <td>0</td>\n",
       "      <td>1</td>\n",
       "      <td>1</td>\n",
       "      <td>1</td>\n",
       "      <td>0</td>\n",
       "      <td>0</td>\n",
       "      <td>0</td>\n",
       "    </tr>\n",
       "    <tr>\n",
       "      <th>4</th>\n",
       "      <td>2021-09-27 00:06:21</td>\n",
       "      <td>4</td>\n",
       "      <td>4</td>\n",
       "      <td>-1</td>\n",
       "      <td>0</td>\n",
       "      <td>1</td>\n",
       "      <td>0</td>\n",
       "      <td>1</td>\n",
       "      <td>0</td>\n",
       "      <td>0</td>\n",
       "      <td>0</td>\n",
       "    </tr>\n",
       "  </tbody>\n",
       "</table>\n",
       "</div>"
      ],
      "text/plain": [
       "            date_time  zone_id  banner_id            oaid_hash  \\\n",
       "0 2021-09-27 00:01:30        0          0                   -1   \n",
       "1 2021-09-26 22:54:49        1          1                   -1   \n",
       "2 2021-09-26 23:57:20        2          2  2215519569292448030   \n",
       "3 2021-09-27 00:04:30        3          3                   -1   \n",
       "4 2021-09-27 00:06:21        4          4                   -1   \n",
       "\n",
       "   campaign_clicks  os_id  country_id  clicks  day  hour  before_clicks  \n",
       "0                0      0           0       1    0     0              0  \n",
       "1                0      0           1       1    6    22              0  \n",
       "2                3      0           0       1    6    23              0  \n",
       "3                0      1           1       1    0     0              0  \n",
       "4                0      1           0       1    0     0              0  "
      ]
     },
     "execution_count": 8,
     "metadata": {},
     "output_type": "execute_result"
    }
   ],
   "source": [
    "# в impressions все единицы - удалим колонку\n",
    "data = data.drop('impressions', axis = 1)\n",
    "\n",
    "# date_time\n",
    "## достанем из date_time время суток и день недели\n",
    "data['day'] = data['date_time'].dt.weekday\n",
    "data['hour'] = data['date_time'].dt.hour\n",
    "\n",
    "# zone_id\n",
    "counts = data['zone_id'].value_counts()\n",
    "idxs = counts[counts < 20].index\n",
    "data.loc[data['zone_id'].isin(idxs), 'zone_id'] = -1\n",
    "\n",
    "# os_id\n",
    "data.os_id = data.os_id.replace({9: 1, 10: 1, 7: 2, 8: 2})\n",
    "\n",
    "# campaign_clicks\n",
    "data['before_clicks'] = data['campaign_clicks'] > 200\n",
    "data['before_clicks'] = data['before_clicks'].astype('int64')\n",
    "\n",
    "# oaid_hash\n",
    "counts = data['oaid_hash'].value_counts()\n",
    "idxs = counts[counts == 1].index\n",
    "data.loc[data['oaid_hash'].isin(idxs), 'oaid_hash'] = -1\n",
    "\n",
    "data.head()"
   ]
  },
  {
   "cell_type": "markdown",
   "id": "9b7c9e65",
   "metadata": {},
   "source": [
    "Разделим данные на трейн, валидацию и тест. В качестве теста возьмем последний день датасета, в качестве валидации - предпоследние полтора дня (выбрано так, чтобы размер был примерно как у теста)."
   ]
  },
  {
   "cell_type": "code",
   "execution_count": 9,
   "id": "acfac143",
   "metadata": {},
   "outputs": [
    {
     "name": "stdout",
     "output_type": "stream",
     "text": [
      "Train size: 10986206\n",
      "Validation size: 2706287\n",
      "Test size: 2128978\n"
     ]
    }
   ],
   "source": [
    "x_train = data[data['date_time'] < pd.to_datetime('2021-10-02')]\n",
    "x_val = x_train[~(x_train['date_time'] < pd.to_datetime('2021-09-30 12:00:00'))]\n",
    "x_train = x_train[(x_train['date_time'] < pd.to_datetime('2021-09-30 12:00:00'))]\n",
    "y_train, y_val = x_train['clicks'].values, x_val['clicks'].values\n",
    "x_test = data[~(data['date_time'] < pd.to_datetime('2021-10-02'))]\n",
    "y_test = x_test['clicks'].values\n",
    "print('Train size:', len(x_train))\n",
    "print('Validation size:', len(x_val))\n",
    "print('Test size:', len(x_test))"
   ]
  },
  {
   "cell_type": "code",
   "execution_count": 26,
   "id": "48c02552",
   "metadata": {
    "scrolled": true
   },
   "outputs": [],
   "source": [
    "# Удалим лишние колонки\n",
    "x_train = x_train.drop(columns = ['campaign_clicks', 'date_time', 'clicks'])\n",
    "x_val = x_val.drop(columns = ['campaign_clicks', 'date_time', 'clicks'])\n",
    "x_test = x_test.drop(columns = ['campaign_clicks', 'date_time', 'clicks'])"
   ]
  },
  {
   "cell_type": "code",
   "execution_count": 27,
   "id": "f9dde7ac",
   "metadata": {},
   "outputs": [],
   "source": [
    "# Получим one-hot encoded матрицу\n",
    "encoder = OneHotEncoder(sparse_output=True, handle_unknown='ignore')\n",
    "X_train = encoder.fit_transform(x_train)\n",
    "X_val = encoder.transform(x_val)\n",
    "X_test = encoder.transform(x_test)"
   ]
  },
  {
   "cell_type": "markdown",
   "id": "8ccf4a0f",
   "metadata": {},
   "source": [
    "Для того, чтобы использовать FFM из ***xlearn***, нужно привести данные к формату *libffm*:\n",
    "\n",
    "label field_1:index_1:value_1 field_2:index_2:value_2 ..."
   ]
  },
  {
   "cell_type": "code",
   "execution_count": 29,
   "id": "f693ea49",
   "metadata": {},
   "outputs": [],
   "source": [
    "# получим fields, чтобы удобно было доставать во время записи в файл\n",
    "fields = []\n",
    "for i, col in enumerate(x_train.columns):\n",
    "    fields += [i]*len(x_train[col].unique())\n",
    "fields = np.array(fields)"
   ]
  },
  {
   "cell_type": "code",
   "execution_count": 30,
   "id": "ab94bb4b",
   "metadata": {},
   "outputs": [],
   "source": [
    "def to_libffm(data, labels, output_file):\n",
    "    rows, indexes = data.nonzero()\n",
    "    values = data.data\n",
    "    with open(output_file, \"w\") as file:\n",
    "        file.write(f\"{labels[rows[0]]}\")\n",
    "        cur_row = rows[0]\n",
    "        for row, index, value in zip(rows, indexes, values):\n",
    "            # чтобы отделять наблюдения друг от друга\n",
    "            if row == cur_row:\n",
    "                file.write(f' {fields[index]}:{index}:{value}')\n",
    "            else:\n",
    "                file.write('\\n')\n",
    "                cur_row = row\n",
    "                file.write(f'{labels[cur_row]}')\n",
    "                file.write(f' {fields[index]}:{index}:{value}')"
   ]
  },
  {
   "cell_type": "code",
   "execution_count": 31,
   "id": "73b33916",
   "metadata": {},
   "outputs": [],
   "source": [
    "to_libffm(X_train, y_train, 'train.txt')\n",
    "to_libffm(X_val, y_val, 'val.txt')\n",
    "to_libffm(X_test, y_test, 'test.txt')"
   ]
  },
  {
   "cell_type": "markdown",
   "id": "036c0148",
   "metadata": {},
   "source": [
    "### Model: Field-aware Factorization Machine\n",
    "\n",
    "**Baseline**: средний предикт по выборке"
   ]
  },
  {
   "cell_type": "code",
   "execution_count": 35,
   "id": "d7fe80cf",
   "metadata": {},
   "outputs": [
    {
     "name": "stdout",
     "output_type": "stream",
     "text": [
      "Validation baseline:\n",
      "auc: 0.5\n",
      "log_loss: 0.16841889411733543\n"
     ]
    }
   ],
   "source": [
    "# baseline for validation\n",
    "print(\"Validation baseline:\")\n",
    "pred = np.ones_like(y_val) * y_val.mean()\n",
    "print(f\"auc: {roc_auc_score(y_val, pred)}\")\n",
    "print(f\"log_loss: {log_loss(y_val, pred)}\")"
   ]
  },
  {
   "cell_type": "code",
   "execution_count": 3,
   "id": "9abc2a0c",
   "metadata": {},
   "outputs": [],
   "source": [
    "ffm_model = xl.create_ffm() \n",
    "ffm_model.setTrain(\"train.txt\")"
   ]
  },
  {
   "cell_type": "code",
   "execution_count": null,
   "id": "adfec8f7",
   "metadata": {},
   "outputs": [],
   "source": [
    "ffm_model.setQuiet()"
   ]
  },
  {
   "cell_type": "code",
   "execution_count": 41,
   "id": "ef7d8eb9",
   "metadata": {},
   "outputs": [],
   "source": [
    "# default parameters for embedding size in xlearn library\n",
    "param = {'task':'binary', 'lr':0.2, 'lambda':0.002, 'k': 4, 'epoch' : 10, 'opt' : 'adagrad'}\n",
    "ffm_model.fit(param, \"model_default.out\")"
   ]
  },
  {
   "cell_type": "code",
   "execution_count": 14,
   "id": "55058a7a",
   "metadata": {},
   "outputs": [
    {
     "name": "stdout",
     "output_type": "stream",
     "text": [
      "auc: 0.7661961820773829\n",
      "log_loss: 0.15236212183309986\n"
     ]
    }
   ],
   "source": [
    "# checking vaidation metrics for the default model: better than baseline\n",
    "ffm_model.setSigmoid()\n",
    "ffm_model.setTest(\"val.txt\")\n",
    "pred = ffm_model.predict(\"model_default.out\")\n",
    "print(f\"auc: {roc_auc_score(y_val, pred)}\")\n",
    "print(f\"log_loss: {log_loss(y_val, pred)}\")"
   ]
  },
  {
   "cell_type": "markdown",
   "id": "ca40ae94",
   "metadata": {},
   "source": [
    "Теперь выберем размер эмбеддинга для модели и протестируем на валидационных данных.\n",
    "\n",
    "Будем перебирать следующие значения: 2, 4, 8, 16 (размер больше не влезает в оперативку)"
   ]
  },
  {
   "cell_type": "code",
   "execution_count": 44,
   "id": "2be37f2f",
   "metadata": {},
   "outputs": [
    {
     "name": "stdout",
     "output_type": "stream",
     "text": [
      "roc-auc for k = 2: 0.7658041018767737\n",
      "log_loss for k = 2: 0.15247663084644422\n",
      "roc-auc for k = 8: 0.7661604965842023\n",
      "log_loss for k = 8: 0.1526401433728459\n",
      "roc-auc for k = 16: 0.7663236358406769\n",
      "log_loss for k = 16: 0.15240009464246093\n",
      "Best embedding size = 4\n"
     ]
    }
   ],
   "source": [
    "best_auc = 0.7661961820773829\n",
    "best_loss = 0.15236212183309986\n",
    "best_k = 4\n",
    "for i, k in enumerate([2, 8, 16]):\n",
    "    param = {'task':'binary', 'lr':0.2, 'lambda':0.002, 'k': k, 'epoch' : 10, 'opt' : 'adagrad'}\n",
    "    ffm_model.fit(param, \"modelK\"+str(k)+\".out\")\n",
    "    ffm_model.setSigmoid()\n",
    "    ffm_model.setTest(\"val.txt\")\n",
    "    pred = ffm_model.predict(\"modelK\"+str(k)+\".out\")\n",
    "    roc_auc = roc_auc_score(y_val, pred)\n",
    "    logloss = log_loss(y_val, pred)\n",
    "    print(f\"roc-auc for k = {k}: {roc_auc}\")\n",
    "    print(f\"log_loss for k = {k}: {logloss}\")\n",
    "    if roc_auc >= best_auc and logloss <= best_loss:\n",
    "        best_auc = roc_auc\n",
    "        best_loss = logloss\n",
    "        best_k = k\n",
    "print(f\"Best embedding size = {best_k}\")"
   ]
  },
  {
   "cell_type": "markdown",
   "id": "d0d78c54",
   "metadata": {},
   "source": [
    "Попробуем поменять коэффициент регуляризации"
   ]
  },
  {
   "cell_type": "code",
   "execution_count": 45,
   "id": "32fffc85",
   "metadata": {},
   "outputs": [
    {
     "name": "stdout",
     "output_type": "stream",
     "text": [
      "roc-auc for lambda = 0.2: 0.7408369222192916\n",
      "log_loss for lambda = 0.2: 0.17233973736745078\n",
      "roc-auc for lambda = 0.02: 0.749043059015778\n",
      "log_loss for lambda = 0.02: 0.16400143216163868\n",
      "roc-auc for lambda = 0.0002: 0.7953045812045109\n",
      "log_loss for lambda = 0.0002: 0.1448886662815498\n",
      "roc-auc for lambda = 2e-05: 0.7793053054322663\n",
      "log_loss for lambda = 2e-05: 0.15377652314924106\n"
     ]
    }
   ],
   "source": [
    "best_auc = 0.7661961820773829\n",
    "best_loss = 0.15236212183309986\n",
    "best_lam = 0.002\n",
    "for i, lam in enumerate([0.2 ,0.02, 0.0002, 0.00002]):\n",
    "    param = {'task':'binary', 'lr':0.2, 'lambda':lam, 'k': 4, 'epoch' : 10, 'opt' : 'adagrad'}\n",
    "    ffm_model.fit(param, \"modelLam\"+str(lam)+\".out\")\n",
    "    ffm_model.setSigmoid()\n",
    "    ffm_model.setTest(\"val.txt\")\n",
    "    pred = ffm_model.predict(\"modelLam\"+str(lam)+\".out\")\n",
    "    roc_auc = roc_auc_score(y_val, pred)\n",
    "    logloss = log_loss(y_val, pred)\n",
    "    print(f\"roc-auc for lambda = {lam}: {roc_auc}\")\n",
    "    print(f\"log_loss for lambda = {lam}: {logloss}\")\n",
    "    if roc_auc >= best_auc and logloss <= best_loss:\n",
    "        best_auc = roc_auc\n",
    "        best_loss = logloss\n",
    "        best_lam = lam"
   ]
  },
  {
   "cell_type": "markdown",
   "id": "9d0048bf",
   "metadata": {},
   "source": [
    "Наилучший коэффициент регуляризации: $\\lambda = 0.0002$. Попробуем уменьшить и увеличить learning rate."
   ]
  },
  {
   "cell_type": "code",
   "execution_count": 46,
   "id": "62ece8e9",
   "metadata": {},
   "outputs": [
    {
     "name": "stdout",
     "output_type": "stream",
     "text": [
      "roc-auc: 0.7938316667911266\n",
      "log_loss: 0.14585126933724027\n"
     ]
    }
   ],
   "source": [
    "# при lr = 0.1: стало чуть хуже\n",
    "param = {'task':'binary', 'lr':0.1, 'lambda': 0.0002, 'k': 4, 'epoch' : 30, 'opt' : 'adagrad'}\n",
    "ffm_model.fit(param, \"modelLR\"+\"_1\"+\".out\")\n",
    "ffm_model.setSigmoid()\n",
    "ffm_model.setTest(\"val.txt\")\n",
    "pred = ffm_model.predict(\"modelLR\"+\"_1\"+\".out\")\n",
    "roc_auc = roc_auc_score(y_val, pred)\n",
    "logloss = log_loss(y_val, pred)\n",
    "print(f\"roc-auc: {roc_auc}\")\n",
    "print(f\"log_loss: {logloss}\")"
   ]
  },
  {
   "cell_type": "code",
   "execution_count": 10,
   "id": "09d82a29",
   "metadata": {},
   "outputs": [
    {
     "name": "stdout",
     "output_type": "stream",
     "text": [
      "roc-auc: 0.7626494067073093\n",
      "log_loss: 0.15997128122598675\n"
     ]
    }
   ],
   "source": [
    "# при lr = 0.3: стало хуже\n",
    "param = {'task':'binary', 'lr':0.3, 'lambda': 0.0002, 'k': 4, 'epoch' : 30, 'opt' : 'adagrad'}\n",
    "ffm_model.fit(param, \"modelLR\"+\"_3\"+\".out\")\n",
    "ffm_model.setSigmoid()\n",
    "ffm_model.setTest(\"val.txt\")\n",
    "pred = ffm_model.predict(\"modelLR\"+\"_3\"+\".out\")\n",
    "roc_auc = roc_auc_score(y_val, pred)\n",
    "logloss = log_loss(y_val, pred)\n",
    "print(f\"roc-auc: {roc_auc}\")\n",
    "print(f\"log_loss: {logloss}\")"
   ]
  },
  {
   "cell_type": "markdown",
   "id": "1eefd45b",
   "metadata": {},
   "source": [
    "**Финальная модель:** k = 4, lr = 0.2, lambda = 0.0002"
   ]
  },
  {
   "cell_type": "markdown",
   "id": "88b00aff",
   "metadata": {},
   "source": [
    "### Оценка на тесте и сравнение с baseline\n",
    "\n",
    "> в HW1 у меня был другой бейзлайн (всем предсказывать неклик), там log loss = 1.28, поэтому моя модель из HW1 его побила\n",
    "\n",
    "Метрики HW1:\n",
    "\n",
    "+ *log loss* = 0.59\n",
    "+ *roc auc score* = 0.74"
   ]
  },
  {
   "cell_type": "code",
   "execution_count": 11,
   "id": "00a76064",
   "metadata": {},
   "outputs": [
    {
     "name": "stdout",
     "output_type": "stream",
     "text": [
      "test auc: 0.7931429409991607\n",
      "test log_loss: 0.1328144494195699\n"
     ]
    }
   ],
   "source": [
    "# checking test metrics for the chosen model\n",
    "ffm_model.setSigmoid()\n",
    "ffm_model.setTest(\"test.txt\")\n",
    "pred = ffm_model.predict(\"modelLR\"+\"_1\"+\".out\")\n",
    "print(f\"test auc: {roc_auc_score(y_test, pred)}\")\n",
    "print(f\"test log_loss: {log_loss(y_test, pred)}\")"
   ]
  },
  {
   "cell_type": "code",
   "execution_count": 12,
   "id": "be893a7e",
   "metadata": {},
   "outputs": [
    {
     "name": "stdout",
     "output_type": "stream",
     "text": [
      "Test Baseline:\n",
      "auc: 0.5\n",
      "log_loss: 0.15303289904918538\n"
     ]
    }
   ],
   "source": [
    "# test baseline\n",
    "print(\"Test Baseline:\")\n",
    "pred = np.ones_like(y_test) * y_test.mean()\n",
    "print(f\"auc: {roc_auc_score(y_test, pred)}\")\n",
    "print(f\"log_loss: {log_loss(y_test, pred)}\")"
   ]
  },
  {
   "cell_type": "markdown",
   "id": "e63e59be",
   "metadata": {},
   "source": [
    "**Вывод:** получилось побить бейзлайн и результаты HW1 по обеим метрикам\n",
    "\n",
    "+ log_loss(HW2) < log_loss(HW1)\n",
    "\n",
    "+ roc_auc(HW2) > roc_auc(HW1)"
   ]
  }
 ],
 "metadata": {
  "kernelspec": {
   "display_name": "Python 3 (ipykernel)",
   "language": "python",
   "name": "python3"
  },
  "language_info": {
   "codemirror_mode": {
    "name": "ipython",
    "version": 3
   },
   "file_extension": ".py",
   "mimetype": "text/x-python",
   "name": "python",
   "nbconvert_exporter": "python",
   "pygments_lexer": "ipython3",
   "version": "3.8.8"
  }
 },
 "nbformat": 4,
 "nbformat_minor": 5
}
