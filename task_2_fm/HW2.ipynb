{
 "cells": [
  {
   "cell_type": "code",
   "execution_count": 19,
   "id": "6096539c-2767-48bb-a08c-4b435e860abf",
   "metadata": {},
   "outputs": [],
   "source": [
    "# import os\n",
    "# os.environ['PATH'] += r';D:\\Program Files\\Microsoft Visual Studio\\2022\\Community\\MSBuild\\Current\\Bin'"
   ]
  },
  {
   "cell_type": "code",
   "execution_count": 20,
   "id": "f1c3b383-2cce-4b4e-b7a0-e8b2c298a66a",
   "metadata": {},
   "outputs": [],
   "source": [
    "# !git clone https://github.com/aksnzhy/xlearn.git"
   ]
  },
  {
   "cell_type": "code",
   "execution_count": 22,
   "id": "ca4197f8-7177-4d16-89f4-4b63294bf07b",
   "metadata": {},
   "outputs": [],
   "source": [
    "# %cd xlearn\n",
    "#!mkdir build\n",
    "#%cd build"
   ]
  },
  {
   "cell_type": "code",
   "execution_count": 23,
   "id": "c8406c5b-cd30-4314-8b73-d2f39f1c0758",
   "metadata": {},
   "outputs": [],
   "source": [
    "#!cmake -G \"Visual Studio 17\" -A x64 ../ && \"D:\\\\Program Files\\\\Microsoft Visual Studio\\\\2022\\\\Community\\\\VC\\\\Auxiliary\\\\Build\\\\vcvarsall.bat\" x64"
   ]
  },
  {
   "cell_type": "code",
   "execution_count": 24,
   "id": "8fcc4438-00bb-418d-8957-f622c4e39ea9",
   "metadata": {
    "scrolled": true
   },
   "outputs": [],
   "source": [
    "#!MSBuild xLearn.sln /p:Configuration=Release"
   ]
  },
  {
   "cell_type": "code",
   "execution_count": 25,
   "id": "a7516a08-edfe-4922-86c8-a441a134740b",
   "metadata": {
    "scrolled": true
   },
   "outputs": [],
   "source": [
    "# %cd python-package\n",
    "# !python setup.py install"
   ]
  },
  {
   "cell_type": "code",
   "execution_count": 1,
   "id": "6e9a1edb-4737-4140-800a-ae520f022ca7",
   "metadata": {},
   "outputs": [],
   "source": [
    "import pandas as pd\n",
    "import matplotlib.pyplot as plt\n",
    "import numpy as np\n",
    "from tqdm.auto import tqdm"
   ]
  },
  {
   "cell_type": "markdown",
   "id": "944ad34f-87e8-4ecc-9aad-7cc71ee9ee53",
   "metadata": {},
   "source": [
    "- date_time - время показа рекламы\n",
    "- oaid_hash - хэш юзера\n",
    "- zone_id - id зоны, где зона - место на сайте для размещения рекламы\n",
    "- banner_id - id баннера, где баннер - сама реклама\n",
    "- campaign_clicks - общее количество показов данной кампании (которой соотвествует баннер) данному юзеру, произошедшие до текущего показа. Кампанию стоит понимать как что-то общее (рекламодатель/тематика/ и т. п.) для баннеров.\n",
    "- os_id - id операционной системы\n",
    "- country_id - id страны  \n",
    "- clicks - был ли клик"
   ]
  },
  {
   "cell_type": "markdown",
   "id": "13751a5e-16db-43e6-9eff-4db6d4ee962e",
   "metadata": {},
   "source": [
    "Не будем использовать 'impressions': в прошлый раз выяснили, что это бесполезно."
   ]
  },
  {
   "cell_type": "code",
   "execution_count": 2,
   "id": "53e8f9a5-f278-40df-a18c-8c95bb259866",
   "metadata": {},
   "outputs": [
    {
     "data": {
      "text/html": [
       "<div>\n",
       "<style scoped>\n",
       "    .dataframe tbody tr th:only-of-type {\n",
       "        vertical-align: middle;\n",
       "    }\n",
       "\n",
       "    .dataframe tbody tr th {\n",
       "        vertical-align: top;\n",
       "    }\n",
       "\n",
       "    .dataframe thead th {\n",
       "        text-align: right;\n",
       "    }\n",
       "</style>\n",
       "<table border=\"1\" class=\"dataframe\">\n",
       "  <thead>\n",
       "    <tr style=\"text-align: right;\">\n",
       "      <th></th>\n",
       "      <th>date_time</th>\n",
       "      <th>zone_id</th>\n",
       "      <th>banner_id</th>\n",
       "      <th>oaid_hash</th>\n",
       "      <th>campaign_clicks</th>\n",
       "      <th>os_id</th>\n",
       "      <th>country_id</th>\n",
       "      <th>clicks</th>\n",
       "    </tr>\n",
       "  </thead>\n",
       "  <tbody>\n",
       "    <tr>\n",
       "      <th>0</th>\n",
       "      <td>2021-09-27 00:01:30</td>\n",
       "      <td>0</td>\n",
       "      <td>0</td>\n",
       "      <td>5664530014561852622</td>\n",
       "      <td>0</td>\n",
       "      <td>0</td>\n",
       "      <td>0</td>\n",
       "      <td>1</td>\n",
       "    </tr>\n",
       "    <tr>\n",
       "      <th>1</th>\n",
       "      <td>2021-09-26 22:54:49</td>\n",
       "      <td>1</td>\n",
       "      <td>1</td>\n",
       "      <td>5186611064559013950</td>\n",
       "      <td>0</td>\n",
       "      <td>0</td>\n",
       "      <td>1</td>\n",
       "      <td>1</td>\n",
       "    </tr>\n",
       "    <tr>\n",
       "      <th>2</th>\n",
       "      <td>2021-09-26 23:57:20</td>\n",
       "      <td>2</td>\n",
       "      <td>2</td>\n",
       "      <td>2215519569292448030</td>\n",
       "      <td>3</td>\n",
       "      <td>0</td>\n",
       "      <td>0</td>\n",
       "      <td>1</td>\n",
       "    </tr>\n",
       "    <tr>\n",
       "      <th>3</th>\n",
       "      <td>2021-09-27 00:04:30</td>\n",
       "      <td>3</td>\n",
       "      <td>3</td>\n",
       "      <td>6262169206735077204</td>\n",
       "      <td>0</td>\n",
       "      <td>1</td>\n",
       "      <td>1</td>\n",
       "      <td>1</td>\n",
       "    </tr>\n",
       "    <tr>\n",
       "      <th>4</th>\n",
       "      <td>2021-09-27 00:06:21</td>\n",
       "      <td>4</td>\n",
       "      <td>4</td>\n",
       "      <td>4778985830203613115</td>\n",
       "      <td>0</td>\n",
       "      <td>1</td>\n",
       "      <td>0</td>\n",
       "      <td>1</td>\n",
       "    </tr>\n",
       "  </tbody>\n",
       "</table>\n",
       "</div>"
      ],
      "text/plain": [
       "            date_time  zone_id  banner_id            oaid_hash  \\\n",
       "0 2021-09-27 00:01:30        0          0  5664530014561852622   \n",
       "1 2021-09-26 22:54:49        1          1  5186611064559013950   \n",
       "2 2021-09-26 23:57:20        2          2  2215519569292448030   \n",
       "3 2021-09-27 00:04:30        3          3  6262169206735077204   \n",
       "4 2021-09-27 00:06:21        4          4  4778985830203613115   \n",
       "\n",
       "   campaign_clicks  os_id  country_id  clicks  \n",
       "0                0      0           0       1  \n",
       "1                0      0           1       1  \n",
       "2                3      0           0       1  \n",
       "3                0      1           1       1  \n",
       "4                0      1           0       1  "
      ]
     },
     "execution_count": 2,
     "metadata": {},
     "output_type": "execute_result"
    }
   ],
   "source": [
    "data0 = pd.read_csv('data.csv',\n",
    "                   usecols=['date_time', 'oaid_hash', 'zone_id', 'banner_id',\n",
    "                            'campaign_clicks','os_id', 'country_id', 'clicks'],\n",
    "                   parse_dates=['date_time']\n",
    "                  )\n",
    "data0.head()"
   ]
  },
  {
   "cell_type": "code",
   "execution_count": 3,
   "id": "316f584c-ecde-47e2-884f-ba942b2122ac",
   "metadata": {},
   "outputs": [
    {
     "name": "stdout",
     "output_type": "stream",
     "text": [
      "data size: (15821472, 8)\n"
     ]
    }
   ],
   "source": [
    "print(f'data size: {data0.shape}')"
   ]
  },
  {
   "cell_type": "markdown",
   "id": "3d57f168-bac0-4349-816d-56de09715003",
   "metadata": {},
   "source": [
    "Новая фича только 'oaid_hash'. Посмотрим на нее, а также на даты."
   ]
  },
  {
   "cell_type": "code",
   "execution_count": 57,
   "id": "be576273-cff0-4932-b17e-d1c0a4619ca7",
   "metadata": {},
   "outputs": [
    {
     "name": "stdout",
     "output_type": "stream",
     "text": [
      "Check data values:\n",
      "date_time\n",
      "2021-09-26    3102610\n",
      "2021-09-29    2420588\n",
      "2021-09-27    2367303\n",
      "2021-09-28    2307355\n",
      "2021-10-02    2128978\n",
      "2021-09-30    1851189\n",
      "2021-10-01    1643448\n",
      "2021-09-01          1\n",
      "Name: count, dtype: int64\n",
      "\n",
      "oaid_hash has 6510316 different values\n",
      "\n",
      "\n",
      "campaign_clicks values range [0,829]\n",
      "\n",
      "\n",
      "lets check cumulative hour values:\n"
     ]
    },
    {
     "data": {
      "image/png": "[encoded data removed]",
      "text/plain": [
       "<Figure size 640x480 with 1 Axes>"
      ]
     },
     "metadata": {},
     "output_type": "display_data"
    }
   ],
   "source": [
    "def analysis(df: pd.DataFrame):\n",
    "    print('Check data values:')\n",
    "    print(df['date_time'].dt.date.value_counts(), end='\\n\\n')\n",
    "    \n",
    "    print(f\"{'oaid_hash'} has {len(np.unique(df['oaid_hash'].values))} different values\\n\\n\")\n",
    "\n",
    "    print(f\"campaign_clicks values range [{min(df['campaign_clicks'].values)},{max(df['campaign_clicks'].values)}]\\n\\n\")\n",
    "\n",
    "    print('lets check cumulative hour values:')\n",
    "    plt.hist(df['date_time'].dt.hour, \n",
    "         bins=24, \n",
    "         cumulative=True, \n",
    "         density=True,\n",
    "         rwidth=0.7)\n",
    "    plt.xticks(list(range(24)))\n",
    "    plt.grid(True)\n",
    "    plt.show()\n",
    "\n",
    "analysis(data0)"
   ]
  },
  {
   "cell_type": "markdown",
   "id": "269b4159-527a-4cf9-9842-8857e03f46f1",
   "metadata": {},
   "source": [
    "Во-первых, уберем выброс:"
   ]
  },
  {
   "cell_type": "code",
   "execution_count": 3,
   "id": "9b72348d-16ae-4fd3-9e02-45ec5d9a5bf4",
   "metadata": {},
   "outputs": [],
   "source": [
    "data = data0[data0['date_time'].dt.date != pd.to_datetime('2021-09-01').date()]"
   ]
  },
  {
   "cell_type": "code",
   "execution_count": 14,
   "id": "264b5a10-8059-45f7-8f78-033dc4afddd9",
   "metadata": {},
   "outputs": [
    {
     "data": {
      "text/plain": [
       "(15821471, 8)"
      ]
     },
     "execution_count": 14,
     "metadata": {},
     "output_type": "execute_result"
    }
   ],
   "source": [
    "data.shape"
   ]
  },
  {
   "cell_type": "markdown",
   "id": "7e534b87-255b-482e-898f-1d066d745fc8",
   "metadata": {},
   "source": [
    "Во-вторых, как и в прошлый раз мы оставим от даты только часы. Но в этот раз учтем прошлые ошибки и поделим для валидации по часам. По гистограмме видно, что 80% это до примерно до 19 часов включительно. Это в дальнейшем выделим в трейн, остальное - валидация. \n",
    "Проверим:"
   ]
  },
  {
   "cell_type": "code",
   "execution_count": 48,
   "id": "932d8297-f7e6-4355-9c2c-021b3e4d865b",
   "metadata": {},
   "outputs": [
    {
     "name": "stdout",
     "output_type": "stream",
     "text": [
      "train < 20 val/train: 0.2477245930071302\n",
      "train < 21 val/train: 0.14954870240224621\n"
     ]
    }
   ],
   "source": [
    "print(f\"train < 20 val/train: {len(data[data['date_time'].dt.hour > 19]) / len(data[data['date_time'].dt.hour < 20])}\")\n",
    "print(f\"train < 21 val/train: {len(data[data['date_time'].dt.hour > 20]) / len(data[data['date_time'].dt.hour < 21])}\")"
   ]
  },
  {
   "cell_type": "markdown",
   "id": "045b8b64-865d-438c-9563-e8bc047c0383",
   "metadata": {},
   "source": [
    "Лучше используем второй вариант."
   ]
  },
  {
   "cell_type": "markdown",
   "id": "b1fa9a9e-f804-4f8d-9345-cd83988334c5",
   "metadata": {},
   "source": [
    "Разобьем датасет:"
   ]
  },
  {
   "cell_type": "code",
   "execution_count": 4,
   "id": "f47f55fe-3b13-47fe-bff6-c39a1008452d",
   "metadata": {},
   "outputs": [],
   "source": [
    "data_train_val = data[data['date_time'].dt.date != pd.to_datetime('2021-10-02').date()]\n",
    "data_val = data_train_val[data_train_val['date_time'].dt.hour > 20]\n",
    "data_train = data_train_val[data_train_val['date_time'].dt.hour < 21]\n",
    "\n",
    "data_test = data[data['date_time'].dt.date == pd.to_datetime('2021-10-02').date()]\n",
    "\n",
    "y_train = data_train['clicks']\n",
    "y_val = data_val['clicks']\n",
    "y_test = data_test['clicks']"
   ]
  },
  {
   "cell_type": "markdown",
   "id": "0899bb78-7674-4149-ab86-05b36f4cdfe8",
   "metadata": {},
   "source": [
    " \n",
    "Далее будет использоваться ffm. Из этого следует несколько нюансов обработки:\n",
    "\n",
    "1) Как написано в статье: \"Note that according to the number of possible values in a categorical feature, the same number of binary features are generated and every time only one of them has the value 1. In the LIBSVM (LIBFFM) format, features with zero values are not stored\".  То есть не будем применять OneHot явно, просто при формирвоании ffm датасета напишем 1, где нужно. Строка в ffm датасете будет выглядеть так: `label field_idx:field_featureValue_idx:1 ...`\n",
    "2) \"There are two possible ways to assign fields. A naive way is to treat each feature as a dummy field, so the generated data is : `feature:feature:feature_val`. However, the dummy fields may not be informative because they are merely duplicates of features. Another possible way is to discretize each numerical feature to a categorical one. Then, we can use the same setting for categorical features to add field information. The generated data looks like:  `label field_idx:feature_val:1` .\" Дискретизировать не придется, у нас не категориальная фича int. Также получается, что скейлить не надо.\n",
    "\n",
    "Получается, нам надо только даты превратить в часы."
   ]
  },
  {
   "cell_type": "code",
   "execution_count": 16,
   "id": "ca4528d6-e5c4-4937-91dd-72a199c4d123",
   "metadata": {},
   "outputs": [
    {
     "data": {
      "text/html": [
       "<div>\n",
       "<style scoped>\n",
       "    .dataframe tbody tr th:only-of-type {\n",
       "        vertical-align: middle;\n",
       "    }\n",
       "\n",
       "    .dataframe tbody tr th {\n",
       "        vertical-align: top;\n",
       "    }\n",
       "\n",
       "    .dataframe thead th {\n",
       "        text-align: right;\n",
       "    }\n",
       "</style>\n",
       "<table border=\"1\" class=\"dataframe\">\n",
       "  <thead>\n",
       "    <tr style=\"text-align: right;\">\n",
       "      <th></th>\n",
       "      <th>zone_id</th>\n",
       "      <th>banner_id</th>\n",
       "      <th>oaid_hash</th>\n",
       "      <th>campaign_clicks</th>\n",
       "      <th>os_id</th>\n",
       "      <th>country_id</th>\n",
       "      <th>clicks</th>\n",
       "      <th>hour</th>\n",
       "    </tr>\n",
       "  </thead>\n",
       "  <tbody>\n",
       "    <tr>\n",
       "      <th>0</th>\n",
       "      <td>0</td>\n",
       "      <td>0</td>\n",
       "      <td>5664530014561852622</td>\n",
       "      <td>0</td>\n",
       "      <td>0</td>\n",
       "      <td>0</td>\n",
       "      <td>1</td>\n",
       "      <td>0</td>\n",
       "    </tr>\n",
       "    <tr>\n",
       "      <th>3</th>\n",
       "      <td>3</td>\n",
       "      <td>3</td>\n",
       "      <td>6262169206735077204</td>\n",
       "      <td>0</td>\n",
       "      <td>1</td>\n",
       "      <td>1</td>\n",
       "      <td>1</td>\n",
       "      <td>0</td>\n",
       "    </tr>\n",
       "    <tr>\n",
       "      <th>4</th>\n",
       "      <td>4</td>\n",
       "      <td>4</td>\n",
       "      <td>4778985830203613115</td>\n",
       "      <td>0</td>\n",
       "      <td>1</td>\n",
       "      <td>0</td>\n",
       "      <td>1</td>\n",
       "      <td>0</td>\n",
       "    </tr>\n",
       "    <tr>\n",
       "      <th>5</th>\n",
       "      <td>5</td>\n",
       "      <td>5</td>\n",
       "      <td>2377014068362699676</td>\n",
       "      <td>0</td>\n",
       "      <td>2</td>\n",
       "      <td>2</td>\n",
       "      <td>1</td>\n",
       "      <td>0</td>\n",
       "    </tr>\n",
       "    <tr>\n",
       "      <th>6</th>\n",
       "      <td>6</td>\n",
       "      <td>6</td>\n",
       "      <td>6863358899511896876</td>\n",
       "      <td>0</td>\n",
       "      <td>3</td>\n",
       "      <td>0</td>\n",
       "      <td>1</td>\n",
       "      <td>0</td>\n",
       "    </tr>\n",
       "  </tbody>\n",
       "</table>\n",
       "</div>"
      ],
      "text/plain": [
       "   zone_id  banner_id            oaid_hash  campaign_clicks  os_id  \\\n",
       "0        0          0  5664530014561852622                0      0   \n",
       "3        3          3  6262169206735077204                0      1   \n",
       "4        4          4  4778985830203613115                0      1   \n",
       "5        5          5  2377014068362699676                0      2   \n",
       "6        6          6  6863358899511896876                0      3   \n",
       "\n",
       "   country_id  clicks  hour  \n",
       "0           0       1     0  \n",
       "3           1       1     0  \n",
       "4           0       1     0  \n",
       "5           2       1     0  \n",
       "6           0       1     0  "
      ]
     },
     "execution_count": 16,
     "metadata": {},
     "output_type": "execute_result"
    }
   ],
   "source": [
    "def feature_engineering(df):\n",
    "    modified_df = df.copy(deep=True)\n",
    "    modified_df['hour'] = df['date_time'].dt.hour\n",
    "    modified_df = modified_df.drop('date_time', axis=1)\n",
    "    return modified_df\n",
    "    \n",
    "modified_X_train = feature_engineering(data_train)\n",
    "modified_X_val = feature_engineering(data_val)\n",
    "modified_X_test = feature_engineering(data_test)\n",
    "modified_X_train.head()"
   ]
  },
  {
   "cell_type": "markdown",
   "id": "4678a563-beaa-4c54-bb7b-4890abff138a",
   "metadata": {},
   "source": [
    "Я могу придумать только два fields (user и adv), что смысла не имеет. Возьмем тогда каждую фичу за field, все равно не много фичей."
   ]
  },
  {
   "cell_type": "markdown",
   "id": "012499c7-266c-4891-b590-8ca1923effcd",
   "metadata": {},
   "source": [
    "Нам надо будет заэнкодить значения, создадим словарик, чтобы применить кодировку к валидационной и тренировочной выборке."
   ]
  },
  {
   "cell_type": "code",
   "execution_count": 58,
   "id": "4c82a037-a0ff-4174-82c2-232818eb39ac",
   "metadata": {},
   "outputs": [],
   "source": [
    "encoder_field_featureVal = {\"cur_code\": 830,\n",
    "                            \"codes\": {}}\n",
    "# поле b в a:b:1 не должно повторяться\n",
    "# но мы относимся к численной фиче(она у нас одна) как к категориальной: field_idx:feature_val:1\n",
    "# тогда feature_val будет принимать значения до max(numerical feature) = 829 у численной фичи\n",
    "# поэтому для категориальных фичей надо начать со следующего числа"
   ]
  },
  {
   "cell_type": "code",
   "execution_count": 59,
   "id": "a431bc79-575d-4583-952f-c15c69d5e777",
   "metadata": {},
   "outputs": [],
   "source": [
    "def make_ffm_data(df, data_type, encoder_field_featureVal):\n",
    "    features = [f for f in df.columns.values.tolist() if f != 'clicks']\n",
    "\n",
    "    with open(data_type + '.txt', \"w+\") as file:\n",
    "        for row_idx in tqdm(range(df.shape[0])):\n",
    "            #cur_string = \"\"\n",
    "            cur_row = df.iloc[row_idx].to_dict()\n",
    "            cur_str = f\"{cur_row['clicks']}\"\n",
    "            #cur_str = str(int(cur_row['clicks']))\n",
    "\n",
    "            for feature_idx, feature in enumerate(features):\n",
    "                # с численной фичей разбираемся, как было написано выше\n",
    "                if feature == 'campaign_clicks':\n",
    "                    cur_str += f\" {feature_idx}:{cur_row['campaign_clicks']}:1\"\n",
    "                else:\n",
    "                    # если первый раз видим фичу, добавляем ей словарик и энкодим значение\n",
    "                    if feature not in encoder_field_featureVal['codes']:\n",
    "                        encoder_field_featureVal['codes'][feature] = {}\n",
    "                        encoder_field_featureVal['codes'][feature][cur_row[feature]] = encoder_field_featureVal['cur_code']\n",
    "                        encoder_field_featureVal['cur_code'] += 1\n",
    "\n",
    "                    # если фича есть, но значение новое\n",
    "                    elif cur_row[feature] not in encoder_field_featureVal['codes'][feature]:\n",
    "                        encoder_field_featureVal['codes'][feature][cur_row[feature]] = encoder_field_featureVal['cur_code']\n",
    "                        encoder_field_featureVal['cur_code'] += 1\n",
    "\n",
    "                    code = encoder_field_featureVal['codes'][feature][cur_row[feature]]\n",
    "                    cur_str += f\" {feature_idx}:{code}:1\"\n",
    "\n",
    "            cur_str += '\\n'\n",
    "            file.write(cur_str)\n",
    "\n",
    "# inspired by: https://xlearn-doc.readthedocs.io/en/latest/tutorial/index.html  (tutorial)"
   ]
  },
  {
   "cell_type": "code",
   "execution_count": null,
   "id": "3a238292-8c71-41e1-a1f6-585efc6ba602",
   "metadata": {
    "scrolled": true
   },
   "outputs": [],
   "source": [
    "make_ffm_data(modified_X_train, 'train', encoder_field_featureVal)"
   ]
  },
  {
   "cell_type": "code",
   "execution_count": 61,
   "id": "25f04a97-5cee-4afc-85f1-59a362c52a80",
   "metadata": {},
   "outputs": [
    {
     "name": "stdout",
     "output_type": "stream",
     "text": [
      "1 0:830:1 1:831:1 2:832:1 3:0:1 4:833:1 5:834:1 6:835:1\n",
      "\n",
      "1 0:836:1 1:837:1 2:838:1 3:0:1 4:839:1 5:840:1 6:835:1\n",
      "\n",
      "1 0:841:1 1:842:1 2:843:1 3:0:1 4:839:1 5:834:1 6:835:1\n",
      "\n",
      "1 0:844:1 1:845:1 2:846:1 3:0:1 4:847:1 5:848:1 6:835:1\n",
      "\n",
      "1 0:849:1 1:850:1 2:851:1 3:0:1 4:852:1 5:834:1 6:835:1\n",
      "\n"
     ]
    }
   ],
   "source": [
    "with open('train.txt', 'r') as file:\n",
    "    for i in range(5):\n",
    "        line = file.readline()\n",
    "        print(line)"
   ]
  },
  {
   "cell_type": "code",
   "execution_count": null,
   "id": "c1a05b9c-8842-472e-8220-c65daf9e553a",
   "metadata": {
    "scrolled": true
   },
   "outputs": [],
   "source": [
    "make_ffm_data(modified_X_val, 'val',encoder_field_featureVal)"
   ]
  },
  {
   "cell_type": "code",
   "execution_count": 64,
   "id": "afa06954-8618-41f5-b3b1-a49f5dc2ee52",
   "metadata": {},
   "outputs": [
    {
     "name": "stdout",
     "output_type": "stream",
     "text": [
      "1 0:861:1 1:2762:1 2:5034601:1 3:0:1 4:833:1 5:840:1 6:5034602:1\n",
      "\n",
      "1 0:1078:1 1:947:1 2:10813:1 3:3:1 4:833:1 5:834:1 6:5034603:1\n",
      "\n",
      "1 0:961:1 1:947:1 2:5034604:1 3:0:1 4:833:1 5:834:1 6:5034603:1\n",
      "\n",
      "1 0:882:1 1:4483:1 2:4924806:1 3:0:1 4:839:1 5:874:1 6:5034603:1\n",
      "\n",
      "1 0:914:1 1:901:1 2:307447:1 3:3:1 4:833:1 5:834:1 6:5034603:1\n",
      "\n"
     ]
    }
   ],
   "source": [
    "with open('val.txt', 'r') as file:\n",
    "    for i in range(5):\n",
    "        line = file.readline()\n",
    "        print(line)"
   ]
  },
  {
   "cell_type": "code",
   "execution_count": null,
   "id": "152dbcb4-c16c-482c-86ca-b6c5bc3072c6",
   "metadata": {},
   "outputs": [],
   "source": [
    "make_ffm_data(modified_X_test, 'test', encoder_field_featureVal)"
   ]
  },
  {
   "cell_type": "code",
   "execution_count": 66,
   "id": "f649d244-184a-48ce-b68b-27d4ce5b73e2",
   "metadata": {},
   "outputs": [
    {
     "name": "stdout",
     "output_type": "stream",
     "text": [
      "1 0:857:1 1:163119:1 2:5378385:1 3:0:1 4:839:1 5:860:1 6:835:1\n",
      "\n",
      "1 0:882:1 1:999:1 2:5666215:1 3:0:1 4:971:1 5:834:1 6:835:1\n",
      "\n",
      "1 0:975:1 1:163119:1 2:5666216:1 3:0:1 4:847:1 5:860:1 6:835:1\n",
      "\n",
      "1 0:882:1 1:999:1 2:1002406:1 3:0:1 4:833:1 5:834:1 6:835:1\n",
      "\n",
      "1 0:882:1 1:947:1 2:35311:1 3:0:1 4:833:1 5:834:1 6:835:1\n",
      "\n"
     ]
    }
   ],
   "source": [
    "with open('test.txt', 'r') as file:\n",
    "    for i in range(5):\n",
    "        line = file.readline()\n",
    "        print(line)"
   ]
  },
  {
   "cell_type": "markdown",
   "id": "db9570cb-f4af-4f3f-a4ed-a616f3cc4986",
   "metadata": {},
   "source": [
    "Приступим к тестированию моделей."
   ]
  },
  {
   "cell_type": "code",
   "execution_count": 5,
   "id": "9431b16e-e5e1-41df-855e-ad5efdf1f70d",
   "metadata": {},
   "outputs": [],
   "source": [
    "import xlearn as xl"
   ]
  },
  {
   "cell_type": "code",
   "execution_count": 3,
   "id": "d45f8ae9-f38a-4ab3-b8b1-124b0706dfb5",
   "metadata": {},
   "outputs": [],
   "source": [
    "for emb_size in [10]:\n",
    "    for lr in [0.1,0.2,0.5]:#[0.1 ,0.2]: \n",
    "        for lmbd in [0.001]: #[0.1, 1]\n",
    "            model = xl.create_ffm()\n",
    "            model.setTrain(\"train.txt\")\n",
    "            model.setValidate(\"val.txt\")\n",
    "            param = {'task':'binary',\n",
    "                     'lr':lr,\n",
    "                     'lambda':lmbd, #регуляризация\n",
    "                     'k': emb_size,\n",
    "                     'metric':'auc', \n",
    "                     'opt': 'adagrad', \n",
    "                     'epoch': 18} #реализован автоматический  early-stopping\n",
    "            model.fit(param, 'model.out')"
   ]
  },
  {
   "cell_type": "raw",
   "id": "b3583cc0-4714-4334-ba64-316e9f2fa184",
   "metadata": {},
   "source": [
    "В результате работы кода на каждой итерации в консоли выводится примерно такое:\n",
    "\n",
    "[------------] xLearn uses 4 threads for training task.\n",
    "[ ACTION     ] Read Problem ...\n",
    "[------------] First check if the text file has been already converted to binary format.\n",
    "[------------] Binary file (train.txt.bin) found. Skip converting text to binary.\n",
    "[------------] First check if the text file has been already converted to binary format.\n",
    "[------------] Binary file (val.txt.bin) found. Skip converting text to binary.\n",
    "[------------] Number of Feature: 5666215\n",
    "[------------] Number of Field: 7\n",
    "[------------] Time cost for reading problem: 17.11 (sec)\n",
    "[ ACTION     ] Initialize model ...\n",
    "[------------] Model size: 3.59 GB\n",
    "[------------] Time cost for model initial: 5.65 (sec)\n",
    "[ ACTION     ] Start to train ...\n",
    "[------------] Epoch      Train log_loss       Test log_loss            Test AUC     Time cost (sec)\n",
    "[    5%      ]     1            0.096860            0.101527            0.820487               23.18\n",
    "[I 2023-12-04 13:29:10.773 ServerApp] Saving file at /HW2.ipynb\n",
    "[   11%      ]     2            0.081020            0.100565            0.826384               65.37\n",
    "[   16%      ]     3            0.064076            0.103880            0.821711               90.93\n",
    "[   22%      ]     4            0.049213            0.107453            0.815013               12.28\n",
    "[   27%      ]     5            0.037354            0.111825            0.812351               11.02\n",
    "[ ACTION     ] Early-stopping at epoch 2, best AUC: 0.826384\n",
    "[ ACTION     ] Start to save model ...\n",
    "[------------] Model file: model.out\n",
    "[------------] Time cost for saving model: 29.50 (sec)\n",
    "[ ACTION     ] Finish training\n",
    "[ ACTION     ] Clear the xLearn environment ...\n",
    "[------------] Total time cost: 404.09 (sec)"
   ]
  },
  {
   "cell_type": "markdown",
   "id": "7d81267d-c799-4af7-a7a2-128d3d8cbc69",
   "metadata": {},
   "source": [
    "Это силшком громоздко, я приведу таблицу с результатами.\n",
    "\n",
    "Результаты для emb_size = 5 и 7 получились почти одинаковыми, поэтому для них одна таблица:\n",
    "lr     | c=0.001| c=0.1 | c=1\n",
    "-----|------|-----|------\n",
    "0.1|auc=0.8257, log_loss=0.1004|auc=0.782, log_loss=0.115|auc=0.74, log_loss=0.125\n",
    "0.2|auc=0.8256, log_loss=0.1004|auc=0.7896 log_loss=0.113|auc=0.74, log_loss=0.125\n",
    "\n",
    "Из таблицы видно, что лучший регуляризационный параметр это c=0.001. Уменьшать его не будем, он и так уже маленький. Поробуем emb_size = 10 и разный lr.\n",
    "\n",
    "lr     | auc|log_loss\n",
    "-----|------|-----\n",
    "0.01|0.794|0.108\n",
    "0.1|0.82594 |0.1005\n",
    "0.2|0.825872|0.1006\n",
    "0.5|0.82582 |0.1012\n",
    "0.9|0.8263|0.112\n",
    "\n",
    "emb_size = 10 уже вычислительно затратно, увеличивать не будем. Также видим, что результаты стали лучше выберем lr = 0.1."
   ]
  },
  {
   "cell_type": "markdown",
   "id": "deaba222-d97a-469d-996c-0d91641e340b",
   "metadata": {},
   "source": [
    "Т.е лучшая модель с с=0.001, emb_size=10, lr=0.1. Протестирем на финальном дне."
   ]
  },
  {
   "cell_type": "code",
   "execution_count": 6,
   "id": "c7c7f671-8451-4cdc-99db-09202cf3f168",
   "metadata": {},
   "outputs": [],
   "source": [
    "from sklearn.metrics import roc_auc_score, log_loss"
   ]
  },
  {
   "cell_type": "code",
   "execution_count": 13,
   "id": "6756d8a6-6dd5-4079-b513-99ad34061db8",
   "metadata": {},
   "outputs": [],
   "source": [
    "model = xl.create_ffm()\n",
    "model.setTrain(\"train.txt\")\n",
    "model.setTest(\"test.txt\")\n",
    "model.setValidate(\"val.txt\")\n",
    "param = {'task':'binary',\n",
    "         'lr':0.1,\n",
    "         'lambda':0.001,\n",
    "         'k': 10,\n",
    "         'metric':'auc',\n",
    "         'opt': 'adagrad', \n",
    "         'epoch': 10}\n",
    "model.fit(param, 'model.out')"
   ]
  },
  {
   "cell_type": "code",
   "execution_count": 14,
   "id": "ab8001f3-f28e-4af5-a90d-7361b1d2330f",
   "metadata": {},
   "outputs": [],
   "source": [
    "model.setSigmoid()\n",
    "model.predict('model.out', 'output.txt')"
   ]
  },
  {
   "cell_type": "code",
   "execution_count": 15,
   "id": "2fdf4371-aaeb-4e30-a05a-158fd7a13709",
   "metadata": {},
   "outputs": [],
   "source": [
    "with open('output.txt', 'r') as file:\n",
    "    scores = file.read().splitlines()"
   ]
  },
  {
   "cell_type": "code",
   "execution_count": null,
   "id": "dfa6a351-d347-49dc-bcd7-720be8e27281",
   "metadata": {},
   "outputs": [],
   "source": [
    "scores_list = list(map(float, scores))"
   ]
  },
  {
   "cell_type": "code",
   "execution_count": 17,
   "id": "29772b57-7301-482d-b08d-fe6b228398cf",
   "metadata": {},
   "outputs": [
    {
     "name": "stdout",
     "output_type": "stream",
     "text": [
      "auc score 0.7988539216571849\n",
      "log_loss score 0.13110778352261615\n"
     ]
    }
   ],
   "source": [
    "print(f\"auc score {roc_auc_score(y_test,scores_list)}\")\n",
    "print(f\"log_loss score {log_loss(y_test,scores_list)}\")"
   ]
  },
  {
   "cell_type": "markdown",
   "id": "b54e81fa-20f2-43a4-acbc-32e9dd58881c",
   "metadata": {},
   "source": [
    "Немного печально. В прошлый раз с интеракциями результат был (0.1313701010622904, 0.791968708287408). Улучшили совсем немного."
   ]
  }
 ],
 "metadata": {
  "kernelspec": {
   "display_name": "Python 3 (ipykernel)",
   "language": "python",
   "name": "python3"
  },
  "language_info": {
   "codemirror_mode": {
    "name": "ipython",
    "version": 3
   },
   "file_extension": ".py",
   "mimetype": "text/x-python",
   "name": "python",
   "nbconvert_exporter": "python",
   "pygments_lexer": "ipython3",
   "version": "3.12.0"
  }
 },
 "nbformat": 4,
 "nbformat_minor": 5
}
