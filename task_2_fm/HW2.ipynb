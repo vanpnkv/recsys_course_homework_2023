{
 "cells": [
  {
   "cell_type": "code",
   "execution_count": null,
   "metadata": {
    "id": "23My0YI-yefP"
   },
   "outputs": [],
   "source": [
    "!pip install xlearn"
   ]
  },
  {
   "cell_type": "code",
   "execution_count": 1,
   "metadata": {
    "id": "r5BfqIOHyefN",
    "pycharm": {
     "name": "#%%\n"
    }
   },
   "outputs": [],
   "source": [
    "import pandas as pd\n",
    "from scipy import sparse\n",
    "from tqdm import tqdm\n",
    "import xlearn as xl\n",
    "import numpy as np\n",
    "from sklearn.metrics import roc_auc_score, log_loss\n",
    "from sklearn.preprocessing import OneHotEncoder"
   ]
  },
  {
   "cell_type": "code",
   "execution_count": 2,
   "metadata": {
    "colab": {
     "base_uri": "https://localhost:8080/"
    },
    "id": "SnC7DLI3Gn7E",
    "outputId": "dab7c2fc-a4aa-46a9-b043-10f2d7234579"
   },
   "outputs": [
    {
     "name": "stdout",
     "output_type": "stream",
     "text": [
      "Drive already mounted at /content/drive; to attempt to forcibly remount, call drive.mount(\"/content/drive\", force_remount=True).\n"
     ]
    }
   ],
   "source": [
    "from google.colab import drive\n",
    "drive.mount('/content/drive')\n",
    "path = \"/content/drive/MyDrive/data.csv\""
   ]
  },
  {
   "cell_type": "code",
   "execution_count": 7,
   "metadata": {
    "colab": {
     "base_uri": "https://localhost:8080/",
     "height": 313
    },
    "id": "99LNpM7hyefP",
    "outputId": "c20b979b-e832-4b2e-8ec5-c88376618887",
    "pycharm": {
     "name": "#%%\n"
    }
   },
   "outputs": [
    {
     "data": {
      "text/html": [
       "\n",
       "  <div id=\"df-d287704c-4250-41fd-a9f9-0218318114e8\" class=\"colab-df-container\">\n",
       "    <div>\n",
       "<style scoped>\n",
       "    .dataframe tbody tr th:only-of-type {\n",
       "        vertical-align: middle;\n",
       "    }\n",
       "\n",
       "    .dataframe tbody tr th {\n",
       "        vertical-align: top;\n",
       "    }\n",
       "\n",
       "    .dataframe thead th {\n",
       "        text-align: right;\n",
       "    }\n",
       "</style>\n",
       "<table border=\"1\" class=\"dataframe\">\n",
       "  <thead>\n",
       "    <tr style=\"text-align: right;\">\n",
       "      <th></th>\n",
       "      <th>date_time</th>\n",
       "      <th>zone_id</th>\n",
       "      <th>banner_id</th>\n",
       "      <th>oaid_hash</th>\n",
       "      <th>campaign_clicks</th>\n",
       "      <th>os_id</th>\n",
       "      <th>country_id</th>\n",
       "      <th>banner_id0</th>\n",
       "      <th>rate0</th>\n",
       "      <th>g0</th>\n",
       "      <th>coeff_sum0</th>\n",
       "      <th>banner_id1</th>\n",
       "      <th>rate1</th>\n",
       "      <th>g1</th>\n",
       "      <th>coeff_sum1</th>\n",
       "      <th>impressions</th>\n",
       "      <th>clicks</th>\n",
       "    </tr>\n",
       "  </thead>\n",
       "  <tbody>\n",
       "    <tr>\n",
       "      <th>0</th>\n",
       "      <td>2021-09-27 00:01:30.000000</td>\n",
       "      <td>0</td>\n",
       "      <td>0</td>\n",
       "      <td>5664530014561852622</td>\n",
       "      <td>0</td>\n",
       "      <td>0</td>\n",
       "      <td>0</td>\n",
       "      <td>1240</td>\n",
       "      <td>0.067</td>\n",
       "      <td>0.035016</td>\n",
       "      <td>-7.268846</td>\n",
       "      <td>0</td>\n",
       "      <td>0.010</td>\n",
       "      <td>0.049516</td>\n",
       "      <td>-5.369901</td>\n",
       "      <td>1</td>\n",
       "      <td>1</td>\n",
       "    </tr>\n",
       "    <tr>\n",
       "      <th>1</th>\n",
       "      <td>2021-09-26 22:54:49.000000</td>\n",
       "      <td>1</td>\n",
       "      <td>1</td>\n",
       "      <td>5186611064559013950</td>\n",
       "      <td>0</td>\n",
       "      <td>0</td>\n",
       "      <td>1</td>\n",
       "      <td>1</td>\n",
       "      <td>0.002</td>\n",
       "      <td>0.054298</td>\n",
       "      <td>-2.657477</td>\n",
       "      <td>269</td>\n",
       "      <td>0.004</td>\n",
       "      <td>0.031942</td>\n",
       "      <td>-4.449220</td>\n",
       "      <td>1</td>\n",
       "      <td>1</td>\n",
       "    </tr>\n",
       "    <tr>\n",
       "      <th>2</th>\n",
       "      <td>2021-09-26 23:57:20.000000</td>\n",
       "      <td>2</td>\n",
       "      <td>2</td>\n",
       "      <td>2215519569292448030</td>\n",
       "      <td>3</td>\n",
       "      <td>0</td>\n",
       "      <td>0</td>\n",
       "      <td>2</td>\n",
       "      <td>0.014</td>\n",
       "      <td>0.014096</td>\n",
       "      <td>-3.824875</td>\n",
       "      <td>21</td>\n",
       "      <td>0.014</td>\n",
       "      <td>0.014906</td>\n",
       "      <td>-3.939309</td>\n",
       "      <td>1</td>\n",
       "      <td>1</td>\n",
       "    </tr>\n",
       "    <tr>\n",
       "      <th>3</th>\n",
       "      <td>2021-09-27 00:04:30.000000</td>\n",
       "      <td>3</td>\n",
       "      <td>3</td>\n",
       "      <td>6262169206735077204</td>\n",
       "      <td>0</td>\n",
       "      <td>1</td>\n",
       "      <td>1</td>\n",
       "      <td>3</td>\n",
       "      <td>0.012</td>\n",
       "      <td>0.015232</td>\n",
       "      <td>-3.461357</td>\n",
       "      <td>99</td>\n",
       "      <td>0.006</td>\n",
       "      <td>0.050671</td>\n",
       "      <td>-3.418403</td>\n",
       "      <td>1</td>\n",
       "      <td>1</td>\n",
       "    </tr>\n",
       "    <tr>\n",
       "      <th>4</th>\n",
       "      <td>2021-09-27 00:06:21.000000</td>\n",
       "      <td>4</td>\n",
       "      <td>4</td>\n",
       "      <td>4778985830203613115</td>\n",
       "      <td>0</td>\n",
       "      <td>1</td>\n",
       "      <td>0</td>\n",
       "      <td>4</td>\n",
       "      <td>0.019</td>\n",
       "      <td>0.051265</td>\n",
       "      <td>-4.009026</td>\n",
       "      <td>11464230</td>\n",
       "      <td>6.790</td>\n",
       "      <td>0.032005</td>\n",
       "      <td>-2.828797</td>\n",
       "      <td>1</td>\n",
       "      <td>1</td>\n",
       "    </tr>\n",
       "  </tbody>\n",
       "</table>\n",
       "</div>\n",
       "    <div class=\"colab-df-buttons\">\n",
       "\n",
       "  <div class=\"colab-df-container\">\n",
       "    <button class=\"colab-df-convert\" onclick=\"convertToInteractive('df-d287704c-4250-41fd-a9f9-0218318114e8')\"\n",
       "            title=\"Convert this dataframe to an interactive table.\"\n",
       "            style=\"display:none;\">\n",
       "\n",
       "  <svg xmlns=\"http://www.w3.org/2000/svg\" height=\"24px\" viewBox=\"0 -960 960 960\">\n",
       "    <path d=\"M120-120v-720h720v720H120Zm60-500h600v-160H180v160Zm220 220h160v-160H400v160Zm0 220h160v-160H400v160ZM180-400h160v-160H180v160Zm440 0h160v-160H620v160ZM180-180h160v-160H180v160Zm440 0h160v-160H620v160Z\"/>\n",
       "  </svg>\n",
       "    </button>\n",
       "\n",
       "  <style>\n",
       "    .colab-df-container {\n",
       "      display:flex;\n",
       "      gap: 12px;\n",
       "    }\n",
       "\n",
       "    .colab-df-convert {\n",
       "      background-color: #E8F0FE;\n",
       "      border: none;\n",
       "      border-radius: 50%;\n",
       "      cursor: pointer;\n",
       "      display: none;\n",
       "      fill: #1967D2;\n",
       "      height: 32px;\n",
       "      padding: 0 0 0 0;\n",
       "      width: 32px;\n",
       "    }\n",
       "\n",
       "    .colab-df-convert:hover {\n",
       "      background-color: #E2EBFA;\n",
       "      box-shadow: 0px 1px 2px rgba(60, 64, 67, 0.3), 0px 1px 3px 1px rgba(60, 64, 67, 0.15);\n",
       "      fill: #174EA6;\n",
       "    }\n",
       "\n",
       "    .colab-df-buttons div {\n",
       "      margin-bottom: 4px;\n",
       "    }\n",
       "\n",
       "    [theme=dark] .colab-df-convert {\n",
       "      background-color: #3B4455;\n",
       "      fill: #D2E3FC;\n",
       "    }\n",
       "\n",
       "    [theme=dark] .colab-df-convert:hover {\n",
       "      background-color: #434B5C;\n",
       "      box-shadow: 0px 1px 3px 1px rgba(0, 0, 0, 0.15);\n",
       "      filter: drop-shadow(0px 1px 2px rgba(0, 0, 0, 0.3));\n",
       "      fill: #FFFFFF;\n",
       "    }\n",
       "  </style>\n",
       "\n",
       "    <script>\n",
       "      const buttonEl =\n",
       "        document.querySelector('#df-d287704c-4250-41fd-a9f9-0218318114e8 button.colab-df-convert');\n",
       "      buttonEl.style.display =\n",
       "        google.colab.kernel.accessAllowed ? 'block' : 'none';\n",
       "\n",
       "      async function convertToInteractive(key) {\n",
       "        const element = document.querySelector('#df-d287704c-4250-41fd-a9f9-0218318114e8');\n",
       "        const dataTable =\n",
       "          await google.colab.kernel.invokeFunction('convertToInteractive',\n",
       "                                                    [key], {});\n",
       "        if (!dataTable) return;\n",
       "\n",
       "        const docLinkHtml = 'Like what you see? Visit the ' +\n",
       "          '<a target=\"_blank\" href=https://colab.research.google.com/notebooks/data_table.ipynb>data table notebook</a>'\n",
       "          + ' to learn more about interactive tables.';\n",
       "        element.innerHTML = '';\n",
       "        dataTable['output_type'] = 'display_data';\n",
       "        await google.colab.output.renderOutput(dataTable, element);\n",
       "        const docLink = document.createElement('div');\n",
       "        docLink.innerHTML = docLinkHtml;\n",
       "        element.appendChild(docLink);\n",
       "      }\n",
       "    </script>\n",
       "  </div>\n",
       "\n",
       "\n",
       "<div id=\"df-aaeb8193-0e4c-4d70-b9b5-ddc262995dc6\">\n",
       "  <button class=\"colab-df-quickchart\" onclick=\"quickchart('df-aaeb8193-0e4c-4d70-b9b5-ddc262995dc6')\"\n",
       "            title=\"Suggest charts\"\n",
       "            style=\"display:none;\">\n",
       "\n",
       "<svg xmlns=\"http://www.w3.org/2000/svg\" height=\"24px\"viewBox=\"0 0 24 24\"\n",
       "     width=\"24px\">\n",
       "    <g>\n",
       "        <path d=\"M19 3H5c-1.1 0-2 .9-2 2v14c0 1.1.9 2 2 2h14c1.1 0 2-.9 2-2V5c0-1.1-.9-2-2-2zM9 17H7v-7h2v7zm4 0h-2V7h2v10zm4 0h-2v-4h2v4z\"/>\n",
       "    </g>\n",
       "</svg>\n",
       "  </button>\n",
       "\n",
       "<style>\n",
       "  .colab-df-quickchart {\n",
       "      --bg-color: #E8F0FE;\n",
       "      --fill-color: #1967D2;\n",
       "      --hover-bg-color: #E2EBFA;\n",
       "      --hover-fill-color: #174EA6;\n",
       "      --disabled-fill-color: #AAA;\n",
       "      --disabled-bg-color: #DDD;\n",
       "  }\n",
       "\n",
       "  [theme=dark] .colab-df-quickchart {\n",
       "      --bg-color: #3B4455;\n",
       "      --fill-color: #D2E3FC;\n",
       "      --hover-bg-color: #434B5C;\n",
       "      --hover-fill-color: #FFFFFF;\n",
       "      --disabled-bg-color: #3B4455;\n",
       "      --disabled-fill-color: #666;\n",
       "  }\n",
       "\n",
       "  .colab-df-quickchart {\n",
       "    background-color: var(--bg-color);\n",
       "    border: none;\n",
       "    border-radius: 50%;\n",
       "    cursor: pointer;\n",
       "    display: none;\n",
       "    fill: var(--fill-color);\n",
       "    height: 32px;\n",
       "    padding: 0;\n",
       "    width: 32px;\n",
       "  }\n",
       "\n",
       "  .colab-df-quickchart:hover {\n",
       "    background-color: var(--hover-bg-color);\n",
       "    box-shadow: 0 1px 2px rgba(60, 64, 67, 0.3), 0 1px 3px 1px rgba(60, 64, 67, 0.15);\n",
       "    fill: var(--button-hover-fill-color);\n",
       "  }\n",
       "\n",
       "  .colab-df-quickchart-complete:disabled,\n",
       "  .colab-df-quickchart-complete:disabled:hover {\n",
       "    background-color: var(--disabled-bg-color);\n",
       "    fill: var(--disabled-fill-color);\n",
       "    box-shadow: none;\n",
       "  }\n",
       "\n",
       "  .colab-df-spinner {\n",
       "    border: 2px solid var(--fill-color);\n",
       "    border-color: transparent;\n",
       "    border-bottom-color: var(--fill-color);\n",
       "    animation:\n",
       "      spin 1s steps(1) infinite;\n",
       "  }\n",
       "\n",
       "  @keyframes spin {\n",
       "    0% {\n",
       "      border-color: transparent;\n",
       "      border-bottom-color: var(--fill-color);\n",
       "      border-left-color: var(--fill-color);\n",
       "    }\n",
       "    20% {\n",
       "      border-color: transparent;\n",
       "      border-left-color: var(--fill-color);\n",
       "      border-top-color: var(--fill-color);\n",
       "    }\n",
       "    30% {\n",
       "      border-color: transparent;\n",
       "      border-left-color: var(--fill-color);\n",
       "      border-top-color: var(--fill-color);\n",
       "      border-right-color: var(--fill-color);\n",
       "    }\n",
       "    40% {\n",
       "      border-color: transparent;\n",
       "      border-right-color: var(--fill-color);\n",
       "      border-top-color: var(--fill-color);\n",
       "    }\n",
       "    60% {\n",
       "      border-color: transparent;\n",
       "      border-right-color: var(--fill-color);\n",
       "    }\n",
       "    80% {\n",
       "      border-color: transparent;\n",
       "      border-right-color: var(--fill-color);\n",
       "      border-bottom-color: var(--fill-color);\n",
       "    }\n",
       "    90% {\n",
       "      border-color: transparent;\n",
       "      border-bottom-color: var(--fill-color);\n",
       "    }\n",
       "  }\n",
       "</style>\n",
       "\n",
       "  <script>\n",
       "    async function quickchart(key) {\n",
       "      const quickchartButtonEl =\n",
       "        document.querySelector('#' + key + ' button');\n",
       "      quickchartButtonEl.disabled = true;  // To prevent multiple clicks.\n",
       "      quickchartButtonEl.classList.add('colab-df-spinner');\n",
       "      try {\n",
       "        const charts = await google.colab.kernel.invokeFunction(\n",
       "            'suggestCharts', [key], {});\n",
       "      } catch (error) {\n",
       "        console.error('Error during call to suggestCharts:', error);\n",
       "      }\n",
       "      quickchartButtonEl.classList.remove('colab-df-spinner');\n",
       "      quickchartButtonEl.classList.add('colab-df-quickchart-complete');\n",
       "    }\n",
       "    (() => {\n",
       "      let quickchartButtonEl =\n",
       "        document.querySelector('#df-aaeb8193-0e4c-4d70-b9b5-ddc262995dc6 button');\n",
       "      quickchartButtonEl.style.display =\n",
       "        google.colab.kernel.accessAllowed ? 'block' : 'none';\n",
       "    })();\n",
       "  </script>\n",
       "</div>\n",
       "    </div>\n",
       "  </div>\n"
      ],
      "text/plain": [
       "                    date_time  zone_id  banner_id            oaid_hash  \\\n",
       "0  2021-09-27 00:01:30.000000        0          0  5664530014561852622   \n",
       "1  2021-09-26 22:54:49.000000        1          1  5186611064559013950   \n",
       "2  2021-09-26 23:57:20.000000        2          2  2215519569292448030   \n",
       "3  2021-09-27 00:04:30.000000        3          3  6262169206735077204   \n",
       "4  2021-09-27 00:06:21.000000        4          4  4778985830203613115   \n",
       "\n",
       "   campaign_clicks  os_id  country_id  banner_id0  rate0        g0  \\\n",
       "0                0      0           0        1240  0.067  0.035016   \n",
       "1                0      0           1           1  0.002  0.054298   \n",
       "2                3      0           0           2  0.014  0.014096   \n",
       "3                0      1           1           3  0.012  0.015232   \n",
       "4                0      1           0           4  0.019  0.051265   \n",
       "\n",
       "   coeff_sum0  banner_id1  rate1        g1  coeff_sum1  impressions  clicks  \n",
       "0   -7.268846           0  0.010  0.049516   -5.369901            1       1  \n",
       "1   -2.657477         269  0.004  0.031942   -4.449220            1       1  \n",
       "2   -3.824875          21  0.014  0.014906   -3.939309            1       1  \n",
       "3   -3.461357          99  0.006  0.050671   -3.418403            1       1  \n",
       "4   -4.009026    11464230  6.790  0.032005   -2.828797            1       1  "
      ]
     },
     "execution_count": 7,
     "metadata": {},
     "output_type": "execute_result"
    }
   ],
   "source": [
    "data = pd.read_csv(path)\n",
    "data.head()"
   ]
  },
  {
   "cell_type": "code",
   "execution_count": 8,
   "metadata": {
    "id": "0oQrzY2OyefP",
    "pycharm": {
     "name": "#%%\n"
    }
   },
   "outputs": [],
   "source": [
    "cols = ['banner_id0', 'banner_id1', 'rate0', 'rate1', 'g0', 'g1', 'coeff_sum0', 'coeff_sum1']\n",
    "data = data.drop(columns=cols)\n",
    "data['date_time'] = pd.to_datetime(data['date_time'])"
   ]
  },
  {
   "cell_type": "code",
   "execution_count": 9,
   "metadata": {
    "id": "zQXocFH5yefQ",
    "pycharm": {
     "name": "#%%\n"
    }
   },
   "outputs": [],
   "source": [
    "categorical_cols = [\"zone_id\", \"banner_id\", \"oaid_hash\" ,\"os_id\", \"country_id\", \"hour\"]"
   ]
  },
  {
   "cell_type": "code",
   "execution_count": 10,
   "metadata": {
    "id": "TQ59DjosyefQ",
    "pycharm": {
     "name": "#%%\n"
    }
   },
   "outputs": [],
   "source": [
    "def feature_engineering(data: pd.DataFrame) -> pd.DataFrame:\n",
    "    data = data.drop(columns=[\"impressions\"])\n",
    "    data = data[data['date_time'] > '2021-09-02']\n",
    "    data['hour'] = data['date_time'].dt.hour\n",
    "    for col in categorical_cols:\n",
    "        if col == 'os_id':\n",
    "            data.loc[data['os_id'] > 7, 'os_id'] = 7\n",
    "        elif col != \"oaid_hash\":\n",
    "            column = data[col].value_counts()\n",
    "            total = column.sum()\n",
    "            condition = column < total * 0.0001\n",
    "            mask_obs = column[condition].index\n",
    "            mask = data[col].isin(mask_obs)\n",
    "            data.loc[mask, col] = 0\n",
    "\n",
    "    for col in categorical_cols:\n",
    "        data[col], _ = pd.factorize(data[col])\n",
    "    return data"
   ]
  },
  {
   "cell_type": "code",
   "execution_count": 11,
   "metadata": {
    "id": "OTS-FMfZyefQ",
    "pycharm": {
     "name": "#%%\n"
    },
    "scrolled": false
   },
   "outputs": [],
   "source": [
    "data = feature_engineering(data)"
   ]
  },
  {
   "cell_type": "markdown",
   "metadata": {
    "id": "tseeyracyefR"
   },
   "source": [
    "Разделим данные на test (последний день), val (предпоследний день), train (все остальные дни)"
   ]
  },
  {
   "cell_type": "code",
   "execution_count": 12,
   "metadata": {
    "colab": {
     "base_uri": "https://localhost:8080/"
    },
    "id": "Um_WdNqEyefR",
    "outputId": "2317760c-44e5-404f-e0ab-35c04f94e7af"
   },
   "outputs": [
    {
     "data": {
      "text/plain": [
       "datetime.date(2021, 10, 2)"
      ]
     },
     "execution_count": 12,
     "metadata": {},
     "output_type": "execute_result"
    }
   ],
   "source": [
    "data = data.sort_values(\"date_time\")\n",
    "max_date = data[\"date_time\"].iloc[-1].date()\n",
    "data_test = data[(data['date_time'].dt.date == max_date)]\n",
    "data = data[(data['date_time'].dt.date < max_date)]\n",
    "max_date"
   ]
  },
  {
   "cell_type": "code",
   "execution_count": 13,
   "metadata": {
    "colab": {
     "base_uri": "https://localhost:8080/"
    },
    "id": "CzbfKuJXyefS",
    "outputId": "fad5fc91-c68a-483d-c37c-b32b1702b64c"
   },
   "outputs": [
    {
     "data": {
      "text/plain": [
       "datetime.date(2021, 10, 1)"
      ]
     },
     "execution_count": 13,
     "metadata": {},
     "output_type": "execute_result"
    }
   ],
   "source": [
    "data = data.sort_values(\"date_time\")\n",
    "max_date = data[\"date_time\"].iloc[-1].date()\n",
    "data_val = data[(data['date_time'].dt.date == max_date)]\n",
    "data = data[(data['date_time'].dt.date < max_date)]\n",
    "max_date"
   ]
  },
  {
   "cell_type": "code",
   "execution_count": 14,
   "metadata": {
    "id": "ZoLo9sGIyefT"
   },
   "outputs": [],
   "source": [
    "y_test = data_test['clicks']\n",
    "y_val = data_val['clicks']"
   ]
  },
  {
   "cell_type": "markdown",
   "metadata": {
    "id": "p-dXTv4vNqXV"
   },
   "source": [
    "libffm format:\n",
    "\n",
    "  label field_1:index_1:value_1 field_2:index_2:value_2 ..."
   ]
  },
  {
   "cell_type": "code",
   "execution_count": 11,
   "metadata": {
    "id": "B4m0RiXeyefS"
   },
   "outputs": [],
   "source": [
    "def transform_libffm_format(filename, data, target, dict_field, current_code=0):\n",
    "    with open(filename, \"w\") as f:\n",
    "        for index, row in tqdm(data.iterrows()):\n",
    "            result_row = str(row[target])\n",
    "            for i, x in enumerate(categorical_cols):\n",
    "                if (x not in dict_field):\n",
    "                    dict_field[x] = {}\n",
    "                    с += 1\n",
    "                    dict_field[x][row[x]] = с\n",
    "                elif (row[x] not in dict_field[x]):\n",
    "                    с += 1\n",
    "                    dict_field[x][row[x]] = с\n",
    "                result_row += f' {i}:{dict_field[x][row[x]]}:1'\n",
    "            result_row += '\\n'\n",
    "            f.write(result_row)\n",
    "    return с, dict_field"
   ]
  },
  {
   "cell_type": "code",
   "execution_count": 12,
   "metadata": {
    "colab": {
     "base_uri": "https://localhost:8080/"
    },
    "id": "Cqp4wBYeyefT",
    "outputId": "5f02999c-cbc8-4cce-c214-9397a34ddc18"
   },
   "outputs": [
    {
     "name": "stderr",
     "output_type": "stream",
     "text": [
      "12049045it [24:19, 8254.68it/s]\n"
     ]
    }
   ],
   "source": [
    "с, dict_field = 0, {}\n",
    "с, dict_field = transform_libffm_format(\"/content/drive/MyDrive/train.txt\", data, 'clicks', dict_field, с)"
   ]
  },
  {
   "cell_type": "code",
   "execution_count": 13,
   "metadata": {
    "colab": {
     "base_uri": "https://localhost:8080/"
    },
    "id": "P7VfqOQJyefT",
    "outputId": "20606e65-1e6f-43f5-c7db-d6561046cfaa"
   },
   "outputs": [
    {
     "name": "stderr",
     "output_type": "stream",
     "text": [
      "2128978it [04:22, 8123.44it/s]\n"
     ]
    }
   ],
   "source": [
    "с, dict_field = transform_libffm_format(\"/content/drive/MyDrive/test.txt\", data_test, 'clicks', dict_field, с)"
   ]
  },
  {
   "cell_type": "code",
   "execution_count": 14,
   "metadata": {
    "colab": {
     "base_uri": "https://localhost:8080/"
    },
    "id": "wOEHFhexyefT",
    "outputId": "a9d721bd-54f9-439c-c6ae-bac2bdebee01"
   },
   "outputs": [
    {
     "name": "stderr",
     "output_type": "stream",
     "text": [
      "1643448it [03:28, 7892.38it/s] \n"
     ]
    }
   ],
   "source": [
    "с, dict_field = transform_libffm_format(\"/content/drive/MyDrive/val.txt\", data_val, 'clicks', dict_field, с)"
   ]
  },
  {
   "cell_type": "markdown",
   "metadata": {
    "id": "-7aQCjMEyefT"
   },
   "source": [
    "Подберем латентный размер и регуляризацию по валидации"
   ]
  },
  {
   "cell_type": "code",
   "execution_count": 4,
   "metadata": {
    "colab": {
     "base_uri": "https://localhost:8080/"
    },
    "id": "PJnMZigryefT",
    "outputId": "7503dfe4-60d7-4fef-e869-ad592c630366",
    "scrolled": true
   },
   "outputs": [
    {
     "name": "stdout",
     "output_type": "stream",
     "text": [
      "l = 0.0001, k = 4\n",
      "roc_auc = 0.7765183462988138, log_loss = 0.1630521614218184\n",
      "l = 0.001, k = 4\n",
      "roc_auc = 0.7989549723056272, log_loss = 0.15292019740047677\n",
      "l = 0.01, k = 4\n",
      "roc_auc = 0.7702013768335266, log_loss = 0.16459710422468507\n",
      "l = 0.0001, k = 8\n",
      "roc_auc = 0.7625661866675255, log_loss = 0.16682106379367712\n",
      "l = 0.001, k = 8\n",
      "roc_auc = 0.7988224602040378, log_loss = 0.15308032857051024\n",
      "l = 0.01, k = 8\n",
      "roc_auc = 0.7706129984465239, log_loss = 0.16451980888263873\n"
     ]
    }
   ],
   "source": [
    "for k in [4, 8]:\n",
    "    for l in [0.0001, 0.001, 0.01]:\n",
    "        print(f'l = {l}, k = {k}')\n",
    "        # создаем модель\n",
    "        ffm_model = xl.create_ffm()\n",
    "        # делаем конфигурацию\n",
    "        params = {'task':'binary', 'lr': 0.1, 'lambda': l, 'k': 4, 'metric': 'auc'}\n",
    "        ffm_model.setTrain(\"/content/drive/MyDrive/train.txt\")\n",
    "        ffm_model.setTest(\"/content/drive/MyDrive/val.txt\")\n",
    "        # обучение\n",
    "        ffm_model.fit(params, './model.out')\n",
    "        ffm_model.setSigmoid()\n",
    "        # получем предикты вероятностей\n",
    "        ffm_model.predict('./model.out', './output.txt')\n",
    "        with open('output.txt', 'r') as f:\n",
    "            y_pred_proba = np.array(list(map(float, filter(lambda s: len(s) > 0, f.read().split('\\n')))))\n",
    "        # считаем метрики\n",
    "        roc_auc_metric = roc_auc_score(y_val, y_pred_proba)\n",
    "        log_loss_metric = log_loss(y_val, y_pred_proba)\n",
    "        print(f'roc_auc = {roc_auc_metric}, log_loss = {log_loss_metric}')\n"
   ]
  },
  {
   "cell_type": "code",
   "execution_count": 5,
   "metadata": {
    "id": "SzptmagoyefT"
   },
   "outputs": [],
   "source": [
    "k = 4\n",
    "lambda_ = 0.001"
   ]
  },
  {
   "cell_type": "markdown",
   "metadata": {
    "id": "ZxKNHfrHyefT"
   },
   "source": [
    "Возьмем оптимальные значения гиперпараметров, обучим и протестируем итоговую модель\n"
   ]
  },
  {
   "cell_type": "code",
   "execution_count": 6,
   "metadata": {
    "colab": {
     "base_uri": "https://localhost:8080/"
    },
    "id": "4DdXB82QyefT",
    "outputId": "c1e5efa3-d022-48ba-eb5e-1a5d6f64947a"
   },
   "outputs": [
    {
     "name": "stdout",
     "output_type": "stream",
     "text": [
      "roc_auc = 0.7957858048855749, log_loss = 0.13009003410844072\n"
     ]
    }
   ],
   "source": [
    "ffm_model = xl.create_ffm()\n",
    "ffm_model.setTrain(\"/content/drive/MyDrive/train.txt\")\n",
    "ffm_model.setTest(\"/content/drive/MyDrive/test.txt\")\n",
    "param = {'task':'binary', 'lr': 0.1, 'lambda': lambda_, 'k': k, 'metric': 'auc'}\n",
    "ffm_model.fit(param, './model.out')\n",
    "ffm_model.setSigmoid()\n",
    "ffm_model.predict('./model.out', './output.txt')\n",
    "with open('output.txt', 'r') as f:\n",
    "    y_pred_proba = np.array(list(map(float, filter(lambda s: len(s) > 0, f.read().split('\\n')))))\n",
    "roc_auc_metric = roc_auc_score(y_test, y_pred_proba)\n",
    "log_loss_metric = log_loss(y_test, y_pred_proba)\n",
    "print(f'roc_auc = {roc_auc_metric}, log_loss = {log_loss_metric}')"
   ]
  },
  {
   "cell_type": "markdown",
   "metadata": {
    "id": "AfU3iSy4Ochc"
   },
   "source": [
    "В прошлой работе\n",
    "log_loss: 0.13487352    \n",
    "AUC: 0.7795530"
   ]
  }
 ],
 "metadata": {
  "colab": {
   "provenance": []
  },
  "kernelspec": {
   "display_name": "Python 3 (ipykernel)",
   "language": "python",
   "name": "python3"
  },
  "language_info": {
   "codemirror_mode": {
    "name": "ipython",
    "version": 3
   },
   "file_extension": ".py",
   "mimetype": "text/x-python",
   "name": "python",
   "nbconvert_exporter": "python",
   "pygments_lexer": "ipython3",
   "version": "3.10.9"
  },
  "varInspector": {
   "cols": {
    "lenName": 16,
    "lenType": 16,
    "lenVar": 40
   },
   "kernels_config": {
    "python": {
     "delete_cmd_postfix": "",
     "delete_cmd_prefix": "del ",
     "library": "var_list.py",
     "varRefreshCmd": "print(var_dic_list())"
    },
    "r": {
     "delete_cmd_postfix": ") ",
     "delete_cmd_prefix": "rm(",
     "library": "var_list.r",
     "varRefreshCmd": "cat(var_dic_list()) "
    }
   },
   "types_to_exclude": [
    "module",
    "function",
    "builtin_function_or_method",
    "instance",
    "_Feature"
   ],
   "window_display": false
  }
 },
 "nbformat": 4,
 "nbformat_minor": 1
}
