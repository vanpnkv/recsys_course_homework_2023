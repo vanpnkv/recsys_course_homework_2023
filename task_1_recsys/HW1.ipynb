{
 "cells": [
  {
   "cell_type": "markdown",
   "metadata": {
    "id": "9i0I-KIVpyHB"
   },
   "source": [
    "## Imports"
   ]
  },
  {
   "cell_type": "code",
   "execution_count": 33,
   "metadata": {
    "id": "zSMMPILBpyHF"
   },
   "outputs": [],
   "source": [
    "import matplotlib.pyplot as plt\n",
    "import numpy as np\n",
    "import pandas as pd\n",
    "import pickle\n",
    "import gc\n",
    "import sys\n",
    "\n",
    "from sklearn.preprocessing import OneHotEncoder\n",
    "from scipy.sparse import hstack\n",
    "from sklearn.linear_model import LogisticRegression\n",
    "from sklearn.model_selection import GridSearchCV, TimeSeriesSplit\n",
    "from sklearn.metrics import roc_auc_score, log_loss\n",
    "\n",
    "pd.set_option('display.float_format', lambda x: '%.3f' % x)"
   ]
  },
  {
   "cell_type": "code",
   "execution_count": 2,
   "metadata": {
    "colab": {
     "base_uri": "https://localhost:8080/"
    },
    "id": "OgBPxhYaXme6",
    "outputId": "2cf23a82-8a7b-449f-c772-91cd59994238"
   },
   "outputs": [
    {
     "name": "stdout",
     "output_type": "stream",
     "text": [
      "Drive already mounted at /content/drive/; to attempt to forcibly remount, call drive.mount(\"/content/drive/\", force_remount=True).\n"
     ]
    }
   ],
   "source": [
    "from google.colab import drive\n",
    "drive.mount('/content/drive/')\n",
    "\n",
    "sys.path.append('/content/drive/My Drive/hse/recsys')"
   ]
  },
  {
   "cell_type": "markdown",
   "metadata": {
    "id": "CKmNAlq7DT4U"
   },
   "source": [
    "## Functions"
   ]
  },
  {
   "cell_type": "code",
   "execution_count": null,
   "metadata": {
    "colab": {
     "base_uri": "https://localhost:8080/"
    },
    "id": "3Q300Q_mpyHL",
    "outputId": "8bf05dfe-9058-47ba-fbe5-e181fab38781",
    "scrolled": true
   },
   "outputs": [],
   "source": [
    "def load_data(data_path):\n",
    "    columns_to_use = ['date_time', 'zone_id', 'banner_id', 'campaign_clicks',\n",
    "                      'os_id', 'country_id', 'impressions', 'clicks']\n",
    "    categorical_columns = ['zone_id', 'banner_id', 'os_id',\n",
    "                           'country_id', 'impressions', 'clicks']\n",
    "    data = pd.read_csv(data_path,\n",
    "                       usecols=columns_to_use,\n",
    "                       parse_dates=['date_time'])\n",
    "    data[categorical_columns].astype('category')\n",
    "    return data"
   ]
  },
  {
   "cell_type": "code",
   "execution_count": 41,
   "metadata": {
    "id": "2ENnbdw-pVTv"
   },
   "outputs": [],
   "source": [
    "def isnull(data):\n",
    "    print(f'Всего отсутствующих значений: {data.isnull().sum().sum()}')"
   ]
  },
  {
   "cell_type": "code",
   "execution_count": 45,
   "metadata": {
    "id": "4qVvXqS-yjhU"
   },
   "outputs": [],
   "source": [
    "def datetime_analysis(data):\n",
    "    fig, ax = plt.subplots(figsize=(14, 8), nrows=2, ncols=2)\n",
    "    axes = ax.ravel()\n",
    "\n",
    "    xlabels = ['date', 'month', 'hour', 'weekday']\n",
    "    ylabel = 'observations'\n",
    "    data.groupby(data.date_time.dt.date).size().plot(kind='bar', ax=axes[0])\n",
    "    data.groupby(data.date_time.dt.month).size().plot(kind='bar', ax=axes[1])\n",
    "    data.groupby(data.date_time.dt.hour).size().plot(kind='bar', ax=axes[2])\n",
    "    data.groupby(data.date_time.dt.weekday).size().plot(kind='bar', ax=axes[3])\n",
    "\n",
    "    for i, xlabel in enumerate(xlabels):\n",
    "        axes[i].set_ylabel(ylabel)\n",
    "        axes[i].set_xlabel(xlabel)\n",
    "        axes[i].tick_params(labelrotation=30, labelsize='small')"
   ]
  },
  {
   "cell_type": "code",
   "execution_count": 47,
   "metadata": {
    "id": "Q8Q1A6JmCK5S"
   },
   "outputs": [],
   "source": [
    "def categorical_analysis(data):\n",
    "    fig, ax = plt.subplots(figsize=(14, 8), nrows=2, ncols=2)\n",
    "    axes = ax.ravel()\n",
    "\n",
    "    xlabels = ['os_id', 'country_id', 'banner_id', 'zone_id']\n",
    "    ylabel = 'observations'\n",
    "\n",
    "    data.groupby(data.os_id).size().plot(kind='bar', ax=axes[0])\n",
    "    data.groupby(data.country_id).size().plot(kind='bar', ax=axes[1])\n",
    "    data.banner_id.plot(kind='hist', ax=axes[2])\n",
    "    data.zone_id.plot(kind='hist', ax=axes[3])\n",
    "\n",
    "    for i, xlabel in enumerate(xlabels):\n",
    "        axes[i].set_ylabel(ylabel)\n",
    "        axes[i].set_xlabel(xlabel)\n",
    "        axes[i].tick_params(labelrotation=30, labelsize='small')"
   ]
  },
  {
   "cell_type": "code",
   "execution_count": 7,
   "metadata": {
    "id": "Z0vbvSufH6wx"
   },
   "outputs": [],
   "source": [
    "def plot_campaign_clicks(data):\n",
    "    fig, ax = plt.subplots(figsize=(10, 4), nrows=1, ncols=2)\n",
    "    axes = ax.ravel()\n",
    "    data.campaign_clicks.plot(kind='hist', ax=axes[0])\n",
    "    data.campaign_clicks.plot(kind='hist', ax=axes[1], logy=True)\n",
    "\n",
    "    ax[0].set_xlabel('campaign_clicks')\n",
    "    ax[1].set_xlabel('campaign_clicks, logy')"
   ]
  },
  {
   "cell_type": "code",
   "execution_count": 8,
   "metadata": {
    "id": "-Q1EbPNnbIy1"
   },
   "outputs": [],
   "source": [
    "def get_interactions(data, interactions_list):\n",
    "    for col1, col2 in interactions_list:\n",
    "        data[f'{col1};{col2}'] = data[col1].astype(str) + \"_\" + data[col2].astype(str)\n",
    "    return data"
   ]
  },
  {
   "cell_type": "code",
   "execution_count": 9,
   "metadata": {
    "id": "sQRWkg2SuNyu"
   },
   "outputs": [],
   "source": [
    "def group_categories(data, column_names, threshold):\n",
    "    for column in column_names:\n",
    "        new_value = data[column].max() + 1000\n",
    "        categories_to_group = data[column].value_counts(normalize=True) < threshold\n",
    "        categories_to_group = categories_to_group[categories_to_group].index\n",
    "        data.loc[data[column].isin(categories_to_group), column] = new_value\n",
    "    return data"
   ]
  },
  {
   "cell_type": "code",
   "execution_count": 10,
   "metadata": {
    "id": "rDWg0rGgWqNc"
   },
   "outputs": [],
   "source": [
    "def feature_engineering(data, interactions):\n",
    "    # Удалим столбец impressions\n",
    "    data.drop(['impressions'], axis=1, inplace=True)\n",
    "\n",
    "    # Временные признаки\n",
    "    data['hour'] = data.date_time.dt.hour\n",
    "    data['weekday'] = data.date_time.dt.weekday\n",
    "\n",
    "    # Группировка редких категорий в banner_id, zone_id\n",
    "    data = group_categories(data, ['banner_id', 'zone_id'], 0.001)\n",
    "\n",
    "    # Нормировка campaign_clicks\n",
    "    data['campaign_clicks'] = np.log1p(data.campaign_clicks)\n",
    "\n",
    "    # Интеракции\n",
    "    data = get_interactions(data, interactions)\n",
    "\n",
    "    return data"
   ]
  },
  {
   "cell_type": "code",
   "execution_count": 11,
   "metadata": {
    "id": "Z4b81yWEpyHW"
   },
   "outputs": [],
   "source": [
    "def create_dataset(data: pd.DataFrame) -> tuple:\n",
    "    print('Dataset preparation...')\n",
    "\n",
    "    # Train-test split\n",
    "    ts = pd.Timestamp('2021-10-02 00:00:00')\n",
    "    data.sort_values(by='date_time', inplace=True)\n",
    "    train_mask, test_mask = data.date_time < ts, data.date_time >= ts\n",
    "    X_train, X_test = data[train_mask].copy(), data[test_mask].copy()\n",
    "    y_train, y_test = X_train.clicks.to_numpy(), X_test.clicks.to_numpy()\n",
    "\n",
    "    columns_names = set(data.columns.to_list())\n",
    "    columns_names = list(columns_names - {'clicks', 'date_time'})\n",
    "\n",
    "    columns_to_drop = ['clicks', 'campaign_clicks', 'date_time']\n",
    "    train_cc = X_train.campaign_clicks.to_numpy()\n",
    "    test_cc = X_test.campaign_clicks.to_numpy()\n",
    "    X_train.drop(columns_to_drop, axis=1, inplace=True)\n",
    "    X_test.drop(columns_to_drop, axis=1, inplace=True)\n",
    "\n",
    "    del data\n",
    "    gc.collect()\n",
    "\n",
    "    # One hot encoding\n",
    "    encoder = OneHotEncoder(handle_unknown='ignore', sparse_output=True)\n",
    "    X_train = encoder.fit_transform(X_train)\n",
    "    X_test = encoder.transform(X_test)\n",
    "\n",
    "    # Add non-categorical features\n",
    "    X_train = hstack([X_train, train_cc[:, np.newaxis]])\n",
    "    X_test = hstack([X_test, test_cc[:, np.newaxis]])\n",
    "\n",
    "    feature_names = np.hstack((encoder.get_feature_names_out(), ['campaign_clicks']))\n",
    "\n",
    "    print('Dataset is ready!')\n",
    "\n",
    "    return X_train, X_test, y_train, y_test, feature_names, columns_names\n"
   ]
  },
  {
   "cell_type": "code",
   "execution_count": 12,
   "metadata": {
    "id": "7PGSi3LUyTw7"
   },
   "outputs": [],
   "source": [
    "def create_model(solver='liblinear'):\n",
    "    return LogisticRegression(solver='liblinear')"
   ]
  },
  {
   "cell_type": "code",
   "execution_count": 25,
   "metadata": {
    "id": "VoKynUUwyM0w"
   },
   "outputs": [],
   "source": [
    "def cv(X_train, y_train):\n",
    "    model = create_model()\n",
    "    param_search = {'C' : [0.001, 0.01, 0.1, 1.], 'penalty': ['l2']}\n",
    "\n",
    "    splits = TimeSeriesSplit(n_splits=3)\n",
    "    clf = GridSearchCV(estimator=model, cv=splits,\n",
    "                            param_grid=param_search, verbose=10, scoring=['roc_auc', 'neg_log_loss'], refit=\"neg_log_loss\")\n",
    "    clf.fit(X_train, y_train)\n",
    "    return clf"
   ]
  },
  {
   "cell_type": "code",
   "execution_count": 56,
   "metadata": {
    "id": "ovjHMGmm2vm6"
   },
   "outputs": [],
   "source": [
    "def feature_importance(estimator, feature_names, column_names):\n",
    "    abs_coeffs = np.abs(estimator.coef_)[0]\n",
    "    feature_importance = {name: 0 for name in column_names}\n",
    "    cnt = {name: 0 for name in column_names}\n",
    "\n",
    "    int_flaq_feature = [';' in name for name in feature_names]\n",
    "    int_flaq_column = [';' in name for name in column_names]\n",
    "\n",
    "    for i, (feature, coef) in enumerate(zip(feature_names, abs_coeffs)):\n",
    "      for j, name in enumerate(column_names):\n",
    "          if feature.startswith(name) and (int_flaq_feature[i] == int_flaq_column[j]):\n",
    "              feature_importance[name] += np.abs(coef)\n",
    "              cnt[name] += 1\n",
    "\n",
    "    for name in column_names:\n",
    "      feature_importance[name] /= cnt[name]\n",
    "\n",
    "    return sorted(feature_importance.items(), key=lambda x: -x[1])"
   ]
  },
  {
   "cell_type": "markdown",
   "metadata": {
    "id": "uCg5JscypyHH"
   },
   "source": [
    "## Data analysis"
   ]
  },
  {
   "cell_type": "markdown",
   "metadata": {
    "id": "H9xap2hkpyHK"
   },
   "source": [
    "**Этап 1:** загрузим датасет"
   ]
  },
  {
   "cell_type": "code",
   "execution_count": 13,
   "metadata": {
    "id": "yQF4XaeCpyHL"
   },
   "outputs": [],
   "source": [
    "data_path = '/content/drive/My Drive/hse/recsys/data/data.csv'\n",
    "data = load_data(data_path)"
   ]
  },
  {
   "cell_type": "markdown",
   "metadata": {
    "id": "PWMCh1qxn5KE"
   },
   "source": [
    "**Этап 2:** анализ данных"
   ]
  },
  {
   "cell_type": "code",
   "execution_count": 14,
   "metadata": {
    "colab": {
     "base_uri": "https://localhost:8080/"
    },
    "id": "3WqciFBcp8I0",
    "outputId": "b3d29433-caac-451b-d7e4-4edbb568d943"
   },
   "outputs": [
    {
     "name": "stdout",
     "output_type": "stream",
     "text": [
      "Всего отсутствующих значений: 0\n"
     ]
    }
   ],
   "source": [
    "isnull(data)"
   ]
  },
  {
   "cell_type": "code",
   "execution_count": 15,
   "metadata": {
    "colab": {
     "base_uri": "https://localhost:8080/",
     "height": 300
    },
    "id": "jxPehRktm8EO",
    "outputId": "a722f207-6019-4492-9656-0cea2c187642"
   },
   "outputs": [
    {
     "data": {
      "text/html": [
       "\n",
       "  <div id=\"df-b9f1e513-737c-4df6-b950-b5eb3ccaddd7\" class=\"colab-df-container\">\n",
       "    <div>\n",
       "<style scoped>\n",
       "    .dataframe tbody tr th:only-of-type {\n",
       "        vertical-align: middle;\n",
       "    }\n",
       "\n",
       "    .dataframe tbody tr th {\n",
       "        vertical-align: top;\n",
       "    }\n",
       "\n",
       "    .dataframe thead th {\n",
       "        text-align: right;\n",
       "    }\n",
       "</style>\n",
       "<table border=\"1\" class=\"dataframe\">\n",
       "  <thead>\n",
       "    <tr style=\"text-align: right;\">\n",
       "      <th></th>\n",
       "      <th>zone_id</th>\n",
       "      <th>banner_id</th>\n",
       "      <th>campaign_clicks</th>\n",
       "      <th>os_id</th>\n",
       "      <th>country_id</th>\n",
       "      <th>impressions</th>\n",
       "      <th>clicks</th>\n",
       "    </tr>\n",
       "  </thead>\n",
       "  <tbody>\n",
       "    <tr>\n",
       "      <th>count</th>\n",
       "      <td>15821472.000</td>\n",
       "      <td>15821472.000</td>\n",
       "      <td>15821472.000</td>\n",
       "      <td>15821472.000</td>\n",
       "      <td>15821472.000</td>\n",
       "      <td>15821472.000</td>\n",
       "      <td>15821472.000</td>\n",
       "    </tr>\n",
       "    <tr>\n",
       "      <th>mean</th>\n",
       "      <td>81.527</td>\n",
       "      <td>381.648</td>\n",
       "      <td>0.624</td>\n",
       "      <td>1.841</td>\n",
       "      <td>4.347</td>\n",
       "      <td>1.000</td>\n",
       "      <td>0.027</td>\n",
       "    </tr>\n",
       "    <tr>\n",
       "      <th>std</th>\n",
       "      <td>163.245</td>\n",
       "      <td>395.939</td>\n",
       "      <td>9.249</td>\n",
       "      <td>1.530</td>\n",
       "      <td>4.318</td>\n",
       "      <td>0.000</td>\n",
       "      <td>0.161</td>\n",
       "    </tr>\n",
       "    <tr>\n",
       "      <th>min</th>\n",
       "      <td>0.000</td>\n",
       "      <td>0.000</td>\n",
       "      <td>0.000</td>\n",
       "      <td>0.000</td>\n",
       "      <td>0.000</td>\n",
       "      <td>1.000</td>\n",
       "      <td>0.000</td>\n",
       "    </tr>\n",
       "    <tr>\n",
       "      <th>25%</th>\n",
       "      <td>14.000</td>\n",
       "      <td>52.000</td>\n",
       "      <td>0.000</td>\n",
       "      <td>1.000</td>\n",
       "      <td>0.000</td>\n",
       "      <td>1.000</td>\n",
       "      <td>0.000</td>\n",
       "    </tr>\n",
       "    <tr>\n",
       "      <th>50%</th>\n",
       "      <td>19.000</td>\n",
       "      <td>217.000</td>\n",
       "      <td>0.000</td>\n",
       "      <td>2.000</td>\n",
       "      <td>4.000</td>\n",
       "      <td>1.000</td>\n",
       "      <td>0.000</td>\n",
       "    </tr>\n",
       "    <tr>\n",
       "      <th>75%</th>\n",
       "      <td>60.000</td>\n",
       "      <td>611.000</td>\n",
       "      <td>0.000</td>\n",
       "      <td>3.000</td>\n",
       "      <td>7.000</td>\n",
       "      <td>1.000</td>\n",
       "      <td>0.000</td>\n",
       "    </tr>\n",
       "    <tr>\n",
       "      <th>max</th>\n",
       "      <td>3443.000</td>\n",
       "      <td>1632.000</td>\n",
       "      <td>829.000</td>\n",
       "      <td>10.000</td>\n",
       "      <td>16.000</td>\n",
       "      <td>1.000</td>\n",
       "      <td>1.000</td>\n",
       "    </tr>\n",
       "  </tbody>\n",
       "</table>\n",
       "</div>\n",
       "    <div class=\"colab-df-buttons\">\n",
       "\n",
       "  <div class=\"colab-df-container\">\n",
       "    <button class=\"colab-df-convert\" onclick=\"convertToInteractive('df-b9f1e513-737c-4df6-b950-b5eb3ccaddd7')\"\n",
       "            title=\"Convert this dataframe to an interactive table.\"\n",
       "            style=\"display:none;\">\n",
       "\n",
       "  <svg xmlns=\"http://www.w3.org/2000/svg\" height=\"24px\" viewBox=\"0 -960 960 960\">\n",
       "    <path d=\"M120-120v-720h720v720H120Zm60-500h600v-160H180v160Zm220 220h160v-160H400v160Zm0 220h160v-160H400v160ZM180-400h160v-160H180v160Zm440 0h160v-160H620v160ZM180-180h160v-160H180v160Zm440 0h160v-160H620v160Z\"/>\n",
       "  </svg>\n",
       "    </button>\n",
       "\n",
       "  <style>\n",
       "    .colab-df-container {\n",
       "      display:flex;\n",
       "      gap: 12px;\n",
       "    }\n",
       "\n",
       "    .colab-df-convert {\n",
       "      background-color: #E8F0FE;\n",
       "      border: none;\n",
       "      border-radius: 50%;\n",
       "      cursor: pointer;\n",
       "      display: none;\n",
       "      fill: #1967D2;\n",
       "      height: 32px;\n",
       "      padding: 0 0 0 0;\n",
       "      width: 32px;\n",
       "    }\n",
       "\n",
       "    .colab-df-convert:hover {\n",
       "      background-color: #E2EBFA;\n",
       "      box-shadow: 0px 1px 2px rgba(60, 64, 67, 0.3), 0px 1px 3px 1px rgba(60, 64, 67, 0.15);\n",
       "      fill: #174EA6;\n",
       "    }\n",
       "\n",
       "    .colab-df-buttons div {\n",
       "      margin-bottom: 4px;\n",
       "    }\n",
       "\n",
       "    [theme=dark] .colab-df-convert {\n",
       "      background-color: #3B4455;\n",
       "      fill: #D2E3FC;\n",
       "    }\n",
       "\n",
       "    [theme=dark] .colab-df-convert:hover {\n",
       "      background-color: #434B5C;\n",
       "      box-shadow: 0px 1px 3px 1px rgba(0, 0, 0, 0.15);\n",
       "      filter: drop-shadow(0px 1px 2px rgba(0, 0, 0, 0.3));\n",
       "      fill: #FFFFFF;\n",
       "    }\n",
       "  </style>\n",
       "\n",
       "    <script>\n",
       "      const buttonEl =\n",
       "        document.querySelector('#df-b9f1e513-737c-4df6-b950-b5eb3ccaddd7 button.colab-df-convert');\n",
       "      buttonEl.style.display =\n",
       "        google.colab.kernel.accessAllowed ? 'block' : 'none';\n",
       "\n",
       "      async function convertToInteractive(key) {\n",
       "        const element = document.querySelector('#df-b9f1e513-737c-4df6-b950-b5eb3ccaddd7');\n",
       "        const dataTable =\n",
       "          await google.colab.kernel.invokeFunction('convertToInteractive',\n",
       "                                                    [key], {});\n",
       "        if (!dataTable) return;\n",
       "\n",
       "        const docLinkHtml = 'Like what you see? Visit the ' +\n",
       "          '<a target=\"_blank\" href=https://colab.research.google.com/notebooks/data_table.ipynb>data table notebook</a>'\n",
       "          + ' to learn more about interactive tables.';\n",
       "        element.innerHTML = '';\n",
       "        dataTable['output_type'] = 'display_data';\n",
       "        await google.colab.output.renderOutput(dataTable, element);\n",
       "        const docLink = document.createElement('div');\n",
       "        docLink.innerHTML = docLinkHtml;\n",
       "        element.appendChild(docLink);\n",
       "      }\n",
       "    </script>\n",
       "  </div>\n",
       "\n",
       "\n",
       "<div id=\"df-2e793bca-0c89-4bcd-a600-d15ac9881be1\">\n",
       "  <button class=\"colab-df-quickchart\" onclick=\"quickchart('df-2e793bca-0c89-4bcd-a600-d15ac9881be1')\"\n",
       "            title=\"Suggest charts\"\n",
       "            style=\"display:none;\">\n",
       "\n",
       "<svg xmlns=\"http://www.w3.org/2000/svg\" height=\"24px\"viewBox=\"0 0 24 24\"\n",
       "     width=\"24px\">\n",
       "    <g>\n",
       "        <path d=\"M19 3H5c-1.1 0-2 .9-2 2v14c0 1.1.9 2 2 2h14c1.1 0 2-.9 2-2V5c0-1.1-.9-2-2-2zM9 17H7v-7h2v7zm4 0h-2V7h2v10zm4 0h-2v-4h2v4z\"/>\n",
       "    </g>\n",
       "</svg>\n",
       "  </button>\n",
       "\n",
       "<style>\n",
       "  .colab-df-quickchart {\n",
       "      --bg-color: #E8F0FE;\n",
       "      --fill-color: #1967D2;\n",
       "      --hover-bg-color: #E2EBFA;\n",
       "      --hover-fill-color: #174EA6;\n",
       "      --disabled-fill-color: #AAA;\n",
       "      --disabled-bg-color: #DDD;\n",
       "  }\n",
       "\n",
       "  [theme=dark] .colab-df-quickchart {\n",
       "      --bg-color: #3B4455;\n",
       "      --fill-color: #D2E3FC;\n",
       "      --hover-bg-color: #434B5C;\n",
       "      --hover-fill-color: #FFFFFF;\n",
       "      --disabled-bg-color: #3B4455;\n",
       "      --disabled-fill-color: #666;\n",
       "  }\n",
       "\n",
       "  .colab-df-quickchart {\n",
       "    background-color: var(--bg-color);\n",
       "    border: none;\n",
       "    border-radius: 50%;\n",
       "    cursor: pointer;\n",
       "    display: none;\n",
       "    fill: var(--fill-color);\n",
       "    height: 32px;\n",
       "    padding: 0;\n",
       "    width: 32px;\n",
       "  }\n",
       "\n",
       "  .colab-df-quickchart:hover {\n",
       "    background-color: var(--hover-bg-color);\n",
       "    box-shadow: 0 1px 2px rgba(60, 64, 67, 0.3), 0 1px 3px 1px rgba(60, 64, 67, 0.15);\n",
       "    fill: var(--button-hover-fill-color);\n",
       "  }\n",
       "\n",
       "  .colab-df-quickchart-complete:disabled,\n",
       "  .colab-df-quickchart-complete:disabled:hover {\n",
       "    background-color: var(--disabled-bg-color);\n",
       "    fill: var(--disabled-fill-color);\n",
       "    box-shadow: none;\n",
       "  }\n",
       "\n",
       "  .colab-df-spinner {\n",
       "    border: 2px solid var(--fill-color);\n",
       "    border-color: transparent;\n",
       "    border-bottom-color: var(--fill-color);\n",
       "    animation:\n",
       "      spin 1s steps(1) infinite;\n",
       "  }\n",
       "\n",
       "  @keyframes spin {\n",
       "    0% {\n",
       "      border-color: transparent;\n",
       "      border-bottom-color: var(--fill-color);\n",
       "      border-left-color: var(--fill-color);\n",
       "    }\n",
       "    20% {\n",
       "      border-color: transparent;\n",
       "      border-left-color: var(--fill-color);\n",
       "      border-top-color: var(--fill-color);\n",
       "    }\n",
       "    30% {\n",
       "      border-color: transparent;\n",
       "      border-left-color: var(--fill-color);\n",
       "      border-top-color: var(--fill-color);\n",
       "      border-right-color: var(--fill-color);\n",
       "    }\n",
       "    40% {\n",
       "      border-color: transparent;\n",
       "      border-right-color: var(--fill-color);\n",
       "      border-top-color: var(--fill-color);\n",
       "    }\n",
       "    60% {\n",
       "      border-color: transparent;\n",
       "      border-right-color: var(--fill-color);\n",
       "    }\n",
       "    80% {\n",
       "      border-color: transparent;\n",
       "      border-right-color: var(--fill-color);\n",
       "      border-bottom-color: var(--fill-color);\n",
       "    }\n",
       "    90% {\n",
       "      border-color: transparent;\n",
       "      border-bottom-color: var(--fill-color);\n",
       "    }\n",
       "  }\n",
       "</style>\n",
       "\n",
       "  <script>\n",
       "    async function quickchart(key) {\n",
       "      const quickchartButtonEl =\n",
       "        document.querySelector('#' + key + ' button');\n",
       "      quickchartButtonEl.disabled = true;  // To prevent multiple clicks.\n",
       "      quickchartButtonEl.classList.add('colab-df-spinner');\n",
       "      try {\n",
       "        const charts = await google.colab.kernel.invokeFunction(\n",
       "            'suggestCharts', [key], {});\n",
       "      } catch (error) {\n",
       "        console.error('Error during call to suggestCharts:', error);\n",
       "      }\n",
       "      quickchartButtonEl.classList.remove('colab-df-spinner');\n",
       "      quickchartButtonEl.classList.add('colab-df-quickchart-complete');\n",
       "    }\n",
       "    (() => {\n",
       "      let quickchartButtonEl =\n",
       "        document.querySelector('#df-2e793bca-0c89-4bcd-a600-d15ac9881be1 button');\n",
       "      quickchartButtonEl.style.display =\n",
       "        google.colab.kernel.accessAllowed ? 'block' : 'none';\n",
       "    })();\n",
       "  </script>\n",
       "</div>\n",
       "    </div>\n",
       "  </div>\n"
      ],
      "text/plain": [
       "           zone_id    banner_id  campaign_clicks        os_id   country_id  \\\n",
       "count 15821472.000 15821472.000     15821472.000 15821472.000 15821472.000   \n",
       "mean        81.527      381.648            0.624        1.841        4.347   \n",
       "std        163.245      395.939            9.249        1.530        4.318   \n",
       "min          0.000        0.000            0.000        0.000        0.000   \n",
       "25%         14.000       52.000            0.000        1.000        0.000   \n",
       "50%         19.000      217.000            0.000        2.000        4.000   \n",
       "75%         60.000      611.000            0.000        3.000        7.000   \n",
       "max       3443.000     1632.000          829.000       10.000       16.000   \n",
       "\n",
       "       impressions       clicks  \n",
       "count 15821472.000 15821472.000  \n",
       "mean         1.000        0.027  \n",
       "std          0.000        0.161  \n",
       "min          1.000        0.000  \n",
       "25%          1.000        0.000  \n",
       "50%          1.000        0.000  \n",
       "75%          1.000        0.000  \n",
       "max          1.000        1.000  "
      ]
     },
     "execution_count": 15,
     "metadata": {},
     "output_type": "execute_result"
    }
   ],
   "source": [
    "data.describe()"
   ]
  },
  {
   "cell_type": "markdown",
   "metadata": {
    "id": "tTFve9thni1Y"
   },
   "source": [
    "Можно увидеть следующие свойства данных:\n",
    "1. Всего наблюдений - **15 821 472**\n",
    "2. `impressions` - принимает всего одно значение, поэтому не будем использовать в качестве фичи\n",
    "3. Столбцы с небольшим количеством категорий - `os_id`, `country_id`\n",
    "4. Столбцы с большим количеством категорий - `banner_id`, `zone_id` - потенциально в них будем объединять редкие категории"
   ]
  },
  {
   "cell_type": "code",
   "execution_count": 16,
   "metadata": {
    "colab": {
     "base_uri": "https://localhost:8080/",
     "height": 716
    },
    "id": "6QS4g3xWp885",
    "outputId": "191759ae-0628-4158-9d76-6f42b52d9ccc"
   },
   "outputs": [
    {
     "data": {
      "image/png": "[encoded data removed]",
      "text/plain": [
       "<Figure size 1400x800 with 4 Axes>"
      ]
     },
     "metadata": {},
     "output_type": "display_data"
    }
   ],
   "source": [
    "datetime_analysis(data)"
   ]
  },
  {
   "cell_type": "markdown",
   "metadata": {
    "id": "XNDJj8R8BE-a"
   },
   "source": [
    "*Выводы по datetime данным:*\n",
    "1. `date` - есть выброс 2021-09-01, необходимо его убрать\n",
    "2. `hour` и `weekday` - могут быть хорошими фичами, будем добавлять"
   ]
  },
  {
   "cell_type": "markdown",
   "metadata": {
    "id": "vDG2oam9pCpx"
   },
   "source": [
    "Давайте посмотрим на распределение категориальных фичей:"
   ]
  },
  {
   "cell_type": "code",
   "execution_count": 17,
   "metadata": {
    "colab": {
     "base_uri": "https://localhost:8080/",
     "height": 723
    },
    "id": "EsWdU0ZkDKmA",
    "outputId": "445d1a71-89a1-48df-cf04-29132286a791"
   },
   "outputs": [
    {
     "data": {
      "image/png": "[encoded data removed]",
      "text/plain": [
       "<Figure size 1400x800 with 4 Axes>"
      ]
     },
     "metadata": {},
     "output_type": "display_data"
    }
   ],
   "source": [
    "categorical_analysis(data)"
   ]
  },
  {
   "cell_type": "markdown",
   "metadata": {
    "id": "b2cUIomaGA0Z"
   },
   "source": [
    "Выводы по категориальным данным:\n",
    "1. `os_id`, `country_id` имеют относительно редкие категории, но так как их мало, то можно и не группировать\n",
    "2. `banner_id` и `zone_id` - скошенные распределения, будем группировать редкие категории"
   ]
  },
  {
   "cell_type": "markdown",
   "metadata": {
    "id": "EsX8xuZXHm6J"
   },
   "source": [
    "Распределение `campaign_clicks`"
   ]
  },
  {
   "cell_type": "code",
   "execution_count": 18,
   "metadata": {
    "colab": {
     "base_uri": "https://localhost:8080/",
     "height": 403
    },
    "id": "M9xKyncqHs-U",
    "outputId": "dcfb7775-2702-4057-a30c-a873c84c8cf1"
   },
   "outputs": [
    {
     "data": {
      "image/png": "[encoded data removed]",
      "text/plain": [
       "<Figure size 1000x400 with 2 Axes>"
      ]
     },
     "metadata": {},
     "output_type": "display_data"
    }
   ],
   "source": [
    "plot_campaign_clicks(data)"
   ]
  },
  {
   "cell_type": "markdown",
   "metadata": {
    "id": "mlEvL4se1K_N"
   },
   "source": [
    "Фича имеет сильно скошенное распределение, большинство значений находится в области нуля. Для нормализации будем логарифмировать."
   ]
  },
  {
   "cell_type": "markdown",
   "metadata": {
    "id": "s46hUhPwK7Ih"
   },
   "source": [
    "### Feature engineering"
   ]
  },
  {
   "cell_type": "markdown",
   "metadata": {
    "id": "n3ci0-Ojmbhg"
   },
   "source": [
    "***Пояснения к добавлению новых фичей:***\n",
    "1. `weekday` - день недели - возможно в какие-то дни больше кликов, например, в выходные, когда у людей больше свободного времени\n",
    "2.  `hour` - час - в какие-то часы дня может быть больше кликов, например, вечером\n",
    "\n",
    "Оставим пока что столбец `date`, так как он понадобится для разделения на тренировочную и тестовую части\n",
    "\n",
    "***Что я решила не добавлять в качестве отдельных фичей:***\n",
    "1. минуты и секунды - скорее всего данные фичи внесут в модель только шум, у нас здесь не высокочастотная торговля\n",
    "2. год - он один и тот же для всех наблюдений\n",
    "3. месяц - всего 2 уникальных значения\n",
    "\n",
    "***Что делаем с banner_id и zone_id:***\\\n",
    "Будем говорить, что категория редкая, если она составляет менее 0.01% от общего числа наблюдений. Объединим редкие категории."
   ]
  },
  {
   "cell_type": "code",
   "execution_count": 19,
   "metadata": {
    "colab": {
     "base_uri": "https://localhost:8080/"
    },
    "id": "AuTe0y_P1z4X",
    "outputId": "605ffdd5-d7d6-478d-c1fd-3d758a939eb7"
   },
   "outputs": [
    {
     "name": "stdout",
     "output_type": "stream",
     "text": [
      "Количество популярных баннеров: 199\n",
      "Количество популярных зон: 99\n"
     ]
    }
   ],
   "source": [
    "print(f'Количество популярных баннеров: {(data.banner_id.value_counts(normalize=True) >= 0.001).sum()}')\n",
    "print(f'Количество популярных зон: {(data.zone_id.value_counts(normalize=True) >= 0.001).sum()}')"
   ]
  },
  {
   "cell_type": "markdown",
   "metadata": {
    "id": "Mqq_HdXApyHM"
   },
   "source": [
    "**Интеракции:**\n",
    "Добавляем  с помощью разделения строковых представлений соответствующих фичей с помощью ;\n",
    "1. `banner_id`, `zone_id` - в каких-то зонах баннер может быть более привлекательным\n",
    "2. `banner_id`, `os_id` - какие-то баннеры чаще кликают на конкретных устройствах\n",
    "3. `banner_id`, `country_id` - в каких-то странах конкретные баннеры просматриваются лучше\n",
    "4. `banner_id`, `hour` - в разное время дня интересна разная реклама\n",
    "5. `os_id`, `hour` - в разное время люди используют разные устройства (например, перед работой в дороге используем телефон, в рабочее время - ПК)"
   ]
  },
  {
   "cell_type": "code",
   "execution_count": 20,
   "metadata": {
    "id": "0o0TnWg9a54K"
   },
   "outputs": [],
   "source": [
    "interactions = [\n",
    "    ['banner_id', 'country_id'],\n",
    "    ['banner_id', 'os_id'],\n",
    "    ['banner_id', 'zone_id'],\n",
    "    ['banner_id', 'hour'],\n",
    "    ['banner_id', 'weekday'],\n",
    "    ['os_id', 'hour']\n",
    "]"
   ]
  },
  {
   "cell_type": "code",
   "execution_count": 21,
   "metadata": {
    "id": "TQ8bim_Vbu-6"
   },
   "outputs": [],
   "source": [
    "data = feature_engineering(data, interactions)"
   ]
  },
  {
   "cell_type": "code",
   "execution_count": 22,
   "metadata": {
    "colab": {
     "base_uri": "https://localhost:8080/",
     "height": 313
    },
    "id": "SWUYPC04v4Bn",
    "outputId": "a11ee854-a388-4687-9f13-1ef8ac496cdc"
   },
   "outputs": [
    {
     "data": {
      "text/html": [
       "\n",
       "  <div id=\"df-2d11442a-150e-4c73-aaa1-dfa257b518b5\" class=\"colab-df-container\">\n",
       "    <div>\n",
       "<style scoped>\n",
       "    .dataframe tbody tr th:only-of-type {\n",
       "        vertical-align: middle;\n",
       "    }\n",
       "\n",
       "    .dataframe tbody tr th {\n",
       "        vertical-align: top;\n",
       "    }\n",
       "\n",
       "    .dataframe thead th {\n",
       "        text-align: right;\n",
       "    }\n",
       "</style>\n",
       "<table border=\"1\" class=\"dataframe\">\n",
       "  <thead>\n",
       "    <tr style=\"text-align: right;\">\n",
       "      <th></th>\n",
       "      <th>date_time</th>\n",
       "      <th>zone_id</th>\n",
       "      <th>banner_id</th>\n",
       "      <th>campaign_clicks</th>\n",
       "      <th>os_id</th>\n",
       "      <th>country_id</th>\n",
       "      <th>clicks</th>\n",
       "      <th>hour</th>\n",
       "      <th>weekday</th>\n",
       "      <th>banner_id;country_id</th>\n",
       "      <th>banner_id;os_id</th>\n",
       "      <th>banner_id;zone_id</th>\n",
       "      <th>banner_id;hour</th>\n",
       "      <th>banner_id;weekday</th>\n",
       "      <th>os_id;hour</th>\n",
       "    </tr>\n",
       "  </thead>\n",
       "  <tbody>\n",
       "    <tr>\n",
       "      <th>0</th>\n",
       "      <td>2021-09-27 00:01:30</td>\n",
       "      <td>0</td>\n",
       "      <td>0</td>\n",
       "      <td>0.000</td>\n",
       "      <td>0</td>\n",
       "      <td>0</td>\n",
       "      <td>1</td>\n",
       "      <td>0</td>\n",
       "      <td>0</td>\n",
       "      <td>0_0</td>\n",
       "      <td>0_0</td>\n",
       "      <td>0_0</td>\n",
       "      <td>0_0</td>\n",
       "      <td>0_0</td>\n",
       "      <td>0_0</td>\n",
       "    </tr>\n",
       "    <tr>\n",
       "      <th>1</th>\n",
       "      <td>2021-09-26 22:54:49</td>\n",
       "      <td>1</td>\n",
       "      <td>2632</td>\n",
       "      <td>0.000</td>\n",
       "      <td>0</td>\n",
       "      <td>1</td>\n",
       "      <td>1</td>\n",
       "      <td>22</td>\n",
       "      <td>6</td>\n",
       "      <td>2632_1</td>\n",
       "      <td>2632_0</td>\n",
       "      <td>2632_1</td>\n",
       "      <td>2632_22</td>\n",
       "      <td>2632_6</td>\n",
       "      <td>0_22</td>\n",
       "    </tr>\n",
       "    <tr>\n",
       "      <th>2</th>\n",
       "      <td>2021-09-26 23:57:20</td>\n",
       "      <td>2</td>\n",
       "      <td>2</td>\n",
       "      <td>1.386</td>\n",
       "      <td>0</td>\n",
       "      <td>0</td>\n",
       "      <td>1</td>\n",
       "      <td>23</td>\n",
       "      <td>6</td>\n",
       "      <td>2_0</td>\n",
       "      <td>2_0</td>\n",
       "      <td>2_2</td>\n",
       "      <td>2_23</td>\n",
       "      <td>2_6</td>\n",
       "      <td>0_23</td>\n",
       "    </tr>\n",
       "    <tr>\n",
       "      <th>3</th>\n",
       "      <td>2021-09-27 00:04:30</td>\n",
       "      <td>3</td>\n",
       "      <td>3</td>\n",
       "      <td>0.000</td>\n",
       "      <td>1</td>\n",
       "      <td>1</td>\n",
       "      <td>1</td>\n",
       "      <td>0</td>\n",
       "      <td>0</td>\n",
       "      <td>3_1</td>\n",
       "      <td>3_1</td>\n",
       "      <td>3_3</td>\n",
       "      <td>3_0</td>\n",
       "      <td>3_0</td>\n",
       "      <td>1_0</td>\n",
       "    </tr>\n",
       "    <tr>\n",
       "      <th>4</th>\n",
       "      <td>2021-09-27 00:06:21</td>\n",
       "      <td>4443</td>\n",
       "      <td>4</td>\n",
       "      <td>0.000</td>\n",
       "      <td>1</td>\n",
       "      <td>0</td>\n",
       "      <td>1</td>\n",
       "      <td>0</td>\n",
       "      <td>0</td>\n",
       "      <td>4_0</td>\n",
       "      <td>4_1</td>\n",
       "      <td>4_4443</td>\n",
       "      <td>4_0</td>\n",
       "      <td>4_0</td>\n",
       "      <td>1_0</td>\n",
       "    </tr>\n",
       "  </tbody>\n",
       "</table>\n",
       "</div>\n",
       "    <div class=\"colab-df-buttons\">\n",
       "\n",
       "  <div class=\"colab-df-container\">\n",
       "    <button class=\"colab-df-convert\" onclick=\"convertToInteractive('df-2d11442a-150e-4c73-aaa1-dfa257b518b5')\"\n",
       "            title=\"Convert this dataframe to an interactive table.\"\n",
       "            style=\"display:none;\">\n",
       "\n",
       "  <svg xmlns=\"http://www.w3.org/2000/svg\" height=\"24px\" viewBox=\"0 -960 960 960\">\n",
       "    <path d=\"M120-120v-720h720v720H120Zm60-500h600v-160H180v160Zm220 220h160v-160H400v160Zm0 220h160v-160H400v160ZM180-400h160v-160H180v160Zm440 0h160v-160H620v160ZM180-180h160v-160H180v160Zm440 0h160v-160H620v160Z\"/>\n",
       "  </svg>\n",
       "    </button>\n",
       "\n",
       "  <style>\n",
       "    .colab-df-container {\n",
       "      display:flex;\n",
       "      gap: 12px;\n",
       "    }\n",
       "\n",
       "    .colab-df-convert {\n",
       "      background-color: #E8F0FE;\n",
       "      border: none;\n",
       "      border-radius: 50%;\n",
       "      cursor: pointer;\n",
       "      display: none;\n",
       "      fill: #1967D2;\n",
       "      height: 32px;\n",
       "      padding: 0 0 0 0;\n",
       "      width: 32px;\n",
       "    }\n",
       "\n",
       "    .colab-df-convert:hover {\n",
       "      background-color: #E2EBFA;\n",
       "      box-shadow: 0px 1px 2px rgba(60, 64, 67, 0.3), 0px 1px 3px 1px rgba(60, 64, 67, 0.15);\n",
       "      fill: #174EA6;\n",
       "    }\n",
       "\n",
       "    .colab-df-buttons div {\n",
       "      margin-bottom: 4px;\n",
       "    }\n",
       "\n",
       "    [theme=dark] .colab-df-convert {\n",
       "      background-color: #3B4455;\n",
       "      fill: #D2E3FC;\n",
       "    }\n",
       "\n",
       "    [theme=dark] .colab-df-convert:hover {\n",
       "      background-color: #434B5C;\n",
       "      box-shadow: 0px 1px 3px 1px rgba(0, 0, 0, 0.15);\n",
       "      filter: drop-shadow(0px 1px 2px rgba(0, 0, 0, 0.3));\n",
       "      fill: #FFFFFF;\n",
       "    }\n",
       "  </style>\n",
       "\n",
       "    <script>\n",
       "      const buttonEl =\n",
       "        document.querySelector('#df-2d11442a-150e-4c73-aaa1-dfa257b518b5 button.colab-df-convert');\n",
       "      buttonEl.style.display =\n",
       "        google.colab.kernel.accessAllowed ? 'block' : 'none';\n",
       "\n",
       "      async function convertToInteractive(key) {\n",
       "        const element = document.querySelector('#df-2d11442a-150e-4c73-aaa1-dfa257b518b5');\n",
       "        const dataTable =\n",
       "          await google.colab.kernel.invokeFunction('convertToInteractive',\n",
       "                                                    [key], {});\n",
       "        if (!dataTable) return;\n",
       "\n",
       "        const docLinkHtml = 'Like what you see? Visit the ' +\n",
       "          '<a target=\"_blank\" href=https://colab.research.google.com/notebooks/data_table.ipynb>data table notebook</a>'\n",
       "          + ' to learn more about interactive tables.';\n",
       "        element.innerHTML = '';\n",
       "        dataTable['output_type'] = 'display_data';\n",
       "        await google.colab.output.renderOutput(dataTable, element);\n",
       "        const docLink = document.createElement('div');\n",
       "        docLink.innerHTML = docLinkHtml;\n",
       "        element.appendChild(docLink);\n",
       "      }\n",
       "    </script>\n",
       "  </div>\n",
       "\n",
       "\n",
       "<div id=\"df-094e21cb-c7a0-48da-8dab-921baa8477b2\">\n",
       "  <button class=\"colab-df-quickchart\" onclick=\"quickchart('df-094e21cb-c7a0-48da-8dab-921baa8477b2')\"\n",
       "            title=\"Suggest charts\"\n",
       "            style=\"display:none;\">\n",
       "\n",
       "<svg xmlns=\"http://www.w3.org/2000/svg\" height=\"24px\"viewBox=\"0 0 24 24\"\n",
       "     width=\"24px\">\n",
       "    <g>\n",
       "        <path d=\"M19 3H5c-1.1 0-2 .9-2 2v14c0 1.1.9 2 2 2h14c1.1 0 2-.9 2-2V5c0-1.1-.9-2-2-2zM9 17H7v-7h2v7zm4 0h-2V7h2v10zm4 0h-2v-4h2v4z\"/>\n",
       "    </g>\n",
       "</svg>\n",
       "  </button>\n",
       "\n",
       "<style>\n",
       "  .colab-df-quickchart {\n",
       "      --bg-color: #E8F0FE;\n",
       "      --fill-color: #1967D2;\n",
       "      --hover-bg-color: #E2EBFA;\n",
       "      --hover-fill-color: #174EA6;\n",
       "      --disabled-fill-color: #AAA;\n",
       "      --disabled-bg-color: #DDD;\n",
       "  }\n",
       "\n",
       "  [theme=dark] .colab-df-quickchart {\n",
       "      --bg-color: #3B4455;\n",
       "      --fill-color: #D2E3FC;\n",
       "      --hover-bg-color: #434B5C;\n",
       "      --hover-fill-color: #FFFFFF;\n",
       "      --disabled-bg-color: #3B4455;\n",
       "      --disabled-fill-color: #666;\n",
       "  }\n",
       "\n",
       "  .colab-df-quickchart {\n",
       "    background-color: var(--bg-color);\n",
       "    border: none;\n",
       "    border-radius: 50%;\n",
       "    cursor: pointer;\n",
       "    display: none;\n",
       "    fill: var(--fill-color);\n",
       "    height: 32px;\n",
       "    padding: 0;\n",
       "    width: 32px;\n",
       "  }\n",
       "\n",
       "  .colab-df-quickchart:hover {\n",
       "    background-color: var(--hover-bg-color);\n",
       "    box-shadow: 0 1px 2px rgba(60, 64, 67, 0.3), 0 1px 3px 1px rgba(60, 64, 67, 0.15);\n",
       "    fill: var(--button-hover-fill-color);\n",
       "  }\n",
       "\n",
       "  .colab-df-quickchart-complete:disabled,\n",
       "  .colab-df-quickchart-complete:disabled:hover {\n",
       "    background-color: var(--disabled-bg-color);\n",
       "    fill: var(--disabled-fill-color);\n",
       "    box-shadow: none;\n",
       "  }\n",
       "\n",
       "  .colab-df-spinner {\n",
       "    border: 2px solid var(--fill-color);\n",
       "    border-color: transparent;\n",
       "    border-bottom-color: var(--fill-color);\n",
       "    animation:\n",
       "      spin 1s steps(1) infinite;\n",
       "  }\n",
       "\n",
       "  @keyframes spin {\n",
       "    0% {\n",
       "      border-color: transparent;\n",
       "      border-bottom-color: var(--fill-color);\n",
       "      border-left-color: var(--fill-color);\n",
       "    }\n",
       "    20% {\n",
       "      border-color: transparent;\n",
       "      border-left-color: var(--fill-color);\n",
       "      border-top-color: var(--fill-color);\n",
       "    }\n",
       "    30% {\n",
       "      border-color: transparent;\n",
       "      border-left-color: var(--fill-color);\n",
       "      border-top-color: var(--fill-color);\n",
       "      border-right-color: var(--fill-color);\n",
       "    }\n",
       "    40% {\n",
       "      border-color: transparent;\n",
       "      border-right-color: var(--fill-color);\n",
       "      border-top-color: var(--fill-color);\n",
       "    }\n",
       "    60% {\n",
       "      border-color: transparent;\n",
       "      border-right-color: var(--fill-color);\n",
       "    }\n",
       "    80% {\n",
       "      border-color: transparent;\n",
       "      border-right-color: var(--fill-color);\n",
       "      border-bottom-color: var(--fill-color);\n",
       "    }\n",
       "    90% {\n",
       "      border-color: transparent;\n",
       "      border-bottom-color: var(--fill-color);\n",
       "    }\n",
       "  }\n",
       "</style>\n",
       "\n",
       "  <script>\n",
       "    async function quickchart(key) {\n",
       "      const quickchartButtonEl =\n",
       "        document.querySelector('#' + key + ' button');\n",
       "      quickchartButtonEl.disabled = true;  // To prevent multiple clicks.\n",
       "      quickchartButtonEl.classList.add('colab-df-spinner');\n",
       "      try {\n",
       "        const charts = await google.colab.kernel.invokeFunction(\n",
       "            'suggestCharts', [key], {});\n",
       "      } catch (error) {\n",
       "        console.error('Error during call to suggestCharts:', error);\n",
       "      }\n",
       "      quickchartButtonEl.classList.remove('colab-df-spinner');\n",
       "      quickchartButtonEl.classList.add('colab-df-quickchart-complete');\n",
       "    }\n",
       "    (() => {\n",
       "      let quickchartButtonEl =\n",
       "        document.querySelector('#df-094e21cb-c7a0-48da-8dab-921baa8477b2 button');\n",
       "      quickchartButtonEl.style.display =\n",
       "        google.colab.kernel.accessAllowed ? 'block' : 'none';\n",
       "    })();\n",
       "  </script>\n",
       "</div>\n",
       "    </div>\n",
       "  </div>\n"
      ],
      "text/plain": [
       "            date_time  zone_id  banner_id  campaign_clicks  os_id  country_id  \\\n",
       "0 2021-09-27 00:01:30        0          0            0.000      0           0   \n",
       "1 2021-09-26 22:54:49        1       2632            0.000      0           1   \n",
       "2 2021-09-26 23:57:20        2          2            1.386      0           0   \n",
       "3 2021-09-27 00:04:30        3          3            0.000      1           1   \n",
       "4 2021-09-27 00:06:21     4443          4            0.000      1           0   \n",
       "\n",
       "   clicks  hour  weekday banner_id;country_id banner_id;os_id  \\\n",
       "0       1     0        0                  0_0             0_0   \n",
       "1       1    22        6               2632_1          2632_0   \n",
       "2       1    23        6                  2_0             2_0   \n",
       "3       1     0        0                  3_1             3_1   \n",
       "4       1     0        0                  4_0             4_1   \n",
       "\n",
       "  banner_id;zone_id banner_id;hour banner_id;weekday os_id;hour  \n",
       "0               0_0            0_0               0_0        0_0  \n",
       "1            2632_1        2632_22            2632_6       0_22  \n",
       "2               2_2           2_23               2_6       0_23  \n",
       "3               3_3            3_0               3_0        1_0  \n",
       "4            4_4443            4_0               4_0        1_0  "
      ]
     },
     "execution_count": 22,
     "metadata": {},
     "output_type": "execute_result"
    }
   ],
   "source": [
    "data.head()"
   ]
  },
  {
   "cell_type": "code",
   "execution_count": 23,
   "metadata": {
    "colab": {
     "base_uri": "https://localhost:8080/"
    },
    "id": "9ldFQ4ubvXVA",
    "outputId": "fa23fd3c-ed46-450e-b69f-c9197b75319b"
   },
   "outputs": [
    {
     "name": "stdout",
     "output_type": "stream",
     "text": [
      "Dataset preparation...\n",
      "Dataset is ready!\n"
     ]
    }
   ],
   "source": [
    "X_train, X_test, y_train, y_test, feature_names, column_names = create_dataset(data)"
   ]
  },
  {
   "cell_type": "code",
   "execution_count": 24,
   "metadata": {
    "colab": {
     "base_uri": "https://localhost:8080/"
    },
    "id": "S9rKybl6xV7s",
    "outputId": "27004f13-6c51-47c4-e71a-4444bc0656bf"
   },
   "outputs": [
    {
     "name": "stdout",
     "output_type": "stream",
     "text": [
      "Число фичей: 21198\n"
     ]
    }
   ],
   "source": [
    "print(f'Число фичей: {X_train.shape[1]}')"
   ]
  },
  {
   "cell_type": "markdown",
   "metadata": {
    "id": "6Z9gksTHpyHY"
   },
   "source": [
    "## Cross validation"
   ]
  },
  {
   "cell_type": "markdown",
   "metadata": {
    "id": "YKgPUVNDyYwh"
   },
   "source": [
    "Будем обучать **логистическую регрессию** (возьмем из библиотеки `sklearn`), оптимизатор - `liblinear`.\n",
    "\n",
    "Для отбора гиперпараметров воспользуемся кросс-валидацией для временных данных (воспользуемся `TimeSeriesSplit`).\n",
    "Перебирать будем коэффициент регуляризации `C` при способе регуляризации `l2`\\\n",
    "Коэффициент регуляризации - `{0.001, 0.01, 0.1, 1.}`\n",
    "\n",
    "Метрики для оценки качества модели:\n",
    "1. AUC\n",
    "2. `logloss`\n",
    "\n",
    "Далее хочется посмотреть `feature importance` каждого признака, чтобы понять, что же все-таки в большей степени влияет на вероятность клика на баннер."
   ]
  },
  {
   "cell_type": "code",
   "execution_count": 27,
   "metadata": {
    "colab": {
     "base_uri": "https://localhost:8080/"
    },
    "id": "uGQ2hK8qykrA",
    "outputId": "1557fd76-be84-4b18-a859-efa8f67aa1ba"
   },
   "outputs": [
    {
     "name": "stdout",
     "output_type": "stream",
     "text": [
      "Fitting 3 folds for each of 4 candidates, totalling 12 fits\n",
      "[CV 1/3; 1/4] START C=0.001, penalty=l2.........................................\n",
      "[CV 1/3; 1/4] END C=0.001, penalty=l2; neg_log_loss: (test=-0.093) roc_auc: (test=0.646) total time=  19.4s\n",
      "[CV 2/3; 1/4] START C=0.001, penalty=l2.........................................\n",
      "[CV 2/3; 1/4] END C=0.001, penalty=l2; neg_log_loss: (test=-0.115) roc_auc: (test=0.673) total time=  46.0s\n",
      "[CV 3/3; 1/4] START C=0.001, penalty=l2.........................................\n",
      "[CV 3/3; 1/4] END C=0.001, penalty=l2; neg_log_loss: (test=-0.149) roc_auc: (test=0.759) total time= 1.1min\n",
      "[CV 1/3; 2/4] START C=0.01, penalty=l2..........................................\n",
      "[CV 1/3; 2/4] END C=0.01, penalty=l2; neg_log_loss: (test=-0.091) roc_auc: (test=0.672) total time=  32.3s\n",
      "[CV 2/3; 2/4] START C=0.01, penalty=l2..........................................\n",
      "[CV 2/3; 2/4] END C=0.01, penalty=l2; neg_log_loss: (test=-0.113) roc_auc: (test=0.696) total time= 1.3min\n",
      "[CV 3/3; 2/4] START C=0.01, penalty=l2..........................................\n",
      "[CV 3/3; 2/4] END C=0.01, penalty=l2; neg_log_loss: (test=-0.145) roc_auc: (test=0.770) total time= 2.3min\n",
      "[CV 1/3; 3/4] START C=0.1, penalty=l2...........................................\n",
      "[CV 1/3; 3/4] END C=0.1, penalty=l2; neg_log_loss: (test=-0.091) roc_auc: (test=0.680) total time= 1.2min\n",
      "[CV 2/3; 3/4] START C=0.1, penalty=l2...........................................\n",
      "[CV 2/3; 3/4] END C=0.1, penalty=l2; neg_log_loss: (test=-0.113) roc_auc: (test=0.700) total time= 3.3min\n",
      "[CV 3/3; 3/4] START C=0.1, penalty=l2...........................................\n",
      "[CV 3/3; 3/4] END C=0.1, penalty=l2; neg_log_loss: (test=-0.145) roc_auc: (test=0.768) total time= 4.8min\n",
      "[CV 1/3; 4/4] START C=1.0, penalty=l2...........................................\n",
      "[CV 1/3; 4/4] END C=1.0, penalty=l2; neg_log_loss: (test=-0.092) roc_auc: (test=0.677) total time= 3.6min\n",
      "[CV 2/3; 4/4] START C=1.0, penalty=l2...........................................\n",
      "[CV 2/3; 4/4] END C=1.0, penalty=l2; neg_log_loss: (test=-0.114) roc_auc: (test=0.696) total time= 7.7min\n",
      "[CV 3/3; 4/4] START C=1.0, penalty=l2...........................................\n",
      "[CV 3/3; 4/4] END C=1.0, penalty=l2; neg_log_loss: (test=-0.147) roc_auc: (test=0.760) total time=12.3min\n"
     ]
    }
   ],
   "source": [
    "clf = cv(X_train, y_train)"
   ]
  },
  {
   "cell_type": "code",
   "execution_count": 27,
   "metadata": {
    "colab": {
     "base_uri": "https://localhost:8080/"
    },
    "id": "9A942SW0xBAm",
    "outputId": "39a41d1e-a370-40f7-ea38-98544079ede7"
   },
   "outputs": [
    {
     "name": "stdout",
     "output_type": "stream",
     "text": [
      "Best score: -0.1164\n",
      "Best parameters: {'C': 0.1, 'penalty': 'l2'}\n"
     ]
    }
   ],
   "source": [
    "print(f\"Best score: {clf.best_score_:.4f}\\nBest parameters: {clf.best_params_}\")"
   ]
  },
  {
   "cell_type": "code",
   "execution_count": 28,
   "metadata": {
    "id": "KNEHB0HRNjsr"
   },
   "outputs": [],
   "source": [
    "best_estimator = clf.best_estimator_"
   ]
  },
  {
   "cell_type": "markdown",
   "metadata": {
    "id": "qt9UFgvc1336"
   },
   "source": [
    "Сравним бейзлайн и нашу лучшую модель:"
   ]
  },
  {
   "cell_type": "code",
   "execution_count": 29,
   "metadata": {
    "colab": {
     "base_uri": "https://localhost:8080/"
    },
    "id": "CTc3uo2QxEwp",
    "outputId": "09eacc56-6b25-4cf5-f8db-4d60607e9a19"
   },
   "outputs": [
    {
     "name": "stdout",
     "output_type": "stream",
     "text": [
      "Best model: logLoss = 0.1342, ROC AUC = 0.7843\n",
      "Baseline: logLoss = 0.1549, ROC AUC = 0.5000\n"
     ]
    }
   ],
   "source": [
    "y_model = best_estimator.predict_proba(X_test)[:, 1]\n",
    "y_baseline = np.full(y_model.shape, np.mean(y_train))\n",
    "print(f\"Best model: logLoss = {log_loss(y_test, y_model):.4f}, ROC AUC = {roc_auc_score(y_test, y_model):.4f}\")\n",
    "print(f\"Baseline: logLoss = {log_loss(y_test, y_baseline):.4f}, ROC AUC = {roc_auc_score(y_test, y_baseline):.4f}\")"
   ]
  },
  {
   "cell_type": "markdown",
   "metadata": {
    "id": "qTRrG_xi2qKF"
   },
   "source": [
    "И посмотрим на `feature importance` (считается как среднее абсолютных значений весов по фиче):"
   ]
  },
  {
   "cell_type": "code",
   "execution_count": 57,
   "metadata": {
    "id": "l3jk_mjQ3EjK"
   },
   "outputs": [],
   "source": [
    "best_estimator = clf.best_estimator_\n",
    "feat_imp = feature_importance(best_estimator, feature_names, column_names)"
   ]
  },
  {
   "cell_type": "code",
   "execution_count": 58,
   "metadata": {
    "colab": {
     "base_uri": "https://localhost:8080/"
    },
    "id": "ENFVcjBc-Lgk",
    "outputId": "0189f9f4-19f8-45c7-8305-3a9f3da7c6e2"
   },
   "outputs": [
    {
     "name": "stdout",
     "output_type": "stream",
     "text": [
      "weekday:                  0.4953\n",
      "zone_id:                  0.4480\n",
      "os_id:                    0.3046\n",
      "banner_id:                0.1819\n",
      "country_id:               0.1813\n",
      "banner_id;os_id:          0.1342\n",
      "hour:                     0.1238\n",
      "banner_id;zone_id:        0.1200\n",
      "campaign_clicks:          0.1176\n",
      "banner_id;country_id:     0.1169\n",
      "banner_id;weekday:        0.1115\n",
      "banner_id;hour:           0.1026\n",
      "os_id;hour:               0.0643\n"
     ]
    }
   ],
   "source": [
    "for feature, importance in feat_imp:\n",
    "    print(f'{feature}:'.ljust(25), f'{importance:.4f}')"
   ]
  },
  {
   "cell_type": "markdown",
   "metadata": {
    "id": "FYDniCwu1-pc"
   },
   "source": [
    "Хоть это и не `l1`, который бы красиво нам занулил ненужные фичи (я не стала его использовать, потому что бесконечно долго обучается), но можно увидеть следующее:\n",
    "1. Самые важные фичи: день недели, зона и устройство\n",
    "2. Самая важная из интеракций - взаимодействие баннера с устройством\n",
    "3. Самая, и почти единственная, бесполезная фича - интеракция устройства и времени"
   ]
  }
 ],
 "metadata": {
  "colab": {
   "collapsed_sections": [
    "9i0I-KIVpyHB",
    "CKmNAlq7DT4U"
   ],
   "machine_shape": "hm",
   "provenance": []
  },
  "kernelspec": {
   "display_name": "Python 3 (ipykernel)",
   "language": "python",
   "name": "python3"
  },
  "language_info": {
   "codemirror_mode": {
    "name": "ipython",
    "version": 3
   },
   "file_extension": ".py",
   "mimetype": "text/x-python",
   "name": "python",
   "nbconvert_exporter": "python",
   "pygments_lexer": "ipython3",
   "version": "3.10.12"
  }
 },
 "nbformat": 4,
 "nbformat_minor": 4
}
