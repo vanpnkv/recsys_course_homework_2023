{
 "cells": [
  {
   "cell_type": "markdown",
   "metadata": {
    "tags": []
   },
   "source": [
    "# Homework 1: \n",
    "## Kamenev Vladimir"
   ]
  },
  {
   "cell_type": "markdown",
   "metadata": {},
   "source": [
    "### Импорт библиотек"
   ]
  },
  {
   "cell_type": "code",
   "execution_count": 1,
   "metadata": {
    "tags": []
   },
   "outputs": [],
   "source": [
    "import pandas as pd\n",
    "import numpy as np\n",
    "from datetime import datetime\n",
    "import seaborn as sns\n",
    "import matplotlib.pyplot as plt\n",
    "from sklearn.feature_selection import SelectKBest, chi2\n",
    "from sklearn.preprocessing import OneHotEncoder,LabelEncoder\n",
    "from sklearn.model_selection import cross_validate"
   ]
  },
  {
   "cell_type": "markdown",
   "metadata": {},
   "source": [
    "### Читаем данные с небольшой предобработкой"
   ]
  },
  {
   "cell_type": "code",
   "execution_count": 2,
   "metadata": {
    "collapsed": false,
    "jupyter": {
     "outputs_hidden": false
    },
    "pycharm": {
     "name": "#%%\n"
    },
    "tags": []
   },
   "outputs": [],
   "source": [
    "data = pd.read_csv('../../../DATA/data.csv')\n",
    "# data = data.sample(frac=0.1) #\n",
    "data['date_time'] = data['date_time'].apply(lambda x: datetime.strptime(x.split('.')[0],'%Y-%m-%d %H:%M:%S'))# для удобной работы со временем\n",
    "data = data.sort_values(by=['date_time']) "
   ]
  },
  {
   "cell_type": "markdown",
   "metadata": {},
   "source": [
    "### Доступные дни, месяцы и года для рассмотрения:"
   ]
  },
  {
   "cell_type": "code",
   "execution_count": 3,
   "metadata": {
    "tags": []
   },
   "outputs": [
    {
     "name": "stdout",
     "output_type": "stream",
     "text": [
      "Доступное кол-во лет:  1\n",
      "Доступное кол-во месяцев:  2\n",
      "Доступное кол-во наблюдений по дням:  2021-09-26    3102610\n",
      "2021-09-29    2420588\n",
      "2021-09-27    2367303\n",
      "2021-09-28    2307355\n",
      "2021-10-02    2128978\n",
      "2021-09-30    1851189\n",
      "2021-10-01    1643448\n",
      "2021-09-01          1\n",
      "Name: date_time, dtype: int64\n"
     ]
    }
   ],
   "source": [
    "print('Доступное кол-во лет: ',data['date_time'].dt.year.nunique()) ## один уникальный год\n",
    "print('Доступное кол-во месяцев: ',data['date_time'].dt.month.nunique()) ## два месяца на рассмотрении\n",
    "print('Доступное кол-во наблюдений по дням: ',data['date_time'].dt.date.value_counts()) ### одна дата мусор (аномалия)"
   ]
  },
  {
   "cell_type": "markdown",
   "metadata": {},
   "source": [
    "### Сразу видим аномалию - 2021-09-01 (одно наблюдение, нерелевантно)"
   ]
  },
  {
   "cell_type": "code",
   "execution_count": 4,
   "metadata": {
    "tags": []
   },
   "outputs": [],
   "source": [
    "data = data[data['date_time'].dt.date != pd.Timestamp('2021-09-01').date()]"
   ]
  },
  {
   "cell_type": "markdown",
   "metadata": {},
   "source": [
    "### Доступные признаки и таргет"
   ]
  },
  {
   "cell_type": "markdown",
   "metadata": {
    "tags": []
   },
   "source": [
    "##### date_time - время показа рекламы\n",
    "##### zone_id - id зоны, где зона - место на сайте для размещения рекламы\n",
    "##### banner_id - id баннера, где баннер - сама реклама\n",
    "##### campaign_clicks - общее количество показов данной кампании (которой соотвествует баннер) данному юзеру, произошедшие до текущего показа. Кампанию стоит понимать как что-то общее (рекламодатель/тематика/ и т. п.) для баннеров.\n",
    "##### os_id - id операционной системы\n",
    "##### country_id - id страны\n",
    "\n",
    "##### impressions - был ли показ\n",
    "##### clicks - был ли клик"
   ]
  },
  {
   "cell_type": "code",
   "execution_count": 5,
   "metadata": {
    "tags": []
   },
   "outputs": [
    {
     "name": "stdout",
     "output_type": "stream",
     "text": [
      "Распределение кликов по дням: \n"
     ]
    },
    {
     "data": {
      "text/plain": [
       "'Формат данных'"
      ]
     },
     "metadata": {},
     "output_type": "display_data"
    },
    {
     "data": {
      "text/html": [
       "<div>\n",
       "<style scoped>\n",
       "    .dataframe tbody tr th:only-of-type {\n",
       "        vertical-align: middle;\n",
       "    }\n",
       "\n",
       "    .dataframe tbody tr th {\n",
       "        vertical-align: top;\n",
       "    }\n",
       "\n",
       "    .dataframe thead th {\n",
       "        text-align: right;\n",
       "    }\n",
       "</style>\n",
       "<table border=\"1\" class=\"dataframe\">\n",
       "  <thead>\n",
       "    <tr style=\"text-align: right;\">\n",
       "      <th></th>\n",
       "      <th>zone_id</th>\n",
       "      <th>banner_id</th>\n",
       "      <th>campaign_clicks</th>\n",
       "      <th>os_id</th>\n",
       "      <th>country_id</th>\n",
       "      <th>clicks</th>\n",
       "    </tr>\n",
       "  </thead>\n",
       "  <tbody>\n",
       "    <tr>\n",
       "      <th>5041415</th>\n",
       "      <td>41</td>\n",
       "      <td>29</td>\n",
       "      <td>1</td>\n",
       "      <td>3</td>\n",
       "      <td>0</td>\n",
       "      <td>0</td>\n",
       "    </tr>\n",
       "    <tr>\n",
       "      <th>1442602</th>\n",
       "      <td>1</td>\n",
       "      <td>188</td>\n",
       "      <td>2</td>\n",
       "      <td>2</td>\n",
       "      <td>15</td>\n",
       "      <td>0</td>\n",
       "    </tr>\n",
       "    <tr>\n",
       "      <th>7232498</th>\n",
       "      <td>17</td>\n",
       "      <td>52</td>\n",
       "      <td>2</td>\n",
       "      <td>2</td>\n",
       "      <td>5</td>\n",
       "      <td>0</td>\n",
       "    </tr>\n",
       "    <tr>\n",
       "      <th>14938691</th>\n",
       "      <td>47</td>\n",
       "      <td>73</td>\n",
       "      <td>1</td>\n",
       "      <td>4</td>\n",
       "      <td>13</td>\n",
       "      <td>0</td>\n",
       "    </tr>\n",
       "    <tr>\n",
       "      <th>11536774</th>\n",
       "      <td>48</td>\n",
       "      <td>266</td>\n",
       "      <td>1</td>\n",
       "      <td>0</td>\n",
       "      <td>1</td>\n",
       "      <td>0</td>\n",
       "    </tr>\n",
       "  </tbody>\n",
       "</table>\n",
       "</div>"
      ],
      "text/plain": [
       "          zone_id  banner_id  campaign_clicks  os_id  country_id  clicks\n",
       "5041415        41         29                1      3           0       0\n",
       "1442602         1        188                2      2          15       0\n",
       "7232498        17         52                2      2           5       0\n",
       "14938691       47         73                1      4          13       0\n",
       "11536774       48        266                1      0           1       0"
      ]
     },
     "metadata": {},
     "output_type": "display_data"
    },
    {
     "data": {
      "text/plain": [
       "'Описание фичей и переменной'"
      ]
     },
     "metadata": {},
     "output_type": "display_data"
    },
    {
     "data": {
      "text/html": [
       "<div>\n",
       "<style scoped>\n",
       "    .dataframe tbody tr th:only-of-type {\n",
       "        vertical-align: middle;\n",
       "    }\n",
       "\n",
       "    .dataframe tbody tr th {\n",
       "        vertical-align: top;\n",
       "    }\n",
       "\n",
       "    .dataframe thead th {\n",
       "        text-align: right;\n",
       "    }\n",
       "</style>\n",
       "<table border=\"1\" class=\"dataframe\">\n",
       "  <thead>\n",
       "    <tr style=\"text-align: right;\">\n",
       "      <th></th>\n",
       "      <th>zone_id</th>\n",
       "      <th>banner_id</th>\n",
       "      <th>campaign_clicks</th>\n",
       "      <th>os_id</th>\n",
       "      <th>country_id</th>\n",
       "      <th>clicks</th>\n",
       "    </tr>\n",
       "  </thead>\n",
       "  <tbody>\n",
       "    <tr>\n",
       "      <th>count</th>\n",
       "      <td>1.582147e+07</td>\n",
       "      <td>1.582147e+07</td>\n",
       "      <td>1.582147e+07</td>\n",
       "      <td>1.582147e+07</td>\n",
       "      <td>1.582147e+07</td>\n",
       "      <td>1.582147e+07</td>\n",
       "    </tr>\n",
       "    <tr>\n",
       "      <th>mean</th>\n",
       "      <td>8.152680e+01</td>\n",
       "      <td>3.816483e+02</td>\n",
       "      <td>6.238540e-01</td>\n",
       "      <td>1.840605e+00</td>\n",
       "      <td>4.346986e+00</td>\n",
       "      <td>2.668835e-02</td>\n",
       "    </tr>\n",
       "    <tr>\n",
       "      <th>std</th>\n",
       "      <td>1.632448e+02</td>\n",
       "      <td>3.959386e+02</td>\n",
       "      <td>9.249152e+00</td>\n",
       "      <td>1.530005e+00</td>\n",
       "      <td>4.317701e+00</td>\n",
       "      <td>1.611710e-01</td>\n",
       "    </tr>\n",
       "    <tr>\n",
       "      <th>min</th>\n",
       "      <td>0.000000e+00</td>\n",
       "      <td>0.000000e+00</td>\n",
       "      <td>0.000000e+00</td>\n",
       "      <td>0.000000e+00</td>\n",
       "      <td>0.000000e+00</td>\n",
       "      <td>0.000000e+00</td>\n",
       "    </tr>\n",
       "    <tr>\n",
       "      <th>25%</th>\n",
       "      <td>1.400000e+01</td>\n",
       "      <td>5.200000e+01</td>\n",
       "      <td>0.000000e+00</td>\n",
       "      <td>1.000000e+00</td>\n",
       "      <td>0.000000e+00</td>\n",
       "      <td>0.000000e+00</td>\n",
       "    </tr>\n",
       "    <tr>\n",
       "      <th>50%</th>\n",
       "      <td>1.900000e+01</td>\n",
       "      <td>2.170000e+02</td>\n",
       "      <td>0.000000e+00</td>\n",
       "      <td>2.000000e+00</td>\n",
       "      <td>4.000000e+00</td>\n",
       "      <td>0.000000e+00</td>\n",
       "    </tr>\n",
       "    <tr>\n",
       "      <th>75%</th>\n",
       "      <td>6.000000e+01</td>\n",
       "      <td>6.110000e+02</td>\n",
       "      <td>0.000000e+00</td>\n",
       "      <td>3.000000e+00</td>\n",
       "      <td>7.000000e+00</td>\n",
       "      <td>0.000000e+00</td>\n",
       "    </tr>\n",
       "    <tr>\n",
       "      <th>max</th>\n",
       "      <td>3.443000e+03</td>\n",
       "      <td>1.632000e+03</td>\n",
       "      <td>8.290000e+02</td>\n",
       "      <td>1.000000e+01</td>\n",
       "      <td>1.600000e+01</td>\n",
       "      <td>1.000000e+00</td>\n",
       "    </tr>\n",
       "  </tbody>\n",
       "</table>\n",
       "</div>"
      ],
      "text/plain": [
       "            zone_id     banner_id  campaign_clicks         os_id  \\\n",
       "count  1.582147e+07  1.582147e+07     1.582147e+07  1.582147e+07   \n",
       "mean   8.152680e+01  3.816483e+02     6.238540e-01  1.840605e+00   \n",
       "std    1.632448e+02  3.959386e+02     9.249152e+00  1.530005e+00   \n",
       "min    0.000000e+00  0.000000e+00     0.000000e+00  0.000000e+00   \n",
       "25%    1.400000e+01  5.200000e+01     0.000000e+00  1.000000e+00   \n",
       "50%    1.900000e+01  2.170000e+02     0.000000e+00  2.000000e+00   \n",
       "75%    6.000000e+01  6.110000e+02     0.000000e+00  3.000000e+00   \n",
       "max    3.443000e+03  1.632000e+03     8.290000e+02  1.000000e+01   \n",
       "\n",
       "         country_id        clicks  \n",
       "count  1.582147e+07  1.582147e+07  \n",
       "mean   4.346986e+00  2.668835e-02  \n",
       "std    4.317701e+00  1.611710e-01  \n",
       "min    0.000000e+00  0.000000e+00  \n",
       "25%    0.000000e+00  0.000000e+00  \n",
       "50%    4.000000e+00  0.000000e+00  \n",
       "75%    7.000000e+00  0.000000e+00  \n",
       "max    1.600000e+01  1.000000e+00  "
      ]
     },
     "metadata": {},
     "output_type": "display_data"
    },
    {
     "data": {
      "text/plain": [
       "'Количество уникальных значений'"
      ]
     },
     "metadata": {},
     "output_type": "display_data"
    },
    {
     "data": {
      "text/plain": [
       "zone_id            3444\n",
       "banner_id          1633\n",
       "campaign_clicks     822\n",
       "os_id                11\n",
       "country_id           17\n",
       "clicks                2\n",
       "dtype: int64"
      ]
     },
     "metadata": {},
     "output_type": "display_data"
    },
    {
     "name": "stdout",
     "output_type": "stream",
     "text": [
      "По описанию все фичи являются категориальными (время пока не трогаем)\n",
      "Распределение кликов по признакам:\n"
     ]
    },
    {
     "data": {
      "image/png": "[encoded data removed]",
      "text/plain": [
       "<Figure size 800x600 with 2 Axes>"
      ]
     },
     "metadata": {},
     "output_type": "display_data"
    },
    {
     "name": "stdout",
     "output_type": "stream",
     "text": [
      "Отсуствует сильная корреляция между признаками, нет необходимости отбрасывать признаки (для построения устойчивого решения\n",
      "Гистограммы распределения признаков от таргета\n"
     ]
    },
    {
     "data": {
      "image/png": "[encoded data removed]",
      "text/plain": [
       "<Figure size 1200x1000 with 10 Axes>"
      ]
     },
     "metadata": {},
     "output_type": "display_data"
    }
   ],
   "source": [
    "def analysis(data: pd.DataFrame):\n",
    "    feats = ['zone_id','banner_id','campaign_clicks','os_id',\n",
    "             'country_id'] ### у Impressions одно уникальное значение, поэтому дроп\n",
    "    target = 'clicks'\n",
    "    exploration_data  =pd.concat([data[feats],data[target]],axis=1)\n",
    "    print('Распределение кликов по дням: ')\n",
    "    \n",
    "    display('Формат данных', exploration_data.head())\n",
    "    display('Описание фичей и переменной',exploration_data.describe())\n",
    "    display('Количество уникальных значений', exploration_data.nunique())\n",
    "    print('По описанию все фичи являются категориальными (время пока не трогаем)')\n",
    "    print('Распределение кликов по признакам:')\n",
    "    df_corr = exploration_data.corr()\n",
    "    plt.figure(figsize=(8, 6))\n",
    "    sns.heatmap(df_corr, annot=True, cmap='coolwarm', fmt='.2f', linewidths=0.5)\n",
    "    plt.title('Correlation Heatmap')\n",
    "    plt.show()\n",
    "    print('Отсуствует сильная корреляция между признаками, нет необходимости отбрасывать признаки (для построения устойчивого решения')\n",
    "    print('Гистограммы распределения признаков от таргета')\n",
    "    fig, axs = plt.subplots(len(feats), 2, figsize=(12, 10))\n",
    "    for i,feat in enumerate(feats):\n",
    "        axs[i][0].hist(exploration_data[exploration_data[target]==0][feat])\n",
    "        axs[i][1].hist(exploration_data[exploration_data[target]==1][feat])\n",
    "        axs[i][0].set_title(f'{feat} - Clicks 0')\n",
    "        axs[i][1].set_title(f'{feat}- Clicks 1')\n",
    "    fig.tight_layout()\n",
    "    plt.show()\n",
    "    \n",
    "analysis(data)"
   ]
  },
  {
   "cell_type": "code",
   "execution_count": 6,
   "metadata": {
    "tags": []
   },
   "outputs": [],
   "source": [
    "def feature_engineering(data: pd.DataFrame) -> pd.DataFrame:\n",
    "    encoder = LabelEncoder()\n",
    "    # Выбрасываем мусор и прочее\n",
    "    data = data.drop_duplicates()\n",
    "    data = data.drop(columns=['impressions'],axis=1)\n",
    "    data = data.drop(columns=['oaid_hash', 'banner_id0', 'banner_id1',\n",
    "                          'rate0', 'rate1', 'g0', 'g1', 'coeff_sum0', 'coeff_sum1'],\n",
    "                 axis=1)# Не нужны для первого дз\n",
    "    data['year'] = data['date_time'].dt.year\n",
    "    data['month'] = data['date_time'].dt.month\n",
    "    data['day'] = data['date_time'].dt.day\n",
    "    data['hour'] = data['date_time'].dt.hour\n",
    "    data['minute'] = data['date_time'].dt.minute\n",
    "    data['second'] = data['date_time'].dt.second\n",
    "    data['campaign_ad'] = data['campaign_clicks'].apply(lambda x: int(bool(x))) # были ли показы от от данной компании\n",
    "    data['is_day'] = data['hour'].apply(lambda x: 1 if int(x)>=12 and int(x) <=24 else 0) # Был ли показ днем\n",
    "    data['is_night'] = data['is_day'].apply(lambda x: 1 if x==0 else 0) # Был ли показ ночью\n",
    "    data['is_weekend'] = data['date_time'].apply(lambda x: 1 if x.weekday() > 4 else 0) # Был ли показ на выходных\n",
    "    # Идея с комбинацией признаков не сработала (падало решение)\n",
    "    # data['zone_banner_interaction'] = data['zone_id'].astype(str) + '_' + data['banner_id'].astype(str)\n",
    "    # data['os_country_interaction'] = data['os_id'].astype(str) + '_' + data['country_id'].astype(str)\n",
    "    # data['zone_banner_interaction_enc'] = encoder.fit_transform(data['zone_banner_interaction']) \n",
    "    # data['os_country_interaction_enc'] = encoder.fit_transform(data['os_country_interaction'])\n",
    "    return data\n",
    "data = feature_engineering(data)"
   ]
  },
  {
   "cell_type": "code",
   "execution_count": 7,
   "metadata": {
    "tags": []
   },
   "outputs": [],
   "source": [
    "feats = ['zone_id','banner_id','campaign_clicks','os_id','country_id','month','day','hour','campaign_ad',\n",
    "        'is_day','is_night','is_weekend']\n",
    "feats_to_transform = ['zone_id','banner_id','os_id','country_id']\n",
    "raw_feats = [item for item in feats if item not in feats_to_transform]\n",
    "target = 'clicks'\n"
   ]
  },
  {
   "cell_type": "markdown",
   "metadata": {},
   "source": [
    "### Выделяем последний день для теста"
   ]
  },
  {
   "cell_type": "code",
   "execution_count": 8,
   "metadata": {
    "tags": []
   },
   "outputs": [],
   "source": [
    "end_last_day = data['date_time'].iloc[-1]\n",
    "start_last_day = end_last_day - pd.to_timedelta(1, unit='d')"
   ]
  },
  {
   "cell_type": "code",
   "execution_count": 9,
   "metadata": {
    "tags": []
   },
   "outputs": [
    {
     "data": {
      "text/plain": [
       "Timestamp('2021-10-01 23:59:59')"
      ]
     },
     "execution_count": 9,
     "metadata": {},
     "output_type": "execute_result"
    }
   ],
   "source": [
    "start_last_day"
   ]
  },
  {
   "cell_type": "code",
   "execution_count": 10,
   "metadata": {
    "tags": []
   },
   "outputs": [],
   "source": [
    "from sklearn.model_selection import train_test_split"
   ]
  },
  {
   "cell_type": "code",
   "execution_count": 11,
   "metadata": {
    "tags": []
   },
   "outputs": [
    {
     "data": {
      "text/plain": [
       "Timestamp('2021-10-01 23:59:59')"
      ]
     },
     "execution_count": 11,
     "metadata": {},
     "output_type": "execute_result"
    }
   ],
   "source": [
    "start_last_day"
   ]
  },
  {
   "cell_type": "markdown",
   "metadata": {},
   "source": [
    "### Обучающая и валидационная выборка"
   ]
  },
  {
   "cell_type": "code",
   "execution_count": 12,
   "metadata": {
    "tags": []
   },
   "outputs": [],
   "source": [
    "X_train = data[(data['date_time']<start_last_day)][feats]\n",
    "Y_train = data[(data['date_time']<start_last_day)][target]"
   ]
  },
  {
   "cell_type": "code",
   "execution_count": 13,
   "metadata": {
    "tags": []
   },
   "outputs": [],
   "source": [
    "X_test = data[(data['date_time']>start_last_day) & (data['date_time']<=end_last_day)][feats]\n",
    "Y_test = data[(data['date_time']>start_last_day) & (data['date_time']<=end_last_day)][target]"
   ]
  },
  {
   "cell_type": "markdown",
   "metadata": {},
   "source": [
    "### Кодируем категориальные признаки"
   ]
  },
  {
   "cell_type": "code",
   "execution_count": 14,
   "metadata": {
    "tags": []
   },
   "outputs": [
    {
     "name": "stderr",
     "output_type": "stream",
     "text": [
      "/home/kotvkaskepc/anaconda3/envs/gpuenv/lib/python3.9/site-packages/sklearn/preprocessing/_encoders.py:868: FutureWarning: `sparse` was renamed to `sparse_output` in version 1.2 and will be removed in 1.4. `sparse_output` is ignored unless you leave `sparse` to its default value.\n",
      "  warnings.warn(\n"
     ]
    }
   ],
   "source": [
    "ohe = OneHotEncoder(handle_unknown='ignore', sparse=True)\n",
    "X_train = ohe.fit_transform(X_train)\n",
    "# X_val = ohe.transform(X_val)"
   ]
  },
  {
   "cell_type": "markdown",
   "metadata": {
    "tags": []
   },
   "source": [
    "### Найдем K топовых признаков"
   ]
  },
  {
   "cell_type": "code",
   "execution_count": 15,
   "metadata": {
    "tags": []
   },
   "outputs": [],
   "source": [
    "feature_selector = SelectKBest(chi2, k=1000)"
   ]
  },
  {
   "cell_type": "code",
   "execution_count": 16,
   "metadata": {
    "tags": []
   },
   "outputs": [],
   "source": [
    "X_train = feature_selector.fit_transform(X_train, Y_train)\n",
    "# X_val = feature_selector.transform(X_val)"
   ]
  },
  {
   "cell_type": "markdown",
   "metadata": {},
   "source": [
    "### Не забываем про трансформацию теста:"
   ]
  },
  {
   "cell_type": "code",
   "execution_count": 17,
   "metadata": {
    "tags": []
   },
   "outputs": [],
   "source": [
    "X_test = ohe.transform(X_test)\n",
    "X_test = feature_selector.transform(X_test)\n"
   ]
  },
  {
   "cell_type": "markdown",
   "metadata": {
    "tags": []
   },
   "source": [
    "### Метрики"
   ]
  },
  {
   "cell_type": "code",
   "execution_count": 18,
   "metadata": {
    "tags": []
   },
   "outputs": [],
   "source": [
    "from sklearn.metrics import log_loss,roc_auc_score, classification_report\n"
   ]
  },
  {
   "cell_type": "markdown",
   "metadata": {},
   "source": [
    "### Baseline:"
   ]
  },
  {
   "cell_type": "code",
   "execution_count": 19,
   "metadata": {
    "tags": []
   },
   "outputs": [],
   "source": [
    "base_prediction = Y_train.mean()\n",
    "base_prediction = np.full(X_test.shape[0],base_prediction)"
   ]
  },
  {
   "cell_type": "code",
   "execution_count": 20,
   "metadata": {
    "tags": []
   },
   "outputs": [
    {
     "name": "stdout",
     "output_type": "stream",
     "text": [
      "Log_loss:  0.15407884292463087\n",
      "ROC AUC Score:  0.5\n"
     ]
    },
    {
     "name": "stderr",
     "output_type": "stream",
     "text": [
      "/home/kotvkaskepc/anaconda3/envs/gpuenv/lib/python3.9/site-packages/sklearn/metrics/_classification.py:1344: UndefinedMetricWarning: Precision and F-score are ill-defined and being set to 0.0 in labels with no predicted samples. Use `zero_division` parameter to control this behavior.\n",
      "  _warn_prf(average, modifier, msg_start, len(result))\n",
      "/home/kotvkaskepc/anaconda3/envs/gpuenv/lib/python3.9/site-packages/sklearn/metrics/_classification.py:1344: UndefinedMetricWarning: Precision and F-score are ill-defined and being set to 0.0 in labels with no predicted samples. Use `zero_division` parameter to control this behavior.\n",
      "  _warn_prf(average, modifier, msg_start, len(result))\n"
     ]
    },
    {
     "name": "stdout",
     "output_type": "stream",
     "text": [
      "Основные метрики: \n",
      "               precision    recall  f1-score   support\n",
      "\n",
      "           0       0.96      1.00      0.98   2053001\n",
      "           1       0.00      0.00      0.00     74794\n",
      "\n",
      "    accuracy                           0.96   2127795\n",
      "   macro avg       0.48      0.50      0.49   2127795\n",
      "weighted avg       0.93      0.96      0.95   2127795\n",
      "\n"
     ]
    },
    {
     "name": "stderr",
     "output_type": "stream",
     "text": [
      "/home/kotvkaskepc/anaconda3/envs/gpuenv/lib/python3.9/site-packages/sklearn/metrics/_classification.py:1344: UndefinedMetricWarning: Precision and F-score are ill-defined and being set to 0.0 in labels with no predicted samples. Use `zero_division` parameter to control this behavior.\n",
      "  _warn_prf(average, modifier, msg_start, len(result))\n"
     ]
    }
   ],
   "source": [
    "print('Log_loss: ',log_loss(Y_test,base_prediction))\n",
    "print('ROC AUC Score: ',roc_auc_score(Y_test,base_prediction))\n",
    "print('Основные метрики: \\n',classification_report(Y_test,base_prediction>0.5))"
   ]
  },
  {
   "cell_type": "markdown",
   "metadata": {},
   "source": [
    "### Решение 1: CatBoostClassifier"
   ]
  },
  {
   "cell_type": "code",
   "execution_count": 21,
   "metadata": {
    "tags": []
   },
   "outputs": [],
   "source": [
    "from catboost import CatBoostClassifier"
   ]
  },
  {
   "cell_type": "code",
   "execution_count": 22,
   "metadata": {
    "tags": []
   },
   "outputs": [],
   "source": [
    "model = CatBoostClassifier(task_type=\"GPU\")"
   ]
  },
  {
   "cell_type": "code",
   "execution_count": 23,
   "metadata": {
    "tags": []
   },
   "outputs": [
    {
     "name": "stdout",
     "output_type": "stream",
     "text": [
      "CPU times: user 2min 32s, sys: 22.9 s, total: 2min 55s\n",
      "Wall time: 1min 42s\n"
     ]
    },
    {
     "data": {
      "text/plain": [
       "<catboost.core.CatBoostClassifier at 0x7f8c81365580>"
      ]
     },
     "execution_count": 23,
     "metadata": {},
     "output_type": "execute_result"
    }
   ],
   "source": [
    "%%time\n",
    "model.fit(X_train,Y_train,verbose=False)"
   ]
  },
  {
   "cell_type": "code",
   "execution_count": 24,
   "metadata": {
    "tags": []
   },
   "outputs": [],
   "source": [
    "prediction = model.predict_proba(X_test)[:,1]"
   ]
  },
  {
   "cell_type": "code",
   "execution_count": 25,
   "metadata": {
    "tags": []
   },
   "outputs": [
    {
     "name": "stdout",
     "output_type": "stream",
     "text": [
      "Catboost Results: \n",
      "Log Loss:  0.13339830488154814\n",
      "ROCAUC Score:  0.7780198635130349\n",
      "Основные метрики: \n",
      "\n",
      "               precision    recall  f1-score   support\n",
      "\n",
      "           0       0.97      1.00      0.98   2053001\n",
      "           1       0.87      0.01      0.01     74794\n",
      "\n",
      "    accuracy                           0.97   2127795\n",
      "   macro avg       0.92      0.50      0.50   2127795\n",
      "weighted avg       0.96      0.97      0.95   2127795\n",
      "\n"
     ]
    }
   ],
   "source": [
    "print('Catboost Results: ')\n",
    "print('Log Loss: ',log_loss(Y_test,prediction))\n",
    "print('ROCAUC Score: ',roc_auc_score(Y_test,prediction))\n",
    "print('Основные метрики: \\n\\n',classification_report(Y_test,prediction>0.5))"
   ]
  },
  {
   "cell_type": "markdown",
   "metadata": {},
   "source": [
    "### Решение 2 (для максимального балла использовать логистическую регрессию c покоординатным спуском через liblinear )"
   ]
  },
  {
   "cell_type": "code",
   "execution_count": 40,
   "metadata": {
    "tags": []
   },
   "outputs": [],
   "source": [
    "from sklearn.linear_model import LogisticRegression\n",
    "from sklearn.model_selection import TimeSeriesSplit,GridSearchCV"
   ]
  },
  {
   "cell_type": "code",
   "execution_count": 27,
   "metadata": {
    "tags": []
   },
   "outputs": [],
   "source": [
    "model = LogisticRegression(solver='liblinear', penalty='l2')"
   ]
  },
  {
   "cell_type": "code",
   "execution_count": 28,
   "metadata": {
    "tags": []
   },
   "outputs": [
    {
     "name": "stdout",
     "output_type": "stream",
     "text": [
      "CPU times: user 6min 43s, sys: 19.5 s, total: 7min 3s\n",
      "Wall time: 7min 3s\n"
     ]
    },
    {
     "data": {
      "text/html": [
       "<style>#sk-container-id-1 {color: black;background-color: white;}#sk-container-id-1 pre{padding: 0;}#sk-container-id-1 div.sk-toggleable {background-color: white;}#sk-container-id-1 label.sk-toggleable__label {cursor: pointer;display: block;width: 100%;margin-bottom: 0;padding: 0.3em;box-sizing: border-box;text-align: center;}#sk-container-id-1 label.sk-toggleable__label-arrow:before {content: \"▸\";float: left;margin-right: 0.25em;color: #696969;}#sk-container-id-1 label.sk-toggleable__label-arrow:hover:before {color: black;}#sk-container-id-1 div.sk-estimator:hover label.sk-toggleable__label-arrow:before {color: black;}#sk-container-id-1 div.sk-toggleable__content {max-height: 0;max-width: 0;overflow: hidden;text-align: left;background-color: #f0f8ff;}#sk-container-id-1 div.sk-toggleable__content pre {margin: 0.2em;color: black;border-radius: 0.25em;background-color: #f0f8ff;}#sk-container-id-1 input.sk-toggleable__control:checked~div.sk-toggleable__content {max-height: 200px;max-width: 100%;overflow: auto;}#sk-container-id-1 input.sk-toggleable__control:checked~label.sk-toggleable__label-arrow:before {content: \"▾\";}#sk-container-id-1 div.sk-estimator input.sk-toggleable__control:checked~label.sk-toggleable__label {background-color: #d4ebff;}#sk-container-id-1 div.sk-label input.sk-toggleable__control:checked~label.sk-toggleable__label {background-color: #d4ebff;}#sk-container-id-1 input.sk-hidden--visually {border: 0;clip: rect(1px 1px 1px 1px);clip: rect(1px, 1px, 1px, 1px);height: 1px;margin: -1px;overflow: hidden;padding: 0;position: absolute;width: 1px;}#sk-container-id-1 div.sk-estimator {font-family: monospace;background-color: #f0f8ff;border: 1px dotted black;border-radius: 0.25em;box-sizing: border-box;margin-bottom: 0.5em;}#sk-container-id-1 div.sk-estimator:hover {background-color: #d4ebff;}#sk-container-id-1 div.sk-parallel-item::after {content: \"\";width: 100%;border-bottom: 1px solid gray;flex-grow: 1;}#sk-container-id-1 div.sk-label:hover label.sk-toggleable__label {background-color: #d4ebff;}#sk-container-id-1 div.sk-serial::before {content: \"\";position: absolute;border-left: 1px solid gray;box-sizing: border-box;top: 0;bottom: 0;left: 50%;z-index: 0;}#sk-container-id-1 div.sk-serial {display: flex;flex-direction: column;align-items: center;background-color: white;padding-right: 0.2em;padding-left: 0.2em;position: relative;}#sk-container-id-1 div.sk-item {position: relative;z-index: 1;}#sk-container-id-1 div.sk-parallel {display: flex;align-items: stretch;justify-content: center;background-color: white;position: relative;}#sk-container-id-1 div.sk-item::before, #sk-container-id-1 div.sk-parallel-item::before {content: \"\";position: absolute;border-left: 1px solid gray;box-sizing: border-box;top: 0;bottom: 0;left: 50%;z-index: -1;}#sk-container-id-1 div.sk-parallel-item {display: flex;flex-direction: column;z-index: 1;position: relative;background-color: white;}#sk-container-id-1 div.sk-parallel-item:first-child::after {align-self: flex-end;width: 50%;}#sk-container-id-1 div.sk-parallel-item:last-child::after {align-self: flex-start;width: 50%;}#sk-container-id-1 div.sk-parallel-item:only-child::after {width: 0;}#sk-container-id-1 div.sk-dashed-wrapped {border: 1px dashed gray;margin: 0 0.4em 0.5em 0.4em;box-sizing: border-box;padding-bottom: 0.4em;background-color: white;}#sk-container-id-1 div.sk-label label {font-family: monospace;font-weight: bold;display: inline-block;line-height: 1.2em;}#sk-container-id-1 div.sk-label-container {text-align: center;}#sk-container-id-1 div.sk-container {/* jupyter's `normalize.less` sets `[hidden] { display: none; }` but bootstrap.min.css set `[hidden] { display: none !important; }` so we also need the `!important` here to be able to override the default hidden behavior on the sphinx rendered scikit-learn.org. See: https://github.com/scikit-learn/scikit-learn/issues/21755 */display: inline-block !important;position: relative;}#sk-container-id-1 div.sk-text-repr-fallback {display: none;}</style><div id=\"sk-container-id-1\" class=\"sk-top-container\"><div class=\"sk-text-repr-fallback\"><pre>LogisticRegression(solver=&#x27;liblinear&#x27;)</pre><b>In a Jupyter environment, please rerun this cell to show the HTML representation or trust the notebook. <br />On GitHub, the HTML representation is unable to render, please try loading this page with nbviewer.org.</b></div><div class=\"sk-container\" hidden><div class=\"sk-item\"><div class=\"sk-estimator sk-toggleable\"><input class=\"sk-toggleable__control sk-hidden--visually\" id=\"sk-estimator-id-1\" type=\"checkbox\" checked><label for=\"sk-estimator-id-1\" class=\"sk-toggleable__label sk-toggleable__label-arrow\">LogisticRegression</label><div class=\"sk-toggleable__content\"><pre>LogisticRegression(solver=&#x27;liblinear&#x27;)</pre></div></div></div></div></div>"
      ],
      "text/plain": [
       "LogisticRegression(solver='liblinear')"
      ]
     },
     "execution_count": 28,
     "metadata": {},
     "output_type": "execute_result"
    }
   ],
   "source": [
    "%%time\n",
    "model.fit(X_train,Y_train)"
   ]
  },
  {
   "cell_type": "code",
   "execution_count": 29,
   "metadata": {
    "tags": []
   },
   "outputs": [],
   "source": [
    "prediction = model.predict_proba(X_test)[:,1]"
   ]
  },
  {
   "cell_type": "code",
   "execution_count": 30,
   "metadata": {
    "tags": []
   },
   "outputs": [
    {
     "name": "stdout",
     "output_type": "stream",
     "text": [
      "LogReg Results: \n",
      "Log Loss:  0.1369860180512297\n",
      "ROCAUC Score:  0.7791786379725736\n",
      "Основные метрики: \n",
      "\n",
      "               precision    recall  f1-score   support\n",
      "\n",
      "           0       0.97      1.00      0.98   2053001\n",
      "           1       0.58      0.01      0.01     74794\n",
      "\n",
      "    accuracy                           0.96   2127795\n",
      "   macro avg       0.77      0.50      0.50   2127795\n",
      "weighted avg       0.95      0.96      0.95   2127795\n",
      "\n"
     ]
    }
   ],
   "source": [
    "print('LogReg Results: ')\n",
    "print('Log Loss: ',log_loss(Y_test,prediction))\n",
    "print('ROCAUC Score: ',roc_auc_score(Y_test,prediction))\n",
    "print('Основные метрики: \\n\\n',classification_report(Y_test,prediction>0.5))"
   ]
  },
  {
   "cell_type": "code",
   "execution_count": 37,
   "metadata": {
    "collapsed": false,
    "jupyter": {
     "outputs_hidden": false
    },
    "pycharm": {
     "name": "#%%\n"
    },
    "tags": []
   },
   "outputs": [],
   "source": [
    "def create_model():\n",
    "    return LogisticRegression(solver='liblinear', penalty='l2')"
   ]
  },
  {
   "cell_type": "code",
   "execution_count": 43,
   "metadata": {
    "collapsed": false,
    "jupyter": {
     "outputs_hidden": false
    },
    "pycharm": {
     "name": "#%%\n"
    },
    "tags": []
   },
   "outputs": [],
   "source": [
    "def cv(X_train,Y_train): ### Подбираем параметр C\n",
    "    model = create_model()\n",
    "    param_search = {'C' : [0.001, 0.01, 0.1, 1.]}\n",
    "\n",
    "    splits = TimeSeriesSplit(n_splits=3)\n",
    "    clf = GridSearchCV(estimator=model, cv=splits,\n",
    "                            param_grid=param_search, verbose=10, scoring=['roc_auc', 'neg_log_loss'], refit=\"neg_log_loss\")\n",
    "    clf.fit(X_train, Y_train)\n",
    "    \n",
    "    return clf"
   ]
  },
  {
   "cell_type": "code",
   "execution_count": 44,
   "metadata": {},
   "outputs": [
    {
     "name": "stdout",
     "output_type": "stream",
     "text": [
      "Fitting 3 folds for each of 4 candidates, totalling 12 fits\n",
      "[CV 1/3; 1/4] START C=0.001.....................................................\n",
      "[CV 1/3; 1/4] END C=0.001; neg_log_loss: (test=-0.086) roc_auc: (test=0.670) total time=   8.8s\n",
      "[CV 2/3; 1/4] START C=0.001.....................................................\n",
      "[CV 2/3; 1/4] END C=0.001; neg_log_loss: (test=-0.113) roc_auc: (test=0.670) total time=  19.4s\n",
      "[CV 3/3; 1/4] START C=0.001.....................................................\n",
      "[CV 3/3; 1/4] END C=0.001; neg_log_loss: (test=-0.151) roc_auc: (test=0.731) total time=  32.8s\n",
      "[CV 1/3; 2/4] START C=0.01......................................................\n",
      "[CV 1/3; 2/4] END C=0.01; neg_log_loss: (test=-0.084) roc_auc: (test=0.696) total time=  14.5s\n",
      "[CV 2/3; 2/4] START C=0.01......................................................\n",
      "[CV 2/3; 2/4] END C=0.01; neg_log_loss: (test=-0.110) roc_auc: (test=0.701) total time=  39.1s\n",
      "[CV 3/3; 2/4] START C=0.01......................................................\n",
      "[CV 3/3; 2/4] END C=0.01; neg_log_loss: (test=-0.148) roc_auc: (test=0.756) total time= 1.1min\n",
      "[CV 1/3; 3/4] START C=0.1.......................................................\n",
      "[CV 1/3; 3/4] END C=0.1; neg_log_loss: (test=-0.083) roc_auc: (test=0.706) total time=  28.8s\n",
      "[CV 2/3; 3/4] START C=0.1.......................................................\n",
      "[CV 2/3; 3/4] END C=0.1; neg_log_loss: (test=-0.109) roc_auc: (test=0.710) total time= 1.3min\n",
      "[CV 3/3; 3/4] START C=0.1.......................................................\n",
      "[CV 3/3; 3/4] END C=0.1; neg_log_loss: (test=-0.148) roc_auc: (test=0.759) total time= 2.0min\n",
      "[CV 1/3; 4/4] START C=1.0.......................................................\n",
      "[CV 1/3; 4/4] END C=1.0; neg_log_loss: (test=-0.083) roc_auc: (test=0.708) total time= 1.1min\n",
      "[CV 2/3; 4/4] START C=1.0.......................................................\n",
      "[CV 2/3; 4/4] END C=1.0; neg_log_loss: (test=-0.109) roc_auc: (test=0.710) total time= 3.1min\n",
      "[CV 3/3; 4/4] START C=1.0.......................................................\n",
      "[CV 3/3; 4/4] END C=1.0; neg_log_loss: (test=-0.149) roc_auc: (test=0.758) total time= 4.9min\n",
      "CPU times: user 18min 23s, sys: 53.6 s, total: 19min 17s\n",
      "Wall time: 19min 17s\n"
     ]
    }
   ],
   "source": [
    "%%time\n",
    "best_model = cv(X_train,Y_train)"
   ]
  },
  {
   "cell_type": "markdown",
   "metadata": {
    "tags": []
   },
   "source": [
    "# Итог:"
   ]
  },
  {
   "cell_type": "code",
   "execution_count": 45,
   "metadata": {
    "tags": []
   },
   "outputs": [],
   "source": [
    "base_prediction = Y_train.mean()\n",
    "base_prediction = np.full(len(Y_test),base_prediction)"
   ]
  },
  {
   "cell_type": "code",
   "execution_count": 46,
   "metadata": {
    "tags": []
   },
   "outputs": [
    {
     "name": "stdout",
     "output_type": "stream",
     "text": [
      "Baseline Results: \n",
      "Log Loss:  0.15407884292463087\n",
      "ROCAUC Score:  0.5\n"
     ]
    },
    {
     "name": "stderr",
     "output_type": "stream",
     "text": [
      "/home/kotvkaskepc/anaconda3/envs/gpuenv/lib/python3.9/site-packages/sklearn/metrics/_classification.py:1344: UndefinedMetricWarning: Precision and F-score are ill-defined and being set to 0.0 in labels with no predicted samples. Use `zero_division` parameter to control this behavior.\n",
      "  _warn_prf(average, modifier, msg_start, len(result))\n",
      "/home/kotvkaskepc/anaconda3/envs/gpuenv/lib/python3.9/site-packages/sklearn/metrics/_classification.py:1344: UndefinedMetricWarning: Precision and F-score are ill-defined and being set to 0.0 in labels with no predicted samples. Use `zero_division` parameter to control this behavior.\n",
      "  _warn_prf(average, modifier, msg_start, len(result))\n",
      "/home/kotvkaskepc/anaconda3/envs/gpuenv/lib/python3.9/site-packages/sklearn/metrics/_classification.py:1344: UndefinedMetricWarning: Precision and F-score are ill-defined and being set to 0.0 in labels with no predicted samples. Use `zero_division` parameter to control this behavior.\n",
      "  _warn_prf(average, modifier, msg_start, len(result))\n"
     ]
    },
    {
     "name": "stdout",
     "output_type": "stream",
     "text": [
      "Основные метрики: \n",
      "\n",
      "               precision    recall  f1-score   support\n",
      "\n",
      "           0       0.96      1.00      0.98   2053001\n",
      "           1       0.00      0.00      0.00     74794\n",
      "\n",
      "    accuracy                           0.96   2127795\n",
      "   macro avg       0.48      0.50      0.49   2127795\n",
      "weighted avg       0.93      0.96      0.95   2127795\n",
      "\n",
      "LogReg Results: \n",
      "Log Loss:  0.13672160020962554\n",
      "ROCAUC Score:  0.7791441404239191\n",
      "Основные метрики: \n",
      "\n",
      "               precision    recall  f1-score   support\n",
      "\n",
      "           0       0.97      1.00      0.98   2053001\n",
      "           1       0.59      0.01      0.01     74794\n",
      "\n",
      "    accuracy                           0.96   2127795\n",
      "   macro avg       0.78      0.50      0.50   2127795\n",
      "weighted avg       0.95      0.96      0.95   2127795\n",
      "\n"
     ]
    }
   ],
   "source": [
    "print('Baseline Results: ')\n",
    "print('Log Loss: ',log_loss(Y_test,base_prediction))\n",
    "print('ROCAUC Score: ',roc_auc_score(Y_test,base_prediction))\n",
    "print('Основные метрики: \\n\\n',classification_report(Y_test,base_prediction>0.5))\n",
    "\n",
    "prediction = best_model.predict_proba(X_test)[:,1]\n",
    "print('LogReg Results: ')\n",
    "print('Log Loss: ',log_loss(Y_test,prediction))\n",
    "print('ROCAUC Score: ',roc_auc_score(Y_test,prediction))\n",
    "print('Основные метрики: \\n\\n',classification_report(Y_test,prediction>0.5))"
   ]
  },
  {
   "cell_type": "markdown",
   "metadata": {},
   "source": [
    "### Т.о полученные выше модели превосходят бейзлайн по качеству предсказания вероятности отклика"
   ]
  },
  {
   "cell_type": "code",
   "execution_count": null,
   "metadata": {},
   "outputs": [],
   "source": []
  }
 ],
 "metadata": {
  "kernelspec": {
   "display_name": "Python 3 (ipykernel)",
   "language": "python",
   "name": "python3"
  },
  "language_info": {
   "codemirror_mode": {
    "name": "ipython",
    "version": 3
   },
   "file_extension": ".py",
   "mimetype": "text/x-python",
   "name": "python",
   "nbconvert_exporter": "python",
   "pygments_lexer": "ipython3",
   "version": "3.9.17"
  }
 },
 "nbformat": 4,
 "nbformat_minor": 4
}
