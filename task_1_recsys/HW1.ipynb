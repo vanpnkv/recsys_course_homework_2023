{
 "cells": [
  {
   "cell_type": "code",
   "execution_count": null,
   "metadata": {
    "scrolled": true
   },
   "outputs": [],
   "source": [
    "%pip install -q category_encoders==2.6.3 polars==0.18.6"
   ]
  },
  {
   "cell_type": "code",
   "execution_count": 1,
   "metadata": {},
   "outputs": [],
   "source": [
    "import pandas as pd\n",
    "import polars as pl\n",
    "import numpy as np\n",
    "\n",
    "import category_encoders as ce\n",
    "from sklearn.metrics import log_loss, roc_auc_score\n",
    "from sklearn.linear_model import LogisticRegression\n",
    "from sklearn.model_selection import TimeSeriesSplit, GridSearchCV\n",
    "\n",
    "from typing import Tuple\n",
    "import datetime\n",
    "\n",
    "import warnings\n",
    "warnings.filterwarnings('ignore')\n",
    "\n",
    "RANDOM_STATE = 42"
   ]
  },
  {
   "cell_type": "code",
   "execution_count": 2,
   "metadata": {
    "pycharm": {
     "name": "#%%\n"
    },
    "scrolled": true
   },
   "outputs": [
    {
     "data": {
      "text/html": [
       "<div><style>\n",
       ".dataframe > thead > tr > th,\n",
       ".dataframe > tbody > tr > td {\n",
       "  text-align: right;\n",
       "}\n",
       "</style>\n",
       "<small>shape: (15_821_472, 8)</small><table border=\"1\" class=\"dataframe\"><thead><tr><th>date_time</th><th>zone_id</th><th>banner_id</th><th>campaign_clicks</th><th>os_id</th><th>country_id</th><th>impressions</th><th>clicks</th></tr><tr><td>datetime[μs]</td><td>i64</td><td>i64</td><td>i64</td><td>i64</td><td>i64</td><td>i64</td><td>i64</td></tr></thead><tbody><tr><td>2021-09-01 00:02:49</td><td>30</td><td>596</td><td>0</td><td>0</td><td>7</td><td>1</td><td>0</td></tr><tr><td>2021-09-26 00:00:00</td><td>3</td><td>86</td><td>0</td><td>4</td><td>0</td><td>1</td><td>0</td></tr><tr><td>2021-09-26 00:00:00</td><td>1</td><td>188</td><td>2</td><td>2</td><td>15</td><td>1</td><td>0</td></tr><tr><td>2021-09-26 00:00:00</td><td>17</td><td>3</td><td>0</td><td>1</td><td>1</td><td>1</td><td>0</td></tr><tr><td>2021-09-26 00:00:00</td><td>86</td><td>61</td><td>0</td><td>0</td><td>1</td><td>1</td><td>0</td></tr><tr><td>2021-09-26 00:00:00</td><td>19</td><td>36</td><td>1</td><td>1</td><td>0</td><td>1</td><td>0</td></tr><tr><td>2021-09-26 00:00:00</td><td>41</td><td>87</td><td>0</td><td>0</td><td>3</td><td>1</td><td>0</td></tr><tr><td>2021-09-26 00:00:00</td><td>19</td><td>159</td><td>0</td><td>0</td><td>11</td><td>1</td><td>0</td></tr><tr><td>2021-09-26 00:00:00</td><td>41</td><td>29</td><td>1</td><td>3</td><td>0</td><td>1</td><td>0</td></tr><tr><td>2021-09-26 00:00:00</td><td>19</td><td>453</td><td>0</td><td>0</td><td>5</td><td>1</td><td>0</td></tr><tr><td>2021-09-26 00:00:00</td><td>17</td><td>52</td><td>2</td><td>2</td><td>5</td><td>1</td><td>0</td></tr><tr><td>2021-09-26 00:00:00</td><td>11</td><td>28</td><td>1</td><td>3</td><td>5</td><td>1</td><td>0</td></tr><tr><td>&hellip;</td><td>&hellip;</td><td>&hellip;</td><td>&hellip;</td><td>&hellip;</td><td>&hellip;</td><td>&hellip;</td><td>&hellip;</td></tr><tr><td>2021-10-02 23:59:59</td><td>18</td><td>21</td><td>0</td><td>0</td><td>0</td><td>1</td><td>0</td></tr><tr><td>2021-10-02 23:59:59</td><td>20</td><td>1239</td><td>0</td><td>2</td><td>0</td><td>1</td><td>0</td></tr><tr><td>2021-10-02 23:59:59</td><td>17</td><td>1235</td><td>0</td><td>4</td><td>0</td><td>1</td><td>0</td></tr><tr><td>2021-10-02 23:59:59</td><td>24</td><td>180</td><td>0</td><td>2</td><td>6</td><td>1</td><td>0</td></tr><tr><td>2021-10-02 23:59:59</td><td>101</td><td>141</td><td>1</td><td>0</td><td>12</td><td>1</td><td>0</td></tr><tr><td>2021-10-02 23:59:59</td><td>178</td><td>65</td><td>0</td><td>0</td><td>6</td><td>1</td><td>0</td></tr><tr><td>2021-10-02 23:59:59</td><td>20</td><td>1236</td><td>0</td><td>2</td><td>0</td><td>1</td><td>0</td></tr><tr><td>2021-10-02 23:59:59</td><td>19</td><td>56</td><td>0</td><td>1</td><td>11</td><td>1</td><td>0</td></tr><tr><td>2021-10-02 23:59:59</td><td>20</td><td>1240</td><td>0</td><td>6</td><td>0</td><td>1</td><td>0</td></tr><tr><td>2021-10-02 23:59:59</td><td>14</td><td>1238</td><td>0</td><td>4</td><td>0</td><td>1</td><td>0</td></tr><tr><td>2021-10-02 23:59:59</td><td>76</td><td>223</td><td>2</td><td>3</td><td>0</td><td>1</td><td>0</td></tr><tr><td>2021-10-02 23:59:59</td><td>14</td><td>1236</td><td>0</td><td>1</td><td>0</td><td>1</td><td>0</td></tr></tbody></table></div>"
      ],
      "text/plain": [
       "shape: (15_821_472, 8)\n",
       "┌────────────────┬─────────┬───────────┬───────────────┬───────┬────────────┬─────────────┬────────┐\n",
       "│ date_time      ┆ zone_id ┆ banner_id ┆ campaign_clic ┆ os_id ┆ country_id ┆ impressions ┆ clicks │\n",
       "│ ---            ┆ ---     ┆ ---       ┆ ks            ┆ ---   ┆ ---        ┆ ---         ┆ ---    │\n",
       "│ datetime[μs]   ┆ i64     ┆ i64       ┆ ---           ┆ i64   ┆ i64        ┆ i64         ┆ i64    │\n",
       "│                ┆         ┆           ┆ i64           ┆       ┆            ┆             ┆        │\n",
       "╞════════════════╪═════════╪═══════════╪═══════════════╪═══════╪════════════╪═════════════╪════════╡\n",
       "│ 2021-09-01     ┆ 30      ┆ 596       ┆ 0             ┆ 0     ┆ 7          ┆ 1           ┆ 0      │\n",
       "│ 00:02:49       ┆         ┆           ┆               ┆       ┆            ┆             ┆        │\n",
       "│ 2021-09-26     ┆ 3       ┆ 86        ┆ 0             ┆ 4     ┆ 0          ┆ 1           ┆ 0      │\n",
       "│ 00:00:00       ┆         ┆           ┆               ┆       ┆            ┆             ┆        │\n",
       "│ 2021-09-26     ┆ 1       ┆ 188       ┆ 2             ┆ 2     ┆ 15         ┆ 1           ┆ 0      │\n",
       "│ 00:00:00       ┆         ┆           ┆               ┆       ┆            ┆             ┆        │\n",
       "│ 2021-09-26     ┆ 17      ┆ 3         ┆ 0             ┆ 1     ┆ 1          ┆ 1           ┆ 0      │\n",
       "│ 00:00:00       ┆         ┆           ┆               ┆       ┆            ┆             ┆        │\n",
       "│ …              ┆ …       ┆ …         ┆ …             ┆ …     ┆ …          ┆ …           ┆ …      │\n",
       "│ 2021-10-02     ┆ 20      ┆ 1240      ┆ 0             ┆ 6     ┆ 0          ┆ 1           ┆ 0      │\n",
       "│ 23:59:59       ┆         ┆           ┆               ┆       ┆            ┆             ┆        │\n",
       "│ 2021-10-02     ┆ 14      ┆ 1238      ┆ 0             ┆ 4     ┆ 0          ┆ 1           ┆ 0      │\n",
       "│ 23:59:59       ┆         ┆           ┆               ┆       ┆            ┆             ┆        │\n",
       "│ 2021-10-02     ┆ 76      ┆ 223       ┆ 2             ┆ 3     ┆ 0          ┆ 1           ┆ 0      │\n",
       "│ 23:59:59       ┆         ┆           ┆               ┆       ┆            ┆             ┆        │\n",
       "│ 2021-10-02     ┆ 14      ┆ 1236      ┆ 0             ┆ 1     ┆ 0          ┆ 1           ┆ 0      │\n",
       "│ 23:59:59       ┆         ┆           ┆               ┆       ┆            ┆             ┆        │\n",
       "└────────────────┴─────────┴───────────┴───────────────┴───────┴────────────┴─────────────┴────────┘"
      ]
     },
     "execution_count": 2,
     "metadata": {},
     "output_type": "execute_result"
    }
   ],
   "source": [
    "data = pl.read_csv('../data/data.csv', try_parse_dates=True).sort('date_time')\n",
    "data = data.drop('oaid_hash', 'banner_id0', 'banner_id1', 'rate0', 'rate1', 'g0', 'g1', 'coeff_sum0', 'coeff_sum1')\n",
    "data"
   ]
  },
  {
   "cell_type": "code",
   "execution_count": 3,
   "metadata": {
    "pycharm": {
     "name": "#%%\n"
    },
    "scrolled": true
   },
   "outputs": [
    {
     "data": {
      "text/html": [
       "<div><style>\n",
       ".dataframe > thead > tr > th,\n",
       ".dataframe > tbody > tr > td {\n",
       "  text-align: right;\n",
       "}\n",
       "</style>\n",
       "<small>shape: (9, 9)</small><table border=\"1\" class=\"dataframe\"><thead><tr><th>describe</th><th>date_time</th><th>zone_id</th><th>banner_id</th><th>campaign_clicks</th><th>os_id</th><th>country_id</th><th>impressions</th><th>clicks</th></tr><tr><td>str</td><td>str</td><td>f64</td><td>f64</td><td>f64</td><td>f64</td><td>f64</td><td>f64</td><td>f64</td></tr></thead><tbody><tr><td>&quot;count&quot;</td><td>&quot;15821472&quot;</td><td>1.5821472e7</td><td>1.5821472e7</td><td>1.5821472e7</td><td>1.5821472e7</td><td>1.5821472e7</td><td>1.5821472e7</td><td>1.5821472e7</td></tr><tr><td>&quot;null_count&quot;</td><td>&quot;0&quot;</td><td>0.0</td><td>0.0</td><td>0.0</td><td>0.0</td><td>0.0</td><td>0.0</td><td>0.0</td></tr><tr><td>&quot;mean&quot;</td><td>null</td><td>81.526792</td><td>381.648312</td><td>0.623854</td><td>1.840605</td><td>4.346986</td><td>1.0</td><td>0.026688</td></tr><tr><td>&quot;std&quot;</td><td>null</td><td>163.244823</td><td>395.938571</td><td>9.249152</td><td>1.530005</td><td>4.317701</td><td>0.0</td><td>0.161171</td></tr><tr><td>&quot;min&quot;</td><td>&quot;2021-09-01 00:…</td><td>0.0</td><td>0.0</td><td>0.0</td><td>0.0</td><td>0.0</td><td>1.0</td><td>0.0</td></tr><tr><td>&quot;max&quot;</td><td>&quot;2021-10-02 23:…</td><td>3443.0</td><td>1632.0</td><td>829.0</td><td>10.0</td><td>16.0</td><td>1.0</td><td>1.0</td></tr><tr><td>&quot;median&quot;</td><td>null</td><td>19.0</td><td>217.0</td><td>0.0</td><td>2.0</td><td>4.0</td><td>1.0</td><td>0.0</td></tr><tr><td>&quot;25%&quot;</td><td>null</td><td>14.0</td><td>52.0</td><td>0.0</td><td>1.0</td><td>0.0</td><td>1.0</td><td>0.0</td></tr><tr><td>&quot;75%&quot;</td><td>null</td><td>60.0</td><td>611.0</td><td>0.0</td><td>3.0</td><td>7.0</td><td>1.0</td><td>0.0</td></tr></tbody></table></div>"
      ],
      "text/plain": [
       "shape: (9, 9)\n",
       "┌────────────┬─────────┬────────────┬───────────┬───┬───────────┬──────────┬───────────┬───────────┐\n",
       "│ describe   ┆ date_ti ┆ zone_id    ┆ banner_id ┆ … ┆ os_id     ┆ country_ ┆ impressio ┆ clicks    │\n",
       "│ ---        ┆ me      ┆ ---        ┆ ---       ┆   ┆ ---       ┆ id       ┆ ns        ┆ ---       │\n",
       "│ str        ┆ ---     ┆ f64        ┆ f64       ┆   ┆ f64       ┆ ---      ┆ ---       ┆ f64       │\n",
       "│            ┆ str     ┆            ┆           ┆   ┆           ┆ f64      ┆ f64       ┆           │\n",
       "╞════════════╪═════════╪════════════╪═══════════╪═══╪═══════════╪══════════╪═══════════╪═══════════╡\n",
       "│ count      ┆ 1582147 ┆ 1.5821472e ┆ 1.5821472 ┆ … ┆ 1.5821472 ┆ 1.582147 ┆ 1.5821472 ┆ 1.5821472 │\n",
       "│            ┆ 2       ┆ 7          ┆ e7        ┆   ┆ e7        ┆ 2e7      ┆ e7        ┆ e7        │\n",
       "│ null_count ┆ 0       ┆ 0.0        ┆ 0.0       ┆ … ┆ 0.0       ┆ 0.0      ┆ 0.0       ┆ 0.0       │\n",
       "│ mean       ┆ null    ┆ 81.526792  ┆ 381.64831 ┆ … ┆ 1.840605  ┆ 4.346986 ┆ 1.0       ┆ 0.026688  │\n",
       "│            ┆         ┆            ┆ 2         ┆   ┆           ┆          ┆           ┆           │\n",
       "│ std        ┆ null    ┆ 163.244823 ┆ 395.93857 ┆ … ┆ 1.530005  ┆ 4.317701 ┆ 0.0       ┆ 0.161171  │\n",
       "│            ┆         ┆            ┆ 1         ┆   ┆           ┆          ┆           ┆           │\n",
       "│ min        ┆ 2021-09 ┆ 0.0        ┆ 0.0       ┆ … ┆ 0.0       ┆ 0.0      ┆ 1.0       ┆ 0.0       │\n",
       "│            ┆ -01 00: ┆            ┆           ┆   ┆           ┆          ┆           ┆           │\n",
       "│            ┆ 02:49   ┆            ┆           ┆   ┆           ┆          ┆           ┆           │\n",
       "│ max        ┆ 2021-10 ┆ 3443.0     ┆ 1632.0    ┆ … ┆ 10.0      ┆ 16.0     ┆ 1.0       ┆ 1.0       │\n",
       "│            ┆ -02 23: ┆            ┆           ┆   ┆           ┆          ┆           ┆           │\n",
       "│            ┆ 59:59   ┆            ┆           ┆   ┆           ┆          ┆           ┆           │\n",
       "│ median     ┆ null    ┆ 19.0       ┆ 217.0     ┆ … ┆ 2.0       ┆ 4.0      ┆ 1.0       ┆ 0.0       │\n",
       "│ 25%        ┆ null    ┆ 14.0       ┆ 52.0      ┆ … ┆ 1.0       ┆ 0.0      ┆ 1.0       ┆ 0.0       │\n",
       "│ 75%        ┆ null    ┆ 60.0       ┆ 611.0     ┆ … ┆ 3.0       ┆ 7.0      ┆ 1.0       ┆ 0.0       │\n",
       "└────────────┴─────────┴────────────┴───────────┴───┴───────────┴──────────┴───────────┴───────────┘"
      ]
     },
     "metadata": {},
     "output_type": "display_data"
    },
    {
     "name": "stdout",
     "output_type": "stream",
     "text": [
      "количество уникальных значений zone_id: 3444\n",
      "количество уникальных значений banner_id: 1633\n",
      "количество уникальных значений campaign_clicks: 822\n",
      "количество уникальных значений os_id: 11\n",
      "количество уникальных значений country_id: 17\n",
      "количество уникальных значений impressions: 1\n",
      "количество уникальных значений clicks: 2\n"
     ]
    }
   ],
   "source": [
    "def analysis(data: pl.DataFrame):\n",
    "    display(data.describe())\n",
    "    \n",
    "    for col in data.drop('date_time').columns:\n",
    "        print(f'количество уникальных значений {col}: {data[col].n_unique()}')\n",
    "        \n",
    "analysis(data)"
   ]
  },
  {
   "cell_type": "markdown",
   "metadata": {},
   "source": [
    "Закодируем время в виде синуса/косинуса от часа дня и дня недели"
   ]
  },
  {
   "cell_type": "code",
   "execution_count": 4,
   "metadata": {},
   "outputs": [],
   "source": [
    "data = (\n",
    "    data\n",
    "    .with_columns([\n",
    "        pl.col('date_time').apply(lambda x: x.hour).alias('hour'),\n",
    "        pl.col('date_time').apply(lambda x: x.weekday()).alias('weekday'),\n",
    "    ])\n",
    "    .with_columns([\n",
    "        pl.col('hour').apply(lambda x: np.sin(2 * np.pi * x / 24)).alias('sin_hour'),\n",
    "        pl.col('hour').apply(lambda x: np.cos(2 * np.pi * x / 24)).alias('cos_hour'),\n",
    "        pl.col('weekday').apply(lambda x: np.sin(2 * np.pi * x / 7)).alias('sin_weekday'),\n",
    "        pl.col('weekday').apply(lambda x: np.cos(2 * np.pi * x / 7)).alias('cos_weekday'),\n",
    "    ])\n",
    "    .drop('hour', 'weekday')\n",
    ")"
   ]
  },
  {
   "cell_type": "markdown",
   "metadata": {},
   "source": [
    "Для тестирования решения будем использовать последний день, а для валидации – предпоследний"
   ]
  },
  {
   "cell_type": "code",
   "execution_count": 5,
   "metadata": {},
   "outputs": [
    {
     "name": "stdout",
     "output_type": "stream",
     "text": [
      "test date threshold: 2021-10-02 00:00:00\n"
     ]
    }
   ],
   "source": [
    "test_date_threshold = data['date_time'].max().replace(hour=0, minute=0, second=0, microsecond=0)\n",
    "print(f'test date threshold: {test_date_threshold}')"
   ]
  },
  {
   "cell_type": "code",
   "execution_count": 6,
   "metadata": {},
   "outputs": [
    {
     "name": "stdout",
     "output_type": "stream",
     "text": [
      "строчек в тренировочной выборке: 13692494\n",
      "строчек в тестовой выборке: 2128978\n"
     ]
    }
   ],
   "source": [
    "train_data = data.filter(pl.col('date_time') < test_date_threshold)\n",
    "test_data = data.filter(pl.col('date_time') >= test_date_threshold)\n",
    "print(f'строчек в тренировочной выборке: {len(train_data)}')\n",
    "print(f'строчек в тестовой выборке: {len(test_data)}')\n",
    "\n",
    "# sanity check\n",
    "assert len(train_data) + len(test_data) == len(data)"
   ]
  },
  {
   "cell_type": "markdown",
   "metadata": {},
   "source": [
    "Чтобы закодировать категориальные признаки, воспользуемся target encoding для признаков, у которых много уникальных значений и One-hot encoding для признаков, у которых немного уникальных значений, чтобы не раздувать память. Для этого я использовал библиотеку `category-encoders`"
   ]
  },
  {
   "cell_type": "code",
   "execution_count": 7,
   "metadata": {},
   "outputs": [
    {
     "data": {
      "text/plain": [
       "OneHotEncoder(cols=['os_id', 'country_id'])"
      ]
     },
     "execution_count": 7,
     "metadata": {},
     "output_type": "execute_result"
    }
   ],
   "source": [
    "target_col = 'clicks'\n",
    "drop_columns = ['date_time', 'impressions', 'clicks']\n",
    "\n",
    "loo_encoder = ce.leave_one_out.LeaveOneOutEncoder(cols=['zone_id', 'banner_id'])\n",
    "loo_encoder.fit(train_data.drop(drop_columns).to_pandas(), train_data[target_col].to_pandas())\n",
    "\n",
    "ce_one_hot_encoder = ce.OneHotEncoder(cols=['os_id', 'country_id'])\n",
    "ce_one_hot_encoder.fit(train_data.drop(drop_columns).to_pandas(), train_data[target_col].to_pandas())"
   ]
  },
  {
   "cell_type": "code",
   "execution_count": 8,
   "metadata": {
    "pycharm": {
     "name": "#%%\n"
    }
   },
   "outputs": [],
   "source": [
    "def feature_engineering(data: pl.DataFrame) -> Tuple[pd.DataFrame, pd.Series]:\n",
    "    X, y = data.drop(drop_columns).to_pandas(), data[target_col].to_pandas()\n",
    "    X = loo_encoder.transform(X, y)\n",
    "    X = ce_one_hot_encoder.transform(X, y)\n",
    "    return X, y\n",
    "\n",
    "train_X, train_y = feature_engineering(train_data)\n",
    "test_X, test_y = feature_engineering(test_data)"
   ]
  },
  {
   "cell_type": "code",
   "execution_count": 9,
   "metadata": {
    "pycharm": {
     "name": "#%%\n"
    }
   },
   "outputs": [],
   "source": [
    "def create_model(**kwargs):\n",
    "    return LogisticRegression(**kwargs)"
   ]
  },
  {
   "cell_type": "code",
   "execution_count": 10,
   "metadata": {},
   "outputs": [],
   "source": [
    "def eval_model(model, X, y):\n",
    "    y_pred = model.predict_proba(X)[:, 1]\n",
    "    print(f'ROC AUC = {roc_auc_score(y, y_pred)}')\n",
    "    print(f'Log loss = {log_loss(y, y_pred)}')"
   ]
  },
  {
   "cell_type": "markdown",
   "metadata": {},
   "source": [
    "Для подбора оптимальных гиперпараметров воспользуемся `TimeSeriesSplit` валидацией, которая учитывает временную составляющую в данных, тогда для оценки будет использоваться скользящее окно размером 1_000_000 строк, что чуть меньше по размеру тестовой выборки"
   ]
  },
  {
   "cell_type": "code",
   "execution_count": 12,
   "metadata": {
    "pycharm": {
     "name": "#%%\n"
    }
   },
   "outputs": [
    {
     "name": "stdout",
     "output_type": "stream",
     "text": [
      "Fitting 3 folds for each of 4 candidates, totalling 12 fits\n",
      "[CV 1/3] END C=0.01; neg_log_loss: (test=-0.113) roc_auc: (test=0.658) total time=  58.3s\n",
      "[CV 2/3] END C=0.01; neg_log_loss: (test=-0.141) roc_auc: (test=0.699) total time= 1.5min\n",
      "[CV 3/3] END C=0.01; neg_log_loss: (test=-0.158) roc_auc: (test=0.743) total time= 2.9min\n",
      "[CV 1/3] END C=0.1; neg_log_loss: (test=-0.112) roc_auc: (test=0.684) total time= 1.3min\n",
      "[CV 2/3] END C=0.1; neg_log_loss: (test=-0.139) roc_auc: (test=0.721) total time= 1.3min\n",
      "[CV 3/3] END C=0.1; neg_log_loss: (test=-0.157) roc_auc: (test=0.752) total time= 3.2min\n",
      "[CV 1/3] END C=1; neg_log_loss: (test=-0.112) roc_auc: (test=0.688) total time= 1.1min\n",
      "[CV 2/3] END C=1; neg_log_loss: (test=-0.139) roc_auc: (test=0.726) total time= 1.3min\n",
      "[CV 3/3] END C=1; neg_log_loss: (test=-0.157) roc_auc: (test=0.752) total time= 1.9min\n",
      "[CV 1/3] END C=10.0; neg_log_loss: (test=-0.112) roc_auc: (test=0.689) total time= 1.2min\n",
      "[CV 2/3] END C=10.0; neg_log_loss: (test=-0.139) roc_auc: (test=0.724) total time= 2.6min\n",
      "[CV 3/3] END C=10.0; neg_log_loss: (test=-0.157) roc_auc: (test=0.754) total time= 2.2min\n"
     ]
    },
    {
     "data": {
      "text/html": [
       "<div><style>\n",
       ".dataframe > thead > tr > th,\n",
       ".dataframe > tbody > tr > td {\n",
       "  text-align: right;\n",
       "}\n",
       "</style>\n",
       "<small>shape: (4, 18)</small><table border=\"1\" class=\"dataframe\"><thead><tr><th>mean_fit_time</th><th>std_fit_time</th><th>mean_score_time</th><th>std_score_time</th><th>param_C</th><th>params</th><th>split0_test_neg_log_loss</th><th>split1_test_neg_log_loss</th><th>split2_test_neg_log_loss</th><th>mean_test_neg_log_loss</th><th>std_test_neg_log_loss</th><th>rank_test_neg_log_loss</th><th>split0_test_roc_auc</th><th>split1_test_roc_auc</th><th>split2_test_roc_auc</th><th>mean_test_roc_auc</th><th>std_test_roc_auc</th><th>rank_test_roc_auc</th></tr><tr><td>f64</td><td>f64</td><td>f64</td><td>f64</td><td>object</td><td>struct[1]</td><td>f64</td><td>f64</td><td>f64</td><td>f64</td><td>f64</td><td>i32</td><td>f64</td><td>f64</td><td>f64</td><td>f64</td><td>f64</td><td>i32</td></tr></thead><tbody><tr><td>106.803091</td><td>49.899947</td><td>2.094338</td><td>0.138936</td><td>0.01</td><td>{0.01}</td><td>-0.113335</td><td>-0.141182</td><td>-0.15793</td><td>-0.137482</td><td>0.018393</td><td>4</td><td>0.657869</td><td>0.699238</td><td>0.743278</td><td>0.700128</td><td>0.034874</td><td>4</td></tr><tr><td>112.792906</td><td>53.439988</td><td>2.013463</td><td>0.140529</td><td>0.1</td><td>{0.1}</td><td>-0.112269</td><td>-0.138886</td><td>-0.156597</td><td>-0.135918</td><td>0.018218</td><td>3</td><td>0.68357</td><td>0.721183</td><td>0.75242</td><td>0.719058</td><td>0.028148</td><td>3</td></tr><tr><td>83.063315</td><td>21.536372</td><td>2.13251</td><td>0.270497</td><td>1</td><td>{1.0}</td><td>-0.112193</td><td>-0.138789</td><td>-0.156577</td><td>-0.135853</td><td>0.018238</td><td>2</td><td>0.68836</td><td>0.726274</td><td>0.752497</td><td>0.722377</td><td>0.026328</td><td>1</td></tr><tr><td>117.436231</td><td>35.260751</td><td>2.307868</td><td>0.559409</td><td>10.0</td><td>{10.0}</td><td>-0.112039</td><td>-0.138864</td><td>-0.15652</td><td>-0.135808</td><td>0.018287</td><td>1</td><td>0.689271</td><td>0.723848</td><td>0.75354</td><td>0.72222</td><td>0.026263</td><td>2</td></tr></tbody></table></div>"
      ],
      "text/plain": [
       "shape: (4, 18)\n",
       "┌────────────┬────────────┬────────────┬────────────┬───┬────────────┬────────────┬────────────┬────────────┐\n",
       "│ mean_fit_t ┆ std_fit_ti ┆ mean_score ┆ std_score_ ┆ … ┆ split2_tes ┆ mean_test_ ┆ std_test_r ┆ rank_test_ │\n",
       "│ ime        ┆ me         ┆ _time      ┆ time       ┆   ┆ t_roc_auc  ┆ roc_auc    ┆ oc_auc     ┆ roc_auc    │\n",
       "│ ---        ┆ ---        ┆ ---        ┆ ---        ┆   ┆ ---        ┆ ---        ┆ ---        ┆ ---        │\n",
       "│ f64        ┆ f64        ┆ f64        ┆ f64        ┆   ┆ f64        ┆ f64        ┆ f64        ┆ i32        │\n",
       "╞════════════╪════════════╪════════════╪════════════╪═══╪════════════╪════════════╪════════════╪════════════╡\n",
       "│ 106.803091 ┆ 49.899947  ┆ 2.094338   ┆ 0.138936   ┆ … ┆ 0.743278   ┆ 0.700128   ┆ 0.034874   ┆ 4          │\n",
       "│ 112.792906 ┆ 53.439988  ┆ 2.013463   ┆ 0.140529   ┆ … ┆ 0.75242    ┆ 0.719058   ┆ 0.028148   ┆ 3          │\n",
       "│ 83.063315  ┆ 21.536372  ┆ 2.13251    ┆ 0.270497   ┆ … ┆ 0.752497   ┆ 0.722377   ┆ 0.026328   ┆ 1          │\n",
       "│ 117.436231 ┆ 35.260751  ┆ 2.307868   ┆ 0.559409   ┆ … ┆ 0.75354    ┆ 0.72222    ┆ 0.026263   ┆ 2          │\n",
       "└────────────┴────────────┴────────────┴────────────┴───┴────────────┴────────────┴────────────┴────────────┘"
      ]
     },
     "metadata": {},
     "output_type": "display_data"
    },
    {
     "name": "stdout",
     "output_type": "stream",
     "text": [
      "ROC AUC = 0.7448397266390455\n",
      "Log loss = 0.1415572152890492\n"
     ]
    }
   ],
   "source": [
    "def cv(X: pd.DataFrame, y: pd.Series):\n",
    "    tscv = TimeSeriesSplit(n_splits=3, test_size=2_000_000)\n",
    "    gsearch = GridSearchCV(\n",
    "        estimator=create_model(random_state=RANDOM_STATE, max_iter=50),\n",
    "        cv=tscv,\n",
    "        param_grid={'C': [1e-2, 1e-1, 1, 1e1]},\n",
    "        scoring=['neg_log_loss', 'roc_auc'],\n",
    "        verbose=3,\n",
    "        refit='roc_auc',\n",
    "    )\n",
    "    gsearch.fit(train_X, train_y)\n",
    "    display(pl.DataFrame(gsearch.cv_results_))\n",
    "    return gsearch.best_estimator_\n",
    "\n",
    "best_model = cv(train_X, train_y)\n",
    "eval_model(best_model, test_X, test_y)"
   ]
  },
  {
   "cell_type": "markdown",
   "metadata": {},
   "source": [
    "В качестве предложенного бейзлайна используем среднее значение таргета, для такого предсказания ожидаемо ROC-AUC = 0.5, а Log-loss выше, чем у нашего решения"
   ]
  },
  {
   "cell_type": "code",
   "execution_count": 13,
   "metadata": {},
   "outputs": [
    {
     "name": "stdout",
     "output_type": "stream",
     "text": [
      "ROC AUC = 0.5\n",
      "Log loss = 0.15486198009919758\n"
     ]
    }
   ],
   "source": [
    "baseline_pred = data.filter(pl.col('date_time') < test_date_threshold)[target_col].mean()\n",
    "baseline_pred = np.ones_like(test_y) * baseline_pred\n",
    "print(f'ROC AUC = {roc_auc_score(test_y, baseline_pred)}')\n",
    "print(f'Log loss = {log_loss(test_y, baseline_pred)}')"
   ]
  }
 ],
 "metadata": {
  "kernelspec": {
   "display_name": "Python (conda)",
   "language": "python",
   "name": "myenv"
  },
  "language_info": {
   "codemirror_mode": {
    "name": "ipython",
    "version": 3
   },
   "file_extension": ".py",
   "mimetype": "text/x-python",
   "name": "python",
   "nbconvert_exporter": "python",
   "pygments_lexer": "ipython3",
   "version": "3.9.16"
  }
 },
 "nbformat": 4,
 "nbformat_minor": 4
}
