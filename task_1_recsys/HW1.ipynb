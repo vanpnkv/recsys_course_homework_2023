{
 "cells": [
  {
   "cell_type": "code",
   "source": [
    "import pandas as pd\n",
    "import matplotlib.pyplot as plt"
   ],
   "execution_count": 21,
   "outputs": [],
   "metadata": {
    "datalore": {
     "node_id": "01mA76pABsFrvA6hH0naX7",
     "type": "CODE",
     "hide_input_from_viewers": false,
     "hide_output_from_viewers": false,
     "report_properties": {
      "rowId": "jo05gh4zR2TECitCjLb9e8"
     }
    },
    "ExecuteTime": {
     "end_time": "2023-12-26T17:58:20.030038Z",
     "start_time": "2023-12-26T17:58:20.018553Z"
    }
   }
  },
  {
   "cell_type": "markdown",
   "source": [
    "### 1. Чтение данных\n",
    "Читаем данные, удаляем ненужные колонки"
   ],
   "attachments": {},
   "metadata": {
    "datalore": {
     "node_id": "ZQmuv3GjOwVXoP38XXx7Rk",
     "type": "MD",
     "hide_input_from_viewers": true,
     "hide_output_from_viewers": true
    }
   }
  },
  {
   "cell_type": "code",
   "source": [
    "data = pd.read_csv('./data-001.csv',\n",
    "                   parse_dates=['date_time'])\n",
    "data = data.drop(\n",
    "    columns=['oaid_hash', 'banner_id0', 'banner_id1', 'rate0', 'rate1', 'g0', 'g1', 'coeff_sum0', 'coeff_sum1'])\n",
    "data = data.sort_values(by='date_time')\n",
    "data.head()"
   ],
   "execution_count": 22,
   "outputs": [
    {
     "data": {
      "text/plain": "                   date_time  zone_id  banner_id  campaign_clicks  os_id  \\\n1390198  2021-09-01 00:02:49       30        596                0      0   \n5041415  2021-09-26 00:00:00       41         29                1      3   \n1442602  2021-09-26 00:00:00        1        188                2      2   \n7232498  2021-09-26 00:00:00       17         52                2      2   \n14938691 2021-09-26 00:00:00       47         73                1      4   \n\n          country_id  impressions  clicks  \n1390198            7            1       0  \n5041415            0            1       0  \n1442602           15            1       0  \n7232498            5            1       0  \n14938691          13            1       0  ",
      "text/html": "<div>\n<style scoped>\n    .dataframe tbody tr th:only-of-type {\n        vertical-align: middle;\n    }\n\n    .dataframe tbody tr th {\n        vertical-align: top;\n    }\n\n    .dataframe thead th {\n        text-align: right;\n    }\n</style>\n<table border=\"1\" class=\"dataframe\">\n  <thead>\n    <tr style=\"text-align: right;\">\n      <th></th>\n      <th>date_time</th>\n      <th>zone_id</th>\n      <th>banner_id</th>\n      <th>campaign_clicks</th>\n      <th>os_id</th>\n      <th>country_id</th>\n      <th>impressions</th>\n      <th>clicks</th>\n    </tr>\n  </thead>\n  <tbody>\n    <tr>\n      <th>1390198</th>\n      <td>2021-09-01 00:02:49</td>\n      <td>30</td>\n      <td>596</td>\n      <td>0</td>\n      <td>0</td>\n      <td>7</td>\n      <td>1</td>\n      <td>0</td>\n    </tr>\n    <tr>\n      <th>5041415</th>\n      <td>2021-09-26 00:00:00</td>\n      <td>41</td>\n      <td>29</td>\n      <td>1</td>\n      <td>3</td>\n      <td>0</td>\n      <td>1</td>\n      <td>0</td>\n    </tr>\n    <tr>\n      <th>1442602</th>\n      <td>2021-09-26 00:00:00</td>\n      <td>1</td>\n      <td>188</td>\n      <td>2</td>\n      <td>2</td>\n      <td>15</td>\n      <td>1</td>\n      <td>0</td>\n    </tr>\n    <tr>\n      <th>7232498</th>\n      <td>2021-09-26 00:00:00</td>\n      <td>17</td>\n      <td>52</td>\n      <td>2</td>\n      <td>2</td>\n      <td>5</td>\n      <td>1</td>\n      <td>0</td>\n    </tr>\n    <tr>\n      <th>14938691</th>\n      <td>2021-09-26 00:00:00</td>\n      <td>47</td>\n      <td>73</td>\n      <td>1</td>\n      <td>4</td>\n      <td>13</td>\n      <td>1</td>\n      <td>0</td>\n    </tr>\n  </tbody>\n</table>\n</div>"
     },
     "execution_count": 22,
     "metadata": {},
     "output_type": "execute_result"
    }
   ],
   "metadata": {
    "datalore": {
     "node_id": "hAW3xWIUWRkR3iUcACM6Ou",
     "type": "CODE",
     "hide_input_from_viewers": false,
     "hide_output_from_viewers": false,
     "report_properties": {
      "rowId": "aFHQUuvYnMWETftpcBJu3J"
     }
    },
    "ExecuteTime": {
     "end_time": "2023-12-26T17:58:48.513497Z",
     "start_time": "2023-12-26T17:58:20.728133Z"
    }
   }
  },
  {
   "cell_type": "markdown",
   "source": [
    "### 2. Анализ данных\n",
    "Проанализируем данные: статистики по каждой фиче, количество уникальных значений, отсутствующих значений, гистограммы распределений значений каждой из фич."
   ],
   "attachments": {},
   "metadata": {
    "datalore": {
     "node_id": "EpGz4ZzsYhAR76DrJpToBN",
     "type": "MD",
     "hide_input_from_viewers": true,
     "hide_output_from_viewers": true
    }
   }
  },
  {
   "cell_type": "code",
   "source": [
    "import numpy as np"
   ],
   "execution_count": 23,
   "outputs": [],
   "metadata": {
    "datalore": {
     "node_id": "fwTsCl0KsuDoKlHQm5hLYc",
     "type": "CODE",
     "hide_input_from_viewers": true,
     "hide_output_from_viewers": true
    },
    "ExecuteTime": {
     "end_time": "2023-12-26T17:58:48.528262Z",
     "start_time": "2023-12-26T17:58:48.515038Z"
    }
   }
  },
  {
   "cell_type": "code",
   "source": [
    "def analysis(data: pd.DataFrame):\n",
    "    # множество статистических значений для датасета\n",
    "    display(data.describe())\n",
    "\n",
    "    # количество уникальных значений для каждой фичи\n",
    "    print('Unique values count for each feature:')\n",
    "    print(data.nunique(axis=0, dropna=True))\n",
    "    print('-' * 60)\n",
    "\n",
    "    # распределение значений каждой из фич\n",
    "    for col in data.drop(columns=['date_time']).columns:\n",
    "        data.hist(col, figsize=(15, 5), color='green')\n",
    "        plt.show()\n",
    "\n",
    "    # количество NaN значений в каждом столбце\n",
    "    print('NaN values count for each feature:')\n",
    "    print(data.isna().sum())\n",
    "    print('-' * 60)\n",
    "\n",
    "    # распределение количества сэмплов по дате и времени -- позволит увидеть, за какие моменты у нас в принципе есть данные, и в каком объеме\n",
    "    print(f\"Start day: {data['date_time'].min()}\")\n",
    "    print(f\"End day: {data['date_time'].max()}\")\n",
    "    print(\"Date time samples count:\")\n",
    "    display(data.groupby('date_time').size())\n",
    "    "
   ],
   "execution_count": 24,
   "outputs": [],
   "metadata": {
    "datalore": {
     "node_id": "H0wieKsoppm3cGOVy3uQGt",
     "type": "CODE",
     "hide_input_from_viewers": false,
     "hide_output_from_viewers": false,
     "report_properties": {
      "rowId": "7rpSGy9Uer3p8OXOFaWBhm"
     }
    },
    "ExecuteTime": {
     "end_time": "2023-12-26T17:58:48.528931Z",
     "start_time": "2023-12-26T17:58:48.518376Z"
    }
   }
  },
  {
   "cell_type": "code",
   "source": [
    "analysis(data)"
   ],
   "execution_count": 25,
   "outputs": [
    {
     "data": {
      "text/plain": "                           date_time       zone_id     banner_id  \\\ncount                       15821472  1.582147e+07  1.582147e+07   \nmean   2021-09-29 06:17:04.484696576  8.152679e+01  3.816483e+02   \nmin              2021-09-01 00:02:49  0.000000e+00  0.000000e+00   \n25%              2021-09-27 10:24:02  1.400000e+01  5.200000e+01   \n50%              2021-09-29 02:22:11  1.900000e+01  2.170000e+02   \n75%              2021-09-30 21:36:15  6.000000e+01  6.110000e+02   \nmax              2021-10-02 23:59:59  3.443000e+03  1.632000e+03   \nstd                              NaN  1.632448e+02  3.959386e+02   \n\n       campaign_clicks         os_id    country_id  impressions        clicks  \ncount     1.582147e+07  1.582147e+07  1.582147e+07   15821472.0  1.582147e+07  \nmean      6.238540e-01  1.840605e+00  4.346986e+00          1.0  2.668835e-02  \nmin       0.000000e+00  0.000000e+00  0.000000e+00          1.0  0.000000e+00  \n25%       0.000000e+00  1.000000e+00  0.000000e+00          1.0  0.000000e+00  \n50%       0.000000e+00  2.000000e+00  4.000000e+00          1.0  0.000000e+00  \n75%       0.000000e+00  3.000000e+00  7.000000e+00          1.0  0.000000e+00  \nmax       8.290000e+02  1.000000e+01  1.600000e+01          1.0  1.000000e+00  \nstd       9.249152e+00  1.530005e+00  4.317701e+00          0.0  1.611710e-01  ",
      "text/html": "<div>\n<style scoped>\n    .dataframe tbody tr th:only-of-type {\n        vertical-align: middle;\n    }\n\n    .dataframe tbody tr th {\n        vertical-align: top;\n    }\n\n    .dataframe thead th {\n        text-align: right;\n    }\n</style>\n<table border=\"1\" class=\"dataframe\">\n  <thead>\n    <tr style=\"text-align: right;\">\n      <th></th>\n      <th>date_time</th>\n      <th>zone_id</th>\n      <th>banner_id</th>\n      <th>campaign_clicks</th>\n      <th>os_id</th>\n      <th>country_id</th>\n      <th>impressions</th>\n      <th>clicks</th>\n    </tr>\n  </thead>\n  <tbody>\n    <tr>\n      <th>count</th>\n      <td>15821472</td>\n      <td>1.582147e+07</td>\n      <td>1.582147e+07</td>\n      <td>1.582147e+07</td>\n      <td>1.582147e+07</td>\n      <td>1.582147e+07</td>\n      <td>15821472.0</td>\n      <td>1.582147e+07</td>\n    </tr>\n    <tr>\n      <th>mean</th>\n      <td>2021-09-29 06:17:04.484696576</td>\n      <td>8.152679e+01</td>\n      <td>3.816483e+02</td>\n      <td>6.238540e-01</td>\n      <td>1.840605e+00</td>\n      <td>4.346986e+00</td>\n      <td>1.0</td>\n      <td>2.668835e-02</td>\n    </tr>\n    <tr>\n      <th>min</th>\n      <td>2021-09-01 00:02:49</td>\n      <td>0.000000e+00</td>\n      <td>0.000000e+00</td>\n      <td>0.000000e+00</td>\n      <td>0.000000e+00</td>\n      <td>0.000000e+00</td>\n      <td>1.0</td>\n      <td>0.000000e+00</td>\n    </tr>\n    <tr>\n      <th>25%</th>\n      <td>2021-09-27 10:24:02</td>\n      <td>1.400000e+01</td>\n      <td>5.200000e+01</td>\n      <td>0.000000e+00</td>\n      <td>1.000000e+00</td>\n      <td>0.000000e+00</td>\n      <td>1.0</td>\n      <td>0.000000e+00</td>\n    </tr>\n    <tr>\n      <th>50%</th>\n      <td>2021-09-29 02:22:11</td>\n      <td>1.900000e+01</td>\n      <td>2.170000e+02</td>\n      <td>0.000000e+00</td>\n      <td>2.000000e+00</td>\n      <td>4.000000e+00</td>\n      <td>1.0</td>\n      <td>0.000000e+00</td>\n    </tr>\n    <tr>\n      <th>75%</th>\n      <td>2021-09-30 21:36:15</td>\n      <td>6.000000e+01</td>\n      <td>6.110000e+02</td>\n      <td>0.000000e+00</td>\n      <td>3.000000e+00</td>\n      <td>7.000000e+00</td>\n      <td>1.0</td>\n      <td>0.000000e+00</td>\n    </tr>\n    <tr>\n      <th>max</th>\n      <td>2021-10-02 23:59:59</td>\n      <td>3.443000e+03</td>\n      <td>1.632000e+03</td>\n      <td>8.290000e+02</td>\n      <td>1.000000e+01</td>\n      <td>1.600000e+01</td>\n      <td>1.0</td>\n      <td>1.000000e+00</td>\n    </tr>\n    <tr>\n      <th>std</th>\n      <td>NaN</td>\n      <td>1.632448e+02</td>\n      <td>3.959386e+02</td>\n      <td>9.249152e+00</td>\n      <td>1.530005e+00</td>\n      <td>4.317701e+00</td>\n      <td>0.0</td>\n      <td>1.611710e-01</td>\n    </tr>\n  </tbody>\n</table>\n</div>"
     },
     "metadata": {},
     "output_type": "display_data"
    },
    {
     "name": "stdout",
     "output_type": "stream",
     "text": [
      "Unique values count for each feature:\n",
      "date_time          604712\n",
      "zone_id              3444\n",
      "banner_id            1633\n",
      "campaign_clicks       822\n",
      "os_id                  11\n",
      "country_id             17\n",
      "impressions             1\n",
      "clicks                  2\n",
      "dtype: int64\n",
      "------------------------------------------------------------\n"
     ]
    },
    {
     "data": {
      "text/plain": "<Figure size 1500x500 with 1 Axes>",
      "image/png": "[encoded data removed]"
     },
     "metadata": {},
     "output_type": "display_data"
    },
    {
     "data": {
      "text/plain": "<Figure size 1500x500 with 1 Axes>",
      "image/png": "[encoded data removed]"
     },
     "metadata": {},
     "output_type": "display_data"
    },
    {
     "data": {
      "text/plain": "<Figure size 1500x500 with 1 Axes>",
      "image/png": "[encoded data removed]"
     },
     "metadata": {},
     "output_type": "display_data"
    },
    {
     "data": {
      "text/plain": "<Figure size 1500x500 with 1 Axes>",
      "image/png": "[encoded data removed]"
     },
     "metadata": {},
     "output_type": "display_data"
    },
    {
     "data": {
      "text/plain": "<Figure size 1500x500 with 1 Axes>",
      "image/png": "[encoded data removed]"
     },
     "metadata": {},
     "output_type": "display_data"
    },
    {
     "data": {
      "text/plain": "<Figure size 1500x500 with 1 Axes>",
      "image/png": "[encoded data removed]"
     },
     "metadata": {},
     "output_type": "display_data"
    },
    {
     "data": {
      "text/plain": "<Figure size 1500x500 with 1 Axes>",
      "image/png": "[encoded data removed]"
     },
     "metadata": {},
     "output_type": "display_data"
    },
    {
     "name": "stdout",
     "output_type": "stream",
     "text": [
      "NaN values count for each feature:\n",
      "date_time          0\n",
      "zone_id            0\n",
      "banner_id          0\n",
      "campaign_clicks    0\n",
      "os_id              0\n",
      "country_id         0\n",
      "impressions        0\n",
      "clicks             0\n",
      "dtype: int64\n",
      "------------------------------------------------------------\n",
      "Start day: 2021-09-01 00:02:49\n",
      "End day: 2021-10-02 23:59:59\n",
      "Date time samples count:\n"
     ]
    },
    {
     "data": {
      "text/plain": "date_time\n2021-09-01 00:02:49     1\n2021-09-26 00:00:00    28\n2021-09-26 00:00:01    28\n2021-09-26 00:00:02    25\n2021-09-26 00:00:03    30\n                       ..\n2021-10-02 23:59:55    22\n2021-10-02 23:59:56    22\n2021-10-02 23:59:57    19\n2021-10-02 23:59:58    20\n2021-10-02 23:59:59    19\nLength: 604712, dtype: int64"
     },
     "metadata": {},
     "output_type": "display_data"
    }
   ],
   "metadata": {
    "datalore": {
     "node_id": "O5P9UJqcvcvUTsATMpmQar",
     "type": "CODE",
     "hide_input_from_viewers": true,
     "hide_output_from_viewers": true
    },
    "ExecuteTime": {
     "end_time": "2023-12-26T17:58:52.750069Z",
     "start_time": "2023-12-26T17:58:48.522999Z"
    }
   }
  },
  {
   "cell_type": "markdown",
   "source": [
    "### 3. Фильтрация и конструирование фичей"
   ],
   "attachments": {},
   "metadata": {
    "datalore": {
     "node_id": "txgxnsy6gsF1wL3rRf2MH5",
     "type": "MD",
     "hide_input_from_viewers": true,
     "hide_output_from_viewers": true
    }
   }
  },
  {
   "cell_type": "markdown",
   "source": [
    "Удалим повторяющиеся строки таблицы, если такие имеются"
   ],
   "attachments": {},
   "metadata": {
    "datalore": {
     "node_id": "gOhwxF2w0exdSMuTGDcPnk",
     "type": "MD",
     "hide_input_from_viewers": true,
     "hide_output_from_viewers": true
    }
   }
  },
  {
   "cell_type": "code",
   "source": [
    "data = data.drop_duplicates()"
   ],
   "execution_count": 26,
   "outputs": [],
   "metadata": {
    "datalore": {
     "node_id": "WOvjlcIyn4K4QH79CBR7dD",
     "type": "CODE",
     "hide_input_from_viewers": true,
     "hide_output_from_viewers": true
    },
    "ExecuteTime": {
     "end_time": "2023-12-26T17:58:54.799842Z",
     "start_time": "2023-12-26T17:58:52.748138Z"
    }
   }
  },
  {
   "cell_type": "markdown",
   "source": [
    "Анализируя статистики, можем увидим, что значение поля impressions всегда одно и равно единице. Значит, все баннеры-сэмплы, данные о которых у нас имеются, в каждой конфигурации были показаны по одному разу. Так как фича является константой, она не играет роли при выборе класса объекта в нашей задаче классификации. Можем обойтись без этой колонки"
   ],
   "attachments": {},
   "metadata": {
    "datalore": {
     "node_id": "aFOFZ44uQjmR0s51whHncb",
     "type": "MD",
     "hide_input_from_viewers": true,
     "hide_output_from_viewers": true
    }
   }
  },
  {
   "cell_type": "code",
   "source": [
    "data['impressions'].unique()"
   ],
   "execution_count": 27,
   "outputs": [
    {
     "data": {
      "text/plain": "array([1])"
     },
     "execution_count": 27,
     "metadata": {},
     "output_type": "execute_result"
    }
   ],
   "metadata": {
    "datalore": {
     "node_id": "d0NEXVYV0fM4gsz10IiIqO",
     "type": "CODE",
     "hide_input_from_viewers": true,
     "hide_output_from_viewers": true
    },
    "ExecuteTime": {
     "end_time": "2023-12-26T17:58:54.852573Z",
     "start_time": "2023-12-26T17:58:54.800006Z"
    }
   }
  },
  {
   "cell_type": "code",
   "source": [
    "data = data.drop(columns=['impressions'])\n",
    "data.head()"
   ],
   "execution_count": 28,
   "outputs": [
    {
     "data": {
      "text/plain": "                   date_time  zone_id  banner_id  campaign_clicks  os_id  \\\n1390198  2021-09-01 00:02:49       30        596                0      0   \n5041415  2021-09-26 00:00:00       41         29                1      3   \n1442602  2021-09-26 00:00:00        1        188                2      2   \n7232498  2021-09-26 00:00:00       17         52                2      2   \n14938691 2021-09-26 00:00:00       47         73                1      4   \n\n          country_id  clicks  \n1390198            7       0  \n5041415            0       0  \n1442602           15       0  \n7232498            5       0  \n14938691          13       0  ",
      "text/html": "<div>\n<style scoped>\n    .dataframe tbody tr th:only-of-type {\n        vertical-align: middle;\n    }\n\n    .dataframe tbody tr th {\n        vertical-align: top;\n    }\n\n    .dataframe thead th {\n        text-align: right;\n    }\n</style>\n<table border=\"1\" class=\"dataframe\">\n  <thead>\n    <tr style=\"text-align: right;\">\n      <th></th>\n      <th>date_time</th>\n      <th>zone_id</th>\n      <th>banner_id</th>\n      <th>campaign_clicks</th>\n      <th>os_id</th>\n      <th>country_id</th>\n      <th>clicks</th>\n    </tr>\n  </thead>\n  <tbody>\n    <tr>\n      <th>1390198</th>\n      <td>2021-09-01 00:02:49</td>\n      <td>30</td>\n      <td>596</td>\n      <td>0</td>\n      <td>0</td>\n      <td>7</td>\n      <td>0</td>\n    </tr>\n    <tr>\n      <th>5041415</th>\n      <td>2021-09-26 00:00:00</td>\n      <td>41</td>\n      <td>29</td>\n      <td>1</td>\n      <td>3</td>\n      <td>0</td>\n      <td>0</td>\n    </tr>\n    <tr>\n      <th>1442602</th>\n      <td>2021-09-26 00:00:00</td>\n      <td>1</td>\n      <td>188</td>\n      <td>2</td>\n      <td>2</td>\n      <td>15</td>\n      <td>0</td>\n    </tr>\n    <tr>\n      <th>7232498</th>\n      <td>2021-09-26 00:00:00</td>\n      <td>17</td>\n      <td>52</td>\n      <td>2</td>\n      <td>2</td>\n      <td>5</td>\n      <td>0</td>\n    </tr>\n    <tr>\n      <th>14938691</th>\n      <td>2021-09-26 00:00:00</td>\n      <td>47</td>\n      <td>73</td>\n      <td>1</td>\n      <td>4</td>\n      <td>13</td>\n      <td>0</td>\n    </tr>\n  </tbody>\n</table>\n</div>"
     },
     "execution_count": 28,
     "metadata": {},
     "output_type": "execute_result"
    }
   ],
   "metadata": {
    "datalore": {
     "node_id": "NOC6Xe8DhvurFEaTNWSKy8",
     "type": "CODE",
     "hide_input_from_viewers": true,
     "hide_output_from_viewers": true
    },
    "ExecuteTime": {
     "end_time": "2023-12-26T17:58:55.023805Z",
     "start_time": "2023-12-26T17:58:54.850691Z"
    }
   }
  },
  {
   "cell_type": "markdown",
   "source": [
    "Заметим, что для даты 2021-09-01 только одно наблюдение. Удалим данные за этот день из датасета как выброс."
   ],
   "metadata": {
    "collapsed": false
   }
  },
  {
   "cell_type": "code",
   "execution_count": 29,
   "outputs": [
    {
     "data": {
      "text/plain": "          date_time  zone_id  banner_id  campaign_clicks  os_id  country_id  \\\n5041415  2021-09-26       41         29                1      3           0   \n1442602  2021-09-26        1        188                2      2          15   \n7232498  2021-09-26       17         52                2      2           5   \n14938691 2021-09-26       47         73                1      4          13   \n11536774 2021-09-26       48        266                1      0           1   \n\n          clicks  \n5041415        0  \n1442602        0  \n7232498        0  \n14938691       0  \n11536774       0  ",
      "text/html": "<div>\n<style scoped>\n    .dataframe tbody tr th:only-of-type {\n        vertical-align: middle;\n    }\n\n    .dataframe tbody tr th {\n        vertical-align: top;\n    }\n\n    .dataframe thead th {\n        text-align: right;\n    }\n</style>\n<table border=\"1\" class=\"dataframe\">\n  <thead>\n    <tr style=\"text-align: right;\">\n      <th></th>\n      <th>date_time</th>\n      <th>zone_id</th>\n      <th>banner_id</th>\n      <th>campaign_clicks</th>\n      <th>os_id</th>\n      <th>country_id</th>\n      <th>clicks</th>\n    </tr>\n  </thead>\n  <tbody>\n    <tr>\n      <th>5041415</th>\n      <td>2021-09-26</td>\n      <td>41</td>\n      <td>29</td>\n      <td>1</td>\n      <td>3</td>\n      <td>0</td>\n      <td>0</td>\n    </tr>\n    <tr>\n      <th>1442602</th>\n      <td>2021-09-26</td>\n      <td>1</td>\n      <td>188</td>\n      <td>2</td>\n      <td>2</td>\n      <td>15</td>\n      <td>0</td>\n    </tr>\n    <tr>\n      <th>7232498</th>\n      <td>2021-09-26</td>\n      <td>17</td>\n      <td>52</td>\n      <td>2</td>\n      <td>2</td>\n      <td>5</td>\n      <td>0</td>\n    </tr>\n    <tr>\n      <th>14938691</th>\n      <td>2021-09-26</td>\n      <td>47</td>\n      <td>73</td>\n      <td>1</td>\n      <td>4</td>\n      <td>13</td>\n      <td>0</td>\n    </tr>\n    <tr>\n      <th>11536774</th>\n      <td>2021-09-26</td>\n      <td>48</td>\n      <td>266</td>\n      <td>1</td>\n      <td>0</td>\n      <td>1</td>\n      <td>0</td>\n    </tr>\n  </tbody>\n</table>\n</div>"
     },
     "execution_count": 29,
     "metadata": {},
     "output_type": "execute_result"
    }
   ],
   "source": [
    "data = data[data['date_time'] >= '2021-09-02']\n",
    "data.head()"
   ],
   "metadata": {
    "collapsed": false,
    "ExecuteTime": {
     "end_time": "2023-12-26T17:58:55.315045Z",
     "start_time": "2023-12-26T17:58:55.021813Z"
    }
   }
  },
  {
   "cell_type": "markdown",
   "source": [
    "Заметим, что все имеющиеся данные затрагивают только 2 месяца -- сентябрь и начало октября. Информация про год избыточна, тк у всех сэмплов одинакова. Кроме того, можем убрать измерения секунд, нам хватит знания часа и минут для каждого примера. Добавим отдельные столбцы day, hour, minute. После разделения на train и test впоследствии удалим столбец date_time. Добавим информацию про день недели как новую полезную для анализа рекламных событий фичу."
   ],
   "attachments": {},
   "metadata": {
    "datalore": {
     "node_id": "2Eq7DP6DNau78i1lkgwoiP",
     "type": "MD",
     "hide_input_from_viewers": true,
     "hide_output_from_viewers": true
    }
   }
  },
  {
   "cell_type": "code",
   "source": [
    "data['day'] = data['date_time'].dt.day\n",
    "data['hour'] = data['date_time'].dt.hour\n",
    "data['minutes'] = data['date_time'].dt.minute\n",
    "\n",
    "data.head()"
   ],
   "execution_count": 30,
   "outputs": [
    {
     "data": {
      "text/plain": "          date_time  zone_id  banner_id  campaign_clicks  os_id  country_id  \\\n5041415  2021-09-26       41         29                1      3           0   \n1442602  2021-09-26        1        188                2      2          15   \n7232498  2021-09-26       17         52                2      2           5   \n14938691 2021-09-26       47         73                1      4          13   \n11536774 2021-09-26       48        266                1      0           1   \n\n          clicks  day  hour  minutes  \n5041415        0   26     0        0  \n1442602        0   26     0        0  \n7232498        0   26     0        0  \n14938691       0   26     0        0  \n11536774       0   26     0        0  ",
      "text/html": "<div>\n<style scoped>\n    .dataframe tbody tr th:only-of-type {\n        vertical-align: middle;\n    }\n\n    .dataframe tbody tr th {\n        vertical-align: top;\n    }\n\n    .dataframe thead th {\n        text-align: right;\n    }\n</style>\n<table border=\"1\" class=\"dataframe\">\n  <thead>\n    <tr style=\"text-align: right;\">\n      <th></th>\n      <th>date_time</th>\n      <th>zone_id</th>\n      <th>banner_id</th>\n      <th>campaign_clicks</th>\n      <th>os_id</th>\n      <th>country_id</th>\n      <th>clicks</th>\n      <th>day</th>\n      <th>hour</th>\n      <th>minutes</th>\n    </tr>\n  </thead>\n  <tbody>\n    <tr>\n      <th>5041415</th>\n      <td>2021-09-26</td>\n      <td>41</td>\n      <td>29</td>\n      <td>1</td>\n      <td>3</td>\n      <td>0</td>\n      <td>0</td>\n      <td>26</td>\n      <td>0</td>\n      <td>0</td>\n    </tr>\n    <tr>\n      <th>1442602</th>\n      <td>2021-09-26</td>\n      <td>1</td>\n      <td>188</td>\n      <td>2</td>\n      <td>2</td>\n      <td>15</td>\n      <td>0</td>\n      <td>26</td>\n      <td>0</td>\n      <td>0</td>\n    </tr>\n    <tr>\n      <th>7232498</th>\n      <td>2021-09-26</td>\n      <td>17</td>\n      <td>52</td>\n      <td>2</td>\n      <td>2</td>\n      <td>5</td>\n      <td>0</td>\n      <td>26</td>\n      <td>0</td>\n      <td>0</td>\n    </tr>\n    <tr>\n      <th>14938691</th>\n      <td>2021-09-26</td>\n      <td>47</td>\n      <td>73</td>\n      <td>1</td>\n      <td>4</td>\n      <td>13</td>\n      <td>0</td>\n      <td>26</td>\n      <td>0</td>\n      <td>0</td>\n    </tr>\n    <tr>\n      <th>11536774</th>\n      <td>2021-09-26</td>\n      <td>48</td>\n      <td>266</td>\n      <td>1</td>\n      <td>0</td>\n      <td>1</td>\n      <td>0</td>\n      <td>26</td>\n      <td>0</td>\n      <td>0</td>\n    </tr>\n  </tbody>\n</table>\n</div>"
     },
     "execution_count": 30,
     "metadata": {},
     "output_type": "execute_result"
    }
   ],
   "metadata": {
    "datalore": {
     "node_id": "5CoZvRwN7xrniPupXkryTc",
     "type": "CODE",
     "hide_input_from_viewers": false,
     "hide_output_from_viewers": false,
     "report_properties": {
      "rowId": "n6QfIZLr6Doo5ydjbuDWfV"
     }
    },
    "ExecuteTime": {
     "end_time": "2023-12-26T17:58:55.990773Z",
     "start_time": "2023-12-26T17:58:55.312582Z"
    }
   }
  },
  {
   "cell_type": "markdown",
   "source": [
    "Добавим интеракции порядка 2 -- попарная конкатенация категориальных фич. Новая колонка интеракций будет иметь название вида 'feature1:feature2'. Значение интеракции будет являться значениями исходных колонок, сконкатенированными через двоеточие."
   ],
   "metadata": {
    "collapsed": false
   }
  },
  {
   "cell_type": "code",
   "execution_count": 31,
   "outputs": [],
   "source": [
    "from typing import List"
   ],
   "metadata": {
    "collapsed": false,
    "ExecuteTime": {
     "end_time": "2023-12-26T17:58:55.991833Z",
     "start_time": "2023-12-26T17:58:55.989028Z"
    }
   }
  },
  {
   "cell_type": "code",
   "execution_count": 32,
   "outputs": [],
   "source": [
    "def add_row_interactions(df_row, interaction_features: List[str]):\n",
    "    interactions_values = [f'{df_row[feature]}' for feature in interaction_features]\n",
    "    return ':'.join(interactions_values)\n",
    "\n",
    "\n",
    "def create_interaction_column(data: pd.DataFrame, interaction_features: List[str]):\n",
    "    interaction_features_column = ':'.join(interaction_features)\n",
    "    data[interaction_features_column] = data.apply(\n",
    "        lambda row: add_row_interactions(row, interaction_features),\n",
    "        axis=1\n",
    "    )"
   ],
   "metadata": {
    "collapsed": false,
    "ExecuteTime": {
     "end_time": "2023-12-26T17:58:55.997075Z",
     "start_time": "2023-12-26T17:58:55.992645Z"
    }
   }
  },
  {
   "cell_type": "code",
   "execution_count": 33,
   "outputs": [
    {
     "data": {
      "text/plain": "                   date_time  zone_id  banner_id  campaign_clicks  os_id  \\\n5041415  2021-09-26 00:00:00       41         29                1      3   \n1442602  2021-09-26 00:00:00        1        188                2      2   \n7232498  2021-09-26 00:00:00       17         52                2      2   \n14938691 2021-09-26 00:00:00       47         73                1      4   \n11536774 2021-09-26 00:00:00       48        266                1      0   \n...                      ...      ...        ...              ...    ...   \n10139863 2021-10-02 23:59:59       24        180                0      2   \n5597133  2021-10-02 23:59:59       73         92                0      1   \n8660907  2021-10-02 23:59:59       17       1235                0      4   \n2991997  2021-10-02 23:59:59        1          2                0      0   \n3226555  2021-10-02 23:59:59       74        418                0      0   \n\n          country_id  clicks  day  hour  minutes zone_id:banner_id  \\\n5041415            0       0   26     0        0             41:29   \n1442602           15       0   26     0        0             1:188   \n7232498            5       0   26     0        0             17:52   \n14938691          13       0   26     0        0             47:73   \n11536774           1       0   26     0        0            48:266   \n...              ...     ...  ...   ...      ...               ...   \n10139863           6       0    2    23       59            24:180   \n5597133            0       0    2    23       59             73:92   \n8660907            0       0    2    23       59           17:1235   \n2991997            0       0    2    23       59               1:2   \n3226555            5       0    2    23       59            74:418   \n\n         zone_id:os_id zone_id:country_id banner_id:os_id  \\\n5041415           41:3               41:0            29:3   \n1442602            1:2               1:15           188:2   \n7232498           17:2               17:5            52:2   \n14938691          47:4              47:13            73:4   \n11536774          48:0               48:1           266:0   \n...                ...                ...             ...   \n10139863          24:2               24:6           180:2   \n5597133           73:1               73:0            92:1   \n8660907           17:4               17:0          1235:4   \n2991997            1:0                1:0             2:0   \n3226555           74:0               74:5           418:0   \n\n         banner_id:country_id os_id:country_id  \n5041415                  29:0              3:0  \n1442602                188:15             2:15  \n7232498                  52:5              2:5  \n14938691                73:13             4:13  \n11536774                266:1              0:1  \n...                       ...              ...  \n10139863                180:6              2:6  \n5597133                  92:0              1:0  \n8660907                1235:0              4:0  \n2991997                   2:0              0:0  \n3226555                 418:5              0:5  \n\n[15201432 rows x 16 columns]",
      "text/html": "<div>\n<style scoped>\n    .dataframe tbody tr th:only-of-type {\n        vertical-align: middle;\n    }\n\n    .dataframe tbody tr th {\n        vertical-align: top;\n    }\n\n    .dataframe thead th {\n        text-align: right;\n    }\n</style>\n<table border=\"1\" class=\"dataframe\">\n  <thead>\n    <tr style=\"text-align: right;\">\n      <th></th>\n      <th>date_time</th>\n      <th>zone_id</th>\n      <th>banner_id</th>\n      <th>campaign_clicks</th>\n      <th>os_id</th>\n      <th>country_id</th>\n      <th>clicks</th>\n      <th>day</th>\n      <th>hour</th>\n      <th>minutes</th>\n      <th>zone_id:banner_id</th>\n      <th>zone_id:os_id</th>\n      <th>zone_id:country_id</th>\n      <th>banner_id:os_id</th>\n      <th>banner_id:country_id</th>\n      <th>os_id:country_id</th>\n    </tr>\n  </thead>\n  <tbody>\n    <tr>\n      <th>5041415</th>\n      <td>2021-09-26 00:00:00</td>\n      <td>41</td>\n      <td>29</td>\n      <td>1</td>\n      <td>3</td>\n      <td>0</td>\n      <td>0</td>\n      <td>26</td>\n      <td>0</td>\n      <td>0</td>\n      <td>41:29</td>\n      <td>41:3</td>\n      <td>41:0</td>\n      <td>29:3</td>\n      <td>29:0</td>\n      <td>3:0</td>\n    </tr>\n    <tr>\n      <th>1442602</th>\n      <td>2021-09-26 00:00:00</td>\n      <td>1</td>\n      <td>188</td>\n      <td>2</td>\n      <td>2</td>\n      <td>15</td>\n      <td>0</td>\n      <td>26</td>\n      <td>0</td>\n      <td>0</td>\n      <td>1:188</td>\n      <td>1:2</td>\n      <td>1:15</td>\n      <td>188:2</td>\n      <td>188:15</td>\n      <td>2:15</td>\n    </tr>\n    <tr>\n      <th>7232498</th>\n      <td>2021-09-26 00:00:00</td>\n      <td>17</td>\n      <td>52</td>\n      <td>2</td>\n      <td>2</td>\n      <td>5</td>\n      <td>0</td>\n      <td>26</td>\n      <td>0</td>\n      <td>0</td>\n      <td>17:52</td>\n      <td>17:2</td>\n      <td>17:5</td>\n      <td>52:2</td>\n      <td>52:5</td>\n      <td>2:5</td>\n    </tr>\n    <tr>\n      <th>14938691</th>\n      <td>2021-09-26 00:00:00</td>\n      <td>47</td>\n      <td>73</td>\n      <td>1</td>\n      <td>4</td>\n      <td>13</td>\n      <td>0</td>\n      <td>26</td>\n      <td>0</td>\n      <td>0</td>\n      <td>47:73</td>\n      <td>47:4</td>\n      <td>47:13</td>\n      <td>73:4</td>\n      <td>73:13</td>\n      <td>4:13</td>\n    </tr>\n    <tr>\n      <th>11536774</th>\n      <td>2021-09-26 00:00:00</td>\n      <td>48</td>\n      <td>266</td>\n      <td>1</td>\n      <td>0</td>\n      <td>1</td>\n      <td>0</td>\n      <td>26</td>\n      <td>0</td>\n      <td>0</td>\n      <td>48:266</td>\n      <td>48:0</td>\n      <td>48:1</td>\n      <td>266:0</td>\n      <td>266:1</td>\n      <td>0:1</td>\n    </tr>\n    <tr>\n      <th>...</th>\n      <td>...</td>\n      <td>...</td>\n      <td>...</td>\n      <td>...</td>\n      <td>...</td>\n      <td>...</td>\n      <td>...</td>\n      <td>...</td>\n      <td>...</td>\n      <td>...</td>\n      <td>...</td>\n      <td>...</td>\n      <td>...</td>\n      <td>...</td>\n      <td>...</td>\n      <td>...</td>\n    </tr>\n    <tr>\n      <th>10139863</th>\n      <td>2021-10-02 23:59:59</td>\n      <td>24</td>\n      <td>180</td>\n      <td>0</td>\n      <td>2</td>\n      <td>6</td>\n      <td>0</td>\n      <td>2</td>\n      <td>23</td>\n      <td>59</td>\n      <td>24:180</td>\n      <td>24:2</td>\n      <td>24:6</td>\n      <td>180:2</td>\n      <td>180:6</td>\n      <td>2:6</td>\n    </tr>\n    <tr>\n      <th>5597133</th>\n      <td>2021-10-02 23:59:59</td>\n      <td>73</td>\n      <td>92</td>\n      <td>0</td>\n      <td>1</td>\n      <td>0</td>\n      <td>0</td>\n      <td>2</td>\n      <td>23</td>\n      <td>59</td>\n      <td>73:92</td>\n      <td>73:1</td>\n      <td>73:0</td>\n      <td>92:1</td>\n      <td>92:0</td>\n      <td>1:0</td>\n    </tr>\n    <tr>\n      <th>8660907</th>\n      <td>2021-10-02 23:59:59</td>\n      <td>17</td>\n      <td>1235</td>\n      <td>0</td>\n      <td>4</td>\n      <td>0</td>\n      <td>0</td>\n      <td>2</td>\n      <td>23</td>\n      <td>59</td>\n      <td>17:1235</td>\n      <td>17:4</td>\n      <td>17:0</td>\n      <td>1235:4</td>\n      <td>1235:0</td>\n      <td>4:0</td>\n    </tr>\n    <tr>\n      <th>2991997</th>\n      <td>2021-10-02 23:59:59</td>\n      <td>1</td>\n      <td>2</td>\n      <td>0</td>\n      <td>0</td>\n      <td>0</td>\n      <td>0</td>\n      <td>2</td>\n      <td>23</td>\n      <td>59</td>\n      <td>1:2</td>\n      <td>1:0</td>\n      <td>1:0</td>\n      <td>2:0</td>\n      <td>2:0</td>\n      <td>0:0</td>\n    </tr>\n    <tr>\n      <th>3226555</th>\n      <td>2021-10-02 23:59:59</td>\n      <td>74</td>\n      <td>418</td>\n      <td>0</td>\n      <td>0</td>\n      <td>5</td>\n      <td>0</td>\n      <td>2</td>\n      <td>23</td>\n      <td>59</td>\n      <td>74:418</td>\n      <td>74:0</td>\n      <td>74:5</td>\n      <td>418:0</td>\n      <td>418:5</td>\n      <td>0:5</td>\n    </tr>\n  </tbody>\n</table>\n<p>15201432 rows × 16 columns</p>\n</div>"
     },
     "metadata": {},
     "output_type": "display_data"
    }
   ],
   "source": [
    "categorial_columns = ['zone_id', 'banner_id', 'os_id', 'country_id']\n",
    "\n",
    "for i in range(0, len(categorial_columns)):\n",
    "    for j in range(i + 1, len(categorial_columns)):\n",
    "        feature1 = categorial_columns[i]\n",
    "        feature2 = categorial_columns[j]\n",
    "        create_interaction_column(data, [feature1, feature2])\n",
    "\n",
    "display(data)"
   ],
   "metadata": {
    "collapsed": false,
    "ExecuteTime": {
     "end_time": "2023-12-26T18:06:54.917615Z",
     "start_time": "2023-12-26T17:58:56.442146Z"
    }
   }
  },
  {
   "cell_type": "code",
   "execution_count": 34,
   "outputs": [
    {
     "data": {
      "text/plain": "['date_time',\n 'zone_id',\n 'banner_id',\n 'campaign_clicks',\n 'os_id',\n 'country_id',\n 'clicks',\n 'day',\n 'hour',\n 'minutes',\n 'zone_id:banner_id',\n 'zone_id:os_id',\n 'zone_id:country_id',\n 'banner_id:os_id',\n 'banner_id:country_id',\n 'os_id:country_id']"
     },
     "execution_count": 34,
     "metadata": {},
     "output_type": "execute_result"
    }
   ],
   "source": [
    "data.columns.tolist()"
   ],
   "metadata": {
    "collapsed": false,
    "ExecuteTime": {
     "end_time": "2023-12-26T18:06:55.080609Z",
     "start_time": "2023-12-26T18:06:54.903203Z"
    }
   }
  },
  {
   "cell_type": "markdown",
   "source": [
    "### 4. Train/ test splitting\n",
    "Разделим данные на тренировочную и тестовую части. Тренировать модель будем на всех данных, полученных до последнего дня, тестировать -- на данных последнего дня, тк хотим научиться предсказывать на день вперед. "
   ],
   "attachments": {},
   "metadata": {
    "datalore": {
     "node_id": "CHdDgigkZ6DPsy61RX5dgK",
     "type": "MD",
     "hide_input_from_viewers": true,
     "hide_output_from_viewers": true
    }
   }
  },
  {
   "cell_type": "code",
   "source": [
    "# разделяющий день -- последний день, начиная с 00:00\n",
    "splitting_datetime = data['date_time'].max()\n",
    "splitting_datetime = splitting_datetime.replace(hour=0, minute=0, second=0)\n",
    "print(f'Splitting datetime: {splitting_datetime}')\n",
    "\n",
    "train_data = data[data['date_time'] < splitting_datetime]\n",
    "test_data = data[data['date_time'] >= splitting_datetime]\n",
    "\n",
    "train_data = train_data.drop(columns=['date_time'])\n",
    "test_data = test_data.drop(columns=['date_time'])\n",
    "\n",
    "print(f'Train samples: {len(train_data)}')\n",
    "print(f'Test samples: {len(test_data)}')\n",
    "\n",
    "display(train_data)\n",
    "display(test_data)"
   ],
   "execution_count": 35,
   "outputs": [
    {
     "name": "stdout",
     "output_type": "stream",
     "text": [
      "Splitting datetime: 2021-10-02 00:00:00\n",
      "Train samples: 13147255\n",
      "Test samples: 2054177\n"
     ]
    },
    {
     "data": {
      "text/plain": "          zone_id  banner_id  campaign_clicks  os_id  country_id  clicks  day  \\\n5041415        41         29                1      3           0       0   26   \n1442602         1        188                2      2          15       0   26   \n7232498        17         52                2      2           5       0   26   \n14938691       47         73                1      4          13       0   26   \n11536774       48        266                1      0           1       0   26   \n...           ...        ...              ...    ...         ...     ...  ...   \n3594598       254        584                0      2          10       0    1   \n8604214        34         47                1      2           5       0    1   \n1633515         3       1239                0      2           0       0    1   \n6571049       139         49                0      0           0       0    1   \n6809215       275        102                0      4           1       0    1   \n\n          hour  minutes zone_id:banner_id zone_id:os_id zone_id:country_id  \\\n5041415      0        0             41:29          41:3               41:0   \n1442602      0        0             1:188           1:2               1:15   \n7232498      0        0             17:52          17:2               17:5   \n14938691     0        0             47:73          47:4              47:13   \n11536774     0        0            48:266          48:0               48:1   \n...        ...      ...               ...           ...                ...   \n3594598     23       59           254:584         254:2             254:10   \n8604214     23       59             34:47          34:2               34:5   \n1633515     23       59            3:1239           3:2                3:0   \n6571049     23       59            139:49         139:0              139:0   \n6809215     23       59           275:102         275:4              275:1   \n\n         banner_id:os_id banner_id:country_id os_id:country_id  \n5041415             29:3                 29:0              3:0  \n1442602            188:2               188:15             2:15  \n7232498             52:2                 52:5              2:5  \n14938691            73:4                73:13             4:13  \n11536774           266:0                266:1              0:1  \n...                  ...                  ...              ...  \n3594598            584:2               584:10             2:10  \n8604214             47:2                 47:5              2:5  \n1633515           1239:2               1239:0              2:0  \n6571049             49:0                 49:0              0:0  \n6809215            102:4                102:1              4:1  \n\n[13147255 rows x 15 columns]",
      "text/html": "<div>\n<style scoped>\n    .dataframe tbody tr th:only-of-type {\n        vertical-align: middle;\n    }\n\n    .dataframe tbody tr th {\n        vertical-align: top;\n    }\n\n    .dataframe thead th {\n        text-align: right;\n    }\n</style>\n<table border=\"1\" class=\"dataframe\">\n  <thead>\n    <tr style=\"text-align: right;\">\n      <th></th>\n      <th>zone_id</th>\n      <th>banner_id</th>\n      <th>campaign_clicks</th>\n      <th>os_id</th>\n      <th>country_id</th>\n      <th>clicks</th>\n      <th>day</th>\n      <th>hour</th>\n      <th>minutes</th>\n      <th>zone_id:banner_id</th>\n      <th>zone_id:os_id</th>\n      <th>zone_id:country_id</th>\n      <th>banner_id:os_id</th>\n      <th>banner_id:country_id</th>\n      <th>os_id:country_id</th>\n    </tr>\n  </thead>\n  <tbody>\n    <tr>\n      <th>5041415</th>\n      <td>41</td>\n      <td>29</td>\n      <td>1</td>\n      <td>3</td>\n      <td>0</td>\n      <td>0</td>\n      <td>26</td>\n      <td>0</td>\n      <td>0</td>\n      <td>41:29</td>\n      <td>41:3</td>\n      <td>41:0</td>\n      <td>29:3</td>\n      <td>29:0</td>\n      <td>3:0</td>\n    </tr>\n    <tr>\n      <th>1442602</th>\n      <td>1</td>\n      <td>188</td>\n      <td>2</td>\n      <td>2</td>\n      <td>15</td>\n      <td>0</td>\n      <td>26</td>\n      <td>0</td>\n      <td>0</td>\n      <td>1:188</td>\n      <td>1:2</td>\n      <td>1:15</td>\n      <td>188:2</td>\n      <td>188:15</td>\n      <td>2:15</td>\n    </tr>\n    <tr>\n      <th>7232498</th>\n      <td>17</td>\n      <td>52</td>\n      <td>2</td>\n      <td>2</td>\n      <td>5</td>\n      <td>0</td>\n      <td>26</td>\n      <td>0</td>\n      <td>0</td>\n      <td>17:52</td>\n      <td>17:2</td>\n      <td>17:5</td>\n      <td>52:2</td>\n      <td>52:5</td>\n      <td>2:5</td>\n    </tr>\n    <tr>\n      <th>14938691</th>\n      <td>47</td>\n      <td>73</td>\n      <td>1</td>\n      <td>4</td>\n      <td>13</td>\n      <td>0</td>\n      <td>26</td>\n      <td>0</td>\n      <td>0</td>\n      <td>47:73</td>\n      <td>47:4</td>\n      <td>47:13</td>\n      <td>73:4</td>\n      <td>73:13</td>\n      <td>4:13</td>\n    </tr>\n    <tr>\n      <th>11536774</th>\n      <td>48</td>\n      <td>266</td>\n      <td>1</td>\n      <td>0</td>\n      <td>1</td>\n      <td>0</td>\n      <td>26</td>\n      <td>0</td>\n      <td>0</td>\n      <td>48:266</td>\n      <td>48:0</td>\n      <td>48:1</td>\n      <td>266:0</td>\n      <td>266:1</td>\n      <td>0:1</td>\n    </tr>\n    <tr>\n      <th>...</th>\n      <td>...</td>\n      <td>...</td>\n      <td>...</td>\n      <td>...</td>\n      <td>...</td>\n      <td>...</td>\n      <td>...</td>\n      <td>...</td>\n      <td>...</td>\n      <td>...</td>\n      <td>...</td>\n      <td>...</td>\n      <td>...</td>\n      <td>...</td>\n      <td>...</td>\n    </tr>\n    <tr>\n      <th>3594598</th>\n      <td>254</td>\n      <td>584</td>\n      <td>0</td>\n      <td>2</td>\n      <td>10</td>\n      <td>0</td>\n      <td>1</td>\n      <td>23</td>\n      <td>59</td>\n      <td>254:584</td>\n      <td>254:2</td>\n      <td>254:10</td>\n      <td>584:2</td>\n      <td>584:10</td>\n      <td>2:10</td>\n    </tr>\n    <tr>\n      <th>8604214</th>\n      <td>34</td>\n      <td>47</td>\n      <td>1</td>\n      <td>2</td>\n      <td>5</td>\n      <td>0</td>\n      <td>1</td>\n      <td>23</td>\n      <td>59</td>\n      <td>34:47</td>\n      <td>34:2</td>\n      <td>34:5</td>\n      <td>47:2</td>\n      <td>47:5</td>\n      <td>2:5</td>\n    </tr>\n    <tr>\n      <th>1633515</th>\n      <td>3</td>\n      <td>1239</td>\n      <td>0</td>\n      <td>2</td>\n      <td>0</td>\n      <td>0</td>\n      <td>1</td>\n      <td>23</td>\n      <td>59</td>\n      <td>3:1239</td>\n      <td>3:2</td>\n      <td>3:0</td>\n      <td>1239:2</td>\n      <td>1239:0</td>\n      <td>2:0</td>\n    </tr>\n    <tr>\n      <th>6571049</th>\n      <td>139</td>\n      <td>49</td>\n      <td>0</td>\n      <td>0</td>\n      <td>0</td>\n      <td>0</td>\n      <td>1</td>\n      <td>23</td>\n      <td>59</td>\n      <td>139:49</td>\n      <td>139:0</td>\n      <td>139:0</td>\n      <td>49:0</td>\n      <td>49:0</td>\n      <td>0:0</td>\n    </tr>\n    <tr>\n      <th>6809215</th>\n      <td>275</td>\n      <td>102</td>\n      <td>0</td>\n      <td>4</td>\n      <td>1</td>\n      <td>0</td>\n      <td>1</td>\n      <td>23</td>\n      <td>59</td>\n      <td>275:102</td>\n      <td>275:4</td>\n      <td>275:1</td>\n      <td>102:4</td>\n      <td>102:1</td>\n      <td>4:1</td>\n    </tr>\n  </tbody>\n</table>\n<p>13147255 rows × 15 columns</p>\n</div>"
     },
     "metadata": {},
     "output_type": "display_data"
    },
    {
     "data": {
      "text/plain": "          zone_id  banner_id  campaign_clicks  os_id  country_id  clicks  day  \\\n14196412       14       1239                0      1           0       0    2   \n8706638       525        174                0      3           0       0    2   \n13000378       14        175                0      2           9       0    2   \n9767447         0         76                0      1           3       0    2   \n9054327        24        428                0      1          10       0    2   \n...           ...        ...              ...    ...         ...     ...  ...   \n10139863       24        180                0      2           6       0    2   \n5597133        73         92                0      1           0       0    2   \n8660907        17       1235                0      4           0       0    2   \n2991997         1          2                0      0           0       0    2   \n3226555        74        418                0      0           5       0    2   \n\n          hour  minutes zone_id:banner_id zone_id:os_id zone_id:country_id  \\\n14196412     0        0           14:1239          14:1               14:0   \n8706638      0        0           525:174         525:3              525:0   \n13000378     0        0            14:175          14:2               14:9   \n9767447      0        0              0:76           0:1                0:3   \n9054327      0        0            24:428          24:1              24:10   \n...        ...      ...               ...           ...                ...   \n10139863    23       59            24:180          24:2               24:6   \n5597133     23       59             73:92          73:1               73:0   \n8660907     23       59           17:1235          17:4               17:0   \n2991997     23       59               1:2           1:0                1:0   \n3226555     23       59            74:418          74:0               74:5   \n\n         banner_id:os_id banner_id:country_id os_id:country_id  \n14196412          1239:1               1239:0              1:0  \n8706638            174:3                174:0              3:0  \n13000378           175:2                175:9              2:9  \n9767447             76:1                 76:3              1:3  \n9054327            428:1               428:10             1:10  \n...                  ...                  ...              ...  \n10139863           180:2                180:6              2:6  \n5597133             92:1                 92:0              1:0  \n8660907           1235:4               1235:0              4:0  \n2991997              2:0                  2:0              0:0  \n3226555            418:0                418:5              0:5  \n\n[2054177 rows x 15 columns]",
      "text/html": "<div>\n<style scoped>\n    .dataframe tbody tr th:only-of-type {\n        vertical-align: middle;\n    }\n\n    .dataframe tbody tr th {\n        vertical-align: top;\n    }\n\n    .dataframe thead th {\n        text-align: right;\n    }\n</style>\n<table border=\"1\" class=\"dataframe\">\n  <thead>\n    <tr style=\"text-align: right;\">\n      <th></th>\n      <th>zone_id</th>\n      <th>banner_id</th>\n      <th>campaign_clicks</th>\n      <th>os_id</th>\n      <th>country_id</th>\n      <th>clicks</th>\n      <th>day</th>\n      <th>hour</th>\n      <th>minutes</th>\n      <th>zone_id:banner_id</th>\n      <th>zone_id:os_id</th>\n      <th>zone_id:country_id</th>\n      <th>banner_id:os_id</th>\n      <th>banner_id:country_id</th>\n      <th>os_id:country_id</th>\n    </tr>\n  </thead>\n  <tbody>\n    <tr>\n      <th>14196412</th>\n      <td>14</td>\n      <td>1239</td>\n      <td>0</td>\n      <td>1</td>\n      <td>0</td>\n      <td>0</td>\n      <td>2</td>\n      <td>0</td>\n      <td>0</td>\n      <td>14:1239</td>\n      <td>14:1</td>\n      <td>14:0</td>\n      <td>1239:1</td>\n      <td>1239:0</td>\n      <td>1:0</td>\n    </tr>\n    <tr>\n      <th>8706638</th>\n      <td>525</td>\n      <td>174</td>\n      <td>0</td>\n      <td>3</td>\n      <td>0</td>\n      <td>0</td>\n      <td>2</td>\n      <td>0</td>\n      <td>0</td>\n      <td>525:174</td>\n      <td>525:3</td>\n      <td>525:0</td>\n      <td>174:3</td>\n      <td>174:0</td>\n      <td>3:0</td>\n    </tr>\n    <tr>\n      <th>13000378</th>\n      <td>14</td>\n      <td>175</td>\n      <td>0</td>\n      <td>2</td>\n      <td>9</td>\n      <td>0</td>\n      <td>2</td>\n      <td>0</td>\n      <td>0</td>\n      <td>14:175</td>\n      <td>14:2</td>\n      <td>14:9</td>\n      <td>175:2</td>\n      <td>175:9</td>\n      <td>2:9</td>\n    </tr>\n    <tr>\n      <th>9767447</th>\n      <td>0</td>\n      <td>76</td>\n      <td>0</td>\n      <td>1</td>\n      <td>3</td>\n      <td>0</td>\n      <td>2</td>\n      <td>0</td>\n      <td>0</td>\n      <td>0:76</td>\n      <td>0:1</td>\n      <td>0:3</td>\n      <td>76:1</td>\n      <td>76:3</td>\n      <td>1:3</td>\n    </tr>\n    <tr>\n      <th>9054327</th>\n      <td>24</td>\n      <td>428</td>\n      <td>0</td>\n      <td>1</td>\n      <td>10</td>\n      <td>0</td>\n      <td>2</td>\n      <td>0</td>\n      <td>0</td>\n      <td>24:428</td>\n      <td>24:1</td>\n      <td>24:10</td>\n      <td>428:1</td>\n      <td>428:10</td>\n      <td>1:10</td>\n    </tr>\n    <tr>\n      <th>...</th>\n      <td>...</td>\n      <td>...</td>\n      <td>...</td>\n      <td>...</td>\n      <td>...</td>\n      <td>...</td>\n      <td>...</td>\n      <td>...</td>\n      <td>...</td>\n      <td>...</td>\n      <td>...</td>\n      <td>...</td>\n      <td>...</td>\n      <td>...</td>\n      <td>...</td>\n    </tr>\n    <tr>\n      <th>10139863</th>\n      <td>24</td>\n      <td>180</td>\n      <td>0</td>\n      <td>2</td>\n      <td>6</td>\n      <td>0</td>\n      <td>2</td>\n      <td>23</td>\n      <td>59</td>\n      <td>24:180</td>\n      <td>24:2</td>\n      <td>24:6</td>\n      <td>180:2</td>\n      <td>180:6</td>\n      <td>2:6</td>\n    </tr>\n    <tr>\n      <th>5597133</th>\n      <td>73</td>\n      <td>92</td>\n      <td>0</td>\n      <td>1</td>\n      <td>0</td>\n      <td>0</td>\n      <td>2</td>\n      <td>23</td>\n      <td>59</td>\n      <td>73:92</td>\n      <td>73:1</td>\n      <td>73:0</td>\n      <td>92:1</td>\n      <td>92:0</td>\n      <td>1:0</td>\n    </tr>\n    <tr>\n      <th>8660907</th>\n      <td>17</td>\n      <td>1235</td>\n      <td>0</td>\n      <td>4</td>\n      <td>0</td>\n      <td>0</td>\n      <td>2</td>\n      <td>23</td>\n      <td>59</td>\n      <td>17:1235</td>\n      <td>17:4</td>\n      <td>17:0</td>\n      <td>1235:4</td>\n      <td>1235:0</td>\n      <td>4:0</td>\n    </tr>\n    <tr>\n      <th>2991997</th>\n      <td>1</td>\n      <td>2</td>\n      <td>0</td>\n      <td>0</td>\n      <td>0</td>\n      <td>0</td>\n      <td>2</td>\n      <td>23</td>\n      <td>59</td>\n      <td>1:2</td>\n      <td>1:0</td>\n      <td>1:0</td>\n      <td>2:0</td>\n      <td>2:0</td>\n      <td>0:0</td>\n    </tr>\n    <tr>\n      <th>3226555</th>\n      <td>74</td>\n      <td>418</td>\n      <td>0</td>\n      <td>0</td>\n      <td>5</td>\n      <td>0</td>\n      <td>2</td>\n      <td>23</td>\n      <td>59</td>\n      <td>74:418</td>\n      <td>74:0</td>\n      <td>74:5</td>\n      <td>418:0</td>\n      <td>418:5</td>\n      <td>0:5</td>\n    </tr>\n  </tbody>\n</table>\n<p>2054177 rows × 15 columns</p>\n</div>"
     },
     "metadata": {},
     "output_type": "display_data"
    }
   ],
   "metadata": {
    "datalore": {
     "node_id": "Ozu5Minvo8wYJ8oQ62btD5",
     "type": "CODE",
     "hide_input_from_viewers": true,
     "hide_output_from_viewers": true
    },
    "ExecuteTime": {
     "end_time": "2023-12-26T18:07:01.137146Z",
     "start_time": "2023-12-26T18:06:54.907782Z"
    }
   }
  },
  {
   "cell_type": "markdown",
   "source": [
    "Разделим train и test данные на признаки X и таргет y"
   ],
   "attachments": {},
   "metadata": {
    "datalore": {
     "node_id": "ghgDr0DrxapfKzyCERxRga",
     "type": "MD",
     "hide_input_from_viewers": true,
     "hide_output_from_viewers": true
    }
   }
  },
  {
   "cell_type": "code",
   "source": [
    "def split_to_X_y(data: pd.DataFrame):\n",
    "    X = data.drop(columns=['clicks'])\n",
    "    y = data['clicks']\n",
    "    return X, y\n",
    "\n",
    "X_train, y_train = split_to_X_y(train_data)\n",
    "X_test, y_test = split_to_X_y(test_data)"
   ],
   "execution_count": 36,
   "outputs": [],
   "metadata": {
    "datalore": {
     "node_id": "JWdL58RRFEcJsS8UIfBXiu",
     "type": "CODE",
     "hide_input_from_viewers": true,
     "hide_output_from_viewers": true
    },
    "ExecuteTime": {
     "end_time": "2023-12-26T18:07:05.166416Z",
     "start_time": "2023-12-26T18:07:01.122002Z"
    }
   }
  },
  {
   "cell_type": "code",
   "source": [
    "print(f\"X_train shape: {X_train.shape}, y_train shape: {y_train.shape}\")\n",
    "print(f\"X_train shape: {X_test.shape}, y_train shape: {y_test.shape}\")"
   ],
   "execution_count": 38,
   "outputs": [
    {
     "name": "stdout",
     "output_type": "stream",
     "text": [
      "X_train shape: (13147255, 14), y_train shape: (13147255,)\n",
      "X_train shape: (2054177, 14), y_train shape: (2054177,)\n"
     ]
    }
   ],
   "metadata": {
    "datalore": {
     "node_id": "8uFDz7efntqJ4IdgZdCJZt",
     "type": "CODE",
     "hide_input_from_viewers": true,
     "hide_output_from_viewers": true
    },
    "ExecuteTime": {
     "end_time": "2023-12-26T18:07:05.201788Z",
     "start_time": "2023-12-26T18:07:05.170182Z"
    }
   }
  },
  {
   "cell_type": "markdown",
   "source": [
    "### 5. Кодирование категориальных признаков\n",
    "Чтобы перевести категориальные фичи в числовые значения, воспользуемся One-hot encoding'ом, сопоставив каждой категории вектор из 0 с 1 на одной из позиций. К числовым фичам для нормализации и стандартизации применим StandartScaler."
   ],
   "metadata": {
    "datalore": {
     "node_id": "4iLeWOhoIAAo8PcDSFVEj1",
     "type": "MD",
     "hide_input_from_viewers": true,
     "hide_output_from_viewers": true
    }
   }
  },
  {
   "cell_type": "code",
   "execution_count": 41,
   "outputs": [
    {
     "name": "stdout",
     "output_type": "stream",
     "text": [
      "Numerical columns:\n",
      "['campaign_clicks', 'day', 'hour', 'minutes']\n",
      "Categorial columns:\n",
      "['zone_id', 'banner_id', 'os_id', 'country_id', 'zone_id:banner_id', 'zone_id:os_id', 'zone_id:country_id', 'banner_id:os_id', 'banner_id:country_id', 'os_id:country_id']\n"
     ]
    }
   ],
   "source": [
    "numerical_columns = ['campaign_clicks', 'day', 'hour', 'minutes']\n",
    "print('Numerical columns:')\n",
    "print(numerical_columns)\n",
    "\n",
    "# все остальные столбцы, кроме numerical columns и clicks\n",
    "categorial_columns = [col for col in X_train.columns.tolist() \n",
    "                      if col not in numerical_columns and col != 'clicks']\n",
    "print('Categorial columns:')\n",
    "print(categorial_columns)"
   ],
   "metadata": {
    "datalore": {
     "node_id": "GpthO8x2FhLbkhZGCJCqGJ",
     "type": "CODE",
     "hide_input_from_viewers": true,
     "hide_output_from_viewers": true
    },
    "ExecuteTime": {
     "end_time": "2023-12-26T18:11:27.734122Z",
     "start_time": "2023-12-26T18:11:27.720873Z"
    }
   }
  },
  {
   "cell_type": "code",
   "source": [
    "from sklearn.preprocessing import OneHotEncoder, StandardScaler\n",
    "from scipy.sparse import hstack\n",
    "\n",
    "# обработка категориальных фичей\n",
    "oh_encoder = OneHotEncoder(handle_unknown='ignore', sparse_output=True, drop='first')\n",
    "\n",
    "X_train_cat = oh_encoder.fit_transform(train_data[categorial_columns], y_train)\n",
    "X_test_cat = oh_encoder.transform(test_data[categorial_columns])\n",
    "\n",
    "# обработка численных фичей\n",
    "stand_scaler = StandardScaler()\n",
    "X_train_num = stand_scaler.fit_transform(train_data[numerical_columns], y_train)\n",
    "X_test_num = stand_scaler.transform(test_data[numerical_columns])\n",
    "\n",
    "# соединение категориальных и численных фичей\n",
    "X_train = hstack([X_train_cat, X_train_num])\n",
    "X_test = hstack([X_test_cat, X_test_num])"
   ],
   "execution_count": null,
   "outputs": [],
   "metadata": {
    "datalore": {
     "node_id": "DPtNqy2uyjxjnXVg8lLJqW",
     "type": "CODE",
     "hide_input_from_viewers": true,
     "hide_output_from_viewers": true
    }
   }
  },
  {
   "cell_type": "markdown",
   "source": [
    "### 7. Построение и обучение модели\n",
    "В качестве модели выберем логистическую регрессию с 'liblinear' solver'ом"
   ],
   "attachments": {},
   "metadata": {
    "datalore": {
     "node_id": "87MGqFFyV58NwVXewPHUJ0",
     "type": "MD",
     "hide_input_from_viewers": true,
     "hide_output_from_viewers": true
    }
   }
  },
  {
   "cell_type": "code",
   "source": [
    "from sklearn.linear_model import LogisticRegression"
   ],
   "execution_count": 43,
   "outputs": [],
   "metadata": {
    "datalore": {
     "node_id": "RihK7ReEpuiJ9eNxHwqv54",
     "type": "CODE",
     "hide_input_from_viewers": true,
     "hide_output_from_viewers": true
    },
    "ExecuteTime": {
     "end_time": "2023-12-26T20:21:04.797637Z",
     "start_time": "2023-12-26T20:21:04.260033Z"
    }
   }
  },
  {
   "cell_type": "code",
   "source": [
    "def create_model():\n",
    "    return LogisticRegression(max_iter=100, solver='liblinear')\n",
    "\n",
    "\n",
    "model = create_model()"
   ],
   "execution_count": 44,
   "outputs": [],
   "metadata": {
    "datalore": {
     "node_id": "SXq2lKptc1zJw7LB4idVJG",
     "type": "CODE",
     "hide_input_from_viewers": false,
     "hide_output_from_viewers": false,
     "report_properties": {
      "rowId": "FgYGkCERXkUVZo8tSjyCXK"
     }
    },
    "ExecuteTime": {
     "end_time": "2023-12-26T20:21:04.803192Z",
     "start_time": "2023-12-26T20:21:04.798330Z"
    }
   }
  },
  {
   "cell_type": "markdown",
   "source": [
    "Подберем оптимальные гиперпараметры с помощью кросс-валидации:"
   ],
   "attachments": {},
   "metadata": {
    "datalore": {
     "node_id": "JxkNb65U5AwqaMZaRPazFt",
     "type": "MD",
     "hide_input_from_viewers": true,
     "hide_output_from_viewers": true
    }
   }
  },
  {
   "cell_type": "code",
   "source": [
    "from sklearn.model_selection import GridSearchCV, TimeSeriesSplit\n",
    "\n",
    "\n",
    "def cv(model: LogisticRegression, X_train, y_train) -> GridSearchCV:\n",
    "    # задаем параметры\n",
    "    C_list = [1, 0.1, 0.01, 0.001]\n",
    "\n",
    "    grid_search_cv = GridSearchCV(\n",
    "        estimator=model,\n",
    "        param_grid={'C': C_list},\n",
    "        scoring=['roc_auc', 'neg_log_loss'],\n",
    "        refit='neg_log_loss',\n",
    "        cv=TimeSeriesSplit(n_splits=3),\n",
    "        verbose=10\n",
    "    )\n",
    "\n",
    "    # обучение\n",
    "    grid_search_cv.fit(X_train, y_train)\n",
    "    return grid_search_cv"
   ],
   "execution_count": 45,
   "outputs": [],
   "metadata": {
    "datalore": {
     "node_id": "sRBGkj9E3J2WJU0l6weFOj",
     "type": "CODE",
     "hide_input_from_viewers": true,
     "hide_output_from_viewers": true
    },
    "ExecuteTime": {
     "end_time": "2023-12-26T20:21:06.167031Z",
     "start_time": "2023-12-26T20:21:06.164388Z"
    }
   }
  },
  {
   "cell_type": "code",
   "source": [
    "# выбираем модель с лучшими гиперпараметрами \n",
    "fitted_grid_search_cv = cv(model, X_train, y_train)\n",
    "best_model = fitted_grid_search_cv.best_estimator_\n",
    "\n",
    "print(f'Choosen best params: {fitted_grid_search_cv.best_params_}')\n",
    "print(f'Best score: {fitted_grid_search_cv.best_score_}')"
   ],
   "execution_count": 46,
   "outputs": [
    {
     "name": "stdout",
     "output_type": "stream",
     "text": [
      "Fitting 3 folds for each of 4 candidates, totalling 12 fits\n",
      "[CV 1/3; 1/4] START C=1.........................................................\n",
      "[CV 1/3; 1/4] END C=1; neg_log_loss: (test=-0.084) roc_auc: (test=0.729) total time= 1.8min\n",
      "[CV 2/3; 1/4] START C=1.........................................................\n",
      "[CV 2/3; 1/4] END C=1; neg_log_loss: (test=-0.113) roc_auc: (test=0.717) total time= 4.5min\n",
      "[CV 3/3; 1/4] START C=1.........................................................\n",
      "[CV 3/3; 1/4] END C=1; neg_log_loss: (test=-0.157) roc_auc: (test=0.744) total time= 8.8min\n",
      "[CV 1/3; 2/4] START C=0.1.......................................................\n",
      "[CV 1/3; 2/4] END C=0.1; neg_log_loss: (test=-0.084) roc_auc: (test=0.736) total time=  37.4s\n",
      "[CV 2/3; 2/4] START C=0.1.......................................................\n",
      "[CV 2/3; 2/4] END C=0.1; neg_log_loss: (test=-0.111) roc_auc: (test=0.727) total time= 1.6min\n",
      "[CV 3/3; 2/4] START C=0.1.......................................................\n",
      "[CV 3/3; 2/4] END C=0.1; neg_log_loss: (test=-0.156) roc_auc: (test=0.745) total time= 2.9min\n",
      "[CV 1/3; 3/4] START C=0.01......................................................\n",
      "[CV 1/3; 3/4] END C=0.01; neg_log_loss: (test=-0.084) roc_auc: (test=0.727) total time=  15.0s\n",
      "[CV 2/3; 3/4] START C=0.01......................................................\n",
      "[CV 2/3; 3/4] END C=0.01; neg_log_loss: (test=-0.112) roc_auc: (test=0.722) total time=  36.9s\n",
      "[CV 3/3; 3/4] START C=0.01......................................................\n",
      "[CV 3/3; 3/4] END C=0.01; neg_log_loss: (test=-0.158) roc_auc: (test=0.732) total time=  56.2s\n",
      "[CV 1/3; 4/4] START C=0.001.....................................................\n",
      "[CV 1/3; 4/4] END C=0.001; neg_log_loss: (test=-0.086) roc_auc: (test=0.701) total time=   9.6s\n",
      "[CV 2/3; 4/4] START C=0.001.....................................................\n",
      "[CV 2/3; 4/4] END C=0.001; neg_log_loss: (test=-0.115) roc_auc: (test=0.690) total time=  18.0s\n",
      "[CV 3/3; 4/4] START C=0.001.....................................................\n",
      "[CV 3/3; 4/4] END C=0.001; neg_log_loss: (test=-0.155) roc_auc: (test=0.753) total time=  28.3s\n",
      "Choosen best params: {'C': 0.1}\n",
      "Best score: -0.11716293818077574\n"
     ]
    }
   ],
   "metadata": {
    "datalore": {
     "node_id": "zsduyx2tmA8WXcwgj7zLvy",
     "type": "CODE",
     "hide_input_from_viewers": true,
     "hide_output_from_viewers": true
    },
    "ExecuteTime": {
     "end_time": "2023-12-26T20:48:35.864986Z",
     "start_time": "2023-12-26T20:21:09.813750Z"
    }
   }
  },
  {
   "cell_type": "markdown",
   "source": [
    "### 8. Оценка качества обученной модели"
   ],
   "attachments": {},
   "metadata": {
    "datalore": {
     "node_id": "E0DUragVRq0qMzMVtYxBLe",
     "type": "MD",
     "hide_input_from_viewers": true,
     "hide_output_from_viewers": true
    }
   }
  },
  {
   "cell_type": "code",
   "source": [
    "from sklearn.metrics import roc_auc_score, log_loss\n",
    "\n",
    "\n",
    "def calc_print_metrics(y_true, y_preds):\n",
    "    print(f'Roc-auc: {roc_auc_score(y_true, y_preds)}')\n",
    "    print(f'Log-loss: {log_loss(y_true, y_preds)}')"
   ],
   "execution_count": 50,
   "outputs": [],
   "metadata": {
    "datalore": {
     "node_id": "UnqPIWLQaxuZczFCF9nRpt",
     "type": "CODE",
     "hide_input_from_viewers": true,
     "hide_output_from_viewers": true
    },
    "ExecuteTime": {
     "end_time": "2023-12-26T20:59:46.724523Z",
     "start_time": "2023-12-26T20:59:46.708457Z"
    }
   }
  },
  {
   "cell_type": "code",
   "source": [
    "model_preds = best_model.predict_proba(X_test)[:, 1]\n",
    "calc_print_metrics(y_test, model_preds)"
   ],
   "execution_count": 51,
   "outputs": [
    {
     "name": "stdout",
     "output_type": "stream",
     "text": [
      "Roc-auc: 0.7996510151401152\n",
      "Log-loss: 0.13214869771688456\n"
     ]
    }
   ],
   "metadata": {
    "datalore": {
     "node_id": "5lk7FNJi0h5p7wqerNIKht",
     "type": "CODE",
     "hide_input_from_viewers": true,
     "hide_output_from_viewers": true
    },
    "ExecuteTime": {
     "end_time": "2023-12-26T20:59:48.728779Z",
     "start_time": "2023-12-26T20:59:47.668688Z"
    }
   }
  },
  {
   "cell_type": "markdown",
   "source": [
    "Результаты получились выше, чем при обучении модели без интеракций (roc-auc: 0.7783, log-loss: 0.1357)"
   ],
   "metadata": {
    "collapsed": false
   }
  },
  {
   "cell_type": "markdown",
   "source": [
    "### 9. Сравнение с бейзлайном\n",
    "В качестве бейзлайна возьмем модель, всегда выдающую среднее значение таргета на train'е. Посчитаем log-loss и roc-auc и сравним полученными значениями метрик у нашей модели логистической регресии."
   ],
   "attachments": {},
   "metadata": {
    "datalore": {
     "node_id": "sRBFV6fOuIBxSrDO08NizR",
     "type": "MD",
     "hide_input_from_viewers": true,
     "hide_output_from_viewers": true
    }
   }
  },
  {
   "cell_type": "code",
   "source": [
    "baseline_mean_prediction = y_train.mean()\n",
    "baseline_preds = [baseline_mean_prediction] * len(y_test)\n",
    "\n",
    "calc_print_metrics(y_test, baseline_preds)"
   ],
   "execution_count": 49,
   "outputs": [
    {
     "name": "stdout",
     "output_type": "stream",
     "text": [
      "Roc-auc baseline: 0.5\n",
      "Log-loss baseline: 0.15713508448351055\n"
     ]
    }
   ],
   "metadata": {
    "datalore": {
     "node_id": "Di7oEq5syKJ82GgTurRBH6",
     "type": "CODE",
     "hide_input_from_viewers": true,
     "hide_output_from_viewers": true
    },
    "ExecuteTime": {
     "end_time": "2023-12-26T20:51:56.890199Z",
     "start_time": "2023-12-26T20:51:56.379445Z"
    }
   }
  },
  {
   "cell_type": "markdown",
   "source": [
    "Roc auc бейзлайн модели ниже нашей логистической модели, а log loss выше. Значит, у нас получилось обучить модель, побивающую бейзлайн."
   ],
   "attachments": {},
   "metadata": {
    "datalore": {
     "node_id": "Him1vvQlg5id8P0UtsSRpy",
     "type": "MD",
     "hide_input_from_viewers": true,
     "hide_output_from_viewers": true
    }
   }
  }
 ],
 "metadata": {
  "kernelspec": {
   "name": "python3",
   "language": "python",
   "display_name": "Python 3 (ipykernel)"
  },
  "datalore": {
   "computation_mode": "JUPYTER",
   "package_manager": "pip",
   "base_environment": "default",
   "packages": [],
   "report_row_ids": [
    "jo05gh4zR2TECitCjLb9e8",
    "aFHQUuvYnMWETftpcBJu3J",
    "7rpSGy9Uer3p8OXOFaWBhm",
    "n6QfIZLr6Doo5ydjbuDWfV",
    "FgYGkCERXkUVZo8tSjyCXK",
    "HWxG7tDQtuRg9ihyuN8SJI"
   ],
   "version": 3
  }
 },
 "nbformat": 4,
 "nbformat_minor": 4
}
