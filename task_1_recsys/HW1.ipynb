{
 "cells": [
  {
   "cell_type": "markdown",
   "metadata": {},
   "source": [
    "# Feature Analysis"
   ]
  },
  {
   "cell_type": "code",
   "execution_count": 1,
   "metadata": {
    "execution": {
     "iopub.execute_input": "2023-11-23T19:16:33.955448Z",
     "iopub.status.busy": "2023-11-23T19:16:33.955048Z",
     "iopub.status.idle": "2023-11-23T19:16:34.418885Z",
     "shell.execute_reply": "2023-11-23T19:16:34.417944Z",
     "shell.execute_reply.started": "2023-11-23T19:16:33.955416Z"
    },
    "id": "uVg6FlWlmSx_"
   },
   "outputs": [],
   "source": [
    "import pandas as pd"
   ]
  },
  {
   "cell_type": "code",
   "execution_count": 2,
   "metadata": {
    "execution": {
     "iopub.execute_input": "2023-11-23T19:16:34.421642Z",
     "iopub.status.busy": "2023-11-23T19:16:34.420565Z",
     "iopub.status.idle": "2023-11-23T19:17:48.955309Z",
     "shell.execute_reply": "2023-11-23T19:17:48.954386Z",
     "shell.execute_reply.started": "2023-11-23T19:16:34.421605Z"
    }
   },
   "outputs": [
    {
     "data": {
      "text/html": [
       "<div>\n",
       "<style scoped>\n",
       "    .dataframe tbody tr th:only-of-type {\n",
       "        vertical-align: middle;\n",
       "    }\n",
       "\n",
       "    .dataframe tbody tr th {\n",
       "        vertical-align: top;\n",
       "    }\n",
       "\n",
       "    .dataframe thead th {\n",
       "        text-align: right;\n",
       "    }\n",
       "</style>\n",
       "<table border=\"1\" class=\"dataframe\">\n",
       "  <thead>\n",
       "    <tr style=\"text-align: right;\">\n",
       "      <th></th>\n",
       "      <th>date_time</th>\n",
       "      <th>zone_id</th>\n",
       "      <th>banner_id</th>\n",
       "      <th>oaid_hash</th>\n",
       "      <th>campaign_clicks</th>\n",
       "      <th>os_id</th>\n",
       "      <th>country_id</th>\n",
       "      <th>banner_id0</th>\n",
       "      <th>rate0</th>\n",
       "      <th>g0</th>\n",
       "      <th>coeff_sum0</th>\n",
       "      <th>banner_id1</th>\n",
       "      <th>rate1</th>\n",
       "      <th>g1</th>\n",
       "      <th>coeff_sum1</th>\n",
       "      <th>impressions</th>\n",
       "      <th>clicks</th>\n",
       "    </tr>\n",
       "  </thead>\n",
       "  <tbody>\n",
       "    <tr>\n",
       "      <th>0</th>\n",
       "      <td>2021-09-27 00:01:30.000000</td>\n",
       "      <td>0</td>\n",
       "      <td>0</td>\n",
       "      <td>5664530014561852622</td>\n",
       "      <td>0</td>\n",
       "      <td>0</td>\n",
       "      <td>0</td>\n",
       "      <td>1240</td>\n",
       "      <td>0.067</td>\n",
       "      <td>0.035016</td>\n",
       "      <td>-7.268846</td>\n",
       "      <td>0</td>\n",
       "      <td>0.010</td>\n",
       "      <td>0.049516</td>\n",
       "      <td>-5.369901</td>\n",
       "      <td>1</td>\n",
       "      <td>1</td>\n",
       "    </tr>\n",
       "    <tr>\n",
       "      <th>1</th>\n",
       "      <td>2021-09-26 22:54:49.000000</td>\n",
       "      <td>1</td>\n",
       "      <td>1</td>\n",
       "      <td>5186611064559013950</td>\n",
       "      <td>0</td>\n",
       "      <td>0</td>\n",
       "      <td>1</td>\n",
       "      <td>1</td>\n",
       "      <td>0.002</td>\n",
       "      <td>0.054298</td>\n",
       "      <td>-2.657477</td>\n",
       "      <td>269</td>\n",
       "      <td>0.004</td>\n",
       "      <td>0.031942</td>\n",
       "      <td>-4.449220</td>\n",
       "      <td>1</td>\n",
       "      <td>1</td>\n",
       "    </tr>\n",
       "    <tr>\n",
       "      <th>2</th>\n",
       "      <td>2021-09-26 23:57:20.000000</td>\n",
       "      <td>2</td>\n",
       "      <td>2</td>\n",
       "      <td>2215519569292448030</td>\n",
       "      <td>3</td>\n",
       "      <td>0</td>\n",
       "      <td>0</td>\n",
       "      <td>2</td>\n",
       "      <td>0.014</td>\n",
       "      <td>0.014096</td>\n",
       "      <td>-3.824875</td>\n",
       "      <td>21</td>\n",
       "      <td>0.014</td>\n",
       "      <td>0.014906</td>\n",
       "      <td>-3.939309</td>\n",
       "      <td>1</td>\n",
       "      <td>1</td>\n",
       "    </tr>\n",
       "    <tr>\n",
       "      <th>3</th>\n",
       "      <td>2021-09-27 00:04:30.000000</td>\n",
       "      <td>3</td>\n",
       "      <td>3</td>\n",
       "      <td>6262169206735077204</td>\n",
       "      <td>0</td>\n",
       "      <td>1</td>\n",
       "      <td>1</td>\n",
       "      <td>3</td>\n",
       "      <td>0.012</td>\n",
       "      <td>0.015232</td>\n",
       "      <td>-3.461357</td>\n",
       "      <td>99</td>\n",
       "      <td>0.006</td>\n",
       "      <td>0.050671</td>\n",
       "      <td>-3.418403</td>\n",
       "      <td>1</td>\n",
       "      <td>1</td>\n",
       "    </tr>\n",
       "    <tr>\n",
       "      <th>4</th>\n",
       "      <td>2021-09-27 00:06:21.000000</td>\n",
       "      <td>4</td>\n",
       "      <td>4</td>\n",
       "      <td>4778985830203613115</td>\n",
       "      <td>0</td>\n",
       "      <td>1</td>\n",
       "      <td>0</td>\n",
       "      <td>4</td>\n",
       "      <td>0.019</td>\n",
       "      <td>0.051265</td>\n",
       "      <td>-4.009026</td>\n",
       "      <td>11464230</td>\n",
       "      <td>6.790</td>\n",
       "      <td>0.032005</td>\n",
       "      <td>-2.828797</td>\n",
       "      <td>1</td>\n",
       "      <td>1</td>\n",
       "    </tr>\n",
       "  </tbody>\n",
       "</table>\n",
       "</div>"
      ],
      "text/plain": [
       "                    date_time  zone_id  banner_id            oaid_hash  \\\n",
       "0  2021-09-27 00:01:30.000000        0          0  5664530014561852622   \n",
       "1  2021-09-26 22:54:49.000000        1          1  5186611064559013950   \n",
       "2  2021-09-26 23:57:20.000000        2          2  2215519569292448030   \n",
       "3  2021-09-27 00:04:30.000000        3          3  6262169206735077204   \n",
       "4  2021-09-27 00:06:21.000000        4          4  4778985830203613115   \n",
       "\n",
       "   campaign_clicks  os_id  country_id  banner_id0  rate0        g0  \\\n",
       "0                0      0           0        1240  0.067  0.035016   \n",
       "1                0      0           1           1  0.002  0.054298   \n",
       "2                3      0           0           2  0.014  0.014096   \n",
       "3                0      1           1           3  0.012  0.015232   \n",
       "4                0      1           0           4  0.019  0.051265   \n",
       "\n",
       "   coeff_sum0  banner_id1  rate1        g1  coeff_sum1  impressions  clicks  \n",
       "0   -7.268846           0  0.010  0.049516   -5.369901            1       1  \n",
       "1   -2.657477         269  0.004  0.031942   -4.449220            1       1  \n",
       "2   -3.824875          21  0.014  0.014906   -3.939309            1       1  \n",
       "3   -3.461357          99  0.006  0.050671   -3.418403            1       1  \n",
       "4   -4.009026    11464230  6.790  0.032005   -2.828797            1       1  "
      ]
     },
     "execution_count": 2,
     "metadata": {},
     "output_type": "execute_result"
    }
   ],
   "source": [
    "data = pd.read_csv('/kaggle/input/ad-clicks/data.csv')\n",
    "data.head()"
   ]
  },
  {
   "cell_type": "code",
   "execution_count": 3,
   "metadata": {
    "execution": {
     "iopub.execute_input": "2023-11-23T19:17:48.957495Z",
     "iopub.status.busy": "2023-11-23T19:17:48.956914Z",
     "iopub.status.idle": "2023-11-23T19:17:49.537692Z",
     "shell.execute_reply": "2023-11-23T19:17:49.536431Z",
     "shell.execute_reply.started": "2023-11-23T19:17:48.957458Z"
    },
    "id": "LbtMxvFqmSyA"
   },
   "outputs": [],
   "source": [
    "# удалим лишние колонки\n",
    "data = data.drop(columns = ['oaid_hash', 'banner_id0', 'banner_id1', 'rate0', 'rate1', 'g0', 'g1', 'coeff_sum0', 'coeff_sum1'])"
   ]
  },
  {
   "cell_type": "code",
   "execution_count": 4,
   "metadata": {
    "execution": {
     "iopub.execute_input": "2023-11-23T19:17:49.540776Z",
     "iopub.status.busy": "2023-11-23T19:17:49.540393Z",
     "iopub.status.idle": "2023-11-23T19:17:49.548387Z",
     "shell.execute_reply": "2023-11-23T19:17:49.547028Z",
     "shell.execute_reply.started": "2023-11-23T19:17:49.540741Z"
    }
   },
   "outputs": [],
   "source": [
    "import matplotlib.pyplot as plt\n",
    "\n",
    "def analysis(data: pd.DataFrame):\n",
    "    fig, ax = plt.subplots(2, 3, figsize=(15, 6))\n",
    "    for i, feature in enumerate(['clicks', 'country_id', 'zone_id', 'os_id', 'campaign_clicks', 'impressions']):\n",
    "        x, y = divmod(i, 3)\n",
    "        data[feature].plot.hist(ax=ax[x][y], ylabel='', title=feature, color='skyblue', logy=True)\n",
    "\n"
   ]
  },
  {
   "cell_type": "code",
   "execution_count": 20,
   "metadata": {
    "execution": {
     "iopub.execute_input": "2023-11-23T19:31:49.428715Z",
     "iopub.status.busy": "2023-11-23T19:31:49.428233Z",
     "iopub.status.idle": "2023-11-23T19:31:58.596583Z",
     "shell.execute_reply": "2023-11-23T19:31:58.595398Z",
     "shell.execute_reply.started": "2023-11-23T19:31:49.428681Z"
    }
   },
   "outputs": [
    {
     "data": {
      "image/png": "[encoded data removed]",
      "text/plain": [
       "<Figure size 1500x600 with 6 Axes>"
      ]
     },
     "metadata": {},
     "output_type": "display_data"
    }
   ],
   "source": [
    "analysis(data)"
   ]
  },
  {
   "cell_type": "markdown",
   "metadata": {},
   "source": [
    "+ Видим, что impressions имеют только одно значение, поэтому их можно удалить.\n",
    "+ Таргет-переменная clicks сильно несбалансирована. Возможно, стоит использовать балансировку весов, а также в качестве оценки моделей использовать f1 и ROC AUC.\n",
    "+ У campaign_clicks нулевых значений сильно больше, чем ненулевых, следовательно, можно трансформировать в бинарную фичу\n",
    "+ os_id со значениями больше 6 встречается редко, можно объединить в одну категорию\n",
    "+ Аналогично с редкими значениями zone_id"
   ]
  },
  {
   "cell_type": "markdown",
   "metadata": {},
   "source": [
    "# Feature Engineering"
   ]
  },
  {
   "cell_type": "code",
   "execution_count": 6,
   "metadata": {
    "execution": {
     "iopub.execute_input": "2023-11-23T19:17:59.047636Z",
     "iopub.status.busy": "2023-11-23T19:17:59.047171Z",
     "iopub.status.idle": "2023-11-23T19:17:59.718259Z",
     "shell.execute_reply": "2023-11-23T19:17:59.716764Z",
     "shell.execute_reply.started": "2023-11-23T19:17:59.047591Z"
    }
   },
   "outputs": [],
   "source": [
    "from sklearn.preprocessing import OneHotEncoder\n",
    "\n",
    "def feature_engineering(data: pd.DataFrame) -> pd.DataFrame:\n",
    "    # удаляем impressions\n",
    "    data = data.drop('impressions', axis = 1)\n",
    "    \n",
    "    # создаем фичи от времени\n",
    "    data.date_time = pd.to_datetime(data.date_time)\n",
    "    data['day'] = data['date_time'].dt.weekday\n",
    "    data['hour'] = data['date_time'].dt.hour\n",
    "    \n",
    "    # строим графики зависимости количества кликов от дня недели и часа\n",
    "    data[data['clicks'] > 0].sort_values(by = ['day']).groupby(['day'])['clicks'].sum().plot.barh(title='Clicks by weekday')\n",
    "    plt.show()\n",
    "    data[data['clicks'] > 0].sort_values(by = ['hour']).groupby(['hour'])['clicks'].sum().plot.barh(title='Clicks by hour')\n",
    "\n",
    "    # добавляем интерсекции между часом и днем недели \n",
    "    data['hour_day'] = data['day'].astype(str) + ' ' + data['hour'].astype(str)\n",
    "    data['hour_day'] = pd.factorize(data['hour_day'])[0]\n",
    "    \n",
    "    # выделяем редкие zone id в категорию -1\n",
    "    zone_id_counts = data['zone_id'].value_counts()\n",
    "    idxs = zone_id_counts[zone_id_counts < 10].index\n",
    "    \n",
    "    data.loc[data['zone_id'].isin(idxs), 'zone_id'] = -1\n",
    "    \n",
    "    # выделяем редкие os_id в категорию 7\n",
    "    data.loc[data['os_id'] > 7, 'os_id'] = 7\n",
    "    \n",
    "    # преобразовываем campaign clicks в бинарную фичу\n",
    "    data['before_clicks'] = data['campaign_clicks'] > 0\n",
    "    data['before_clicks'] = data['before_clicks'].astype('int64')\n",
    "    \n",
    "    # делим выборку на train и test\n",
    "    data = data.sort_values(by='date_time', ignore_index=True)\n",
    "    cut_off_val = data[data['date_time'] < pd.to_datetime('2021-10-01')].index[-1]\n",
    "    cut_off_test = data[data['date_time'] < pd.to_datetime('2021-10-02')].index[-1]\n",
    "\n",
    "    y = data['clicks']\n",
    "    data = data.drop(columns = ['banner_id', 'clicks', 'campaign_clicks', 'date_time'])\n",
    "    data_train, data_test = data.iloc[:cut_off_test, :], data.iloc[cut_off_test:, :]\n",
    "    y_train, y_test = y.iloc[:cut_off_test], y.iloc[cut_off_test:]\n",
    "    \n",
    "    # делаем one hot encodings\n",
    "    enc = OneHotEncoder(drop='first', handle_unknown='ignore')\n",
    "    enc.fit(data_train)\n",
    "    transformed_train = enc.transform(data_train)\n",
    "    transformed_test = enc.transform(data_test)\n",
    "    \n",
    "    return transformed_train, transformed_test, y_train, y_test,cut_off_val"
   ]
  },
  {
   "cell_type": "code",
   "execution_count": 7,
   "metadata": {
    "execution": {
     "iopub.execute_input": "2023-11-23T19:17:59.720278Z",
     "iopub.status.busy": "2023-11-23T19:17:59.719782Z",
     "iopub.status.idle": "2023-11-23T19:19:24.815127Z",
     "shell.execute_reply": "2023-11-23T19:19:24.813834Z",
     "shell.execute_reply.started": "2023-11-23T19:17:59.720243Z"
    }
   },
   "outputs": [
    {
     "data": {
      "image/png": "[encoded data removed]",
      "text/plain": [
       "<Figure size 640x480 with 1 Axes>"
      ]
     },
     "metadata": {},
     "output_type": "display_data"
    },
    {
     "name": "stderr",
     "output_type": "stream",
     "text": [
      "/opt/conda/lib/python3.10/site-packages/sklearn/preprocessing/_encoders.py:202: UserWarning: Found unknown categories in columns [0, 3, 6] during transform. These unknown categories will be encoded as all zeros\n",
      "  warnings.warn(\n"
     ]
    },
    {
     "data": {
      "image/png": "[encoded data removed]",
      "text/plain": [
       "<Figure size 640x480 with 1 Axes>"
      ]
     },
     "metadata": {},
     "output_type": "display_data"
    }
   ],
   "source": [
    "transformed_train_all, transformed_test, y_train_all, y_test, cut_off_val = feature_engineering(data)"
   ]
  },
  {
   "cell_type": "code",
   "execution_count": 8,
   "metadata": {
    "execution": {
     "iopub.execute_input": "2023-11-23T19:19:24.818270Z",
     "iopub.status.busy": "2023-11-23T19:19:24.817274Z",
     "iopub.status.idle": "2023-11-23T19:19:25.997063Z",
     "shell.execute_reply": "2023-11-23T19:19:25.995972Z",
     "shell.execute_reply.started": "2023-11-23T19:19:24.818224Z"
    }
   },
   "outputs": [],
   "source": [
    "transformed_train, transformed_val = transformed_train_all[:cut_off_val], transformed_train_all[cut_off_val:]\n",
    "y_train, y_val = y_train_all[:cut_off_val], y_train_all[cut_off_val:]"
   ]
  },
  {
   "cell_type": "markdown",
   "metadata": {},
   "source": [
    "+ Увидели, что количество кликов меняется в зависимости от дня недели и часа, добавим в качестве фичей\n",
    "+ Также, добавим интеракции между этими двумя переменными, так как в разные дни недели разные часы могут по-разному влиять на колличество кликов\n",
    "+ banner_id удалила, так как предполагаю, что модель должна уметь предсказывать клики для новых баннеров тоже.\n",
    "+ Так как все оставшиеся фичи являются категориальными, сделали one-hot-encoding\n",
    "\n",
    "\n",
    "+ В качестве теста берем последний день датасета, в качестве валидации -- предпоследний"
   ]
  },
  {
   "cell_type": "markdown",
   "metadata": {},
   "source": [
    "# Create Model"
   ]
  },
  {
   "cell_type": "code",
   "execution_count": 9,
   "metadata": {
    "execution": {
     "iopub.execute_input": "2023-11-23T19:19:26.000443Z",
     "iopub.status.busy": "2023-11-23T19:19:25.999224Z",
     "iopub.status.idle": "2023-11-23T19:19:26.217094Z",
     "shell.execute_reply": "2023-11-23T19:19:26.215935Z",
     "shell.execute_reply.started": "2023-11-23T19:19:26.000392Z"
    }
   },
   "outputs": [],
   "source": [
    "from sklearn.linear_model import LogisticRegression\n",
    "from sklearn.metrics import roc_auc_score, log_loss, f1_score"
   ]
  },
  {
   "cell_type": "code",
   "execution_count": 10,
   "metadata": {
    "execution": {
     "iopub.execute_input": "2023-11-23T19:19:26.222054Z",
     "iopub.status.busy": "2023-11-23T19:19:26.221616Z",
     "iopub.status.idle": "2023-11-23T19:19:26.227690Z",
     "shell.execute_reply": "2023-11-23T19:19:26.226459Z",
     "shell.execute_reply.started": "2023-11-23T19:19:26.222020Z"
    }
   },
   "outputs": [],
   "source": [
    "def create_model(C):\n",
    "    clf = LogisticRegression(solver='newton-cholesky', max_iter=10000, C=C, verbose=1)\n",
    "    return clf"
   ]
  },
  {
   "cell_type": "markdown",
   "metadata": {},
   "source": [
    "Возьмем логистическую регрессию, в качестве солвера берем newton-cholesky, так как в документации sklearn сказано, что он лучше работает с one-hot-encoded фичами."
   ]
  },
  {
   "cell_type": "markdown",
   "metadata": {},
   "source": [
    "# Cross Validation"
   ]
  },
  {
   "cell_type": "code",
   "execution_count": 11,
   "metadata": {
    "execution": {
     "iopub.execute_input": "2023-11-23T19:19:26.230989Z",
     "iopub.status.busy": "2023-11-23T19:19:26.229772Z",
     "iopub.status.idle": "2023-11-23T19:19:26.241434Z",
     "shell.execute_reply": "2023-11-23T19:19:26.240059Z",
     "shell.execute_reply.started": "2023-11-23T19:19:26.230905Z"
    }
   },
   "outputs": [],
   "source": [
    "def cv(data_train: pd.DataFrame, data_val, y_train, y_val):\n",
    "    best_score = 0.5\n",
    "    best_C = 0.1\n",
    "    for C in [0.001, 0.01, 0.1, 1, 10]:\n",
    "        clf = create_model(C)\n",
    "        clf.fit(data_train, y_train)\n",
    "        y_pred_probs = clf.predict_proba(data_val)\n",
    "        score = roc_auc_score(y_val, y_pred_probs[:, 1])\n",
    "        if score > best_score:\n",
    "            best_score = score\n",
    "            best_C = C\n",
    "            \n",
    "    best_model = create_model(best_C)\n",
    "    return best_model\n",
    "    "
   ]
  },
  {
   "cell_type": "code",
   "execution_count": 12,
   "metadata": {
    "execution": {
     "iopub.execute_input": "2023-11-23T19:19:26.243885Z",
     "iopub.status.busy": "2023-11-23T19:19:26.243118Z",
     "iopub.status.idle": "2023-11-23T19:24:29.679103Z",
     "shell.execute_reply": "2023-11-23T19:24:29.677903Z",
     "shell.execute_reply.started": "2023-11-23T19:19:26.243839Z"
    }
   },
   "outputs": [
    {
     "name": "stdout",
     "output_type": "stream",
     "text": [
      "Newton iter=1\n",
      "  Check Convergence\n",
      "    1. max |gradient| 0.1063648625916503 <= 0.0001\n",
      "Newton iter=2\n",
      "  Check Convergence\n",
      "    1. max |gradient| 0.032021899550086115 <= 0.0001\n",
      "Newton iter=3\n",
      "  Check Convergence\n",
      "    1. max |gradient| 0.008080989031014613 <= 0.0001\n",
      "Newton iter=4\n",
      "  Check Convergence\n",
      "    1. max |gradient| 0.0013102082005027667 <= 0.0001\n",
      "Newton iter=5\n",
      "  Check Convergence\n",
      "    1. max |gradient| 7.776746888183003e-05 <= 0.0001\n",
      "    2. Newton decrement 9.028626984614271e-05 <= 0.0001\n",
      "  Solver did converge at loss = 0.10460058522104466.\n",
      "Newton iter=1\n",
      "  Check Convergence\n",
      "    1. max |gradient| 0.10641962963673915 <= 0.0001\n",
      "Newton iter=2\n",
      "  Check Convergence\n",
      "    1. max |gradient| 0.032123041858348154 <= 0.0001\n",
      "Newton iter=3\n",
      "  Check Convergence\n",
      "    1. max |gradient| 0.008255448824912328 <= 0.0001\n",
      "Newton iter=4\n",
      "  Check Convergence\n",
      "    1. max |gradient| 0.0014739162147221977 <= 0.0001\n",
      "Newton iter=5\n",
      "  Check Convergence\n",
      "    1. max |gradient| 0.00013195021330640838 <= 0.0001\n",
      "Newton iter=6\n",
      "  Check Convergence\n",
      "    1. max |gradient| 4.6668448271609075e-06 <= 0.0001\n",
      "    2. Newton decrement 5.718388661864134e-06 <= 0.0001\n",
      "  Solver did converge at loss = 0.10340615970917008.\n",
      "Newton iter=1\n",
      "  Check Convergence\n",
      "    1. max |gradient| 0.10644258287847555 <= 0.0001\n",
      "Newton iter=2\n",
      "  Check Convergence\n",
      "    1. max |gradient| 0.03217002188238102 <= 0.0001\n",
      "Newton iter=3\n",
      "  Check Convergence\n",
      "    1. max |gradient| 0.00832985789289582 <= 0.0001\n",
      "Newton iter=4\n",
      "  Check Convergence\n",
      "    1. max |gradient| 0.00154664870144852 <= 0.0001\n",
      "Newton iter=5\n",
      "  Check Convergence\n",
      "    1. max |gradient| 0.0001619775239214986 <= 0.0001\n",
      "Newton iter=6\n",
      "  Check Convergence\n",
      "    1. max |gradient| 1.1220270936324838e-05 <= 0.0001\n",
      "    2. Newton decrement 1.372990701118108e-05 <= 0.0001\n",
      "  Solver did converge at loss = 0.10287386189577884.\n",
      "Newton iter=1\n",
      "  Check Convergence\n",
      "    1. max |gradient| 0.10644941115086615 <= 0.0001\n",
      "Newton iter=2\n",
      "  Check Convergence\n",
      "    1. max |gradient| 0.03218599910965592 <= 0.0001\n",
      "Newton iter=3\n",
      "  Check Convergence\n",
      "    1. max |gradient| 0.008355594461853917 <= 0.0001\n",
      "Newton iter=4\n",
      "  Check Convergence\n",
      "    1. max |gradient| 0.001571301150069134 <= 0.0001\n",
      "Newton iter=5\n",
      "  Check Convergence\n",
      "    1. max |gradient| 0.00017352143040249535 <= 0.0001\n",
      "Newton iter=6\n",
      "  Check Convergence\n",
      "    1. max |gradient| 1.4658234388876574e-05 <= 0.0001\n",
      "    2. Newton decrement 1.7915466399568838e-05 <= 0.0001\n",
      "  Solver did converge at loss = 0.10269111543478954.\n",
      "Newton iter=1\n",
      "  Check Convergence\n",
      "    1. max |gradient| 0.10645129384038168 <= 0.0001\n",
      "Newton iter=2\n",
      "  Check Convergence\n",
      "    1. max |gradient| 0.0321910670380135 <= 0.0001\n",
      "Newton iter=3\n",
      "  Check Convergence\n",
      "    1. max |gradient| 0.008364204462808193 <= 0.0001\n",
      "Newton iter=4\n",
      "  Check Convergence\n",
      "    1. max |gradient| 0.0015797221013037295 <= 0.0001\n",
      "Newton iter=5\n",
      "  Check Convergence\n",
      "    1. max |gradient| 0.00017760268061551245 <= 0.0001\n",
      "Newton iter=6\n",
      "  Check Convergence\n",
      "    1. max |gradient| 1.590208128010441e-05 <= 0.0001\n",
      "    2. Newton decrement 1.9458657010141715e-05 <= 0.0001\n",
      "  Solver did converge at loss = 0.10263372715643804.\n"
     ]
    }
   ],
   "source": [
    "clf = cv(transformed_train, transformed_val, y_train, y_val)"
   ]
  },
  {
   "cell_type": "markdown",
   "metadata": {},
   "source": [
    "Обучаем лучшую модель заново на тренировочном и валидационном датасете."
   ]
  },
  {
   "cell_type": "code",
   "execution_count": 16,
   "metadata": {
    "execution": {
     "iopub.execute_input": "2023-11-23T19:26:18.563104Z",
     "iopub.status.busy": "2023-11-23T19:26:18.562654Z",
     "iopub.status.idle": "2023-11-23T19:27:16.547602Z",
     "shell.execute_reply": "2023-11-23T19:27:16.546448Z",
     "shell.execute_reply.started": "2023-11-23T19:26:18.563072Z"
    }
   },
   "outputs": [
    {
     "name": "stdout",
     "output_type": "stream",
     "text": [
      "Newton iter=1\n",
      "  Check Convergence\n",
      "    1. max |gradient| 0.10520974411280964 <= 0.0001\n",
      "Newton iter=2\n",
      "  Check Convergence\n",
      "    1. max |gradient| 0.031327756613435634 <= 0.0001\n",
      "Newton iter=3\n",
      "  Check Convergence\n",
      "    1. max |gradient| 0.00784867934427151 <= 0.0001\n",
      "Newton iter=4\n",
      "  Check Convergence\n",
      "    1. max |gradient| 0.0013155474095837248 <= 0.0001\n",
      "Newton iter=5\n",
      "  Check Convergence\n",
      "    1. max |gradient| 8.148622751622011e-05 <= 0.0001\n",
      "    2. Newton decrement 9.445456085748602e-05 <= 0.0001\n",
      "  Solver did converge at loss = 0.11116396203705046.\n"
     ]
    },
    {
     "data": {
      "text/html": [
       "<style>#sk-container-id-2 {color: black;background-color: white;}#sk-container-id-2 pre{padding: 0;}#sk-container-id-2 div.sk-toggleable {background-color: white;}#sk-container-id-2 label.sk-toggleable__label {cursor: pointer;display: block;width: 100%;margin-bottom: 0;padding: 0.3em;box-sizing: border-box;text-align: center;}#sk-container-id-2 label.sk-toggleable__label-arrow:before {content: \"▸\";float: left;margin-right: 0.25em;color: #696969;}#sk-container-id-2 label.sk-toggleable__label-arrow:hover:before {color: black;}#sk-container-id-2 div.sk-estimator:hover label.sk-toggleable__label-arrow:before {color: black;}#sk-container-id-2 div.sk-toggleable__content {max-height: 0;max-width: 0;overflow: hidden;text-align: left;background-color: #f0f8ff;}#sk-container-id-2 div.sk-toggleable__content pre {margin: 0.2em;color: black;border-radius: 0.25em;background-color: #f0f8ff;}#sk-container-id-2 input.sk-toggleable__control:checked~div.sk-toggleable__content {max-height: 200px;max-width: 100%;overflow: auto;}#sk-container-id-2 input.sk-toggleable__control:checked~label.sk-toggleable__label-arrow:before {content: \"▾\";}#sk-container-id-2 div.sk-estimator input.sk-toggleable__control:checked~label.sk-toggleable__label {background-color: #d4ebff;}#sk-container-id-2 div.sk-label input.sk-toggleable__control:checked~label.sk-toggleable__label {background-color: #d4ebff;}#sk-container-id-2 input.sk-hidden--visually {border: 0;clip: rect(1px 1px 1px 1px);clip: rect(1px, 1px, 1px, 1px);height: 1px;margin: -1px;overflow: hidden;padding: 0;position: absolute;width: 1px;}#sk-container-id-2 div.sk-estimator {font-family: monospace;background-color: #f0f8ff;border: 1px dotted black;border-radius: 0.25em;box-sizing: border-box;margin-bottom: 0.5em;}#sk-container-id-2 div.sk-estimator:hover {background-color: #d4ebff;}#sk-container-id-2 div.sk-parallel-item::after {content: \"\";width: 100%;border-bottom: 1px solid gray;flex-grow: 1;}#sk-container-id-2 div.sk-label:hover label.sk-toggleable__label {background-color: #d4ebff;}#sk-container-id-2 div.sk-serial::before {content: \"\";position: absolute;border-left: 1px solid gray;box-sizing: border-box;top: 0;bottom: 0;left: 50%;z-index: 0;}#sk-container-id-2 div.sk-serial {display: flex;flex-direction: column;align-items: center;background-color: white;padding-right: 0.2em;padding-left: 0.2em;position: relative;}#sk-container-id-2 div.sk-item {position: relative;z-index: 1;}#sk-container-id-2 div.sk-parallel {display: flex;align-items: stretch;justify-content: center;background-color: white;position: relative;}#sk-container-id-2 div.sk-item::before, #sk-container-id-2 div.sk-parallel-item::before {content: \"\";position: absolute;border-left: 1px solid gray;box-sizing: border-box;top: 0;bottom: 0;left: 50%;z-index: -1;}#sk-container-id-2 div.sk-parallel-item {display: flex;flex-direction: column;z-index: 1;position: relative;background-color: white;}#sk-container-id-2 div.sk-parallel-item:first-child::after {align-self: flex-end;width: 50%;}#sk-container-id-2 div.sk-parallel-item:last-child::after {align-self: flex-start;width: 50%;}#sk-container-id-2 div.sk-parallel-item:only-child::after {width: 0;}#sk-container-id-2 div.sk-dashed-wrapped {border: 1px dashed gray;margin: 0 0.4em 0.5em 0.4em;box-sizing: border-box;padding-bottom: 0.4em;background-color: white;}#sk-container-id-2 div.sk-label label {font-family: monospace;font-weight: bold;display: inline-block;line-height: 1.2em;}#sk-container-id-2 div.sk-label-container {text-align: center;}#sk-container-id-2 div.sk-container {/* jupyter's `normalize.less` sets `[hidden] { display: none; }` but bootstrap.min.css set `[hidden] { display: none !important; }` so we also need the `!important` here to be able to override the default hidden behavior on the sphinx rendered scikit-learn.org. See: https://github.com/scikit-learn/scikit-learn/issues/21755 */display: inline-block !important;position: relative;}#sk-container-id-2 div.sk-text-repr-fallback {display: none;}</style><div id=\"sk-container-id-2\" class=\"sk-top-container\"><div class=\"sk-text-repr-fallback\"><pre>LogisticRegression(C=0.001, max_iter=10000, solver=&#x27;newton-cholesky&#x27;, verbose=1)</pre><b>In a Jupyter environment, please rerun this cell to show the HTML representation or trust the notebook. <br />On GitHub, the HTML representation is unable to render, please try loading this page with nbviewer.org.</b></div><div class=\"sk-container\" hidden><div class=\"sk-item\"><div class=\"sk-estimator sk-toggleable\"><input class=\"sk-toggleable__control sk-hidden--visually\" id=\"sk-estimator-id-2\" type=\"checkbox\" checked><label for=\"sk-estimator-id-2\" class=\"sk-toggleable__label sk-toggleable__label-arrow\">LogisticRegression</label><div class=\"sk-toggleable__content\"><pre>LogisticRegression(C=0.001, max_iter=10000, solver=&#x27;newton-cholesky&#x27;, verbose=1)</pre></div></div></div></div></div>"
      ],
      "text/plain": [
       "LogisticRegression(C=0.001, max_iter=10000, solver='newton-cholesky', verbose=1)"
      ]
     },
     "execution_count": 16,
     "metadata": {},
     "output_type": "execute_result"
    }
   ],
   "source": [
    "clf.fit(transformed_train_all, y_train_all)"
   ]
  },
  {
   "cell_type": "markdown",
   "metadata": {},
   "source": [
    "# Model Evaluation"
   ]
  },
  {
   "cell_type": "code",
   "execution_count": 18,
   "metadata": {
    "execution": {
     "iopub.execute_input": "2023-11-23T19:27:37.483282Z",
     "iopub.status.busy": "2023-11-23T19:27:37.482041Z",
     "iopub.status.idle": "2023-11-23T19:27:37.628033Z",
     "shell.execute_reply": "2023-11-23T19:27:37.626710Z",
     "shell.execute_reply.started": "2023-11-23T19:27:37.483240Z"
    }
   },
   "outputs": [],
   "source": [
    "y_pred_probs = clf.predict_proba(transformed_test)\n",
    "y_pred = clf.predict(transformed_test)"
   ]
  },
  {
   "cell_type": "code",
   "execution_count": 27,
   "metadata": {
    "execution": {
     "iopub.execute_input": "2023-11-23T20:17:26.280915Z",
     "iopub.status.busy": "2023-11-23T20:17:26.280497Z",
     "iopub.status.idle": "2023-11-23T20:17:26.288651Z",
     "shell.execute_reply": "2023-11-23T20:17:26.287795Z",
     "shell.execute_reply.started": "2023-11-23T20:17:26.280882Z"
    }
   },
   "outputs": [
    {
     "data": {
      "text/html": [
       "<style>#sk-container-id-3 {color: black;background-color: white;}#sk-container-id-3 pre{padding: 0;}#sk-container-id-3 div.sk-toggleable {background-color: white;}#sk-container-id-3 label.sk-toggleable__label {cursor: pointer;display: block;width: 100%;margin-bottom: 0;padding: 0.3em;box-sizing: border-box;text-align: center;}#sk-container-id-3 label.sk-toggleable__label-arrow:before {content: \"▸\";float: left;margin-right: 0.25em;color: #696969;}#sk-container-id-3 label.sk-toggleable__label-arrow:hover:before {color: black;}#sk-container-id-3 div.sk-estimator:hover label.sk-toggleable__label-arrow:before {color: black;}#sk-container-id-3 div.sk-toggleable__content {max-height: 0;max-width: 0;overflow: hidden;text-align: left;background-color: #f0f8ff;}#sk-container-id-3 div.sk-toggleable__content pre {margin: 0.2em;color: black;border-radius: 0.25em;background-color: #f0f8ff;}#sk-container-id-3 input.sk-toggleable__control:checked~div.sk-toggleable__content {max-height: 200px;max-width: 100%;overflow: auto;}#sk-container-id-3 input.sk-toggleable__control:checked~label.sk-toggleable__label-arrow:before {content: \"▾\";}#sk-container-id-3 div.sk-estimator input.sk-toggleable__control:checked~label.sk-toggleable__label {background-color: #d4ebff;}#sk-container-id-3 div.sk-label input.sk-toggleable__control:checked~label.sk-toggleable__label {background-color: #d4ebff;}#sk-container-id-3 input.sk-hidden--visually {border: 0;clip: rect(1px 1px 1px 1px);clip: rect(1px, 1px, 1px, 1px);height: 1px;margin: -1px;overflow: hidden;padding: 0;position: absolute;width: 1px;}#sk-container-id-3 div.sk-estimator {font-family: monospace;background-color: #f0f8ff;border: 1px dotted black;border-radius: 0.25em;box-sizing: border-box;margin-bottom: 0.5em;}#sk-container-id-3 div.sk-estimator:hover {background-color: #d4ebff;}#sk-container-id-3 div.sk-parallel-item::after {content: \"\";width: 100%;border-bottom: 1px solid gray;flex-grow: 1;}#sk-container-id-3 div.sk-label:hover label.sk-toggleable__label {background-color: #d4ebff;}#sk-container-id-3 div.sk-serial::before {content: \"\";position: absolute;border-left: 1px solid gray;box-sizing: border-box;top: 0;bottom: 0;left: 50%;z-index: 0;}#sk-container-id-3 div.sk-serial {display: flex;flex-direction: column;align-items: center;background-color: white;padding-right: 0.2em;padding-left: 0.2em;position: relative;}#sk-container-id-3 div.sk-item {position: relative;z-index: 1;}#sk-container-id-3 div.sk-parallel {display: flex;align-items: stretch;justify-content: center;background-color: white;position: relative;}#sk-container-id-3 div.sk-item::before, #sk-container-id-3 div.sk-parallel-item::before {content: \"\";position: absolute;border-left: 1px solid gray;box-sizing: border-box;top: 0;bottom: 0;left: 50%;z-index: -1;}#sk-container-id-3 div.sk-parallel-item {display: flex;flex-direction: column;z-index: 1;position: relative;background-color: white;}#sk-container-id-3 div.sk-parallel-item:first-child::after {align-self: flex-end;width: 50%;}#sk-container-id-3 div.sk-parallel-item:last-child::after {align-self: flex-start;width: 50%;}#sk-container-id-3 div.sk-parallel-item:only-child::after {width: 0;}#sk-container-id-3 div.sk-dashed-wrapped {border: 1px dashed gray;margin: 0 0.4em 0.5em 0.4em;box-sizing: border-box;padding-bottom: 0.4em;background-color: white;}#sk-container-id-3 div.sk-label label {font-family: monospace;font-weight: bold;display: inline-block;line-height: 1.2em;}#sk-container-id-3 div.sk-label-container {text-align: center;}#sk-container-id-3 div.sk-container {/* jupyter's `normalize.less` sets `[hidden] { display: none; }` but bootstrap.min.css set `[hidden] { display: none !important; }` so we also need the `!important` here to be able to override the default hidden behavior on the sphinx rendered scikit-learn.org. See: https://github.com/scikit-learn/scikit-learn/issues/21755 */display: inline-block !important;position: relative;}#sk-container-id-3 div.sk-text-repr-fallback {display: none;}</style><div id=\"sk-container-id-3\" class=\"sk-top-container\"><div class=\"sk-text-repr-fallback\"><pre>LogisticRegression(C=0.001, max_iter=10000, solver=&#x27;newton-cholesky&#x27;, verbose=1)</pre><b>In a Jupyter environment, please rerun this cell to show the HTML representation or trust the notebook. <br />On GitHub, the HTML representation is unable to render, please try loading this page with nbviewer.org.</b></div><div class=\"sk-container\" hidden><div class=\"sk-item\"><div class=\"sk-estimator sk-toggleable\"><input class=\"sk-toggleable__control sk-hidden--visually\" id=\"sk-estimator-id-3\" type=\"checkbox\" checked><label for=\"sk-estimator-id-3\" class=\"sk-toggleable__label sk-toggleable__label-arrow\">LogisticRegression</label><div class=\"sk-toggleable__content\"><pre>LogisticRegression(C=0.001, max_iter=10000, solver=&#x27;newton-cholesky&#x27;, verbose=1)</pre></div></div></div></div></div>"
      ],
      "text/plain": [
       "LogisticRegression(C=0.001, max_iter=10000, solver='newton-cholesky', verbose=1)"
      ]
     },
     "execution_count": 27,
     "metadata": {},
     "output_type": "execute_result"
    }
   ],
   "source": [
    "clf"
   ]
  },
  {
   "cell_type": "markdown",
   "metadata": {},
   "source": [
    "Посчитаем скоры (ROC AUC, log loss и f1 score)."
   ]
  },
  {
   "cell_type": "code",
   "execution_count": 19,
   "metadata": {
    "execution": {
     "iopub.execute_input": "2023-11-23T19:27:40.835042Z",
     "iopub.status.busy": "2023-11-23T19:27:40.834613Z",
     "iopub.status.idle": "2023-11-23T19:27:42.960008Z",
     "shell.execute_reply": "2023-11-23T19:27:42.959176Z",
     "shell.execute_reply.started": "2023-11-23T19:27:40.835008Z"
    }
   },
   "outputs": [
    {
     "name": "stdout",
     "output_type": "stream",
     "text": [
      "log loss: 0.14243308021748258\n",
      "roc auc: 0.7409913049361383\n",
      "f1 score: 0.15336248693460627\n"
     ]
    },
    {
     "data": {
      "image/png": "[encoded data removed]",
      "text/plain": [
       "<Figure size 640x480 with 1 Axes>"
      ]
     },
     "metadata": {},
     "output_type": "display_data"
    }
   ],
   "source": [
    "import numpy as np\n",
    "from sklearn import metrics\n",
    "from sklearn.metrics import roc_auc_score, log_loss, f1_score\n",
    "\n",
    "print('log loss:', log_loss(y_test, y_pred_probs))\n",
    "\n",
    "fpr, tpr, thresholds = metrics.roc_curve(y_test, y_pred_probs[:, 1], pos_label=1)\n",
    "metrics.auc(fpr, tpr)\n",
    "print('roc auc:', metrics.auc(fpr, tpr))\n",
    "\n",
    "optimal_idx = np.argmax(tpr - fpr)\n",
    "optimal_threshold = thresholds[optimal_idx]\n",
    "y_pred_opt = y_pred_probs[:, 1] > optimal_threshold\n",
    "print('f1 score:', f1_score(y_test, y_pred_opt))\n",
    "plt.plot(fpr, tpr)\n",
    "plt.plot(fpr, fpr)\n",
    "plt.title('ROC AUC Curve');"
   ]
  },
  {
   "cell_type": "markdown",
   "metadata": {},
   "source": [
    "Сравним со скорами из бейзлайна. Бейзлайн: предсказываем все нулями"
   ]
  },
  {
   "cell_type": "code",
   "execution_count": 25,
   "metadata": {
    "execution": {
     "iopub.execute_input": "2023-11-23T20:11:32.754312Z",
     "iopub.status.busy": "2023-11-23T20:11:32.753857Z",
     "iopub.status.idle": "2023-11-23T20:11:33.735874Z",
     "shell.execute_reply": "2023-11-23T20:11:33.734721Z",
     "shell.execute_reply.started": "2023-11-23T20:11:32.754274Z"
    }
   },
   "outputs": [
    {
     "name": "stdout",
     "output_type": "stream",
     "text": [
      "baseline auc: 0.5\n",
      "baseline log_loss: 0.15303284409655607\n"
     ]
    }
   ],
   "source": [
    "pred_baseline = np.ones_like(y_test) * y_test.mean()\n",
    "print(\"baseline auc:\", roc_auc_score(y_test, pred_baseline))\n",
    "print(\"baseline log_loss:\", log_loss(y_test, pred_baseline))"
   ]
  },
  {
   "cell_type": "markdown",
   "metadata": {},
   "source": [
    "Видим, что наша модель обгоняет бейзлайн по метрикам ROC AUC и Log Loss."
   ]
  }
 ],
 "metadata": {
  "colab": {
   "provenance": []
  },
  "kaggle": {
   "accelerator": "none",
   "dataSources": [
    {
     "datasetId": 4012891,
     "sourceId": 6982515,
     "sourceType": "datasetVersion"
    }
   ],
   "dockerImageVersionId": 30587,
   "isGpuEnabled": false,
   "isInternetEnabled": true,
   "language": "python",
   "sourceType": "notebook"
  },
  "kernelspec": {
   "display_name": "Python 3 (ipykernel)",
   "language": "python",
   "name": "python3"
  },
  "language_info": {
   "codemirror_mode": {
    "name": "ipython",
    "version": 3
   },
   "file_extension": ".py",
   "mimetype": "text/x-python",
   "name": "python",
   "nbconvert_exporter": "python",
   "pygments_lexer": "ipython3",
   "version": "3.9.13"
  }
 },
 "nbformat": 4,
 "nbformat_minor": 4
}
