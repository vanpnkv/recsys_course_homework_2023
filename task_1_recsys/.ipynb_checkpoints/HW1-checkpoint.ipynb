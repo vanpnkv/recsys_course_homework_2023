{
 "cells": [
  {
   "cell_type": "markdown",
   "metadata": {},
   "source": [
    "# Шахвалиева Юлиана"
   ]
  },
  {
   "cell_type": "markdown",
   "metadata": {},
   "source": [
    "### Импорт необходимых библиотек"
   ]
  },
  {
   "cell_type": "code",
   "execution_count": 1,
   "metadata": {},
   "outputs": [],
   "source": [
    "import pandas as pd\n",
    "import numpy as np\n",
    "import matplotlib.pyplot as plt\n",
    "from sklearn.model_selection import GridSearchCV\n",
    "from sklearn.preprocessing import StandardScaler\n",
    "from sklearn.preprocessing import OneHotEncoder\n",
    "import seaborn as sns\n",
    "from sklearn.metrics import classification_report, roc_auc_score, roc_curve, log_loss\n",
    "from scipy.sparse import hstack\n",
    "from sklearn.linear_model import LogisticRegression\n",
    "import time"
   ]
  },
  {
   "cell_type": "markdown",
   "metadata": {},
   "source": [
    "### Чтение входных данных"
   ]
  },
  {
   "cell_type": "code",
   "execution_count": 2,
   "metadata": {
    "pycharm": {
     "name": "#%%\n"
    }
   },
   "outputs": [
    {
     "data": {
      "text/html": [
       "<div>\n",
       "<style scoped>\n",
       "    .dataframe tbody tr th:only-of-type {\n",
       "        vertical-align: middle;\n",
       "    }\n",
       "\n",
       "    .dataframe tbody tr th {\n",
       "        vertical-align: top;\n",
       "    }\n",
       "\n",
       "    .dataframe thead th {\n",
       "        text-align: right;\n",
       "    }\n",
       "</style>\n",
       "<table border=\"1\" class=\"dataframe\">\n",
       "  <thead>\n",
       "    <tr style=\"text-align: right;\">\n",
       "      <th></th>\n",
       "      <th>date_time</th>\n",
       "      <th>zone_id</th>\n",
       "      <th>banner_id</th>\n",
       "      <th>oaid_hash</th>\n",
       "      <th>campaign_clicks</th>\n",
       "      <th>os_id</th>\n",
       "      <th>country_id</th>\n",
       "      <th>banner_id0</th>\n",
       "      <th>rate0</th>\n",
       "      <th>g0</th>\n",
       "      <th>coeff_sum0</th>\n",
       "      <th>banner_id1</th>\n",
       "      <th>rate1</th>\n",
       "      <th>g1</th>\n",
       "      <th>coeff_sum1</th>\n",
       "      <th>impressions</th>\n",
       "      <th>clicks</th>\n",
       "    </tr>\n",
       "  </thead>\n",
       "  <tbody>\n",
       "    <tr>\n",
       "      <th>0</th>\n",
       "      <td>2021-09-27 00:01:30.000000</td>\n",
       "      <td>0</td>\n",
       "      <td>0</td>\n",
       "      <td>5664530014561852622</td>\n",
       "      <td>0</td>\n",
       "      <td>0</td>\n",
       "      <td>0</td>\n",
       "      <td>1240</td>\n",
       "      <td>0.067</td>\n",
       "      <td>0.035016</td>\n",
       "      <td>-7.268846</td>\n",
       "      <td>0</td>\n",
       "      <td>0.010</td>\n",
       "      <td>0.049516</td>\n",
       "      <td>-5.369901</td>\n",
       "      <td>1</td>\n",
       "      <td>1</td>\n",
       "    </tr>\n",
       "    <tr>\n",
       "      <th>1</th>\n",
       "      <td>2021-09-26 22:54:49.000000</td>\n",
       "      <td>1</td>\n",
       "      <td>1</td>\n",
       "      <td>5186611064559013950</td>\n",
       "      <td>0</td>\n",
       "      <td>0</td>\n",
       "      <td>1</td>\n",
       "      <td>1</td>\n",
       "      <td>0.002</td>\n",
       "      <td>0.054298</td>\n",
       "      <td>-2.657477</td>\n",
       "      <td>269</td>\n",
       "      <td>0.004</td>\n",
       "      <td>0.031942</td>\n",
       "      <td>-4.449220</td>\n",
       "      <td>1</td>\n",
       "      <td>1</td>\n",
       "    </tr>\n",
       "    <tr>\n",
       "      <th>2</th>\n",
       "      <td>2021-09-26 23:57:20.000000</td>\n",
       "      <td>2</td>\n",
       "      <td>2</td>\n",
       "      <td>2215519569292448030</td>\n",
       "      <td>3</td>\n",
       "      <td>0</td>\n",
       "      <td>0</td>\n",
       "      <td>2</td>\n",
       "      <td>0.014</td>\n",
       "      <td>0.014096</td>\n",
       "      <td>-3.824875</td>\n",
       "      <td>21</td>\n",
       "      <td>0.014</td>\n",
       "      <td>0.014906</td>\n",
       "      <td>-3.939309</td>\n",
       "      <td>1</td>\n",
       "      <td>1</td>\n",
       "    </tr>\n",
       "    <tr>\n",
       "      <th>3</th>\n",
       "      <td>2021-09-27 00:04:30.000000</td>\n",
       "      <td>3</td>\n",
       "      <td>3</td>\n",
       "      <td>6262169206735077204</td>\n",
       "      <td>0</td>\n",
       "      <td>1</td>\n",
       "      <td>1</td>\n",
       "      <td>3</td>\n",
       "      <td>0.012</td>\n",
       "      <td>0.015232</td>\n",
       "      <td>-3.461357</td>\n",
       "      <td>99</td>\n",
       "      <td>0.006</td>\n",
       "      <td>0.050671</td>\n",
       "      <td>-3.418403</td>\n",
       "      <td>1</td>\n",
       "      <td>1</td>\n",
       "    </tr>\n",
       "    <tr>\n",
       "      <th>4</th>\n",
       "      <td>2021-09-27 00:06:21.000000</td>\n",
       "      <td>4</td>\n",
       "      <td>4</td>\n",
       "      <td>4778985830203613115</td>\n",
       "      <td>0</td>\n",
       "      <td>1</td>\n",
       "      <td>0</td>\n",
       "      <td>4</td>\n",
       "      <td>0.019</td>\n",
       "      <td>0.051265</td>\n",
       "      <td>-4.009026</td>\n",
       "      <td>11464230</td>\n",
       "      <td>6.790</td>\n",
       "      <td>0.032005</td>\n",
       "      <td>-2.828797</td>\n",
       "      <td>1</td>\n",
       "      <td>1</td>\n",
       "    </tr>\n",
       "  </tbody>\n",
       "</table>\n",
       "</div>"
      ],
      "text/plain": [
       "                    date_time  zone_id  banner_id            oaid_hash  \\\n",
       "0  2021-09-27 00:01:30.000000        0          0  5664530014561852622   \n",
       "1  2021-09-26 22:54:49.000000        1          1  5186611064559013950   \n",
       "2  2021-09-26 23:57:20.000000        2          2  2215519569292448030   \n",
       "3  2021-09-27 00:04:30.000000        3          3  6262169206735077204   \n",
       "4  2021-09-27 00:06:21.000000        4          4  4778985830203613115   \n",
       "\n",
       "   campaign_clicks  os_id  country_id  banner_id0  rate0        g0  \\\n",
       "0                0      0           0        1240  0.067  0.035016   \n",
       "1                0      0           1           1  0.002  0.054298   \n",
       "2                3      0           0           2  0.014  0.014096   \n",
       "3                0      1           1           3  0.012  0.015232   \n",
       "4                0      1           0           4  0.019  0.051265   \n",
       "\n",
       "   coeff_sum0  banner_id1  rate1        g1  coeff_sum1  impressions  clicks  \n",
       "0   -7.268846           0  0.010  0.049516   -5.369901            1       1  \n",
       "1   -2.657477         269  0.004  0.031942   -4.449220            1       1  \n",
       "2   -3.824875          21  0.014  0.014906   -3.939309            1       1  \n",
       "3   -3.461357          99  0.006  0.050671   -3.418403            1       1  \n",
       "4   -4.009026    11464230  6.790  0.032005   -2.828797            1       1  "
      ]
     },
     "execution_count": 2,
     "metadata": {},
     "output_type": "execute_result"
    }
   ],
   "source": [
    "data = pd.read_csv('../data/data.csv')\n",
    "data.head()"
   ]
  },
  {
   "cell_type": "markdown",
   "metadata": {},
   "source": [
    "### Удаление ненужных колонок"
   ]
  },
  {
   "cell_type": "code",
   "execution_count": 3,
   "metadata": {},
   "outputs": [
    {
     "data": {
      "text/html": [
       "<div>\n",
       "<style scoped>\n",
       "    .dataframe tbody tr th:only-of-type {\n",
       "        vertical-align: middle;\n",
       "    }\n",
       "\n",
       "    .dataframe tbody tr th {\n",
       "        vertical-align: top;\n",
       "    }\n",
       "\n",
       "    .dataframe thead th {\n",
       "        text-align: right;\n",
       "    }\n",
       "</style>\n",
       "<table border=\"1\" class=\"dataframe\">\n",
       "  <thead>\n",
       "    <tr style=\"text-align: right;\">\n",
       "      <th></th>\n",
       "      <th>date_time</th>\n",
       "      <th>zone_id</th>\n",
       "      <th>banner_id</th>\n",
       "      <th>campaign_clicks</th>\n",
       "      <th>os_id</th>\n",
       "      <th>country_id</th>\n",
       "      <th>impressions</th>\n",
       "      <th>clicks</th>\n",
       "    </tr>\n",
       "  </thead>\n",
       "  <tbody>\n",
       "    <tr>\n",
       "      <th>0</th>\n",
       "      <td>2021-09-27 00:01:30.000000</td>\n",
       "      <td>0</td>\n",
       "      <td>0</td>\n",
       "      <td>0</td>\n",
       "      <td>0</td>\n",
       "      <td>0</td>\n",
       "      <td>1</td>\n",
       "      <td>1</td>\n",
       "    </tr>\n",
       "    <tr>\n",
       "      <th>1</th>\n",
       "      <td>2021-09-26 22:54:49.000000</td>\n",
       "      <td>1</td>\n",
       "      <td>1</td>\n",
       "      <td>0</td>\n",
       "      <td>0</td>\n",
       "      <td>1</td>\n",
       "      <td>1</td>\n",
       "      <td>1</td>\n",
       "    </tr>\n",
       "    <tr>\n",
       "      <th>2</th>\n",
       "      <td>2021-09-26 23:57:20.000000</td>\n",
       "      <td>2</td>\n",
       "      <td>2</td>\n",
       "      <td>3</td>\n",
       "      <td>0</td>\n",
       "      <td>0</td>\n",
       "      <td>1</td>\n",
       "      <td>1</td>\n",
       "    </tr>\n",
       "    <tr>\n",
       "      <th>3</th>\n",
       "      <td>2021-09-27 00:04:30.000000</td>\n",
       "      <td>3</td>\n",
       "      <td>3</td>\n",
       "      <td>0</td>\n",
       "      <td>1</td>\n",
       "      <td>1</td>\n",
       "      <td>1</td>\n",
       "      <td>1</td>\n",
       "    </tr>\n",
       "    <tr>\n",
       "      <th>4</th>\n",
       "      <td>2021-09-27 00:06:21.000000</td>\n",
       "      <td>4</td>\n",
       "      <td>4</td>\n",
       "      <td>0</td>\n",
       "      <td>1</td>\n",
       "      <td>0</td>\n",
       "      <td>1</td>\n",
       "      <td>1</td>\n",
       "    </tr>\n",
       "  </tbody>\n",
       "</table>\n",
       "</div>"
      ],
      "text/plain": [
       "                    date_time  zone_id  banner_id  campaign_clicks  os_id  \\\n",
       "0  2021-09-27 00:01:30.000000        0          0                0      0   \n",
       "1  2021-09-26 22:54:49.000000        1          1                0      0   \n",
       "2  2021-09-26 23:57:20.000000        2          2                3      0   \n",
       "3  2021-09-27 00:04:30.000000        3          3                0      1   \n",
       "4  2021-09-27 00:06:21.000000        4          4                0      1   \n",
       "\n",
       "   country_id  impressions  clicks  \n",
       "0           0            1       1  \n",
       "1           1            1       1  \n",
       "2           0            1       1  \n",
       "3           1            1       1  \n",
       "4           0            1       1  "
      ]
     },
     "execution_count": 3,
     "metadata": {},
     "output_type": "execute_result"
    }
   ],
   "source": [
    "useless_clmns = ['oaid_hash', 'banner_id0', 'banner_id1', 'rate0', 'rate1', 'g0', 'g1', 'coeff_sum0', 'coeff_sum1']\n",
    "data = data.drop(useless_clmns, axis=1)\n",
    "data.head()"
   ]
  },
  {
   "cell_type": "markdown",
   "metadata": {},
   "source": [
    "### Анализ входных данных"
   ]
  },
  {
   "cell_type": "code",
   "execution_count": 6,
   "metadata": {
    "pycharm": {
     "name": "#%%\n"
    }
   },
   "outputs": [],
   "source": [
    "# Функция для форматирования текста\n",
    "def get_pretty_title(text):\n",
    "    return ('\\033[1m' + text + '\\033[0m').center(55)\n",
    "\n",
    "# Функция для форматирования вывода в консоль\n",
    "def pretty_print(text, values):\n",
    "    print(f'\\n\\n{get_pretty_title(text)}', values, sep='\\n\\n')\n",
    "\n",
    "# Функция для анализа входных данных\n",
    "def analysis(data: pd.DataFrame):  \n",
    "    \n",
    "    # Просмотр типов входных данных\n",
    "    dtypes = data.dtypes\n",
    "    pretty_print('Типы данных:', dtypes)\n",
    "    \n",
    "    # Подсчет описательных статистик для всех признаков\n",
    "    statistics = data.describe()\n",
    "    pretty_print('Описательные статистики:', statistics)\n",
    "    \n",
    "    # Поиск пропусков в данных\n",
    "    nan_values = data.isna().sum()\n",
    "    pretty_print('Пропуски в данных:', nan_values)\n",
    "    \n",
    "    # Подсчет количества дубликатов\n",
    "    count_duplicates = data.duplicated().sum()\n",
    "    pretty_print('Количество дубликатов:', count_duplicates)\n",
    "    \n",
    "    # Распределение целевой переменной по классам\n",
    "    count_target_value = data['clicks'].value_counts()\n",
    "    pretty_print('Распределение целевой переменной:', count_target_value) \n",
    "    \n",
    "    # Корреляционный анализ\n",
    "    features = list(data.columns)\n",
    "    features.remove('date_time')\n",
    "    \n",
    "    print(f'\\n\\n{get_pretty_title(\"Корреляционная матрица\")}')\n",
    "    \n",
    "    plt.figure(figsize=[6, 5])\n",
    "    sns.heatmap(data[features].corr(), vmin=-1, vmax=1, center=0)\n",
    "    plt.show()"
   ]
  },
  {
   "cell_type": "code",
   "execution_count": 5,
   "metadata": {
    "scrolled": false
   },
   "outputs": [
    {
     "name": "stdout",
     "output_type": "stream",
     "text": [
      "\n",
      "\n",
      "                  \u001b[1mТипы данных:\u001b[0m                 \n",
      "\n",
      "date_time          object\n",
      "zone_id             int64\n",
      "banner_id           int64\n",
      "campaign_clicks     int64\n",
      "os_id               int64\n",
      "country_id          int64\n",
      "impressions         int64\n",
      "clicks              int64\n",
      "dtype: object\n",
      "\n",
      "\n",
      "            \u001b[1mОписательные статистики:\u001b[0m           \n",
      "\n",
      "            zone_id     banner_id  campaign_clicks         os_id  \\\n",
      "count  1.582147e+07  1.582147e+07     1.582147e+07  1.582147e+07   \n",
      "mean   8.152679e+01  3.816483e+02     6.238540e-01  1.840605e+00   \n",
      "std    1.632448e+02  3.959386e+02     9.249152e+00  1.530005e+00   \n",
      "min    0.000000e+00  0.000000e+00     0.000000e+00  0.000000e+00   \n",
      "25%    1.400000e+01  5.200000e+01     0.000000e+00  1.000000e+00   \n",
      "50%    1.900000e+01  2.170000e+02     0.000000e+00  2.000000e+00   \n",
      "75%    6.000000e+01  6.110000e+02     0.000000e+00  3.000000e+00   \n",
      "max    3.443000e+03  1.632000e+03     8.290000e+02  1.000000e+01   \n",
      "\n",
      "         country_id  impressions        clicks  \n",
      "count  1.582147e+07   15821472.0  1.582147e+07  \n",
      "mean   4.346986e+00          1.0  2.668835e-02  \n",
      "std    4.317701e+00          0.0  1.611710e-01  \n",
      "min    0.000000e+00          1.0  0.000000e+00  \n",
      "25%    0.000000e+00          1.0  0.000000e+00  \n",
      "50%    4.000000e+00          1.0  0.000000e+00  \n",
      "75%    7.000000e+00          1.0  0.000000e+00  \n",
      "max    1.600000e+01          1.0  1.000000e+00  \n",
      "\n",
      "\n",
      "               \u001b[1mПропуски в данных:\u001b[0m              \n",
      "\n",
      "date_time          0\n",
      "zone_id            0\n",
      "banner_id          0\n",
      "campaign_clicks    0\n",
      "os_id              0\n",
      "country_id         0\n",
      "impressions        0\n",
      "clicks             0\n",
      "dtype: int64\n",
      "\n",
      "\n",
      "             \u001b[1mКоличество дубликатов:\u001b[0m            \n",
      "\n",
      "620039\n",
      "\n",
      "\n",
      "       \u001b[1mРаспределение целевой переменной:\u001b[0m       \n",
      "\n",
      "0    15399223\n",
      "1      422249\n",
      "Name: clicks, dtype: int64\n",
      "\n",
      "\n",
      "             \u001b[1mКорреляционная матрица\u001b[0m            \n"
     ]
    },
    {
     "data": {
      "image/png": "[encoded data removed]",
      "text/plain": [
       "<Figure size 600x500 with 2 Axes>"
      ]
     },
     "metadata": {},
     "output_type": "display_data"
    }
   ],
   "source": [
    "# Применение функции для анализа входных данных\n",
    "analysis(data)"
   ]
  },
  {
   "cell_type": "markdown",
   "metadata": {},
   "source": [
    "#### Выводы из проведенного анализа: \n",
    "+ Все признаки, кроме одного имеют целочисленный тип данных. Тип признака `data_time` при дальнейшем препроцессинге необходимо поменять;\n",
    "+ Все признаки кроме `data_time`, `impressions`, `clicks` - категориальные. Для работы с ними необходимо будет применить процедуру one-hot encoding;\n",
    "+ Признак `impressions` везде имеет значение `1`, поэтому перед построением модели его необходимо удалить;\n",
    "+ Количество входнных данных: `15821472`;\n",
    "+ В данных нет пропусков;\n",
    "+ В данных присутствуют `620039` одинаковых записей, от них необходимо избавиться;\n",
    "+ Целевая переменная распределена неравномерно, предсставителей одного класса сильно больше, чем представителей другого, это необходимо учитывать при построении модели;\n",
    "+ Корреляционная матрица подтверждает необходимость удаления признака `impressions`, оставшиеся признаки имеют низкую корреляцию между собой, то есть их можно считать независимыми."
   ]
  },
  {
   "cell_type": "markdown",
   "metadata": {},
   "source": [
    "### Предобработка данных"
   ]
  },
  {
   "cell_type": "code",
   "execution_count": 4,
   "metadata": {
    "pycharm": {
     "name": "#%%\n"
    }
   },
   "outputs": [],
   "source": [
    "# Функция для построения фичей и разделения выборки на тренировочную и тестовую части\n",
    "def feature_engineering(data: pd.DataFrame) -> pd.DataFrame:\n",
    "    # Изменение типа признака date_time\n",
    "    data['date_time'] = pd.to_datetime(data['date_time'])\n",
    "    \n",
    "    # Удаление признака impressions\n",
    "    data = data.drop(['impressions'], axis=1)\n",
    "    \n",
    "    # Удаление дубликатов\n",
    "    data = data.drop_duplicates()\n",
    "    \n",
    "    # Создание фичей на основе признака date_time: категориальный признак, отвечающий за день недели \n",
    "    # и категориальный признак, отвечающий за время суток: утро, день, вечер, ночь\n",
    "    data['day'] = data['date_time'].dt.dayofweek\n",
    "    data['time'] = pd.cut(data['date_time'].dt.hour, bins=[0, 7, 12, 18, 24], labels=[0, 1, 2, 3])\n",
    "    \n",
    "    # One-hot encoding категориальных признаков\n",
    "    columns_to_encode = ['zone_id', 'banner_id', 'campaign_clicks', 'os_id', 'country_id', 'day', 'time']\n",
    "    encoder = OneHotEncoder(drop='first', sparse_output=True)\n",
    "    encoded_features = encoder.fit(data[columns_to_encode])\n",
    "    \n",
    "    # Разделение выборки на тестовую и тренировочную часть: в тестовую попали наблюдения из последнего дня   \n",
    "    last_day = data['date_time'].dt.date.max()\n",
    "    \n",
    "    data_train = data[data['date_time'].dt.date < last_day]\n",
    "    data_test = data[data['date_time'].dt.date >= last_day]\n",
    "    \n",
    "    y_train = data_train.clicks\n",
    "    X_train = data_train.drop(['clicks', 'date_time'], axis=1)\n",
    "    \n",
    "    y_test = data_test.clicks\n",
    "    X_test = data_test.drop(['clicks', 'date_time'], axis=1)\n",
    "    \n",
    "    X_train_encoded = encoder.transform(X_train[columns_to_encode])\n",
    "    X_train = hstack([X_train.drop(columns=columns_to_encode).values, X_train_encoded])\n",
    "    \n",
    "    X_test_encoded = encoder.transform(X_test[columns_to_encode])\n",
    "    X_test = hstack([X_test.drop(columns=columns_to_encode).values, X_test_encoded])\n",
    "    \n",
    "    return X_train, X_test, y_train, y_test"
   ]
  },
  {
   "cell_type": "code",
   "execution_count": 7,
   "metadata": {},
   "outputs": [
    {
     "name": "stdout",
     "output_type": "stream",
     "text": [
      "\n",
      "\n",
      "            \u001b[1mПолученные размерности: \u001b[0m           \n",
      "\n",
      "X_train: (13147256, 5932)\tX_test: (2054177, 5932)\n",
      "y_train: (13147256,)\t\ty_test: (2054177,)\n"
     ]
    }
   ],
   "source": [
    "# Применение функции для построения фичей и разделения выборки на тренировочную и тестовую части\n",
    "X_train, X_test, y_train, y_test = feature_engineering(data)\n",
    "\n",
    "# Вывод размеров полученных выборок\n",
    "shapes = f'X_train: {X_train.shape}\\tX_test: {X_test.shape}\\ny_train: {y_train.shape}\\t\\ty_test: {y_test.shape}'\n",
    "pretty_print('Полученные размерности: ', shapes)"
   ]
  },
  {
   "cell_type": "markdown",
   "metadata": {},
   "source": [
    "### Построение модели"
   ]
  },
  {
   "cell_type": "markdown",
   "metadata": {},
   "source": [
    "Для решения поставленной задачи будет построена модель логистической регрессии со сбалансированными весами, учитывающая неравномерность целевой переменной.\n",
    "\n",
    "Оптимизация будет происходить с помощью не SGD-like оптимизатора, а именно: `liblinear`. Данный оптимизатор использует алгоритм координатного спуска, который решает задачи оптимизации путем последовательного выполнения приблизительной минимизации вдоль координатных направлений или координатных гиперплоскостей.\n",
    "\n",
    "С помощью алгоритма подбора гиперпараметров `Grid Search` будет подобрана регуляризация с использованием `log-loss` и `auc` в качестве метрик качества."
   ]
  },
  {
   "cell_type": "code",
   "execution_count": 10,
   "metadata": {
    "pycharm": {
     "name": "#%%\n"
    }
   },
   "outputs": [],
   "source": [
    "# Функция для создания модели логистической регрессии и сетки для последующего подбора параметров регуляризации\n",
    "def create_model():\n",
    "    # Инициализация логистической регресии\n",
    "    model = LogisticRegression(class_weight='balanced', solver='liblinear')\n",
    "    \n",
    "    # Инициализация параметров, отвечающих за регуляризацию\n",
    "    parameters = {'C': [0.001, 0.1, 0.5, 1], \n",
    "                  'penalty': ['l1', 'l2']}\n",
    "    \n",
    "    # Инициализация grid search\n",
    "    grid_search = GridSearchCV(model, \n",
    "                               parameters, \n",
    "                               scoring=['neg_log_loss', 'roc_auc'], \n",
    "                               verbose=3, \n",
    "                               refit='neg_log_loss')\n",
    "    \n",
    "    return grid_search"
   ]
  },
  {
   "cell_type": "code",
   "execution_count": 11,
   "metadata": {
    "pycharm": {
     "name": "#%%\n"
    }
   },
   "outputs": [],
   "source": [
    "# Функция для запуска обучения и подбора гиперпараметров\n",
    "def cv(model, X_train, y_train):\n",
    "    # Включение таймера\n",
    "    start = time.time()\n",
    "    \n",
    "    # Обучение модели\n",
    "    model.fit(X_train, y_train)\n",
    "    \n",
    "    # Остановка таймера\n",
    "    end = time.time()\n",
    "    spent_time = round((end - start) / 60, 2)\n",
    "    \n",
    "    # Вывод подобранных параметров\n",
    "    pretty_print('Best parameters:', model.best_params_)\n",
    "    \n",
    "    # Затраченное время\n",
    "    pretty_print('Time spent (min):', spent_time)  \n",
    "\n",
    "    return model.best_estimator_"
   ]
  },
  {
   "cell_type": "code",
   "execution_count": 12,
   "metadata": {
    "scrolled": false
   },
   "outputs": [
    {
     "name": "stdout",
     "output_type": "stream",
     "text": [
      "Fitting 5 folds for each of 8 candidates, totalling 40 fits\n",
      "[CV 1/5] END C=0.001, penalty=l1; neg_log_loss: (test=-0.589) roc_auc: (test=0.431) total time= 6.1min\n",
      "[CV 2/5] END C=0.001, penalty=l1; neg_log_loss: (test=-0.578) roc_auc: (test=0.640) total time= 4.2min\n",
      "[CV 3/5] END C=0.001, penalty=l1; neg_log_loss: (test=-0.580) roc_auc: (test=0.683) total time= 4.2min\n",
      "[CV 4/5] END C=0.001, penalty=l1; neg_log_loss: (test=-0.587) roc_auc: (test=0.716) total time= 4.1min\n",
      "[CV 5/5] END C=0.001, penalty=l1; neg_log_loss: (test=-0.595) roc_auc: (test=0.711) total time= 2.8min\n",
      "[CV 1/5] END C=0.001, penalty=l2; neg_log_loss: (test=-0.583) roc_auc: (test=0.435) total time= 1.4min\n",
      "[CV 2/5] END C=0.001, penalty=l2; neg_log_loss: (test=-0.574) roc_auc: (test=0.647) total time= 1.3min\n",
      "[CV 3/5] END C=0.001, penalty=l2; neg_log_loss: (test=-0.575) roc_auc: (test=0.689) total time= 1.3min\n",
      "[CV 4/5] END C=0.001, penalty=l2; neg_log_loss: (test=-0.583) roc_auc: (test=0.720) total time= 1.5min\n",
      "[CV 5/5] END C=0.001, penalty=l2; neg_log_loss: (test=-0.591) roc_auc: (test=0.713) total time= 1.3min\n",
      "[CV 1/5] END C=0.1, penalty=l1; neg_log_loss: (test=-0.580) roc_auc: (test=0.466) total time=25.0min\n",
      "[CV 2/5] END C=0.1, penalty=l1; neg_log_loss: (test=-0.567) roc_auc: (test=0.662) total time=20.8min\n",
      "[CV 3/5] END C=0.1, penalty=l1; neg_log_loss: (test=-0.568) roc_auc: (test=0.699) total time=19.1min\n",
      "[CV 4/5] END C=0.1, penalty=l1; neg_log_loss: (test=-0.576) roc_auc: (test=0.720) total time=18.2min\n",
      "[CV 5/5] END C=0.1, penalty=l1; neg_log_loss: (test=-0.584) roc_auc: (test=0.716) total time=19.7min\n",
      "[CV 1/5] END C=0.1, penalty=l2; neg_log_loss: (test=-0.580) roc_auc: (test=0.465) total time= 6.1min\n",
      "[CV 2/5] END C=0.1, penalty=l2; neg_log_loss: (test=-0.567) roc_auc: (test=0.662) total time= 6.8min\n",
      "[CV 3/5] END C=0.1, penalty=l2; neg_log_loss: (test=-0.568) roc_auc: (test=0.698) total time= 6.7min\n",
      "[CV 4/5] END C=0.1, penalty=l2; neg_log_loss: (test=-0.576) roc_auc: (test=0.720) total time= 6.6min\n",
      "[CV 5/5] END C=0.1, penalty=l2; neg_log_loss: (test=-0.584) roc_auc: (test=0.716) total time= 6.6min\n",
      "[CV 1/5] END C=0.5, penalty=l1; neg_log_loss: (test=-0.580) roc_auc: (test=0.469) total time=29.0min\n",
      "[CV 2/5] END C=0.5, penalty=l1; neg_log_loss: (test=-0.567) roc_auc: (test=0.664) total time=23.2min\n",
      "[CV 3/5] END C=0.5, penalty=l1; neg_log_loss: (test=-0.568) roc_auc: (test=0.699) total time=20.8min\n",
      "[CV 4/5] END C=0.5, penalty=l1; neg_log_loss: (test=-0.575) roc_auc: (test=0.720) total time=22.3min\n",
      "[CV 5/5] END C=0.5, penalty=l1; neg_log_loss: (test=-0.583) roc_auc: (test=0.716) total time=20.0min\n",
      "[CV 1/5] END C=0.5, penalty=l2; neg_log_loss: (test=-0.580) roc_auc: (test=0.468) total time=10.1min\n",
      "[CV 2/5] END C=0.5, penalty=l2; neg_log_loss: (test=-0.567) roc_auc: (test=0.663) total time=12.8min\n",
      "[CV 3/5] END C=0.5, penalty=l2; neg_log_loss: (test=-0.568) roc_auc: (test=0.699) total time=12.4min\n",
      "[CV 4/5] END C=0.5, penalty=l2; neg_log_loss: (test=-0.575) roc_auc: (test=0.720) total time=12.1min\n",
      "[CV 5/5] END C=0.5, penalty=l2; neg_log_loss: (test=-0.584) roc_auc: (test=0.716) total time=10.8min\n",
      "[CV 1/5] END C=1, penalty=l1; neg_log_loss: (test=-0.580) roc_auc: (test=0.469) total time=27.0min\n",
      "[CV 2/5] END C=1, penalty=l1; neg_log_loss: (test=-0.567) roc_auc: (test=0.664) total time=25.2min\n",
      "[CV 3/5] END C=1, penalty=l1; neg_log_loss: (test=-0.568) roc_auc: (test=0.699) total time=25.2min\n",
      "[CV 4/5] END C=1, penalty=l1; neg_log_loss: (test=-0.575) roc_auc: (test=0.720) total time=27.3min\n",
      "[CV 5/5] END C=1, penalty=l1; neg_log_loss: (test=-0.583) roc_auc: (test=0.716) total time=25.8min\n",
      "[CV 1/5] END C=1, penalty=l2; neg_log_loss: (test=-0.580) roc_auc: (test=0.469) total time=14.5min\n",
      "[CV 2/5] END C=1, penalty=l2; neg_log_loss: (test=-0.567) roc_auc: (test=0.664) total time=13.2min\n",
      "[CV 3/5] END C=1, penalty=l2; neg_log_loss: (test=-0.568) roc_auc: (test=0.699) total time=16.6min\n",
      "[CV 4/5] END C=1, penalty=l2; neg_log_loss: (test=-0.575) roc_auc: (test=0.720) total time=16.4min\n",
      "[CV 5/5] END C=1, penalty=l2; neg_log_loss: (test=-0.583) roc_auc: (test=0.716) total time=16.4min\n",
      "\n",
      "\n",
      "                \u001b[1mBest parameters:\u001b[0m               \n",
      "\n",
      "{'C': 1, 'penalty': 'l1'}\n",
      "\n",
      "\n",
      "               \u001b[1mTime spent (min):\u001b[0m               \n",
      "\n",
      "576.73\n"
     ]
    }
   ],
   "source": [
    "# Создание модели, ее обучение и подбор регуляризации\n",
    "model = create_model()\n",
    "best_model = cv(model, X_train, y_train)"
   ]
  },
  {
   "cell_type": "markdown",
   "metadata": {},
   "source": [
    "### Тестирование итоговой модели"
   ]
  },
  {
   "cell_type": "markdown",
   "metadata": {},
   "source": [
    "С помощью итоговой модели будет сделано предсказание для последнего дня из выборки (для тестовых данных, полученных ранее). Будут посчитаны метрики качества, которые предлагается сравнить с baseline-моделью: средним предсказанием."
   ]
  },
  {
   "cell_type": "code",
   "execution_count": 10,
   "metadata": {},
   "outputs": [],
   "source": [
    "# Функция для получения средних по выборке предсказаний\n",
    "def get_baseline(y_test):\n",
    "    return pd.Series([y_test.mean()] * len(y_test))\n",
    "\n",
    "# Функция для получения предсказаний \n",
    "def predict(model, X_test, y_test):\n",
    "    y_pred = model.predict_proba(X_test)[:, 1]\n",
    "    y_mean = get_baseline(y_test)\n",
    "\n",
    "    return y_pred, y_mean\n",
    "\n",
    "# Функция для тестирования обученной модели на последнем дне из датасета\n",
    "def test_model(model, X_test, y_test):\n",
    "    # Получение предсказаний для последнего дня с помощью обученной модели и с помощью бейзлайна\n",
    "    y_pred, y_mean = predict(model, X_test, y_test)\n",
    "\n",
    "    # Вычисление log-loss и auc\n",
    "    loss = log_loss(y_test, y_pred)\n",
    "    loss_mean = log_loss(y_test, y_mean)\n",
    "\n",
    "    auc = roc_auc_score(y_test, y_pred)\n",
    "    auc_mean = roc_auc_score(y_test, y_mean)\n",
    "\n",
    "    metrics = f'Log-loss = {loss}\\tAUC = {auc}'\n",
    "    metrics_mean = f'Log-loss = {loss_mean}\\tAUC = {auc_mean}'\n",
    "\n",
    "    pretty_print('Метрики построенной модели:', metrics)\n",
    "    pretty_print('Метрики бейзлайна:', metrics_mean)\n",
    "\n",
    "    # Построение ROC-кривой\n",
    "    print(f'\\n\\n{get_pretty_title(\"ROC-кривая\")}')\n",
    "\n",
    "    ref = [0 for _ in range(len(y_test))]\n",
    "\n",
    "    ns_fpr, ns_tpr, _ = roc_curve(y_test, ref)\n",
    "    lr_fpr, lr_tpr, _ = roc_curve(y_test, y_pred)\n",
    "    mean_fpr, mean_tpr, _ = roc_curve(y_test, y_mean)\n",
    "    \n",
    "    round_auc = round(auc, 2)\n",
    "    round_auc_mean = round(auc_mean, 2)\n",
    "\n",
    "    plt.plot(ns_fpr, ns_tpr, linestyle='--')\n",
    "    plt.plot(lr_fpr, lr_tpr, marker='.', label=f'Построенная модель: AUC = {round_auc}')\n",
    "    plt.plot(mean_fpr, mean_tpr, marker='.', label=f'Baseline: AUC = {round_auc_mean}')\n",
    "\n",
    "    plt.xlabel('False Positive Rate')\n",
    "    plt.ylabel('True Positive Rate')\n",
    "\n",
    "    plt.legend()\n",
    "    plt.show()"
   ]
  },
  {
   "cell_type": "code",
   "execution_count": 13,
   "metadata": {},
   "outputs": [
    {
     "name": "stdout",
     "output_type": "stream",
     "text": [
      "\n",
      "\n",
      "          \u001b[1mМетрики построенной модели:\u001b[0m          \n",
      "\n",
      "Log-loss = 0.1364647116255024\tAUC = 0.7804670051638557\n",
      "\n",
      "\n",
      "               \u001b[1mМетрики бейзлайна:\u001b[0m              \n",
      "\n",
      "Log-loss = 0.15528157208686433\tAUC = 0.5\n",
      "\n",
      "\n",
      "                   \u001b[1mROC-кривая\u001b[0m                  \n"
     ]
    },
    {
     "data": {
      "image/png": "[encoded data removed]",
      "text/plain": [
       "<Figure size 640x480 with 1 Axes>"
      ]
     },
     "metadata": {},
     "output_type": "display_data"
    }
   ],
   "source": [
    "# Запуск тестирования построенной модели\n",
    "test_model(best_model, X_test, y_test)"
   ]
  },
  {
   "cell_type": "markdown",
   "metadata": {},
   "source": [
    "Качество полученной модели выше, чем у бейзлайна по показателям log-loss и auc."
   ]
  }
 ],
 "metadata": {
  "kernelspec": {
   "display_name": "Python 3 (ipykernel)",
   "language": "python",
   "name": "python3"
  },
  "language_info": {
   "codemirror_mode": {
    "name": "ipython",
    "version": 3
   },
   "file_extension": ".py",
   "mimetype": "text/x-python",
   "name": "python",
   "nbconvert_exporter": "python",
   "pygments_lexer": "ipython3",
   "version": "3.11.5"
  }
 },
 "nbformat": 4,
 "nbformat_minor": 1
}
