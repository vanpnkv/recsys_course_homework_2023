{
 "cells": [
  {
   "cell_type": "code",
   "execution_count": 1,
   "metadata": {
    "id": "cALBNwFeZ2XF"
   },
   "outputs": [],
   "source": [
    "import pandas as pd\n",
    "\n",
    "import pickle\n",
    "\n",
    "import numpy as np\n",
    "\n",
    "from sklearn.model_selection import train_test_split\n",
    "from sklearn.metrics import f1_score, accuracy_score, log_loss, roc_curve, roc_auc_score, auc, RocCurveDisplay\n",
    "from sklearn.linear_model import LogisticRegression"
   ]
  },
  {
   "cell_type": "code",
   "execution_count": null,
   "metadata": {},
   "outputs": [],
   "source": []
  },
  {
   "cell_type": "markdown",
   "metadata": {
    "id": "TfXVpHjacIAj"
   },
   "source": [
    "Загрузим данные с моего гугл диска, так как скачать напрямую по ссылке не получилось."
   ]
  },
  {
   "cell_type": "code",
   "execution_count": 2,
   "metadata": {
    "colab": {
     "base_uri": "https://localhost:8080/"
    },
    "id": "mkCVYF60aQao",
    "outputId": "73a789cf-b8f1-4084-9628-a0eed254422d",
    "scrolled": true
   },
   "outputs": [
    {
     "name": "stdout",
     "output_type": "stream",
     "text": [
      "CPU times: user 5 µs, sys: 1e+03 ns, total: 6 µs\n",
      "Wall time: 9.54 µs\n"
     ]
    }
   ],
   "source": [
    "%%time\n",
    "ssss = '''\n",
    "\n",
    "from google.colab import drive\n",
    "\n",
    "drive.mount('/content/gdrive')\n",
    "\n",
    "\n",
    "!cp -r \"/content/gdrive/My Drive/recsys/HW1_data.csv\" \"/content/data.csv\"\n",
    "!cp -r \"/content/gdrive/My Drive/recsys/control_data_flatten.pkl\" \"/content/control_data_flatten.pkl\"\n",
    "!cp -r \"/content/gdrive/My Drive/recsys/y_test.pkl\" \"/content/y_test.pkl\"\n",
    "!cp -r \"/content/gdrive/My Drive/recsys/data_flatten.pkl\" \"/content/data_flatten.pkl\"\n",
    "!cp -r \"/content/gdrive/My Drive/recsys/control_data.pkl\" \"/content/control_data.pkl\"\n",
    "!cp -r \"/content/gdrive/My Drive/recsys/x_test.pkl\" \"/content/x_test.pkl\"\n",
    "!cp -r \"/content/gdrive/My Drive/recsys/y_train.pkl\" \"/content/y_train.pkl\"\n",
    "!cp -r \"/content/gdrive/My Drive/recsys/data_after_celar.csv\" \"/content/data_after_celar.csv\"\n",
    "!cp -r \"/content/gdrive/My Drive/recsys/x_train.pkl\" \"/content/x_train.pkl\"\n",
    "'''"
   ]
  },
  {
   "cell_type": "code",
   "execution_count": 3,
   "metadata": {
    "colab": {
     "base_uri": "https://localhost:8080/"
    },
    "id": "HNZ6xijKZ2XM",
    "outputId": "4268c793-3d86-4d0b-d14c-cde0d601bd1e",
    "pycharm": {
     "name": "#%%\n"
    }
   },
   "outputs": [
    {
     "name": "stdout",
     "output_type": "stream",
     "text": [
      "(15821472, 17)\n",
      "                    date_time  zone_id  banner_id            oaid_hash  \\\n",
      "0  2021-09-27 00:01:30.000000        0          0  5664530014561852622   \n",
      "1  2021-09-26 22:54:49.000000        1          1  5186611064559013950   \n",
      "2  2021-09-26 23:57:20.000000        2          2  2215519569292448030   \n",
      "3  2021-09-27 00:04:30.000000        3          3  6262169206735077204   \n",
      "4  2021-09-27 00:06:21.000000        4          4  4778985830203613115   \n",
      "\n",
      "   campaign_clicks  os_id  country_id  banner_id0  rate0        g0  \\\n",
      "0                0      0           0        1240  0.067  0.035016   \n",
      "1                0      0           1           1  0.002  0.054298   \n",
      "2                3      0           0           2  0.014  0.014096   \n",
      "3                0      1           1           3  0.012  0.015232   \n",
      "4                0      1           0           4  0.019  0.051265   \n",
      "\n",
      "   coeff_sum0  banner_id1  rate1        g1  coeff_sum1  impressions  clicks  \n",
      "0   -7.268846           0  0.010  0.049516   -5.369901            1       1  \n",
      "1   -2.657477         269  0.004  0.031942   -4.449220            1       1  \n",
      "2   -3.824875          21  0.014  0.014906   -3.939309            1       1  \n",
      "3   -3.461357          99  0.006  0.050671   -3.418403            1       1  \n",
      "4   -4.009026    11464230  6.790  0.032005   -2.828797            1       1  \n",
      "CPU times: user 37.9 s, sys: 16.4 s, total: 54.4 s\n",
      "Wall time: 1min 47s\n"
     ]
    }
   ],
   "source": [
    "%%time\n",
    "data = pd.read_csv('data.csv')\n",
    "print(data.shape)\n",
    "print(data.head())"
   ]
  },
  {
   "cell_type": "markdown",
   "metadata": {
    "id": "v5OGgh0Yb_P_"
   },
   "source": [
    "Удалим колонки, которые нам не нужны."
   ]
  },
  {
   "cell_type": "code",
   "execution_count": 4,
   "metadata": {
    "colab": {
     "base_uri": "https://localhost:8080/"
    },
    "id": "Rmqw_VPgbXnc",
    "outputId": "fb7946e4-fbd5-42ab-8f16-f032788c30f8"
   },
   "outputs": [
    {
     "name": "stdout",
     "output_type": "stream",
     "text": [
      "CPU times: user 588 ms, sys: 165 ms, total: 753 ms\n",
      "Wall time: 882 ms\n"
     ]
    }
   ],
   "source": [
    "%%time\n",
    "data.drop(['oaid_hash', 'banner_id0', 'banner_id1', 'rate0', 'rate1', 'g0', 'g1', 'coeff_sum0', 'coeff_sum1'],axis = 1, inplace = True)"
   ]
  },
  {
   "cell_type": "markdown",
   "metadata": {
    "id": "TmejNUAterj6"
   },
   "source": [
    "Проанализируем информацию в стобцах.\n"
   ]
  },
  {
   "cell_type": "code",
   "execution_count": 5,
   "metadata": {
    "colab": {
     "base_uri": "https://localhost:8080/"
    },
    "id": "LoSngT-EZ2XO",
    "outputId": "56cd2856-d780-4ce5-d83f-0eac71660803",
    "pycharm": {
     "name": "#%%\n"
    }
   },
   "outputs": [
    {
     "name": "stdout",
     "output_type": "stream",
     "text": [
      "date_time\n",
      "size 604712\n",
      "min, max 2021-09-01 00:02:49.000000 2021-10-02 23:59:59.000000\n",
      "zone_id\n",
      "size 3444\n",
      "min, max 0 3443\n",
      "banner_id\n",
      "size 1633\n",
      "min, max 0 1632\n",
      "campaign_clicks\n",
      "size 822\n",
      "min, max 0 829\n",
      "os_id\n",
      "size 11\n",
      "min, max 0 10\n",
      "[ 0  1  2  3  4  5  6  7  8  9 10]\n",
      "country_id\n",
      "size 17\n",
      "min, max 0 16\n",
      "[ 0  1  2  3  4  5  6  7  8  9 10 11 12 13 14 15 16]\n",
      "impressions\n",
      "size 1\n",
      "min, max 1 1\n",
      "[1]\n",
      "clicks\n",
      "size 2\n",
      "min, max 0 1\n",
      "[1 0]\n",
      "CPU times: user 6.7 s, sys: 237 ms, total: 6.94 s\n",
      "Wall time: 7.76 s\n"
     ]
    }
   ],
   "source": [
    "%%time\n",
    "def analysis(data: pd.DataFrame):\n",
    "    for colomn in data.columns:\n",
    "        uniq = data[colomn].unique()\n",
    "        colomn_uniq_size = uniq.size\n",
    "\n",
    "        print(colomn)\n",
    "        print('size', colomn_uniq_size)\n",
    "        print('min, max', uniq.min(), uniq.max())\n",
    "        if colomn_uniq_size < 50:\n",
    "            print(uniq)\n",
    "\n",
    "    pass\n",
    "\n",
    "small_data = data.head()\n",
    "#analysis(small_data)\n",
    "analysis(data)"
   ]
  },
  {
   "cell_type": "markdown",
   "metadata": {
    "id": "5YJaJwXpcn5i"
   },
   "source": [
    "во всех полях кроме даты малое количество различных значений, поэтому будем использовать ван хот енкодинг. Так же можно удалить столбец \"impressions\" так как вуо всех строчках данных одно и то же значение."
   ]
  },
  {
   "cell_type": "code",
   "execution_count": 6,
   "metadata": {
    "colab": {
     "base_uri": "https://localhost:8080/"
    },
    "id": "P2uiUNGjcyC1",
    "outputId": "292b6d60-cfcb-4133-998d-f28416253ec8"
   },
   "outputs": [
    {
     "name": "stdout",
     "output_type": "stream",
     "text": [
      "CPU times: user 356 ms, sys: 114 ms, total: 470 ms\n",
      "Wall time: 465 ms\n"
     ]
    }
   ],
   "source": [
    "%%time\n",
    "data.drop(['impressions'],axis = 1, inplace = True)\n",
    "\n"
   ]
  },
  {
   "cell_type": "code",
   "execution_count": null,
   "metadata": {
    "id": "Be3UAz3nd4-e"
   },
   "outputs": [],
   "source": [
    "data.to_csv('data_after_celar.csv', index=False)"
   ]
  },
  {
   "cell_type": "markdown",
   "metadata": {},
   "source": [
    "Сохраним длоя простоты, так как файл слишком большой\n"
   ]
  },
  {
   "cell_type": "code",
   "execution_count": 7,
   "metadata": {
    "colab": {
     "base_uri": "https://localhost:8080/"
    },
    "id": "vqsmg5leeEqB",
    "outputId": "397c8a2f-8059-4b6a-cd08-a920b3926f67"
   },
   "outputs": [
    {
     "ename": "ValueError",
     "evalue": "invalid literal for int() with base 10: '2021-09-27 00:01:30.000000'",
     "output_type": "error",
     "traceback": [
      "\u001b[0;31m---------------------------------------------------------------------------\u001b[0m",
      "\u001b[0;31mValueError\u001b[0m                                Traceback (most recent call last)",
      "File \u001b[0;32m<timed exec>:1\u001b[0m\n",
      "File \u001b[0;32m~/anaconda3/lib/python3.11/site-packages/pandas/core/generic.py:6530\u001b[0m, in \u001b[0;36mNDFrame.astype\u001b[0;34m(self, dtype, copy, errors)\u001b[0m\n\u001b[1;32m   6527\u001b[0m         \u001b[38;5;28;01mreturn\u001b[39;00m \u001b[38;5;28mself\u001b[39m\u001b[38;5;241m.\u001b[39mcopy(deep\u001b[38;5;241m=\u001b[39mcopy)\n\u001b[1;32m   6528\u001b[0m     \u001b[38;5;66;03m# GH 18099/22869: columnwise conversion to extension dtype\u001b[39;00m\n\u001b[1;32m   6529\u001b[0m     \u001b[38;5;66;03m# GH 24704: self.items handles duplicate column names\u001b[39;00m\n\u001b[0;32m-> 6530\u001b[0m     results \u001b[38;5;241m=\u001b[39m [ser\u001b[38;5;241m.\u001b[39mastype(dtype, copy\u001b[38;5;241m=\u001b[39mcopy) \u001b[38;5;28;01mfor\u001b[39;00m _, ser \u001b[38;5;129;01min\u001b[39;00m \u001b[38;5;28mself\u001b[39m\u001b[38;5;241m.\u001b[39mitems()]\n\u001b[1;32m   6532\u001b[0m \u001b[38;5;28;01melse\u001b[39;00m:\n\u001b[1;32m   6533\u001b[0m     \u001b[38;5;66;03m# else, only a single dtype is given\u001b[39;00m\n\u001b[1;32m   6534\u001b[0m     new_data \u001b[38;5;241m=\u001b[39m \u001b[38;5;28mself\u001b[39m\u001b[38;5;241m.\u001b[39m_mgr\u001b[38;5;241m.\u001b[39mastype(dtype\u001b[38;5;241m=\u001b[39mdtype, copy\u001b[38;5;241m=\u001b[39mcopy, errors\u001b[38;5;241m=\u001b[39merrors)\n",
      "File \u001b[0;32m~/anaconda3/lib/python3.11/site-packages/pandas/core/generic.py:6530\u001b[0m, in \u001b[0;36m<listcomp>\u001b[0;34m(.0)\u001b[0m\n\u001b[1;32m   6527\u001b[0m         \u001b[38;5;28;01mreturn\u001b[39;00m \u001b[38;5;28mself\u001b[39m\u001b[38;5;241m.\u001b[39mcopy(deep\u001b[38;5;241m=\u001b[39mcopy)\n\u001b[1;32m   6528\u001b[0m     \u001b[38;5;66;03m# GH 18099/22869: columnwise conversion to extension dtype\u001b[39;00m\n\u001b[1;32m   6529\u001b[0m     \u001b[38;5;66;03m# GH 24704: self.items handles duplicate column names\u001b[39;00m\n\u001b[0;32m-> 6530\u001b[0m     results \u001b[38;5;241m=\u001b[39m [ser\u001b[38;5;241m.\u001b[39mastype(dtype, copy\u001b[38;5;241m=\u001b[39mcopy) \u001b[38;5;28;01mfor\u001b[39;00m _, ser \u001b[38;5;129;01min\u001b[39;00m \u001b[38;5;28mself\u001b[39m\u001b[38;5;241m.\u001b[39mitems()]\n\u001b[1;32m   6532\u001b[0m \u001b[38;5;28;01melse\u001b[39;00m:\n\u001b[1;32m   6533\u001b[0m     \u001b[38;5;66;03m# else, only a single dtype is given\u001b[39;00m\n\u001b[1;32m   6534\u001b[0m     new_data \u001b[38;5;241m=\u001b[39m \u001b[38;5;28mself\u001b[39m\u001b[38;5;241m.\u001b[39m_mgr\u001b[38;5;241m.\u001b[39mastype(dtype\u001b[38;5;241m=\u001b[39mdtype, copy\u001b[38;5;241m=\u001b[39mcopy, errors\u001b[38;5;241m=\u001b[39merrors)\n",
      "File \u001b[0;32m~/anaconda3/lib/python3.11/site-packages/pandas/core/generic.py:6534\u001b[0m, in \u001b[0;36mNDFrame.astype\u001b[0;34m(self, dtype, copy, errors)\u001b[0m\n\u001b[1;32m   6530\u001b[0m     results \u001b[38;5;241m=\u001b[39m [ser\u001b[38;5;241m.\u001b[39mastype(dtype, copy\u001b[38;5;241m=\u001b[39mcopy) \u001b[38;5;28;01mfor\u001b[39;00m _, ser \u001b[38;5;129;01min\u001b[39;00m \u001b[38;5;28mself\u001b[39m\u001b[38;5;241m.\u001b[39mitems()]\n\u001b[1;32m   6532\u001b[0m \u001b[38;5;28;01melse\u001b[39;00m:\n\u001b[1;32m   6533\u001b[0m     \u001b[38;5;66;03m# else, only a single dtype is given\u001b[39;00m\n\u001b[0;32m-> 6534\u001b[0m     new_data \u001b[38;5;241m=\u001b[39m \u001b[38;5;28mself\u001b[39m\u001b[38;5;241m.\u001b[39m_mgr\u001b[38;5;241m.\u001b[39mastype(dtype\u001b[38;5;241m=\u001b[39mdtype, copy\u001b[38;5;241m=\u001b[39mcopy, errors\u001b[38;5;241m=\u001b[39merrors)\n\u001b[1;32m   6535\u001b[0m     res \u001b[38;5;241m=\u001b[39m \u001b[38;5;28mself\u001b[39m\u001b[38;5;241m.\u001b[39m_constructor_from_mgr(new_data, axes\u001b[38;5;241m=\u001b[39mnew_data\u001b[38;5;241m.\u001b[39maxes)\n\u001b[1;32m   6536\u001b[0m     \u001b[38;5;28;01mreturn\u001b[39;00m res\u001b[38;5;241m.\u001b[39m__finalize__(\u001b[38;5;28mself\u001b[39m, method\u001b[38;5;241m=\u001b[39m\u001b[38;5;124m\"\u001b[39m\u001b[38;5;124mastype\u001b[39m\u001b[38;5;124m\"\u001b[39m)\n",
      "File \u001b[0;32m~/anaconda3/lib/python3.11/site-packages/pandas/core/internals/managers.py:414\u001b[0m, in \u001b[0;36mBaseBlockManager.astype\u001b[0;34m(self, dtype, copy, errors)\u001b[0m\n\u001b[1;32m    411\u001b[0m \u001b[38;5;28;01melif\u001b[39;00m using_copy_on_write():\n\u001b[1;32m    412\u001b[0m     copy \u001b[38;5;241m=\u001b[39m \u001b[38;5;28;01mFalse\u001b[39;00m\n\u001b[0;32m--> 414\u001b[0m \u001b[38;5;28;01mreturn\u001b[39;00m \u001b[38;5;28mself\u001b[39m\u001b[38;5;241m.\u001b[39mapply(\n\u001b[1;32m    415\u001b[0m     \u001b[38;5;124m\"\u001b[39m\u001b[38;5;124mastype\u001b[39m\u001b[38;5;124m\"\u001b[39m,\n\u001b[1;32m    416\u001b[0m     dtype\u001b[38;5;241m=\u001b[39mdtype,\n\u001b[1;32m    417\u001b[0m     copy\u001b[38;5;241m=\u001b[39mcopy,\n\u001b[1;32m    418\u001b[0m     errors\u001b[38;5;241m=\u001b[39merrors,\n\u001b[1;32m    419\u001b[0m     using_cow\u001b[38;5;241m=\u001b[39musing_copy_on_write(),\n\u001b[1;32m    420\u001b[0m )\n",
      "File \u001b[0;32m~/anaconda3/lib/python3.11/site-packages/pandas/core/internals/managers.py:354\u001b[0m, in \u001b[0;36mBaseBlockManager.apply\u001b[0;34m(self, f, align_keys, **kwargs)\u001b[0m\n\u001b[1;32m    352\u001b[0m         applied \u001b[38;5;241m=\u001b[39m b\u001b[38;5;241m.\u001b[39mapply(f, \u001b[38;5;241m*\u001b[39m\u001b[38;5;241m*\u001b[39mkwargs)\n\u001b[1;32m    353\u001b[0m     \u001b[38;5;28;01melse\u001b[39;00m:\n\u001b[0;32m--> 354\u001b[0m         applied \u001b[38;5;241m=\u001b[39m \u001b[38;5;28mgetattr\u001b[39m(b, f)(\u001b[38;5;241m*\u001b[39m\u001b[38;5;241m*\u001b[39mkwargs)\n\u001b[1;32m    355\u001b[0m     result_blocks \u001b[38;5;241m=\u001b[39m extend_blocks(applied, result_blocks)\n\u001b[1;32m    357\u001b[0m out \u001b[38;5;241m=\u001b[39m \u001b[38;5;28mtype\u001b[39m(\u001b[38;5;28mself\u001b[39m)\u001b[38;5;241m.\u001b[39mfrom_blocks(result_blocks, \u001b[38;5;28mself\u001b[39m\u001b[38;5;241m.\u001b[39maxes)\n",
      "File \u001b[0;32m~/anaconda3/lib/python3.11/site-packages/pandas/core/internals/blocks.py:616\u001b[0m, in \u001b[0;36mBlock.astype\u001b[0;34m(self, dtype, copy, errors, using_cow)\u001b[0m\n\u001b[1;32m    596\u001b[0m \u001b[38;5;250m\u001b[39m\u001b[38;5;124;03m\"\"\"\u001b[39;00m\n\u001b[1;32m    597\u001b[0m \u001b[38;5;124;03mCoerce to the new dtype.\u001b[39;00m\n\u001b[1;32m    598\u001b[0m \n\u001b[0;32m   (...)\u001b[0m\n\u001b[1;32m    612\u001b[0m \u001b[38;5;124;03mBlock\u001b[39;00m\n\u001b[1;32m    613\u001b[0m \u001b[38;5;124;03m\"\"\"\u001b[39;00m\n\u001b[1;32m    614\u001b[0m values \u001b[38;5;241m=\u001b[39m \u001b[38;5;28mself\u001b[39m\u001b[38;5;241m.\u001b[39mvalues\n\u001b[0;32m--> 616\u001b[0m new_values \u001b[38;5;241m=\u001b[39m astype_array_safe(values, dtype, copy\u001b[38;5;241m=\u001b[39mcopy, errors\u001b[38;5;241m=\u001b[39merrors)\n\u001b[1;32m    618\u001b[0m new_values \u001b[38;5;241m=\u001b[39m maybe_coerce_values(new_values)\n\u001b[1;32m    620\u001b[0m refs \u001b[38;5;241m=\u001b[39m \u001b[38;5;28;01mNone\u001b[39;00m\n",
      "File \u001b[0;32m~/anaconda3/lib/python3.11/site-packages/pandas/core/dtypes/astype.py:238\u001b[0m, in \u001b[0;36mastype_array_safe\u001b[0;34m(values, dtype, copy, errors)\u001b[0m\n\u001b[1;32m    235\u001b[0m     dtype \u001b[38;5;241m=\u001b[39m dtype\u001b[38;5;241m.\u001b[39mnumpy_dtype\n\u001b[1;32m    237\u001b[0m \u001b[38;5;28;01mtry\u001b[39;00m:\n\u001b[0;32m--> 238\u001b[0m     new_values \u001b[38;5;241m=\u001b[39m astype_array(values, dtype, copy\u001b[38;5;241m=\u001b[39mcopy)\n\u001b[1;32m    239\u001b[0m \u001b[38;5;28;01mexcept\u001b[39;00m (\u001b[38;5;167;01mValueError\u001b[39;00m, \u001b[38;5;167;01mTypeError\u001b[39;00m):\n\u001b[1;32m    240\u001b[0m     \u001b[38;5;66;03m# e.g. _astype_nansafe can fail on object-dtype of strings\u001b[39;00m\n\u001b[1;32m    241\u001b[0m     \u001b[38;5;66;03m#  trying to convert to float\u001b[39;00m\n\u001b[1;32m    242\u001b[0m     \u001b[38;5;28;01mif\u001b[39;00m errors \u001b[38;5;241m==\u001b[39m \u001b[38;5;124m\"\u001b[39m\u001b[38;5;124mignore\u001b[39m\u001b[38;5;124m\"\u001b[39m:\n",
      "File \u001b[0;32m~/anaconda3/lib/python3.11/site-packages/pandas/core/dtypes/astype.py:183\u001b[0m, in \u001b[0;36mastype_array\u001b[0;34m(values, dtype, copy)\u001b[0m\n\u001b[1;32m    180\u001b[0m     values \u001b[38;5;241m=\u001b[39m values\u001b[38;5;241m.\u001b[39mastype(dtype, copy\u001b[38;5;241m=\u001b[39mcopy)\n\u001b[1;32m    182\u001b[0m \u001b[38;5;28;01melse\u001b[39;00m:\n\u001b[0;32m--> 183\u001b[0m     values \u001b[38;5;241m=\u001b[39m _astype_nansafe(values, dtype, copy\u001b[38;5;241m=\u001b[39mcopy)\n\u001b[1;32m    185\u001b[0m \u001b[38;5;66;03m# in pandas we don't store numpy str dtypes, so convert to object\u001b[39;00m\n\u001b[1;32m    186\u001b[0m \u001b[38;5;28;01mif\u001b[39;00m \u001b[38;5;28misinstance\u001b[39m(dtype, np\u001b[38;5;241m.\u001b[39mdtype) \u001b[38;5;129;01mand\u001b[39;00m \u001b[38;5;28missubclass\u001b[39m(values\u001b[38;5;241m.\u001b[39mdtype\u001b[38;5;241m.\u001b[39mtype, \u001b[38;5;28mstr\u001b[39m):\n",
      "File \u001b[0;32m~/anaconda3/lib/python3.11/site-packages/pandas/core/dtypes/astype.py:80\u001b[0m, in \u001b[0;36m_astype_nansafe\u001b[0;34m(arr, dtype, copy, skipna)\u001b[0m\n\u001b[1;32m     78\u001b[0m \u001b[38;5;66;03m# dispatch on extension dtype if needed\u001b[39;00m\n\u001b[1;32m     79\u001b[0m \u001b[38;5;28;01mif\u001b[39;00m \u001b[38;5;28misinstance\u001b[39m(dtype, ExtensionDtype):\n\u001b[0;32m---> 80\u001b[0m     \u001b[38;5;28;01mreturn\u001b[39;00m dtype\u001b[38;5;241m.\u001b[39mconstruct_array_type()\u001b[38;5;241m.\u001b[39m_from_sequence(arr, dtype\u001b[38;5;241m=\u001b[39mdtype, copy\u001b[38;5;241m=\u001b[39mcopy)\n\u001b[1;32m     82\u001b[0m \u001b[38;5;28;01melif\u001b[39;00m \u001b[38;5;129;01mnot\u001b[39;00m \u001b[38;5;28misinstance\u001b[39m(dtype, np\u001b[38;5;241m.\u001b[39mdtype):  \u001b[38;5;66;03m# pragma: no cover\u001b[39;00m\n\u001b[1;32m     83\u001b[0m     \u001b[38;5;28;01mraise\u001b[39;00m \u001b[38;5;167;01mValueError\u001b[39;00m(\u001b[38;5;124m\"\u001b[39m\u001b[38;5;124mdtype must be np.dtype or ExtensionDtype\u001b[39m\u001b[38;5;124m\"\u001b[39m)\n",
      "File \u001b[0;32m~/anaconda3/lib/python3.11/site-packages/pandas/core/arrays/sparse/array.py:587\u001b[0m, in \u001b[0;36mSparseArray._from_sequence\u001b[0;34m(cls, scalars, dtype, copy)\u001b[0m\n\u001b[1;32m    585\u001b[0m \u001b[38;5;129m@classmethod\u001b[39m\n\u001b[1;32m    586\u001b[0m \u001b[38;5;28;01mdef\u001b[39;00m \u001b[38;5;21m_from_sequence\u001b[39m(\u001b[38;5;28mcls\u001b[39m, scalars, \u001b[38;5;241m*\u001b[39m, dtype: Dtype \u001b[38;5;241m|\u001b[39m \u001b[38;5;28;01mNone\u001b[39;00m \u001b[38;5;241m=\u001b[39m \u001b[38;5;28;01mNone\u001b[39;00m, copy: \u001b[38;5;28mbool\u001b[39m \u001b[38;5;241m=\u001b[39m \u001b[38;5;28;01mFalse\u001b[39;00m):\n\u001b[0;32m--> 587\u001b[0m     \u001b[38;5;28;01mreturn\u001b[39;00m \u001b[38;5;28mcls\u001b[39m(scalars, dtype\u001b[38;5;241m=\u001b[39mdtype)\n",
      "File \u001b[0;32m~/anaconda3/lib/python3.11/site-packages/pandas/core/arrays/sparse/array.py:474\u001b[0m, in \u001b[0;36mSparseArray.__init__\u001b[0;34m(self, data, sparse_index, fill_value, kind, dtype, copy)\u001b[0m\n\u001b[1;32m    472\u001b[0m                 fill_value \u001b[38;5;241m=\u001b[39m np\u001b[38;5;241m.\u001b[39mdatetime64(\u001b[38;5;124m\"\u001b[39m\u001b[38;5;124mNaT\u001b[39m\u001b[38;5;124m\"\u001b[39m, \u001b[38;5;124m\"\u001b[39m\u001b[38;5;124mns\u001b[39m\u001b[38;5;124m\"\u001b[39m)\n\u001b[1;32m    473\u001b[0m         data \u001b[38;5;241m=\u001b[39m np\u001b[38;5;241m.\u001b[39masarray(data)\n\u001b[0;32m--> 474\u001b[0m     sparse_values, sparse_index, fill_value \u001b[38;5;241m=\u001b[39m _make_sparse(\n\u001b[1;32m    475\u001b[0m         \u001b[38;5;66;03m# error: Argument \"dtype\" to \"_make_sparse\" has incompatible type\u001b[39;00m\n\u001b[1;32m    476\u001b[0m         \u001b[38;5;66;03m# \"Union[ExtensionDtype, dtype[Any], None]\"; expected\u001b[39;00m\n\u001b[1;32m    477\u001b[0m         \u001b[38;5;66;03m# \"Optional[dtype[Any]]\"\u001b[39;00m\n\u001b[1;32m    478\u001b[0m         data,\n\u001b[1;32m    479\u001b[0m         kind\u001b[38;5;241m=\u001b[39mkind,\n\u001b[1;32m    480\u001b[0m         fill_value\u001b[38;5;241m=\u001b[39mfill_value,\n\u001b[1;32m    481\u001b[0m         dtype\u001b[38;5;241m=\u001b[39mdtype,  \u001b[38;5;66;03m# type: ignore[arg-type]\u001b[39;00m\n\u001b[1;32m    482\u001b[0m     )\n\u001b[1;32m    483\u001b[0m \u001b[38;5;28;01melse\u001b[39;00m:\n\u001b[1;32m    484\u001b[0m     \u001b[38;5;66;03m# error: Argument \"dtype\" to \"asarray\" has incompatible type\u001b[39;00m\n\u001b[1;32m    485\u001b[0m     \u001b[38;5;66;03m# \"Union[ExtensionDtype, dtype[Any], None]\"; expected \"None\"\u001b[39;00m\n\u001b[1;32m    486\u001b[0m     sparse_values \u001b[38;5;241m=\u001b[39m np\u001b[38;5;241m.\u001b[39masarray(data, dtype\u001b[38;5;241m=\u001b[39mdtype)  \u001b[38;5;66;03m# type: ignore[arg-type]\u001b[39;00m\n",
      "File \u001b[0;32m~/anaconda3/lib/python3.11/site-packages/pandas/core/arrays/sparse/array.py:1882\u001b[0m, in \u001b[0;36m_make_sparse\u001b[0;34m(arr, kind, fill_value, dtype)\u001b[0m\n\u001b[1;32m   1880\u001b[0m \u001b[38;5;28;01mif\u001b[39;00m dtype \u001b[38;5;129;01mis\u001b[39;00m \u001b[38;5;129;01mnot\u001b[39;00m \u001b[38;5;28;01mNone\u001b[39;00m:\n\u001b[1;32m   1881\u001b[0m     sparsified_values \u001b[38;5;241m=\u001b[39m ensure_wrapped_if_datetimelike(sparsified_values)\n\u001b[0;32m-> 1882\u001b[0m     sparsified_values \u001b[38;5;241m=\u001b[39m astype_array(sparsified_values, dtype\u001b[38;5;241m=\u001b[39mdtype)\n\u001b[1;32m   1883\u001b[0m     sparsified_values \u001b[38;5;241m=\u001b[39m np\u001b[38;5;241m.\u001b[39masarray(sparsified_values)\n\u001b[1;32m   1885\u001b[0m \u001b[38;5;66;03m# TODO: copy\u001b[39;00m\n",
      "File \u001b[0;32m~/anaconda3/lib/python3.11/site-packages/pandas/core/dtypes/astype.py:183\u001b[0m, in \u001b[0;36mastype_array\u001b[0;34m(values, dtype, copy)\u001b[0m\n\u001b[1;32m    180\u001b[0m     values \u001b[38;5;241m=\u001b[39m values\u001b[38;5;241m.\u001b[39mastype(dtype, copy\u001b[38;5;241m=\u001b[39mcopy)\n\u001b[1;32m    182\u001b[0m \u001b[38;5;28;01melse\u001b[39;00m:\n\u001b[0;32m--> 183\u001b[0m     values \u001b[38;5;241m=\u001b[39m _astype_nansafe(values, dtype, copy\u001b[38;5;241m=\u001b[39mcopy)\n\u001b[1;32m    185\u001b[0m \u001b[38;5;66;03m# in pandas we don't store numpy str dtypes, so convert to object\u001b[39;00m\n\u001b[1;32m    186\u001b[0m \u001b[38;5;28;01mif\u001b[39;00m \u001b[38;5;28misinstance\u001b[39m(dtype, np\u001b[38;5;241m.\u001b[39mdtype) \u001b[38;5;129;01mand\u001b[39;00m \u001b[38;5;28missubclass\u001b[39m(values\u001b[38;5;241m.\u001b[39mdtype\u001b[38;5;241m.\u001b[39mtype, \u001b[38;5;28mstr\u001b[39m):\n",
      "File \u001b[0;32m~/anaconda3/lib/python3.11/site-packages/pandas/core/dtypes/astype.py:134\u001b[0m, in \u001b[0;36m_astype_nansafe\u001b[0;34m(arr, dtype, copy, skipna)\u001b[0m\n\u001b[1;32m    130\u001b[0m     \u001b[38;5;28;01mraise\u001b[39;00m \u001b[38;5;167;01mValueError\u001b[39;00m(msg)\n\u001b[1;32m    132\u001b[0m \u001b[38;5;28;01mif\u001b[39;00m copy \u001b[38;5;129;01mor\u001b[39;00m arr\u001b[38;5;241m.\u001b[39mdtype \u001b[38;5;241m==\u001b[39m \u001b[38;5;28mobject\u001b[39m \u001b[38;5;129;01mor\u001b[39;00m dtype \u001b[38;5;241m==\u001b[39m \u001b[38;5;28mobject\u001b[39m:\n\u001b[1;32m    133\u001b[0m     \u001b[38;5;66;03m# Explicit copy, or required since NumPy can't view from / to object.\u001b[39;00m\n\u001b[0;32m--> 134\u001b[0m     \u001b[38;5;28;01mreturn\u001b[39;00m arr\u001b[38;5;241m.\u001b[39mastype(dtype, copy\u001b[38;5;241m=\u001b[39m\u001b[38;5;28;01mTrue\u001b[39;00m)\n\u001b[1;32m    136\u001b[0m \u001b[38;5;28;01mreturn\u001b[39;00m arr\u001b[38;5;241m.\u001b[39mastype(dtype, copy\u001b[38;5;241m=\u001b[39mcopy)\n",
      "\u001b[0;31mValueError\u001b[0m: invalid literal for int() with base 10: '2021-09-27 00:01:30.000000'"
     ]
    }
   ],
   "source": [
    "%%time\n",
    "\n",
    "data = pd.read_csv('data_after_celar.csv').astype(pd.SparseDtype(int, fill_value=0))\n",
    "print(data.shape)\n",
    "print(data.head())"
   ]
  },
  {
   "cell_type": "code",
   "execution_count": 3,
   "metadata": {
    "colab": {
     "base_uri": "https://localhost:8080/"
    },
    "id": "BboMii4UZ2XP",
    "outputId": "72f233e7-5133-4df9-fc82-4ee06858d1c1",
    "pycharm": {
     "name": "#%%\n"
    }
   },
   "outputs": [
    {
     "name": "stdout",
     "output_type": "stream",
     "text": [
      "CPU times: user 35 s, sys: 2.35 s, total: 37.3 s\n",
      "Wall time: 37.3 s\n"
     ]
    }
   ],
   "source": [
    "%%time\n",
    "def feature_engineering(data: pd.DataFrame) -> pd.DataFrame:\n",
    "    return pd.get_dummies(data, columns=['zone_id', 'banner_id', 'campaign_clicks', 'os_id', 'country_id'], sparse = True)\n",
    "    pass\n",
    "small_data = data.head()\n",
    "#small_data = feature_engineering(small_data)\n",
    "data = feature_engineering(data)\n"
   ]
  },
  {
   "cell_type": "markdown",
   "metadata": {
    "id": "HG8VDVJZew9r"
   },
   "source": [
    "Оставим последний день наблюдений для валидации."
   ]
  },
  {
   "cell_type": "code",
   "execution_count": 7,
   "metadata": {
    "scrolled": true
   },
   "outputs": [
    {
     "name": "stdout",
     "output_type": "stream",
     "text": [
      "mask ready\n",
      "mask ready\n",
      "control ready\n",
      "mask ready\n",
      "mask ready\n",
      "data ready\n"
     ]
    },
    {
     "name": "stderr",
     "output_type": "stream",
     "text": [
      "<timed exec>:14: SettingWithCopyWarning: \n",
      "A value is trying to be set on a copy of a slice from a DataFrame\n",
      "\n",
      "See the caveats in the documentation: https://pandas.pydata.org/pandas-docs/stable/user_guide/indexing.html#returning-a-view-versus-a-copy\n"
     ]
    },
    {
     "name": "stdout",
     "output_type": "stream",
     "text": [
      "control without date ready\n",
      "data without date ready\n",
      "CPU times: user 39min, sys: 7min 43s, total: 46min 44s\n",
      "Wall time: 46min 46s\n"
     ]
    },
    {
     "name": "stderr",
     "output_type": "stream",
     "text": [
      "<timed exec>:16: SettingWithCopyWarning: \n",
      "A value is trying to be set on a copy of a slice from a DataFrame\n",
      "\n",
      "See the caveats in the documentation: https://pandas.pydata.org/pandas-docs/stable/user_guide/indexing.html#returning-a-view-versus-a-copy\n"
     ]
    }
   ],
   "source": [
    "%%time\n",
    "mask = data['date_time'] >= '2021-10-02'\n",
    "print('mask ready')\n",
    "control_data = data[mask]\n",
    "print('mask ready')\n",
    "control_data.reset_index(drop=True, inplace = True)\n",
    "print('control ready')\n",
    "mask = data['date_time'] < '2021-10-02'\n",
    "print('mask ready')\n",
    "data = data[mask]\n",
    "print('mask ready')\n",
    "data.reset_index(drop=True, inplace = True)\n",
    "print('data ready')\n",
    "\n",
    "control_data.drop(['date_time'], axis = 1, inplace = True)\n",
    "print('control without date ready')\n",
    "data.drop(['date_time'], axis = 1, inplace = True)\n",
    "print('data without date ready')"
   ]
  },
  {
   "cell_type": "markdown",
   "metadata": {},
   "source": [
    "Разобьем данные на последний день данных и на все остальные. Данеые с последнего дня выстопят как валидационые данныпе."
   ]
  },
  {
   "cell_type": "code",
   "execution_count": 2,
   "metadata": {
    "colab": {
     "base_uri": "https://localhost:8080/"
    },
    "id": "d-c9Z80_yHBu",
    "outputId": "cb223552-5fde-4a64-b1fa-cc26120282fd"
   },
   "outputs": [
    {
     "ename": "NameError",
     "evalue": "name 'control_data' is not defined",
     "output_type": "error",
     "traceback": [
      "\u001b[0;31m---------------------------------------------------------------------------\u001b[0m",
      "\u001b[0;31mNameError\u001b[0m                                 Traceback (most recent call last)",
      "Cell \u001b[0;32mIn[2], line 1\u001b[0m\n\u001b[0;32m----> 1\u001b[0m control_data\u001b[38;5;241m.\u001b[39mto_pickle(\u001b[38;5;124m'\u001b[39m\u001b[38;5;124mcontrol_data_flatten.pkl\u001b[39m\u001b[38;5;124m'\u001b[39m)\n\u001b[1;32m      2\u001b[0m data\u001b[38;5;241m.\u001b[39mto_pickle(\u001b[38;5;124m'\u001b[39m\u001b[38;5;124mdata_flatten.pkl\u001b[39m\u001b[38;5;124m'\u001b[39m)\n",
      "\u001b[0;31mNameError\u001b[0m: name 'control_data' is not defined"
     ]
    }
   ],
   "source": [
    "\n",
    "\n",
    "control_data.to_pickle('control_data_flatten.pkl')\n",
    "data.to_pickle('data_flatten.pkl')\n"
   ]
  },
  {
   "cell_type": "code",
   "execution_count": 16,
   "metadata": {},
   "outputs": [
    {
     "name": "stdout",
     "output_type": "stream",
     "text": [
      "(2128978, 5928)\n",
      "(13692494, 5928)\n",
      "CPU times: user 3.63 s, sys: 831 ms, total: 4.46 s\n",
      "Wall time: 5.54 s\n"
     ]
    }
   ],
   "source": [
    "%%time\n",
    "\n",
    "\n",
    "control_data = pd.read_pickle('control_data_flatten.pkl').astype(pd.SparseDtype(int, fill_value=0))\n",
    "print(control_data.shape)\n",
    "data = pd.read_pickle('data_flatten.pkl').astype(pd.SparseDtype(int, fill_value=0))\n",
    "print(data.shape)"
   ]
  },
  {
   "cell_type": "code",
   "execution_count": 17,
   "metadata": {
    "id": "tUbnFeawfeLz"
   },
   "outputs": [
    {
     "name": "stdout",
     "output_type": "stream",
     "text": [
      "CPU times: user 629 ms, sys: 124 ms, total: 753 ms\n",
      "Wall time: 751 ms\n"
     ]
    }
   ],
   "source": [
    "%%time\n",
    "Y = data['clicks']\n",
    "data.drop(['clicks'],axis = 1, inplace = True)\n",
    "\n",
    "Y_control_data = control_data['clicks']\n",
    "control_data.drop(['clicks'],axis = 1, inplace = True)"
   ]
  },
  {
   "cell_type": "code",
   "execution_count": null,
   "metadata": {
    "id": "t7qrMFcJxK1O"
   },
   "outputs": [],
   "source": []
  },
  {
   "cell_type": "code",
   "execution_count": 5,
   "metadata": {},
   "outputs": [
    {
     "name": "stdout",
     "output_type": "stream",
     "text": [
      "(2128978, 5927)\n",
      "(13692494, 5927)\n"
     ]
    }
   ],
   "source": [
    "print(control_data.shape)\n",
    "print(data.shape)"
   ]
  },
  {
   "cell_type": "code",
   "execution_count": 2,
   "metadata": {
    "id": "j01x4Ho2fHh7"
   },
   "outputs": [],
   "source": []
  },
  {
   "cell_type": "code",
   "execution_count": 12,
   "metadata": {
    "id": "VnhaWLWCyThA"
   },
   "outputs": [
    {
     "name": "stdout",
     "output_type": "stream",
     "text": [
      "CPU times: user 1h 16min 7s, sys: 8min 40s, total: 1h 24min 48s\n",
      "Wall time: 1h 29min 51s\n"
     ]
    }
   ],
   "source": [
    "%%time\n",
    "x_train, x_test, y_train, y_test = train_test_split(data, Y, test_size=0.2, stratify=Y, random_state=2)\n",
    "\n",
    "x_train.to_pickle('x_train.pkl')\n",
    "x_test.to_pickle('x_test.pkl')\n",
    "y_train.to_pickle('y_train.pkl')\n",
    "y_test.to_pickle('y_test.pkl')"
   ]
  },
  {
   "cell_type": "markdown",
   "metadata": {},
   "source": [
    "Сохраним получившыеся выборки, из-за того что эти выборки долго считаются"
   ]
  },
  {
   "cell_type": "code",
   "execution_count": 2,
   "metadata": {},
   "outputs": [
    {
     "name": "stdout",
     "output_type": "stream",
     "text": [
      "(10953995, 5927)\n",
      "(2738499, 5927)\n",
      "(10953995,)\n",
      "(2738499,)\n",
      "CPU times: user 3.65 s, sys: 1.44 s, total: 5.09 s\n",
      "Wall time: 6.46 s\n"
     ]
    }
   ],
   "source": [
    "%%time\n",
    "\n",
    "\n",
    "x_train = pd.read_pickle('x_train.pkl').astype(pd.SparseDtype(int, fill_value=0))\n",
    "print(x_train.shape)\n",
    "\n",
    "x_test = pd.read_pickle('x_test.pkl').astype(pd.SparseDtype(int, fill_value=0))\n",
    "print(x_test.shape)\n",
    "\n",
    "y_train = pd.read_pickle('y_train.pkl').astype(pd.SparseDtype(int, fill_value=0))\n",
    "print(y_train.shape)\n",
    "\n",
    "y_test = pd.read_pickle('y_test.pkl').astype(pd.SparseDtype(int, fill_value=0))\n",
    "print(y_test.shape)"
   ]
  },
  {
   "cell_type": "code",
   "execution_count": null,
   "metadata": {},
   "outputs": [],
   "source": []
  },
  {
   "cell_type": "code",
   "execution_count": 3,
   "metadata": {
    "id": "kBOWhGCDyb10"
   },
   "outputs": [
    {
     "name": "stdout",
     "output_type": "stream",
     "text": [
      "0.9747301327050085\n",
      "CPU times: user 6min 33s, sys: 40.6 s, total: 7min 14s\n",
      "Wall time: 4min 59s\n"
     ]
    }
   ],
   "source": [
    "%%time\n",
    "mdl= LogisticRegression(solver='liblinear', C = 1.0)\n",
    "mdl.fit(x_train, y_train)\n",
    "\n",
    "train_prediction = mdl.predict(x_train)\n",
    "train_accuracy = accuracy_score(train_prediction, y_train)\n",
    "print(train_accuracy)\n"
   ]
  },
  {
   "cell_type": "markdown",
   "metadata": {},
   "source": [
    "Обучим модель с методом \"liblinear\""
   ]
  },
  {
   "cell_type": "code",
   "execution_count": 4,
   "metadata": {
    "id": "m2e2vfl0yfii"
   },
   "outputs": [
    {
     "name": "stdout",
     "output_type": "stream",
     "text": [
      "0.9747215536686338\n",
      "CPU times: user 1.6 s, sys: 104 ms, total: 1.7 s\n",
      "Wall time: 1.7 s\n"
     ]
    }
   ],
   "source": [
    "%%time\n",
    "test_prediction = mdl.predict(x_test)\n",
    "test_accuracy = accuracy_score(test_prediction, y_test)\n",
    "print(test_accuracy)"
   ]
  },
  {
   "cell_type": "markdown",
   "metadata": {},
   "source": [
    "Аccuracy на тесте 0.9747215536686338\n",
    "Построим ROC кривую"
   ]
  },
  {
   "cell_type": "code",
   "execution_count": 5,
   "metadata": {
    "id": "uwQxmg2HyTem"
   },
   "outputs": [
    {
     "data": {
      "image/png": "[encoded data removed]",
      "text/plain": [
       "<Figure size 640x480 with 1 Axes>"
      ]
     },
     "metadata": {},
     "output_type": "display_data"
    }
   ],
   "source": [
    "import matplotlib.pyplot as plt\n",
    "#roc_auc_score(y_test, mdl.predict_proba(x_test)[:, 1])\n",
    "fpr, tpr, thresholds = roc_curve(y_test, mdl.predict_proba(x_test)[:, 1])\n",
    "roc_auc = auc(fpr, tpr)\n",
    "display = RocCurveDisplay(fpr=fpr, tpr=tpr, roc_auc=roc_auc, estimator_name='example estimator')\n",
    "display.plot()\n",
    "plt.show()"
   ]
  },
  {
   "cell_type": "markdown",
   "metadata": {},
   "source": [
    "Выберем лучший гиперпараметр. "
   ]
  },
  {
   "cell_type": "code",
   "execution_count": 6,
   "metadata": {
    "id": "c4rAjOw_yTcE"
   },
   "outputs": [
    {
     "name": "stdout",
     "output_type": "stream",
     "text": [
      "0.001 0.9746658639154026 0.7373062768871306 0.10792961586234474\n",
      "0.01 0.9747315933593178 0.7554572139678623 0.10589168586985602\n",
      "0.1 0.9747282155962277 0.7589891037042297 0.10537013957277741\n",
      "1.0 0.9747301327050085 0.7595263207168248 0.1052946855538622\n",
      "10.0 0.9747345146679363 0.7594355679447934 0.10531538214686521\n",
      "100.0 0.974736979522083 0.7592311354533641 0.10537137664256982\n",
      "CPU times: user 49min 44s, sys: 5min 9s, total: 54min 54s\n",
      "Wall time: 37min 31s\n"
     ]
    }
   ],
   "source": [
    "%%time\n",
    "C_value = [0.001, 0.01, 0.1, 1.0, 10.0, 100.0];\n",
    "auc_array = []\n",
    "logloss_array = []\n",
    "for C in C_value:\n",
    "    \n",
    "    mdl= LogisticRegression(solver='liblinear', C = C)\n",
    "    mdl.fit(x_train, y_train)\n",
    "\n",
    "    train_prediction = mdl.predict(x_train)\n",
    "    train_accuracy = accuracy_score(train_prediction, y_train)\n",
    "    \n",
    "    fpr, tpr, thresholds = roc_curve(y_test, mdl.predict_proba(x_test)[:, 1])\n",
    "    roc_auc = auc(fpr, tpr)\n",
    "    logloss = log_loss(y_test, mdl.predict_proba(x_test)[:, 1])\n",
    "    auc_array.append(roc_auc)\n",
    "    logloss_array.append(logloss)\n",
    "    print(C, train_accuracy, roc_auc, logloss)\n"
   ]
  },
  {
   "cell_type": "code",
   "execution_count": 8,
   "metadata": {},
   "outputs": [],
   "source": [
    "model_C = 0\n",
    "for i in range(len(C_value)):\n",
    "    if auc_array[i] == max(auc_array):\n",
    "        model_C = C_value[i]\n",
    "\n",
    "mdl= LogisticRegression(solver='liblinear', C = model_C)\n",
    "mdl.fit(x_train, y_train)\n",
    "\n",
    "with open('model.pkl','wb') as f:\n",
    "    pickle.dump(mdl,f)\n",
    "\n",
    "\n",
    "\n",
    "    "
   ]
  },
  {
   "cell_type": "code",
   "execution_count": 9,
   "metadata": {},
   "outputs": [],
   "source": [
    "# load\n",
    "with open('model.pkl', 'rb') as f:\n",
    "    mdl = pickle.load(f)"
   ]
  },
  {
   "cell_type": "markdown",
   "metadata": {},
   "source": [
    "Посчитаем метрики на валидацином множестве."
   ]
  },
  {
   "cell_type": "code",
   "execution_count": 18,
   "metadata": {
    "id": "-GmB-_tayjdi"
   },
   "outputs": [
    {
     "name": "stdout",
     "output_type": "stream",
     "text": [
      "control accuracy : 0.9646708420660054\n",
      "control log loss : 1.273391923102279\n",
      "control f1 : 0.004684460559224021\n",
      "CPU times: user 2.31 s, sys: 19.8 ms, total: 2.33 s\n",
      "Wall time: 2.33 s\n"
     ]
    }
   ],
   "source": [
    "%%time\n",
    "control_prediction = mdl.predict(control_data)\n",
    "\n",
    "control_accuracy = accuracy_score(control_prediction, Y_control_data)\n",
    "print('control accuracy :', control_accuracy)\n",
    "control_logloss = log_loss(control_prediction, Y_control_data)\n",
    "print('control log loss :', control_logloss)\n",
    "control_f1 = f1_score(control_prediction, Y_control_data)\n",
    "print('control f1 :', control_f1)\n"
   ]
  },
  {
   "cell_type": "code",
   "execution_count": null,
   "metadata": {},
   "outputs": [],
   "source": []
  },
  {
   "cell_type": "markdown",
   "metadata": {},
   "source": [
    "Реализуем и сравним обученый метод с безлайном(самое часто встречаемое по историческим данным)"
   ]
  },
  {
   "cell_type": "code",
   "execution_count": 19,
   "metadata": {},
   "outputs": [
    {
     "name": "stdout",
     "output_type": "stream",
     "text": [
      "mask ready\n",
      "mask ready\n",
      "control ready\n",
      "mask ready\n",
      "mask ready\n",
      "data ready\n",
      "control without date ready\n",
      "data without date ready\n",
      "CPU times: user 17.7 s, sys: 5.65 s, total: 23.4 s\n",
      "Wall time: 24.6 s\n"
     ]
    }
   ],
   "source": [
    "%%time\n",
    "data = pd.read_csv('data_after_celar.csv')#.astype(pd.SparseDtype(int, fill_value=0))\n",
    "\n",
    "\n",
    "mask = data['date_time'] >= '2021-10-02'\n",
    "print('mask ready')\n",
    "control_data = data[mask]\n",
    "print('mask ready')\n",
    "control_data.reset_index(drop=True, inplace = True)\n",
    "print('control ready')\n",
    "mask = data['date_time'] < '2021-10-02'\n",
    "print('mask ready')\n",
    "data = data[mask]\n",
    "print('mask ready')\n",
    "data.reset_index(drop=True, inplace = True)\n",
    "print('data ready')\n",
    "\n",
    "control_data.drop(['date_time'], axis = 1, inplace = True)\n",
    "print('control without date ready')\n",
    "data.drop(['date_time'], axis = 1, inplace = True)\n",
    "print('data without date ready')"
   ]
  },
  {
   "cell_type": "code",
   "execution_count": 20,
   "metadata": {},
   "outputs": [],
   "source": [
    "\n",
    "\n",
    "data_small = data.head(8000)\n"
   ]
  },
  {
   "cell_type": "code",
   "execution_count": 21,
   "metadata": {},
   "outputs": [
    {
     "name": "stdout",
     "output_type": "stream",
     "text": [
      "0\n"
     ]
    }
   ],
   "source": [
    "%%time\n",
    "#data_small = data_small.groupby([ 'zone_id']).agg({'clicks': ['sum', 'mean', 'mode']}).round(4)\n",
    "\n",
    "predict_dict = data.groupby(['zone_id', 'banner_id', 'campaign_clicks', 'os_id', 'country_id'])['clicks'].agg(pd.Series.mode).to_dict()#.round(4)\n",
    "#predict_dict = data.groupby(['zone_id', 'banner_id', 'campaign_clicks'])['clicks'].agg(pd.Series.mode).to_dict()#.round(4)\n",
    "\n",
    "print(predict_dict[(0, 0, 0, 0, 0)])\n",
    "#print(data)                                   "
   ]
  },
  {
   "cell_type": "code",
   "execution_count": 22,
   "metadata": {},
   "outputs": [
    {
     "name": "stdout",
     "output_type": "stream",
     "text": [
      "count of bad rows: 1414 , All rows: 2128978\n",
      "simple accuracy : 0.9641659049553354\n",
      "simple log loss : 1.2915917013025728\n",
      "simple f1 : 0.02119524774832568\n"
     ]
    }
   ],
   "source": [
    "%%time\n",
    "y_simple = []\n",
    "y_lable = []\n",
    "inT = 1\n",
    "cnt_bad_row = 0\n",
    "for index, row in control_data.iterrows():\n",
    "    #print(index)\n",
    "    Y_l = row['clicks']\n",
    "    y_lable.append(Y_l)\n",
    "    Y_s = predict_dict.get((row['zone_id'], row['banner_id'], row['campaign_clicks'], row['os_id'], row['country_id']), 0)\n",
    "    \n",
    "    if type(Y_s) != type(inT):\n",
    "        cnt_bad_row += 1\n",
    "        #print(Y_s)\n",
    "        Y_s = 0\n",
    "        \n",
    "    \n",
    "    y_simple.append(Y_s)\n",
    "    \n",
    "   # if index> 240 and index < 270:\n",
    "    #    inT = 1\n",
    "      #  print(type(Y_s) == type(inT))\n",
    "       # print(Y_l, Y_s)\n",
    "        #print((row['zone_id'], row['banner_id'], row['campaign_clicks'], row['os_id'], row['country_id']))\n",
    "    \n",
    "print('count of bad rows:', cnt_bad_row, ', All rows:', len(y_simple))\n",
    "#print(y_lable[250:300])\n",
    "#print(y_simple[250:300])\n",
    "#y_lable = y_lable[250:300]\n",
    "#y_simple = y_simple[250:280]\n",
    "\n",
    "#print(y_lable, y_simple)\n",
    "\n",
    "simple_accuracy = accuracy_score(y_simple, y_lable)\n",
    "print('simple accuracy :', simple_accuracy)\n",
    "simple_logloss = log_loss(y_simple, y_lable)\n",
    "print('simple log loss :', simple_logloss)\n",
    "simple_f1 = f1_score(y_simple, y_lable)\n",
    "print('simple f1 :', simple_f1)\n",
    "\n"
   ]
  },
  {
   "cell_type": "markdown",
   "metadata": {},
   "source": [
    "Обученая мною модель побивает бейзлайн"
   ]
  },
  {
   "cell_type": "code",
   "execution_count": null,
   "metadata": {},
   "outputs": [],
   "source": []
  }
 ],
 "metadata": {
  "colab": {
   "provenance": []
  },
  "kernelspec": {
   "display_name": "Python 3 (ipykernel)",
   "language": "python",
   "name": "python3"
  },
  "language_info": {
   "codemirror_mode": {
    "name": "ipython",
    "version": 3
   },
   "file_extension": ".py",
   "mimetype": "text/x-python",
   "name": "python",
   "nbconvert_exporter": "python",
   "pygments_lexer": "ipython3",
   "version": "3.11.5"
  }
 },
 "nbformat": 4,
 "nbformat_minor": 1
}
