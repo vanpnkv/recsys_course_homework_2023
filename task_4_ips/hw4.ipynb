{
 "cells": [
  {
   "cell_type": "code",
   "execution_count": 1,
   "metadata": {},
   "outputs": [],
   "source": [
    "\n",
    "import numpy as np\n",
    "import pandas as pd\n",
    "from sklearn.linear_model import LogisticRegression\n",
    "from sklearn.preprocessing import OneHotEncoder\n",
    "from sklearn.metrics import log_loss, roc_auc_score"
   ]
  },
  {
   "cell_type": "code",
   "execution_count": 2,
   "metadata": {},
   "outputs": [
    {
     "data": {
      "text/html": [
       "<div>\n",
       "<style scoped>\n",
       "    .dataframe tbody tr th:only-of-type {\n",
       "        vertical-align: middle;\n",
       "    }\n",
       "\n",
       "    .dataframe tbody tr th {\n",
       "        vertical-align: top;\n",
       "    }\n",
       "\n",
       "    .dataframe thead th {\n",
       "        text-align: right;\n",
       "    }\n",
       "</style>\n",
       "<table border=\"1\" class=\"dataframe\">\n",
       "  <thead>\n",
       "    <tr style=\"text-align: right;\">\n",
       "      <th></th>\n",
       "      <th>date_time</th>\n",
       "      <th>zone_id</th>\n",
       "      <th>banner_id</th>\n",
       "      <th>oaid_hash</th>\n",
       "      <th>campaign_clicks</th>\n",
       "      <th>os_id</th>\n",
       "      <th>country_id</th>\n",
       "      <th>banner_id0</th>\n",
       "      <th>rate0</th>\n",
       "      <th>g0</th>\n",
       "      <th>coeff_sum0</th>\n",
       "      <th>banner_id1</th>\n",
       "      <th>rate1</th>\n",
       "      <th>g1</th>\n",
       "      <th>coeff_sum1</th>\n",
       "      <th>impressions</th>\n",
       "      <th>clicks</th>\n",
       "    </tr>\n",
       "  </thead>\n",
       "  <tbody>\n",
       "    <tr>\n",
       "      <th>1745969</th>\n",
       "      <td>2021-10-02 23:59:59.000000</td>\n",
       "      <td>0</td>\n",
       "      <td>1240</td>\n",
       "      <td>1602730444213689664</td>\n",
       "      <td>0</td>\n",
       "      <td>6</td>\n",
       "      <td>0</td>\n",
       "      <td>1240</td>\n",
       "      <td>0.067</td>\n",
       "      <td>0.023994</td>\n",
       "      <td>-6.596547</td>\n",
       "      <td>11815404</td>\n",
       "      <td>1.261</td>\n",
       "      <td>0.009313</td>\n",
       "      <td>-4.334192</td>\n",
       "      <td>1</td>\n",
       "      <td>0</td>\n",
       "    </tr>\n",
       "    <tr>\n",
       "      <th>13959634</th>\n",
       "      <td>2021-10-02 23:59:59.000000</td>\n",
       "      <td>76</td>\n",
       "      <td>223</td>\n",
       "      <td>7727064149323604529</td>\n",
       "      <td>2</td>\n",
       "      <td>3</td>\n",
       "      <td>0</td>\n",
       "      <td>223</td>\n",
       "      <td>0.001</td>\n",
       "      <td>0.092767</td>\n",
       "      <td>-3.738197</td>\n",
       "      <td>153</td>\n",
       "      <td>0.001</td>\n",
       "      <td>0.100974</td>\n",
       "      <td>-3.812352</td>\n",
       "      <td>1</td>\n",
       "      <td>0</td>\n",
       "    </tr>\n",
       "    <tr>\n",
       "      <th>13319080</th>\n",
       "      <td>2021-10-02 23:59:59.000000</td>\n",
       "      <td>20</td>\n",
       "      <td>1240</td>\n",
       "      <td>6641189974907647716</td>\n",
       "      <td>0</td>\n",
       "      <td>6</td>\n",
       "      <td>0</td>\n",
       "      <td>1240</td>\n",
       "      <td>0.067</td>\n",
       "      <td>0.011625</td>\n",
       "      <td>-5.709127</td>\n",
       "      <td>1235</td>\n",
       "      <td>0.067</td>\n",
       "      <td>0.011629</td>\n",
       "      <td>-5.707838</td>\n",
       "      <td>1</td>\n",
       "      <td>0</td>\n",
       "    </tr>\n",
       "    <tr>\n",
       "      <th>3336944</th>\n",
       "      <td>2021-10-02 23:59:59.000000</td>\n",
       "      <td>24</td>\n",
       "      <td>556</td>\n",
       "      <td>5831343304744661795</td>\n",
       "      <td>0</td>\n",
       "      <td>0</td>\n",
       "      <td>12</td>\n",
       "      <td>556</td>\n",
       "      <td>0.001</td>\n",
       "      <td>0.237553</td>\n",
       "      <td>-3.124159</td>\n",
       "      <td>385</td>\n",
       "      <td>0.001</td>\n",
       "      <td>0.252622</td>\n",
       "      <td>-3.259452</td>\n",
       "      <td>1</td>\n",
       "      <td>0</td>\n",
       "    </tr>\n",
       "    <tr>\n",
       "      <th>3226555</th>\n",
       "      <td>2021-10-02 23:59:59.000000</td>\n",
       "      <td>74</td>\n",
       "      <td>418</td>\n",
       "      <td>8774465000271096189</td>\n",
       "      <td>0</td>\n",
       "      <td>0</td>\n",
       "      <td>5</td>\n",
       "      <td>899</td>\n",
       "      <td>0.004</td>\n",
       "      <td>0.109321</td>\n",
       "      <td>-3.809907</td>\n",
       "      <td>418</td>\n",
       "      <td>0.010</td>\n",
       "      <td>0.039603</td>\n",
       "      <td>-4.673005</td>\n",
       "      <td>1</td>\n",
       "      <td>0</td>\n",
       "    </tr>\n",
       "  </tbody>\n",
       "</table>\n",
       "</div>"
      ],
      "text/plain": [
       "                           date_time  zone_id  banner_id            oaid_hash  \\\n",
       "1745969   2021-10-02 23:59:59.000000        0       1240  1602730444213689664   \n",
       "13959634  2021-10-02 23:59:59.000000       76        223  7727064149323604529   \n",
       "13319080  2021-10-02 23:59:59.000000       20       1240  6641189974907647716   \n",
       "3336944   2021-10-02 23:59:59.000000       24        556  5831343304744661795   \n",
       "3226555   2021-10-02 23:59:59.000000       74        418  8774465000271096189   \n",
       "\n",
       "          campaign_clicks  os_id  country_id  banner_id0  rate0        g0  \\\n",
       "1745969                 0      6           0        1240  0.067  0.023994   \n",
       "13959634                2      3           0         223  0.001  0.092767   \n",
       "13319080                0      6           0        1240  0.067  0.011625   \n",
       "3336944                 0      0          12         556  0.001  0.237553   \n",
       "3226555                 0      0           5         899  0.004  0.109321   \n",
       "\n",
       "          coeff_sum0  banner_id1  rate1        g1  coeff_sum1  impressions  \\\n",
       "1745969    -6.596547    11815404  1.261  0.009313   -4.334192            1   \n",
       "13959634   -3.738197         153  0.001  0.100974   -3.812352            1   \n",
       "13319080   -5.709127        1235  0.067  0.011629   -5.707838            1   \n",
       "3336944    -3.124159         385  0.001  0.252622   -3.259452            1   \n",
       "3226555    -3.809907         418  0.010  0.039603   -4.673005            1   \n",
       "\n",
       "          clicks  \n",
       "1745969        0  \n",
       "13959634       0  \n",
       "13319080       0  \n",
       "3336944        0  \n",
       "3226555        0  "
      ]
     },
     "execution_count": 2,
     "metadata": {},
     "output_type": "execute_result"
    }
   ],
   "source": [
    "data = pd.read_csv('data.csv')\n",
    "data = data[data['date_time'] > '2021-09-02']\n",
    "data = data.sort_values(by=['date_time']) \n",
    "data.tail()"
   ]
  },
  {
   "cell_type": "code",
   "execution_count": 3,
   "metadata": {},
   "outputs": [],
   "source": [
    "test_day = '2021-10-02'"
   ]
  },
  {
   "cell_type": "code",
   "execution_count": 4,
   "metadata": {},
   "outputs": [
    {
     "name": "stderr",
     "output_type": "stream",
     "text": [
      "/home/aleksandr/.local/lib/python3.10/site-packages/sklearn/preprocessing/_encoders.py:228: UserWarning: Found unknown categories in columns [0, 1, 2] during transform. These unknown categories will be encoded as all zeros\n",
      "  warnings.warn(\n"
     ]
    }
   ],
   "source": [
    "#feature engeneering\n",
    "data = data.drop([\"impressions\", \"campaign_clicks\", \"rate0\", \"rate1\"], axis=1)\n",
    "data['hour'] = pd.to_datetime(data['date_time']).dt.hour # выборка всего на неделю, имеет смысл смотреть только на час\n",
    "\n",
    "# разибиваем на test и train\n",
    "train  = data[(data['date_time']<test_day)]\n",
    "test = data[(data['date_time']>=test_day)]\n",
    "\n",
    "test = test.drop([\"date_time\"], axis=1)\n",
    "train = train.drop([\"date_time\"], axis=1)\n",
    "\n",
    "train_target = train[\"clicks\"]\n",
    "train_x = train.drop([\"g0\", \"g1\", \"coeff_sum0\", \"coeff_sum1\", \"clicks\", \"banner_id0\", \"banner_id1\"], axis=1)\n",
    "\n",
    "test_target = test[\"clicks\"]\n",
    "test_x = test.drop([\"g0\", \"g1\", \"coeff_sum0\", \"coeff_sum1\", \"clicks\", \"banner_id0\", \"banner_id1\"], axis=1)\n",
    "\n",
    "oneHotEncoder = OneHotEncoder(handle_unknown='ignore', drop='first')\n",
    "train_x = oneHotEncoder.fit_transform(train_x)\n",
    "test_x = oneHotEncoder.transform(test_x)\n"
   ]
  },
  {
   "cell_type": "markdown",
   "metadata": {},
   "source": [
    "Обучим обычную LogisticRegression на liblinear, l2 и c=0.01"
   ]
  },
  {
   "cell_type": "code",
   "execution_count": 5,
   "metadata": {},
   "outputs": [
    {
     "data": {
      "text/html": [
       "<style>#sk-container-id-1 {color: black;}#sk-container-id-1 pre{padding: 0;}#sk-container-id-1 div.sk-toggleable {background-color: white;}#sk-container-id-1 label.sk-toggleable__label {cursor: pointer;display: block;width: 100%;margin-bottom: 0;padding: 0.3em;box-sizing: border-box;text-align: center;}#sk-container-id-1 label.sk-toggleable__label-arrow:before {content: \"▸\";float: left;margin-right: 0.25em;color: #696969;}#sk-container-id-1 label.sk-toggleable__label-arrow:hover:before {color: black;}#sk-container-id-1 div.sk-estimator:hover label.sk-toggleable__label-arrow:before {color: black;}#sk-container-id-1 div.sk-toggleable__content {max-height: 0;max-width: 0;overflow: hidden;text-align: left;background-color: #f0f8ff;}#sk-container-id-1 div.sk-toggleable__content pre {margin: 0.2em;color: black;border-radius: 0.25em;background-color: #f0f8ff;}#sk-container-id-1 input.sk-toggleable__control:checked~div.sk-toggleable__content {max-height: 200px;max-width: 100%;overflow: auto;}#sk-container-id-1 input.sk-toggleable__control:checked~label.sk-toggleable__label-arrow:before {content: \"▾\";}#sk-container-id-1 div.sk-estimator input.sk-toggleable__control:checked~label.sk-toggleable__label {background-color: #d4ebff;}#sk-container-id-1 div.sk-label input.sk-toggleable__control:checked~label.sk-toggleable__label {background-color: #d4ebff;}#sk-container-id-1 input.sk-hidden--visually {border: 0;clip: rect(1px 1px 1px 1px);clip: rect(1px, 1px, 1px, 1px);height: 1px;margin: -1px;overflow: hidden;padding: 0;position: absolute;width: 1px;}#sk-container-id-1 div.sk-estimator {font-family: monospace;background-color: #f0f8ff;border: 1px dotted black;border-radius: 0.25em;box-sizing: border-box;margin-bottom: 0.5em;}#sk-container-id-1 div.sk-estimator:hover {background-color: #d4ebff;}#sk-container-id-1 div.sk-parallel-item::after {content: \"\";width: 100%;border-bottom: 1px solid gray;flex-grow: 1;}#sk-container-id-1 div.sk-label:hover label.sk-toggleable__label {background-color: #d4ebff;}#sk-container-id-1 div.sk-serial::before {content: \"\";position: absolute;border-left: 1px solid gray;box-sizing: border-box;top: 0;bottom: 0;left: 50%;z-index: 0;}#sk-container-id-1 div.sk-serial {display: flex;flex-direction: column;align-items: center;background-color: white;padding-right: 0.2em;padding-left: 0.2em;position: relative;}#sk-container-id-1 div.sk-item {position: relative;z-index: 1;}#sk-container-id-1 div.sk-parallel {display: flex;align-items: stretch;justify-content: center;background-color: white;position: relative;}#sk-container-id-1 div.sk-item::before, #sk-container-id-1 div.sk-parallel-item::before {content: \"\";position: absolute;border-left: 1px solid gray;box-sizing: border-box;top: 0;bottom: 0;left: 50%;z-index: -1;}#sk-container-id-1 div.sk-parallel-item {display: flex;flex-direction: column;z-index: 1;position: relative;background-color: white;}#sk-container-id-1 div.sk-parallel-item:first-child::after {align-self: flex-end;width: 50%;}#sk-container-id-1 div.sk-parallel-item:last-child::after {align-self: flex-start;width: 50%;}#sk-container-id-1 div.sk-parallel-item:only-child::after {width: 0;}#sk-container-id-1 div.sk-dashed-wrapped {border: 1px dashed gray;margin: 0 0.4em 0.5em 0.4em;box-sizing: border-box;padding-bottom: 0.4em;background-color: white;}#sk-container-id-1 div.sk-label label {font-family: monospace;font-weight: bold;display: inline-block;line-height: 1.2em;}#sk-container-id-1 div.sk-label-container {text-align: center;}#sk-container-id-1 div.sk-container {/* jupyter's `normalize.less` sets `[hidden] { display: none; }` but bootstrap.min.css set `[hidden] { display: none !important; }` so we also need the `!important` here to be able to override the default hidden behavior on the sphinx rendered scikit-learn.org. See: https://github.com/scikit-learn/scikit-learn/issues/21755 */display: inline-block !important;position: relative;}#sk-container-id-1 div.sk-text-repr-fallback {display: none;}</style><div id=\"sk-container-id-1\" class=\"sk-top-container\"><div class=\"sk-text-repr-fallback\"><pre>LogisticRegression(C=0.01, solver=&#x27;liblinear&#x27;)</pre><b>In a Jupyter environment, please rerun this cell to show the HTML representation or trust the notebook. <br />On GitHub, the HTML representation is unable to render, please try loading this page with nbviewer.org.</b></div><div class=\"sk-container\" hidden><div class=\"sk-item\"><div class=\"sk-estimator sk-toggleable\"><input class=\"sk-toggleable__control sk-hidden--visually\" id=\"sk-estimator-id-1\" type=\"checkbox\" checked><label for=\"sk-estimator-id-1\" class=\"sk-toggleable__label sk-toggleable__label-arrow\">LogisticRegression</label><div class=\"sk-toggleable__content\"><pre>LogisticRegression(C=0.01, solver=&#x27;liblinear&#x27;)</pre></div></div></div></div></div>"
      ],
      "text/plain": [
       "LogisticRegression(C=0.01, solver='liblinear')"
      ]
     },
     "execution_count": 5,
     "metadata": {},
     "output_type": "execute_result"
    }
   ],
   "source": [
    "model = LogisticRegression(solver=\"liblinear\", penalty=\"l2\", C=0.01)\n",
    "model.fit(train_x, train_target)"
   ]
  },
  {
   "cell_type": "code",
   "execution_count": 6,
   "metadata": {},
   "outputs": [
    {
     "name": "stdout",
     "output_type": "stream",
     "text": [
      "roc-auc: 0.7792413811786512\n",
      "log-loss: 0.13341114807408233\n"
     ]
    }
   ],
   "source": [
    "test_predicted = model.predict_proba(test_x)\n",
    "print(f'roc-auc: {roc_auc_score(test_target, test_predicted[:, 1])}')\n",
    "print(f'log-loss: {log_loss(test_target, test_predicted)}')"
   ]
  },
  {
   "cell_type": "markdown",
   "metadata": {},
   "source": [
    "### Считаем clipped_ips"
   ]
  },
  {
   "cell_type": "markdown",
   "metadata": {},
   "source": [
    "Сначала поймем, какова вероятность, что одна с.в. $\\xi_1$ больше другой $\\xi_2$. Это в точности означает, что $P(\\xi_1-\\xi_2 > 0)$\n",
    "\n",
    "Т.к. это величины, которые распределены нормально (пусть $\\xi_1$ ~ $N(\\mu_1, \\sigma_1^2)$, $\\xi_2$ ~ $N(\\mu_2, \\sigma_2^2)$).\n",
    "То велечина $\\xi_1-\\xi_2$ распределена как $N(\\mu_1-\\mu_2, \\sigma_1^2+\\sigma_2^2)$\n",
    "А зная функцию распределения $F$, вероятность того, что величина положительна, вычисляется как $1-F(0)$"
   ]
  },
  {
   "cell_type": "code",
   "execution_count": 7,
   "metadata": {},
   "outputs": [],
   "source": [
    "from scipy.stats import norm\n",
    "from scipy.special import logit"
   ]
  },
  {
   "cell_type": "code",
   "execution_count": 8,
   "metadata": {},
   "outputs": [
    {
     "data": {
      "text/plain": [
       "array([1.        , 0.99995022, 0.99998809, ..., 0.46875955, 0.65178789,\n",
       "       1.        ])"
      ]
     },
     "execution_count": 8,
     "metadata": {},
     "output_type": "execute_result"
    }
   ],
   "source": [
    "def get_pi(m1, s1, m2, s2):\n",
    "    return 1 - norm.cdf(0, loc=m1-m2, scale=np.sqrt(s1**2 + s2**2)+1e-10) # объяснение формулы выше\n",
    "\n",
    "# считаем pi_0\n",
    "pi_0 = get_pi(test['coeff_sum0'], test['g0'], test['coeff_sum1'], test['g1'])\n",
    "pi_0"
   ]
  },
  {
   "cell_type": "markdown",
   "metadata": {},
   "source": [
    "Теперь считаем pi_1"
   ]
  },
  {
   "cell_type": "code",
   "execution_count": 9,
   "metadata": {},
   "outputs": [],
   "source": [
    "coeff_sum0_new = logit(test_predicted[:, 1]) # используем старый результат, banner_id = banner_id0 итак"
   ]
  },
  {
   "cell_type": "code",
   "execution_count": 10,
   "metadata": {},
   "outputs": [
    {
     "name": "stderr",
     "output_type": "stream",
     "text": [
      "/home/aleksandr/.local/lib/python3.10/site-packages/sklearn/preprocessing/_encoders.py:228: UserWarning: Found unknown categories in columns [0, 1, 2] during transform. These unknown categories will be encoded as all zeros\n",
      "  warnings.warn(\n"
     ]
    }
   ],
   "source": [
    "test_banner_1 = test.copy()\n",
    "test_banner_1[\"banner_id\"] = test_banner_1[\"banner_id1\"] # чтобы посчитать pi_1 :  banner_id = banner_id1\n",
    "test_banner_1 = test_banner_1.drop([\"g0\", \"g1\", \"coeff_sum0\", \"coeff_sum1\", \"clicks\", \"banner_id0\", \"banner_id1\"], axis=1)\n",
    "test_banner_1 = oneHotEncoder.transform(test_banner_1)\n",
    "test_banner_1_predicted = model.predict_proba(test_banner_1)"
   ]
  },
  {
   "cell_type": "code",
   "execution_count": 11,
   "metadata": {},
   "outputs": [],
   "source": [
    "coeff_sum1_new = logit(test_banner_1_predicted[:, 1])"
   ]
  },
  {
   "cell_type": "code",
   "execution_count": 12,
   "metadata": {},
   "outputs": [
    {
     "data": {
      "text/plain": [
       "array([1.        , 1.        , 1.        , ..., 0.50810802, 0.61279352,\n",
       "       0.5       ])"
      ]
     },
     "execution_count": 12,
     "metadata": {},
     "output_type": "execute_result"
    }
   ],
   "source": [
    "pi_1 = get_pi(coeff_sum0_new, test['g0'], coeff_sum1_new, test['g1'])\n",
    "pi_1"
   ]
  },
  {
   "cell_type": "code",
   "execution_count": 13,
   "metadata": {},
   "outputs": [],
   "source": [
    "clipped_ips = np.mean(test_target * np.minimum(pi_1/(pi_0 + 1e-10), 10))"
   ]
  },
  {
   "cell_type": "code",
   "execution_count": 14,
   "metadata": {},
   "outputs": [
    {
     "data": {
      "text/plain": [
       "0.07126441664041822"
      ]
     },
     "execution_count": 14,
     "metadata": {},
     "output_type": "execute_result"
    }
   ],
   "source": [
    "clipped_ips"
   ]
  }
 ],
 "metadata": {
  "kernelspec": {
   "display_name": "Python 3",
   "language": "python",
   "name": "python3"
  },
  "language_info": {
   "codemirror_mode": {
    "name": "ipython",
    "version": 3
   },
   "file_extension": ".py",
   "mimetype": "text/x-python",
   "name": "python",
   "nbconvert_exporter": "python",
   "pygments_lexer": "ipython3",
   "version": "3.10.12"
  }
 },
 "nbformat": 4,
 "nbformat_minor": 2
}
