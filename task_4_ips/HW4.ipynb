{
 "cells": [
  {
   "cell_type": "code",
   "source": [
    "import pandas as pd"
   ],
   "execution_count": 18,
   "outputs": [],
   "metadata": {
    "datalore": {
     "node_id": "01mA76pABsFrvA6hH0naX7",
     "type": "CODE",
     "hide_input_from_viewers": false,
     "hide_output_from_viewers": false,
     "report_properties": {
      "rowId": "jo05gh4zR2TECitCjLb9e8"
     }
    },
    "ExecuteTime": {
     "end_time": "2023-12-26T22:05:05.439368Z",
     "start_time": "2023-12-26T22:05:05.357546Z"
    }
   }
  },
  {
   "cell_type": "markdown",
   "source": [
    "### 1. Чтение данных\n",
    "Читаем данные, удаляем ненужные колонки"
   ],
   "attachments": {},
   "metadata": {
    "datalore": {
     "node_id": "ZQmuv3GjOwVXoP38XXx7Rk",
     "type": "MD",
     "hide_input_from_viewers": true,
     "hide_output_from_viewers": true
    }
   }
  },
  {
   "cell_type": "code",
   "source": [
    "data = pd.read_csv('./data-001.csv',\n",
    "                   parse_dates=['date_time'])\n",
    "data = data.drop(\n",
    "    columns=['campaign_clicks', 'oaid_hash'])\n",
    "data = data.sort_values(by='date_time')\n",
    "data.head()"
   ],
   "execution_count": 19,
   "outputs": [
    {
     "data": {
      "text/plain": "                   date_time  zone_id  banner_id  os_id  country_id  \\\n1390198  2021-09-01 00:02:49       30        596      0           7   \n5041415  2021-09-26 00:00:00       41         29      3           0   \n1442602  2021-09-26 00:00:00        1        188      2          15   \n7232498  2021-09-26 00:00:00       17         52      2           5   \n14938691 2021-09-26 00:00:00       47         73      4          13   \n\n          banner_id0  rate0        g0  coeff_sum0  banner_id1  rate1  \\\n1390198          596  0.050  0.064560   -4.312062         603  0.050   \n5041415           29  0.002  0.016386   -4.736584           6  0.002   \n1442602          188  0.008  0.014186   -3.811444    11754925  0.330   \n7232498           52  0.008  0.013550   -4.317590          41  0.004   \n14938691          73  0.008  0.120974   -2.382508        1040  0.008   \n\n                g1  coeff_sum1  impressions  clicks  \n1390198   0.056510   -4.370191            1       0  \n5041415   0.020875   -4.898257            1       0  \n1442602   0.012351   -2.106896            1       0  \n7232498   0.067812   -3.739501            1       0  \n14938691  0.157515   -3.037939            1       0  ",
      "text/html": "<div>\n<style scoped>\n    .dataframe tbody tr th:only-of-type {\n        vertical-align: middle;\n    }\n\n    .dataframe tbody tr th {\n        vertical-align: top;\n    }\n\n    .dataframe thead th {\n        text-align: right;\n    }\n</style>\n<table border=\"1\" class=\"dataframe\">\n  <thead>\n    <tr style=\"text-align: right;\">\n      <th></th>\n      <th>date_time</th>\n      <th>zone_id</th>\n      <th>banner_id</th>\n      <th>os_id</th>\n      <th>country_id</th>\n      <th>banner_id0</th>\n      <th>rate0</th>\n      <th>g0</th>\n      <th>coeff_sum0</th>\n      <th>banner_id1</th>\n      <th>rate1</th>\n      <th>g1</th>\n      <th>coeff_sum1</th>\n      <th>impressions</th>\n      <th>clicks</th>\n    </tr>\n  </thead>\n  <tbody>\n    <tr>\n      <th>1390198</th>\n      <td>2021-09-01 00:02:49</td>\n      <td>30</td>\n      <td>596</td>\n      <td>0</td>\n      <td>7</td>\n      <td>596</td>\n      <td>0.050</td>\n      <td>0.064560</td>\n      <td>-4.312062</td>\n      <td>603</td>\n      <td>0.050</td>\n      <td>0.056510</td>\n      <td>-4.370191</td>\n      <td>1</td>\n      <td>0</td>\n    </tr>\n    <tr>\n      <th>5041415</th>\n      <td>2021-09-26 00:00:00</td>\n      <td>41</td>\n      <td>29</td>\n      <td>3</td>\n      <td>0</td>\n      <td>29</td>\n      <td>0.002</td>\n      <td>0.016386</td>\n      <td>-4.736584</td>\n      <td>6</td>\n      <td>0.002</td>\n      <td>0.020875</td>\n      <td>-4.898257</td>\n      <td>1</td>\n      <td>0</td>\n    </tr>\n    <tr>\n      <th>1442602</th>\n      <td>2021-09-26 00:00:00</td>\n      <td>1</td>\n      <td>188</td>\n      <td>2</td>\n      <td>15</td>\n      <td>188</td>\n      <td>0.008</td>\n      <td>0.014186</td>\n      <td>-3.811444</td>\n      <td>11754925</td>\n      <td>0.330</td>\n      <td>0.012351</td>\n      <td>-2.106896</td>\n      <td>1</td>\n      <td>0</td>\n    </tr>\n    <tr>\n      <th>7232498</th>\n      <td>2021-09-26 00:00:00</td>\n      <td>17</td>\n      <td>52</td>\n      <td>2</td>\n      <td>5</td>\n      <td>52</td>\n      <td>0.008</td>\n      <td>0.013550</td>\n      <td>-4.317590</td>\n      <td>41</td>\n      <td>0.004</td>\n      <td>0.067812</td>\n      <td>-3.739501</td>\n      <td>1</td>\n      <td>0</td>\n    </tr>\n    <tr>\n      <th>14938691</th>\n      <td>2021-09-26 00:00:00</td>\n      <td>47</td>\n      <td>73</td>\n      <td>4</td>\n      <td>13</td>\n      <td>73</td>\n      <td>0.008</td>\n      <td>0.120974</td>\n      <td>-2.382508</td>\n      <td>1040</td>\n      <td>0.008</td>\n      <td>0.157515</td>\n      <td>-3.037939</td>\n      <td>1</td>\n      <td>0</td>\n    </tr>\n  </tbody>\n</table>\n</div>"
     },
     "execution_count": 19,
     "metadata": {},
     "output_type": "execute_result"
    }
   ],
   "metadata": {
    "datalore": {
     "node_id": "hAW3xWIUWRkR3iUcACM6Ou",
     "type": "CODE",
     "hide_input_from_viewers": false,
     "hide_output_from_viewers": false,
     "report_properties": {
      "rowId": "aFHQUuvYnMWETftpcBJu3J"
     }
    },
    "ExecuteTime": {
     "end_time": "2023-12-26T22:05:31.571749Z",
     "start_time": "2023-12-26T22:05:05.442103Z"
    }
   }
  },
  {
   "cell_type": "markdown",
   "source": [
    "### 2. Анализ данных\n",
    "Проанализируем данные: статистики по каждой фиче, количество уникальных значений, отсутствующих значений, гистограммы распределений значений каждой из фич."
   ],
   "attachments": {},
   "metadata": {
    "datalore": {
     "node_id": "EpGz4ZzsYhAR76DrJpToBN",
     "type": "MD",
     "hide_input_from_viewers": true,
     "hide_output_from_viewers": true
    }
   }
  },
  {
   "cell_type": "code",
   "source": [
    "def analysis(data: pd.DataFrame):\n",
    "    # множество статистических значений для датасета\n",
    "    display(data.describe())\n",
    "\n",
    "    # количество уникальных значений для каждой фичи\n",
    "    print('Unique values count for each feature:')\n",
    "    print(data.nunique(axis=0, dropna=True))\n",
    "    print('-' * 60)\n",
    "\n",
    "    # количество NaN значений в каждом столбце\n",
    "    print('NaN values count for each feature:')\n",
    "    print(data.isna().sum())\n",
    "    print('-' * 60)\n",
    "\n",
    "    # распределение количества сэмплов по дате и времени -- позволит увидеть, за какие моменты у нас в принципе есть данные, и в каком объеме\n",
    "    print(f\"Start day: {data['date_time'].min()}\")\n",
    "    print(f\"End day: {data['date_time'].max()}\")\n",
    "    print(\"Date time samples count:\")\n",
    "    display(data.groupby('date_time').size())\n"
   ],
   "execution_count": 20,
   "outputs": [],
   "metadata": {
    "datalore": {
     "node_id": "H0wieKsoppm3cGOVy3uQGt",
     "type": "CODE",
     "hide_input_from_viewers": false,
     "hide_output_from_viewers": false,
     "report_properties": {
      "rowId": "7rpSGy9Uer3p8OXOFaWBhm"
     }
    },
    "ExecuteTime": {
     "end_time": "2023-12-26T22:05:31.575489Z",
     "start_time": "2023-12-26T22:05:31.570283Z"
    }
   }
  },
  {
   "cell_type": "code",
   "source": [
    "analysis(data)"
   ],
   "execution_count": 21,
   "outputs": [
    {
     "data": {
      "text/plain": "                           date_time       zone_id     banner_id  \\\ncount                       15821472  1.582147e+07  1.582147e+07   \nmean   2021-09-29 06:17:04.484696576  8.152679e+01  3.816483e+02   \nmin              2021-09-01 00:02:49  0.000000e+00  0.000000e+00   \n25%              2021-09-27 10:24:02  1.400000e+01  5.200000e+01   \n50%              2021-09-29 02:22:11  1.900000e+01  2.170000e+02   \n75%              2021-09-30 21:36:15  6.000000e+01  6.110000e+02   \nmax              2021-10-02 23:59:59  3.443000e+03  1.632000e+03   \nstd                              NaN  1.632448e+02  3.959386e+02   \n\n              os_id    country_id    banner_id0         rate0            g0  \\\ncount  1.582147e+07  1.582147e+07  1.582147e+07  1.582140e+07  1.582140e+07   \nmean   1.840605e+00  4.346986e+00  6.571314e+05  1.969248e-01  7.440764e-01   \nmin    0.000000e+00  0.000000e+00  0.000000e+00  0.000000e+00 -1.763740e-02   \n25%    1.000000e+00  0.000000e+00  7.300000e+01  5.000000e-03  1.643856e-02   \n50%    2.000000e+00  4.000000e+00  3.030000e+02  1.000000e-02  3.539307e-02   \n75%    3.000000e+00  7.000000e+00  7.200000e+02  3.000000e-02  8.022935e-02   \nmax    1.000000e+01  1.600000e+01  1.146423e+07  1.000000e+02  6.910888e+02   \nstd    1.530005e+00  4.317701e+00  2.606008e+06  2.733440e+00  1.670358e+01   \n\n         coeff_sum0    banner_id1         rate1            g1    coeff_sum1  \\\ncount  1.582140e+07  1.582147e+07  1.580173e+07  1.580173e+07  1.580173e+07   \nmean  -3.979590e+00  2.605069e+06  1.415899e+00  5.485722e-01 -3.968883e+00   \nmin   -8.588970e+00  0.000000e+00  0.000000e+00 -6.983897e-02 -9.562188e+00   \n25%   -4.515871e+00  9.900000e+01  4.000000e-03  1.615219e-02 -4.529519e+00   \n50%   -3.921164e+00  4.600000e+02  1.400000e-02  3.556666e-02 -3.928674e+00   \n75%   -3.421280e+00  1.236000e+03  5.000000e-02  7.546751e-02 -3.390867e+00   \nmax    3.149981e-01  1.462360e+07  1.000000e+02  6.910885e+02  4.756181e-01   \nstd    1.143982e+00  5.230253e+06  8.689053e+00  1.419136e+01  1.186403e+00   \n\n       impressions        clicks  \ncount   15821472.0  1.582147e+07  \nmean           1.0  2.668835e-02  \nmin            1.0  0.000000e+00  \n25%            1.0  0.000000e+00  \n50%            1.0  0.000000e+00  \n75%            1.0  0.000000e+00  \nmax            1.0  1.000000e+00  \nstd            0.0  1.611710e-01  ",
      "text/html": "<div>\n<style scoped>\n    .dataframe tbody tr th:only-of-type {\n        vertical-align: middle;\n    }\n\n    .dataframe tbody tr th {\n        vertical-align: top;\n    }\n\n    .dataframe thead th {\n        text-align: right;\n    }\n</style>\n<table border=\"1\" class=\"dataframe\">\n  <thead>\n    <tr style=\"text-align: right;\">\n      <th></th>\n      <th>date_time</th>\n      <th>zone_id</th>\n      <th>banner_id</th>\n      <th>os_id</th>\n      <th>country_id</th>\n      <th>banner_id0</th>\n      <th>rate0</th>\n      <th>g0</th>\n      <th>coeff_sum0</th>\n      <th>banner_id1</th>\n      <th>rate1</th>\n      <th>g1</th>\n      <th>coeff_sum1</th>\n      <th>impressions</th>\n      <th>clicks</th>\n    </tr>\n  </thead>\n  <tbody>\n    <tr>\n      <th>count</th>\n      <td>15821472</td>\n      <td>1.582147e+07</td>\n      <td>1.582147e+07</td>\n      <td>1.582147e+07</td>\n      <td>1.582147e+07</td>\n      <td>1.582147e+07</td>\n      <td>1.582140e+07</td>\n      <td>1.582140e+07</td>\n      <td>1.582140e+07</td>\n      <td>1.582147e+07</td>\n      <td>1.580173e+07</td>\n      <td>1.580173e+07</td>\n      <td>1.580173e+07</td>\n      <td>15821472.0</td>\n      <td>1.582147e+07</td>\n    </tr>\n    <tr>\n      <th>mean</th>\n      <td>2021-09-29 06:17:04.484696576</td>\n      <td>8.152679e+01</td>\n      <td>3.816483e+02</td>\n      <td>1.840605e+00</td>\n      <td>4.346986e+00</td>\n      <td>6.571314e+05</td>\n      <td>1.969248e-01</td>\n      <td>7.440764e-01</td>\n      <td>-3.979590e+00</td>\n      <td>2.605069e+06</td>\n      <td>1.415899e+00</td>\n      <td>5.485722e-01</td>\n      <td>-3.968883e+00</td>\n      <td>1.0</td>\n      <td>2.668835e-02</td>\n    </tr>\n    <tr>\n      <th>min</th>\n      <td>2021-09-01 00:02:49</td>\n      <td>0.000000e+00</td>\n      <td>0.000000e+00</td>\n      <td>0.000000e+00</td>\n      <td>0.000000e+00</td>\n      <td>0.000000e+00</td>\n      <td>0.000000e+00</td>\n      <td>-1.763740e-02</td>\n      <td>-8.588970e+00</td>\n      <td>0.000000e+00</td>\n      <td>0.000000e+00</td>\n      <td>-6.983897e-02</td>\n      <td>-9.562188e+00</td>\n      <td>1.0</td>\n      <td>0.000000e+00</td>\n    </tr>\n    <tr>\n      <th>25%</th>\n      <td>2021-09-27 10:24:02</td>\n      <td>1.400000e+01</td>\n      <td>5.200000e+01</td>\n      <td>1.000000e+00</td>\n      <td>0.000000e+00</td>\n      <td>7.300000e+01</td>\n      <td>5.000000e-03</td>\n      <td>1.643856e-02</td>\n      <td>-4.515871e+00</td>\n      <td>9.900000e+01</td>\n      <td>4.000000e-03</td>\n      <td>1.615219e-02</td>\n      <td>-4.529519e+00</td>\n      <td>1.0</td>\n      <td>0.000000e+00</td>\n    </tr>\n    <tr>\n      <th>50%</th>\n      <td>2021-09-29 02:22:11</td>\n      <td>1.900000e+01</td>\n      <td>2.170000e+02</td>\n      <td>2.000000e+00</td>\n      <td>4.000000e+00</td>\n      <td>3.030000e+02</td>\n      <td>1.000000e-02</td>\n      <td>3.539307e-02</td>\n      <td>-3.921164e+00</td>\n      <td>4.600000e+02</td>\n      <td>1.400000e-02</td>\n      <td>3.556666e-02</td>\n      <td>-3.928674e+00</td>\n      <td>1.0</td>\n      <td>0.000000e+00</td>\n    </tr>\n    <tr>\n      <th>75%</th>\n      <td>2021-09-30 21:36:15</td>\n      <td>6.000000e+01</td>\n      <td>6.110000e+02</td>\n      <td>3.000000e+00</td>\n      <td>7.000000e+00</td>\n      <td>7.200000e+02</td>\n      <td>3.000000e-02</td>\n      <td>8.022935e-02</td>\n      <td>-3.421280e+00</td>\n      <td>1.236000e+03</td>\n      <td>5.000000e-02</td>\n      <td>7.546751e-02</td>\n      <td>-3.390867e+00</td>\n      <td>1.0</td>\n      <td>0.000000e+00</td>\n    </tr>\n    <tr>\n      <th>max</th>\n      <td>2021-10-02 23:59:59</td>\n      <td>3.443000e+03</td>\n      <td>1.632000e+03</td>\n      <td>1.000000e+01</td>\n      <td>1.600000e+01</td>\n      <td>1.146423e+07</td>\n      <td>1.000000e+02</td>\n      <td>6.910888e+02</td>\n      <td>3.149981e-01</td>\n      <td>1.462360e+07</td>\n      <td>1.000000e+02</td>\n      <td>6.910885e+02</td>\n      <td>4.756181e-01</td>\n      <td>1.0</td>\n      <td>1.000000e+00</td>\n    </tr>\n    <tr>\n      <th>std</th>\n      <td>NaN</td>\n      <td>1.632448e+02</td>\n      <td>3.959386e+02</td>\n      <td>1.530005e+00</td>\n      <td>4.317701e+00</td>\n      <td>2.606008e+06</td>\n      <td>2.733440e+00</td>\n      <td>1.670358e+01</td>\n      <td>1.143982e+00</td>\n      <td>5.230253e+06</td>\n      <td>8.689053e+00</td>\n      <td>1.419136e+01</td>\n      <td>1.186403e+00</td>\n      <td>0.0</td>\n      <td>1.611710e-01</td>\n    </tr>\n  </tbody>\n</table>\n</div>"
     },
     "metadata": {},
     "output_type": "display_data"
    },
    {
     "name": "stdout",
     "output_type": "stream",
     "text": [
      "Unique values count for each feature:\n",
      "date_time        604712\n",
      "zone_id            3444\n",
      "banner_id          1633\n",
      "os_id                11\n",
      "country_id           17\n",
      "banner_id0       946937\n",
      "rate0               428\n",
      "g0             15147522\n",
      "coeff_sum0      5262825\n",
      "banner_id1      3160859\n",
      "rate1               845\n",
      "g1             15169168\n",
      "coeff_sum1      5660517\n",
      "impressions           1\n",
      "clicks                2\n",
      "dtype: int64\n",
      "------------------------------------------------------------\n",
      "NaN values count for each feature:\n",
      "date_time          0\n",
      "zone_id            0\n",
      "banner_id          0\n",
      "os_id              0\n",
      "country_id         0\n",
      "banner_id0         0\n",
      "rate0             69\n",
      "g0                69\n",
      "coeff_sum0        69\n",
      "banner_id1         0\n",
      "rate1          19744\n",
      "g1             19744\n",
      "coeff_sum1     19744\n",
      "impressions        0\n",
      "clicks             0\n",
      "dtype: int64\n",
      "------------------------------------------------------------\n",
      "Start day: 2021-09-01 00:02:49\n",
      "End day: 2021-10-02 23:59:59\n",
      "Date time samples count:\n"
     ]
    },
    {
     "data": {
      "text/plain": "date_time\n2021-09-01 00:02:49     1\n2021-09-26 00:00:00    28\n2021-09-26 00:00:01    28\n2021-09-26 00:00:02    25\n2021-09-26 00:00:03    30\n                       ..\n2021-10-02 23:59:55    22\n2021-10-02 23:59:56    22\n2021-10-02 23:59:57    19\n2021-10-02 23:59:58    20\n2021-10-02 23:59:59    19\nLength: 604712, dtype: int64"
     },
     "metadata": {},
     "output_type": "display_data"
    }
   ],
   "metadata": {
    "datalore": {
     "node_id": "O5P9UJqcvcvUTsATMpmQar",
     "type": "CODE",
     "hide_input_from_viewers": true,
     "hide_output_from_viewers": true
    },
    "ExecuteTime": {
     "end_time": "2023-12-26T22:05:41.936027Z",
     "start_time": "2023-12-26T22:05:31.572449Z"
    }
   }
  },
  {
   "cell_type": "markdown",
   "source": [
    "### 3. Фильтрация и конструирование фичей"
   ],
   "attachments": {},
   "metadata": {
    "datalore": {
     "node_id": "txgxnsy6gsF1wL3rRf2MH5",
     "type": "MD",
     "hide_input_from_viewers": true,
     "hide_output_from_viewers": true
    }
   }
  },
  {
   "cell_type": "markdown",
   "source": [
    "Удалим повторяющиеся строки таблицы, если такие имеются"
   ],
   "attachments": {},
   "metadata": {
    "datalore": {
     "node_id": "gOhwxF2w0exdSMuTGDcPnk",
     "type": "MD",
     "hide_input_from_viewers": true,
     "hide_output_from_viewers": true
    }
   }
  },
  {
   "cell_type": "code",
   "source": [
    "data = data.drop_duplicates()"
   ],
   "execution_count": 22,
   "outputs": [],
   "metadata": {
    "datalore": {
     "node_id": "WOvjlcIyn4K4QH79CBR7dD",
     "type": "CODE",
     "hide_input_from_viewers": true,
     "hide_output_from_viewers": true
    },
    "ExecuteTime": {
     "end_time": "2023-12-26T22:05:57.226959Z",
     "start_time": "2023-12-26T22:05:41.934186Z"
    }
   }
  },
  {
   "cell_type": "markdown",
   "source": [
    "Анализируя статистики, можем увидеть, что значение поля impressions всегда одно и равно единице. Значит, все баннеры-сэмплы, данные о которых у нас имеются, в каждой конфигурации были показаны по одному разу. Так как фича является константой, она не играет роли при выборе класса объекта в нашей задаче классификации. Можем обойтись без этой колонки"
   ],
   "attachments": {},
   "metadata": {
    "datalore": {
     "node_id": "aFOFZ44uQjmR0s51whHncb",
     "type": "MD",
     "hide_input_from_viewers": true,
     "hide_output_from_viewers": true
    }
   }
  },
  {
   "cell_type": "code",
   "source": [
    "data = data.drop(columns=['impressions'])"
   ],
   "execution_count": 23,
   "outputs": [],
   "metadata": {
    "datalore": {
     "node_id": "NOC6Xe8DhvurFEaTNWSKy8",
     "type": "CODE",
     "hide_input_from_viewers": true,
     "hide_output_from_viewers": true
    },
    "ExecuteTime": {
     "end_time": "2023-12-26T22:05:57.650330Z",
     "start_time": "2023-12-26T22:05:57.228375Z"
    }
   }
  },
  {
   "cell_type": "markdown",
   "source": [
    "Заметим, что для даты 2021-09-01 только одно наблюдение. Удалим данные за этот день из датасета как выброс."
   ],
   "metadata": {
    "collapsed": false
   }
  },
  {
   "cell_type": "code",
   "execution_count": 24,
   "outputs": [
    {
     "data": {
      "text/plain": "          date_time  zone_id  banner_id  os_id  country_id  banner_id0  rate0  \\\n5041415  2021-09-26       41         29      3           0          29  0.002   \n1442602  2021-09-26        1        188      2          15         188  0.008   \n7232498  2021-09-26       17         52      2           5          52  0.008   \n14938691 2021-09-26       47         73      4          13          73  0.008   \n11536774 2021-09-26       48        266      0           1         266  0.005   \n\n                g0  coeff_sum0  banner_id1  rate1        g1  coeff_sum1  \\\n5041415   0.016386   -4.736584           6  0.002  0.020875   -4.898257   \n1442602   0.014186   -3.811444    11754925  0.330  0.012351   -2.106896   \n7232498   0.013550   -4.317590          41  0.004  0.067812   -3.739501   \n14938691  0.120974   -2.382508        1040  0.008  0.157515   -3.037939   \n11536774  0.064730   -3.774143         124  0.003  0.052319   -3.481748   \n\n          clicks  \n5041415        0  \n1442602        0  \n7232498        0  \n14938691       0  \n11536774       0  ",
      "text/html": "<div>\n<style scoped>\n    .dataframe tbody tr th:only-of-type {\n        vertical-align: middle;\n    }\n\n    .dataframe tbody tr th {\n        vertical-align: top;\n    }\n\n    .dataframe thead th {\n        text-align: right;\n    }\n</style>\n<table border=\"1\" class=\"dataframe\">\n  <thead>\n    <tr style=\"text-align: right;\">\n      <th></th>\n      <th>date_time</th>\n      <th>zone_id</th>\n      <th>banner_id</th>\n      <th>os_id</th>\n      <th>country_id</th>\n      <th>banner_id0</th>\n      <th>rate0</th>\n      <th>g0</th>\n      <th>coeff_sum0</th>\n      <th>banner_id1</th>\n      <th>rate1</th>\n      <th>g1</th>\n      <th>coeff_sum1</th>\n      <th>clicks</th>\n    </tr>\n  </thead>\n  <tbody>\n    <tr>\n      <th>5041415</th>\n      <td>2021-09-26</td>\n      <td>41</td>\n      <td>29</td>\n      <td>3</td>\n      <td>0</td>\n      <td>29</td>\n      <td>0.002</td>\n      <td>0.016386</td>\n      <td>-4.736584</td>\n      <td>6</td>\n      <td>0.002</td>\n      <td>0.020875</td>\n      <td>-4.898257</td>\n      <td>0</td>\n    </tr>\n    <tr>\n      <th>1442602</th>\n      <td>2021-09-26</td>\n      <td>1</td>\n      <td>188</td>\n      <td>2</td>\n      <td>15</td>\n      <td>188</td>\n      <td>0.008</td>\n      <td>0.014186</td>\n      <td>-3.811444</td>\n      <td>11754925</td>\n      <td>0.330</td>\n      <td>0.012351</td>\n      <td>-2.106896</td>\n      <td>0</td>\n    </tr>\n    <tr>\n      <th>7232498</th>\n      <td>2021-09-26</td>\n      <td>17</td>\n      <td>52</td>\n      <td>2</td>\n      <td>5</td>\n      <td>52</td>\n      <td>0.008</td>\n      <td>0.013550</td>\n      <td>-4.317590</td>\n      <td>41</td>\n      <td>0.004</td>\n      <td>0.067812</td>\n      <td>-3.739501</td>\n      <td>0</td>\n    </tr>\n    <tr>\n      <th>14938691</th>\n      <td>2021-09-26</td>\n      <td>47</td>\n      <td>73</td>\n      <td>4</td>\n      <td>13</td>\n      <td>73</td>\n      <td>0.008</td>\n      <td>0.120974</td>\n      <td>-2.382508</td>\n      <td>1040</td>\n      <td>0.008</td>\n      <td>0.157515</td>\n      <td>-3.037939</td>\n      <td>0</td>\n    </tr>\n    <tr>\n      <th>11536774</th>\n      <td>2021-09-26</td>\n      <td>48</td>\n      <td>266</td>\n      <td>0</td>\n      <td>1</td>\n      <td>266</td>\n      <td>0.005</td>\n      <td>0.064730</td>\n      <td>-3.774143</td>\n      <td>124</td>\n      <td>0.003</td>\n      <td>0.052319</td>\n      <td>-3.481748</td>\n      <td>0</td>\n    </tr>\n  </tbody>\n</table>\n</div>"
     },
     "execution_count": 24,
     "metadata": {},
     "output_type": "execute_result"
    }
   ],
   "source": [
    "data = data[data['date_time'] >= '2021-09-02']\n",
    "data.head()"
   ],
   "metadata": {
    "collapsed": false,
    "ExecuteTime": {
     "end_time": "2023-12-26T22:05:58.158370Z",
     "start_time": "2023-12-26T22:05:57.650738Z"
    }
   }
  },
  {
   "cell_type": "markdown",
   "source": [
    "Заметим, что все имеющиеся данные затрагивают только 2 месяца -- сентябрь и начало октября. Информация про год избыточна, тк у всех сэмплов одинакова. Кроме того, можем убрать измерения секунд, нам хватит знания часа и минут для каждого примера. Добавим отдельные столбцы day, hour, minute. После разделения на train и test впоследствии удалим столбец date_time."
   ],
   "attachments": {},
   "metadata": {
    "datalore": {
     "node_id": "2Eq7DP6DNau78i1lkgwoiP",
     "type": "MD",
     "hide_input_from_viewers": true,
     "hide_output_from_viewers": true
    }
   }
  },
  {
   "cell_type": "code",
   "source": [
    "data['day'] = data['date_time'].dt.day\n",
    "data['hour'] = data['date_time'].dt.hour\n",
    "data['minutes'] = data['date_time'].dt.minute"
   ],
   "execution_count": 25,
   "outputs": [],
   "metadata": {
    "datalore": {
     "node_id": "5CoZvRwN7xrniPupXkryTc",
     "type": "CODE",
     "hide_input_from_viewers": false,
     "hide_output_from_viewers": false,
     "report_properties": {
      "rowId": "n6QfIZLr6Doo5ydjbuDWfV"
     }
    },
    "ExecuteTime": {
     "end_time": "2023-12-26T22:05:58.883925Z",
     "start_time": "2023-12-26T22:05:58.159381Z"
    }
   }
  },
  {
   "cell_type": "markdown",
   "source": [
    "В новых колонках rate, g, coeff_sum встречаются NaN. Удалим их."
   ],
   "metadata": {
    "collapsed": false
   }
  },
  {
   "cell_type": "code",
   "execution_count": 26,
   "outputs": [],
   "source": [
    "data = data.dropna()"
   ],
   "metadata": {
    "collapsed": false,
    "ExecuteTime": {
     "end_time": "2023-12-26T22:05:59.725947Z",
     "start_time": "2023-12-26T22:05:58.883872Z"
    }
   }
  },
  {
   "cell_type": "markdown",
   "source": [
    "Отфильтруем случаи, когда banner_id0 не совпадает с banner_id."
   ],
   "metadata": {
    "collapsed": false
   }
  },
  {
   "cell_type": "code",
   "execution_count": 27,
   "outputs": [],
   "source": [
    "data = data[data['banner_id0'] == data['banner_id']]"
   ],
   "metadata": {
    "collapsed": false,
    "ExecuteTime": {
     "end_time": "2023-12-26T22:06:00.465793Z",
     "start_time": "2023-12-26T22:05:59.726934Z"
    }
   }
  },
  {
   "cell_type": "code",
   "execution_count": 28,
   "outputs": [
    {
     "data": {
      "text/plain": "Index(['date_time', 'zone_id', 'banner_id', 'os_id', 'country_id',\n       'banner_id0', 'rate0', 'g0', 'coeff_sum0', 'banner_id1', 'rate1', 'g1',\n       'coeff_sum1', 'clicks', 'day', 'hour', 'minutes'],\n      dtype='object')"
     },
     "execution_count": 28,
     "metadata": {},
     "output_type": "execute_result"
    }
   ],
   "source": [
    "data.columns"
   ],
   "metadata": {
    "collapsed": false,
    "ExecuteTime": {
     "end_time": "2023-12-26T22:06:00.472170Z",
     "start_time": "2023-12-26T22:06:00.468222Z"
    }
   }
  },
  {
   "cell_type": "markdown",
   "source": [
    "### 4. Train/ test splitting\n",
    "Разделим данные на тренировочную и тестовую части. Тренировать модель будем на всех данных, полученных до последнего дня, тестировать -- на данных последнего дня."
   ],
   "metadata": {
    "datalore": {
     "node_id": "CHdDgigkZ6DPsy61RX5dgK",
     "type": "MD",
     "hide_input_from_viewers": true,
     "hide_output_from_viewers": true
    }
   }
  },
  {
   "cell_type": "code",
   "execution_count": 29,
   "outputs": [
    {
     "name": "stdout",
     "output_type": "stream",
     "text": [
      "Splitting datetime: 2021-10-02 00:00:00\n",
      "Train samples: 12026120\n",
      "Test samples: 1883622\n"
     ]
    },
    {
     "data": {
      "text/plain": "          zone_id  banner_id  os_id  country_id  banner_id0  rate0        g0  \\\n5041415        41         29      3           0          29  0.002  0.016386   \n1442602         1        188      2          15         188  0.008  0.014186   \n7232498        17         52      2           5          52  0.008  0.013550   \n14938691       47         73      4          13          73  0.008  0.120974   \n11536774       48        266      0           1         266  0.005  0.064730   \n...           ...        ...    ...         ...         ...    ...       ...   \n3594598       254        584      2          10         584  0.001  0.770310   \n8604214        34         47      2           5          47  0.100  0.043624   \n1633515         3       1239      2           0        1239  0.046  0.008633   \n6571049       139         49      0           0          49  0.014  0.019515   \n6809215       275        102      4           1         102  0.010  0.659183   \n\n          coeff_sum0  banner_id1  rate1        g1  coeff_sum1  clicks  day  \\\n5041415    -4.736584           6  0.002  0.020875   -4.898257       0   26   \n1442602    -3.811444    11754925  0.330  0.012351   -2.106896       0   26   \n7232498    -4.317590          41  0.004  0.067812   -3.739501       0   26   \n14938691   -2.382508        1040  0.008  0.157515   -3.037939       0   26   \n11536774   -3.774143         124  0.003  0.052319   -3.481748       0   26   \n...              ...         ...    ...       ...         ...     ...  ...   \n3594598    -2.898877         168  0.001  0.770226   -2.889889       0    1   \n8604214    -3.635624         687  0.100  0.044976   -3.725785       0    1   \n1633515    -5.696672        1236  0.046  0.008633   -5.696918       0    1   \n6571049    -3.590981          21  0.014  0.014362   -3.640840       0    1   \n6809215    -2.868517    12827143  0.900  0.175832   -2.745608       0    1   \n\n          hour  minutes  \n5041415      0        0  \n1442602      0        0  \n7232498      0        0  \n14938691     0        0  \n11536774     0        0  \n...        ...      ...  \n3594598     23       59  \n8604214     23       59  \n1633515     23       59  \n6571049     23       59  \n6809215     23       59  \n\n[12026120 rows x 16 columns]",
      "text/html": "<div>\n<style scoped>\n    .dataframe tbody tr th:only-of-type {\n        vertical-align: middle;\n    }\n\n    .dataframe tbody tr th {\n        vertical-align: top;\n    }\n\n    .dataframe thead th {\n        text-align: right;\n    }\n</style>\n<table border=\"1\" class=\"dataframe\">\n  <thead>\n    <tr style=\"text-align: right;\">\n      <th></th>\n      <th>zone_id</th>\n      <th>banner_id</th>\n      <th>os_id</th>\n      <th>country_id</th>\n      <th>banner_id0</th>\n      <th>rate0</th>\n      <th>g0</th>\n      <th>coeff_sum0</th>\n      <th>banner_id1</th>\n      <th>rate1</th>\n      <th>g1</th>\n      <th>coeff_sum1</th>\n      <th>clicks</th>\n      <th>day</th>\n      <th>hour</th>\n      <th>minutes</th>\n    </tr>\n  </thead>\n  <tbody>\n    <tr>\n      <th>5041415</th>\n      <td>41</td>\n      <td>29</td>\n      <td>3</td>\n      <td>0</td>\n      <td>29</td>\n      <td>0.002</td>\n      <td>0.016386</td>\n      <td>-4.736584</td>\n      <td>6</td>\n      <td>0.002</td>\n      <td>0.020875</td>\n      <td>-4.898257</td>\n      <td>0</td>\n      <td>26</td>\n      <td>0</td>\n      <td>0</td>\n    </tr>\n    <tr>\n      <th>1442602</th>\n      <td>1</td>\n      <td>188</td>\n      <td>2</td>\n      <td>15</td>\n      <td>188</td>\n      <td>0.008</td>\n      <td>0.014186</td>\n      <td>-3.811444</td>\n      <td>11754925</td>\n      <td>0.330</td>\n      <td>0.012351</td>\n      <td>-2.106896</td>\n      <td>0</td>\n      <td>26</td>\n      <td>0</td>\n      <td>0</td>\n    </tr>\n    <tr>\n      <th>7232498</th>\n      <td>17</td>\n      <td>52</td>\n      <td>2</td>\n      <td>5</td>\n      <td>52</td>\n      <td>0.008</td>\n      <td>0.013550</td>\n      <td>-4.317590</td>\n      <td>41</td>\n      <td>0.004</td>\n      <td>0.067812</td>\n      <td>-3.739501</td>\n      <td>0</td>\n      <td>26</td>\n      <td>0</td>\n      <td>0</td>\n    </tr>\n    <tr>\n      <th>14938691</th>\n      <td>47</td>\n      <td>73</td>\n      <td>4</td>\n      <td>13</td>\n      <td>73</td>\n      <td>0.008</td>\n      <td>0.120974</td>\n      <td>-2.382508</td>\n      <td>1040</td>\n      <td>0.008</td>\n      <td>0.157515</td>\n      <td>-3.037939</td>\n      <td>0</td>\n      <td>26</td>\n      <td>0</td>\n      <td>0</td>\n    </tr>\n    <tr>\n      <th>11536774</th>\n      <td>48</td>\n      <td>266</td>\n      <td>0</td>\n      <td>1</td>\n      <td>266</td>\n      <td>0.005</td>\n      <td>0.064730</td>\n      <td>-3.774143</td>\n      <td>124</td>\n      <td>0.003</td>\n      <td>0.052319</td>\n      <td>-3.481748</td>\n      <td>0</td>\n      <td>26</td>\n      <td>0</td>\n      <td>0</td>\n    </tr>\n    <tr>\n      <th>...</th>\n      <td>...</td>\n      <td>...</td>\n      <td>...</td>\n      <td>...</td>\n      <td>...</td>\n      <td>...</td>\n      <td>...</td>\n      <td>...</td>\n      <td>...</td>\n      <td>...</td>\n      <td>...</td>\n      <td>...</td>\n      <td>...</td>\n      <td>...</td>\n      <td>...</td>\n      <td>...</td>\n    </tr>\n    <tr>\n      <th>3594598</th>\n      <td>254</td>\n      <td>584</td>\n      <td>2</td>\n      <td>10</td>\n      <td>584</td>\n      <td>0.001</td>\n      <td>0.770310</td>\n      <td>-2.898877</td>\n      <td>168</td>\n      <td>0.001</td>\n      <td>0.770226</td>\n      <td>-2.889889</td>\n      <td>0</td>\n      <td>1</td>\n      <td>23</td>\n      <td>59</td>\n    </tr>\n    <tr>\n      <th>8604214</th>\n      <td>34</td>\n      <td>47</td>\n      <td>2</td>\n      <td>5</td>\n      <td>47</td>\n      <td>0.100</td>\n      <td>0.043624</td>\n      <td>-3.635624</td>\n      <td>687</td>\n      <td>0.100</td>\n      <td>0.044976</td>\n      <td>-3.725785</td>\n      <td>0</td>\n      <td>1</td>\n      <td>23</td>\n      <td>59</td>\n    </tr>\n    <tr>\n      <th>1633515</th>\n      <td>3</td>\n      <td>1239</td>\n      <td>2</td>\n      <td>0</td>\n      <td>1239</td>\n      <td>0.046</td>\n      <td>0.008633</td>\n      <td>-5.696672</td>\n      <td>1236</td>\n      <td>0.046</td>\n      <td>0.008633</td>\n      <td>-5.696918</td>\n      <td>0</td>\n      <td>1</td>\n      <td>23</td>\n      <td>59</td>\n    </tr>\n    <tr>\n      <th>6571049</th>\n      <td>139</td>\n      <td>49</td>\n      <td>0</td>\n      <td>0</td>\n      <td>49</td>\n      <td>0.014</td>\n      <td>0.019515</td>\n      <td>-3.590981</td>\n      <td>21</td>\n      <td>0.014</td>\n      <td>0.014362</td>\n      <td>-3.640840</td>\n      <td>0</td>\n      <td>1</td>\n      <td>23</td>\n      <td>59</td>\n    </tr>\n    <tr>\n      <th>6809215</th>\n      <td>275</td>\n      <td>102</td>\n      <td>4</td>\n      <td>1</td>\n      <td>102</td>\n      <td>0.010</td>\n      <td>0.659183</td>\n      <td>-2.868517</td>\n      <td>12827143</td>\n      <td>0.900</td>\n      <td>0.175832</td>\n      <td>-2.745608</td>\n      <td>0</td>\n      <td>1</td>\n      <td>23</td>\n      <td>59</td>\n    </tr>\n  </tbody>\n</table>\n<p>12026120 rows × 16 columns</p>\n</div>"
     },
     "metadata": {},
     "output_type": "display_data"
    },
    {
     "data": {
      "text/plain": "          zone_id  banner_id  os_id  country_id  banner_id0   rate0        g0  \\\n14196412       14       1239      1           0        1239  0.0460  0.011367   \n8706638       525        174      3           0         174  0.0010  0.063288   \n13000378       14        175      2           9         175  0.0070  0.042959   \n9767447         0         76      1           3          76  0.0080  0.051014   \n9054327        24        428      1          10         428  0.0010  0.157651   \n...           ...        ...    ...         ...         ...     ...       ...   \n11510884       20       1236      2           0        1236  0.0460  0.009155   \n10139863       24        180      2           6         180  0.0080  0.038556   \n5597133        73         92      1           0          92  0.0594  0.023820   \n8660907        17       1235      4           0        1235  0.0670  0.027977   \n2991997         1          2      0           0           2  0.0140  0.017499   \n\n          coeff_sum0  banner_id1    rate1        g1  coeff_sum1  clicks  day  \\\n14196412   -6.356145        1234  0.04600  0.011368   -6.355855       0    2   \n8706638    -3.107591         104  0.00100  0.041912   -3.091600       0    2   \n13000378   -3.023266         232  0.00700  0.042071   -3.060019       0    2   \n9767447    -4.665202          34  0.00873  0.014532   -4.988883       0    2   \n9054327    -3.672826         719  0.00100  0.167411   -3.676580       0    2   \n...              ...         ...      ...       ...         ...     ...  ...   \n11510884   -6.085725    13765667  0.50000  0.081177   -2.452728       0    2   \n10139863   -3.791884         403  0.00800  0.026928   -3.749882       0    2   \n5597133    -4.641030    12584620  1.50000  0.010748   -2.737213       0    2   \n8660907    -5.617197        1240  0.06700  0.027988   -5.616952       0    2   \n2991997    -3.052530          21  0.01400  0.029316   -3.173799       0    2   \n\n          hour  minutes  \n14196412     0        0  \n8706638      0        0  \n13000378     0        0  \n9767447      0        0  \n9054327      0        0  \n...        ...      ...  \n11510884    23       59  \n10139863    23       59  \n5597133     23       59  \n8660907     23       59  \n2991997     23       59  \n\n[1883622 rows x 16 columns]",
      "text/html": "<div>\n<style scoped>\n    .dataframe tbody tr th:only-of-type {\n        vertical-align: middle;\n    }\n\n    .dataframe tbody tr th {\n        vertical-align: top;\n    }\n\n    .dataframe thead th {\n        text-align: right;\n    }\n</style>\n<table border=\"1\" class=\"dataframe\">\n  <thead>\n    <tr style=\"text-align: right;\">\n      <th></th>\n      <th>zone_id</th>\n      <th>banner_id</th>\n      <th>os_id</th>\n      <th>country_id</th>\n      <th>banner_id0</th>\n      <th>rate0</th>\n      <th>g0</th>\n      <th>coeff_sum0</th>\n      <th>banner_id1</th>\n      <th>rate1</th>\n      <th>g1</th>\n      <th>coeff_sum1</th>\n      <th>clicks</th>\n      <th>day</th>\n      <th>hour</th>\n      <th>minutes</th>\n    </tr>\n  </thead>\n  <tbody>\n    <tr>\n      <th>14196412</th>\n      <td>14</td>\n      <td>1239</td>\n      <td>1</td>\n      <td>0</td>\n      <td>1239</td>\n      <td>0.0460</td>\n      <td>0.011367</td>\n      <td>-6.356145</td>\n      <td>1234</td>\n      <td>0.04600</td>\n      <td>0.011368</td>\n      <td>-6.355855</td>\n      <td>0</td>\n      <td>2</td>\n      <td>0</td>\n      <td>0</td>\n    </tr>\n    <tr>\n      <th>8706638</th>\n      <td>525</td>\n      <td>174</td>\n      <td>3</td>\n      <td>0</td>\n      <td>174</td>\n      <td>0.0010</td>\n      <td>0.063288</td>\n      <td>-3.107591</td>\n      <td>104</td>\n      <td>0.00100</td>\n      <td>0.041912</td>\n      <td>-3.091600</td>\n      <td>0</td>\n      <td>2</td>\n      <td>0</td>\n      <td>0</td>\n    </tr>\n    <tr>\n      <th>13000378</th>\n      <td>14</td>\n      <td>175</td>\n      <td>2</td>\n      <td>9</td>\n      <td>175</td>\n      <td>0.0070</td>\n      <td>0.042959</td>\n      <td>-3.023266</td>\n      <td>232</td>\n      <td>0.00700</td>\n      <td>0.042071</td>\n      <td>-3.060019</td>\n      <td>0</td>\n      <td>2</td>\n      <td>0</td>\n      <td>0</td>\n    </tr>\n    <tr>\n      <th>9767447</th>\n      <td>0</td>\n      <td>76</td>\n      <td>1</td>\n      <td>3</td>\n      <td>76</td>\n      <td>0.0080</td>\n      <td>0.051014</td>\n      <td>-4.665202</td>\n      <td>34</td>\n      <td>0.00873</td>\n      <td>0.014532</td>\n      <td>-4.988883</td>\n      <td>0</td>\n      <td>2</td>\n      <td>0</td>\n      <td>0</td>\n    </tr>\n    <tr>\n      <th>9054327</th>\n      <td>24</td>\n      <td>428</td>\n      <td>1</td>\n      <td>10</td>\n      <td>428</td>\n      <td>0.0010</td>\n      <td>0.157651</td>\n      <td>-3.672826</td>\n      <td>719</td>\n      <td>0.00100</td>\n      <td>0.167411</td>\n      <td>-3.676580</td>\n      <td>0</td>\n      <td>2</td>\n      <td>0</td>\n      <td>0</td>\n    </tr>\n    <tr>\n      <th>...</th>\n      <td>...</td>\n      <td>...</td>\n      <td>...</td>\n      <td>...</td>\n      <td>...</td>\n      <td>...</td>\n      <td>...</td>\n      <td>...</td>\n      <td>...</td>\n      <td>...</td>\n      <td>...</td>\n      <td>...</td>\n      <td>...</td>\n      <td>...</td>\n      <td>...</td>\n      <td>...</td>\n    </tr>\n    <tr>\n      <th>11510884</th>\n      <td>20</td>\n      <td>1236</td>\n      <td>2</td>\n      <td>0</td>\n      <td>1236</td>\n      <td>0.0460</td>\n      <td>0.009155</td>\n      <td>-6.085725</td>\n      <td>13765667</td>\n      <td>0.50000</td>\n      <td>0.081177</td>\n      <td>-2.452728</td>\n      <td>0</td>\n      <td>2</td>\n      <td>23</td>\n      <td>59</td>\n    </tr>\n    <tr>\n      <th>10139863</th>\n      <td>24</td>\n      <td>180</td>\n      <td>2</td>\n      <td>6</td>\n      <td>180</td>\n      <td>0.0080</td>\n      <td>0.038556</td>\n      <td>-3.791884</td>\n      <td>403</td>\n      <td>0.00800</td>\n      <td>0.026928</td>\n      <td>-3.749882</td>\n      <td>0</td>\n      <td>2</td>\n      <td>23</td>\n      <td>59</td>\n    </tr>\n    <tr>\n      <th>5597133</th>\n      <td>73</td>\n      <td>92</td>\n      <td>1</td>\n      <td>0</td>\n      <td>92</td>\n      <td>0.0594</td>\n      <td>0.023820</td>\n      <td>-4.641030</td>\n      <td>12584620</td>\n      <td>1.50000</td>\n      <td>0.010748</td>\n      <td>-2.737213</td>\n      <td>0</td>\n      <td>2</td>\n      <td>23</td>\n      <td>59</td>\n    </tr>\n    <tr>\n      <th>8660907</th>\n      <td>17</td>\n      <td>1235</td>\n      <td>4</td>\n      <td>0</td>\n      <td>1235</td>\n      <td>0.0670</td>\n      <td>0.027977</td>\n      <td>-5.617197</td>\n      <td>1240</td>\n      <td>0.06700</td>\n      <td>0.027988</td>\n      <td>-5.616952</td>\n      <td>0</td>\n      <td>2</td>\n      <td>23</td>\n      <td>59</td>\n    </tr>\n    <tr>\n      <th>2991997</th>\n      <td>1</td>\n      <td>2</td>\n      <td>0</td>\n      <td>0</td>\n      <td>2</td>\n      <td>0.0140</td>\n      <td>0.017499</td>\n      <td>-3.052530</td>\n      <td>21</td>\n      <td>0.01400</td>\n      <td>0.029316</td>\n      <td>-3.173799</td>\n      <td>0</td>\n      <td>2</td>\n      <td>23</td>\n      <td>59</td>\n    </tr>\n  </tbody>\n</table>\n<p>1883622 rows × 16 columns</p>\n</div>"
     },
     "metadata": {},
     "output_type": "display_data"
    }
   ],
   "source": [
    "# разделяющий день -- последний день, начиная с 00:00\n",
    "splitting_datetime = data['date_time'].max()\n",
    "splitting_datetime = splitting_datetime.replace(hour=0, minute=0, second=0)\n",
    "print(f'Splitting datetime: {splitting_datetime}')\n",
    "\n",
    "train_data = data[data['date_time'] < splitting_datetime]\n",
    "test_data = data[data['date_time'] >= splitting_datetime]\n",
    "\n",
    "train_data = train_data.drop(columns=['date_time'])\n",
    "test_data = test_data.drop(columns=['date_time'])\n",
    "\n",
    "print(f'Train samples: {len(train_data)}')\n",
    "print(f'Test samples: {len(test_data)}')\n",
    "\n",
    "display(train_data)\n",
    "display(test_data)"
   ],
   "metadata": {
    "datalore": {
     "node_id": "Ozu5Minvo8wYJ8oQ62btD5",
     "type": "CODE",
     "hide_input_from_viewers": true,
     "hide_output_from_viewers": true
    },
    "ExecuteTime": {
     "end_time": "2023-12-26T22:06:01.583591Z",
     "start_time": "2023-12-26T22:06:00.474492Z"
    }
   }
  },
  {
   "cell_type": "markdown",
   "source": [
    "Разделим train и test данные на признаки X и таргет y. Отдельно выделим тестовые данные X_test_0 с banner_id = banner_id0 и X_test_1 для случая banner_id = banner_id1."
   ],
   "metadata": {
    "datalore": {
     "node_id": "ghgDr0DrxapfKzyCERxRga",
     "type": "MD",
     "hide_input_from_viewers": true,
     "hide_output_from_viewers": true
    }
   }
  },
  {
   "cell_type": "code",
   "execution_count": 30,
   "outputs": [],
   "source": [
    "def split_to_X_y(data: pd.DataFrame):\n",
    "    X = data.drop(columns=['clicks'])\n",
    "    y = data['clicks']\n",
    "    return X, y\n",
    "\n",
    "\n",
    "X_train, y_train = split_to_X_y(train_data)\n",
    "X_test, y_test = split_to_X_y(test_data)\n",
    "\n",
    "X_test_0 = X_test.copy()\n",
    "X_test_1 = X_test.copy()\n",
    "X_test_1['banner_id'] = X_test_1['banner_id1']"
   ],
   "metadata": {
    "datalore": {
     "node_id": "JWdL58RRFEcJsS8UIfBXiu",
     "type": "CODE",
     "hide_input_from_viewers": true,
     "hide_output_from_viewers": true
    },
    "ExecuteTime": {
     "end_time": "2023-12-26T22:06:02.493476Z",
     "start_time": "2023-12-26T22:06:01.576509Z"
    }
   }
  },
  {
   "cell_type": "code",
   "execution_count": 31,
   "outputs": [
    {
     "name": "stdout",
     "output_type": "stream",
     "text": [
      "X_train shape: (12026120, 15), y_train shape: (12026120,)\n",
      "X_test shape: (1883622, 15), y_test shape: (1883622,)\n"
     ]
    }
   ],
   "source": [
    "print(f\"X_train shape: {X_train.shape}, y_train shape: {y_train.shape}\")\n",
    "print(f\"X_test shape: {X_test.shape}, y_test shape: {y_test.shape}\")"
   ],
   "metadata": {
    "datalore": {
     "node_id": "8uFDz7efntqJ4IdgZdCJZt",
     "type": "CODE",
     "hide_input_from_viewers": true,
     "hide_output_from_viewers": true
    },
    "ExecuteTime": {
     "end_time": "2023-12-26T22:06:02.495245Z",
     "start_time": "2023-12-26T22:06:02.491574Z"
    }
   }
  },
  {
   "cell_type": "markdown",
   "source": [
    "Добавим интеракции порядка 2 -- попарная конкатенация категориальных фич. Новая колонка интеракций будет иметь название вида 'feature1:feature2'. Значение интеракции будет являться значениями исходных колонок, сконкатенированными через двоеточие."
   ],
   "metadata": {
    "collapsed": false
   }
  },
  {
   "cell_type": "code",
   "execution_count": 32,
   "outputs": [],
   "source": [
    "from typing import List"
   ],
   "metadata": {
    "collapsed": false,
    "ExecuteTime": {
     "end_time": "2023-12-26T22:06:02.497386Z",
     "start_time": "2023-12-26T22:06:02.495442Z"
    }
   }
  },
  {
   "cell_type": "code",
   "execution_count": 33,
   "outputs": [],
   "source": [
    "def add_row_interactions(df_row, interaction_features: List[str]):\n",
    "    interactions_values = [f'{df_row[feature]}' for feature in interaction_features]\n",
    "    return ':'.join(interactions_values)\n",
    "\n",
    "\n",
    "def create_interaction_column(data: pd.DataFrame, interaction_features: List[str]):\n",
    "    interaction_features_column = ':'.join(interaction_features)\n",
    "    data[interaction_features_column] = data.apply(\n",
    "        lambda row: add_row_interactions(row, interaction_features),\n",
    "        axis=1\n",
    "    )"
   ],
   "metadata": {
    "collapsed": false,
    "ExecuteTime": {
     "end_time": "2023-12-26T22:06:02.515067Z",
     "start_time": "2023-12-26T22:06:02.498933Z"
    }
   }
  },
  {
   "cell_type": "markdown",
   "source": [
    "Добавляем во все полученные ранее-X выборки"
   ],
   "metadata": {
    "collapsed": false
   }
  },
  {
   "cell_type": "code",
   "execution_count": 34,
   "outputs": [],
   "source": [
    "categorial_columns = ['zone_id', 'banner_id', 'os_id', 'country_id']\n",
    "\n",
    "for i in range(0, len(categorial_columns)):\n",
    "    for j in range(i + 1, len(categorial_columns)):\n",
    "        feature1 = categorial_columns[i]\n",
    "        feature2 = categorial_columns[j]\n",
    "        \n",
    "        create_interaction_column(X_train, [feature1, feature2])\n",
    "        create_interaction_column(X_test_0, [feature1, feature2])\n",
    "        create_interaction_column(X_test_1, [feature1, feature2])"
   ],
   "metadata": {
    "collapsed": false,
    "ExecuteTime": {
     "end_time": "2023-12-26T22:13:24.805785Z",
     "start_time": "2023-12-26T22:06:02.502964Z"
    }
   }
  },
  {
   "cell_type": "code",
   "execution_count": 35,
   "outputs": [
    {
     "data": {
      "text/plain": "          zone_id  banner_id  os_id  country_id  banner_id0  rate0        g0  \\\n5041415        41         29      3           0          29  0.002  0.016386   \n1442602         1        188      2          15         188  0.008  0.014186   \n7232498        17         52      2           5          52  0.008  0.013550   \n14938691       47         73      4          13          73  0.008  0.120974   \n11536774       48        266      0           1         266  0.005  0.064730   \n\n          coeff_sum0  banner_id1  rate1  ...  coeff_sum1  day  hour  minutes  \\\n5041415    -4.736584           6  0.002  ...   -4.898257   26     0        0   \n1442602    -3.811444    11754925  0.330  ...   -2.106896   26     0        0   \n7232498    -4.317590          41  0.004  ...   -3.739501   26     0        0   \n14938691   -2.382508        1040  0.008  ...   -3.037939   26     0        0   \n11536774   -3.774143         124  0.003  ...   -3.481748   26     0        0   \n\n          zone_id:banner_id zone_id:os_id zone_id:country_id banner_id:os_id  \\\n5041415           41.0:29.0          41:3               41:0            29:3   \n1442602           1.0:188.0           1:2               1:15           188:2   \n7232498           17.0:52.0          17:2               17:5            52:2   \n14938691          47.0:73.0          47:4              47:13            73:4   \n11536774         48.0:266.0          48:0               48:1           266:0   \n\n         banner_id:country_id os_id:country_id  \n5041415                  29:0              3:0  \n1442602                188:15             2:15  \n7232498                  52:5              2:5  \n14938691                73:13             4:13  \n11536774                266:1              0:1  \n\n[5 rows x 21 columns]",
      "text/html": "<div>\n<style scoped>\n    .dataframe tbody tr th:only-of-type {\n        vertical-align: middle;\n    }\n\n    .dataframe tbody tr th {\n        vertical-align: top;\n    }\n\n    .dataframe thead th {\n        text-align: right;\n    }\n</style>\n<table border=\"1\" class=\"dataframe\">\n  <thead>\n    <tr style=\"text-align: right;\">\n      <th></th>\n      <th>zone_id</th>\n      <th>banner_id</th>\n      <th>os_id</th>\n      <th>country_id</th>\n      <th>banner_id0</th>\n      <th>rate0</th>\n      <th>g0</th>\n      <th>coeff_sum0</th>\n      <th>banner_id1</th>\n      <th>rate1</th>\n      <th>...</th>\n      <th>coeff_sum1</th>\n      <th>day</th>\n      <th>hour</th>\n      <th>minutes</th>\n      <th>zone_id:banner_id</th>\n      <th>zone_id:os_id</th>\n      <th>zone_id:country_id</th>\n      <th>banner_id:os_id</th>\n      <th>banner_id:country_id</th>\n      <th>os_id:country_id</th>\n    </tr>\n  </thead>\n  <tbody>\n    <tr>\n      <th>5041415</th>\n      <td>41</td>\n      <td>29</td>\n      <td>3</td>\n      <td>0</td>\n      <td>29</td>\n      <td>0.002</td>\n      <td>0.016386</td>\n      <td>-4.736584</td>\n      <td>6</td>\n      <td>0.002</td>\n      <td>...</td>\n      <td>-4.898257</td>\n      <td>26</td>\n      <td>0</td>\n      <td>0</td>\n      <td>41.0:29.0</td>\n      <td>41:3</td>\n      <td>41:0</td>\n      <td>29:3</td>\n      <td>29:0</td>\n      <td>3:0</td>\n    </tr>\n    <tr>\n      <th>1442602</th>\n      <td>1</td>\n      <td>188</td>\n      <td>2</td>\n      <td>15</td>\n      <td>188</td>\n      <td>0.008</td>\n      <td>0.014186</td>\n      <td>-3.811444</td>\n      <td>11754925</td>\n      <td>0.330</td>\n      <td>...</td>\n      <td>-2.106896</td>\n      <td>26</td>\n      <td>0</td>\n      <td>0</td>\n      <td>1.0:188.0</td>\n      <td>1:2</td>\n      <td>1:15</td>\n      <td>188:2</td>\n      <td>188:15</td>\n      <td>2:15</td>\n    </tr>\n    <tr>\n      <th>7232498</th>\n      <td>17</td>\n      <td>52</td>\n      <td>2</td>\n      <td>5</td>\n      <td>52</td>\n      <td>0.008</td>\n      <td>0.013550</td>\n      <td>-4.317590</td>\n      <td>41</td>\n      <td>0.004</td>\n      <td>...</td>\n      <td>-3.739501</td>\n      <td>26</td>\n      <td>0</td>\n      <td>0</td>\n      <td>17.0:52.0</td>\n      <td>17:2</td>\n      <td>17:5</td>\n      <td>52:2</td>\n      <td>52:5</td>\n      <td>2:5</td>\n    </tr>\n    <tr>\n      <th>14938691</th>\n      <td>47</td>\n      <td>73</td>\n      <td>4</td>\n      <td>13</td>\n      <td>73</td>\n      <td>0.008</td>\n      <td>0.120974</td>\n      <td>-2.382508</td>\n      <td>1040</td>\n      <td>0.008</td>\n      <td>...</td>\n      <td>-3.037939</td>\n      <td>26</td>\n      <td>0</td>\n      <td>0</td>\n      <td>47.0:73.0</td>\n      <td>47:4</td>\n      <td>47:13</td>\n      <td>73:4</td>\n      <td>73:13</td>\n      <td>4:13</td>\n    </tr>\n    <tr>\n      <th>11536774</th>\n      <td>48</td>\n      <td>266</td>\n      <td>0</td>\n      <td>1</td>\n      <td>266</td>\n      <td>0.005</td>\n      <td>0.064730</td>\n      <td>-3.774143</td>\n      <td>124</td>\n      <td>0.003</td>\n      <td>...</td>\n      <td>-3.481748</td>\n      <td>26</td>\n      <td>0</td>\n      <td>0</td>\n      <td>48.0:266.0</td>\n      <td>48:0</td>\n      <td>48:1</td>\n      <td>266:0</td>\n      <td>266:1</td>\n      <td>0:1</td>\n    </tr>\n  </tbody>\n</table>\n<p>5 rows × 21 columns</p>\n</div>"
     },
     "metadata": {},
     "output_type": "display_data"
    },
    {
     "data": {
      "text/plain": "          zone_id  banner_id  os_id  country_id  banner_id0  rate0        g0  \\\n14196412       14       1239      1           0        1239  0.046  0.011367   \n8706638       525        174      3           0         174  0.001  0.063288   \n13000378       14        175      2           9         175  0.007  0.042959   \n9767447         0         76      1           3          76  0.008  0.051014   \n9054327        24        428      1          10         428  0.001  0.157651   \n\n          coeff_sum0  banner_id1    rate1  ...  coeff_sum1  day  hour  \\\n14196412   -6.356145        1234  0.04600  ...   -6.355855    2     0   \n8706638    -3.107591         104  0.00100  ...   -3.091600    2     0   \n13000378   -3.023266         232  0.00700  ...   -3.060019    2     0   \n9767447    -4.665202          34  0.00873  ...   -4.988883    2     0   \n9054327    -3.672826         719  0.00100  ...   -3.676580    2     0   \n\n          minutes  zone_id:banner_id zone_id:os_id zone_id:country_id  \\\n14196412        0        14.0:1239.0          14:1               14:0   \n8706638         0        525.0:174.0         525:3              525:0   \n13000378        0         14.0:175.0          14:2               14:9   \n9767447         0           0.0:76.0           0:1                0:3   \n9054327         0         24.0:428.0          24:1              24:10   \n\n         banner_id:os_id banner_id:country_id os_id:country_id  \n14196412          1239:1               1239:0              1:0  \n8706638            174:3                174:0              3:0  \n13000378           175:2                175:9              2:9  \n9767447             76:1                 76:3              1:3  \n9054327            428:1               428:10             1:10  \n\n[5 rows x 21 columns]",
      "text/html": "<div>\n<style scoped>\n    .dataframe tbody tr th:only-of-type {\n        vertical-align: middle;\n    }\n\n    .dataframe tbody tr th {\n        vertical-align: top;\n    }\n\n    .dataframe thead th {\n        text-align: right;\n    }\n</style>\n<table border=\"1\" class=\"dataframe\">\n  <thead>\n    <tr style=\"text-align: right;\">\n      <th></th>\n      <th>zone_id</th>\n      <th>banner_id</th>\n      <th>os_id</th>\n      <th>country_id</th>\n      <th>banner_id0</th>\n      <th>rate0</th>\n      <th>g0</th>\n      <th>coeff_sum0</th>\n      <th>banner_id1</th>\n      <th>rate1</th>\n      <th>...</th>\n      <th>coeff_sum1</th>\n      <th>day</th>\n      <th>hour</th>\n      <th>minutes</th>\n      <th>zone_id:banner_id</th>\n      <th>zone_id:os_id</th>\n      <th>zone_id:country_id</th>\n      <th>banner_id:os_id</th>\n      <th>banner_id:country_id</th>\n      <th>os_id:country_id</th>\n    </tr>\n  </thead>\n  <tbody>\n    <tr>\n      <th>14196412</th>\n      <td>14</td>\n      <td>1239</td>\n      <td>1</td>\n      <td>0</td>\n      <td>1239</td>\n      <td>0.046</td>\n      <td>0.011367</td>\n      <td>-6.356145</td>\n      <td>1234</td>\n      <td>0.04600</td>\n      <td>...</td>\n      <td>-6.355855</td>\n      <td>2</td>\n      <td>0</td>\n      <td>0</td>\n      <td>14.0:1239.0</td>\n      <td>14:1</td>\n      <td>14:0</td>\n      <td>1239:1</td>\n      <td>1239:0</td>\n      <td>1:0</td>\n    </tr>\n    <tr>\n      <th>8706638</th>\n      <td>525</td>\n      <td>174</td>\n      <td>3</td>\n      <td>0</td>\n      <td>174</td>\n      <td>0.001</td>\n      <td>0.063288</td>\n      <td>-3.107591</td>\n      <td>104</td>\n      <td>0.00100</td>\n      <td>...</td>\n      <td>-3.091600</td>\n      <td>2</td>\n      <td>0</td>\n      <td>0</td>\n      <td>525.0:174.0</td>\n      <td>525:3</td>\n      <td>525:0</td>\n      <td>174:3</td>\n      <td>174:0</td>\n      <td>3:0</td>\n    </tr>\n    <tr>\n      <th>13000378</th>\n      <td>14</td>\n      <td>175</td>\n      <td>2</td>\n      <td>9</td>\n      <td>175</td>\n      <td>0.007</td>\n      <td>0.042959</td>\n      <td>-3.023266</td>\n      <td>232</td>\n      <td>0.00700</td>\n      <td>...</td>\n      <td>-3.060019</td>\n      <td>2</td>\n      <td>0</td>\n      <td>0</td>\n      <td>14.0:175.0</td>\n      <td>14:2</td>\n      <td>14:9</td>\n      <td>175:2</td>\n      <td>175:9</td>\n      <td>2:9</td>\n    </tr>\n    <tr>\n      <th>9767447</th>\n      <td>0</td>\n      <td>76</td>\n      <td>1</td>\n      <td>3</td>\n      <td>76</td>\n      <td>0.008</td>\n      <td>0.051014</td>\n      <td>-4.665202</td>\n      <td>34</td>\n      <td>0.00873</td>\n      <td>...</td>\n      <td>-4.988883</td>\n      <td>2</td>\n      <td>0</td>\n      <td>0</td>\n      <td>0.0:76.0</td>\n      <td>0:1</td>\n      <td>0:3</td>\n      <td>76:1</td>\n      <td>76:3</td>\n      <td>1:3</td>\n    </tr>\n    <tr>\n      <th>9054327</th>\n      <td>24</td>\n      <td>428</td>\n      <td>1</td>\n      <td>10</td>\n      <td>428</td>\n      <td>0.001</td>\n      <td>0.157651</td>\n      <td>-3.672826</td>\n      <td>719</td>\n      <td>0.00100</td>\n      <td>...</td>\n      <td>-3.676580</td>\n      <td>2</td>\n      <td>0</td>\n      <td>0</td>\n      <td>24.0:428.0</td>\n      <td>24:1</td>\n      <td>24:10</td>\n      <td>428:1</td>\n      <td>428:10</td>\n      <td>1:10</td>\n    </tr>\n  </tbody>\n</table>\n<p>5 rows × 21 columns</p>\n</div>"
     },
     "metadata": {},
     "output_type": "display_data"
    },
    {
     "data": {
      "text/plain": "          zone_id  banner_id  os_id  country_id  banner_id0  rate0        g0  \\\n14196412       14       1234      1           0        1239  0.046  0.011367   \n8706638       525        104      3           0         174  0.001  0.063288   \n13000378       14        232      2           9         175  0.007  0.042959   \n9767447         0         34      1           3          76  0.008  0.051014   \n9054327        24        719      1          10         428  0.001  0.157651   \n\n          coeff_sum0  banner_id1    rate1  ...  coeff_sum1  day  hour  \\\n14196412   -6.356145        1234  0.04600  ...   -6.355855    2     0   \n8706638    -3.107591         104  0.00100  ...   -3.091600    2     0   \n13000378   -3.023266         232  0.00700  ...   -3.060019    2     0   \n9767447    -4.665202          34  0.00873  ...   -4.988883    2     0   \n9054327    -3.672826         719  0.00100  ...   -3.676580    2     0   \n\n          minutes  zone_id:banner_id zone_id:os_id zone_id:country_id  \\\n14196412        0        14.0:1234.0          14:1               14:0   \n8706638         0        525.0:104.0         525:3              525:0   \n13000378        0         14.0:232.0          14:2               14:9   \n9767447         0           0.0:34.0           0:1                0:3   \n9054327         0         24.0:719.0          24:1              24:10   \n\n         banner_id:os_id banner_id:country_id os_id:country_id  \n14196412          1234:1               1234:0              1:0  \n8706638            104:3                104:0              3:0  \n13000378           232:2                232:9              2:9  \n9767447             34:1                 34:3              1:3  \n9054327            719:1               719:10             1:10  \n\n[5 rows x 21 columns]",
      "text/html": "<div>\n<style scoped>\n    .dataframe tbody tr th:only-of-type {\n        vertical-align: middle;\n    }\n\n    .dataframe tbody tr th {\n        vertical-align: top;\n    }\n\n    .dataframe thead th {\n        text-align: right;\n    }\n</style>\n<table border=\"1\" class=\"dataframe\">\n  <thead>\n    <tr style=\"text-align: right;\">\n      <th></th>\n      <th>zone_id</th>\n      <th>banner_id</th>\n      <th>os_id</th>\n      <th>country_id</th>\n      <th>banner_id0</th>\n      <th>rate0</th>\n      <th>g0</th>\n      <th>coeff_sum0</th>\n      <th>banner_id1</th>\n      <th>rate1</th>\n      <th>...</th>\n      <th>coeff_sum1</th>\n      <th>day</th>\n      <th>hour</th>\n      <th>minutes</th>\n      <th>zone_id:banner_id</th>\n      <th>zone_id:os_id</th>\n      <th>zone_id:country_id</th>\n      <th>banner_id:os_id</th>\n      <th>banner_id:country_id</th>\n      <th>os_id:country_id</th>\n    </tr>\n  </thead>\n  <tbody>\n    <tr>\n      <th>14196412</th>\n      <td>14</td>\n      <td>1234</td>\n      <td>1</td>\n      <td>0</td>\n      <td>1239</td>\n      <td>0.046</td>\n      <td>0.011367</td>\n      <td>-6.356145</td>\n      <td>1234</td>\n      <td>0.04600</td>\n      <td>...</td>\n      <td>-6.355855</td>\n      <td>2</td>\n      <td>0</td>\n      <td>0</td>\n      <td>14.0:1234.0</td>\n      <td>14:1</td>\n      <td>14:0</td>\n      <td>1234:1</td>\n      <td>1234:0</td>\n      <td>1:0</td>\n    </tr>\n    <tr>\n      <th>8706638</th>\n      <td>525</td>\n      <td>104</td>\n      <td>3</td>\n      <td>0</td>\n      <td>174</td>\n      <td>0.001</td>\n      <td>0.063288</td>\n      <td>-3.107591</td>\n      <td>104</td>\n      <td>0.00100</td>\n      <td>...</td>\n      <td>-3.091600</td>\n      <td>2</td>\n      <td>0</td>\n      <td>0</td>\n      <td>525.0:104.0</td>\n      <td>525:3</td>\n      <td>525:0</td>\n      <td>104:3</td>\n      <td>104:0</td>\n      <td>3:0</td>\n    </tr>\n    <tr>\n      <th>13000378</th>\n      <td>14</td>\n      <td>232</td>\n      <td>2</td>\n      <td>9</td>\n      <td>175</td>\n      <td>0.007</td>\n      <td>0.042959</td>\n      <td>-3.023266</td>\n      <td>232</td>\n      <td>0.00700</td>\n      <td>...</td>\n      <td>-3.060019</td>\n      <td>2</td>\n      <td>0</td>\n      <td>0</td>\n      <td>14.0:232.0</td>\n      <td>14:2</td>\n      <td>14:9</td>\n      <td>232:2</td>\n      <td>232:9</td>\n      <td>2:9</td>\n    </tr>\n    <tr>\n      <th>9767447</th>\n      <td>0</td>\n      <td>34</td>\n      <td>1</td>\n      <td>3</td>\n      <td>76</td>\n      <td>0.008</td>\n      <td>0.051014</td>\n      <td>-4.665202</td>\n      <td>34</td>\n      <td>0.00873</td>\n      <td>...</td>\n      <td>-4.988883</td>\n      <td>2</td>\n      <td>0</td>\n      <td>0</td>\n      <td>0.0:34.0</td>\n      <td>0:1</td>\n      <td>0:3</td>\n      <td>34:1</td>\n      <td>34:3</td>\n      <td>1:3</td>\n    </tr>\n    <tr>\n      <th>9054327</th>\n      <td>24</td>\n      <td>719</td>\n      <td>1</td>\n      <td>10</td>\n      <td>428</td>\n      <td>0.001</td>\n      <td>0.157651</td>\n      <td>-3.672826</td>\n      <td>719</td>\n      <td>0.00100</td>\n      <td>...</td>\n      <td>-3.676580</td>\n      <td>2</td>\n      <td>0</td>\n      <td>0</td>\n      <td>24.0:719.0</td>\n      <td>24:1</td>\n      <td>24:10</td>\n      <td>719:1</td>\n      <td>719:10</td>\n      <td>1:10</td>\n    </tr>\n  </tbody>\n</table>\n<p>5 rows × 21 columns</p>\n</div>"
     },
     "metadata": {},
     "output_type": "display_data"
    }
   ],
   "source": [
    "display(X_train.head())\n",
    "display(X_test_0.head())\n",
    "display(X_test_1.head())"
   ],
   "metadata": {
    "collapsed": false,
    "ExecuteTime": {
     "end_time": "2023-12-26T22:13:24.826883Z",
     "start_time": "2023-12-26T22:13:24.813359Z"
    }
   }
  },
  {
   "cell_type": "markdown",
   "source": [
    "### 5. Кодирование категориальных признаков\n",
    "Чтобы перевести категориальные фичи в числовые значения, воспользуемся One-hot encoding'ом, сопоставив каждой категории вектор из 0 с 1 на одной из позиций. Категориальными у нас являются все фичи, кроме одной -- campaign_clicks (числовая). К числовой фиче для нормализации и стандартизации применим StandartScaler."
   ],
   "metadata": {
    "datalore": {
     "node_id": "4iLeWOhoIAAo8PcDSFVEj1",
     "type": "MD",
     "hide_input_from_viewers": true,
     "hide_output_from_viewers": true
    }
   }
  },
  {
   "cell_type": "code",
   "execution_count": 36,
   "outputs": [
    {
     "name": "stdout",
     "output_type": "stream",
     "text": [
      "Numerical columns:\n",
      "['day', 'hour', 'minutes', 'rate0', 'g0', 'coeff_sum0', 'rate1', 'g1', 'coeff_sum1']\n",
      "Categorial columns:\n",
      "['zone_id', 'banner_id', 'os_id', 'country_id', 'banner_id0', 'banner_id1', 'zone_id:banner_id', 'zone_id:os_id', 'zone_id:country_id', 'banner_id:os_id', 'banner_id:country_id', 'os_id:country_id']\n"
     ]
    }
   ],
   "source": [
    "numerical_columns = ['day', 'hour', 'minutes', 'rate0', 'g0', 'coeff_sum0', 'rate1', 'g1', 'coeff_sum1']\n",
    "print('Numerical columns:')\n",
    "print(numerical_columns)\n",
    "\n",
    "# все остальные столбцы, кроме numerical columns и clicks\n",
    "categorial_columns = ['zone_id', 'banner_id', 'os_id', 'country_id', 'banner_id0', 'banner_id1',\n",
    "                      'zone_id:banner_id', 'zone_id:os_id', 'zone_id:country_id', 'banner_id:os_id',\n",
    "                      'banner_id:country_id', 'os_id:country_id']\n",
    "print('Categorial columns:')\n",
    "print(categorial_columns)"
   ],
   "metadata": {
    "datalore": {
     "node_id": "GpthO8x2FhLbkhZGCJCqGJ",
     "type": "CODE",
     "hide_input_from_viewers": true,
     "hide_output_from_viewers": true
    },
    "ExecuteTime": {
     "end_time": "2023-12-26T22:13:24.842478Z",
     "start_time": "2023-12-26T22:13:24.828056Z"
    }
   }
  },
  {
   "cell_type": "code",
   "source": [
    "from sklearn.preprocessing import OneHotEncoder, StandardScaler\n",
    "from scipy.sparse import hstack\n",
    "\n",
    "# обработка категориальных фичей\n",
    "oh_encoder = OneHotEncoder(handle_unknown='ignore', sparse_output=True, drop='first')\n",
    "\n",
    "X_train_cat = oh_encoder.fit_transform(X_train[categorial_columns], y_train)\n",
    "X_test_0_cat = oh_encoder.transform(X_test_0[categorial_columns])\n",
    "X_test_1_cat = oh_encoder.transform(X_test_1[categorial_columns])\n",
    "\n",
    "# обработка численных фичей\n",
    "stand_scaler = StandardScaler()\n",
    "X_train_num = stand_scaler.fit_transform(X_train[numerical_columns], y_train)\n",
    "X_test_0_num = stand_scaler.transform(X_test_0[numerical_columns])\n",
    "X_test_1_num = stand_scaler.transform(X_test_1[numerical_columns])\n",
    "\n",
    "# соединение категориальных и численных фичей\n",
    "X_train = hstack([X_train_cat, X_train_num])\n",
    "X_test_0 = hstack([X_test_0_cat, X_test_0_num])\n",
    "X_test_1 = hstack([X_test_1_cat, X_test_1_num])"
   ],
   "execution_count": null,
   "outputs": [],
   "metadata": {
    "datalore": {
     "node_id": "DPtNqy2uyjxjnXVg8lLJqW",
     "type": "CODE",
     "hide_input_from_viewers": true,
     "hide_output_from_viewers": true
    }
   }
  },
  {
   "cell_type": "markdown",
   "source": [
    "### 6. Построение и обучение модели\n",
    "В качестве модели выберем логистическую регрессию с 'liblinear' solver'ом. В ДЗ-1 уже нашли лучший коэффициент C=0.01."
   ],
   "attachments": {},
   "metadata": {
    "datalore": {
     "node_id": "87MGqFFyV58NwVXewPHUJ0",
     "type": "MD",
     "hide_input_from_viewers": true,
     "hide_output_from_viewers": true
    }
   }
  },
  {
   "cell_type": "code",
   "source": [
    "from sklearn.linear_model import LogisticRegression"
   ],
   "execution_count": 39,
   "outputs": [],
   "metadata": {
    "datalore": {
     "node_id": "RihK7ReEpuiJ9eNxHwqv54",
     "type": "CODE",
     "hide_input_from_viewers": true,
     "hide_output_from_viewers": true
    },
    "ExecuteTime": {
     "end_time": "2023-12-26T22:24:18.822386Z",
     "start_time": "2023-12-26T22:24:18.742849Z"
    }
   }
  },
  {
   "cell_type": "code",
   "source": [
    "def create_train_model(X_train, y_train):\n",
    "    return LogisticRegression(\n",
    "        max_iter=100,\n",
    "        solver='liblinear',\n",
    "        C=0.01\n",
    "    ).fit(X_train, y_train)\n",
    "\n",
    "\n",
    "model = create_train_model(X_train, y_train)"
   ],
   "execution_count": 40,
   "outputs": [],
   "metadata": {
    "datalore": {
     "node_id": "SXq2lKptc1zJw7LB4idVJG",
     "type": "CODE",
     "hide_input_from_viewers": false,
     "hide_output_from_viewers": false,
     "report_properties": {
      "rowId": "FgYGkCERXkUVZo8tSjyCXK"
     }
    },
    "ExecuteTime": {
     "end_time": "2023-12-26T22:28:04.018606Z",
     "start_time": "2023-12-26T22:24:18.824118Z"
    }
   }
  },
  {
   "cell_type": "markdown",
   "source": [
    "### 7. Оценка качества обученной модели"
   ],
   "attachments": {},
   "metadata": {
    "datalore": {
     "node_id": "E0DUragVRq0qMzMVtYxBLe",
     "type": "MD",
     "hide_input_from_viewers": true,
     "hide_output_from_viewers": true
    }
   }
  },
  {
   "cell_type": "code",
   "source": [
    "from sklearn.metrics import roc_auc_score, log_loss\n",
    "\n",
    "\n",
    "def calc_print_metrics(y_true, y_preds):\n",
    "    print(f'Roc-auc baseline: {roc_auc_score(y_true, y_preds)}')\n",
    "    print(f'Log-loss baseline: {log_loss(y_true, y_preds)}')"
   ],
   "execution_count": 41,
   "outputs": [],
   "metadata": {
    "datalore": {
     "node_id": "UnqPIWLQaxuZczFCF9nRpt",
     "type": "CODE",
     "hide_input_from_viewers": true,
     "hide_output_from_viewers": true
    },
    "ExecuteTime": {
     "end_time": "2023-12-26T22:28:04.024055Z",
     "start_time": "2023-12-26T22:28:04.019384Z"
    }
   }
  },
  {
   "cell_type": "code",
   "source": [
    "model_preds = model.predict_proba(X_test_0)[:, 1]\n",
    "calc_print_metrics(y_test, model_preds)"
   ],
   "execution_count": 42,
   "outputs": [
    {
     "name": "stdout",
     "output_type": "stream",
     "text": [
      "Roc-auc baseline: 0.8064797500068485\n",
      "Log-loss baseline: 0.13064818461281646\n"
     ]
    }
   ],
   "metadata": {
    "datalore": {
     "node_id": "5lk7FNJi0h5p7wqerNIKht",
     "type": "CODE",
     "hide_input_from_viewers": true,
     "hide_output_from_viewers": true
    },
    "ExecuteTime": {
     "end_time": "2023-12-26T22:28:05.166426Z",
     "start_time": "2023-12-26T22:28:04.022003Z"
    }
   }
  },
  {
   "cell_type": "markdown",
   "source": [
    "### 8. Расчет CIPS\n",
    "Хотим посчитать OPE-метрику clipped ips на последнем дне. Знаем оптимальную лямбду: $\\lambda = 10$.\n",
    "\n",
    "Согласно условию, для определения победителя среди баннеров banner_id0 и banner_id1 проделывалось следующее:\n",
    "1. Независимо подкидывались две нормальные величины -- $X_0$ и $X_1$:\n",
    "В случае $\\pi_0$: $N(coeff\\_sum0, g0^2)$ и $N(coeff\\_sum1, g1^2)$\n",
    "В случае $\\pi_1$: $N(coeff\\_sum0_new, g0^2)$ и $N(coeff\\_sum1_new, g1^2)$,\n",
    "где $coeff\\_sum0\\_new$ и $coeff\\_sum1\\_new$ -- суммы коэффициентов для banner_id0 и banner_id1, которые предиктит обученная модель; их можно получить, применив logit функцию к вероятностям, которые предиктит обученная модель.\n",
    "\n",
    "2. Выбирался тот баннер, чей семпл получался больше\n",
    "\n",
    "Чтобы посчитать $\\pi_i$ для каждого события нужно посчитать вероятность того, что одна нормальная величина больше другой.\n",
    "\n",
    "Распишем вероятность того, что нормальная величина $X_0$ больше нормальной величины $X_1$: преобразуем неравенство, перенеся $X_1$ в левую часть\n",
    "$$ P(X_0 > X_1) = P(X_0 - X_1 > 0) = $$\n",
    "\n",
    "Получили 1 - определение функции распределения случайной величины $(X_0 - X_1)$ в точке 0: \n",
    "$$ = 1 - F_{X_0 - X_1}(0) $$\n",
    "\n",
    "$X_0$ и $X_1$ являются независимыми нормальными величинами $\\Rightarrow$ их разность $U = (X_1 - X_0)$ также является нормальной величиной. \n",
    "Матожидание разности: $E(X_0 - X_1) = E(X_0) - E(X_1)$ (линейность матожидания) \n",
    "Дисперсия разности: тк $X_0$ и $X_1$ независимы, дисперсия их разности равна сумме их дисперсий (св-во дисперсии): $D(X_0 - X_1) = D(X_0) + D(X_1)$\n",
    "\n",
    "Итого:\n",
    "$$ (X_0 - X_1) \\sim N(E(X_0) - E(X_1), D(X_0) + D(X_1)) \\Leftrightarrow $$\n",
    "$$ (X_0 - X_1) \\sim N(coeff\\_sum0^* - coeff\\_sum1^*, g0^2 + g1^2) $$"
   ],
   "attachments": {},
   "metadata": {
    "datalore": {
     "node_id": "sRBFV6fOuIBxSrDO08NizR",
     "type": "MD",
     "hide_input_from_viewers": true,
     "hide_output_from_viewers": true
    }
   }
  },
  {
   "cell_type": "code",
   "execution_count": 43,
   "outputs": [],
   "source": [
    "from scipy.stats import norm\n",
    "from scipy.special import logit\n",
    "import numpy as np"
   ],
   "metadata": {
    "collapsed": false,
    "ExecuteTime": {
     "end_time": "2023-12-26T22:28:05.167224Z",
     "start_time": "2023-12-26T22:28:05.164072Z"
    }
   }
  },
  {
   "cell_type": "code",
   "execution_count": 44,
   "outputs": [],
   "source": [
    "def calculate_policy(coeff_sum0, g0, coeff_sum1, g1):\n",
    "    def f(x):\n",
    "        return norm.cdf(x, loc=coeff_sum0 - coeff_sum1, scale=np.sqrt(g0 ** 2 + g1 ** 2))\n",
    "\n",
    "    return 1 - f(0)"
   ],
   "metadata": {
    "collapsed": false,
    "ExecuteTime": {
     "end_time": "2023-12-26T22:28:05.172429Z",
     "start_time": "2023-12-26T22:28:05.167866Z"
    }
   }
  },
  {
   "cell_type": "markdown",
   "source": [
    "Найдем $\\pi_0$:"
   ],
   "metadata": {
    "collapsed": false
   }
  },
  {
   "cell_type": "code",
   "execution_count": null,
   "outputs": [],
   "source": [
    "pi_0 = calculate_policy(\n",
    "    test_data['coeff_sum0'],\n",
    "    test_data['g0'],\n",
    "    test_data['coeff_sum1'],\n",
    "    test_data['g1']\n",
    ")"
   ],
   "metadata": {
    "collapsed": false
   }
  },
  {
   "cell_type": "markdown",
   "source": [
    "Чтобы найти $\\pi_1$, предварительно посчитаем $coeff\\_sum0\\_new$ и $coeff\\_sum1\\_new$, применив logit функцию к вероятностям, которые предиктит обученная модель:"
   ],
   "metadata": {
    "collapsed": false
   }
  },
  {
   "cell_type": "code",
   "execution_count": 46,
   "outputs": [],
   "source": [
    "y_preds0 = model.predict_proba(X_test_0)[:, 1]\n",
    "coeff_sum0_new = logit(y_preds0)\n",
    "\n",
    "y_preds1 = model.predict_proba(X_test_1)[:, 1]\n",
    "coeff_sum1_new = logit(y_preds1)"
   ],
   "metadata": {
    "collapsed": false,
    "ExecuteTime": {
     "end_time": "2023-12-26T22:28:05.994383Z",
     "start_time": "2023-12-26T22:28:05.271795Z"
    }
   }
  },
  {
   "cell_type": "markdown",
   "source": [
    "Считаем $\\pi_1$:"
   ],
   "metadata": {
    "collapsed": false
   }
  },
  {
   "cell_type": "code",
   "execution_count": null,
   "outputs": [],
   "source": [
    "pi_1 = calculate_policy(\n",
    "    coeff_sum0_new,\n",
    "    test_data['g0'],\n",
    "    coeff_sum1_new,\n",
    "    test_data['g1']\n",
    ")"
   ],
   "metadata": {
    "collapsed": false
   }
  },
  {
   "cell_type": "markdown",
   "source": [
    "Считаем CIPS:\n",
    "$$ V_{CIPS}(\\pi, D_0) = \\frac{1}{n} \\sum_{i} r_i\\ min[\\frac{\\pi(a_i | x_i)}{\\pi_0(a_i | x_i)}, \\lambda] $$"
   ],
   "metadata": {
    "collapsed": false
   }
  },
  {
   "cell_type": "code",
   "execution_count": 48,
   "outputs": [
    {
     "name": "stdout",
     "output_type": "stream",
     "text": [
      "CIPS: 0.07077033068469173\n"
     ]
    }
   ],
   "source": [
    "lambda_val = 10\n",
    "# добавим небольшой eps в знаменатель дроби, чтобы не возникло деления на 0\n",
    "cips = np.mean(y_test * np.minimum(pi_1 / (pi_0 + 1e-10), lambda_val))\n",
    "print(f'CIPS: {cips}')"
   ],
   "metadata": {
    "collapsed": false,
    "ExecuteTime": {
     "end_time": "2023-12-26T22:28:06.088269Z",
     "start_time": "2023-12-26T22:28:06.074514Z"
    }
   }
  }
 ],
 "metadata": {
  "kernelspec": {
   "name": "python3",
   "language": "python",
   "display_name": "Python 3 (ipykernel)"
  },
  "datalore": {
   "computation_mode": "JUPYTER",
   "package_manager": "pip",
   "base_environment": "default",
   "packages": [],
   "report_row_ids": [
    "jo05gh4zR2TECitCjLb9e8",
    "aFHQUuvYnMWETftpcBJu3J",
    "7rpSGy9Uer3p8OXOFaWBhm",
    "n6QfIZLr6Doo5ydjbuDWfV",
    "FgYGkCERXkUVZo8tSjyCXK",
    "HWxG7tDQtuRg9ihyuN8SJI"
   ],
   "version": 3
  }
 },
 "nbformat": 4,
 "nbformat_minor": 4
}
