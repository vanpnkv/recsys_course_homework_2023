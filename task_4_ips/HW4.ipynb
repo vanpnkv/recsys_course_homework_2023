{
 "cells": [
  {
   "cell_type": "code",
   "execution_count": 14,
   "id": "5c3efc4d",
   "metadata": {},
   "outputs": [],
   "source": [
    "import pandas as pd\n",
    "import numpy as np\n",
    "import matplotlib.pyplot as plt\n",
    "\n",
    "from scipy.sparse import hstack\n",
    "from scipy.special import logit\n",
    "from scipy.stats import norm\n",
    "from sklearn.preprocessing import OneHotEncoder\n",
    "from sklearn.metrics import log_loss, roc_auc_score\n",
    "from sklearn.linear_model import LogisticRegression\n",
    "\n",
    "import warnings\n",
    "warnings.filterwarnings(\"ignore\")"
   ]
  },
  {
   "cell_type": "code",
   "execution_count": 2,
   "id": "5e2e33fc",
   "metadata": {},
   "outputs": [
    {
     "data": {
      "text/html": [
       "<div>\n",
       "<style scoped>\n",
       "    .dataframe tbody tr th:only-of-type {\n",
       "        vertical-align: middle;\n",
       "    }\n",
       "\n",
       "    .dataframe tbody tr th {\n",
       "        vertical-align: top;\n",
       "    }\n",
       "\n",
       "    .dataframe thead th {\n",
       "        text-align: right;\n",
       "    }\n",
       "</style>\n",
       "<table border=\"1\" class=\"dataframe\">\n",
       "  <thead>\n",
       "    <tr style=\"text-align: right;\">\n",
       "      <th></th>\n",
       "      <th>date_time</th>\n",
       "      <th>zone_id</th>\n",
       "      <th>banner_id</th>\n",
       "      <th>oaid_hash</th>\n",
       "      <th>campaign_clicks</th>\n",
       "      <th>os_id</th>\n",
       "      <th>country_id</th>\n",
       "      <th>banner_id0</th>\n",
       "      <th>rate0</th>\n",
       "      <th>g0</th>\n",
       "      <th>coeff_sum0</th>\n",
       "      <th>banner_id1</th>\n",
       "      <th>rate1</th>\n",
       "      <th>g1</th>\n",
       "      <th>coeff_sum1</th>\n",
       "      <th>impressions</th>\n",
       "      <th>clicks</th>\n",
       "    </tr>\n",
       "  </thead>\n",
       "  <tbody>\n",
       "    <tr>\n",
       "      <th>0</th>\n",
       "      <td>2021-09-27 00:01:30.000000</td>\n",
       "      <td>0</td>\n",
       "      <td>0</td>\n",
       "      <td>5664530014561852622</td>\n",
       "      <td>0</td>\n",
       "      <td>0</td>\n",
       "      <td>0</td>\n",
       "      <td>1240</td>\n",
       "      <td>0.067</td>\n",
       "      <td>0.035016</td>\n",
       "      <td>-7.268846</td>\n",
       "      <td>0</td>\n",
       "      <td>0.010</td>\n",
       "      <td>0.049516</td>\n",
       "      <td>-5.369901</td>\n",
       "      <td>1</td>\n",
       "      <td>1</td>\n",
       "    </tr>\n",
       "    <tr>\n",
       "      <th>1</th>\n",
       "      <td>2021-09-26 22:54:49.000000</td>\n",
       "      <td>1</td>\n",
       "      <td>1</td>\n",
       "      <td>5186611064559013950</td>\n",
       "      <td>0</td>\n",
       "      <td>0</td>\n",
       "      <td>1</td>\n",
       "      <td>1</td>\n",
       "      <td>0.002</td>\n",
       "      <td>0.054298</td>\n",
       "      <td>-2.657477</td>\n",
       "      <td>269</td>\n",
       "      <td>0.004</td>\n",
       "      <td>0.031942</td>\n",
       "      <td>-4.449220</td>\n",
       "      <td>1</td>\n",
       "      <td>1</td>\n",
       "    </tr>\n",
       "    <tr>\n",
       "      <th>2</th>\n",
       "      <td>2021-09-26 23:57:20.000000</td>\n",
       "      <td>2</td>\n",
       "      <td>2</td>\n",
       "      <td>2215519569292448030</td>\n",
       "      <td>3</td>\n",
       "      <td>0</td>\n",
       "      <td>0</td>\n",
       "      <td>2</td>\n",
       "      <td>0.014</td>\n",
       "      <td>0.014096</td>\n",
       "      <td>-3.824875</td>\n",
       "      <td>21</td>\n",
       "      <td>0.014</td>\n",
       "      <td>0.014906</td>\n",
       "      <td>-3.939309</td>\n",
       "      <td>1</td>\n",
       "      <td>1</td>\n",
       "    </tr>\n",
       "    <tr>\n",
       "      <th>3</th>\n",
       "      <td>2021-09-27 00:04:30.000000</td>\n",
       "      <td>3</td>\n",
       "      <td>3</td>\n",
       "      <td>6262169206735077204</td>\n",
       "      <td>0</td>\n",
       "      <td>1</td>\n",
       "      <td>1</td>\n",
       "      <td>3</td>\n",
       "      <td>0.012</td>\n",
       "      <td>0.015232</td>\n",
       "      <td>-3.461357</td>\n",
       "      <td>99</td>\n",
       "      <td>0.006</td>\n",
       "      <td>0.050671</td>\n",
       "      <td>-3.418403</td>\n",
       "      <td>1</td>\n",
       "      <td>1</td>\n",
       "    </tr>\n",
       "    <tr>\n",
       "      <th>4</th>\n",
       "      <td>2021-09-27 00:06:21.000000</td>\n",
       "      <td>4</td>\n",
       "      <td>4</td>\n",
       "      <td>4778985830203613115</td>\n",
       "      <td>0</td>\n",
       "      <td>1</td>\n",
       "      <td>0</td>\n",
       "      <td>4</td>\n",
       "      <td>0.019</td>\n",
       "      <td>0.051265</td>\n",
       "      <td>-4.009026</td>\n",
       "      <td>11464230</td>\n",
       "      <td>6.790</td>\n",
       "      <td>0.032005</td>\n",
       "      <td>-2.828797</td>\n",
       "      <td>1</td>\n",
       "      <td>1</td>\n",
       "    </tr>\n",
       "  </tbody>\n",
       "</table>\n",
       "</div>"
      ],
      "text/plain": [
       "                    date_time  zone_id  banner_id            oaid_hash  \\\n",
       "0  2021-09-27 00:01:30.000000        0          0  5664530014561852622   \n",
       "1  2021-09-26 22:54:49.000000        1          1  5186611064559013950   \n",
       "2  2021-09-26 23:57:20.000000        2          2  2215519569292448030   \n",
       "3  2021-09-27 00:04:30.000000        3          3  6262169206735077204   \n",
       "4  2021-09-27 00:06:21.000000        4          4  4778985830203613115   \n",
       "\n",
       "   campaign_clicks  os_id  country_id  banner_id0  rate0        g0  \\\n",
       "0                0      0           0        1240  0.067  0.035016   \n",
       "1                0      0           1           1  0.002  0.054298   \n",
       "2                3      0           0           2  0.014  0.014096   \n",
       "3                0      1           1           3  0.012  0.015232   \n",
       "4                0      1           0           4  0.019  0.051265   \n",
       "\n",
       "   coeff_sum0  banner_id1  rate1        g1  coeff_sum1  impressions  clicks  \n",
       "0   -7.268846           0  0.010  0.049516   -5.369901            1       1  \n",
       "1   -2.657477         269  0.004  0.031942   -4.449220            1       1  \n",
       "2   -3.824875          21  0.014  0.014906   -3.939309            1       1  \n",
       "3   -3.461357          99  0.006  0.050671   -3.418403            1       1  \n",
       "4   -4.009026    11464230  6.790  0.032005   -2.828797            1       1  "
      ]
     },
     "execution_count": 2,
     "metadata": {},
     "output_type": "execute_result"
    }
   ],
   "source": [
    "data = pd.read_csv('data.csv')\n",
    "data.head()"
   ]
  },
  {
   "cell_type": "code",
   "execution_count": 3,
   "id": "5c9064a0",
   "metadata": {},
   "outputs": [
    {
     "data": {
      "text/plain": [
       "date_time              0\n",
       "zone_id                0\n",
       "banner_id              0\n",
       "oaid_hash              0\n",
       "campaign_clicks        0\n",
       "os_id                  0\n",
       "country_id             0\n",
       "banner_id0             0\n",
       "rate0                 69\n",
       "g0                    69\n",
       "coeff_sum0            69\n",
       "banner_id1             0\n",
       "rate1              19744\n",
       "g1                 19744\n",
       "coeff_sum1         19744\n",
       "impressions            0\n",
       "clicks                 0\n",
       "dtype: int64"
      ]
     },
     "execution_count": 3,
     "metadata": {},
     "output_type": "execute_result"
    }
   ],
   "source": [
    "data.isnull().sum()"
   ]
  },
  {
   "cell_type": "markdown",
   "id": "012a25b8",
   "metadata": {},
   "source": [
    "В новых колонках есть Nan."
   ]
  },
  {
   "cell_type": "code",
   "execution_count": 4,
   "id": "9841b064",
   "metadata": {},
   "outputs": [],
   "source": [
    "pd.set_option('display.float_format', lambda x: '%.6f' % x)"
   ]
  },
  {
   "cell_type": "markdown",
   "id": "464cda97",
   "metadata": {},
   "source": [
    "Посмотрим подробнее на новые колонки."
   ]
  },
  {
   "cell_type": "code",
   "execution_count": 5,
   "id": "b38af281",
   "metadata": {},
   "outputs": [
    {
     "data": {
      "text/html": [
       "<div>\n",
       "<style scoped>\n",
       "    .dataframe tbody tr th:only-of-type {\n",
       "        vertical-align: middle;\n",
       "    }\n",
       "\n",
       "    .dataframe tbody tr th {\n",
       "        vertical-align: top;\n",
       "    }\n",
       "\n",
       "    .dataframe thead th {\n",
       "        text-align: right;\n",
       "    }\n",
       "</style>\n",
       "<table border=\"1\" class=\"dataframe\">\n",
       "  <thead>\n",
       "    <tr style=\"text-align: right;\">\n",
       "      <th></th>\n",
       "      <th>coeff_sum0</th>\n",
       "      <th>coeff_sum1</th>\n",
       "      <th>g0</th>\n",
       "      <th>g1</th>\n",
       "      <th>rate0</th>\n",
       "      <th>rate1</th>\n",
       "    </tr>\n",
       "  </thead>\n",
       "  <tbody>\n",
       "    <tr>\n",
       "      <th>count</th>\n",
       "      <td>15821403.000000</td>\n",
       "      <td>15801728.000000</td>\n",
       "      <td>15821403.000000</td>\n",
       "      <td>15801728.000000</td>\n",
       "      <td>15821403.000000</td>\n",
       "      <td>15801728.000000</td>\n",
       "    </tr>\n",
       "    <tr>\n",
       "      <th>mean</th>\n",
       "      <td>-3.979590</td>\n",
       "      <td>-3.968883</td>\n",
       "      <td>0.744076</td>\n",
       "      <td>0.548572</td>\n",
       "      <td>0.196925</td>\n",
       "      <td>1.415899</td>\n",
       "    </tr>\n",
       "    <tr>\n",
       "      <th>std</th>\n",
       "      <td>1.143982</td>\n",
       "      <td>1.186403</td>\n",
       "      <td>16.703576</td>\n",
       "      <td>14.191364</td>\n",
       "      <td>2.733440</td>\n",
       "      <td>8.689053</td>\n",
       "    </tr>\n",
       "    <tr>\n",
       "      <th>min</th>\n",
       "      <td>-8.588970</td>\n",
       "      <td>-9.562188</td>\n",
       "      <td>-0.017637</td>\n",
       "      <td>-0.069839</td>\n",
       "      <td>0.000000</td>\n",
       "      <td>0.000000</td>\n",
       "    </tr>\n",
       "    <tr>\n",
       "      <th>25%</th>\n",
       "      <td>-4.515871</td>\n",
       "      <td>-4.529519</td>\n",
       "      <td>0.016439</td>\n",
       "      <td>0.016152</td>\n",
       "      <td>0.005000</td>\n",
       "      <td>0.004000</td>\n",
       "    </tr>\n",
       "    <tr>\n",
       "      <th>50%</th>\n",
       "      <td>-3.921164</td>\n",
       "      <td>-3.928674</td>\n",
       "      <td>0.035393</td>\n",
       "      <td>0.035567</td>\n",
       "      <td>0.010000</td>\n",
       "      <td>0.014000</td>\n",
       "    </tr>\n",
       "    <tr>\n",
       "      <th>75%</th>\n",
       "      <td>-3.421280</td>\n",
       "      <td>-3.390867</td>\n",
       "      <td>0.080229</td>\n",
       "      <td>0.075468</td>\n",
       "      <td>0.030000</td>\n",
       "      <td>0.050000</td>\n",
       "    </tr>\n",
       "    <tr>\n",
       "      <th>max</th>\n",
       "      <td>0.314998</td>\n",
       "      <td>0.475618</td>\n",
       "      <td>691.088787</td>\n",
       "      <td>691.088453</td>\n",
       "      <td>100.000000</td>\n",
       "      <td>100.000000</td>\n",
       "    </tr>\n",
       "  </tbody>\n",
       "</table>\n",
       "</div>"
      ],
      "text/plain": [
       "           coeff_sum0      coeff_sum1              g0              g1  \\\n",
       "count 15821403.000000 15801728.000000 15821403.000000 15801728.000000   \n",
       "mean        -3.979590       -3.968883        0.744076        0.548572   \n",
       "std          1.143982        1.186403       16.703576       14.191364   \n",
       "min         -8.588970       -9.562188       -0.017637       -0.069839   \n",
       "25%         -4.515871       -4.529519        0.016439        0.016152   \n",
       "50%         -3.921164       -3.928674        0.035393        0.035567   \n",
       "75%         -3.421280       -3.390867        0.080229        0.075468   \n",
       "max          0.314998        0.475618      691.088787      691.088453   \n",
       "\n",
       "                rate0           rate1  \n",
       "count 15821403.000000 15801728.000000  \n",
       "mean         0.196925        1.415899  \n",
       "std          2.733440        8.689053  \n",
       "min          0.000000        0.000000  \n",
       "25%          0.005000        0.004000  \n",
       "50%          0.010000        0.014000  \n",
       "75%          0.030000        0.050000  \n",
       "max        100.000000      100.000000  "
      ]
     },
     "execution_count": 5,
     "metadata": {},
     "output_type": "execute_result"
    }
   ],
   "source": [
    "data[['coeff_sum0', 'coeff_sum1', 'g0', 'g1', 'rate0', 'rate1']].describe() "
   ]
  },
  {
   "cell_type": "markdown",
   "id": "183dff82",
   "metadata": {},
   "source": [
    "В основном будем обрабатывать датасет также, как и в первом дз.\\\n",
    "В новых колонках g0, g1 есть отрицательные числа. Стандартное отклонение не может принимать такие значения, поэтому удалим из датасета подобные наблюдения.\\\n",
    "Согласно описанию, для Домашней работы 4 колонка campaign_clicks не нужна, ее тоже уберем.\\\n",
    "Также в новых колонках есть Nan, их надо будет удалить."
   ]
  },
  {
   "cell_type": "code",
   "execution_count": 6,
   "id": "3ede939e",
   "metadata": {},
   "outputs": [],
   "source": [
    "def train_test_split(data: pd.DataFrame):\n",
    "    \"\"\"\n",
    "    Разбивает данные на тренировочную и тестовую выборки.\n",
    "    В тестовую часть попадает последний день.\n",
    "    \"\"\"\n",
    "    last_day = data['date_time'].dt.date.max()\n",
    "    Test = data.loc[data['date_time'].dt.date == last_day]\n",
    "    Train = data.loc[data['date_time'].dt.date < last_day]\n",
    "\n",
    "    X_vars = [col for col in data.columns if col not in ['date_time']]\n",
    "\n",
    "    X_train = Train.loc[:, X_vars]\n",
    "    Y_train = Train.loc[:, 'clicks']\n",
    "    X_train = X_train.drop([\"g0\", \"g1\", \"coeff_sum0\", \"coeff_sum1\", 'clicks'], axis=1)\n",
    "\n",
    "    del Train\n",
    "\n",
    "    X_test = Test.loc[:, X_vars]\n",
    "\n",
    "    X_test = X_test[X_test[\"banner_id\"] == X_test[\"banner_id0\"]]\n",
    "    Y_test = X_test.loc[:, 'clicks']\n",
    "    \n",
    "    # для cips\n",
    "    X_test_ips = X_test[[\"g0\", \"g1\", \"coeff_sum0\", \"coeff_sum1\"]].copy()\n",
    "    \n",
    "    X_test = X_test.drop([\"g0\", \"g1\", \"coeff_sum0\", \"coeff_sum1\", 'clicks'], axis=1)\n",
    "    X_test_banner1 = X_test.copy()\n",
    "    X_test_banner1['banner_id'] = X_test_banner1['banner_id1']\n",
    "\n",
    "    del Test\n",
    "    \n",
    "    return X_train, Y_train, X_test, X_test_banner1, Y_test, X_test_ips"
   ]
  },
  {
   "cell_type": "code",
   "execution_count": 7,
   "id": "034735d2",
   "metadata": {},
   "outputs": [],
   "source": [
    "def feature_engineering(data: pd.DataFrame) -> pd.DataFrame:\n",
    "    \"\"\"\n",
    "    Создает фичи и подготовливает их для подачи в модель.\n",
    "    \"\"\"\n",
    "    data = data.drop([\"impressions\", \"campaign_clicks\", \"rate0\", \"rate1\"], axis=1)\n",
    "    data = data.dropna()\n",
    "    # Убираем отрицательные стандартные отклонения\n",
    "    data = data[data['g0'] >= 0]\n",
    "    data = data[data['g1'] >= 0]\n",
    "    \n",
    "    # Выделим день недели в отдельную переменную\n",
    "    data['date_time'] = pd.to_datetime(data['date_time'], format=\"%Y-%m-%d %H:%M:%S.%f\")\n",
    "    data['weekday'] = data['date_time'].dt.weekday\n",
    " \n",
    "    # Выделим train и test\n",
    "    X_train, Y_train, X_test, X_test_banner1, Y_test, X_test_ips = train_test_split(data) \n",
    "\n",
    "    # Кодирование\n",
    "    encoder = OneHotEncoder(handle_unknown='ignore', sparse_output=True, drop='first')\n",
    "    X_train = encoder.fit_transform(X_train)\n",
    "    X_test = encoder.transform(X_test)\n",
    "    X_test_banner1 = encoder.transform(X_test_banner1)    \n",
    "    \n",
    "    return X_train, Y_train, X_test, X_test_banner1, Y_test, X_test_ips"
   ]
  },
  {
   "cell_type": "code",
   "execution_count": 8,
   "id": "63987ffe",
   "metadata": {},
   "outputs": [],
   "source": [
    "X_train, Y_train, X_test, X_test_banner1, Y_test, X_test_ips = feature_engineering(data)"
   ]
  },
  {
   "cell_type": "code",
   "execution_count": 9,
   "id": "d813169b",
   "metadata": {},
   "outputs": [],
   "source": [
    "del data"
   ]
  },
  {
   "cell_type": "markdown",
   "id": "6bfe5f5c",
   "metadata": {},
   "source": [
    "Обучаем модель как в дз1 - логистическую регрессию с liblinear optimizer, l2 регуляризацией и C = 0.1."
   ]
  },
  {
   "cell_type": "code",
   "execution_count": 10,
   "id": "dcfccd73",
   "metadata": {},
   "outputs": [
    {
     "data": {
      "text/html": [
       "<style>#sk-container-id-1 {color: black;}#sk-container-id-1 pre{padding: 0;}#sk-container-id-1 div.sk-toggleable {background-color: white;}#sk-container-id-1 label.sk-toggleable__label {cursor: pointer;display: block;width: 100%;margin-bottom: 0;padding: 0.3em;box-sizing: border-box;text-align: center;}#sk-container-id-1 label.sk-toggleable__label-arrow:before {content: \"▸\";float: left;margin-right: 0.25em;color: #696969;}#sk-container-id-1 label.sk-toggleable__label-arrow:hover:before {color: black;}#sk-container-id-1 div.sk-estimator:hover label.sk-toggleable__label-arrow:before {color: black;}#sk-container-id-1 div.sk-toggleable__content {max-height: 0;max-width: 0;overflow: hidden;text-align: left;background-color: #f0f8ff;}#sk-container-id-1 div.sk-toggleable__content pre {margin: 0.2em;color: black;border-radius: 0.25em;background-color: #f0f8ff;}#sk-container-id-1 input.sk-toggleable__control:checked~div.sk-toggleable__content {max-height: 200px;max-width: 100%;overflow: auto;}#sk-container-id-1 input.sk-toggleable__control:checked~label.sk-toggleable__label-arrow:before {content: \"▾\";}#sk-container-id-1 div.sk-estimator input.sk-toggleable__control:checked~label.sk-toggleable__label {background-color: #d4ebff;}#sk-container-id-1 div.sk-label input.sk-toggleable__control:checked~label.sk-toggleable__label {background-color: #d4ebff;}#sk-container-id-1 input.sk-hidden--visually {border: 0;clip: rect(1px 1px 1px 1px);clip: rect(1px, 1px, 1px, 1px);height: 1px;margin: -1px;overflow: hidden;padding: 0;position: absolute;width: 1px;}#sk-container-id-1 div.sk-estimator {font-family: monospace;background-color: #f0f8ff;border: 1px dotted black;border-radius: 0.25em;box-sizing: border-box;margin-bottom: 0.5em;}#sk-container-id-1 div.sk-estimator:hover {background-color: #d4ebff;}#sk-container-id-1 div.sk-parallel-item::after {content: \"\";width: 100%;border-bottom: 1px solid gray;flex-grow: 1;}#sk-container-id-1 div.sk-label:hover label.sk-toggleable__label {background-color: #d4ebff;}#sk-container-id-1 div.sk-serial::before {content: \"\";position: absolute;border-left: 1px solid gray;box-sizing: border-box;top: 0;bottom: 0;left: 50%;z-index: 0;}#sk-container-id-1 div.sk-serial {display: flex;flex-direction: column;align-items: center;background-color: white;padding-right: 0.2em;padding-left: 0.2em;position: relative;}#sk-container-id-1 div.sk-item {position: relative;z-index: 1;}#sk-container-id-1 div.sk-parallel {display: flex;align-items: stretch;justify-content: center;background-color: white;position: relative;}#sk-container-id-1 div.sk-item::before, #sk-container-id-1 div.sk-parallel-item::before {content: \"\";position: absolute;border-left: 1px solid gray;box-sizing: border-box;top: 0;bottom: 0;left: 50%;z-index: -1;}#sk-container-id-1 div.sk-parallel-item {display: flex;flex-direction: column;z-index: 1;position: relative;background-color: white;}#sk-container-id-1 div.sk-parallel-item:first-child::after {align-self: flex-end;width: 50%;}#sk-container-id-1 div.sk-parallel-item:last-child::after {align-self: flex-start;width: 50%;}#sk-container-id-1 div.sk-parallel-item:only-child::after {width: 0;}#sk-container-id-1 div.sk-dashed-wrapped {border: 1px dashed gray;margin: 0 0.4em 0.5em 0.4em;box-sizing: border-box;padding-bottom: 0.4em;background-color: white;}#sk-container-id-1 div.sk-label label {font-family: monospace;font-weight: bold;display: inline-block;line-height: 1.2em;}#sk-container-id-1 div.sk-label-container {text-align: center;}#sk-container-id-1 div.sk-container {/* jupyter's `normalize.less` sets `[hidden] { display: none; }` but bootstrap.min.css set `[hidden] { display: none !important; }` so we also need the `!important` here to be able to override the default hidden behavior on the sphinx rendered scikit-learn.org. See: https://github.com/scikit-learn/scikit-learn/issues/21755 */display: inline-block !important;position: relative;}#sk-container-id-1 div.sk-text-repr-fallback {display: none;}</style><div id=\"sk-container-id-1\" class=\"sk-top-container\"><div class=\"sk-text-repr-fallback\"><pre>LogisticRegression(C=0.1, random_state=42, solver=&#x27;liblinear&#x27;)</pre><b>In a Jupyter environment, please rerun this cell to show the HTML representation or trust the notebook. <br />On GitHub, the HTML representation is unable to render, please try loading this page with nbviewer.org.</b></div><div class=\"sk-container\" hidden><div class=\"sk-item\"><div class=\"sk-estimator sk-toggleable\"><input class=\"sk-toggleable__control sk-hidden--visually\" id=\"sk-estimator-id-1\" type=\"checkbox\" checked><label for=\"sk-estimator-id-1\" class=\"sk-toggleable__label sk-toggleable__label-arrow\">LogisticRegression</label><div class=\"sk-toggleable__content\"><pre>LogisticRegression(C=0.1, random_state=42, solver=&#x27;liblinear&#x27;)</pre></div></div></div></div></div>"
      ],
      "text/plain": [
       "LogisticRegression(C=0.1, random_state=42, solver='liblinear')"
      ]
     },
     "execution_count": 10,
     "metadata": {},
     "output_type": "execute_result"
    }
   ],
   "source": [
    "model = LogisticRegression(solver=\"liblinear\", penalty=\"l2\", random_state=42, C=0.1)\n",
    "model.fit(X_train, Y_train)"
   ]
  },
  {
   "cell_type": "code",
   "execution_count": 11,
   "id": "489ec366",
   "metadata": {},
   "outputs": [
    {
     "name": "stdout",
     "output_type": "stream",
     "text": [
      "Training results\n",
      "ROC AUC: 0.8, Log-loss: 0.133\n"
     ]
    }
   ],
   "source": [
    "test_roc = round(roc_auc_score(Y_test, model.predict_proba(X_test)[:, 1]), 3)\n",
    "test_loss = round(log_loss(Y_test, model.predict_proba(X_test)), 3)\n",
    "print('Training results')\n",
    "print(f'ROC AUC: {test_roc}, Log-loss: {test_loss}')"
   ]
  },
  {
   "cell_type": "markdown",
   "id": "272eb158",
   "metadata": {},
   "source": [
    "Расчитаем вероятность того, что нормальная величина X больше нормальной величины Y:\\\n",
    "$P(X > Y) = P(X - Y > 0)=1-P(X-Y<=0)=1-F_{X-Y}(0)$\\\n",
    "Так как X и Y нормально распределены, то у величины X-Y тоже будет нормальное распределение. Тогда среднее этой величины посчитается как разность средних X и Y, а квадрат стандартного отклонения как сумма квадратов стандартных отклонений X и Y."
   ]
  },
  {
   "cell_type": "code",
   "execution_count": 12,
   "id": "5948e640",
   "metadata": {},
   "outputs": [],
   "source": [
    "def calculate_prob(coeff_sum0, g0, coeff_sum1, g1):\n",
    "    pi =  1 - norm.cdf(0, loc=coeff_sum0 - coeff_sum1, scale=np.sqrt(g0**2 + g1**2) + 1e-6) \n",
    "    return pi"
   ]
  },
  {
   "cell_type": "code",
   "execution_count": 13,
   "id": "c4b04af2",
   "metadata": {},
   "outputs": [
    {
     "name": "stdout",
     "output_type": "stream",
     "text": [
      "CIPS: 0.06314049347152971\n"
     ]
    }
   ],
   "source": [
    "pi_0 = calculate_prob(X_test_ips[\"coeff_sum0\"], X_test_ips[\"g0\"],\n",
    "                      X_test_ips[\"coeff_sum1\"], X_test_ips[\"g1\"])\n",
    "\n",
    "# новые коэффициенты\n",
    "coeff_sum0_pred = logit(model.predict_proba(X_test)[:, 1])\n",
    "coeff_sum1_pred = logit(model.predict_proba(X_test_banner1)[:, 1])\n",
    "\n",
    "pi_1 = calculate_prob(coeff_sum0_pred, X_test_ips[\"g0\"], \n",
    "                      coeff_sum1_pred, X_test_ips[\"g1\"])\n",
    "\n",
    "cips = np.mean(Y_test * np.minimum(pi_1 / (pi_0 + 1e-9), 10))\n",
    "print(\"CIPS:\", cips)"
   ]
  }
 ],
 "metadata": {
  "kernelspec": {
   "display_name": "Python 3 (ipykernel)",
   "language": "python",
   "name": "python3"
  },
  "language_info": {
   "codemirror_mode": {
    "name": "ipython",
    "version": 3
   },
   "file_extension": ".py",
   "mimetype": "text/x-python",
   "name": "python",
   "nbconvert_exporter": "python",
   "pygments_lexer": "ipython3",
   "version": "3.9.7"
  }
 },
 "nbformat": 4,
 "nbformat_minor": 5
}
