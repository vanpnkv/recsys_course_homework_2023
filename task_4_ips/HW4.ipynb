{
  "cells": [
    {
      "cell_type": "code",
      "execution_count": 2,
      "metadata": {
        "collapsed": true,
        "id": "MLgaN3eSEoEY"
      },
      "outputs": [],
      "source": [
        "import pandas as pd\n",
        "import matplotlib.pyplot as plt\n",
        "from sklearn.model_selection import train_test_split"
      ]
    },
    {
      "cell_type": "code",
      "execution_count": 3,
      "outputs": [
        {
          "output_type": "stream",
          "name": "stdout",
          "text": [
            "Drive already mounted at /content/drive; to attempt to forcibly remount, call drive.mount(\"/content/drive\", force_remount=True).\n"
          ]
        }
      ],
      "source": [
        "from google.colab import drive\n",
        "drive.mount('/content/drive')"
      ],
      "metadata": {
        "pycharm": {
          "name": "#%%\n"
        },
        "colab": {
          "base_uri": "https://localhost:8080/"
        },
        "id": "6aIoKgMdEoEb",
        "outputId": "b1b81995-d78a-42c1-9eed-9a4b37ae7217"
      }
    },
    {
      "cell_type": "markdown",
      "source": [
        "Так как у меня были проблемы с работой с таким большим датасетом в Колабе, в данной работе я беру выборку из 100К наблюдений."
      ],
      "metadata": {
        "id": "DH_2XomOKfAF"
      }
    },
    {
      "cell_type": "code",
      "execution_count": 4,
      "outputs": [
        {
          "output_type": "execute_result",
          "data": {
            "text/plain": [
              "                           date_time  zone_id  banner_id            oaid_hash  \\\n",
              "15266288  2021-09-29 17:44:01.000000       50       1067  4892413428158631937   \n",
              "5747841   2021-09-26 22:05:20.000000       23          2  3409549229272197463   \n",
              "3100816   2021-09-26 09:11:45.000000      112        671  4779007219932892419   \n",
              "13939857  2021-10-01 08:53:01.000000       45        609  1871169216674498606   \n",
              "6808919   2021-09-30 11:36:12.000000       45        646  4523409292023800345   \n",
              "\n",
              "          os_id  country_id  banner_id0  rate0        g0  coeff_sum0  \\\n",
              "15266288      0           5        1067  0.001  0.647200   -3.592423   \n",
              "5747841       0           0           2  0.014  0.014274   -3.714874   \n",
              "3100816       2           0         671  0.015  0.084447   -1.963349   \n",
              "13939857      2           7         609  0.006  0.023675   -4.027725   \n",
              "6808919       4           7         646  0.050  0.210001   -2.249737   \n",
              "\n",
              "          banner_id1   rate1        g1  coeff_sum1  impressions  clicks  \n",
              "15266288         494   0.010  0.051944   -4.281153            1       0  \n",
              "5747841           21   0.014  0.014514   -3.824778            1       0  \n",
              "3100816            4   0.019  0.116303   -2.525730            1       0  \n",
              "13939857    14249356  85.000  0.002435   -3.334903            1       0  \n",
              "6808919          663   0.050  0.281339   -2.528364            1       0  "
            ],
            "text/html": [
              "\n",
              "  <div id=\"df-febf61a7-3bfd-4152-88d3-3e1f2541b456\" class=\"colab-df-container\">\n",
              "    <div>\n",
              "<style scoped>\n",
              "    .dataframe tbody tr th:only-of-type {\n",
              "        vertical-align: middle;\n",
              "    }\n",
              "\n",
              "    .dataframe tbody tr th {\n",
              "        vertical-align: top;\n",
              "    }\n",
              "\n",
              "    .dataframe thead th {\n",
              "        text-align: right;\n",
              "    }\n",
              "</style>\n",
              "<table border=\"1\" class=\"dataframe\">\n",
              "  <thead>\n",
              "    <tr style=\"text-align: right;\">\n",
              "      <th></th>\n",
              "      <th>date_time</th>\n",
              "      <th>zone_id</th>\n",
              "      <th>banner_id</th>\n",
              "      <th>oaid_hash</th>\n",
              "      <th>os_id</th>\n",
              "      <th>country_id</th>\n",
              "      <th>banner_id0</th>\n",
              "      <th>rate0</th>\n",
              "      <th>g0</th>\n",
              "      <th>coeff_sum0</th>\n",
              "      <th>banner_id1</th>\n",
              "      <th>rate1</th>\n",
              "      <th>g1</th>\n",
              "      <th>coeff_sum1</th>\n",
              "      <th>impressions</th>\n",
              "      <th>clicks</th>\n",
              "    </tr>\n",
              "  </thead>\n",
              "  <tbody>\n",
              "    <tr>\n",
              "      <th>15266288</th>\n",
              "      <td>2021-09-29 17:44:01.000000</td>\n",
              "      <td>50</td>\n",
              "      <td>1067</td>\n",
              "      <td>4892413428158631937</td>\n",
              "      <td>0</td>\n",
              "      <td>5</td>\n",
              "      <td>1067</td>\n",
              "      <td>0.001</td>\n",
              "      <td>0.647200</td>\n",
              "      <td>-3.592423</td>\n",
              "      <td>494</td>\n",
              "      <td>0.010</td>\n",
              "      <td>0.051944</td>\n",
              "      <td>-4.281153</td>\n",
              "      <td>1</td>\n",
              "      <td>0</td>\n",
              "    </tr>\n",
              "    <tr>\n",
              "      <th>5747841</th>\n",
              "      <td>2021-09-26 22:05:20.000000</td>\n",
              "      <td>23</td>\n",
              "      <td>2</td>\n",
              "      <td>3409549229272197463</td>\n",
              "      <td>0</td>\n",
              "      <td>0</td>\n",
              "      <td>2</td>\n",
              "      <td>0.014</td>\n",
              "      <td>0.014274</td>\n",
              "      <td>-3.714874</td>\n",
              "      <td>21</td>\n",
              "      <td>0.014</td>\n",
              "      <td>0.014514</td>\n",
              "      <td>-3.824778</td>\n",
              "      <td>1</td>\n",
              "      <td>0</td>\n",
              "    </tr>\n",
              "    <tr>\n",
              "      <th>3100816</th>\n",
              "      <td>2021-09-26 09:11:45.000000</td>\n",
              "      <td>112</td>\n",
              "      <td>671</td>\n",
              "      <td>4779007219932892419</td>\n",
              "      <td>2</td>\n",
              "      <td>0</td>\n",
              "      <td>671</td>\n",
              "      <td>0.015</td>\n",
              "      <td>0.084447</td>\n",
              "      <td>-1.963349</td>\n",
              "      <td>4</td>\n",
              "      <td>0.019</td>\n",
              "      <td>0.116303</td>\n",
              "      <td>-2.525730</td>\n",
              "      <td>1</td>\n",
              "      <td>0</td>\n",
              "    </tr>\n",
              "    <tr>\n",
              "      <th>13939857</th>\n",
              "      <td>2021-10-01 08:53:01.000000</td>\n",
              "      <td>45</td>\n",
              "      <td>609</td>\n",
              "      <td>1871169216674498606</td>\n",
              "      <td>2</td>\n",
              "      <td>7</td>\n",
              "      <td>609</td>\n",
              "      <td>0.006</td>\n",
              "      <td>0.023675</td>\n",
              "      <td>-4.027725</td>\n",
              "      <td>14249356</td>\n",
              "      <td>85.000</td>\n",
              "      <td>0.002435</td>\n",
              "      <td>-3.334903</td>\n",
              "      <td>1</td>\n",
              "      <td>0</td>\n",
              "    </tr>\n",
              "    <tr>\n",
              "      <th>6808919</th>\n",
              "      <td>2021-09-30 11:36:12.000000</td>\n",
              "      <td>45</td>\n",
              "      <td>646</td>\n",
              "      <td>4523409292023800345</td>\n",
              "      <td>4</td>\n",
              "      <td>7</td>\n",
              "      <td>646</td>\n",
              "      <td>0.050</td>\n",
              "      <td>0.210001</td>\n",
              "      <td>-2.249737</td>\n",
              "      <td>663</td>\n",
              "      <td>0.050</td>\n",
              "      <td>0.281339</td>\n",
              "      <td>-2.528364</td>\n",
              "      <td>1</td>\n",
              "      <td>0</td>\n",
              "    </tr>\n",
              "  </tbody>\n",
              "</table>\n",
              "</div>\n",
              "    <div class=\"colab-df-buttons\">\n",
              "\n",
              "  <div class=\"colab-df-container\">\n",
              "    <button class=\"colab-df-convert\" onclick=\"convertToInteractive('df-febf61a7-3bfd-4152-88d3-3e1f2541b456')\"\n",
              "            title=\"Convert this dataframe to an interactive table.\"\n",
              "            style=\"display:none;\">\n",
              "\n",
              "  <svg xmlns=\"http://www.w3.org/2000/svg\" height=\"24px\" viewBox=\"0 -960 960 960\">\n",
              "    <path d=\"M120-120v-720h720v720H120Zm60-500h600v-160H180v160Zm220 220h160v-160H400v160Zm0 220h160v-160H400v160ZM180-400h160v-160H180v160Zm440 0h160v-160H620v160ZM180-180h160v-160H180v160Zm440 0h160v-160H620v160Z\"/>\n",
              "  </svg>\n",
              "    </button>\n",
              "\n",
              "  <style>\n",
              "    .colab-df-container {\n",
              "      display:flex;\n",
              "      gap: 12px;\n",
              "    }\n",
              "\n",
              "    .colab-df-convert {\n",
              "      background-color: #E8F0FE;\n",
              "      border: none;\n",
              "      border-radius: 50%;\n",
              "      cursor: pointer;\n",
              "      display: none;\n",
              "      fill: #1967D2;\n",
              "      height: 32px;\n",
              "      padding: 0 0 0 0;\n",
              "      width: 32px;\n",
              "    }\n",
              "\n",
              "    .colab-df-convert:hover {\n",
              "      background-color: #E2EBFA;\n",
              "      box-shadow: 0px 1px 2px rgba(60, 64, 67, 0.3), 0px 1px 3px 1px rgba(60, 64, 67, 0.15);\n",
              "      fill: #174EA6;\n",
              "    }\n",
              "\n",
              "    .colab-df-buttons div {\n",
              "      margin-bottom: 4px;\n",
              "    }\n",
              "\n",
              "    [theme=dark] .colab-df-convert {\n",
              "      background-color: #3B4455;\n",
              "      fill: #D2E3FC;\n",
              "    }\n",
              "\n",
              "    [theme=dark] .colab-df-convert:hover {\n",
              "      background-color: #434B5C;\n",
              "      box-shadow: 0px 1px 3px 1px rgba(0, 0, 0, 0.15);\n",
              "      filter: drop-shadow(0px 1px 2px rgba(0, 0, 0, 0.3));\n",
              "      fill: #FFFFFF;\n",
              "    }\n",
              "  </style>\n",
              "\n",
              "    <script>\n",
              "      const buttonEl =\n",
              "        document.querySelector('#df-febf61a7-3bfd-4152-88d3-3e1f2541b456 button.colab-df-convert');\n",
              "      buttonEl.style.display =\n",
              "        google.colab.kernel.accessAllowed ? 'block' : 'none';\n",
              "\n",
              "      async function convertToInteractive(key) {\n",
              "        const element = document.querySelector('#df-febf61a7-3bfd-4152-88d3-3e1f2541b456');\n",
              "        const dataTable =\n",
              "          await google.colab.kernel.invokeFunction('convertToInteractive',\n",
              "                                                    [key], {});\n",
              "        if (!dataTable) return;\n",
              "\n",
              "        const docLinkHtml = 'Like what you see? Visit the ' +\n",
              "          '<a target=\"_blank\" href=https://colab.research.google.com/notebooks/data_table.ipynb>data table notebook</a>'\n",
              "          + ' to learn more about interactive tables.';\n",
              "        element.innerHTML = '';\n",
              "        dataTable['output_type'] = 'display_data';\n",
              "        await google.colab.output.renderOutput(dataTable, element);\n",
              "        const docLink = document.createElement('div');\n",
              "        docLink.innerHTML = docLinkHtml;\n",
              "        element.appendChild(docLink);\n",
              "      }\n",
              "    </script>\n",
              "  </div>\n",
              "\n",
              "\n",
              "<div id=\"df-0f46c3f6-e773-4ee6-95cb-d1b3197f0bea\">\n",
              "  <button class=\"colab-df-quickchart\" onclick=\"quickchart('df-0f46c3f6-e773-4ee6-95cb-d1b3197f0bea')\"\n",
              "            title=\"Suggest charts\"\n",
              "            style=\"display:none;\">\n",
              "\n",
              "<svg xmlns=\"http://www.w3.org/2000/svg\" height=\"24px\"viewBox=\"0 0 24 24\"\n",
              "     width=\"24px\">\n",
              "    <g>\n",
              "        <path d=\"M19 3H5c-1.1 0-2 .9-2 2v14c0 1.1.9 2 2 2h14c1.1 0 2-.9 2-2V5c0-1.1-.9-2-2-2zM9 17H7v-7h2v7zm4 0h-2V7h2v10zm4 0h-2v-4h2v4z\"/>\n",
              "    </g>\n",
              "</svg>\n",
              "  </button>\n",
              "\n",
              "<style>\n",
              "  .colab-df-quickchart {\n",
              "      --bg-color: #E8F0FE;\n",
              "      --fill-color: #1967D2;\n",
              "      --hover-bg-color: #E2EBFA;\n",
              "      --hover-fill-color: #174EA6;\n",
              "      --disabled-fill-color: #AAA;\n",
              "      --disabled-bg-color: #DDD;\n",
              "  }\n",
              "\n",
              "  [theme=dark] .colab-df-quickchart {\n",
              "      --bg-color: #3B4455;\n",
              "      --fill-color: #D2E3FC;\n",
              "      --hover-bg-color: #434B5C;\n",
              "      --hover-fill-color: #FFFFFF;\n",
              "      --disabled-bg-color: #3B4455;\n",
              "      --disabled-fill-color: #666;\n",
              "  }\n",
              "\n",
              "  .colab-df-quickchart {\n",
              "    background-color: var(--bg-color);\n",
              "    border: none;\n",
              "    border-radius: 50%;\n",
              "    cursor: pointer;\n",
              "    display: none;\n",
              "    fill: var(--fill-color);\n",
              "    height: 32px;\n",
              "    padding: 0;\n",
              "    width: 32px;\n",
              "  }\n",
              "\n",
              "  .colab-df-quickchart:hover {\n",
              "    background-color: var(--hover-bg-color);\n",
              "    box-shadow: 0 1px 2px rgba(60, 64, 67, 0.3), 0 1px 3px 1px rgba(60, 64, 67, 0.15);\n",
              "    fill: var(--button-hover-fill-color);\n",
              "  }\n",
              "\n",
              "  .colab-df-quickchart-complete:disabled,\n",
              "  .colab-df-quickchart-complete:disabled:hover {\n",
              "    background-color: var(--disabled-bg-color);\n",
              "    fill: var(--disabled-fill-color);\n",
              "    box-shadow: none;\n",
              "  }\n",
              "\n",
              "  .colab-df-spinner {\n",
              "    border: 2px solid var(--fill-color);\n",
              "    border-color: transparent;\n",
              "    border-bottom-color: var(--fill-color);\n",
              "    animation:\n",
              "      spin 1s steps(1) infinite;\n",
              "  }\n",
              "\n",
              "  @keyframes spin {\n",
              "    0% {\n",
              "      border-color: transparent;\n",
              "      border-bottom-color: var(--fill-color);\n",
              "      border-left-color: var(--fill-color);\n",
              "    }\n",
              "    20% {\n",
              "      border-color: transparent;\n",
              "      border-left-color: var(--fill-color);\n",
              "      border-top-color: var(--fill-color);\n",
              "    }\n",
              "    30% {\n",
              "      border-color: transparent;\n",
              "      border-left-color: var(--fill-color);\n",
              "      border-top-color: var(--fill-color);\n",
              "      border-right-color: var(--fill-color);\n",
              "    }\n",
              "    40% {\n",
              "      border-color: transparent;\n",
              "      border-right-color: var(--fill-color);\n",
              "      border-top-color: var(--fill-color);\n",
              "    }\n",
              "    60% {\n",
              "      border-color: transparent;\n",
              "      border-right-color: var(--fill-color);\n",
              "    }\n",
              "    80% {\n",
              "      border-color: transparent;\n",
              "      border-right-color: var(--fill-color);\n",
              "      border-bottom-color: var(--fill-color);\n",
              "    }\n",
              "    90% {\n",
              "      border-color: transparent;\n",
              "      border-bottom-color: var(--fill-color);\n",
              "    }\n",
              "  }\n",
              "</style>\n",
              "\n",
              "  <script>\n",
              "    async function quickchart(key) {\n",
              "      const quickchartButtonEl =\n",
              "        document.querySelector('#' + key + ' button');\n",
              "      quickchartButtonEl.disabled = true;  // To prevent multiple clicks.\n",
              "      quickchartButtonEl.classList.add('colab-df-spinner');\n",
              "      try {\n",
              "        const charts = await google.colab.kernel.invokeFunction(\n",
              "            'suggestCharts', [key], {});\n",
              "      } catch (error) {\n",
              "        console.error('Error during call to suggestCharts:', error);\n",
              "      }\n",
              "      quickchartButtonEl.classList.remove('colab-df-spinner');\n",
              "      quickchartButtonEl.classList.add('colab-df-quickchart-complete');\n",
              "    }\n",
              "    (() => {\n",
              "      let quickchartButtonEl =\n",
              "        document.querySelector('#df-0f46c3f6-e773-4ee6-95cb-d1b3197f0bea button');\n",
              "      quickchartButtonEl.style.display =\n",
              "        google.colab.kernel.accessAllowed ? 'block' : 'none';\n",
              "    })();\n",
              "  </script>\n",
              "</div>\n",
              "    </div>\n",
              "  </div>\n"
            ]
          },
          "metadata": {},
          "execution_count": 4
        }
      ],
      "source": [
        "data = pd.read_csv('/content/drive/MyDrive/RecSys/data.csv').sample(500000).drop(['campaign_clicks'], axis=1)\n",
        "data.head()"
      ],
      "metadata": {
        "pycharm": {
          "name": "#%%\n"
        },
        "colab": {
          "base_uri": "https://localhost:8080/",
          "height": 206
        },
        "id": "P0I2h5oYEoEb",
        "outputId": "9a4e00ad-0da5-42aa-c46f-87a2969b568e"
      }
    },
    {
      "cell_type": "markdown",
      "source": [
        "### Анализ:"
      ],
      "metadata": {
        "id": "AGbaVXHJJhH2"
      }
    },
    {
      "cell_type": "code",
      "source": [
        "def analysis(data: pd.DataFrame):\n",
        "    print('Общее описание данных:\\n', data.describe(), '\\n\\n')\n",
        "    print('Количество повторяющихся значений: ', len(data[data.duplicated()]), '\\n\\n')\n",
        "    print('Диаграмма зависимости количество записей от страны:\\n', data.country_id.value_counts().plot(kind='hist'), plt.show(), '\\n\\n')\n",
        "    print('Количество записей в зависимости от страны:\\n', data.country_id.value_counts(), '\\n\\n')\n",
        "    print('Диаграмма зависимости количество записей от ОС:\\n', data.os_id.value_counts().plot(kind='hist'), plt.show(),'\\n\\n')\n",
        "    print('Частота встречающихся баннеров', data.banner_id.value_counts().plot(kind='hist'), plt.show(),'\\n\\n')\n",
        "    print('Частота используемых зон', data.zone_id.value_counts().plot(kind='hist'), plt.show(),'\\n\\n')\n",
        "\n",
        "    print('rate0', data.rate0.value_counts().plot(kind='hist'), plt.show(),'\\n\\n')\n",
        "    print('rate1', data.rate1.value_counts().plot(kind='hist'), plt.show(),'\\n\\n')\n",
        "\n",
        "    print('Количество записей в зависимости от ОС:\\n', data.os_id.value_counts(), '\\n\\n')\n",
        "    print('Количество нулевых значений:', data.isna().sum().sum())\n",
        "analysis(data)"
      ],
      "metadata": {
        "colab": {
          "base_uri": "https://localhost:8080/",
          "height": 1000
        },
        "id": "Wy6hYy_nJg1-",
        "outputId": "ed6a84c1-bd3c-4da5-c949-55c950a4a81d"
      },
      "execution_count": 12,
      "outputs": [
        {
          "output_type": "stream",
          "name": "stdout",
          "text": [
            "Общее описание данных:\n",
            "              zone_id      banner_id     oaid_hash          os_id  \\\n",
            "count  100000.000000  100000.000000  1.000000e+05  100000.000000   \n",
            "mean       81.614120     381.634150  4.609545e+18       1.838520   \n",
            "std       161.902653     396.246025  2.661648e+18       1.529231   \n",
            "min         0.000000       0.000000  7.036755e+13       0.000000   \n",
            "25%        14.000000      52.000000  2.306608e+18       1.000000   \n",
            "50%        19.000000     218.000000  4.613138e+18       2.000000   \n",
            "75%        60.000000     613.000000  6.916892e+18       3.000000   \n",
            "max      3268.000000    1447.000000  9.223130e+18       8.000000   \n",
            "\n",
            "          country_id    banner_id0          rate0             g0  \\\n",
            "count  100000.000000  1.000000e+05  100000.000000  100000.000000   \n",
            "mean        4.333280  6.520131e+05       0.189629       0.768187   \n",
            "std         4.321524  2.597044e+06       2.623631      16.959630   \n",
            "min         0.000000  0.000000e+00       0.000100       0.000000   \n",
            "25%         0.000000  7.300000e+01       0.005000       0.016382   \n",
            "50%         4.000000  3.020000e+02       0.010000       0.035421   \n",
            "75%         7.000000  7.260000e+02       0.030000       0.080662   \n",
            "max        16.000000  1.146413e+07     100.000000     691.088272   \n",
            "\n",
            "          coeff_sum0    banner_id1         rate1            g1    coeff_sum1  \\\n",
            "count  100000.000000  1.000000e+05  99881.000000  99881.000000  99881.000000   \n",
            "mean       -3.985799  2.594123e+06      1.409992      0.545091     -3.973683   \n",
            "std         1.142604  5.221699e+06      8.701388     14.106414      1.184154   \n",
            "min        -7.976826  0.000000e+00      0.000970      0.000000     -8.587743   \n",
            "25%        -4.522991  9.900000e+01      0.004000      0.016181     -4.537232   \n",
            "50%        -3.925543  4.530000e+02      0.014000      0.035554     -3.932353   \n",
            "75%        -3.418275  1.236000e+03      0.050000      0.075167     -3.393772   \n",
            "max         0.000000  1.462352e+07    100.000000    691.088272      0.072790   \n",
            "\n",
            "       impressions         clicks  \n",
            "count     100000.0  100000.000000  \n",
            "mean           1.0       0.027870  \n",
            "std            0.0       0.164601  \n",
            "min            1.0       0.000000  \n",
            "25%            1.0       0.000000  \n",
            "50%            1.0       0.000000  \n",
            "75%            1.0       0.000000  \n",
            "max            1.0       1.000000   \n",
            "\n",
            "\n",
            "Количество повторяющихся значений:  1 \n",
            "\n",
            "\n"
          ]
        },
        {
          "output_type": "display_data",
          "data": {
            "text/plain": [
              "<Figure size 640x480 with 1 Axes>"
            ],
            "image/png": "[encoded data removed]"
          },
          "metadata": {}
        },
        {
          "output_type": "stream",
          "name": "stdout",
          "text": [
            "Диаграмма зависимости количество записей от страны:\n",
            " Axes(0.125,0.11;0.775x0.77) None \n",
            "\n",
            "\n",
            "Количество записей в зависимости от страны:\n",
            " 0     31541\n",
            "5     12099\n",
            "6      9989\n",
            "7      9446\n",
            "3      8470\n",
            "1      8445\n",
            "15     3772\n",
            "12     3018\n",
            "9      2733\n",
            "4      2477\n",
            "10     2227\n",
            "11     1345\n",
            "8      1325\n",
            "13     1216\n",
            "14      931\n",
            "16      513\n",
            "2       453\n",
            "Name: country_id, dtype: int64 \n",
            "\n",
            "\n"
          ]
        },
        {
          "output_type": "display_data",
          "data": {
            "text/plain": [
              "<Figure size 640x480 with 1 Axes>"
            ],
            "image/png": "[encoded data removed]"
          },
          "metadata": {}
        },
        {
          "output_type": "stream",
          "name": "stdout",
          "text": [
            "Диаграмма зависимости количество записей от ОС:\n",
            " Axes(0.125,0.11;0.775x0.77) None \n",
            "\n",
            "\n"
          ]
        },
        {
          "output_type": "display_data",
          "data": {
            "text/plain": [
              "<Figure size 640x480 with 1 Axes>"
            ],
            "image/png": "[encoded data removed]"
          },
          "metadata": {}
        },
        {
          "output_type": "stream",
          "name": "stdout",
          "text": [
            "Частота встречающихся баннеров Axes(0.125,0.11;0.775x0.77) None \n",
            "\n",
            "\n"
          ]
        },
        {
          "output_type": "display_data",
          "data": {
            "text/plain": [
              "<Figure size 640x480 with 1 Axes>"
            ],
            "image/png": "[encoded data removed]"
          },
          "metadata": {}
        },
        {
          "output_type": "stream",
          "name": "stdout",
          "text": [
            "Частота используемых зон Axes(0.125,0.11;0.775x0.77) None \n",
            "\n",
            "\n"
          ]
        },
        {
          "output_type": "display_data",
          "data": {
            "text/plain": [
              "<Figure size 640x480 with 1 Axes>"
            ],
            "image/png": "[encoded data removed]"
          },
          "metadata": {}
        },
        {
          "output_type": "stream",
          "name": "stdout",
          "text": [
            "rate0 Axes(0.125,0.11;0.775x0.77) None \n",
            "\n",
            "\n"
          ]
        },
        {
          "output_type": "display_data",
          "data": {
            "text/plain": [
              "<Figure size 640x480 with 1 Axes>"
            ],
            "image/png": "[encoded data removed]"
          },
          "metadata": {}
        },
        {
          "output_type": "stream",
          "name": "stdout",
          "text": [
            "rate1 Axes(0.125,0.11;0.775x0.77) None \n",
            "\n",
            "\n",
            "Количество записей в зависимости от ОС:\n",
            " 2    29282\n",
            "0    24448\n",
            "1    19906\n",
            "4    18849\n",
            "3     4800\n",
            "6     1984\n",
            "5      722\n",
            "8        9\n",
            "Name: os_id, dtype: int64 \n",
            "\n",
            "\n",
            "Количество нулевых значений: 357\n"
          ]
        }
      ]
    },
    {
      "cell_type": "markdown",
      "source": [
        "Есть нулевые значения - их нужно удалить.\n",
        "Среднее стоимости 1 клика установленная рекламодателем для banner_id1 больше в 10 раз, чем для banner_id0, при этом у баннера 0 больше \"дорогих кликов\"."
      ],
      "metadata": {
        "id": "r7TsHxPiJoSc"
      }
    },
    {
      "cell_type": "code",
      "execution_count": 5,
      "outputs": [
        {
          "output_type": "execute_result",
          "data": {
            "text/plain": [
              "                           date_time  zone_id  banner_id  oaid_hash  os_id  \\\n",
              "6666720   2021-09-28 13:32:50.000000        3         23       -100      3   \n",
              "13243343  2021-10-01 07:46:09.000000        7          3       -100      3   \n",
              "4130156   2021-09-29 21:26:04.000000        1        180       -100      0   \n",
              "6086881   2021-09-27 13:32:44.000000        1        150       -100      2   \n",
              "12969037  2021-09-26 16:18:08.000000        1          7       -100      2   \n",
              "\n",
              "          country_id  banner_id0  rate0        g0  coeff_sum0  banner_id1  \\\n",
              "6666720            2    10917502  0.047  0.000000    0.000000          22   \n",
              "13243343           4         609  0.006  0.034275   -3.830050         597   \n",
              "4130156            5         315  0.015  0.125759   -3.851988         302   \n",
              "6086881            4         620  0.050  0.084292   -2.981164         649   \n",
              "12969037           2          39  0.006  0.032201   -3.942691          96   \n",
              "\n",
              "          rate1        g1  coeff_sum1  clicks  hour  month  day  \n",
              "6666720   0.004  0.003680   -4.321483       0     6      0    5  \n",
              "13243343  0.002  0.066310   -3.318132       0    21      1    2  \n",
              "4130156   0.011  0.107973   -3.606822       0     7      0    0  \n",
              "6086881   0.050  0.085919   -2.981164       0     6      0    6  \n",
              "12969037  0.006  0.033277   -4.001179       0    20      0    1  "
            ],
            "text/html": [
              "\n",
              "  <div id=\"df-4ee22250-64b7-477f-b578-443b59de6517\" class=\"colab-df-container\">\n",
              "    <div>\n",
              "<style scoped>\n",
              "    .dataframe tbody tr th:only-of-type {\n",
              "        vertical-align: middle;\n",
              "    }\n",
              "\n",
              "    .dataframe tbody tr th {\n",
              "        vertical-align: top;\n",
              "    }\n",
              "\n",
              "    .dataframe thead th {\n",
              "        text-align: right;\n",
              "    }\n",
              "</style>\n",
              "<table border=\"1\" class=\"dataframe\">\n",
              "  <thead>\n",
              "    <tr style=\"text-align: right;\">\n",
              "      <th></th>\n",
              "      <th>date_time</th>\n",
              "      <th>zone_id</th>\n",
              "      <th>banner_id</th>\n",
              "      <th>oaid_hash</th>\n",
              "      <th>os_id</th>\n",
              "      <th>country_id</th>\n",
              "      <th>banner_id0</th>\n",
              "      <th>rate0</th>\n",
              "      <th>g0</th>\n",
              "      <th>coeff_sum0</th>\n",
              "      <th>banner_id1</th>\n",
              "      <th>rate1</th>\n",
              "      <th>g1</th>\n",
              "      <th>coeff_sum1</th>\n",
              "      <th>clicks</th>\n",
              "      <th>hour</th>\n",
              "      <th>month</th>\n",
              "      <th>day</th>\n",
              "    </tr>\n",
              "  </thead>\n",
              "  <tbody>\n",
              "    <tr>\n",
              "      <th>6666720</th>\n",
              "      <td>2021-09-28 13:32:50.000000</td>\n",
              "      <td>3</td>\n",
              "      <td>23</td>\n",
              "      <td>-100</td>\n",
              "      <td>3</td>\n",
              "      <td>2</td>\n",
              "      <td>10917502</td>\n",
              "      <td>0.047</td>\n",
              "      <td>0.000000</td>\n",
              "      <td>0.000000</td>\n",
              "      <td>22</td>\n",
              "      <td>0.004</td>\n",
              "      <td>0.003680</td>\n",
              "      <td>-4.321483</td>\n",
              "      <td>0</td>\n",
              "      <td>6</td>\n",
              "      <td>0</td>\n",
              "      <td>5</td>\n",
              "    </tr>\n",
              "    <tr>\n",
              "      <th>13243343</th>\n",
              "      <td>2021-10-01 07:46:09.000000</td>\n",
              "      <td>7</td>\n",
              "      <td>3</td>\n",
              "      <td>-100</td>\n",
              "      <td>3</td>\n",
              "      <td>4</td>\n",
              "      <td>609</td>\n",
              "      <td>0.006</td>\n",
              "      <td>0.034275</td>\n",
              "      <td>-3.830050</td>\n",
              "      <td>597</td>\n",
              "      <td>0.002</td>\n",
              "      <td>0.066310</td>\n",
              "      <td>-3.318132</td>\n",
              "      <td>0</td>\n",
              "      <td>21</td>\n",
              "      <td>1</td>\n",
              "      <td>2</td>\n",
              "    </tr>\n",
              "    <tr>\n",
              "      <th>4130156</th>\n",
              "      <td>2021-09-29 21:26:04.000000</td>\n",
              "      <td>1</td>\n",
              "      <td>180</td>\n",
              "      <td>-100</td>\n",
              "      <td>0</td>\n",
              "      <td>5</td>\n",
              "      <td>315</td>\n",
              "      <td>0.015</td>\n",
              "      <td>0.125759</td>\n",
              "      <td>-3.851988</td>\n",
              "      <td>302</td>\n",
              "      <td>0.011</td>\n",
              "      <td>0.107973</td>\n",
              "      <td>-3.606822</td>\n",
              "      <td>0</td>\n",
              "      <td>7</td>\n",
              "      <td>0</td>\n",
              "      <td>0</td>\n",
              "    </tr>\n",
              "    <tr>\n",
              "      <th>6086881</th>\n",
              "      <td>2021-09-27 13:32:44.000000</td>\n",
              "      <td>1</td>\n",
              "      <td>150</td>\n",
              "      <td>-100</td>\n",
              "      <td>2</td>\n",
              "      <td>4</td>\n",
              "      <td>620</td>\n",
              "      <td>0.050</td>\n",
              "      <td>0.084292</td>\n",
              "      <td>-2.981164</td>\n",
              "      <td>649</td>\n",
              "      <td>0.050</td>\n",
              "      <td>0.085919</td>\n",
              "      <td>-2.981164</td>\n",
              "      <td>0</td>\n",
              "      <td>6</td>\n",
              "      <td>0</td>\n",
              "      <td>6</td>\n",
              "    </tr>\n",
              "    <tr>\n",
              "      <th>12969037</th>\n",
              "      <td>2021-09-26 16:18:08.000000</td>\n",
              "      <td>1</td>\n",
              "      <td>7</td>\n",
              "      <td>-100</td>\n",
              "      <td>2</td>\n",
              "      <td>2</td>\n",
              "      <td>39</td>\n",
              "      <td>0.006</td>\n",
              "      <td>0.032201</td>\n",
              "      <td>-3.942691</td>\n",
              "      <td>96</td>\n",
              "      <td>0.006</td>\n",
              "      <td>0.033277</td>\n",
              "      <td>-4.001179</td>\n",
              "      <td>0</td>\n",
              "      <td>20</td>\n",
              "      <td>0</td>\n",
              "      <td>1</td>\n",
              "    </tr>\n",
              "  </tbody>\n",
              "</table>\n",
              "</div>\n",
              "    <div class=\"colab-df-buttons\">\n",
              "\n",
              "  <div class=\"colab-df-container\">\n",
              "    <button class=\"colab-df-convert\" onclick=\"convertToInteractive('df-4ee22250-64b7-477f-b578-443b59de6517')\"\n",
              "            title=\"Convert this dataframe to an interactive table.\"\n",
              "            style=\"display:none;\">\n",
              "\n",
              "  <svg xmlns=\"http://www.w3.org/2000/svg\" height=\"24px\" viewBox=\"0 -960 960 960\">\n",
              "    <path d=\"M120-120v-720h720v720H120Zm60-500h600v-160H180v160Zm220 220h160v-160H400v160Zm0 220h160v-160H400v160ZM180-400h160v-160H180v160Zm440 0h160v-160H620v160ZM180-180h160v-160H180v160Zm440 0h160v-160H620v160Z\"/>\n",
              "  </svg>\n",
              "    </button>\n",
              "\n",
              "  <style>\n",
              "    .colab-df-container {\n",
              "      display:flex;\n",
              "      gap: 12px;\n",
              "    }\n",
              "\n",
              "    .colab-df-convert {\n",
              "      background-color: #E8F0FE;\n",
              "      border: none;\n",
              "      border-radius: 50%;\n",
              "      cursor: pointer;\n",
              "      display: none;\n",
              "      fill: #1967D2;\n",
              "      height: 32px;\n",
              "      padding: 0 0 0 0;\n",
              "      width: 32px;\n",
              "    }\n",
              "\n",
              "    .colab-df-convert:hover {\n",
              "      background-color: #E2EBFA;\n",
              "      box-shadow: 0px 1px 2px rgba(60, 64, 67, 0.3), 0px 1px 3px 1px rgba(60, 64, 67, 0.15);\n",
              "      fill: #174EA6;\n",
              "    }\n",
              "\n",
              "    .colab-df-buttons div {\n",
              "      margin-bottom: 4px;\n",
              "    }\n",
              "\n",
              "    [theme=dark] .colab-df-convert {\n",
              "      background-color: #3B4455;\n",
              "      fill: #D2E3FC;\n",
              "    }\n",
              "\n",
              "    [theme=dark] .colab-df-convert:hover {\n",
              "      background-color: #434B5C;\n",
              "      box-shadow: 0px 1px 3px 1px rgba(0, 0, 0, 0.15);\n",
              "      filter: drop-shadow(0px 1px 2px rgba(0, 0, 0, 0.3));\n",
              "      fill: #FFFFFF;\n",
              "    }\n",
              "  </style>\n",
              "\n",
              "    <script>\n",
              "      const buttonEl =\n",
              "        document.querySelector('#df-4ee22250-64b7-477f-b578-443b59de6517 button.colab-df-convert');\n",
              "      buttonEl.style.display =\n",
              "        google.colab.kernel.accessAllowed ? 'block' : 'none';\n",
              "\n",
              "      async function convertToInteractive(key) {\n",
              "        const element = document.querySelector('#df-4ee22250-64b7-477f-b578-443b59de6517');\n",
              "        const dataTable =\n",
              "          await google.colab.kernel.invokeFunction('convertToInteractive',\n",
              "                                                    [key], {});\n",
              "        if (!dataTable) return;\n",
              "\n",
              "        const docLinkHtml = 'Like what you see? Visit the ' +\n",
              "          '<a target=\"_blank\" href=https://colab.research.google.com/notebooks/data_table.ipynb>data table notebook</a>'\n",
              "          + ' to learn more about interactive tables.';\n",
              "        element.innerHTML = '';\n",
              "        dataTable['output_type'] = 'display_data';\n",
              "        await google.colab.output.renderOutput(dataTable, element);\n",
              "        const docLink = document.createElement('div');\n",
              "        docLink.innerHTML = docLinkHtml;\n",
              "        element.appendChild(docLink);\n",
              "      }\n",
              "    </script>\n",
              "  </div>\n",
              "\n",
              "\n",
              "<div id=\"df-a07a0ac1-332b-404e-b85f-17e69a6cf630\">\n",
              "  <button class=\"colab-df-quickchart\" onclick=\"quickchart('df-a07a0ac1-332b-404e-b85f-17e69a6cf630')\"\n",
              "            title=\"Suggest charts\"\n",
              "            style=\"display:none;\">\n",
              "\n",
              "<svg xmlns=\"http://www.w3.org/2000/svg\" height=\"24px\"viewBox=\"0 0 24 24\"\n",
              "     width=\"24px\">\n",
              "    <g>\n",
              "        <path d=\"M19 3H5c-1.1 0-2 .9-2 2v14c0 1.1.9 2 2 2h14c1.1 0 2-.9 2-2V5c0-1.1-.9-2-2-2zM9 17H7v-7h2v7zm4 0h-2V7h2v10zm4 0h-2v-4h2v4z\"/>\n",
              "    </g>\n",
              "</svg>\n",
              "  </button>\n",
              "\n",
              "<style>\n",
              "  .colab-df-quickchart {\n",
              "      --bg-color: #E8F0FE;\n",
              "      --fill-color: #1967D2;\n",
              "      --hover-bg-color: #E2EBFA;\n",
              "      --hover-fill-color: #174EA6;\n",
              "      --disabled-fill-color: #AAA;\n",
              "      --disabled-bg-color: #DDD;\n",
              "  }\n",
              "\n",
              "  [theme=dark] .colab-df-quickchart {\n",
              "      --bg-color: #3B4455;\n",
              "      --fill-color: #D2E3FC;\n",
              "      --hover-bg-color: #434B5C;\n",
              "      --hover-fill-color: #FFFFFF;\n",
              "      --disabled-bg-color: #3B4455;\n",
              "      --disabled-fill-color: #666;\n",
              "  }\n",
              "\n",
              "  .colab-df-quickchart {\n",
              "    background-color: var(--bg-color);\n",
              "    border: none;\n",
              "    border-radius: 50%;\n",
              "    cursor: pointer;\n",
              "    display: none;\n",
              "    fill: var(--fill-color);\n",
              "    height: 32px;\n",
              "    padding: 0;\n",
              "    width: 32px;\n",
              "  }\n",
              "\n",
              "  .colab-df-quickchart:hover {\n",
              "    background-color: var(--hover-bg-color);\n",
              "    box-shadow: 0 1px 2px rgba(60, 64, 67, 0.3), 0 1px 3px 1px rgba(60, 64, 67, 0.15);\n",
              "    fill: var(--button-hover-fill-color);\n",
              "  }\n",
              "\n",
              "  .colab-df-quickchart-complete:disabled,\n",
              "  .colab-df-quickchart-complete:disabled:hover {\n",
              "    background-color: var(--disabled-bg-color);\n",
              "    fill: var(--disabled-fill-color);\n",
              "    box-shadow: none;\n",
              "  }\n",
              "\n",
              "  .colab-df-spinner {\n",
              "    border: 2px solid var(--fill-color);\n",
              "    border-color: transparent;\n",
              "    border-bottom-color: var(--fill-color);\n",
              "    animation:\n",
              "      spin 1s steps(1) infinite;\n",
              "  }\n",
              "\n",
              "  @keyframes spin {\n",
              "    0% {\n",
              "      border-color: transparent;\n",
              "      border-bottom-color: var(--fill-color);\n",
              "      border-left-color: var(--fill-color);\n",
              "    }\n",
              "    20% {\n",
              "      border-color: transparent;\n",
              "      border-left-color: var(--fill-color);\n",
              "      border-top-color: var(--fill-color);\n",
              "    }\n",
              "    30% {\n",
              "      border-color: transparent;\n",
              "      border-left-color: var(--fill-color);\n",
              "      border-top-color: var(--fill-color);\n",
              "      border-right-color: var(--fill-color);\n",
              "    }\n",
              "    40% {\n",
              "      border-color: transparent;\n",
              "      border-right-color: var(--fill-color);\n",
              "      border-top-color: var(--fill-color);\n",
              "    }\n",
              "    60% {\n",
              "      border-color: transparent;\n",
              "      border-right-color: var(--fill-color);\n",
              "    }\n",
              "    80% {\n",
              "      border-color: transparent;\n",
              "      border-right-color: var(--fill-color);\n",
              "      border-bottom-color: var(--fill-color);\n",
              "    }\n",
              "    90% {\n",
              "      border-color: transparent;\n",
              "      border-bottom-color: var(--fill-color);\n",
              "    }\n",
              "  }\n",
              "</style>\n",
              "\n",
              "  <script>\n",
              "    async function quickchart(key) {\n",
              "      const quickchartButtonEl =\n",
              "        document.querySelector('#' + key + ' button');\n",
              "      quickchartButtonEl.disabled = true;  // To prevent multiple clicks.\n",
              "      quickchartButtonEl.classList.add('colab-df-spinner');\n",
              "      try {\n",
              "        const charts = await google.colab.kernel.invokeFunction(\n",
              "            'suggestCharts', [key], {});\n",
              "      } catch (error) {\n",
              "        console.error('Error during call to suggestCharts:', error);\n",
              "      }\n",
              "      quickchartButtonEl.classList.remove('colab-df-spinner');\n",
              "      quickchartButtonEl.classList.add('colab-df-quickchart-complete');\n",
              "    }\n",
              "    (() => {\n",
              "      let quickchartButtonEl =\n",
              "        document.querySelector('#df-a07a0ac1-332b-404e-b85f-17e69a6cf630 button');\n",
              "      quickchartButtonEl.style.display =\n",
              "        google.colab.kernel.accessAllowed ? 'block' : 'none';\n",
              "    })();\n",
              "  </script>\n",
              "</div>\n",
              "    </div>\n",
              "  </div>\n"
            ]
          },
          "metadata": {},
          "execution_count": 5
        }
      ],
      "source": [
        "def feature_engineering(data: pd.DataFrame) -> pd.DataFrame:\n",
        "    categ = [ 'zone_id', 'banner_id', 'oaid_hash' , 'os_id', 'country_id', 'hour', 'month', 'day']\n",
        "    data = data.drop(['impressions'], axis=1)\n",
        "    data['hour'], data['month'], data['day'] = pd.to_datetime(data['date_time'], format='%Y-%m-%d %H:%M:%S.%f').dt.hour, \\\n",
        "                                              pd.to_datetime(data['date_time'], format='%Y-%m-%d %H:%M:%S.%f').dt.month, \\\n",
        "                                              pd.to_datetime(data['date_time'], format='%Y-%m-%d %H:%M:%S.%f').dt.day\n",
        "    data.drop_duplicates(inplace=True)\n",
        "    condition_zone_id = data['zone_id'].value_counts()\n",
        "    new_zone = condition_zone_id[condition_zone_id <= 3000].index\n",
        "    data['zone_id'] = data['zone_id'].apply(lambda x: 0 if x in new_zone else x)\n",
        "    for col in categ:\n",
        "        if col == 'os_id':\n",
        "            data.loc[data['os_id'] > 7, 'os_id'] = 7\n",
        "        elif col != \"oaid_hash\":\n",
        "            column = data[col].value_counts()\n",
        "            mask_obs = column[column < column.sum() * 0.0001].index\n",
        "            mask = data[col].isin(mask_obs)\n",
        "            data.loc[mask, col] = 0\n",
        "    for col in categ:\n",
        "        data[col], _ = pd.factorize(data[col])\n",
        "    data = data.dropna()\n",
        "    oaid_hash_vc = data.oaid_hash.value_counts()\n",
        "    oaid_hash_to_change = oaid_hash_vc[oaid_hash_vc <= 2].index\n",
        "    data.loc[data.oaid_hash.isin(oaid_hash_to_change), \"oaid_hash\"] = -100\n",
        "    return data\n",
        "\n",
        "data = feature_engineering(data)\n",
        "data.tail()"
      ],
      "metadata": {
        "pycharm": {
          "name": "#%%\n"
        },
        "colab": {
          "base_uri": "https://localhost:8080/",
          "height": 206
        },
        "id": "nRAsN3_TEoEc",
        "outputId": "59b37059-c534-4d5f-d17b-d5c28a1c9ff0"
      }
    },
    {
      "cell_type": "code",
      "execution_count": 6,
      "outputs": [],
      "source": [
        "data.sort_values(by=\"date_time\", inplace=True)"
      ],
      "metadata": {
        "pycharm": {
          "name": "#%%\n"
        },
        "id": "fBJhL1NnEoEd"
      }
    },
    {
      "cell_type": "markdown",
      "source": [
        "Тестируем на последнем дне.\n",
        "\n",
        "Оставляем только строки, где banner_id == banner_id0\n",
        "\n",
        "Отдельный тестовый набор, где banner_id == banner_id1"
      ],
      "metadata": {
        "id": "47puMjzBS4wT"
      }
    },
    {
      "cell_type": "code",
      "source": [
        "# разделим данные на тренировочную и тестовую выборку\n",
        "\n",
        "X_train, X_test = data[data.date_time < '2021-10-02'].copy(), data[data.date_time >= '2021-10-02'].copy()\n",
        "\n",
        "X_test = X_test[X_test[\"banner_id\"] == X_test[\"banner_id0\"]]\n",
        "X_test, y_test = X_test.drop(['clicks'], axis=1), X_test['clicks']\n",
        "X_train, y_train = X_train.drop(['clicks'], axis=1), X_train['clicks']\n",
        "\n",
        "print(X_test.shape, y_test.shape)\n",
        "\n",
        "X_test1 = X_test.copy()\n",
        "y_test1 = y_test.copy()\n",
        "X_test1[\"banner_id\"] = X_test1[\"banner_id1\"]"
      ],
      "metadata": {
        "colab": {
          "base_uri": "https://localhost:8080/"
        },
        "id": "igEGT6GkM4zB",
        "outputId": "872fd3c5-dea6-43b5-99ca-c4232ce0f76b"
      },
      "execution_count": 41,
      "outputs": [
        {
          "output_type": "stream",
          "name": "stdout",
          "text": [
            "(1047, 17) (1047,)\n"
          ]
        }
      ]
    },
    {
      "cell_type": "code",
      "source": [
        "X_train.drop([\"date_time\"], axis=1, inplace=True)\n",
        "X_test.drop([\"date_time\"], axis=1, inplace=True)\n",
        "X_test1.drop([\"date_time\"], axis=1, inplace=True)"
      ],
      "metadata": {
        "id": "bvsHoxCGUsiS"
      },
      "execution_count": 42,
      "outputs": []
    },
    {
      "cell_type": "markdown",
      "source": [
        "### Обучение модели:"
      ],
      "metadata": {
        "id": "Q7HlSnyKUOw_"
      }
    },
    {
      "cell_type": "code",
      "source": [
        "from sklearn.linear_model import LogisticRegression\n",
        "from sklearn.metrics import roc_auc_score, log_loss"
      ],
      "metadata": {
        "id": "CEr2zOs2M4v-"
      },
      "execution_count": 10,
      "outputs": []
    },
    {
      "cell_type": "code",
      "source": [
        "def create_train_model(X_train, y_train):\n",
        "    return LogisticRegression(max_iter=100, solver='liblinear', C=0.01)\n",
        "\n",
        "model = create_train_model(X_train, y_train)\n",
        "model.fit(X_train, y_train)"
      ],
      "metadata": {
        "colab": {
          "base_uri": "https://localhost:8080/",
          "height": 74
        },
        "id": "SwOWLFPpM4tD",
        "outputId": "de96ee58-653f-41bc-cc1b-f8a020df99b8"
      },
      "execution_count": 14,
      "outputs": [
        {
          "output_type": "execute_result",
          "data": {
            "text/plain": [
              "LogisticRegression(C=0.01, solver='liblinear')"
            ],
            "text/html": [
              "<style>#sk-container-id-2 {color: black;background-color: white;}#sk-container-id-2 pre{padding: 0;}#sk-container-id-2 div.sk-toggleable {background-color: white;}#sk-container-id-2 label.sk-toggleable__label {cursor: pointer;display: block;width: 100%;margin-bottom: 0;padding: 0.3em;box-sizing: border-box;text-align: center;}#sk-container-id-2 label.sk-toggleable__label-arrow:before {content: \"▸\";float: left;margin-right: 0.25em;color: #696969;}#sk-container-id-2 label.sk-toggleable__label-arrow:hover:before {color: black;}#sk-container-id-2 div.sk-estimator:hover label.sk-toggleable__label-arrow:before {color: black;}#sk-container-id-2 div.sk-toggleable__content {max-height: 0;max-width: 0;overflow: hidden;text-align: left;background-color: #f0f8ff;}#sk-container-id-2 div.sk-toggleable__content pre {margin: 0.2em;color: black;border-radius: 0.25em;background-color: #f0f8ff;}#sk-container-id-2 input.sk-toggleable__control:checked~div.sk-toggleable__content {max-height: 200px;max-width: 100%;overflow: auto;}#sk-container-id-2 input.sk-toggleable__control:checked~label.sk-toggleable__label-arrow:before {content: \"▾\";}#sk-container-id-2 div.sk-estimator input.sk-toggleable__control:checked~label.sk-toggleable__label {background-color: #d4ebff;}#sk-container-id-2 div.sk-label input.sk-toggleable__control:checked~label.sk-toggleable__label {background-color: #d4ebff;}#sk-container-id-2 input.sk-hidden--visually {border: 0;clip: rect(1px 1px 1px 1px);clip: rect(1px, 1px, 1px, 1px);height: 1px;margin: -1px;overflow: hidden;padding: 0;position: absolute;width: 1px;}#sk-container-id-2 div.sk-estimator {font-family: monospace;background-color: #f0f8ff;border: 1px dotted black;border-radius: 0.25em;box-sizing: border-box;margin-bottom: 0.5em;}#sk-container-id-2 div.sk-estimator:hover {background-color: #d4ebff;}#sk-container-id-2 div.sk-parallel-item::after {content: \"\";width: 100%;border-bottom: 1px solid gray;flex-grow: 1;}#sk-container-id-2 div.sk-label:hover label.sk-toggleable__label {background-color: #d4ebff;}#sk-container-id-2 div.sk-serial::before {content: \"\";position: absolute;border-left: 1px solid gray;box-sizing: border-box;top: 0;bottom: 0;left: 50%;z-index: 0;}#sk-container-id-2 div.sk-serial {display: flex;flex-direction: column;align-items: center;background-color: white;padding-right: 0.2em;padding-left: 0.2em;position: relative;}#sk-container-id-2 div.sk-item {position: relative;z-index: 1;}#sk-container-id-2 div.sk-parallel {display: flex;align-items: stretch;justify-content: center;background-color: white;position: relative;}#sk-container-id-2 div.sk-item::before, #sk-container-id-2 div.sk-parallel-item::before {content: \"\";position: absolute;border-left: 1px solid gray;box-sizing: border-box;top: 0;bottom: 0;left: 50%;z-index: -1;}#sk-container-id-2 div.sk-parallel-item {display: flex;flex-direction: column;z-index: 1;position: relative;background-color: white;}#sk-container-id-2 div.sk-parallel-item:first-child::after {align-self: flex-end;width: 50%;}#sk-container-id-2 div.sk-parallel-item:last-child::after {align-self: flex-start;width: 50%;}#sk-container-id-2 div.sk-parallel-item:only-child::after {width: 0;}#sk-container-id-2 div.sk-dashed-wrapped {border: 1px dashed gray;margin: 0 0.4em 0.5em 0.4em;box-sizing: border-box;padding-bottom: 0.4em;background-color: white;}#sk-container-id-2 div.sk-label label {font-family: monospace;font-weight: bold;display: inline-block;line-height: 1.2em;}#sk-container-id-2 div.sk-label-container {text-align: center;}#sk-container-id-2 div.sk-container {/* jupyter's `normalize.less` sets `[hidden] { display: none; }` but bootstrap.min.css set `[hidden] { display: none !important; }` so we also need the `!important` here to be able to override the default hidden behavior on the sphinx rendered scikit-learn.org. See: https://github.com/scikit-learn/scikit-learn/issues/21755 */display: inline-block !important;position: relative;}#sk-container-id-2 div.sk-text-repr-fallback {display: none;}</style><div id=\"sk-container-id-2\" class=\"sk-top-container\"><div class=\"sk-text-repr-fallback\"><pre>LogisticRegression(C=0.01, solver=&#x27;liblinear&#x27;)</pre><b>In a Jupyter environment, please rerun this cell to show the HTML representation or trust the notebook. <br />On GitHub, the HTML representation is unable to render, please try loading this page with nbviewer.org.</b></div><div class=\"sk-container\" hidden><div class=\"sk-item\"><div class=\"sk-estimator sk-toggleable\"><input class=\"sk-toggleable__control sk-hidden--visually\" id=\"sk-estimator-id-2\" type=\"checkbox\" checked><label for=\"sk-estimator-id-2\" class=\"sk-toggleable__label sk-toggleable__label-arrow\">LogisticRegression</label><div class=\"sk-toggleable__content\"><pre>LogisticRegression(C=0.01, solver=&#x27;liblinear&#x27;)</pre></div></div></div></div></div>"
            ]
          },
          "metadata": {},
          "execution_count": 14
        }
      ]
    },
    {
      "cell_type": "code",
      "source": [
        "y_model = model.predict_proba(X_test)[:, 1]\n",
        "print(f\"logLoss = {log_loss(y_test, y_model):.4f}, ROC AUC = {roc_auc_score(y_test, y_model):.4f}\")"
      ],
      "metadata": {
        "colab": {
          "base_uri": "https://localhost:8080/"
        },
        "id": "k8Ec8zVqUqY8",
        "outputId": "629750bd-da62-4949-88ff-5251587e2086"
      },
      "execution_count": 15,
      "outputs": [
        {
          "output_type": "stream",
          "name": "stdout",
          "text": [
            "logLoss = 0.1366, ROC AUC = 0.6614\n"
          ]
        }
      ]
    },
    {
      "cell_type": "markdown",
      "source": [
        "### CIPS:"
      ],
      "metadata": {
        "id": "PtE3TBnRXrDM"
      }
    },
    {
      "cell_type": "markdown",
      "source": [
        "Найдем, что одна нормальная случайная величина $X$ больше другой случайной величины $Y$. Применим свойства.\n",
        "\n",
        "$P(X > Y) = P(X - Y > 0) = 1 - P(X - Y <= 0) = 1 - F_{X - Y}(0)$\n",
        "\n",
        "Так как случайные величины независимы, то их разность тоже имеет нормальное распределение.\n",
        "\n",
        "Тогда $(X - Y)  \\sim  N(E_X - E_Y, D_X + D_Y )$"
      ],
      "metadata": {
        "id": "wbyopQn2YKcO"
      }
    },
    {
      "cell_type": "code",
      "source": [
        "from scipy.stats import norm\n",
        "from scipy.special import logit\n",
        "import numpy as np"
      ],
      "metadata": {
        "id": "7Soo1he1Xqt1"
      },
      "execution_count": 16,
      "outputs": []
    },
    {
      "cell_type": "code",
      "source": [
        "def calc_prob(coef_summ0, coef_summ1, g0, g1):\n",
        "    mean = coef_summ0 - coef_summ1\n",
        "    std = np.sqrt(g0 ** 2 + g1 ** 2) + 1e-9\n",
        "    return 1 - norm.cdf(0, loc=mean, scale=std)"
      ],
      "metadata": {
        "id": "RitRCvz2Xqlx"
      },
      "execution_count": 50,
      "outputs": []
    },
    {
      "cell_type": "code",
      "source": [
        "pi0 = calc_prob(\n",
        "    X_test.coeff_sum0,\n",
        "    X_test.coeff_sum1,\n",
        "    X_test.g0,\n",
        "    X_test.g1\n",
        ")\n",
        "\n",
        "y_pred = model.predict_proba(X_test)[:, 1]\n",
        "y_pred1 = model.predict_proba(X_test1)[:, 1]\n",
        "coeff_sum0_new = logit(y_pred)\n",
        "coeff_sum1_new = logit(y_pred1)"
      ],
      "metadata": {
        "id": "i7LxJIGLXqhr"
      },
      "execution_count": 51,
      "outputs": []
    },
    {
      "cell_type": "code",
      "source": [
        "pi1 = calc_prob(\n",
        "    coeff_sum0_new,\n",
        "    coeff_sum1_new,\n",
        "    X_test.g0,\n",
        "    X_test.g1\n",
        ")"
      ],
      "metadata": {
        "id": "8ULst4dThu7c"
      },
      "execution_count": null,
      "outputs": []
    },
    {
      "cell_type": "code",
      "source": [
        "lambda_val = 10\n",
        "\n",
        "cips = np.mean(y_test * np.minimum(pi1/ (pi0 + 1e-9), lambda_val))\n",
        "print(f'CIPS = {cips}')"
      ],
      "metadata": {
        "colab": {
          "base_uri": "https://localhost:8080/"
        },
        "id": "r8NpzZDFdaUH",
        "outputId": "4b5416f6-7588-454d-dd5e-7844ee131c83"
      },
      "execution_count": 58,
      "outputs": [
        {
          "output_type": "stream",
          "name": "stdout",
          "text": [
            "CIPS = 0.1470874087393542\n"
          ]
        }
      ]
    }
  ],
  "metadata": {
    "kernelspec": {
      "display_name": "Python 3",
      "language": "python",
      "name": "python3"
    },
    "language_info": {
      "codemirror_mode": {
        "name": "ipython",
        "version": 2
      },
      "file_extension": ".py",
      "mimetype": "text/x-python",
      "name": "python",
      "nbconvert_exporter": "python",
      "pygments_lexer": "ipython2",
      "version": "2.7.6"
    },
    "colab": {
      "provenance": []
    }
  },
  "nbformat": 4,
  "nbformat_minor": 0
}