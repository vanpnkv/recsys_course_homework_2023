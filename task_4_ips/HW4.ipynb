{
  "cells": [
    {
      "cell_type": "markdown",
      "metadata": {
        "id": "LfUytDZShub7"
      },
      "source": [
        "#Загрузка данных"
      ]
    },
    {
      "cell_type": "code",
      "execution_count": 1,
      "metadata": {
        "id": "0k0vrdPpiiIQ",
        "colab": {
          "base_uri": "https://localhost:8080/"
        },
        "outputId": "df8607b6-9df8-4bac-c87a-cbeef949cb74"
      },
      "outputs": [
        {
          "output_type": "stream",
          "name": "stdout",
          "text": [
            "Mounted at /content/drive\n"
          ]
        }
      ],
      "source": [
        "from google.colab import drive\n",
        "drive.mount('/content/drive')"
      ]
    },
    {
      "cell_type": "code",
      "execution_count": 2,
      "metadata": {
        "collapsed": true,
        "id": "LPqXvftuho1s"
      },
      "outputs": [],
      "source": [
        "import pandas as pd\n",
        "import matplotlib.pyplot as plt\n",
        "import numpy as np\n",
        "from sklearn.metrics import log_loss, roc_auc_score"
      ]
    },
    {
      "cell_type": "code",
      "execution_count": 3,
      "metadata": {
        "colab": {
          "base_uri": "https://localhost:8080/",
          "height": 313
        },
        "id": "csZ7GwQfho1u",
        "outputId": "dae18a4d-6d5f-49c2-b0ec-943722939c31"
      },
      "outputs": [
        {
          "output_type": "execute_result",
          "data": {
            "text/plain": [
              "                    date_time  zone_id  banner_id            oaid_hash  \\\n",
              "0  2021-09-27 00:01:30.000000        0          0  5664530014561852622   \n",
              "1  2021-09-26 22:54:49.000000        1          1  5186611064559013950   \n",
              "2  2021-09-26 23:57:20.000000        2          2  2215519569292448030   \n",
              "3  2021-09-27 00:04:30.000000        3          3  6262169206735077204   \n",
              "4  2021-09-27 00:06:21.000000        4          4  4778985830203613115   \n",
              "\n",
              "   campaign_clicks  os_id  country_id  banner_id0  rate0        g0  \\\n",
              "0                0      0           0        1240  0.067  0.035016   \n",
              "1                0      0           1           1  0.002  0.054298   \n",
              "2                3      0           0           2  0.014  0.014096   \n",
              "3                0      1           1           3  0.012  0.015232   \n",
              "4                0      1           0           4  0.019  0.051265   \n",
              "\n",
              "   coeff_sum0  banner_id1  rate1        g1  coeff_sum1  impressions  clicks  \n",
              "0   -7.268846           0  0.010  0.049516   -5.369901            1       1  \n",
              "1   -2.657477         269  0.004  0.031942   -4.449220            1       1  \n",
              "2   -3.824875          21  0.014  0.014906   -3.939309            1       1  \n",
              "3   -3.461357          99  0.006  0.050671   -3.418403            1       1  \n",
              "4   -4.009026    11464230  6.790  0.032005   -2.828797            1       1  "
            ],
            "text/html": [
              "\n",
              "  <div id=\"df-92f0bd32-2b6a-488e-bebb-c5262df3613f\" class=\"colab-df-container\">\n",
              "    <div>\n",
              "<style scoped>\n",
              "    .dataframe tbody tr th:only-of-type {\n",
              "        vertical-align: middle;\n",
              "    }\n",
              "\n",
              "    .dataframe tbody tr th {\n",
              "        vertical-align: top;\n",
              "    }\n",
              "\n",
              "    .dataframe thead th {\n",
              "        text-align: right;\n",
              "    }\n",
              "</style>\n",
              "<table border=\"1\" class=\"dataframe\">\n",
              "  <thead>\n",
              "    <tr style=\"text-align: right;\">\n",
              "      <th></th>\n",
              "      <th>date_time</th>\n",
              "      <th>zone_id</th>\n",
              "      <th>banner_id</th>\n",
              "      <th>oaid_hash</th>\n",
              "      <th>campaign_clicks</th>\n",
              "      <th>os_id</th>\n",
              "      <th>country_id</th>\n",
              "      <th>banner_id0</th>\n",
              "      <th>rate0</th>\n",
              "      <th>g0</th>\n",
              "      <th>coeff_sum0</th>\n",
              "      <th>banner_id1</th>\n",
              "      <th>rate1</th>\n",
              "      <th>g1</th>\n",
              "      <th>coeff_sum1</th>\n",
              "      <th>impressions</th>\n",
              "      <th>clicks</th>\n",
              "    </tr>\n",
              "  </thead>\n",
              "  <tbody>\n",
              "    <tr>\n",
              "      <th>0</th>\n",
              "      <td>2021-09-27 00:01:30.000000</td>\n",
              "      <td>0</td>\n",
              "      <td>0</td>\n",
              "      <td>5664530014561852622</td>\n",
              "      <td>0</td>\n",
              "      <td>0</td>\n",
              "      <td>0</td>\n",
              "      <td>1240</td>\n",
              "      <td>0.067</td>\n",
              "      <td>0.035016</td>\n",
              "      <td>-7.268846</td>\n",
              "      <td>0</td>\n",
              "      <td>0.010</td>\n",
              "      <td>0.049516</td>\n",
              "      <td>-5.369901</td>\n",
              "      <td>1</td>\n",
              "      <td>1</td>\n",
              "    </tr>\n",
              "    <tr>\n",
              "      <th>1</th>\n",
              "      <td>2021-09-26 22:54:49.000000</td>\n",
              "      <td>1</td>\n",
              "      <td>1</td>\n",
              "      <td>5186611064559013950</td>\n",
              "      <td>0</td>\n",
              "      <td>0</td>\n",
              "      <td>1</td>\n",
              "      <td>1</td>\n",
              "      <td>0.002</td>\n",
              "      <td>0.054298</td>\n",
              "      <td>-2.657477</td>\n",
              "      <td>269</td>\n",
              "      <td>0.004</td>\n",
              "      <td>0.031942</td>\n",
              "      <td>-4.449220</td>\n",
              "      <td>1</td>\n",
              "      <td>1</td>\n",
              "    </tr>\n",
              "    <tr>\n",
              "      <th>2</th>\n",
              "      <td>2021-09-26 23:57:20.000000</td>\n",
              "      <td>2</td>\n",
              "      <td>2</td>\n",
              "      <td>2215519569292448030</td>\n",
              "      <td>3</td>\n",
              "      <td>0</td>\n",
              "      <td>0</td>\n",
              "      <td>2</td>\n",
              "      <td>0.014</td>\n",
              "      <td>0.014096</td>\n",
              "      <td>-3.824875</td>\n",
              "      <td>21</td>\n",
              "      <td>0.014</td>\n",
              "      <td>0.014906</td>\n",
              "      <td>-3.939309</td>\n",
              "      <td>1</td>\n",
              "      <td>1</td>\n",
              "    </tr>\n",
              "    <tr>\n",
              "      <th>3</th>\n",
              "      <td>2021-09-27 00:04:30.000000</td>\n",
              "      <td>3</td>\n",
              "      <td>3</td>\n",
              "      <td>6262169206735077204</td>\n",
              "      <td>0</td>\n",
              "      <td>1</td>\n",
              "      <td>1</td>\n",
              "      <td>3</td>\n",
              "      <td>0.012</td>\n",
              "      <td>0.015232</td>\n",
              "      <td>-3.461357</td>\n",
              "      <td>99</td>\n",
              "      <td>0.006</td>\n",
              "      <td>0.050671</td>\n",
              "      <td>-3.418403</td>\n",
              "      <td>1</td>\n",
              "      <td>1</td>\n",
              "    </tr>\n",
              "    <tr>\n",
              "      <th>4</th>\n",
              "      <td>2021-09-27 00:06:21.000000</td>\n",
              "      <td>4</td>\n",
              "      <td>4</td>\n",
              "      <td>4778985830203613115</td>\n",
              "      <td>0</td>\n",
              "      <td>1</td>\n",
              "      <td>0</td>\n",
              "      <td>4</td>\n",
              "      <td>0.019</td>\n",
              "      <td>0.051265</td>\n",
              "      <td>-4.009026</td>\n",
              "      <td>11464230</td>\n",
              "      <td>6.790</td>\n",
              "      <td>0.032005</td>\n",
              "      <td>-2.828797</td>\n",
              "      <td>1</td>\n",
              "      <td>1</td>\n",
              "    </tr>\n",
              "  </tbody>\n",
              "</table>\n",
              "</div>\n",
              "    <div class=\"colab-df-buttons\">\n",
              "\n",
              "  <div class=\"colab-df-container\">\n",
              "    <button class=\"colab-df-convert\" onclick=\"convertToInteractive('df-92f0bd32-2b6a-488e-bebb-c5262df3613f')\"\n",
              "            title=\"Convert this dataframe to an interactive table.\"\n",
              "            style=\"display:none;\">\n",
              "\n",
              "  <svg xmlns=\"http://www.w3.org/2000/svg\" height=\"24px\" viewBox=\"0 -960 960 960\">\n",
              "    <path d=\"M120-120v-720h720v720H120Zm60-500h600v-160H180v160Zm220 220h160v-160H400v160Zm0 220h160v-160H400v160ZM180-400h160v-160H180v160Zm440 0h160v-160H620v160ZM180-180h160v-160H180v160Zm440 0h160v-160H620v160Z\"/>\n",
              "  </svg>\n",
              "    </button>\n",
              "\n",
              "  <style>\n",
              "    .colab-df-container {\n",
              "      display:flex;\n",
              "      gap: 12px;\n",
              "    }\n",
              "\n",
              "    .colab-df-convert {\n",
              "      background-color: #E8F0FE;\n",
              "      border: none;\n",
              "      border-radius: 50%;\n",
              "      cursor: pointer;\n",
              "      display: none;\n",
              "      fill: #1967D2;\n",
              "      height: 32px;\n",
              "      padding: 0 0 0 0;\n",
              "      width: 32px;\n",
              "    }\n",
              "\n",
              "    .colab-df-convert:hover {\n",
              "      background-color: #E2EBFA;\n",
              "      box-shadow: 0px 1px 2px rgba(60, 64, 67, 0.3), 0px 1px 3px 1px rgba(60, 64, 67, 0.15);\n",
              "      fill: #174EA6;\n",
              "    }\n",
              "\n",
              "    .colab-df-buttons div {\n",
              "      margin-bottom: 4px;\n",
              "    }\n",
              "\n",
              "    [theme=dark] .colab-df-convert {\n",
              "      background-color: #3B4455;\n",
              "      fill: #D2E3FC;\n",
              "    }\n",
              "\n",
              "    [theme=dark] .colab-df-convert:hover {\n",
              "      background-color: #434B5C;\n",
              "      box-shadow: 0px 1px 3px 1px rgba(0, 0, 0, 0.15);\n",
              "      filter: drop-shadow(0px 1px 2px rgba(0, 0, 0, 0.3));\n",
              "      fill: #FFFFFF;\n",
              "    }\n",
              "  </style>\n",
              "\n",
              "    <script>\n",
              "      const buttonEl =\n",
              "        document.querySelector('#df-92f0bd32-2b6a-488e-bebb-c5262df3613f button.colab-df-convert');\n",
              "      buttonEl.style.display =\n",
              "        google.colab.kernel.accessAllowed ? 'block' : 'none';\n",
              "\n",
              "      async function convertToInteractive(key) {\n",
              "        const element = document.querySelector('#df-92f0bd32-2b6a-488e-bebb-c5262df3613f');\n",
              "        const dataTable =\n",
              "          await google.colab.kernel.invokeFunction('convertToInteractive',\n",
              "                                                    [key], {});\n",
              "        if (!dataTable) return;\n",
              "\n",
              "        const docLinkHtml = 'Like what you see? Visit the ' +\n",
              "          '<a target=\"_blank\" href=https://colab.research.google.com/notebooks/data_table.ipynb>data table notebook</a>'\n",
              "          + ' to learn more about interactive tables.';\n",
              "        element.innerHTML = '';\n",
              "        dataTable['output_type'] = 'display_data';\n",
              "        await google.colab.output.renderOutput(dataTable, element);\n",
              "        const docLink = document.createElement('div');\n",
              "        docLink.innerHTML = docLinkHtml;\n",
              "        element.appendChild(docLink);\n",
              "      }\n",
              "    </script>\n",
              "  </div>\n",
              "\n",
              "\n",
              "<div id=\"df-1d381594-901d-4688-bd4e-6738b41486c2\">\n",
              "  <button class=\"colab-df-quickchart\" onclick=\"quickchart('df-1d381594-901d-4688-bd4e-6738b41486c2')\"\n",
              "            title=\"Suggest charts\"\n",
              "            style=\"display:none;\">\n",
              "\n",
              "<svg xmlns=\"http://www.w3.org/2000/svg\" height=\"24px\"viewBox=\"0 0 24 24\"\n",
              "     width=\"24px\">\n",
              "    <g>\n",
              "        <path d=\"M19 3H5c-1.1 0-2 .9-2 2v14c0 1.1.9 2 2 2h14c1.1 0 2-.9 2-2V5c0-1.1-.9-2-2-2zM9 17H7v-7h2v7zm4 0h-2V7h2v10zm4 0h-2v-4h2v4z\"/>\n",
              "    </g>\n",
              "</svg>\n",
              "  </button>\n",
              "\n",
              "<style>\n",
              "  .colab-df-quickchart {\n",
              "      --bg-color: #E8F0FE;\n",
              "      --fill-color: #1967D2;\n",
              "      --hover-bg-color: #E2EBFA;\n",
              "      --hover-fill-color: #174EA6;\n",
              "      --disabled-fill-color: #AAA;\n",
              "      --disabled-bg-color: #DDD;\n",
              "  }\n",
              "\n",
              "  [theme=dark] .colab-df-quickchart {\n",
              "      --bg-color: #3B4455;\n",
              "      --fill-color: #D2E3FC;\n",
              "      --hover-bg-color: #434B5C;\n",
              "      --hover-fill-color: #FFFFFF;\n",
              "      --disabled-bg-color: #3B4455;\n",
              "      --disabled-fill-color: #666;\n",
              "  }\n",
              "\n",
              "  .colab-df-quickchart {\n",
              "    background-color: var(--bg-color);\n",
              "    border: none;\n",
              "    border-radius: 50%;\n",
              "    cursor: pointer;\n",
              "    display: none;\n",
              "    fill: var(--fill-color);\n",
              "    height: 32px;\n",
              "    padding: 0;\n",
              "    width: 32px;\n",
              "  }\n",
              "\n",
              "  .colab-df-quickchart:hover {\n",
              "    background-color: var(--hover-bg-color);\n",
              "    box-shadow: 0 1px 2px rgba(60, 64, 67, 0.3), 0 1px 3px 1px rgba(60, 64, 67, 0.15);\n",
              "    fill: var(--button-hover-fill-color);\n",
              "  }\n",
              "\n",
              "  .colab-df-quickchart-complete:disabled,\n",
              "  .colab-df-quickchart-complete:disabled:hover {\n",
              "    background-color: var(--disabled-bg-color);\n",
              "    fill: var(--disabled-fill-color);\n",
              "    box-shadow: none;\n",
              "  }\n",
              "\n",
              "  .colab-df-spinner {\n",
              "    border: 2px solid var(--fill-color);\n",
              "    border-color: transparent;\n",
              "    border-bottom-color: var(--fill-color);\n",
              "    animation:\n",
              "      spin 1s steps(1) infinite;\n",
              "  }\n",
              "\n",
              "  @keyframes spin {\n",
              "    0% {\n",
              "      border-color: transparent;\n",
              "      border-bottom-color: var(--fill-color);\n",
              "      border-left-color: var(--fill-color);\n",
              "    }\n",
              "    20% {\n",
              "      border-color: transparent;\n",
              "      border-left-color: var(--fill-color);\n",
              "      border-top-color: var(--fill-color);\n",
              "    }\n",
              "    30% {\n",
              "      border-color: transparent;\n",
              "      border-left-color: var(--fill-color);\n",
              "      border-top-color: var(--fill-color);\n",
              "      border-right-color: var(--fill-color);\n",
              "    }\n",
              "    40% {\n",
              "      border-color: transparent;\n",
              "      border-right-color: var(--fill-color);\n",
              "      border-top-color: var(--fill-color);\n",
              "    }\n",
              "    60% {\n",
              "      border-color: transparent;\n",
              "      border-right-color: var(--fill-color);\n",
              "    }\n",
              "    80% {\n",
              "      border-color: transparent;\n",
              "      border-right-color: var(--fill-color);\n",
              "      border-bottom-color: var(--fill-color);\n",
              "    }\n",
              "    90% {\n",
              "      border-color: transparent;\n",
              "      border-bottom-color: var(--fill-color);\n",
              "    }\n",
              "  }\n",
              "</style>\n",
              "\n",
              "  <script>\n",
              "    async function quickchart(key) {\n",
              "      const quickchartButtonEl =\n",
              "        document.querySelector('#' + key + ' button');\n",
              "      quickchartButtonEl.disabled = true;  // To prevent multiple clicks.\n",
              "      quickchartButtonEl.classList.add('colab-df-spinner');\n",
              "      try {\n",
              "        const charts = await google.colab.kernel.invokeFunction(\n",
              "            'suggestCharts', [key], {});\n",
              "      } catch (error) {\n",
              "        console.error('Error during call to suggestCharts:', error);\n",
              "      }\n",
              "      quickchartButtonEl.classList.remove('colab-df-spinner');\n",
              "      quickchartButtonEl.classList.add('colab-df-quickchart-complete');\n",
              "    }\n",
              "    (() => {\n",
              "      let quickchartButtonEl =\n",
              "        document.querySelector('#df-1d381594-901d-4688-bd4e-6738b41486c2 button');\n",
              "      quickchartButtonEl.style.display =\n",
              "        google.colab.kernel.accessAllowed ? 'block' : 'none';\n",
              "    })();\n",
              "  </script>\n",
              "</div>\n",
              "    </div>\n",
              "  </div>\n"
            ]
          },
          "metadata": {},
          "execution_count": 3
        }
      ],
      "source": [
        "data = pd.read_csv('/content/drive/MyDrive/recsys/data.csv')\n",
        "data.head()"
      ]
    },
    {
      "cell_type": "code",
      "execution_count": 4,
      "metadata": {
        "id": "jmE3SaYqLuEa"
      },
      "outputs": [],
      "source": [
        "# убираем дубликаты из датасета\n",
        "data.drop_duplicates(keep='first', inplace=True, ignore_index=True)"
      ]
    },
    {
      "cell_type": "code",
      "source": [
        "#убираем неиспользуемые колонки\n",
        "#campaign_clicks не нужна по условию задания\n",
        "#impressions - потому что до этого было выяснено, что там везде одни и те же значения\n",
        "data.drop(columns=['campaign_clicks', 'impressions'], inplace=True)\n",
        "data.head()"
      ],
      "metadata": {
        "colab": {
          "base_uri": "https://localhost:8080/",
          "height": 313
        },
        "id": "57Utm-2zhSR6",
        "outputId": "c2d5de6e-8ab8-4f55-be27-0875c6598738"
      },
      "execution_count": 5,
      "outputs": [
        {
          "output_type": "execute_result",
          "data": {
            "text/plain": [
              "                    date_time  zone_id  banner_id            oaid_hash  os_id  \\\n",
              "0  2021-09-27 00:01:30.000000        0          0  5664530014561852622      0   \n",
              "1  2021-09-26 22:54:49.000000        1          1  5186611064559013950      0   \n",
              "2  2021-09-26 23:57:20.000000        2          2  2215519569292448030      0   \n",
              "3  2021-09-27 00:04:30.000000        3          3  6262169206735077204      1   \n",
              "4  2021-09-27 00:06:21.000000        4          4  4778985830203613115      1   \n",
              "\n",
              "   country_id  banner_id0  rate0        g0  coeff_sum0  banner_id1  rate1  \\\n",
              "0           0        1240  0.067  0.035016   -7.268846           0  0.010   \n",
              "1           1           1  0.002  0.054298   -2.657477         269  0.004   \n",
              "2           0           2  0.014  0.014096   -3.824875          21  0.014   \n",
              "3           1           3  0.012  0.015232   -3.461357          99  0.006   \n",
              "4           0           4  0.019  0.051265   -4.009026    11464230  6.790   \n",
              "\n",
              "         g1  coeff_sum1  clicks  \n",
              "0  0.049516   -5.369901       1  \n",
              "1  0.031942   -4.449220       1  \n",
              "2  0.014906   -3.939309       1  \n",
              "3  0.050671   -3.418403       1  \n",
              "4  0.032005   -2.828797       1  "
            ],
            "text/html": [
              "\n",
              "  <div id=\"df-027d33ad-f58c-49d4-b56e-a7bba98d3403\" class=\"colab-df-container\">\n",
              "    <div>\n",
              "<style scoped>\n",
              "    .dataframe tbody tr th:only-of-type {\n",
              "        vertical-align: middle;\n",
              "    }\n",
              "\n",
              "    .dataframe tbody tr th {\n",
              "        vertical-align: top;\n",
              "    }\n",
              "\n",
              "    .dataframe thead th {\n",
              "        text-align: right;\n",
              "    }\n",
              "</style>\n",
              "<table border=\"1\" class=\"dataframe\">\n",
              "  <thead>\n",
              "    <tr style=\"text-align: right;\">\n",
              "      <th></th>\n",
              "      <th>date_time</th>\n",
              "      <th>zone_id</th>\n",
              "      <th>banner_id</th>\n",
              "      <th>oaid_hash</th>\n",
              "      <th>os_id</th>\n",
              "      <th>country_id</th>\n",
              "      <th>banner_id0</th>\n",
              "      <th>rate0</th>\n",
              "      <th>g0</th>\n",
              "      <th>coeff_sum0</th>\n",
              "      <th>banner_id1</th>\n",
              "      <th>rate1</th>\n",
              "      <th>g1</th>\n",
              "      <th>coeff_sum1</th>\n",
              "      <th>clicks</th>\n",
              "    </tr>\n",
              "  </thead>\n",
              "  <tbody>\n",
              "    <tr>\n",
              "      <th>0</th>\n",
              "      <td>2021-09-27 00:01:30.000000</td>\n",
              "      <td>0</td>\n",
              "      <td>0</td>\n",
              "      <td>5664530014561852622</td>\n",
              "      <td>0</td>\n",
              "      <td>0</td>\n",
              "      <td>1240</td>\n",
              "      <td>0.067</td>\n",
              "      <td>0.035016</td>\n",
              "      <td>-7.268846</td>\n",
              "      <td>0</td>\n",
              "      <td>0.010</td>\n",
              "      <td>0.049516</td>\n",
              "      <td>-5.369901</td>\n",
              "      <td>1</td>\n",
              "    </tr>\n",
              "    <tr>\n",
              "      <th>1</th>\n",
              "      <td>2021-09-26 22:54:49.000000</td>\n",
              "      <td>1</td>\n",
              "      <td>1</td>\n",
              "      <td>5186611064559013950</td>\n",
              "      <td>0</td>\n",
              "      <td>1</td>\n",
              "      <td>1</td>\n",
              "      <td>0.002</td>\n",
              "      <td>0.054298</td>\n",
              "      <td>-2.657477</td>\n",
              "      <td>269</td>\n",
              "      <td>0.004</td>\n",
              "      <td>0.031942</td>\n",
              "      <td>-4.449220</td>\n",
              "      <td>1</td>\n",
              "    </tr>\n",
              "    <tr>\n",
              "      <th>2</th>\n",
              "      <td>2021-09-26 23:57:20.000000</td>\n",
              "      <td>2</td>\n",
              "      <td>2</td>\n",
              "      <td>2215519569292448030</td>\n",
              "      <td>0</td>\n",
              "      <td>0</td>\n",
              "      <td>2</td>\n",
              "      <td>0.014</td>\n",
              "      <td>0.014096</td>\n",
              "      <td>-3.824875</td>\n",
              "      <td>21</td>\n",
              "      <td>0.014</td>\n",
              "      <td>0.014906</td>\n",
              "      <td>-3.939309</td>\n",
              "      <td>1</td>\n",
              "    </tr>\n",
              "    <tr>\n",
              "      <th>3</th>\n",
              "      <td>2021-09-27 00:04:30.000000</td>\n",
              "      <td>3</td>\n",
              "      <td>3</td>\n",
              "      <td>6262169206735077204</td>\n",
              "      <td>1</td>\n",
              "      <td>1</td>\n",
              "      <td>3</td>\n",
              "      <td>0.012</td>\n",
              "      <td>0.015232</td>\n",
              "      <td>-3.461357</td>\n",
              "      <td>99</td>\n",
              "      <td>0.006</td>\n",
              "      <td>0.050671</td>\n",
              "      <td>-3.418403</td>\n",
              "      <td>1</td>\n",
              "    </tr>\n",
              "    <tr>\n",
              "      <th>4</th>\n",
              "      <td>2021-09-27 00:06:21.000000</td>\n",
              "      <td>4</td>\n",
              "      <td>4</td>\n",
              "      <td>4778985830203613115</td>\n",
              "      <td>1</td>\n",
              "      <td>0</td>\n",
              "      <td>4</td>\n",
              "      <td>0.019</td>\n",
              "      <td>0.051265</td>\n",
              "      <td>-4.009026</td>\n",
              "      <td>11464230</td>\n",
              "      <td>6.790</td>\n",
              "      <td>0.032005</td>\n",
              "      <td>-2.828797</td>\n",
              "      <td>1</td>\n",
              "    </tr>\n",
              "  </tbody>\n",
              "</table>\n",
              "</div>\n",
              "    <div class=\"colab-df-buttons\">\n",
              "\n",
              "  <div class=\"colab-df-container\">\n",
              "    <button class=\"colab-df-convert\" onclick=\"convertToInteractive('df-027d33ad-f58c-49d4-b56e-a7bba98d3403')\"\n",
              "            title=\"Convert this dataframe to an interactive table.\"\n",
              "            style=\"display:none;\">\n",
              "\n",
              "  <svg xmlns=\"http://www.w3.org/2000/svg\" height=\"24px\" viewBox=\"0 -960 960 960\">\n",
              "    <path d=\"M120-120v-720h720v720H120Zm60-500h600v-160H180v160Zm220 220h160v-160H400v160Zm0 220h160v-160H400v160ZM180-400h160v-160H180v160Zm440 0h160v-160H620v160ZM180-180h160v-160H180v160Zm440 0h160v-160H620v160Z\"/>\n",
              "  </svg>\n",
              "    </button>\n",
              "\n",
              "  <style>\n",
              "    .colab-df-container {\n",
              "      display:flex;\n",
              "      gap: 12px;\n",
              "    }\n",
              "\n",
              "    .colab-df-convert {\n",
              "      background-color: #E8F0FE;\n",
              "      border: none;\n",
              "      border-radius: 50%;\n",
              "      cursor: pointer;\n",
              "      display: none;\n",
              "      fill: #1967D2;\n",
              "      height: 32px;\n",
              "      padding: 0 0 0 0;\n",
              "      width: 32px;\n",
              "    }\n",
              "\n",
              "    .colab-df-convert:hover {\n",
              "      background-color: #E2EBFA;\n",
              "      box-shadow: 0px 1px 2px rgba(60, 64, 67, 0.3), 0px 1px 3px 1px rgba(60, 64, 67, 0.15);\n",
              "      fill: #174EA6;\n",
              "    }\n",
              "\n",
              "    .colab-df-buttons div {\n",
              "      margin-bottom: 4px;\n",
              "    }\n",
              "\n",
              "    [theme=dark] .colab-df-convert {\n",
              "      background-color: #3B4455;\n",
              "      fill: #D2E3FC;\n",
              "    }\n",
              "\n",
              "    [theme=dark] .colab-df-convert:hover {\n",
              "      background-color: #434B5C;\n",
              "      box-shadow: 0px 1px 3px 1px rgba(0, 0, 0, 0.15);\n",
              "      filter: drop-shadow(0px 1px 2px rgba(0, 0, 0, 0.3));\n",
              "      fill: #FFFFFF;\n",
              "    }\n",
              "  </style>\n",
              "\n",
              "    <script>\n",
              "      const buttonEl =\n",
              "        document.querySelector('#df-027d33ad-f58c-49d4-b56e-a7bba98d3403 button.colab-df-convert');\n",
              "      buttonEl.style.display =\n",
              "        google.colab.kernel.accessAllowed ? 'block' : 'none';\n",
              "\n",
              "      async function convertToInteractive(key) {\n",
              "        const element = document.querySelector('#df-027d33ad-f58c-49d4-b56e-a7bba98d3403');\n",
              "        const dataTable =\n",
              "          await google.colab.kernel.invokeFunction('convertToInteractive',\n",
              "                                                    [key], {});\n",
              "        if (!dataTable) return;\n",
              "\n",
              "        const docLinkHtml = 'Like what you see? Visit the ' +\n",
              "          '<a target=\"_blank\" href=https://colab.research.google.com/notebooks/data_table.ipynb>data table notebook</a>'\n",
              "          + ' to learn more about interactive tables.';\n",
              "        element.innerHTML = '';\n",
              "        dataTable['output_type'] = 'display_data';\n",
              "        await google.colab.output.renderOutput(dataTable, element);\n",
              "        const docLink = document.createElement('div');\n",
              "        docLink.innerHTML = docLinkHtml;\n",
              "        element.appendChild(docLink);\n",
              "      }\n",
              "    </script>\n",
              "  </div>\n",
              "\n",
              "\n",
              "<div id=\"df-a89034f9-82f4-4bdc-9012-985044d246c6\">\n",
              "  <button class=\"colab-df-quickchart\" onclick=\"quickchart('df-a89034f9-82f4-4bdc-9012-985044d246c6')\"\n",
              "            title=\"Suggest charts\"\n",
              "            style=\"display:none;\">\n",
              "\n",
              "<svg xmlns=\"http://www.w3.org/2000/svg\" height=\"24px\"viewBox=\"0 0 24 24\"\n",
              "     width=\"24px\">\n",
              "    <g>\n",
              "        <path d=\"M19 3H5c-1.1 0-2 .9-2 2v14c0 1.1.9 2 2 2h14c1.1 0 2-.9 2-2V5c0-1.1-.9-2-2-2zM9 17H7v-7h2v7zm4 0h-2V7h2v10zm4 0h-2v-4h2v4z\"/>\n",
              "    </g>\n",
              "</svg>\n",
              "  </button>\n",
              "\n",
              "<style>\n",
              "  .colab-df-quickchart {\n",
              "      --bg-color: #E8F0FE;\n",
              "      --fill-color: #1967D2;\n",
              "      --hover-bg-color: #E2EBFA;\n",
              "      --hover-fill-color: #174EA6;\n",
              "      --disabled-fill-color: #AAA;\n",
              "      --disabled-bg-color: #DDD;\n",
              "  }\n",
              "\n",
              "  [theme=dark] .colab-df-quickchart {\n",
              "      --bg-color: #3B4455;\n",
              "      --fill-color: #D2E3FC;\n",
              "      --hover-bg-color: #434B5C;\n",
              "      --hover-fill-color: #FFFFFF;\n",
              "      --disabled-bg-color: #3B4455;\n",
              "      --disabled-fill-color: #666;\n",
              "  }\n",
              "\n",
              "  .colab-df-quickchart {\n",
              "    background-color: var(--bg-color);\n",
              "    border: none;\n",
              "    border-radius: 50%;\n",
              "    cursor: pointer;\n",
              "    display: none;\n",
              "    fill: var(--fill-color);\n",
              "    height: 32px;\n",
              "    padding: 0;\n",
              "    width: 32px;\n",
              "  }\n",
              "\n",
              "  .colab-df-quickchart:hover {\n",
              "    background-color: var(--hover-bg-color);\n",
              "    box-shadow: 0 1px 2px rgba(60, 64, 67, 0.3), 0 1px 3px 1px rgba(60, 64, 67, 0.15);\n",
              "    fill: var(--button-hover-fill-color);\n",
              "  }\n",
              "\n",
              "  .colab-df-quickchart-complete:disabled,\n",
              "  .colab-df-quickchart-complete:disabled:hover {\n",
              "    background-color: var(--disabled-bg-color);\n",
              "    fill: var(--disabled-fill-color);\n",
              "    box-shadow: none;\n",
              "  }\n",
              "\n",
              "  .colab-df-spinner {\n",
              "    border: 2px solid var(--fill-color);\n",
              "    border-color: transparent;\n",
              "    border-bottom-color: var(--fill-color);\n",
              "    animation:\n",
              "      spin 1s steps(1) infinite;\n",
              "  }\n",
              "\n",
              "  @keyframes spin {\n",
              "    0% {\n",
              "      border-color: transparent;\n",
              "      border-bottom-color: var(--fill-color);\n",
              "      border-left-color: var(--fill-color);\n",
              "    }\n",
              "    20% {\n",
              "      border-color: transparent;\n",
              "      border-left-color: var(--fill-color);\n",
              "      border-top-color: var(--fill-color);\n",
              "    }\n",
              "    30% {\n",
              "      border-color: transparent;\n",
              "      border-left-color: var(--fill-color);\n",
              "      border-top-color: var(--fill-color);\n",
              "      border-right-color: var(--fill-color);\n",
              "    }\n",
              "    40% {\n",
              "      border-color: transparent;\n",
              "      border-right-color: var(--fill-color);\n",
              "      border-top-color: var(--fill-color);\n",
              "    }\n",
              "    60% {\n",
              "      border-color: transparent;\n",
              "      border-right-color: var(--fill-color);\n",
              "    }\n",
              "    80% {\n",
              "      border-color: transparent;\n",
              "      border-right-color: var(--fill-color);\n",
              "      border-bottom-color: var(--fill-color);\n",
              "    }\n",
              "    90% {\n",
              "      border-color: transparent;\n",
              "      border-bottom-color: var(--fill-color);\n",
              "    }\n",
              "  }\n",
              "</style>\n",
              "\n",
              "  <script>\n",
              "    async function quickchart(key) {\n",
              "      const quickchartButtonEl =\n",
              "        document.querySelector('#' + key + ' button');\n",
              "      quickchartButtonEl.disabled = true;  // To prevent multiple clicks.\n",
              "      quickchartButtonEl.classList.add('colab-df-spinner');\n",
              "      try {\n",
              "        const charts = await google.colab.kernel.invokeFunction(\n",
              "            'suggestCharts', [key], {});\n",
              "      } catch (error) {\n",
              "        console.error('Error during call to suggestCharts:', error);\n",
              "      }\n",
              "      quickchartButtonEl.classList.remove('colab-df-spinner');\n",
              "      quickchartButtonEl.classList.add('colab-df-quickchart-complete');\n",
              "    }\n",
              "    (() => {\n",
              "      let quickchartButtonEl =\n",
              "        document.querySelector('#df-a89034f9-82f4-4bdc-9012-985044d246c6 button');\n",
              "      quickchartButtonEl.style.display =\n",
              "        google.colab.kernel.accessAllowed ? 'block' : 'none';\n",
              "    })();\n",
              "  </script>\n",
              "</div>\n",
              "    </div>\n",
              "  </div>\n"
            ]
          },
          "metadata": {},
          "execution_count": 5
        }
      ]
    },
    {
      "cell_type": "markdown",
      "metadata": {
        "id": "oB0C2p3OlYpt"
      },
      "source": [
        "#Анализ данных и уже имеющихся фичей"
      ]
    },
    {
      "cell_type": "markdown",
      "metadata": {
        "id": "5pxQNR2jlcPQ"
      },
      "source": [
        "1)date_time - время показа рекламы\n",
        "\n",
        "2)oaid_hash - хэш юзера\n",
        "\n",
        "3)zone_id - id зоны, где зона - место на сайте для размещения рекламы\n",
        "\n",
        "4)banner_id - id баннера, где баннер - сама реклама\n",
        "\n",
        "5)os_id - id операционной системы\n",
        "\n",
        "6)country_id - id страны\n",
        "\n",
        "7)banner_id0 - нулевой баннер в “стакане” баннеров\n",
        "\n",
        "8)banner_id1 - первый баннер в “стакане” баннеров\n",
        "\n",
        "9)rate0 - стоимость 1 клика установленная рекламодателем для banner_id0\n",
        "\n",
        "10)rate1 - стоимость 1 клика установленная рекламодателем для banner_id1\n",
        "\n",
        "11)g0 - стандартное отклонение предикта с banner_id0\n",
        "\n",
        "12)g1 - стандартное отклонение предикта с banner_id1\n",
        "\n",
        "13)coeff_sum0 - сумма коэффициентов для banner_id0\n",
        "\n",
        "14)coeff_sum1 - сумма коэффициентов для banner_id1\n",
        "\n",
        "15)clicks - был ли клик"
      ]
    },
    {
      "cell_type": "code",
      "source": [
        "# проверяем, есть ли отсутствующие значения в данных, считая количество null-ов\n",
        "data.isnull().values.any()"
      ],
      "metadata": {
        "colab": {
          "base_uri": "https://localhost:8080/"
        },
        "id": "BvJDV7idjo-N",
        "outputId": "64cd450d-0b51-4f44-8566-6a4f3ceed0f8"
      },
      "execution_count": 6,
      "outputs": [
        {
          "output_type": "execute_result",
          "data": {
            "text/plain": [
              "True"
            ]
          },
          "metadata": {},
          "execution_count": 6
        }
      ]
    },
    {
      "cell_type": "code",
      "source": [
        "#убираем отсутствующие значения\n",
        "data = data.dropna()\n",
        "#проверяем, что больше нет пустых значений\n",
        "data.isnull().values.any()"
      ],
      "metadata": {
        "colab": {
          "base_uri": "https://localhost:8080/"
        },
        "id": "BKi5MUHEj0zU",
        "outputId": "227da3b4-54ed-4e26-d97d-94f8d74ab5f1"
      },
      "execution_count": 7,
      "outputs": [
        {
          "output_type": "execute_result",
          "data": {
            "text/plain": [
              "False"
            ]
          },
          "metadata": {},
          "execution_count": 7
        }
      ]
    },
    {
      "cell_type": "code",
      "execution_count": 8,
      "metadata": {
        "colab": {
          "base_uri": "https://localhost:8080/",
          "height": 337
        },
        "id": "ZwHAPXvhBWfX",
        "outputId": "23837229-333f-48ff-f57f-78f9c5153481"
      },
      "outputs": [
        {
          "output_type": "execute_result",
          "data": {
            "text/plain": [
              "            zone_id     banner_id     oaid_hash         os_id    country_id  \\\n",
              "count  1.579210e+07  1.579210e+07  1.579210e+07  1.579210e+07  1.579210e+07   \n",
              "mean   8.138077e+01  3.819395e+02  4.610758e+18  1.839023e+00  4.340760e+00   \n",
              "std    1.627681e+02  3.960119e+02  2.663714e+18  1.529273e+00  4.316035e+00   \n",
              "min    0.000000e+00  0.000000e+00  1.116911e+12  0.000000e+00  0.000000e+00   \n",
              "25%    1.400000e+01  5.200000e+01  2.298382e+18  1.000000e+00  0.000000e+00   \n",
              "50%    1.900000e+01  2.200000e+02  4.614496e+18  2.000000e+00  4.000000e+00   \n",
              "75%    6.000000e+01  6.120000e+02  6.914322e+18  3.000000e+00  7.000000e+00   \n",
              "max    3.443000e+03  1.632000e+03  9.223371e+18  1.000000e+01  1.600000e+01   \n",
              "\n",
              "         banner_id0         rate0            g0    coeff_sum0    banner_id1  \\\n",
              "count  1.579210e+07  1.579210e+07  1.579210e+07  1.579210e+07  1.579210e+07   \n",
              "mean   6.583050e+05  1.972793e-01  7.450184e-01 -3.979902e+00  2.593887e+06   \n",
              "std    2.608186e+06  2.735963e+00  1.671604e+01  1.144406e+00  5.222113e+06   \n",
              "min    0.000000e+00  0.000000e+00 -1.763740e-02 -8.419295e+00  0.000000e+00   \n",
              "25%    7.300000e+01  5.000000e-03  1.642467e-02 -4.516250e+00  9.900000e+01   \n",
              "50%    3.050000e+02  1.000000e-02  3.534285e-02 -3.921417e+00  4.600000e+02   \n",
              "75%    7.250000e+02  3.000000e-02  8.013068e-02 -3.421924e+00  1.236000e+03   \n",
              "max    1.146423e+07  1.000000e+02  6.910888e+02  3.149981e-01  1.462360e+07   \n",
              "\n",
              "              rate1            g1    coeff_sum1        clicks  \n",
              "count  1.579210e+07  1.579210e+07  1.579210e+07  1.579210e+07  \n",
              "mean   1.416752e+00  5.486988e-01 -3.968878e+00  2.622768e-02  \n",
              "std    8.691633e+00  1.419356e+01  1.186548e+00  1.598117e-01  \n",
              "min    0.000000e+00 -6.983897e-02 -9.562188e+00  0.000000e+00  \n",
              "25%    4.000000e-03  1.614909e-02 -4.529608e+00  0.000000e+00  \n",
              "50%    1.400000e-02  3.556039e-02 -3.928751e+00  0.000000e+00  \n",
              "75%    5.000000e-02  7.545970e-02 -3.390882e+00  0.000000e+00  \n",
              "max    1.000000e+02  6.910885e+02  4.756181e-01  1.000000e+00  "
            ],
            "text/html": [
              "\n",
              "  <div id=\"df-5c0dbec8-5e5a-421e-a105-fb4bcc7dfb6d\" class=\"colab-df-container\">\n",
              "    <div>\n",
              "<style scoped>\n",
              "    .dataframe tbody tr th:only-of-type {\n",
              "        vertical-align: middle;\n",
              "    }\n",
              "\n",
              "    .dataframe tbody tr th {\n",
              "        vertical-align: top;\n",
              "    }\n",
              "\n",
              "    .dataframe thead th {\n",
              "        text-align: right;\n",
              "    }\n",
              "</style>\n",
              "<table border=\"1\" class=\"dataframe\">\n",
              "  <thead>\n",
              "    <tr style=\"text-align: right;\">\n",
              "      <th></th>\n",
              "      <th>zone_id</th>\n",
              "      <th>banner_id</th>\n",
              "      <th>oaid_hash</th>\n",
              "      <th>os_id</th>\n",
              "      <th>country_id</th>\n",
              "      <th>banner_id0</th>\n",
              "      <th>rate0</th>\n",
              "      <th>g0</th>\n",
              "      <th>coeff_sum0</th>\n",
              "      <th>banner_id1</th>\n",
              "      <th>rate1</th>\n",
              "      <th>g1</th>\n",
              "      <th>coeff_sum1</th>\n",
              "      <th>clicks</th>\n",
              "    </tr>\n",
              "  </thead>\n",
              "  <tbody>\n",
              "    <tr>\n",
              "      <th>count</th>\n",
              "      <td>1.579210e+07</td>\n",
              "      <td>1.579210e+07</td>\n",
              "      <td>1.579210e+07</td>\n",
              "      <td>1.579210e+07</td>\n",
              "      <td>1.579210e+07</td>\n",
              "      <td>1.579210e+07</td>\n",
              "      <td>1.579210e+07</td>\n",
              "      <td>1.579210e+07</td>\n",
              "      <td>1.579210e+07</td>\n",
              "      <td>1.579210e+07</td>\n",
              "      <td>1.579210e+07</td>\n",
              "      <td>1.579210e+07</td>\n",
              "      <td>1.579210e+07</td>\n",
              "      <td>1.579210e+07</td>\n",
              "    </tr>\n",
              "    <tr>\n",
              "      <th>mean</th>\n",
              "      <td>8.138077e+01</td>\n",
              "      <td>3.819395e+02</td>\n",
              "      <td>4.610758e+18</td>\n",
              "      <td>1.839023e+00</td>\n",
              "      <td>4.340760e+00</td>\n",
              "      <td>6.583050e+05</td>\n",
              "      <td>1.972793e-01</td>\n",
              "      <td>7.450184e-01</td>\n",
              "      <td>-3.979902e+00</td>\n",
              "      <td>2.593887e+06</td>\n",
              "      <td>1.416752e+00</td>\n",
              "      <td>5.486988e-01</td>\n",
              "      <td>-3.968878e+00</td>\n",
              "      <td>2.622768e-02</td>\n",
              "    </tr>\n",
              "    <tr>\n",
              "      <th>std</th>\n",
              "      <td>1.627681e+02</td>\n",
              "      <td>3.960119e+02</td>\n",
              "      <td>2.663714e+18</td>\n",
              "      <td>1.529273e+00</td>\n",
              "      <td>4.316035e+00</td>\n",
              "      <td>2.608186e+06</td>\n",
              "      <td>2.735963e+00</td>\n",
              "      <td>1.671604e+01</td>\n",
              "      <td>1.144406e+00</td>\n",
              "      <td>5.222113e+06</td>\n",
              "      <td>8.691633e+00</td>\n",
              "      <td>1.419356e+01</td>\n",
              "      <td>1.186548e+00</td>\n",
              "      <td>1.598117e-01</td>\n",
              "    </tr>\n",
              "    <tr>\n",
              "      <th>min</th>\n",
              "      <td>0.000000e+00</td>\n",
              "      <td>0.000000e+00</td>\n",
              "      <td>1.116911e+12</td>\n",
              "      <td>0.000000e+00</td>\n",
              "      <td>0.000000e+00</td>\n",
              "      <td>0.000000e+00</td>\n",
              "      <td>0.000000e+00</td>\n",
              "      <td>-1.763740e-02</td>\n",
              "      <td>-8.419295e+00</td>\n",
              "      <td>0.000000e+00</td>\n",
              "      <td>0.000000e+00</td>\n",
              "      <td>-6.983897e-02</td>\n",
              "      <td>-9.562188e+00</td>\n",
              "      <td>0.000000e+00</td>\n",
              "    </tr>\n",
              "    <tr>\n",
              "      <th>25%</th>\n",
              "      <td>1.400000e+01</td>\n",
              "      <td>5.200000e+01</td>\n",
              "      <td>2.298382e+18</td>\n",
              "      <td>1.000000e+00</td>\n",
              "      <td>0.000000e+00</td>\n",
              "      <td>7.300000e+01</td>\n",
              "      <td>5.000000e-03</td>\n",
              "      <td>1.642467e-02</td>\n",
              "      <td>-4.516250e+00</td>\n",
              "      <td>9.900000e+01</td>\n",
              "      <td>4.000000e-03</td>\n",
              "      <td>1.614909e-02</td>\n",
              "      <td>-4.529608e+00</td>\n",
              "      <td>0.000000e+00</td>\n",
              "    </tr>\n",
              "    <tr>\n",
              "      <th>50%</th>\n",
              "      <td>1.900000e+01</td>\n",
              "      <td>2.200000e+02</td>\n",
              "      <td>4.614496e+18</td>\n",
              "      <td>2.000000e+00</td>\n",
              "      <td>4.000000e+00</td>\n",
              "      <td>3.050000e+02</td>\n",
              "      <td>1.000000e-02</td>\n",
              "      <td>3.534285e-02</td>\n",
              "      <td>-3.921417e+00</td>\n",
              "      <td>4.600000e+02</td>\n",
              "      <td>1.400000e-02</td>\n",
              "      <td>3.556039e-02</td>\n",
              "      <td>-3.928751e+00</td>\n",
              "      <td>0.000000e+00</td>\n",
              "    </tr>\n",
              "    <tr>\n",
              "      <th>75%</th>\n",
              "      <td>6.000000e+01</td>\n",
              "      <td>6.120000e+02</td>\n",
              "      <td>6.914322e+18</td>\n",
              "      <td>3.000000e+00</td>\n",
              "      <td>7.000000e+00</td>\n",
              "      <td>7.250000e+02</td>\n",
              "      <td>3.000000e-02</td>\n",
              "      <td>8.013068e-02</td>\n",
              "      <td>-3.421924e+00</td>\n",
              "      <td>1.236000e+03</td>\n",
              "      <td>5.000000e-02</td>\n",
              "      <td>7.545970e-02</td>\n",
              "      <td>-3.390882e+00</td>\n",
              "      <td>0.000000e+00</td>\n",
              "    </tr>\n",
              "    <tr>\n",
              "      <th>max</th>\n",
              "      <td>3.443000e+03</td>\n",
              "      <td>1.632000e+03</td>\n",
              "      <td>9.223371e+18</td>\n",
              "      <td>1.000000e+01</td>\n",
              "      <td>1.600000e+01</td>\n",
              "      <td>1.146423e+07</td>\n",
              "      <td>1.000000e+02</td>\n",
              "      <td>6.910888e+02</td>\n",
              "      <td>3.149981e-01</td>\n",
              "      <td>1.462360e+07</td>\n",
              "      <td>1.000000e+02</td>\n",
              "      <td>6.910885e+02</td>\n",
              "      <td>4.756181e-01</td>\n",
              "      <td>1.000000e+00</td>\n",
              "    </tr>\n",
              "  </tbody>\n",
              "</table>\n",
              "</div>\n",
              "    <div class=\"colab-df-buttons\">\n",
              "\n",
              "  <div class=\"colab-df-container\">\n",
              "    <button class=\"colab-df-convert\" onclick=\"convertToInteractive('df-5c0dbec8-5e5a-421e-a105-fb4bcc7dfb6d')\"\n",
              "            title=\"Convert this dataframe to an interactive table.\"\n",
              "            style=\"display:none;\">\n",
              "\n",
              "  <svg xmlns=\"http://www.w3.org/2000/svg\" height=\"24px\" viewBox=\"0 -960 960 960\">\n",
              "    <path d=\"M120-120v-720h720v720H120Zm60-500h600v-160H180v160Zm220 220h160v-160H400v160Zm0 220h160v-160H400v160ZM180-400h160v-160H180v160Zm440 0h160v-160H620v160ZM180-180h160v-160H180v160Zm440 0h160v-160H620v160Z\"/>\n",
              "  </svg>\n",
              "    </button>\n",
              "\n",
              "  <style>\n",
              "    .colab-df-container {\n",
              "      display:flex;\n",
              "      gap: 12px;\n",
              "    }\n",
              "\n",
              "    .colab-df-convert {\n",
              "      background-color: #E8F0FE;\n",
              "      border: none;\n",
              "      border-radius: 50%;\n",
              "      cursor: pointer;\n",
              "      display: none;\n",
              "      fill: #1967D2;\n",
              "      height: 32px;\n",
              "      padding: 0 0 0 0;\n",
              "      width: 32px;\n",
              "    }\n",
              "\n",
              "    .colab-df-convert:hover {\n",
              "      background-color: #E2EBFA;\n",
              "      box-shadow: 0px 1px 2px rgba(60, 64, 67, 0.3), 0px 1px 3px 1px rgba(60, 64, 67, 0.15);\n",
              "      fill: #174EA6;\n",
              "    }\n",
              "\n",
              "    .colab-df-buttons div {\n",
              "      margin-bottom: 4px;\n",
              "    }\n",
              "\n",
              "    [theme=dark] .colab-df-convert {\n",
              "      background-color: #3B4455;\n",
              "      fill: #D2E3FC;\n",
              "    }\n",
              "\n",
              "    [theme=dark] .colab-df-convert:hover {\n",
              "      background-color: #434B5C;\n",
              "      box-shadow: 0px 1px 3px 1px rgba(0, 0, 0, 0.15);\n",
              "      filter: drop-shadow(0px 1px 2px rgba(0, 0, 0, 0.3));\n",
              "      fill: #FFFFFF;\n",
              "    }\n",
              "  </style>\n",
              "\n",
              "    <script>\n",
              "      const buttonEl =\n",
              "        document.querySelector('#df-5c0dbec8-5e5a-421e-a105-fb4bcc7dfb6d button.colab-df-convert');\n",
              "      buttonEl.style.display =\n",
              "        google.colab.kernel.accessAllowed ? 'block' : 'none';\n",
              "\n",
              "      async function convertToInteractive(key) {\n",
              "        const element = document.querySelector('#df-5c0dbec8-5e5a-421e-a105-fb4bcc7dfb6d');\n",
              "        const dataTable =\n",
              "          await google.colab.kernel.invokeFunction('convertToInteractive',\n",
              "                                                    [key], {});\n",
              "        if (!dataTable) return;\n",
              "\n",
              "        const docLinkHtml = 'Like what you see? Visit the ' +\n",
              "          '<a target=\"_blank\" href=https://colab.research.google.com/notebooks/data_table.ipynb>data table notebook</a>'\n",
              "          + ' to learn more about interactive tables.';\n",
              "        element.innerHTML = '';\n",
              "        dataTable['output_type'] = 'display_data';\n",
              "        await google.colab.output.renderOutput(dataTable, element);\n",
              "        const docLink = document.createElement('div');\n",
              "        docLink.innerHTML = docLinkHtml;\n",
              "        element.appendChild(docLink);\n",
              "      }\n",
              "    </script>\n",
              "  </div>\n",
              "\n",
              "\n",
              "<div id=\"df-3f892163-b5d9-4674-8d29-7d604d33b6f5\">\n",
              "  <button class=\"colab-df-quickchart\" onclick=\"quickchart('df-3f892163-b5d9-4674-8d29-7d604d33b6f5')\"\n",
              "            title=\"Suggest charts\"\n",
              "            style=\"display:none;\">\n",
              "\n",
              "<svg xmlns=\"http://www.w3.org/2000/svg\" height=\"24px\"viewBox=\"0 0 24 24\"\n",
              "     width=\"24px\">\n",
              "    <g>\n",
              "        <path d=\"M19 3H5c-1.1 0-2 .9-2 2v14c0 1.1.9 2 2 2h14c1.1 0 2-.9 2-2V5c0-1.1-.9-2-2-2zM9 17H7v-7h2v7zm4 0h-2V7h2v10zm4 0h-2v-4h2v4z\"/>\n",
              "    </g>\n",
              "</svg>\n",
              "  </button>\n",
              "\n",
              "<style>\n",
              "  .colab-df-quickchart {\n",
              "      --bg-color: #E8F0FE;\n",
              "      --fill-color: #1967D2;\n",
              "      --hover-bg-color: #E2EBFA;\n",
              "      --hover-fill-color: #174EA6;\n",
              "      --disabled-fill-color: #AAA;\n",
              "      --disabled-bg-color: #DDD;\n",
              "  }\n",
              "\n",
              "  [theme=dark] .colab-df-quickchart {\n",
              "      --bg-color: #3B4455;\n",
              "      --fill-color: #D2E3FC;\n",
              "      --hover-bg-color: #434B5C;\n",
              "      --hover-fill-color: #FFFFFF;\n",
              "      --disabled-bg-color: #3B4455;\n",
              "      --disabled-fill-color: #666;\n",
              "  }\n",
              "\n",
              "  .colab-df-quickchart {\n",
              "    background-color: var(--bg-color);\n",
              "    border: none;\n",
              "    border-radius: 50%;\n",
              "    cursor: pointer;\n",
              "    display: none;\n",
              "    fill: var(--fill-color);\n",
              "    height: 32px;\n",
              "    padding: 0;\n",
              "    width: 32px;\n",
              "  }\n",
              "\n",
              "  .colab-df-quickchart:hover {\n",
              "    background-color: var(--hover-bg-color);\n",
              "    box-shadow: 0 1px 2px rgba(60, 64, 67, 0.3), 0 1px 3px 1px rgba(60, 64, 67, 0.15);\n",
              "    fill: var(--button-hover-fill-color);\n",
              "  }\n",
              "\n",
              "  .colab-df-quickchart-complete:disabled,\n",
              "  .colab-df-quickchart-complete:disabled:hover {\n",
              "    background-color: var(--disabled-bg-color);\n",
              "    fill: var(--disabled-fill-color);\n",
              "    box-shadow: none;\n",
              "  }\n",
              "\n",
              "  .colab-df-spinner {\n",
              "    border: 2px solid var(--fill-color);\n",
              "    border-color: transparent;\n",
              "    border-bottom-color: var(--fill-color);\n",
              "    animation:\n",
              "      spin 1s steps(1) infinite;\n",
              "  }\n",
              "\n",
              "  @keyframes spin {\n",
              "    0% {\n",
              "      border-color: transparent;\n",
              "      border-bottom-color: var(--fill-color);\n",
              "      border-left-color: var(--fill-color);\n",
              "    }\n",
              "    20% {\n",
              "      border-color: transparent;\n",
              "      border-left-color: var(--fill-color);\n",
              "      border-top-color: var(--fill-color);\n",
              "    }\n",
              "    30% {\n",
              "      border-color: transparent;\n",
              "      border-left-color: var(--fill-color);\n",
              "      border-top-color: var(--fill-color);\n",
              "      border-right-color: var(--fill-color);\n",
              "    }\n",
              "    40% {\n",
              "      border-color: transparent;\n",
              "      border-right-color: var(--fill-color);\n",
              "      border-top-color: var(--fill-color);\n",
              "    }\n",
              "    60% {\n",
              "      border-color: transparent;\n",
              "      border-right-color: var(--fill-color);\n",
              "    }\n",
              "    80% {\n",
              "      border-color: transparent;\n",
              "      border-right-color: var(--fill-color);\n",
              "      border-bottom-color: var(--fill-color);\n",
              "    }\n",
              "    90% {\n",
              "      border-color: transparent;\n",
              "      border-bottom-color: var(--fill-color);\n",
              "    }\n",
              "  }\n",
              "</style>\n",
              "\n",
              "  <script>\n",
              "    async function quickchart(key) {\n",
              "      const quickchartButtonEl =\n",
              "        document.querySelector('#' + key + ' button');\n",
              "      quickchartButtonEl.disabled = true;  // To prevent multiple clicks.\n",
              "      quickchartButtonEl.classList.add('colab-df-spinner');\n",
              "      try {\n",
              "        const charts = await google.colab.kernel.invokeFunction(\n",
              "            'suggestCharts', [key], {});\n",
              "      } catch (error) {\n",
              "        console.error('Error during call to suggestCharts:', error);\n",
              "      }\n",
              "      quickchartButtonEl.classList.remove('colab-df-spinner');\n",
              "      quickchartButtonEl.classList.add('colab-df-quickchart-complete');\n",
              "    }\n",
              "    (() => {\n",
              "      let quickchartButtonEl =\n",
              "        document.querySelector('#df-3f892163-b5d9-4674-8d29-7d604d33b6f5 button');\n",
              "      quickchartButtonEl.style.display =\n",
              "        google.colab.kernel.accessAllowed ? 'block' : 'none';\n",
              "    })();\n",
              "  </script>\n",
              "</div>\n",
              "    </div>\n",
              "  </div>\n"
            ]
          },
          "metadata": {},
          "execution_count": 8
        }
      ],
      "source": [
        "# смотрим на описательные статистики для значений в колонках\n",
        "data.describe()"
      ]
    },
    {
      "cell_type": "markdown",
      "metadata": {
        "id": "tMgBgWPDe_LL"
      },
      "source": [
        "## zone_id"
      ]
    },
    {
      "cell_type": "code",
      "execution_count": null,
      "metadata": {
        "colab": {
          "base_uri": "https://localhost:8080/",
          "height": 653
        },
        "id": "g48d_tTFP5rt",
        "outputId": "ee04d289-2473-4284-aa74-c803fb44a9ca"
      },
      "outputs": [
        {
          "name": "stdout",
          "output_type": "stream",
          "text": [
            "17      2278255\n",
            "14      1637564\n",
            "12       735868\n",
            "0        708260\n",
            "19       693121\n",
            "         ...   \n",
            "2186          1\n",
            "2188          1\n",
            "2518          1\n",
            "2962          1\n",
            "3443          1\n",
            "Name: zone_id, Length: 3444, dtype: int64\n"
          ]
        },
        {
          "data": {
            "image/png": "[encoded data removed]",
            "text/plain": [
              "<Figure size 640x480 with 1 Axes>"
            ]
          },
          "metadata": {},
          "output_type": "display_data"
        }
      ],
      "source": [
        "print(data['zone_id'].value_counts())\n",
        "plt.hist(data['zone_id'], bins=100)\n",
        "plt.show()"
      ]
    },
    {
      "cell_type": "markdown",
      "metadata": {
        "id": "1DEgNpwSUsys"
      },
      "source": [
        "Видим, что есть как и очень популярные зоны, так и очень редкие, встречающиеся по одному разу. По сути имеем категориальную фичу с большим количеством категорий, нужно будет применить техники уменьшения размерности, например, hashing trick"
      ]
    },
    {
      "cell_type": "code",
      "execution_count": null,
      "metadata": {
        "id": "RbaRsCm8YDZj"
      },
      "outputs": [],
      "source": [
        "for value, count in data['zone_id'].value_counts().items():\n",
        "  print(f\"id = {value}, count = {count}\")"
      ]
    },
    {
      "cell_type": "markdown",
      "metadata": {
        "id": "eJpjwcrufCbt"
      },
      "source": [
        "##banner_id"
      ]
    },
    {
      "cell_type": "code",
      "execution_count": null,
      "metadata": {
        "colab": {
          "base_uri": "https://localhost:8080/",
          "height": 653
        },
        "id": "2symqx9vSQXN",
        "outputId": "92eece0a-e01a-4810-842b-0395a3b85432"
      },
      "outputs": [
        {
          "name": "stdout",
          "output_type": "stream",
          "text": [
            "22      613230\n",
            "361     387324\n",
            "3       286891\n",
            "18      262848\n",
            "21      246069\n",
            "         ...  \n",
            "1501         1\n",
            "1503         1\n",
            "1504         1\n",
            "1507         1\n",
            "1632         1\n",
            "Name: banner_id, Length: 1633, dtype: int64\n"
          ]
        },
        {
          "data": {
            "image/png": "[encoded data removed]",
            "text/plain": [
              "<Figure size 640x480 with 1 Axes>"
            ]
          },
          "metadata": {},
          "output_type": "display_data"
        }
      ],
      "source": [
        "print(data['banner_id'].value_counts())\n",
        "plt.hist(data['banner_id'], bins=100)\n",
        "plt.show()"
      ]
    },
    {
      "cell_type": "markdown",
      "metadata": {
        "id": "L7pHCfUZbiOG"
      },
      "source": [
        "Тут тоже видим редкие banner_id."
      ]
    },
    {
      "cell_type": "code",
      "execution_count": null,
      "metadata": {
        "id": "QwHenziwbq_T"
      },
      "outputs": [],
      "source": [
        "for value, count in data['banner_id'].value_counts().items():\n",
        "  print(f\"id = {value}, count = {count}\")"
      ]
    },
    {
      "cell_type": "code",
      "execution_count": null,
      "metadata": {
        "colab": {
          "base_uri": "https://localhost:8080/",
          "height": 653
        },
        "id": "TKVjCwajT33l",
        "outputId": "c12e4b39-b87b-4af9-eb54-0e1af4d70718"
      },
      "outputs": [
        {
          "name": "stdout",
          "output_type": "stream",
          "text": [
            "0      13674351\n",
            "1       1236020\n",
            "2        342680\n",
            "3        173411\n",
            "4        100219\n",
            "         ...   \n",
            "791           1\n",
            "829           1\n",
            "820           1\n",
            "803           1\n",
            "828           1\n",
            "Name: campaign_clicks, Length: 822, dtype: int64\n"
          ]
        },
        {
          "data": {
            "image/png": "[encoded data removed]",
            "text/plain": [
              "<Figure size 640x480 with 1 Axes>"
            ]
          },
          "metadata": {},
          "output_type": "display_data"
        }
      ],
      "source": [
        "print(data['campaign_clicks'].value_counts())\n",
        "plt.hist(data['campaign_clicks'], bins=100)\n",
        "plt.show()"
      ]
    },
    {
      "cell_type": "markdown",
      "metadata": {
        "id": "zVQ4p8xrdSig"
      },
      "source": [
        "Это числовая, а не категориальная фича, нужно нормализовать ее"
      ]
    },
    {
      "cell_type": "markdown",
      "metadata": {
        "id": "DE65T1nUfLi4"
      },
      "source": [
        "##os_id"
      ]
    },
    {
      "cell_type": "code",
      "execution_count": null,
      "metadata": {
        "colab": {
          "base_uri": "https://localhost:8080/"
        },
        "id": "BBMx8mLWdbMS",
        "outputId": "6878633d-3ec2-4ab2-d074-7fb3c640e6db"
      },
      "outputs": [
        {
          "data": {
            "text/plain": [
              "2     4585585\n",
              "0     3855517\n",
              "1     3177765\n",
              "4     3011011\n",
              "3      758593\n",
              "6      310110\n",
              "5      111859\n",
              "8        1272\n",
              "7          99\n",
              "9          25\n",
              "10          5\n",
              "Name: os_id, dtype: int64"
            ]
          },
          "execution_count": 12,
          "metadata": {},
          "output_type": "execute_result"
        }
      ],
      "source": [
        "data['os_id'].value_counts()"
      ]
    },
    {
      "cell_type": "markdown",
      "metadata": {
        "id": "Vu_AFs-SdrUE"
      },
      "source": [
        "Видим, что это категориальная фича c маленьким количеством фичей.Применим one-hot-encoding. Можно объединить 7, 8, 9, 10 лейблы в одну\n",
        "категорию 'other', так как для них примеров значительно меньше, чем для остальных категорий."
      ]
    },
    {
      "cell_type": "markdown",
      "metadata": {
        "id": "uwXMBVerfhCY"
      },
      "source": [
        "##country_id"
      ]
    },
    {
      "cell_type": "code",
      "execution_count": null,
      "metadata": {
        "colab": {
          "base_uri": "https://localhost:8080/"
        },
        "id": "5ud9iCJ3e5-p",
        "outputId": "24846cfa-0329-45ba-9799-05800829720d"
      },
      "outputs": [
        {
          "data": {
            "text/plain": [
              "0     4953404\n",
              "5     1908101\n",
              "6     1581894\n",
              "7     1524483\n",
              "1     1345737\n",
              "3     1336892\n",
              "15     602956\n",
              "12     477813\n",
              "9      438747\n",
              "4      388714\n",
              "10     356178\n",
              "11     212106\n",
              "8      210086\n",
              "13     190786\n",
              "14     138313\n",
              "16      79113\n",
              "2       66518\n",
              "Name: country_id, dtype: int64"
            ]
          },
          "execution_count": 13,
          "metadata": {},
          "output_type": "execute_result"
        }
      ],
      "source": [
        "data['country_id'].value_counts()"
      ]
    },
    {
      "cell_type": "markdown",
      "metadata": {
        "id": "KNJ7b-uFfpz0"
      },
      "source": [
        "Тоже категориальная фича => one-hot-encoding"
      ]
    },
    {
      "cell_type": "markdown",
      "metadata": {
        "id": "8pLccqRCfvLW"
      },
      "source": [
        "##date_time"
      ]
    },
    {
      "cell_type": "code",
      "execution_count": 43,
      "metadata": {
        "colab": {
          "base_uri": "https://localhost:8080/"
        },
        "id": "p8XUm_WHgIj9",
        "outputId": "26179377-8b0f-40d7-a90c-4ac438bbad73"
      },
      "outputs": [
        {
          "output_type": "execute_result",
          "data": {
            "text/plain": [
              "2021-09-26    3095582\n",
              "2021-09-29    2418391\n",
              "2021-09-27    2362615\n",
              "2021-09-28    2304751\n",
              "2021-10-02    2122891\n",
              "2021-09-30    1846178\n",
              "2021-10-01    1641688\n",
              "2021-09-01          1\n",
              "Name: date_time, dtype: int64"
            ]
          },
          "metadata": {},
          "execution_count": 43
        }
      ],
      "source": [
        "#смотрим, как данные распределены по отдельным дням\n",
        "pd.to_datetime(data['date_time']).dt.date.value_counts()"
      ]
    },
    {
      "cell_type": "markdown",
      "metadata": {
        "id": "-keFz15jgrYs"
      },
      "source": [
        "Видим, что последняя дата 2021-09-01 явно лишняя в выборке и попала сюда как-то случайно, так как остальные даты идут последовательно друг за другом, уберем этот пример из датасета."
      ]
    },
    {
      "cell_type": "code",
      "source": [
        "#фильтруем выброс\n",
        "data = data[data['date_time'] > '2021-09-01']"
      ],
      "metadata": {
        "id": "ZTayb7bXmDV9"
      },
      "execution_count": 9,
      "outputs": []
    },
    {
      "cell_type": "code",
      "execution_count": 10,
      "metadata": {
        "id": "cc_VpBNG9X9F"
      },
      "outputs": [],
      "source": [
        "#добавляем колонку дата показа\n",
        "data['date'] = pd.to_datetime(data['date_time']).dt.date"
      ]
    },
    {
      "cell_type": "code",
      "execution_count": 48,
      "metadata": {
        "colab": {
          "base_uri": "https://localhost:8080/",
          "height": 445
        },
        "id": "-eL5Gi3d1kDL",
        "outputId": "9c0ad981-2511-4574-daba-16ef5c02b602"
      },
      "outputs": [
        {
          "output_type": "display_data",
          "data": {
            "text/plain": [
              "<Figure size 640x480 with 1 Axes>"
            ],
            "image/png": "[encoded data removed]"
          },
          "metadata": {}
        }
      ],
      "source": [
        "#смотрим, как данные распределены по отдельным часам\n",
        "pd.to_datetime(data['date_time']).dt.hour.value_counts()\n",
        "plt.hist(pd.to_datetime(data['date_time']).dt.hour, bins=24)\n",
        "plt.show()"
      ]
    },
    {
      "cell_type": "markdown",
      "metadata": {
        "id": "W7WL2hcC2S6m"
      },
      "source": [
        "Мне кажется, есть смысл попробовать взять в качестве фичи время, в которое была показана реклама, потому что поведение человека меняется в течение дня, что влияет на контент, который ему интересен в текущий момент (например, в среднем,днем люди заняты работой или учебой, а вечером и ночью они отдыхают, просматривают соцсети и тд => с большей вероятностью кликнут на заинтересовавшую их рекламу)"
      ]
    },
    {
      "cell_type": "code",
      "execution_count": 11,
      "metadata": {
        "id": "jIkCUYu68vTO"
      },
      "outputs": [],
      "source": [
        "#добавляем колонку время показа\n",
        "data['hour'] = pd.to_datetime(data['date_time']).dt.hour"
      ]
    },
    {
      "cell_type": "code",
      "execution_count": 12,
      "metadata": {
        "id": "8fFzjIhy-cxI"
      },
      "outputs": [],
      "source": [
        "#убираем колонку date_time\n",
        "data.drop(columns = ['date_time'], inplace=True)"
      ]
    },
    {
      "cell_type": "markdown",
      "source": [
        "## oaid_hash"
      ],
      "metadata": {
        "id": "nWJ12f1Gi5gF"
      }
    },
    {
      "cell_type": "code",
      "source": [
        "print(data['oaid_hash'].value_counts())\n",
        "plt.hist(data['oaid_hash'], bins=100)\n",
        "plt.show()"
      ],
      "metadata": {
        "colab": {
          "base_uri": "https://localhost:8080/",
          "height": 656
        },
        "id": "guwr1X3Qi_61",
        "outputId": "0eeaa14e-c401-4808-b287-4f2a84b9e4f1"
      },
      "execution_count": 23,
      "outputs": [
        {
          "output_type": "stream",
          "name": "stdout",
          "text": [
            "308174966294367527     5243\n",
            "2890718152668627077    2511\n",
            "2521895603443866206    2254\n",
            "8212556321845734673    1974\n",
            "3375698397737628939    1959\n",
            "                       ... \n",
            "9108107090229728286       1\n",
            "443212642642848410        1\n",
            "8787149787557120223       1\n",
            "7907202475581442443       1\n",
            "453968700792456599        1\n",
            "Name: oaid_hash, Length: 6510316, dtype: int64\n"
          ]
        },
        {
          "output_type": "display_data",
          "data": {
            "text/plain": [
              "<Figure size 640x480 with 1 Axes>"
            ],
            "image/png": "[encoded data removed]"
          },
          "metadata": {}
        }
      ]
    },
    {
      "cell_type": "markdown",
      "source": [
        "## g0 и g1 - стандартные отклонения"
      ],
      "metadata": {
        "id": "YRvlH0HcjfBv"
      }
    },
    {
      "cell_type": "code",
      "source": [
        "plt.hist(data['g0'], bins=10)\n",
        "plt.show()"
      ],
      "metadata": {
        "colab": {
          "base_uri": "https://localhost:8080/",
          "height": 445
        },
        "id": "pNseRJopnq86",
        "outputId": "8f58e3fa-27e4-4d09-8863-e809a9f53120"
      },
      "execution_count": 59,
      "outputs": [
        {
          "output_type": "display_data",
          "data": {
            "text/plain": [
              "<Figure size 640x480 with 1 Axes>"
            ],
            "image/png": "[encoded data removed]"
          },
          "metadata": {}
        }
      ]
    },
    {
      "cell_type": "code",
      "source": [
        "plt.hist(data['g1'], bins=10)\n",
        "plt.show()"
      ],
      "metadata": {
        "colab": {
          "base_uri": "https://localhost:8080/",
          "height": 445
        },
        "id": "nUKuTs6PoHd7",
        "outputId": "aec2c63d-5292-4971-f164-bc2fc7099668"
      },
      "execution_count": 60,
      "outputs": [
        {
          "output_type": "display_data",
          "data": {
            "text/plain": [
              "<Figure size 640x480 with 1 Axes>"
            ],
            "image/png": "[encoded data removed]"
          },
          "metadata": {}
        }
      ]
    },
    {
      "cell_type": "markdown",
      "metadata": {
        "id": "WT8Svv107tNf"
      },
      "source": [
        "##correlation matrix\n",
        "На всякий случай, проверим, что у нас нет явной коррелирующих фичей"
      ]
    },
    {
      "cell_type": "code",
      "execution_count": 13,
      "metadata": {
        "colab": {
          "base_uri": "https://localhost:8080/",
          "height": 574
        },
        "id": "KrZQ5XKe8EmZ",
        "outputId": "2ab41ae2-ea20-41d0-e5a9-a3c06c83d508"
      },
      "outputs": [
        {
          "output_type": "stream",
          "name": "stderr",
          "text": [
            "<ipython-input-13-c44ded798807>:1: FutureWarning: The default value of numeric_only in DataFrame.corr is deprecated. In a future version, it will default to False. Select only valid columns or specify the value of numeric_only to silence this warning.\n",
            "  data.corr()\n"
          ]
        },
        {
          "output_type": "execute_result",
          "data": {
            "text/plain": [
              "             zone_id  banner_id  oaid_hash     os_id  country_id  banner_id0  \\\n",
              "zone_id     1.000000  -0.035966  -0.003782  0.003906    0.145423   -0.010412   \n",
              "banner_id  -0.035966   1.000000   0.000633  0.041216   -0.126151   -0.082290   \n",
              "oaid_hash  -0.003782   0.000633   1.000000 -0.001375   -0.001422    0.001251   \n",
              "os_id       0.003906   0.041216  -0.001375  1.000000    0.039507   -0.004306   \n",
              "country_id  0.145423  -0.126151  -0.001422  0.039507    1.000000    0.047013   \n",
              "banner_id0 -0.010412  -0.082290   0.001251 -0.004306    0.047013    1.000000   \n",
              "rate0      -0.005160   0.002299   0.000440  0.013647   -0.008307    0.259994   \n",
              "g0          0.039482   0.029866  -0.000238 -0.024700    0.010034   -0.010557   \n",
              "coeff_sum0  0.037682  -0.352541  -0.000168  0.142504    0.173660    0.417413   \n",
              "banner_id1 -0.007068  -0.084731   0.001747  0.075067   -0.028146   -0.115947   \n",
              "rate1      -0.016703  -0.005866   0.000903  0.036169   -0.011223   -0.040071   \n",
              "g1          0.039376   0.020978  -0.000184 -0.023759    0.009256   -0.002822   \n",
              "coeff_sum1  0.042875  -0.257455  -0.000126  0.108331    0.139835   -0.051097   \n",
              "clicks     -0.024045  -0.050575   0.000335  0.039757   -0.004668    0.001838   \n",
              "hour        0.054150  -0.054704  -0.001145 -0.015301    0.186562    0.061577   \n",
              "\n",
              "               rate0        g0  coeff_sum0  banner_id1     rate1        g1  \\\n",
              "zone_id    -0.005160  0.039482    0.037682   -0.007068 -0.016703  0.039376   \n",
              "banner_id   0.002299  0.029866   -0.352541   -0.084731 -0.005866  0.020978   \n",
              "oaid_hash   0.000440 -0.000238   -0.000168    0.001747  0.000903 -0.000184   \n",
              "os_id       0.013647 -0.024700    0.142504    0.075067  0.036169 -0.023759   \n",
              "country_id -0.008307  0.010034    0.173660   -0.028146 -0.011223  0.009256   \n",
              "banner_id0  0.259994 -0.010557    0.417413   -0.115947 -0.040071 -0.002822   \n",
              "rate0       1.000000 -0.002943    0.042873   -0.029286 -0.010629  0.000645   \n",
              "g0         -0.002943  1.000000    0.015144   -0.006082 -0.002103  0.760437   \n",
              "coeff_sum0  0.042873  0.015144    1.000000    0.000569 -0.003181  0.014123   \n",
              "banner_id1 -0.029286 -0.006082    0.000569    1.000000  0.322065 -0.017762   \n",
              "rate1      -0.010629 -0.002103   -0.003181    0.322065  1.000000 -0.006056   \n",
              "g1          0.000645  0.760437    0.014123   -0.017762 -0.006056  1.000000   \n",
              "coeff_sum1 -0.003775  0.016704    0.495136    0.475516  0.076700  0.011661   \n",
              "clicks     -0.000872  0.001553    0.118360   -0.009247 -0.002102  0.001926   \n",
              "hour        0.008435  0.019768    0.102454    0.008470 -0.026907  0.018183   \n",
              "\n",
              "            coeff_sum1    clicks      hour  \n",
              "zone_id       0.042875 -0.024045  0.054150  \n",
              "banner_id    -0.257455 -0.050575 -0.054704  \n",
              "oaid_hash    -0.000126  0.000335 -0.001145  \n",
              "os_id         0.108331  0.039757 -0.015301  \n",
              "country_id    0.139835 -0.004668  0.186562  \n",
              "banner_id0   -0.051097  0.001838  0.061577  \n",
              "rate0        -0.003775 -0.000872  0.008435  \n",
              "g0            0.016704  0.001553  0.019768  \n",
              "coeff_sum0    0.495136  0.118360  0.102454  \n",
              "banner_id1    0.475516 -0.009247  0.008470  \n",
              "rate1         0.076700 -0.002102 -0.026907  \n",
              "g1            0.011661  0.001926  0.018183  \n",
              "coeff_sum1    1.000000  0.076902  0.051670  \n",
              "clicks        0.076902  1.000000  0.005693  \n",
              "hour          0.051670  0.005693  1.000000  "
            ],
            "text/html": [
              "\n",
              "  <div id=\"df-99a1e8a5-b32b-4254-b170-0a669b51c0eb\" class=\"colab-df-container\">\n",
              "    <div>\n",
              "<style scoped>\n",
              "    .dataframe tbody tr th:only-of-type {\n",
              "        vertical-align: middle;\n",
              "    }\n",
              "\n",
              "    .dataframe tbody tr th {\n",
              "        vertical-align: top;\n",
              "    }\n",
              "\n",
              "    .dataframe thead th {\n",
              "        text-align: right;\n",
              "    }\n",
              "</style>\n",
              "<table border=\"1\" class=\"dataframe\">\n",
              "  <thead>\n",
              "    <tr style=\"text-align: right;\">\n",
              "      <th></th>\n",
              "      <th>zone_id</th>\n",
              "      <th>banner_id</th>\n",
              "      <th>oaid_hash</th>\n",
              "      <th>os_id</th>\n",
              "      <th>country_id</th>\n",
              "      <th>banner_id0</th>\n",
              "      <th>rate0</th>\n",
              "      <th>g0</th>\n",
              "      <th>coeff_sum0</th>\n",
              "      <th>banner_id1</th>\n",
              "      <th>rate1</th>\n",
              "      <th>g1</th>\n",
              "      <th>coeff_sum1</th>\n",
              "      <th>clicks</th>\n",
              "      <th>hour</th>\n",
              "    </tr>\n",
              "  </thead>\n",
              "  <tbody>\n",
              "    <tr>\n",
              "      <th>zone_id</th>\n",
              "      <td>1.000000</td>\n",
              "      <td>-0.035966</td>\n",
              "      <td>-0.003782</td>\n",
              "      <td>0.003906</td>\n",
              "      <td>0.145423</td>\n",
              "      <td>-0.010412</td>\n",
              "      <td>-0.005160</td>\n",
              "      <td>0.039482</td>\n",
              "      <td>0.037682</td>\n",
              "      <td>-0.007068</td>\n",
              "      <td>-0.016703</td>\n",
              "      <td>0.039376</td>\n",
              "      <td>0.042875</td>\n",
              "      <td>-0.024045</td>\n",
              "      <td>0.054150</td>\n",
              "    </tr>\n",
              "    <tr>\n",
              "      <th>banner_id</th>\n",
              "      <td>-0.035966</td>\n",
              "      <td>1.000000</td>\n",
              "      <td>0.000633</td>\n",
              "      <td>0.041216</td>\n",
              "      <td>-0.126151</td>\n",
              "      <td>-0.082290</td>\n",
              "      <td>0.002299</td>\n",
              "      <td>0.029866</td>\n",
              "      <td>-0.352541</td>\n",
              "      <td>-0.084731</td>\n",
              "      <td>-0.005866</td>\n",
              "      <td>0.020978</td>\n",
              "      <td>-0.257455</td>\n",
              "      <td>-0.050575</td>\n",
              "      <td>-0.054704</td>\n",
              "    </tr>\n",
              "    <tr>\n",
              "      <th>oaid_hash</th>\n",
              "      <td>-0.003782</td>\n",
              "      <td>0.000633</td>\n",
              "      <td>1.000000</td>\n",
              "      <td>-0.001375</td>\n",
              "      <td>-0.001422</td>\n",
              "      <td>0.001251</td>\n",
              "      <td>0.000440</td>\n",
              "      <td>-0.000238</td>\n",
              "      <td>-0.000168</td>\n",
              "      <td>0.001747</td>\n",
              "      <td>0.000903</td>\n",
              "      <td>-0.000184</td>\n",
              "      <td>-0.000126</td>\n",
              "      <td>0.000335</td>\n",
              "      <td>-0.001145</td>\n",
              "    </tr>\n",
              "    <tr>\n",
              "      <th>os_id</th>\n",
              "      <td>0.003906</td>\n",
              "      <td>0.041216</td>\n",
              "      <td>-0.001375</td>\n",
              "      <td>1.000000</td>\n",
              "      <td>0.039507</td>\n",
              "      <td>-0.004306</td>\n",
              "      <td>0.013647</td>\n",
              "      <td>-0.024700</td>\n",
              "      <td>0.142504</td>\n",
              "      <td>0.075067</td>\n",
              "      <td>0.036169</td>\n",
              "      <td>-0.023759</td>\n",
              "      <td>0.108331</td>\n",
              "      <td>0.039757</td>\n",
              "      <td>-0.015301</td>\n",
              "    </tr>\n",
              "    <tr>\n",
              "      <th>country_id</th>\n",
              "      <td>0.145423</td>\n",
              "      <td>-0.126151</td>\n",
              "      <td>-0.001422</td>\n",
              "      <td>0.039507</td>\n",
              "      <td>1.000000</td>\n",
              "      <td>0.047013</td>\n",
              "      <td>-0.008307</td>\n",
              "      <td>0.010034</td>\n",
              "      <td>0.173660</td>\n",
              "      <td>-0.028146</td>\n",
              "      <td>-0.011223</td>\n",
              "      <td>0.009256</td>\n",
              "      <td>0.139835</td>\n",
              "      <td>-0.004668</td>\n",
              "      <td>0.186562</td>\n",
              "    </tr>\n",
              "    <tr>\n",
              "      <th>banner_id0</th>\n",
              "      <td>-0.010412</td>\n",
              "      <td>-0.082290</td>\n",
              "      <td>0.001251</td>\n",
              "      <td>-0.004306</td>\n",
              "      <td>0.047013</td>\n",
              "      <td>1.000000</td>\n",
              "      <td>0.259994</td>\n",
              "      <td>-0.010557</td>\n",
              "      <td>0.417413</td>\n",
              "      <td>-0.115947</td>\n",
              "      <td>-0.040071</td>\n",
              "      <td>-0.002822</td>\n",
              "      <td>-0.051097</td>\n",
              "      <td>0.001838</td>\n",
              "      <td>0.061577</td>\n",
              "    </tr>\n",
              "    <tr>\n",
              "      <th>rate0</th>\n",
              "      <td>-0.005160</td>\n",
              "      <td>0.002299</td>\n",
              "      <td>0.000440</td>\n",
              "      <td>0.013647</td>\n",
              "      <td>-0.008307</td>\n",
              "      <td>0.259994</td>\n",
              "      <td>1.000000</td>\n",
              "      <td>-0.002943</td>\n",
              "      <td>0.042873</td>\n",
              "      <td>-0.029286</td>\n",
              "      <td>-0.010629</td>\n",
              "      <td>0.000645</td>\n",
              "      <td>-0.003775</td>\n",
              "      <td>-0.000872</td>\n",
              "      <td>0.008435</td>\n",
              "    </tr>\n",
              "    <tr>\n",
              "      <th>g0</th>\n",
              "      <td>0.039482</td>\n",
              "      <td>0.029866</td>\n",
              "      <td>-0.000238</td>\n",
              "      <td>-0.024700</td>\n",
              "      <td>0.010034</td>\n",
              "      <td>-0.010557</td>\n",
              "      <td>-0.002943</td>\n",
              "      <td>1.000000</td>\n",
              "      <td>0.015144</td>\n",
              "      <td>-0.006082</td>\n",
              "      <td>-0.002103</td>\n",
              "      <td>0.760437</td>\n",
              "      <td>0.016704</td>\n",
              "      <td>0.001553</td>\n",
              "      <td>0.019768</td>\n",
              "    </tr>\n",
              "    <tr>\n",
              "      <th>coeff_sum0</th>\n",
              "      <td>0.037682</td>\n",
              "      <td>-0.352541</td>\n",
              "      <td>-0.000168</td>\n",
              "      <td>0.142504</td>\n",
              "      <td>0.173660</td>\n",
              "      <td>0.417413</td>\n",
              "      <td>0.042873</td>\n",
              "      <td>0.015144</td>\n",
              "      <td>1.000000</td>\n",
              "      <td>0.000569</td>\n",
              "      <td>-0.003181</td>\n",
              "      <td>0.014123</td>\n",
              "      <td>0.495136</td>\n",
              "      <td>0.118360</td>\n",
              "      <td>0.102454</td>\n",
              "    </tr>\n",
              "    <tr>\n",
              "      <th>banner_id1</th>\n",
              "      <td>-0.007068</td>\n",
              "      <td>-0.084731</td>\n",
              "      <td>0.001747</td>\n",
              "      <td>0.075067</td>\n",
              "      <td>-0.028146</td>\n",
              "      <td>-0.115947</td>\n",
              "      <td>-0.029286</td>\n",
              "      <td>-0.006082</td>\n",
              "      <td>0.000569</td>\n",
              "      <td>1.000000</td>\n",
              "      <td>0.322065</td>\n",
              "      <td>-0.017762</td>\n",
              "      <td>0.475516</td>\n",
              "      <td>-0.009247</td>\n",
              "      <td>0.008470</td>\n",
              "    </tr>\n",
              "    <tr>\n",
              "      <th>rate1</th>\n",
              "      <td>-0.016703</td>\n",
              "      <td>-0.005866</td>\n",
              "      <td>0.000903</td>\n",
              "      <td>0.036169</td>\n",
              "      <td>-0.011223</td>\n",
              "      <td>-0.040071</td>\n",
              "      <td>-0.010629</td>\n",
              "      <td>-0.002103</td>\n",
              "      <td>-0.003181</td>\n",
              "      <td>0.322065</td>\n",
              "      <td>1.000000</td>\n",
              "      <td>-0.006056</td>\n",
              "      <td>0.076700</td>\n",
              "      <td>-0.002102</td>\n",
              "      <td>-0.026907</td>\n",
              "    </tr>\n",
              "    <tr>\n",
              "      <th>g1</th>\n",
              "      <td>0.039376</td>\n",
              "      <td>0.020978</td>\n",
              "      <td>-0.000184</td>\n",
              "      <td>-0.023759</td>\n",
              "      <td>0.009256</td>\n",
              "      <td>-0.002822</td>\n",
              "      <td>0.000645</td>\n",
              "      <td>0.760437</td>\n",
              "      <td>0.014123</td>\n",
              "      <td>-0.017762</td>\n",
              "      <td>-0.006056</td>\n",
              "      <td>1.000000</td>\n",
              "      <td>0.011661</td>\n",
              "      <td>0.001926</td>\n",
              "      <td>0.018183</td>\n",
              "    </tr>\n",
              "    <tr>\n",
              "      <th>coeff_sum1</th>\n",
              "      <td>0.042875</td>\n",
              "      <td>-0.257455</td>\n",
              "      <td>-0.000126</td>\n",
              "      <td>0.108331</td>\n",
              "      <td>0.139835</td>\n",
              "      <td>-0.051097</td>\n",
              "      <td>-0.003775</td>\n",
              "      <td>0.016704</td>\n",
              "      <td>0.495136</td>\n",
              "      <td>0.475516</td>\n",
              "      <td>0.076700</td>\n",
              "      <td>0.011661</td>\n",
              "      <td>1.000000</td>\n",
              "      <td>0.076902</td>\n",
              "      <td>0.051670</td>\n",
              "    </tr>\n",
              "    <tr>\n",
              "      <th>clicks</th>\n",
              "      <td>-0.024045</td>\n",
              "      <td>-0.050575</td>\n",
              "      <td>0.000335</td>\n",
              "      <td>0.039757</td>\n",
              "      <td>-0.004668</td>\n",
              "      <td>0.001838</td>\n",
              "      <td>-0.000872</td>\n",
              "      <td>0.001553</td>\n",
              "      <td>0.118360</td>\n",
              "      <td>-0.009247</td>\n",
              "      <td>-0.002102</td>\n",
              "      <td>0.001926</td>\n",
              "      <td>0.076902</td>\n",
              "      <td>1.000000</td>\n",
              "      <td>0.005693</td>\n",
              "    </tr>\n",
              "    <tr>\n",
              "      <th>hour</th>\n",
              "      <td>0.054150</td>\n",
              "      <td>-0.054704</td>\n",
              "      <td>-0.001145</td>\n",
              "      <td>-0.015301</td>\n",
              "      <td>0.186562</td>\n",
              "      <td>0.061577</td>\n",
              "      <td>0.008435</td>\n",
              "      <td>0.019768</td>\n",
              "      <td>0.102454</td>\n",
              "      <td>0.008470</td>\n",
              "      <td>-0.026907</td>\n",
              "      <td>0.018183</td>\n",
              "      <td>0.051670</td>\n",
              "      <td>0.005693</td>\n",
              "      <td>1.000000</td>\n",
              "    </tr>\n",
              "  </tbody>\n",
              "</table>\n",
              "</div>\n",
              "    <div class=\"colab-df-buttons\">\n",
              "\n",
              "  <div class=\"colab-df-container\">\n",
              "    <button class=\"colab-df-convert\" onclick=\"convertToInteractive('df-99a1e8a5-b32b-4254-b170-0a669b51c0eb')\"\n",
              "            title=\"Convert this dataframe to an interactive table.\"\n",
              "            style=\"display:none;\">\n",
              "\n",
              "  <svg xmlns=\"http://www.w3.org/2000/svg\" height=\"24px\" viewBox=\"0 -960 960 960\">\n",
              "    <path d=\"M120-120v-720h720v720H120Zm60-500h600v-160H180v160Zm220 220h160v-160H400v160Zm0 220h160v-160H400v160ZM180-400h160v-160H180v160Zm440 0h160v-160H620v160ZM180-180h160v-160H180v160Zm440 0h160v-160H620v160Z\"/>\n",
              "  </svg>\n",
              "    </button>\n",
              "\n",
              "  <style>\n",
              "    .colab-df-container {\n",
              "      display:flex;\n",
              "      gap: 12px;\n",
              "    }\n",
              "\n",
              "    .colab-df-convert {\n",
              "      background-color: #E8F0FE;\n",
              "      border: none;\n",
              "      border-radius: 50%;\n",
              "      cursor: pointer;\n",
              "      display: none;\n",
              "      fill: #1967D2;\n",
              "      height: 32px;\n",
              "      padding: 0 0 0 0;\n",
              "      width: 32px;\n",
              "    }\n",
              "\n",
              "    .colab-df-convert:hover {\n",
              "      background-color: #E2EBFA;\n",
              "      box-shadow: 0px 1px 2px rgba(60, 64, 67, 0.3), 0px 1px 3px 1px rgba(60, 64, 67, 0.15);\n",
              "      fill: #174EA6;\n",
              "    }\n",
              "\n",
              "    .colab-df-buttons div {\n",
              "      margin-bottom: 4px;\n",
              "    }\n",
              "\n",
              "    [theme=dark] .colab-df-convert {\n",
              "      background-color: #3B4455;\n",
              "      fill: #D2E3FC;\n",
              "    }\n",
              "\n",
              "    [theme=dark] .colab-df-convert:hover {\n",
              "      background-color: #434B5C;\n",
              "      box-shadow: 0px 1px 3px 1px rgba(0, 0, 0, 0.15);\n",
              "      filter: drop-shadow(0px 1px 2px rgba(0, 0, 0, 0.3));\n",
              "      fill: #FFFFFF;\n",
              "    }\n",
              "  </style>\n",
              "\n",
              "    <script>\n",
              "      const buttonEl =\n",
              "        document.querySelector('#df-99a1e8a5-b32b-4254-b170-0a669b51c0eb button.colab-df-convert');\n",
              "      buttonEl.style.display =\n",
              "        google.colab.kernel.accessAllowed ? 'block' : 'none';\n",
              "\n",
              "      async function convertToInteractive(key) {\n",
              "        const element = document.querySelector('#df-99a1e8a5-b32b-4254-b170-0a669b51c0eb');\n",
              "        const dataTable =\n",
              "          await google.colab.kernel.invokeFunction('convertToInteractive',\n",
              "                                                    [key], {});\n",
              "        if (!dataTable) return;\n",
              "\n",
              "        const docLinkHtml = 'Like what you see? Visit the ' +\n",
              "          '<a target=\"_blank\" href=https://colab.research.google.com/notebooks/data_table.ipynb>data table notebook</a>'\n",
              "          + ' to learn more about interactive tables.';\n",
              "        element.innerHTML = '';\n",
              "        dataTable['output_type'] = 'display_data';\n",
              "        await google.colab.output.renderOutput(dataTable, element);\n",
              "        const docLink = document.createElement('div');\n",
              "        docLink.innerHTML = docLinkHtml;\n",
              "        element.appendChild(docLink);\n",
              "      }\n",
              "    </script>\n",
              "  </div>\n",
              "\n",
              "\n",
              "<div id=\"df-191f0fe0-cda1-444e-adff-bb67b7da2573\">\n",
              "  <button class=\"colab-df-quickchart\" onclick=\"quickchart('df-191f0fe0-cda1-444e-adff-bb67b7da2573')\"\n",
              "            title=\"Suggest charts\"\n",
              "            style=\"display:none;\">\n",
              "\n",
              "<svg xmlns=\"http://www.w3.org/2000/svg\" height=\"24px\"viewBox=\"0 0 24 24\"\n",
              "     width=\"24px\">\n",
              "    <g>\n",
              "        <path d=\"M19 3H5c-1.1 0-2 .9-2 2v14c0 1.1.9 2 2 2h14c1.1 0 2-.9 2-2V5c0-1.1-.9-2-2-2zM9 17H7v-7h2v7zm4 0h-2V7h2v10zm4 0h-2v-4h2v4z\"/>\n",
              "    </g>\n",
              "</svg>\n",
              "  </button>\n",
              "\n",
              "<style>\n",
              "  .colab-df-quickchart {\n",
              "      --bg-color: #E8F0FE;\n",
              "      --fill-color: #1967D2;\n",
              "      --hover-bg-color: #E2EBFA;\n",
              "      --hover-fill-color: #174EA6;\n",
              "      --disabled-fill-color: #AAA;\n",
              "      --disabled-bg-color: #DDD;\n",
              "  }\n",
              "\n",
              "  [theme=dark] .colab-df-quickchart {\n",
              "      --bg-color: #3B4455;\n",
              "      --fill-color: #D2E3FC;\n",
              "      --hover-bg-color: #434B5C;\n",
              "      --hover-fill-color: #FFFFFF;\n",
              "      --disabled-bg-color: #3B4455;\n",
              "      --disabled-fill-color: #666;\n",
              "  }\n",
              "\n",
              "  .colab-df-quickchart {\n",
              "    background-color: var(--bg-color);\n",
              "    border: none;\n",
              "    border-radius: 50%;\n",
              "    cursor: pointer;\n",
              "    display: none;\n",
              "    fill: var(--fill-color);\n",
              "    height: 32px;\n",
              "    padding: 0;\n",
              "    width: 32px;\n",
              "  }\n",
              "\n",
              "  .colab-df-quickchart:hover {\n",
              "    background-color: var(--hover-bg-color);\n",
              "    box-shadow: 0 1px 2px rgba(60, 64, 67, 0.3), 0 1px 3px 1px rgba(60, 64, 67, 0.15);\n",
              "    fill: var(--button-hover-fill-color);\n",
              "  }\n",
              "\n",
              "  .colab-df-quickchart-complete:disabled,\n",
              "  .colab-df-quickchart-complete:disabled:hover {\n",
              "    background-color: var(--disabled-bg-color);\n",
              "    fill: var(--disabled-fill-color);\n",
              "    box-shadow: none;\n",
              "  }\n",
              "\n",
              "  .colab-df-spinner {\n",
              "    border: 2px solid var(--fill-color);\n",
              "    border-color: transparent;\n",
              "    border-bottom-color: var(--fill-color);\n",
              "    animation:\n",
              "      spin 1s steps(1) infinite;\n",
              "  }\n",
              "\n",
              "  @keyframes spin {\n",
              "    0% {\n",
              "      border-color: transparent;\n",
              "      border-bottom-color: var(--fill-color);\n",
              "      border-left-color: var(--fill-color);\n",
              "    }\n",
              "    20% {\n",
              "      border-color: transparent;\n",
              "      border-left-color: var(--fill-color);\n",
              "      border-top-color: var(--fill-color);\n",
              "    }\n",
              "    30% {\n",
              "      border-color: transparent;\n",
              "      border-left-color: var(--fill-color);\n",
              "      border-top-color: var(--fill-color);\n",
              "      border-right-color: var(--fill-color);\n",
              "    }\n",
              "    40% {\n",
              "      border-color: transparent;\n",
              "      border-right-color: var(--fill-color);\n",
              "      border-top-color: var(--fill-color);\n",
              "    }\n",
              "    60% {\n",
              "      border-color: transparent;\n",
              "      border-right-color: var(--fill-color);\n",
              "    }\n",
              "    80% {\n",
              "      border-color: transparent;\n",
              "      border-right-color: var(--fill-color);\n",
              "      border-bottom-color: var(--fill-color);\n",
              "    }\n",
              "    90% {\n",
              "      border-color: transparent;\n",
              "      border-bottom-color: var(--fill-color);\n",
              "    }\n",
              "  }\n",
              "</style>\n",
              "\n",
              "  <script>\n",
              "    async function quickchart(key) {\n",
              "      const quickchartButtonEl =\n",
              "        document.querySelector('#' + key + ' button');\n",
              "      quickchartButtonEl.disabled = true;  // To prevent multiple clicks.\n",
              "      quickchartButtonEl.classList.add('colab-df-spinner');\n",
              "      try {\n",
              "        const charts = await google.colab.kernel.invokeFunction(\n",
              "            'suggestCharts', [key], {});\n",
              "      } catch (error) {\n",
              "        console.error('Error during call to suggestCharts:', error);\n",
              "      }\n",
              "      quickchartButtonEl.classList.remove('colab-df-spinner');\n",
              "      quickchartButtonEl.classList.add('colab-df-quickchart-complete');\n",
              "    }\n",
              "    (() => {\n",
              "      let quickchartButtonEl =\n",
              "        document.querySelector('#df-191f0fe0-cda1-444e-adff-bb67b7da2573 button');\n",
              "      quickchartButtonEl.style.display =\n",
              "        google.colab.kernel.accessAllowed ? 'block' : 'none';\n",
              "    })();\n",
              "  </script>\n",
              "</div>\n",
              "    </div>\n",
              "  </div>\n"
            ]
          },
          "metadata": {},
          "execution_count": 13
        }
      ],
      "source": [
        "data.corr()"
      ]
    },
    {
      "cell_type": "markdown",
      "metadata": {
        "id": "-mxb8xL_8odu"
      },
      "source": [
        "видим, что коэффициенты корреляции довольно маленькие, поэтому между фичами нет какой-то явной линейно зависимости => можно брать все фичи."
      ]
    },
    {
      "cell_type": "markdown",
      "metadata": {
        "id": "ZS7ghQKvRE7B"
      },
      "source": [
        "#Feature engineering\n"
      ]
    },
    {
      "cell_type": "code",
      "source": [
        "#разделим данные на обучающую и тестовую выборки\n",
        "test_date = data['date'].max()\n",
        "train_data = data[data['date'] != test_date]\n",
        "test_data = data[data['date'] == test_date]\n",
        "#по условию для подсчета полиси нужно отфильтровать случаи, когда banner_id != banner_id0\n",
        "test_data_0 = test_data[test_data['banner_id'] == test_data['banner_id0']]\n",
        "\n",
        "#нам еще нужен датасет, в котором banner_id == banner_id1, чтобы корректно посчитать p_1\n",
        "test_data_1 = test_data_0.copy()\n",
        "test_data_1['banner_id'] = test_data_1['banner_id1']\n",
        "\n",
        "print(len(train_data))\n",
        "print(len(test_data_0))\n",
        "print(len(test_data_1))"
      ],
      "metadata": {
        "colab": {
          "base_uri": "https://localhost:8080/"
        },
        "id": "lO76yDykPSLh",
        "outputId": "1459bced-bb02-476f-888b-c95bf0dbb01e"
      },
      "execution_count": 14,
      "outputs": [
        {
          "output_type": "stream",
          "name": "stdout",
          "text": [
            "13669206\n",
            "1884528\n",
            "1884528\n"
          ]
        }
      ]
    },
    {
      "cell_type": "code",
      "source": [
        "y_train = train_data['clicks']\n",
        "X_train = train_data.drop(columns=['clicks', 'date'])"
      ],
      "metadata": {
        "id": "metsQRR7QI34"
      },
      "execution_count": 15,
      "outputs": []
    },
    {
      "cell_type": "code",
      "source": [
        "y_test = test_data_0['clicks']\n",
        "X_test_0 = test_data_0.drop(columns=['clicks', 'date'])\n",
        "X_test_1 = test_data_1.drop(columns=['clicks', 'date'])"
      ],
      "metadata": {
        "id": "PVPPei6SQiFO"
      },
      "execution_count": 16,
      "outputs": []
    },
    {
      "cell_type": "code",
      "source": [
        "#применяем обычный one-hot-encoding к категориальным фичам\n",
        "from sklearn.preprocessing import OneHotEncoder\n",
        "\n",
        "categories = ['os_id', 'country_id', 'zone_id', 'banner_id']\n",
        "\n",
        "one_hot_enc = OneHotEncoder(\n",
        "    sparse_output=True,\n",
        "    handle_unknown='ignore'\n",
        "    )\n",
        "\n",
        "X_train_categorical = one_hot_enc.fit_transform(X_train[categories])\n",
        "X_test_0_categorical = one_hot_enc.transform(X_test_0[categories])\n",
        "X_test_1_categorical = one_hot_enc.transform(X_test_1[categories])"
      ],
      "metadata": {
        "id": "VAKntSQURqHQ"
      },
      "execution_count": 17,
      "outputs": []
    },
    {
      "cell_type": "code",
      "source": [
        "X_train_numerical = X_train[['hour']]\n",
        "X_test_numerical = X_test_0[['hour']]"
      ],
      "metadata": {
        "id": "WYbGUyDX9G4a"
      },
      "execution_count": 18,
      "outputs": []
    },
    {
      "cell_type": "code",
      "source": [
        "from scipy.sparse import hstack\n",
        "\n",
        "X_train = hstack([X_train_categorical, X_train_numerical])\n",
        "X_test_0 = hstack([X_test_0_categorical, X_test_numerical])\n",
        "X_test_1 = hstack([X_test_1_categorical, X_test_numerical])"
      ],
      "metadata": {
        "id": "6ZUUymMr92Bk"
      },
      "execution_count": 19,
      "outputs": []
    },
    {
      "cell_type": "markdown",
      "metadata": {
        "id": "VQs4brzzRPBm"
      },
      "source": [
        "#Обучение модели"
      ]
    },
    {
      "cell_type": "markdown",
      "metadata": {
        "id": "kuTJ1L16N917"
      },
      "source": [
        "В качестве модели возьмем логистическую регрессию с l2-регуляризацией"
      ]
    },
    {
      "cell_type": "code",
      "execution_count": 20,
      "metadata": {
        "id": "b4-ulvEmOYT2"
      },
      "outputs": [],
      "source": [
        "from sklearn.linear_model import LogisticRegression\n",
        "\n",
        "model = LogisticRegression(\n",
        "    solver = 'liblinear'\n",
        ")"
      ]
    },
    {
      "cell_type": "code",
      "source": [
        "model = model.fit(X_train, y_train)"
      ],
      "metadata": {
        "id": "AK3QUoD1fb1B"
      },
      "execution_count": 21,
      "outputs": []
    },
    {
      "cell_type": "markdown",
      "source": [
        "#Подсчет OPE метрики clipped ips на последнем дне."
      ],
      "metadata": {
        "id": "-sNJbzM5xlHc"
      }
    },
    {
      "cell_type": "markdown",
      "source": [
        "\\pi_0\n",
        "В данной задаче предполагается, что логгинг полиси это некоторая стохастическая полиси. В каждом событии соревновались два баннера. Победивший баннер это всегда banner_id0, а проигравший это banner_id1. В итоге banner_id0 это именно тот баннер, который был показан пользователю. banner_id0 совпадает почти всегда совпадает с banner_id, но есть случаи когда это не так, их стоит отфильтровать. Победитель в каждом событии определялся случайно согласно следующей логике:\n",
        "\n",
        "Подкидывались две нормальные величины N(coeff_sum0, g0^2) и N(coeff_sum1, g1^2)\n",
        "Выбирался тот баннер чей семпл получался больше.\n",
        "На оснований этих данных вы можете посчитать \\pi_0, для этого вам достаточно только в каждом событии определить вероятность того, что одна нормальная величина больше другой.\n",
        "\n",
        "\n",
        "\n",
        "$X_0 \\sim N(coeff\\_ sum0, g0^2)$\n",
        "\n",
        "$X_1 \\sim N(coeff\\_ sum1, g1^2)$\n",
        "\n",
        "$P(X_0 > X_1) = P(X_ 0 - X_1 > 0) = 1 - P(X_0 - X_1 \\leq 0) = 1 - F_{X_0 - X_1}(0)$,\n",
        "\n",
        "где  \n",
        "$X_0 - X_1 \\sim N(coeff\\_ sum0 - coeff\\_ sum1, g0^2 + g1^2)$"
      ],
      "metadata": {
        "id": "jURd9IwSHcUk"
      }
    },
    {
      "cell_type": "code",
      "source": [
        "from scipy.stats import norm\n",
        "\n",
        "#считаем по формуле выше\n",
        "def policy(coeff_sum0, coeff_sum1, g0, g1):\n",
        "  mean = coeff_sum0 - coeff_sum1\n",
        "  sd = np.sqrt(g0 ** 2 + g1 ** 2)\n",
        "  eps = np.finfo(np.float32).eps #чтобы не было деления на 0\n",
        "  F_0 = norm.cdf(0, loc=mean, scale=sd + eps)\n",
        "  return 1 - F_0"
      ],
      "metadata": {
        "id": "_lXyUGJKvNNU"
      },
      "execution_count": 24,
      "outputs": []
    },
    {
      "cell_type": "code",
      "source": [
        "coeff_sum0 = test_data_0['coeff_sum0']\n",
        "coeff_sum1 = test_data_0['coeff_sum1']\n",
        "g0 = test_data_0['g0']\n",
        "g1 = test_data_0['g1']\n",
        "\n",
        "pi_0 = policy(coeff_sum0, coeff_sum1, g0, g1)"
      ],
      "metadata": {
        "id": "9Hs_adzkfGDi"
      },
      "execution_count": 25,
      "outputs": []
    },
    {
      "cell_type": "markdown",
      "source": [
        "\\pi_1\n",
        "Здесь вы предполагаете что новое полиси в целом работает примерно также. Подкидывается N(coeff_sum0_new, g0^2) и N(coeff_sum1_new, g1^2). Где coeff_sum0_new и coeff_sum1_new суммы коэффициентов для banner_id0 и banner_id1, которые предиктит ваша модель. Вы можете их получить если примените logit функцию к вероятностям которые предиктит ваша модель.\n",
        "\n",
        "Важный момент. Те предикты которые у вас уже имеются, они работают для banner_id0, потому что он совпадает с banner_id. Но вам еще нужно получить предикты для banner_id1. Для этого следует подставить в тест сете вместо banner_id значение banner_id1.\n",
        "\n",
        "После получения coeff_sum0_new и coeff_sum1_new ваша задача опять сводится к сравнению нормальных величин."
      ],
      "metadata": {
        "id": "1lzcxLtGzaGv"
      }
    },
    {
      "cell_type": "code",
      "source": [
        "from scipy.special import logit\n",
        "\n",
        "coeff_sum0_new = logit(model.predict_proba(X_test_0))[:, 1]\n",
        "coeff_sum1_new = logit(model.predict_proba(X_test_1))[:, 1]\n",
        "g0 = test_data_0['g0']\n",
        "g1 = test_data_0['g1']\n",
        "\n",
        "pi_1 = policy(coeff_sum0_new, coeff_sum1_new, g0, g1)"
      ],
      "metadata": {
        "id": "j8gznloMzoTF"
      },
      "execution_count": 26,
      "outputs": []
    },
    {
      "cell_type": "code",
      "source": [
        "lmbda = 10\n",
        "r = test_data_0['clicks'] # по условию reward = 1, если был клик, и 0 - иначе\n",
        "eps = np.finfo(np.float32).eps # чтобы не было деления на 0\n",
        "\n",
        "cips = np.mean(r * np.clip(pi_0 / (pi_1 + eps), a_min=None, a_max=lmbda))\n",
        "print(f\"CIPS = {cips}\")"
      ],
      "metadata": {
        "colab": {
          "base_uri": "https://localhost:8080/"
        },
        "id": "qpakmVqT6TkY",
        "outputId": "1ca5f33d-ae50-48f7-e338-e8c69420ab2c"
      },
      "execution_count": 31,
      "outputs": [
        {
          "output_type": "stream",
          "name": "stdout",
          "text": [
            "CIPS = 0.06182578976396382\n"
          ]
        }
      ]
    }
  ],
  "metadata": {
    "colab": {
      "collapsed_sections": [
        "tMgBgWPDe_LL",
        "eJpjwcrufCbt",
        "hUPD-4yUfFOp",
        "DE65T1nUfLi4",
        "uwXMBVerfhCY"
      ],
      "provenance": [],
      "machine_shape": "hm"
    },
    "kernelspec": {
      "display_name": "Python 3",
      "name": "python3"
    },
    "language_info": {
      "codemirror_mode": {
        "name": "ipython",
        "version": 2
      },
      "file_extension": ".py",
      "mimetype": "text/x-python",
      "name": "python",
      "nbconvert_exporter": "python",
      "pygments_lexer": "ipython2",
      "version": "2.7.6"
    }
  },
  "nbformat": 4,
  "nbformat_minor": 0
}