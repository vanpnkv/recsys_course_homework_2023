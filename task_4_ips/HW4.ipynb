{
 "cells": [
  {
   "cell_type": "code",
   "execution_count": 1,
   "id": "a65f7865",
   "metadata": {},
   "outputs": [],
   "source": [
    "import pandas as pd\n",
    "import polars as pl\n",
    "import numpy as np\n",
    "import scipy\n",
    "\n",
    "import category_encoders as ce\n",
    "from sklearn.metrics import log_loss, roc_auc_score\n",
    "from sklearn.linear_model import LogisticRegression\n",
    "from sklearn.model_selection import TimeSeriesSplit, GridSearchCV\n",
    "\n",
    "from typing import Tuple\n",
    "import datetime\n",
    "\n",
    "import warnings\n",
    "warnings.filterwarnings('ignore')\n",
    "\n",
    "RANDOM_STATE = 42"
   ]
  },
  {
   "cell_type": "code",
   "execution_count": 2,
   "id": "4d009a3a",
   "metadata": {
    "scrolled": true
   },
   "outputs": [
    {
     "data": {
      "text/html": [
       "<div><style>\n",
       ".dataframe > thead > tr > th,\n",
       ".dataframe > tbody > tr > td {\n",
       "  text-align: right;\n",
       "}\n",
       "</style>\n",
       "<small>shape: (5, 15)</small><table border=\"1\" class=\"dataframe\"><thead><tr><th>date_time</th><th>zone_id</th><th>oaid_hash</th><th>os_id</th><th>country_id</th><th>banner_id0</th><th>rate0</th><th>g0</th><th>coeff_sum0</th><th>banner_id1</th><th>rate1</th><th>g1</th><th>coeff_sum1</th><th>impressions</th><th>clicks</th></tr><tr><td>datetime[μs]</td><td>i64</td><td>i64</td><td>i64</td><td>i64</td><td>i64</td><td>f64</td><td>f64</td><td>f64</td><td>i64</td><td>f64</td><td>f64</td><td>f64</td><td>i64</td><td>i64</td></tr></thead><tbody><tr><td>2021-09-01 00:02:49</td><td>30</td><td>5236744527665721365</td><td>0</td><td>7</td><td>596</td><td>0.05</td><td>0.06456</td><td>-4.312062</td><td>603</td><td>0.05</td><td>0.05651</td><td>-4.370191</td><td>1</td><td>0</td></tr><tr><td>2021-09-26 00:00:00</td><td>1</td><td>7416450538971744701</td><td>2</td><td>15</td><td>188</td><td>0.008</td><td>0.014186</td><td>-3.811444</td><td>11754925</td><td>0.33</td><td>0.012351</td><td>-2.106896</td><td>1</td><td>0</td></tr><tr><td>2021-09-26 00:00:00</td><td>17</td><td>4618896985986523547</td><td>1</td><td>1</td><td>3</td><td>0.012</td><td>0.012615</td><td>-3.844725</td><td>99</td><td>0.006</td><td>0.054492</td><td>-3.950419</td><td>1</td><td>0</td></tr><tr><td>2021-09-26 00:00:00</td><td>86</td><td>7650534412494426894</td><td>0</td><td>1</td><td>61</td><td>0.005</td><td>0.077753</td><td>-3.943275</td><td>124</td><td>0.003</td><td>0.063488</td><td>-3.846605</td><td>1</td><td>0</td></tr><tr><td>2021-09-26 00:00:00</td><td>19</td><td>1861020308801330987</td><td>1</td><td>0</td><td>36</td><td>0.054</td><td>0.053578</td><td>-5.048463</td><td>12137469</td><td>9.5</td><td>0.0115</td><td>-4.525252</td><td>1</td><td>0</td></tr></tbody></table></div>"
      ],
      "text/plain": [
       "shape: (5, 15)\n",
       "┌──────────────┬─────────┬──────────────┬───────┬───┬──────────┬────────────┬─────────────┬────────┐\n",
       "│ date_time    ┆ zone_id ┆ oaid_hash    ┆ os_id ┆ … ┆ g1       ┆ coeff_sum1 ┆ impressions ┆ clicks │\n",
       "│ ---          ┆ ---     ┆ ---          ┆ ---   ┆   ┆ ---      ┆ ---        ┆ ---         ┆ ---    │\n",
       "│ datetime[μs] ┆ i64     ┆ i64          ┆ i64   ┆   ┆ f64      ┆ f64        ┆ i64         ┆ i64    │\n",
       "╞══════════════╪═════════╪══════════════╪═══════╪═══╪══════════╪════════════╪═════════════╪════════╡\n",
       "│ 2021-09-01   ┆ 30      ┆ 523674452766 ┆ 0     ┆ … ┆ 0.05651  ┆ -4.370191  ┆ 1           ┆ 0      │\n",
       "│ 00:02:49     ┆         ┆ 5721365      ┆       ┆   ┆          ┆            ┆             ┆        │\n",
       "│ 2021-09-26   ┆ 1       ┆ 741645053897 ┆ 2     ┆ … ┆ 0.012351 ┆ -2.106896  ┆ 1           ┆ 0      │\n",
       "│ 00:00:00     ┆         ┆ 1744701      ┆       ┆   ┆          ┆            ┆             ┆        │\n",
       "│ 2021-09-26   ┆ 17      ┆ 461889698598 ┆ 1     ┆ … ┆ 0.054492 ┆ -3.950419  ┆ 1           ┆ 0      │\n",
       "│ 00:00:00     ┆         ┆ 6523547      ┆       ┆   ┆          ┆            ┆             ┆        │\n",
       "│ 2021-09-26   ┆ 86      ┆ 765053441249 ┆ 0     ┆ … ┆ 0.063488 ┆ -3.846605  ┆ 1           ┆ 0      │\n",
       "│ 00:00:00     ┆         ┆ 4426894      ┆       ┆   ┆          ┆            ┆             ┆        │\n",
       "│ 2021-09-26   ┆ 19      ┆ 186102030880 ┆ 1     ┆ … ┆ 0.0115   ┆ -4.525252  ┆ 1           ┆ 0      │\n",
       "│ 00:00:00     ┆         ┆ 1330987      ┆       ┆   ┆          ┆            ┆             ┆        │\n",
       "└──────────────┴─────────┴──────────────┴───────┴───┴──────────┴────────────┴─────────────┴────────┘"
      ]
     },
     "execution_count": 2,
     "metadata": {},
     "output_type": "execute_result"
    }
   ],
   "source": [
    "data = pl.read_csv('../data/data.csv', try_parse_dates=True).sort('date_time')\n",
    "data = data.drop('campaign_clicks')\n",
    "data = (\n",
    "    # по условию нужно убрать такие случаи, что banner_id != banner_id0\n",
    "    data.filter(pl.col('banner_id') == pl.col('banner_id0'))\n",
    "    # также отфильтруем g1 = None\n",
    "    .filter(pl.col('g1').is_not_null())\n",
    "    # banner_id теперь нам не нужен\n",
    "    .drop('banner_id')\n",
    ")\n",
    "data.head()"
   ]
  },
  {
   "cell_type": "markdown",
   "id": "68dec9c8",
   "metadata": {},
   "source": [
    "Закодируем время в виде синуса/косинуса от часа дня и дня недели"
   ]
  },
  {
   "cell_type": "code",
   "execution_count": 3,
   "id": "e93388ed",
   "metadata": {},
   "outputs": [],
   "source": [
    "data = (\n",
    "    data\n",
    "    .with_columns([\n",
    "        pl.col('date_time').apply(lambda x: x.hour).alias('hour'),\n",
    "        pl.col('date_time').apply(lambda x: x.weekday()).alias('weekday'),\n",
    "    ])\n",
    "    .with_columns([\n",
    "        pl.col('hour').apply(lambda x: np.sin(2 * np.pi * x / 24)).alias('sin_hour'),\n",
    "        pl.col('hour').apply(lambda x: np.cos(2 * np.pi * x / 24)).alias('cos_hour'),\n",
    "        pl.col('weekday').apply(lambda x: np.sin(2 * np.pi * x / 7)).alias('sin_weekday'),\n",
    "        pl.col('weekday').apply(lambda x: np.cos(2 * np.pi * x / 7)).alias('cos_weekday'),\n",
    "    ])\n",
    "    .drop('hour', 'weekday')\n",
    ")"
   ]
  },
  {
   "cell_type": "markdown",
   "id": "429326a6",
   "metadata": {},
   "source": [
    "Для тестирования решения будем использовать последний день, а для валидации – предпоследний"
   ]
  },
  {
   "cell_type": "code",
   "execution_count": 4,
   "id": "ccec71d9",
   "metadata": {
    "scrolled": true
   },
   "outputs": [
    {
     "name": "stdout",
     "output_type": "stream",
     "text": [
      "test date threshold: 2021-10-02 00:00:00\n"
     ]
    }
   ],
   "source": [
    "test_date_threshold = data['date_time'].max().replace(hour=0, minute=0, second=0, microsecond=0)\n",
    "print(f'test date threshold: {test_date_threshold}')"
   ]
  },
  {
   "cell_type": "code",
   "execution_count": 5,
   "id": "79ad36d5",
   "metadata": {},
   "outputs": [
    {
     "name": "stdout",
     "output_type": "stream",
     "text": [
      "строчек в тренировочной выборке: 12056598\n",
      "строчек в тестовой выборке: 1890562\n"
     ]
    }
   ],
   "source": [
    "train_data = data.filter(pl.col('date_time') < test_date_threshold)\n",
    "test_data = data.filter(pl.col('date_time') >= test_date_threshold)\n",
    "print(f'строчек в тренировочной выборке: {len(train_data)}')\n",
    "print(f'строчек в тестовой выборке: {len(test_data)}')\n",
    "\n",
    "# sanity check\n",
    "assert len(train_data) + len(test_data) == len(data)"
   ]
  },
  {
   "cell_type": "code",
   "execution_count": 6,
   "id": "04be47f0",
   "metadata": {},
   "outputs": [],
   "source": [
    "def transform_data(data: pl.DataFrame, mode: int = 0) -> Tuple[pd.DataFrame, pd.Series]:\n",
    "    return (\n",
    "        data\n",
    "        # переименуем колонки для выбранного баннера\n",
    "        .rename({f'{col}{mode}': col for col in ['rate', 'banner_id', 'g', 'coeff_sum']})\n",
    "        # уберем колонки для другого баннера\n",
    "        .drop([f'{col}{1 - mode}' for col in ['rate', 'banner_id', 'g', 'coeff_sum']])\n",
    "    )\n",
    "\n",
    "train_data = transform_data(train_data)\n",
    "test_data_0 = transform_data(test_data, mode=0)\n",
    "test_data_1 = transform_data(test_data, mode=1)"
   ]
  },
  {
   "cell_type": "code",
   "execution_count": 7,
   "id": "abd8dcf3",
   "metadata": {
    "scrolled": true
   },
   "outputs": [],
   "source": [
    "assert train_data.columns == test_data_0.columns and train_data.columns == test_data_1.columns"
   ]
  },
  {
   "cell_type": "markdown",
   "id": "5c3f0ee1",
   "metadata": {},
   "source": [
    "Чтобы закодировать категориальные признаки, воспользуемся target encoding для признаков, у которых много уникальных значений и One-hot encoding для признаков, у которых немного уникальных значений, чтобы не раздувать память. Для этого я использовал библиотеку `category-encoders`"
   ]
  },
  {
   "cell_type": "code",
   "execution_count": 8,
   "id": "4b0adca6",
   "metadata": {},
   "outputs": [
    {
     "data": {
      "text/html": [
       "<style>#sk-container-id-1 {color: black;}#sk-container-id-1 pre{padding: 0;}#sk-container-id-1 div.sk-toggleable {background-color: white;}#sk-container-id-1 label.sk-toggleable__label {cursor: pointer;display: block;width: 100%;margin-bottom: 0;padding: 0.3em;box-sizing: border-box;text-align: center;}#sk-container-id-1 label.sk-toggleable__label-arrow:before {content: \"▸\";float: left;margin-right: 0.25em;color: #696969;}#sk-container-id-1 label.sk-toggleable__label-arrow:hover:before {color: black;}#sk-container-id-1 div.sk-estimator:hover label.sk-toggleable__label-arrow:before {color: black;}#sk-container-id-1 div.sk-toggleable__content {max-height: 0;max-width: 0;overflow: hidden;text-align: left;background-color: #f0f8ff;}#sk-container-id-1 div.sk-toggleable__content pre {margin: 0.2em;color: black;border-radius: 0.25em;background-color: #f0f8ff;}#sk-container-id-1 input.sk-toggleable__control:checked~div.sk-toggleable__content {max-height: 200px;max-width: 100%;overflow: auto;}#sk-container-id-1 input.sk-toggleable__control:checked~label.sk-toggleable__label-arrow:before {content: \"▾\";}#sk-container-id-1 div.sk-estimator input.sk-toggleable__control:checked~label.sk-toggleable__label {background-color: #d4ebff;}#sk-container-id-1 div.sk-label input.sk-toggleable__control:checked~label.sk-toggleable__label {background-color: #d4ebff;}#sk-container-id-1 input.sk-hidden--visually {border: 0;clip: rect(1px 1px 1px 1px);clip: rect(1px, 1px, 1px, 1px);height: 1px;margin: -1px;overflow: hidden;padding: 0;position: absolute;width: 1px;}#sk-container-id-1 div.sk-estimator {font-family: monospace;background-color: #f0f8ff;border: 1px dotted black;border-radius: 0.25em;box-sizing: border-box;margin-bottom: 0.5em;}#sk-container-id-1 div.sk-estimator:hover {background-color: #d4ebff;}#sk-container-id-1 div.sk-parallel-item::after {content: \"\";width: 100%;border-bottom: 1px solid gray;flex-grow: 1;}#sk-container-id-1 div.sk-label:hover label.sk-toggleable__label {background-color: #d4ebff;}#sk-container-id-1 div.sk-serial::before {content: \"\";position: absolute;border-left: 1px solid gray;box-sizing: border-box;top: 0;bottom: 0;left: 50%;z-index: 0;}#sk-container-id-1 div.sk-serial {display: flex;flex-direction: column;align-items: center;background-color: white;padding-right: 0.2em;padding-left: 0.2em;position: relative;}#sk-container-id-1 div.sk-item {position: relative;z-index: 1;}#sk-container-id-1 div.sk-parallel {display: flex;align-items: stretch;justify-content: center;background-color: white;position: relative;}#sk-container-id-1 div.sk-item::before, #sk-container-id-1 div.sk-parallel-item::before {content: \"\";position: absolute;border-left: 1px solid gray;box-sizing: border-box;top: 0;bottom: 0;left: 50%;z-index: -1;}#sk-container-id-1 div.sk-parallel-item {display: flex;flex-direction: column;z-index: 1;position: relative;background-color: white;}#sk-container-id-1 div.sk-parallel-item:first-child::after {align-self: flex-end;width: 50%;}#sk-container-id-1 div.sk-parallel-item:last-child::after {align-self: flex-start;width: 50%;}#sk-container-id-1 div.sk-parallel-item:only-child::after {width: 0;}#sk-container-id-1 div.sk-dashed-wrapped {border: 1px dashed gray;margin: 0 0.4em 0.5em 0.4em;box-sizing: border-box;padding-bottom: 0.4em;background-color: white;}#sk-container-id-1 div.sk-label label {font-family: monospace;font-weight: bold;display: inline-block;line-height: 1.2em;}#sk-container-id-1 div.sk-label-container {text-align: center;}#sk-container-id-1 div.sk-container {/* jupyter's `normalize.less` sets `[hidden] { display: none; }` but bootstrap.min.css set `[hidden] { display: none !important; }` so we also need the `!important` here to be able to override the default hidden behavior on the sphinx rendered scikit-learn.org. See: https://github.com/scikit-learn/scikit-learn/issues/21755 */display: inline-block !important;position: relative;}#sk-container-id-1 div.sk-text-repr-fallback {display: none;}</style><div id=\"sk-container-id-1\" class=\"sk-top-container\"><div class=\"sk-text-repr-fallback\"><pre>OneHotEncoder(cols=[&#x27;os_id&#x27;, &#x27;country_id&#x27;])</pre><b>In a Jupyter environment, please rerun this cell to show the HTML representation or trust the notebook. <br />On GitHub, the HTML representation is unable to render, please try loading this page with nbviewer.org.</b></div><div class=\"sk-container\" hidden><div class=\"sk-item\"><div class=\"sk-estimator sk-toggleable\"><input class=\"sk-toggleable__control sk-hidden--visually\" id=\"sk-estimator-id-1\" type=\"checkbox\" checked><label for=\"sk-estimator-id-1\" class=\"sk-toggleable__label sk-toggleable__label-arrow\">OneHotEncoder</label><div class=\"sk-toggleable__content\"><pre>OneHotEncoder(cols=[&#x27;os_id&#x27;, &#x27;country_id&#x27;])</pre></div></div></div></div></div>"
      ],
      "text/plain": [
       "OneHotEncoder(cols=['os_id', 'country_id'])"
      ]
     },
     "execution_count": 8,
     "metadata": {},
     "output_type": "execute_result"
    }
   ],
   "source": [
    "target_col = 'clicks'\n",
    "drop_columns = ['date_time', 'impressions', 'clicks']\n",
    "\n",
    "loo_encoder = ce.leave_one_out.LeaveOneOutEncoder(cols=['zone_id', 'banner_id', 'oaid_hash'])\n",
    "loo_encoder.fit(train_data.drop(drop_columns).to_pandas(), train_data[target_col].to_pandas())\n",
    "\n",
    "ce_one_hot_encoder = ce.OneHotEncoder(cols=['os_id', 'country_id'])\n",
    "ce_one_hot_encoder.fit(train_data.drop(drop_columns).to_pandas(), train_data[target_col].to_pandas())"
   ]
  },
  {
   "cell_type": "code",
   "execution_count": 10,
   "id": "149b7ac1",
   "metadata": {
    "pycharm": {
     "name": "#%%\n"
    },
    "scrolled": true
   },
   "outputs": [],
   "source": [
    "def feature_engineering(data: pl.DataFrame) -> Tuple[pd.DataFrame, pd.Series]:\n",
    "    X, y = data.drop(drop_columns).to_pandas(), data[target_col].to_pandas()\n",
    "    X = loo_encoder.transform(X, y)\n",
    "    X = ce_one_hot_encoder.transform(X, y)\n",
    "    return X, y\n",
    "\n",
    "train_X, train_y = feature_engineering(train_data)\n",
    "test_X_0, test_y_0 = feature_engineering(test_data_0)\n",
    "test_X_1, _ = feature_engineering(test_data_1)"
   ]
  },
  {
   "cell_type": "code",
   "execution_count": 11,
   "id": "5d4fb814",
   "metadata": {
    "pycharm": {
     "name": "#%%\n"
    }
   },
   "outputs": [],
   "source": [
    "def create_model(**kwargs):\n",
    "    return LogisticRegression(**kwargs)"
   ]
  },
  {
   "cell_type": "code",
   "execution_count": 12,
   "id": "ca1d2f57",
   "metadata": {},
   "outputs": [],
   "source": [
    "def eval_model(model, X, y):\n",
    "    y_pred = model.predict_proba(X)[:, 1]\n",
    "    print(f'ROC AUC = {roc_auc_score(y, y_pred)}')\n",
    "    print(f'Log loss = {log_loss(y, y_pred)}')"
   ]
  },
  {
   "cell_type": "code",
   "execution_count": 13,
   "id": "478bf295",
   "metadata": {},
   "outputs": [
    {
     "data": {
      "text/html": [
       "<style>#sk-container-id-2 {color: black;}#sk-container-id-2 pre{padding: 0;}#sk-container-id-2 div.sk-toggleable {background-color: white;}#sk-container-id-2 label.sk-toggleable__label {cursor: pointer;display: block;width: 100%;margin-bottom: 0;padding: 0.3em;box-sizing: border-box;text-align: center;}#sk-container-id-2 label.sk-toggleable__label-arrow:before {content: \"▸\";float: left;margin-right: 0.25em;color: #696969;}#sk-container-id-2 label.sk-toggleable__label-arrow:hover:before {color: black;}#sk-container-id-2 div.sk-estimator:hover label.sk-toggleable__label-arrow:before {color: black;}#sk-container-id-2 div.sk-toggleable__content {max-height: 0;max-width: 0;overflow: hidden;text-align: left;background-color: #f0f8ff;}#sk-container-id-2 div.sk-toggleable__content pre {margin: 0.2em;color: black;border-radius: 0.25em;background-color: #f0f8ff;}#sk-container-id-2 input.sk-toggleable__control:checked~div.sk-toggleable__content {max-height: 200px;max-width: 100%;overflow: auto;}#sk-container-id-2 input.sk-toggleable__control:checked~label.sk-toggleable__label-arrow:before {content: \"▾\";}#sk-container-id-2 div.sk-estimator input.sk-toggleable__control:checked~label.sk-toggleable__label {background-color: #d4ebff;}#sk-container-id-2 div.sk-label input.sk-toggleable__control:checked~label.sk-toggleable__label {background-color: #d4ebff;}#sk-container-id-2 input.sk-hidden--visually {border: 0;clip: rect(1px 1px 1px 1px);clip: rect(1px, 1px, 1px, 1px);height: 1px;margin: -1px;overflow: hidden;padding: 0;position: absolute;width: 1px;}#sk-container-id-2 div.sk-estimator {font-family: monospace;background-color: #f0f8ff;border: 1px dotted black;border-radius: 0.25em;box-sizing: border-box;margin-bottom: 0.5em;}#sk-container-id-2 div.sk-estimator:hover {background-color: #d4ebff;}#sk-container-id-2 div.sk-parallel-item::after {content: \"\";width: 100%;border-bottom: 1px solid gray;flex-grow: 1;}#sk-container-id-2 div.sk-label:hover label.sk-toggleable__label {background-color: #d4ebff;}#sk-container-id-2 div.sk-serial::before {content: \"\";position: absolute;border-left: 1px solid gray;box-sizing: border-box;top: 0;bottom: 0;left: 50%;z-index: 0;}#sk-container-id-2 div.sk-serial {display: flex;flex-direction: column;align-items: center;background-color: white;padding-right: 0.2em;padding-left: 0.2em;position: relative;}#sk-container-id-2 div.sk-item {position: relative;z-index: 1;}#sk-container-id-2 div.sk-parallel {display: flex;align-items: stretch;justify-content: center;background-color: white;position: relative;}#sk-container-id-2 div.sk-item::before, #sk-container-id-2 div.sk-parallel-item::before {content: \"\";position: absolute;border-left: 1px solid gray;box-sizing: border-box;top: 0;bottom: 0;left: 50%;z-index: -1;}#sk-container-id-2 div.sk-parallel-item {display: flex;flex-direction: column;z-index: 1;position: relative;background-color: white;}#sk-container-id-2 div.sk-parallel-item:first-child::after {align-self: flex-end;width: 50%;}#sk-container-id-2 div.sk-parallel-item:last-child::after {align-self: flex-start;width: 50%;}#sk-container-id-2 div.sk-parallel-item:only-child::after {width: 0;}#sk-container-id-2 div.sk-dashed-wrapped {border: 1px dashed gray;margin: 0 0.4em 0.5em 0.4em;box-sizing: border-box;padding-bottom: 0.4em;background-color: white;}#sk-container-id-2 div.sk-label label {font-family: monospace;font-weight: bold;display: inline-block;line-height: 1.2em;}#sk-container-id-2 div.sk-label-container {text-align: center;}#sk-container-id-2 div.sk-container {/* jupyter's `normalize.less` sets `[hidden] { display: none; }` but bootstrap.min.css set `[hidden] { display: none !important; }` so we also need the `!important` here to be able to override the default hidden behavior on the sphinx rendered scikit-learn.org. See: https://github.com/scikit-learn/scikit-learn/issues/21755 */display: inline-block !important;position: relative;}#sk-container-id-2 div.sk-text-repr-fallback {display: none;}</style><div id=\"sk-container-id-2\" class=\"sk-top-container\"><div class=\"sk-text-repr-fallback\"><pre>LogisticRegression(max_iter=50, random_state=42)</pre><b>In a Jupyter environment, please rerun this cell to show the HTML representation or trust the notebook. <br />On GitHub, the HTML representation is unable to render, please try loading this page with nbviewer.org.</b></div><div class=\"sk-container\" hidden><div class=\"sk-item\"><div class=\"sk-estimator sk-toggleable\"><input class=\"sk-toggleable__control sk-hidden--visually\" id=\"sk-estimator-id-2\" type=\"checkbox\" checked><label for=\"sk-estimator-id-2\" class=\"sk-toggleable__label sk-toggleable__label-arrow\">LogisticRegression</label><div class=\"sk-toggleable__content\"><pre>LogisticRegression(max_iter=50, random_state=42)</pre></div></div></div></div></div>"
      ],
      "text/plain": [
       "LogisticRegression(max_iter=50, random_state=42)"
      ]
     },
     "execution_count": 13,
     "metadata": {},
     "output_type": "execute_result"
    }
   ],
   "source": [
    "model = create_model(random_state=RANDOM_STATE, max_iter=50, C=1.)\n",
    "model.fit(train_X, train_y)"
   ]
  },
  {
   "cell_type": "code",
   "execution_count": 50,
   "id": "a02fd2b7",
   "metadata": {
    "scrolled": true
   },
   "outputs": [
    {
     "name": "stdout",
     "output_type": "stream",
     "text": [
      "ROC AUC = 0.7547338783043653\n",
      "Log loss = 0.142684959688648\n"
     ]
    }
   ],
   "source": [
    "eval_model(model, test_X_0, test_y_0)"
   ]
  },
  {
   "cell_type": "markdown",
   "id": "060dd3ca",
   "metadata": {},
   "source": [
    "$\\pi_0$\n",
    "\n",
    "> На оснований этих данных вы можете посчитать $\\pi_0$, для этого вам достаточно только в каждом событии определить вероятность того, что одна нормальная величина больше другой.\n",
    "\n",
    "Для этого воспользуемся свойством, что разность двух нормально распределенных с.в. тоже нормально распределена со средним coeff_sum0 - coeff_sum1 и дисперсией g0^2 + g1^2 и посчитаем вероятность, что нормально распределенная случайная величина больше 0 с помощью библиотеки scipy "
   ]
  },
  {
   "cell_type": "code",
   "execution_count": 72,
   "id": "7debc826",
   "metadata": {},
   "outputs": [],
   "source": [
    "def prob_policy(coef_sum_0, coef_sum_1, g0, g1) -> float:\n",
    "    return scipy.stats.norm.sf(0, coef_sum_0 - coef_sum_1, g0**2 + g1**2)"
   ]
  },
  {
   "cell_type": "code",
   "execution_count": 73,
   "id": "918170d3",
   "metadata": {},
   "outputs": [],
   "source": [
    "pi_0 = prob_policy(test_data['coeff_sum0'], test_data['coeff_sum1'], test_data['g0'], test_data['g1'])"
   ]
  },
  {
   "cell_type": "markdown",
   "id": "d2918d85",
   "metadata": {},
   "source": [
    "$\\pi_1$"
   ]
  },
  {
   "cell_type": "code",
   "execution_count": 100,
   "id": "8ddfa60d",
   "metadata": {
    "scrolled": true
   },
   "outputs": [],
   "source": [
    "y_pred_0 = scipy.special.logit(model.predict_proba(test_X_0)[:, 1])\n",
    "y_pred_1 = scipy.special.logit(model.predict_proba(test_X_1)[:, 1])"
   ]
  },
  {
   "cell_type": "code",
   "execution_count": 101,
   "id": "6b5cd7fb",
   "metadata": {},
   "outputs": [],
   "source": [
    "pi_1 = prob_policy(y_pred_0, y_pred_1, test_data['g0'], test_data['g1'])"
   ]
  },
  {
   "cell_type": "markdown",
   "id": "19b6c49e",
   "metadata": {},
   "source": [
    "посчитаем Clipped IPS"
   ]
  },
  {
   "cell_type": "code",
   "execution_count": 102,
   "id": "bb998717",
   "metadata": {},
   "outputs": [],
   "source": [
    "def get_cips(p0, p1, y, l: float = 10):\n",
    "    return (np.minimum(np.nan_to_num(p1 / p0), l) * y).mean()"
   ]
  },
  {
   "cell_type": "code",
   "execution_count": 103,
   "id": "78343bef",
   "metadata": {},
   "outputs": [
    {
     "data": {
      "text/plain": [
       "0.05240209838883261"
      ]
     },
     "execution_count": 103,
     "metadata": {},
     "output_type": "execute_result"
    }
   ],
   "source": [
    "get_cips(pi_0, pi_1, test_data['clicks'].to_numpy())"
   ]
  }
 ],
 "metadata": {
  "kernelspec": {
   "display_name": "Python 3 (ipykernel)",
   "language": "python",
   "name": "python3"
  },
  "language_info": {
   "codemirror_mode": {
    "name": "ipython",
    "version": 3
   },
   "file_extension": ".py",
   "mimetype": "text/x-python",
   "name": "python",
   "nbconvert_exporter": "python",
   "pygments_lexer": "ipython3",
   "version": "3.10.10"
  }
 },
 "nbformat": 4,
 "nbformat_minor": 5
}
