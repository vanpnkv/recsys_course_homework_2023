{
 "cells": [
  {
   "cell_type": "code",
   "execution_count": 1,
   "metadata": {},
   "outputs": [],
   "source": [
    "import pandas as pd\n",
    "import numpy as np\n",
    "import datetime\n",
    "import matplotlib.pyplot as plt"
   ]
  },
  {
   "cell_type": "code",
   "execution_count": 2,
   "metadata": {
    "collapsed": false,
    "jupyter": {
     "outputs_hidden": false
    },
    "pycharm": {
     "name": "#%%\n"
    },
    "scrolled": true
   },
   "outputs": [
    {
     "data": {
      "text/html": [
       "<div>\n",
       "<style scoped>\n",
       "    .dataframe tbody tr th:only-of-type {\n",
       "        vertical-align: middle;\n",
       "    }\n",
       "\n",
       "    .dataframe tbody tr th {\n",
       "        vertical-align: top;\n",
       "    }\n",
       "\n",
       "    .dataframe thead th {\n",
       "        text-align: right;\n",
       "    }\n",
       "</style>\n",
       "<table border=\"1\" class=\"dataframe\">\n",
       "  <thead>\n",
       "    <tr style=\"text-align: right;\">\n",
       "      <th></th>\n",
       "      <th>date_time</th>\n",
       "      <th>zone_id</th>\n",
       "      <th>banner_id</th>\n",
       "      <th>oaid_hash</th>\n",
       "      <th>os_id</th>\n",
       "      <th>country_id</th>\n",
       "      <th>banner_id0</th>\n",
       "      <th>rate0</th>\n",
       "      <th>g0</th>\n",
       "      <th>coeff_sum0</th>\n",
       "      <th>banner_id1</th>\n",
       "      <th>rate1</th>\n",
       "      <th>g1</th>\n",
       "      <th>coeff_sum1</th>\n",
       "      <th>clicks</th>\n",
       "    </tr>\n",
       "  </thead>\n",
       "  <tbody>\n",
       "    <tr>\n",
       "      <th>0</th>\n",
       "      <td>2021-09-27 00:01:30.000000</td>\n",
       "      <td>0</td>\n",
       "      <td>0</td>\n",
       "      <td>5664530014561852622</td>\n",
       "      <td>0</td>\n",
       "      <td>0</td>\n",
       "      <td>1240</td>\n",
       "      <td>0.067</td>\n",
       "      <td>0.035016</td>\n",
       "      <td>-7.268846</td>\n",
       "      <td>0</td>\n",
       "      <td>0.010</td>\n",
       "      <td>0.049516</td>\n",
       "      <td>-5.369901</td>\n",
       "      <td>1</td>\n",
       "    </tr>\n",
       "    <tr>\n",
       "      <th>1</th>\n",
       "      <td>2021-09-26 22:54:49.000000</td>\n",
       "      <td>1</td>\n",
       "      <td>1</td>\n",
       "      <td>5186611064559013950</td>\n",
       "      <td>0</td>\n",
       "      <td>1</td>\n",
       "      <td>1</td>\n",
       "      <td>0.002</td>\n",
       "      <td>0.054298</td>\n",
       "      <td>-2.657477</td>\n",
       "      <td>269</td>\n",
       "      <td>0.004</td>\n",
       "      <td>0.031942</td>\n",
       "      <td>-4.449220</td>\n",
       "      <td>1</td>\n",
       "    </tr>\n",
       "    <tr>\n",
       "      <th>2</th>\n",
       "      <td>2021-09-26 23:57:20.000000</td>\n",
       "      <td>2</td>\n",
       "      <td>2</td>\n",
       "      <td>2215519569292448030</td>\n",
       "      <td>0</td>\n",
       "      <td>0</td>\n",
       "      <td>2</td>\n",
       "      <td>0.014</td>\n",
       "      <td>0.014096</td>\n",
       "      <td>-3.824875</td>\n",
       "      <td>21</td>\n",
       "      <td>0.014</td>\n",
       "      <td>0.014906</td>\n",
       "      <td>-3.939309</td>\n",
       "      <td>1</td>\n",
       "    </tr>\n",
       "    <tr>\n",
       "      <th>3</th>\n",
       "      <td>2021-09-27 00:04:30.000000</td>\n",
       "      <td>3</td>\n",
       "      <td>3</td>\n",
       "      <td>6262169206735077204</td>\n",
       "      <td>1</td>\n",
       "      <td>1</td>\n",
       "      <td>3</td>\n",
       "      <td>0.012</td>\n",
       "      <td>0.015232</td>\n",
       "      <td>-3.461357</td>\n",
       "      <td>99</td>\n",
       "      <td>0.006</td>\n",
       "      <td>0.050671</td>\n",
       "      <td>-3.418403</td>\n",
       "      <td>1</td>\n",
       "    </tr>\n",
       "    <tr>\n",
       "      <th>4</th>\n",
       "      <td>2021-09-27 00:06:21.000000</td>\n",
       "      <td>4</td>\n",
       "      <td>4</td>\n",
       "      <td>4778985830203613115</td>\n",
       "      <td>1</td>\n",
       "      <td>0</td>\n",
       "      <td>4</td>\n",
       "      <td>0.019</td>\n",
       "      <td>0.051265</td>\n",
       "      <td>-4.009026</td>\n",
       "      <td>11464230</td>\n",
       "      <td>6.790</td>\n",
       "      <td>0.032005</td>\n",
       "      <td>-2.828797</td>\n",
       "      <td>1</td>\n",
       "    </tr>\n",
       "  </tbody>\n",
       "</table>\n",
       "</div>"
      ],
      "text/plain": [
       "                    date_time  zone_id  banner_id            oaid_hash  os_id  \\\n",
       "0  2021-09-27 00:01:30.000000        0          0  5664530014561852622      0   \n",
       "1  2021-09-26 22:54:49.000000        1          1  5186611064559013950      0   \n",
       "2  2021-09-26 23:57:20.000000        2          2  2215519569292448030      0   \n",
       "3  2021-09-27 00:04:30.000000        3          3  6262169206735077204      1   \n",
       "4  2021-09-27 00:06:21.000000        4          4  4778985830203613115      1   \n",
       "\n",
       "   country_id  banner_id0  rate0        g0  coeff_sum0  banner_id1  rate1  \\\n",
       "0           0        1240  0.067  0.035016   -7.268846           0  0.010   \n",
       "1           1           1  0.002  0.054298   -2.657477         269  0.004   \n",
       "2           0           2  0.014  0.014096   -3.824875          21  0.014   \n",
       "3           1           3  0.012  0.015232   -3.461357          99  0.006   \n",
       "4           0           4  0.019  0.051265   -4.009026    11464230  6.790   \n",
       "\n",
       "         g1  coeff_sum1  clicks  \n",
       "0  0.049516   -5.369901       1  \n",
       "1  0.031942   -4.449220       1  \n",
       "2  0.014906   -3.939309       1  \n",
       "3  0.050671   -3.418403       1  \n",
       "4  0.032005   -2.828797       1  "
      ]
     },
     "execution_count": 2,
     "metadata": {},
     "output_type": "execute_result"
    }
   ],
   "source": [
    "data = pd.read_csv('../data/data.csv')\n",
    "# убюраем ненужные нам фичи из датасета\n",
    "data.drop('campaign_clicks', inplace=True, axis=1)\n",
    "# уже знаем из 1 дз, что не нужно\n",
    "data.drop('impressions', inplace=True, axis=1)\n",
    "data.head()"
   ]
  },
  {
   "cell_type": "code",
   "execution_count": 3,
   "metadata": {
    "collapsed": false,
    "jupyter": {
     "outputs_hidden": false
    },
    "pycharm": {
     "name": "#%%\n"
    },
    "scrolled": true
   },
   "outputs": [
    {
     "data": {
      "text/plain": [
       "date_time     2021-09-01 00:02:49.000000\n",
       "zone_id                                0\n",
       "banner_id                              0\n",
       "oaid_hash                  1116910879938\n",
       "os_id                                  0\n",
       "country_id                             0\n",
       "banner_id0                             0\n",
       "rate0                                0.0\n",
       "g0                             -0.017637\n",
       "coeff_sum0                      -8.58897\n",
       "banner_id1                             0\n",
       "rate1                                0.0\n",
       "g1                             -0.069839\n",
       "coeff_sum1                     -9.562188\n",
       "clicks                                 0\n",
       "dtype: object"
      ]
     },
     "execution_count": 3,
     "metadata": {},
     "output_type": "execute_result"
    }
   ],
   "source": [
    "# Заметим, что в coeff_sum0 есть отрицательные числа. Посмотрим, где есть ещё\n",
    "data.min()"
   ]
  },
  {
   "cell_type": "code",
   "execution_count": 4,
   "metadata": {
    "collapsed": false,
    "jupyter": {
     "outputs_hidden": false
    },
    "pycharm": {
     "name": "#%%\n"
    },
    "scrolled": true
   },
   "outputs": [
    {
     "data": {
      "text/plain": [
       "date_time     2021-09-01 00:02:49.000000\n",
       "zone_id                                0\n",
       "banner_id                              0\n",
       "oaid_hash                  1116910879938\n",
       "os_id                                  0\n",
       "country_id                             0\n",
       "banner_id0                             0\n",
       "rate0                                0.0\n",
       "g0                                   0.0\n",
       "coeff_sum0                     -8.419295\n",
       "banner_id1                             0\n",
       "rate1                                0.0\n",
       "g1                                   0.0\n",
       "coeff_sum1                     -9.562188\n",
       "clicks                                 0\n",
       "dtype: object"
      ]
     },
     "execution_count": 4,
     "metadata": {},
     "output_type": "execute_result"
    }
   ],
   "source": [
    "# go и g1 по условию являются стандартными отклонениями. Удалим те, что имеют отрицательные значения.\n",
    "data = data[data['g0'] >= 0]\n",
    "data = data[data['g1'] >= 0]\n",
    "data.min()"
   ]
  },
  {
   "cell_type": "code",
   "execution_count": 5,
   "metadata": {
    "collapsed": false,
    "jupyter": {
     "outputs_hidden": false
    },
    "pycharm": {
     "name": "#%%\n"
    },
    "scrolled": true
   },
   "outputs": [],
   "source": [
    "# добавим ещё одну фичу с часами\n",
    "data['hour'] = pd.to_datetime(data['date_time']).dt.hour\n",
    "data['date'] = pd.to_datetime(data['date_time']).dt.date"
   ]
  },
  {
   "cell_type": "code",
   "execution_count": 6,
   "metadata": {
    "collapsed": false,
    "jupyter": {
     "outputs_hidden": false
    },
    "pycharm": {
     "name": "#%%\n"
    }
   },
   "outputs": [
    {
     "data": {
      "text/plain": [
       "datetime.date(2021, 10, 2)"
      ]
     },
     "execution_count": 6,
     "metadata": {},
     "output_type": "execute_result"
    }
   ],
   "source": [
    "# Находим дату последнего дня\n",
    "data['date'].max()"
   ]
  },
  {
   "cell_type": "code",
   "execution_count": 7,
   "metadata": {
    "collapsed": false,
    "jupyter": {
     "outputs_hidden": false
    },
    "pycharm": {
     "name": "#%%\n"
    }
   },
   "outputs": [],
   "source": [
    "from sklearn. preprocessing import OneHotEncoder\n",
    "from sklearn. linear_model import LogisticRegression\n",
    "from sklearn import metrics\n",
    "from sklearn.metrics import log_loss, roc_auc_score\n"
   ]
  },
  {
   "cell_type": "code",
   "execution_count": 24,
   "metadata": {
    "collapsed": false,
    "jupyter": {
     "outputs_hidden": false
    },
    "pycharm": {
     "name": "#%%\n"
    }
   },
   "outputs": [
    {
     "name": "stdout",
     "output_type": "stream",
     "text": [
      "  (0, 0)\t1.0\n",
      "  (0, 24)\t1.0\n",
      "  (0, 3348)\t1.0\n",
      "  (0, 4920)\t1.0\n",
      "  (0, 3475784)\t1.0\n",
      "  (1, 22)\t1.0\n",
      "  (1, 25)\t1.0\n",
      "  (1, 3349)\t1.0\n",
      "  (1, 4920)\t1.0\n",
      "  (1, 3183237)\t1.0\n",
      "  (2, 23)\t1.0\n",
      "  (2, 26)\t1.0\n",
      "  (2, 3350)\t1.0\n",
      "  (2, 4920)\t1.0\n",
      "  (2, 1362761)\t1.0\n",
      "  (3, 0)\t1.0\n",
      "  (3, 27)\t1.0\n",
      "  (3, 3351)\t1.0\n",
      "  (3, 4921)\t1.0\n",
      "  (3, 3843497)\t1.0\n",
      "  (4, 0)\t1.0\n",
      "  (4, 28)\t1.0\n",
      "  (4, 3352)\t1.0\n",
      "  (4, 4921)\t1.0\n",
      "  (4, 2932782)\t1.0\n",
      "  :\t:\n",
      "  (13677644, 13)\t1.0\n",
      "  (13677644, 43)\t1.0\n",
      "  (13677644, 3505)\t1.0\n",
      "  (13677644, 4920)\t1.0\n",
      "  (13677644, 5476975)\t1.0\n",
      "  (13677645, 20)\t1.0\n",
      "  (13677645, 38)\t1.0\n",
      "  (13677645, 3600)\t1.0\n",
      "  (13677645, 4920)\t1.0\n",
      "  (13677645, 198273)\t1.0\n",
      "  (13677646, 22)\t1.0\n",
      "  (13677646, 36)\t1.0\n",
      "  (13677646, 3370)\t1.0\n",
      "  (13677646, 4921)\t1.0\n",
      "  (13677646, 283630)\t1.0\n",
      "  (13677647, 0)\t1.0\n",
      "  (13677647, 985)\t1.0\n",
      "  (13677647, 3369)\t1.0\n",
      "  (13677647, 4920)\t1.0\n",
      "  (13677647, 4276831)\t1.0\n",
      "  (13677648, 7)\t1.0\n",
      "  (13677648, 43)\t1.0\n",
      "  (13677648, 3981)\t1.0\n",
      "  (13677648, 4920)\t1.0\n",
      "  (13677648, 5372593)\t1.0   (0, 0)\t1.0\n",
      "  (0, 32)\t1.0\n",
      "  (0, 3422)\t1.0\n",
      "  (0, 4921)\t1.0\n",
      "  (0, 4914898)\t1.0\n",
      "  (1, 0)\t1.0\n",
      "  (1, 38)\t1.0\n",
      "  (1, 3393)\t1.0\n",
      "  (1, 4926)\t1.0\n",
      "  (2, 0)\t1.0\n",
      "  (2, 53)\t1.0\n",
      "  (2, 3422)\t1.0\n",
      "  (2, 4922)\t1.0\n",
      "  (3, 0)\t1.0\n",
      "  (3, 38)\t1.0\n",
      "  (3, 3393)\t1.0\n",
      "  (3, 4920)\t1.0\n",
      "  (3, 3179411)\t1.0\n",
      "  (4, 0)\t1.0\n",
      "  (4, 38)\t1.0\n",
      "  (4, 3350)\t1.0\n",
      "  (4, 4920)\t1.0\n",
      "  (4, 2972293)\t1.0\n",
      "  (5, 0)\t1.0\n",
      "  (5, 77)\t1.0\n",
      "  :\t:\n",
      "  (2124066, 36)\t1.0\n",
      "  (2124066, 4569)\t1.0\n",
      "  (2124066, 4922)\t1.0\n",
      "  (2124067, 22)\t1.0\n",
      "  (2124067, 129)\t1.0\n",
      "  (2124067, 3435)\t1.0\n",
      "  (2124067, 4924)\t1.0\n",
      "  (2124067, 4939323)\t1.0\n",
      "  (2124068, 21)\t1.0\n",
      "  (2124068, 71)\t1.0\n",
      "  (2124068, 3478)\t1.0\n",
      "  (2124068, 4922)\t1.0\n",
      "  (2124069, 14)\t1.0\n",
      "  (2124069, 41)\t1.0\n",
      "  (2124069, 3399)\t1.0\n",
      "  (2124069, 4922)\t1.0\n",
      "  (2124070, 15)\t1.0\n",
      "  (2124070, 168)\t1.0\n",
      "  (2124070, 3876)\t1.0\n",
      "  (2124070, 4922)\t1.0\n",
      "  (2124070, 2657435)\t1.0\n",
      "  (2124071, 17)\t1.0\n",
      "  (2124071, 36)\t1.0\n",
      "  (2124071, 4569)\t1.0\n",
      "  (2124071, 4922)\t1.0   (0, 0)\t1.0\n",
      "  (0, 32)\t1.0\n",
      "  (0, 3747)\t1.0\n",
      "  (0, 4921)\t1.0\n",
      "  (0, 4914898)\t1.0\n",
      "  (1, 0)\t1.0\n",
      "  (1, 38)\t1.0\n",
      "  (1, 4926)\t1.0\n",
      "  (2, 0)\t1.0\n",
      "  (2, 53)\t1.0\n",
      "  (2, 4922)\t1.0\n",
      "  (3, 0)\t1.0\n",
      "  (3, 38)\t1.0\n",
      "  (3, 3348)\t1.0\n",
      "  (3, 4920)\t1.0\n",
      "  (3, 3179411)\t1.0\n",
      "  (4, 0)\t1.0\n",
      "  (4, 38)\t1.0\n",
      "  (4, 3396)\t1.0\n",
      "  (4, 4920)\t1.0\n",
      "  (4, 2972293)\t1.0\n",
      "  (5, 0)\t1.0\n",
      "  (5, 77)\t1.0\n",
      "  (5, 3424)\t1.0\n",
      "  (5, 4921)\t1.0\n",
      "  :\t:\n",
      "  (2124065, 2438430)\t1.0\n",
      "  (2124066, 0)\t1.0\n",
      "  (2124066, 36)\t1.0\n",
      "  (2124066, 4566)\t1.0\n",
      "  (2124066, 4922)\t1.0\n",
      "  (2124067, 22)\t1.0\n",
      "  (2124067, 129)\t1.0\n",
      "  (2124067, 3355)\t1.0\n",
      "  (2124067, 4924)\t1.0\n",
      "  (2124067, 4939323)\t1.0\n",
      "  (2124068, 21)\t1.0\n",
      "  (2124068, 71)\t1.0\n",
      "  (2124068, 4922)\t1.0\n",
      "  (2124069, 14)\t1.0\n",
      "  (2124069, 41)\t1.0\n",
      "  (2124069, 4922)\t1.0\n",
      "  (2124070, 15)\t1.0\n",
      "  (2124070, 168)\t1.0\n",
      "  (2124070, 3827)\t1.0\n",
      "  (2124070, 4922)\t1.0\n",
      "  (2124070, 2657435)\t1.0\n",
      "  (2124071, 17)\t1.0\n",
      "  (2124071, 36)\t1.0\n",
      "  (2124071, 4567)\t1.0\n",
      "  (2124071, 4922)\t1.0 0           1\n",
      "1           1\n",
      "2           1\n",
      "3           1\n",
      "4           1\n",
      "           ..\n",
      "15821465    0\n",
      "15821466    0\n",
      "15821468    0\n",
      "15821470    0\n",
      "15821471    0\n",
      "Name: clicks, Length: 13677649, dtype: int64 164         1\n",
      "166         1\n",
      "168         1\n",
      "169         1\n",
      "359         1\n",
      "           ..\n",
      "15821452    0\n",
      "15821455    0\n",
      "15821461    0\n",
      "15821467    0\n",
      "15821469    0\n",
      "Name: clicks, Length: 2124072, dtype: int64                 g0        g1  coeff_sum0  coeff_sum1\n",
      "164       0.055551  0.030272   -2.926980   -3.390642\n",
      "166       0.017521  0.085038   -1.377320   -3.329596\n",
      "168       0.171074  0.079034   -3.112081   -1.907685\n",
      "169       0.017439  0.017624   -2.493974   -3.889516\n",
      "359       0.020414  0.068041   -2.154111   -3.088063\n",
      "...            ...       ...         ...         ...\n",
      "15821452  0.043305  0.014551   -2.983741   -3.074290\n",
      "15821455  0.031065  0.099036   -3.745272   -2.287568\n",
      "15821461  0.008300  0.028516   -3.538011   -2.011854\n",
      "15821467  0.040037  0.039634   -3.495224   -3.493091\n",
      "15821469  0.021433  0.021363   -5.986478   -5.986109\n",
      "\n",
      "[2124072 rows x 4 columns]\n"
     ]
    }
   ],
   "source": [
    "def feature_engineering(dataFrame: pd.DataFrame):\n",
    "    # отделяем последний день\n",
    "    splitDate = datetime.date(2021, 10, 2)\n",
    "    train = dataFrame[dataFrame['date'] != splitDate]\n",
    "    lastDay = dataFrame[dataFrame['date'] == splitDate]\n",
    "    # делим на тренировочную и тестовую (для баннеров 0 и 1 отдельно) выборки и применяем onehotEncoding\n",
    "    X_train = train[['hour', 'zone_id', 'banner_id', 'os_id', 'oaid_hash']].values\n",
    "    y_train = train['clicks']\n",
    "    X_test_0 = lastDay[['hour', 'zone_id', 'banner_id0', 'os_id', 'oaid_hash']].values\n",
    "    X_test_1 = lastDay[['hour', 'zone_id', 'banner_id1', 'os_id', 'oaid_hash']].values\n",
    "    ips_test = lastDay[['g0', 'g1', 'coeff_sum0', 'coeff_sum1']]\n",
    "    y_test = lastDay['clicks']\n",
    "    \n",
    "    encoder = OneHotEncoder(handle_unknown='ignore', sparse_output=True)\n",
    "    X_train = encoder.fit_transform(X_train)\n",
    "    X_test_0 = encoder.transform(X_test_0)\n",
    "    X_test_1 = encoder.transform(X_test_1)\n",
    "    return X_train, X_test_0, X_test_1, y_train, y_test, ips_test\n",
    "\n",
    "X_train, X_test_0, X_test_1, y_train, y_test, ips_test = feature_engineering(data)\n",
    "print(X_train, X_test_0, X_test_1, y_train, y_test, ips_test)"
   ]
  },
  {
   "cell_type": "code",
   "execution_count": 15,
   "metadata": {
    "collapsed": false,
    "jupyter": {
     "outputs_hidden": false
    },
    "pycharm": {
     "name": "#%%\n"
    }
   },
   "outputs": [
    {
     "data": {
      "text/html": [
       "<style>#sk-container-id-3 {color: black;}#sk-container-id-3 pre{padding: 0;}#sk-container-id-3 div.sk-toggleable {background-color: white;}#sk-container-id-3 label.sk-toggleable__label {cursor: pointer;display: block;width: 100%;margin-bottom: 0;padding: 0.3em;box-sizing: border-box;text-align: center;}#sk-container-id-3 label.sk-toggleable__label-arrow:before {content: \"▸\";float: left;margin-right: 0.25em;color: #696969;}#sk-container-id-3 label.sk-toggleable__label-arrow:hover:before {color: black;}#sk-container-id-3 div.sk-estimator:hover label.sk-toggleable__label-arrow:before {color: black;}#sk-container-id-3 div.sk-toggleable__content {max-height: 0;max-width: 0;overflow: hidden;text-align: left;background-color: #f0f8ff;}#sk-container-id-3 div.sk-toggleable__content pre {margin: 0.2em;color: black;border-radius: 0.25em;background-color: #f0f8ff;}#sk-container-id-3 input.sk-toggleable__control:checked~div.sk-toggleable__content {max-height: 200px;max-width: 100%;overflow: auto;}#sk-container-id-3 input.sk-toggleable__control:checked~label.sk-toggleable__label-arrow:before {content: \"▾\";}#sk-container-id-3 div.sk-estimator input.sk-toggleable__control:checked~label.sk-toggleable__label {background-color: #d4ebff;}#sk-container-id-3 div.sk-label input.sk-toggleable__control:checked~label.sk-toggleable__label {background-color: #d4ebff;}#sk-container-id-3 input.sk-hidden--visually {border: 0;clip: rect(1px 1px 1px 1px);clip: rect(1px, 1px, 1px, 1px);height: 1px;margin: -1px;overflow: hidden;padding: 0;position: absolute;width: 1px;}#sk-container-id-3 div.sk-estimator {font-family: monospace;background-color: #f0f8ff;border: 1px dotted black;border-radius: 0.25em;box-sizing: border-box;margin-bottom: 0.5em;}#sk-container-id-3 div.sk-estimator:hover {background-color: #d4ebff;}#sk-container-id-3 div.sk-parallel-item::after {content: \"\";width: 100%;border-bottom: 1px solid gray;flex-grow: 1;}#sk-container-id-3 div.sk-label:hover label.sk-toggleable__label {background-color: #d4ebff;}#sk-container-id-3 div.sk-serial::before {content: \"\";position: absolute;border-left: 1px solid gray;box-sizing: border-box;top: 0;bottom: 0;left: 50%;z-index: 0;}#sk-container-id-3 div.sk-serial {display: flex;flex-direction: column;align-items: center;background-color: white;padding-right: 0.2em;padding-left: 0.2em;position: relative;}#sk-container-id-3 div.sk-item {position: relative;z-index: 1;}#sk-container-id-3 div.sk-parallel {display: flex;align-items: stretch;justify-content: center;background-color: white;position: relative;}#sk-container-id-3 div.sk-item::before, #sk-container-id-3 div.sk-parallel-item::before {content: \"\";position: absolute;border-left: 1px solid gray;box-sizing: border-box;top: 0;bottom: 0;left: 50%;z-index: -1;}#sk-container-id-3 div.sk-parallel-item {display: flex;flex-direction: column;z-index: 1;position: relative;background-color: white;}#sk-container-id-3 div.sk-parallel-item:first-child::after {align-self: flex-end;width: 50%;}#sk-container-id-3 div.sk-parallel-item:last-child::after {align-self: flex-start;width: 50%;}#sk-container-id-3 div.sk-parallel-item:only-child::after {width: 0;}#sk-container-id-3 div.sk-dashed-wrapped {border: 1px dashed gray;margin: 0 0.4em 0.5em 0.4em;box-sizing: border-box;padding-bottom: 0.4em;background-color: white;}#sk-container-id-3 div.sk-label label {font-family: monospace;font-weight: bold;display: inline-block;line-height: 1.2em;}#sk-container-id-3 div.sk-label-container {text-align: center;}#sk-container-id-3 div.sk-container {/* jupyter's `normalize.less` sets `[hidden] { display: none; }` but bootstrap.min.css set `[hidden] { display: none !important; }` so we also need the `!important` here to be able to override the default hidden behavior on the sphinx rendered scikit-learn.org. See: https://github.com/scikit-learn/scikit-learn/issues/21755 */display: inline-block !important;position: relative;}#sk-container-id-3 div.sk-text-repr-fallback {display: none;}</style><div id=\"sk-container-id-3\" class=\"sk-top-container\"><div class=\"sk-text-repr-fallback\"><pre>LogisticRegression(C=0.001, solver=&#x27;liblinear&#x27;)</pre><b>In a Jupyter environment, please rerun this cell to show the HTML representation or trust the notebook. <br />On GitHub, the HTML representation is unable to render, please try loading this page with nbviewer.org.</b></div><div class=\"sk-container\" hidden><div class=\"sk-item\"><div class=\"sk-estimator sk-toggleable\"><input class=\"sk-toggleable__control sk-hidden--visually\" id=\"sk-estimator-id-3\" type=\"checkbox\" checked><label for=\"sk-estimator-id-3\" class=\"sk-toggleable__label sk-toggleable__label-arrow\">LogisticRegression</label><div class=\"sk-toggleable__content\"><pre>LogisticRegression(C=0.001, solver=&#x27;liblinear&#x27;)</pre></div></div></div></div></div>"
      ],
      "text/plain": [
       "LogisticRegression(C=0.001, solver='liblinear')"
      ]
     },
     "execution_count": 15,
     "metadata": {},
     "output_type": "execute_result"
    }
   ],
   "source": [
    "\n",
    "# создаём модель\n",
    "def create_model():\n",
    "    return LogisticRegression(solver=\"liblinear\", penalty=\"l2\", C=0.001)\n",
    "\n",
    "model = create_model()\n",
    "model.fit(X_train, y_train)"
   ]
  },
  {
   "cell_type": "code",
   "execution_count": 18,
   "metadata": {},
   "outputs": [
    {
     "name": "stdout",
     "output_type": "stream",
     "text": [
      "Вывод для бейзлайнa\n",
      "log_loss:  0.15428600773285636\n",
      "auc:  0.5\n",
      "Вывод для модели\n",
      "log_loss:  0.13877345294543336\n",
      "auc:  0.7578691825449726\n"
     ]
    }
   ],
   "source": [
    "    \n",
    "baselineMean = y_train.mean()\n",
    "baselineLogLoss = log_loss(y_test, [baselineMean] * len(y_test))\n",
    "baselineAuc = roc_auc_score(y_test, [baselineMean] * len(y_test))\n",
    "\n",
    "print('Вывод для бейзлайнa')\n",
    "print('log_loss: ', baselineLogLoss)\n",
    "print('auc: ', baselineAuc)\n",
    "\n",
    "y_pred = model.predict_proba(X_test_1)\n",
    "modelLogLoss = log_loss(y_test, y_pred)\n",
    "modelAuc = roc_auc_score(y_test, y_pred[:, 1])\n",
    "\n",
    "print('Вывод для модели')\n",
    "print('log_loss: ', modelLogLoss)\n",
    "print('auc: ', modelAuc)"
   ]
  },
  {
   "cell_type": "code",
   "execution_count": null,
   "metadata": {},
   "outputs": [],
   "source": [
    "# Преобразуем вероятность того, что одна случайная величина болтше другой:\n",
    "# P(X > Y) = P(X - Y > 0) = 1 - P(X - Y <= 0) = 1 - F_{X - Y}(0)\n",
    "# Причём, величина X - Y является нормальной. Тогда надо посчитать разность coeff_sum0 и coeff_sum1 и корень из суммы квадратов g0 и g1"
   ]
  },
  {
   "cell_type": "code",
   "execution_count": 22,
   "metadata": {},
   "outputs": [],
   "source": [
    "from scipy.stats import norm\n",
    "from scipy.special import logit"
   ]
  },
  {
   "cell_type": "code",
   "execution_count": 34,
   "metadata": {},
   "outputs": [
    {
     "name": "stdout",
     "output_type": "stream",
     "text": [
      "Clipped IPS\n",
      "0.06804282816928688\n"
     ]
    }
   ],
   "source": [
    "lambda_=10\n",
    "pi_0 =  1 - norm.cdf(0, loc=ips_test['coeff_sum0'] - ips_test['coeff_sum1'], scale=np.sqrt(ips_test['g0']**2 + ips_test['g1']**2))\n",
    "coeff_sum0 = logit(model.predict_proba(X_test_0)[:, 1])\n",
    "coeff_sum1 = logit(model.predict_proba(X_test_1)[:, 1])\n",
    "pi_1 =  1 - norm.cdf(0, loc=coeff_sum0 - coeff_sum1, scale=np.sqrt(ips_test['g0']**2 + ips_test['g1']**2 + 1e-9))\n",
    "cips = np.mean(y_test * np.minimum(pi_1 / (pi_0 + 1e-9), lambda_))\n",
    "print('Clipped IPS')\n",
    "print(cips)"
   ]
  },
  {
   "cell_type": "code",
   "execution_count": null,
   "metadata": {},
   "outputs": [],
   "source": []
  }
 ],
 "metadata": {
  "kernelspec": {
   "display_name": "Python 3 (ipykernel)",
   "language": "python",
   "name": "python3"
  },
  "language_info": {
   "codemirror_mode": {
    "name": "ipython",
    "version": 3
   },
   "file_extension": ".py",
   "mimetype": "text/x-python",
   "name": "python",
   "nbconvert_exporter": "python",
   "pygments_lexer": "ipython3",
   "version": "3.10.11"
  }
 },
 "nbformat": 4,
 "nbformat_minor": 4
}
