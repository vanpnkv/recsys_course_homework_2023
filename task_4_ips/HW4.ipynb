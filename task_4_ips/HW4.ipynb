{
  "nbformat": 4,
  "nbformat_minor": 0,
  "metadata": {
    "colab": {
      "provenance": []
    },
    "kernelspec": {
      "name": "python3",
      "display_name": "Python 3"
    },
    "language_info": {
      "name": "python"
    }
  },
  "cells": [
    {
      "cell_type": "code",
      "execution_count": null,
      "metadata": {
        "id": "a-GZVQ25e8qi"
      },
      "outputs": [],
      "source": [
        "import pandas as pd\n",
        "\n",
        "import pickle\n",
        "\n",
        "import numpy as np\n",
        "\n",
        "from sklearn.model_selection import train_test_split\n",
        "from sklearn.metrics import f1_score, accuracy_score, log_loss, roc_curve, roc_auc_score, auc, RocCurveDisplay\n",
        "from sklearn.linear_model import LogisticRegression\n",
        "from scipy.special import logit\n",
        "\n",
        "from scipy.stats import norm"
      ]
    },
    {
      "cell_type": "code",
      "source": [
        "%%time\n",
        "from google.colab import drive\n",
        "\n",
        "drive.mount('/content/gdrive')\n",
        "\n",
        "\n",
        "!cp -r \"/content/gdrive/My Drive/recsys/HW1_data.csv\" \"/content/data.csv\""
      ],
      "metadata": {
        "colab": {
          "base_uri": "https://localhost:8080/"
        },
        "id": "zs914W5nfFAG",
        "outputId": "30408ff8-8772-4df3-8a6a-5b7f41cd3825"
      },
      "execution_count": null,
      "outputs": [
        {
          "output_type": "stream",
          "name": "stdout",
          "text": [
            "Drive already mounted at /content/gdrive; to attempt to forcibly remount, call drive.mount(\"/content/gdrive\", force_remount=True).\n",
            "CPU times: user 246 ms, sys: 30.5 ms, total: 276 ms\n",
            "Wall time: 29.8 s\n"
          ]
        }
      ]
    },
    {
      "cell_type": "code",
      "source": [
        "%%time\n",
        "data = pd.read_csv('data.csv')\n",
        "print(data.shape)\n",
        "print(data.head())"
      ],
      "metadata": {
        "colab": {
          "base_uri": "https://localhost:8080/"
        },
        "id": "qtLmyniJfLO9",
        "outputId": "443141aa-ba04-4b45-a8b8-4b18f9aaaf4c"
      },
      "execution_count": null,
      "outputs": [
        {
          "output_type": "stream",
          "name": "stdout",
          "text": [
            "(15821472, 17)\n",
            "                    date_time  zone_id  banner_id            oaid_hash  \\\n",
            "0  2021-09-27 00:01:30.000000        0          0  5664530014561852622   \n",
            "1  2021-09-26 22:54:49.000000        1          1  5186611064559013950   \n",
            "2  2021-09-26 23:57:20.000000        2          2  2215519569292448030   \n",
            "3  2021-09-27 00:04:30.000000        3          3  6262169206735077204   \n",
            "4  2021-09-27 00:06:21.000000        4          4  4778985830203613115   \n",
            "\n",
            "   campaign_clicks  os_id  country_id  banner_id0  rate0        g0  \\\n",
            "0                0      0           0        1240  0.067  0.035016   \n",
            "1                0      0           1           1  0.002  0.054298   \n",
            "2                3      0           0           2  0.014  0.014096   \n",
            "3                0      1           1           3  0.012  0.015232   \n",
            "4                0      1           0           4  0.019  0.051265   \n",
            "\n",
            "   coeff_sum0  banner_id1  rate1        g1  coeff_sum1  impressions  clicks  \n",
            "0   -7.268846           0  0.010  0.049516   -5.369901            1       1  \n",
            "1   -2.657477         269  0.004  0.031942   -4.449220            1       1  \n",
            "2   -3.824875          21  0.014  0.014906   -3.939309            1       1  \n",
            "3   -3.461357          99  0.006  0.050671   -3.418403            1       1  \n",
            "4   -4.009026    11464230  6.790  0.032005   -2.828797            1       1  \n",
            "CPU times: user 45 s, sys: 9.86 s, total: 54.9 s\n",
            "Wall time: 57.1 s\n"
          ]
        }
      ]
    },
    {
      "cell_type": "markdown",
      "source": [
        "Отфильтруем те значения banner_id != banner_id0"
      ],
      "metadata": {
        "id": "-iLGetleof-g"
      }
    },
    {
      "cell_type": "code",
      "source": [
        "data = data[data['banner_id'] == data['banner_id0']]"
      ],
      "metadata": {
        "id": "KXx27fm1lNIx"
      },
      "execution_count": null,
      "outputs": []
    },
    {
      "cell_type": "code",
      "source": [
        "my_feature = ['zone_id', 'banner_id', 'os_id', 'country_id']\n",
        "#my_feature = ['zone_id', 'banner_id', 'campaign_clicks', 'os_id', 'country_id']\n",
        "\n",
        "#data_with_names = data[my_feature]\n",
        "#data_with_names = pd.get_dummies(data_with_names, columns=my_feature, sparse = True)\n",
        "#column_names = data_with_names.columns\n",
        "#del data_with_names"
      ],
      "metadata": {
        "id": "7KA-8-v_8W1z"
      },
      "execution_count": null,
      "outputs": []
    },
    {
      "cell_type": "markdown",
      "source": [
        "Отделим последний день, так как на нем нужно сравнивать"
      ],
      "metadata": {
        "id": "fUR3So4Dot7S"
      }
    },
    {
      "cell_type": "code",
      "source": [
        "%%time\n",
        "data_last_day = data[data['date_time'] >= '2021-10-02']\n",
        "data = data[data['date_time'] < '2021-10-02']\n",
        "\n"
      ],
      "metadata": {
        "id": "tRc0eDQfiogX",
        "colab": {
          "base_uri": "https://localhost:8080/"
        },
        "outputId": "53b71122-fc46-451d-ba8f-1b8c6fc7a0c8"
      },
      "execution_count": null,
      "outputs": [
        {
          "output_type": "stream",
          "name": "stdout",
          "text": [
            "CPU times: user 4.69 s, sys: 738 ms, total: 5.43 s\n",
            "Wall time: 5.55 s\n"
          ]
        }
      ]
    },
    {
      "cell_type": "code",
      "source": [],
      "metadata": {
        "id": "U8o8xH3o4FoD"
      },
      "execution_count": null,
      "outputs": []
    },
    {
      "cell_type": "code",
      "source": [
        "y_data = data['clicks']\n",
        "y_data_last_day = data_last_day['clicks']\n",
        "\n",
        "data.drop(['clicks'],axis = 1, inplace = True)\n",
        "data_last_day.drop(['clicks'],axis = 1, inplace = True)"
      ],
      "metadata": {
        "id": "ytNe6XhcyGvq"
      },
      "execution_count": null,
      "outputs": []
    },
    {
      "cell_type": "code",
      "source": [
        "data.head()"
      ],
      "metadata": {
        "colab": {
          "base_uri": "https://localhost:8080/",
          "height": 313
        },
        "id": "oqHs_CRzyqbq",
        "outputId": "24fdd2b9-9980-4693-c186-a18cbf44bf05"
      },
      "execution_count": null,
      "outputs": [
        {
          "output_type": "execute_result",
          "data": {
            "text/plain": [
              "                    date_time  zone_id  banner_id            oaid_hash  \\\n",
              "1  2021-09-26 22:54:49.000000        1          1  5186611064559013950   \n",
              "2  2021-09-26 23:57:20.000000        2          2  2215519569292448030   \n",
              "3  2021-09-27 00:04:30.000000        3          3  6262169206735077204   \n",
              "4  2021-09-27 00:06:21.000000        4          4  4778985830203613115   \n",
              "5  2021-09-27 00:06:50.000000        5          5  2377014068362699676   \n",
              "\n",
              "   campaign_clicks  os_id  country_id  banner_id0  rate0        g0  \\\n",
              "1                0      0           1           1  0.002  0.054298   \n",
              "2                3      0           0           2  0.014  0.014096   \n",
              "3                0      1           1           3  0.012  0.015232   \n",
              "4                0      1           0           4  0.019  0.051265   \n",
              "5                0      2           2           5  0.004  0.337634   \n",
              "\n",
              "   coeff_sum0  banner_id1  rate1        g1  coeff_sum1  impressions  \n",
              "1   -2.657477         269  0.004  0.031942   -4.449220            1  \n",
              "2   -3.824875          21  0.014  0.014906   -3.939309            1  \n",
              "3   -3.461357          99  0.006  0.050671   -3.418403            1  \n",
              "4   -4.009026    11464230  6.790  0.032005   -2.828797            1  \n",
              "5   -3.222757          37  0.004  0.338195   -3.221755            1  "
            ],
            "text/html": [
              "\n",
              "  <div id=\"df-82088e4e-ff43-4089-9d92-6b1aa7d078d4\" class=\"colab-df-container\">\n",
              "    <div>\n",
              "<style scoped>\n",
              "    .dataframe tbody tr th:only-of-type {\n",
              "        vertical-align: middle;\n",
              "    }\n",
              "\n",
              "    .dataframe tbody tr th {\n",
              "        vertical-align: top;\n",
              "    }\n",
              "\n",
              "    .dataframe thead th {\n",
              "        text-align: right;\n",
              "    }\n",
              "</style>\n",
              "<table border=\"1\" class=\"dataframe\">\n",
              "  <thead>\n",
              "    <tr style=\"text-align: right;\">\n",
              "      <th></th>\n",
              "      <th>date_time</th>\n",
              "      <th>zone_id</th>\n",
              "      <th>banner_id</th>\n",
              "      <th>oaid_hash</th>\n",
              "      <th>campaign_clicks</th>\n",
              "      <th>os_id</th>\n",
              "      <th>country_id</th>\n",
              "      <th>banner_id0</th>\n",
              "      <th>rate0</th>\n",
              "      <th>g0</th>\n",
              "      <th>coeff_sum0</th>\n",
              "      <th>banner_id1</th>\n",
              "      <th>rate1</th>\n",
              "      <th>g1</th>\n",
              "      <th>coeff_sum1</th>\n",
              "      <th>impressions</th>\n",
              "    </tr>\n",
              "  </thead>\n",
              "  <tbody>\n",
              "    <tr>\n",
              "      <th>1</th>\n",
              "      <td>2021-09-26 22:54:49.000000</td>\n",
              "      <td>1</td>\n",
              "      <td>1</td>\n",
              "      <td>5186611064559013950</td>\n",
              "      <td>0</td>\n",
              "      <td>0</td>\n",
              "      <td>1</td>\n",
              "      <td>1</td>\n",
              "      <td>0.002</td>\n",
              "      <td>0.054298</td>\n",
              "      <td>-2.657477</td>\n",
              "      <td>269</td>\n",
              "      <td>0.004</td>\n",
              "      <td>0.031942</td>\n",
              "      <td>-4.449220</td>\n",
              "      <td>1</td>\n",
              "    </tr>\n",
              "    <tr>\n",
              "      <th>2</th>\n",
              "      <td>2021-09-26 23:57:20.000000</td>\n",
              "      <td>2</td>\n",
              "      <td>2</td>\n",
              "      <td>2215519569292448030</td>\n",
              "      <td>3</td>\n",
              "      <td>0</td>\n",
              "      <td>0</td>\n",
              "      <td>2</td>\n",
              "      <td>0.014</td>\n",
              "      <td>0.014096</td>\n",
              "      <td>-3.824875</td>\n",
              "      <td>21</td>\n",
              "      <td>0.014</td>\n",
              "      <td>0.014906</td>\n",
              "      <td>-3.939309</td>\n",
              "      <td>1</td>\n",
              "    </tr>\n",
              "    <tr>\n",
              "      <th>3</th>\n",
              "      <td>2021-09-27 00:04:30.000000</td>\n",
              "      <td>3</td>\n",
              "      <td>3</td>\n",
              "      <td>6262169206735077204</td>\n",
              "      <td>0</td>\n",
              "      <td>1</td>\n",
              "      <td>1</td>\n",
              "      <td>3</td>\n",
              "      <td>0.012</td>\n",
              "      <td>0.015232</td>\n",
              "      <td>-3.461357</td>\n",
              "      <td>99</td>\n",
              "      <td>0.006</td>\n",
              "      <td>0.050671</td>\n",
              "      <td>-3.418403</td>\n",
              "      <td>1</td>\n",
              "    </tr>\n",
              "    <tr>\n",
              "      <th>4</th>\n",
              "      <td>2021-09-27 00:06:21.000000</td>\n",
              "      <td>4</td>\n",
              "      <td>4</td>\n",
              "      <td>4778985830203613115</td>\n",
              "      <td>0</td>\n",
              "      <td>1</td>\n",
              "      <td>0</td>\n",
              "      <td>4</td>\n",
              "      <td>0.019</td>\n",
              "      <td>0.051265</td>\n",
              "      <td>-4.009026</td>\n",
              "      <td>11464230</td>\n",
              "      <td>6.790</td>\n",
              "      <td>0.032005</td>\n",
              "      <td>-2.828797</td>\n",
              "      <td>1</td>\n",
              "    </tr>\n",
              "    <tr>\n",
              "      <th>5</th>\n",
              "      <td>2021-09-27 00:06:50.000000</td>\n",
              "      <td>5</td>\n",
              "      <td>5</td>\n",
              "      <td>2377014068362699676</td>\n",
              "      <td>0</td>\n",
              "      <td>2</td>\n",
              "      <td>2</td>\n",
              "      <td>5</td>\n",
              "      <td>0.004</td>\n",
              "      <td>0.337634</td>\n",
              "      <td>-3.222757</td>\n",
              "      <td>37</td>\n",
              "      <td>0.004</td>\n",
              "      <td>0.338195</td>\n",
              "      <td>-3.221755</td>\n",
              "      <td>1</td>\n",
              "    </tr>\n",
              "  </tbody>\n",
              "</table>\n",
              "</div>\n",
              "    <div class=\"colab-df-buttons\">\n",
              "\n",
              "  <div class=\"colab-df-container\">\n",
              "    <button class=\"colab-df-convert\" onclick=\"convertToInteractive('df-82088e4e-ff43-4089-9d92-6b1aa7d078d4')\"\n",
              "            title=\"Convert this dataframe to an interactive table.\"\n",
              "            style=\"display:none;\">\n",
              "\n",
              "  <svg xmlns=\"http://www.w3.org/2000/svg\" height=\"24px\" viewBox=\"0 -960 960 960\">\n",
              "    <path d=\"M120-120v-720h720v720H120Zm60-500h600v-160H180v160Zm220 220h160v-160H400v160Zm0 220h160v-160H400v160ZM180-400h160v-160H180v160Zm440 0h160v-160H620v160ZM180-180h160v-160H180v160Zm440 0h160v-160H620v160Z\"/>\n",
              "  </svg>\n",
              "    </button>\n",
              "\n",
              "  <style>\n",
              "    .colab-df-container {\n",
              "      display:flex;\n",
              "      gap: 12px;\n",
              "    }\n",
              "\n",
              "    .colab-df-convert {\n",
              "      background-color: #E8F0FE;\n",
              "      border: none;\n",
              "      border-radius: 50%;\n",
              "      cursor: pointer;\n",
              "      display: none;\n",
              "      fill: #1967D2;\n",
              "      height: 32px;\n",
              "      padding: 0 0 0 0;\n",
              "      width: 32px;\n",
              "    }\n",
              "\n",
              "    .colab-df-convert:hover {\n",
              "      background-color: #E2EBFA;\n",
              "      box-shadow: 0px 1px 2px rgba(60, 64, 67, 0.3), 0px 1px 3px 1px rgba(60, 64, 67, 0.15);\n",
              "      fill: #174EA6;\n",
              "    }\n",
              "\n",
              "    .colab-df-buttons div {\n",
              "      margin-bottom: 4px;\n",
              "    }\n",
              "\n",
              "    [theme=dark] .colab-df-convert {\n",
              "      background-color: #3B4455;\n",
              "      fill: #D2E3FC;\n",
              "    }\n",
              "\n",
              "    [theme=dark] .colab-df-convert:hover {\n",
              "      background-color: #434B5C;\n",
              "      box-shadow: 0px 1px 3px 1px rgba(0, 0, 0, 0.15);\n",
              "      filter: drop-shadow(0px 1px 2px rgba(0, 0, 0, 0.3));\n",
              "      fill: #FFFFFF;\n",
              "    }\n",
              "  </style>\n",
              "\n",
              "    <script>\n",
              "      const buttonEl =\n",
              "        document.querySelector('#df-82088e4e-ff43-4089-9d92-6b1aa7d078d4 button.colab-df-convert');\n",
              "      buttonEl.style.display =\n",
              "        google.colab.kernel.accessAllowed ? 'block' : 'none';\n",
              "\n",
              "      async function convertToInteractive(key) {\n",
              "        const element = document.querySelector('#df-82088e4e-ff43-4089-9d92-6b1aa7d078d4');\n",
              "        const dataTable =\n",
              "          await google.colab.kernel.invokeFunction('convertToInteractive',\n",
              "                                                    [key], {});\n",
              "        if (!dataTable) return;\n",
              "\n",
              "        const docLinkHtml = 'Like what you see? Visit the ' +\n",
              "          '<a target=\"_blank\" href=https://colab.research.google.com/notebooks/data_table.ipynb>data table notebook</a>'\n",
              "          + ' to learn more about interactive tables.';\n",
              "        element.innerHTML = '';\n",
              "        dataTable['output_type'] = 'display_data';\n",
              "        await google.colab.output.renderOutput(dataTable, element);\n",
              "        const docLink = document.createElement('div');\n",
              "        docLink.innerHTML = docLinkHtml;\n",
              "        element.appendChild(docLink);\n",
              "      }\n",
              "    </script>\n",
              "  </div>\n",
              "\n",
              "\n",
              "<div id=\"df-434cc38a-bc75-4a81-b156-3f4cd451beed\">\n",
              "  <button class=\"colab-df-quickchart\" onclick=\"quickchart('df-434cc38a-bc75-4a81-b156-3f4cd451beed')\"\n",
              "            title=\"Suggest charts\"\n",
              "            style=\"display:none;\">\n",
              "\n",
              "<svg xmlns=\"http://www.w3.org/2000/svg\" height=\"24px\"viewBox=\"0 0 24 24\"\n",
              "     width=\"24px\">\n",
              "    <g>\n",
              "        <path d=\"M19 3H5c-1.1 0-2 .9-2 2v14c0 1.1.9 2 2 2h14c1.1 0 2-.9 2-2V5c0-1.1-.9-2-2-2zM9 17H7v-7h2v7zm4 0h-2V7h2v10zm4 0h-2v-4h2v4z\"/>\n",
              "    </g>\n",
              "</svg>\n",
              "  </button>\n",
              "\n",
              "<style>\n",
              "  .colab-df-quickchart {\n",
              "      --bg-color: #E8F0FE;\n",
              "      --fill-color: #1967D2;\n",
              "      --hover-bg-color: #E2EBFA;\n",
              "      --hover-fill-color: #174EA6;\n",
              "      --disabled-fill-color: #AAA;\n",
              "      --disabled-bg-color: #DDD;\n",
              "  }\n",
              "\n",
              "  [theme=dark] .colab-df-quickchart {\n",
              "      --bg-color: #3B4455;\n",
              "      --fill-color: #D2E3FC;\n",
              "      --hover-bg-color: #434B5C;\n",
              "      --hover-fill-color: #FFFFFF;\n",
              "      --disabled-bg-color: #3B4455;\n",
              "      --disabled-fill-color: #666;\n",
              "  }\n",
              "\n",
              "  .colab-df-quickchart {\n",
              "    background-color: var(--bg-color);\n",
              "    border: none;\n",
              "    border-radius: 50%;\n",
              "    cursor: pointer;\n",
              "    display: none;\n",
              "    fill: var(--fill-color);\n",
              "    height: 32px;\n",
              "    padding: 0;\n",
              "    width: 32px;\n",
              "  }\n",
              "\n",
              "  .colab-df-quickchart:hover {\n",
              "    background-color: var(--hover-bg-color);\n",
              "    box-shadow: 0 1px 2px rgba(60, 64, 67, 0.3), 0 1px 3px 1px rgba(60, 64, 67, 0.15);\n",
              "    fill: var(--button-hover-fill-color);\n",
              "  }\n",
              "\n",
              "  .colab-df-quickchart-complete:disabled,\n",
              "  .colab-df-quickchart-complete:disabled:hover {\n",
              "    background-color: var(--disabled-bg-color);\n",
              "    fill: var(--disabled-fill-color);\n",
              "    box-shadow: none;\n",
              "  }\n",
              "\n",
              "  .colab-df-spinner {\n",
              "    border: 2px solid var(--fill-color);\n",
              "    border-color: transparent;\n",
              "    border-bottom-color: var(--fill-color);\n",
              "    animation:\n",
              "      spin 1s steps(1) infinite;\n",
              "  }\n",
              "\n",
              "  @keyframes spin {\n",
              "    0% {\n",
              "      border-color: transparent;\n",
              "      border-bottom-color: var(--fill-color);\n",
              "      border-left-color: var(--fill-color);\n",
              "    }\n",
              "    20% {\n",
              "      border-color: transparent;\n",
              "      border-left-color: var(--fill-color);\n",
              "      border-top-color: var(--fill-color);\n",
              "    }\n",
              "    30% {\n",
              "      border-color: transparent;\n",
              "      border-left-color: var(--fill-color);\n",
              "      border-top-color: var(--fill-color);\n",
              "      border-right-color: var(--fill-color);\n",
              "    }\n",
              "    40% {\n",
              "      border-color: transparent;\n",
              "      border-right-color: var(--fill-color);\n",
              "      border-top-color: var(--fill-color);\n",
              "    }\n",
              "    60% {\n",
              "      border-color: transparent;\n",
              "      border-right-color: var(--fill-color);\n",
              "    }\n",
              "    80% {\n",
              "      border-color: transparent;\n",
              "      border-right-color: var(--fill-color);\n",
              "      border-bottom-color: var(--fill-color);\n",
              "    }\n",
              "    90% {\n",
              "      border-color: transparent;\n",
              "      border-bottom-color: var(--fill-color);\n",
              "    }\n",
              "  }\n",
              "</style>\n",
              "\n",
              "  <script>\n",
              "    async function quickchart(key) {\n",
              "      const quickchartButtonEl =\n",
              "        document.querySelector('#' + key + ' button');\n",
              "      quickchartButtonEl.disabled = true;  // To prevent multiple clicks.\n",
              "      quickchartButtonEl.classList.add('colab-df-spinner');\n",
              "      try {\n",
              "        const charts = await google.colab.kernel.invokeFunction(\n",
              "            'suggestCharts', [key], {});\n",
              "      } catch (error) {\n",
              "        console.error('Error during call to suggestCharts:', error);\n",
              "      }\n",
              "      quickchartButtonEl.classList.remove('colab-df-spinner');\n",
              "      quickchartButtonEl.classList.add('colab-df-quickchart-complete');\n",
              "    }\n",
              "    (() => {\n",
              "      let quickchartButtonEl =\n",
              "        document.querySelector('#df-434cc38a-bc75-4a81-b156-3f4cd451beed button');\n",
              "      quickchartButtonEl.style.display =\n",
              "        google.colab.kernel.accessAllowed ? 'block' : 'none';\n",
              "    })();\n",
              "  </script>\n",
              "</div>\n",
              "    </div>\n",
              "  </div>\n"
            ]
          },
          "metadata": {},
          "execution_count": 8
        }
      ]
    },
    {
      "cell_type": "code",
      "source": [
        "def analysis(data: pd.DataFrame):\n",
        "    for colomn in data.columns:\n",
        "        uniq = data[colomn].unique()\n",
        "        colomn_uniq_size = uniq.size\n",
        "\n",
        "        print(colomn)\n",
        "        print('size', colomn_uniq_size)\n",
        "        print('min, max', uniq.min(), uniq.max())\n",
        "        if colomn_uniq_size < 50:\n",
        "            print(uniq)\n",
        "\n",
        "    pass\n",
        "\n",
        "analysis(data)"
      ],
      "metadata": {
        "id": "v1O9ggH73sJI",
        "colab": {
          "base_uri": "https://localhost:8080/"
        },
        "outputId": "a9a93470-eb90-44f0-af7b-22f00577e94c"
      },
      "execution_count": null,
      "outputs": [
        {
          "output_type": "stream",
          "name": "stdout",
          "text": [
            "date_time\n",
            "size 518305\n",
            "min, max 2021-09-01 00:02:49.000000 2021-10-01 23:59:59.000000\n",
            "zone_id\n",
            "size 3185\n",
            "min, max 0 3443\n",
            "banner_id\n",
            "size 1558\n",
            "min, max 0 1632\n",
            "oaid_hash\n",
            "size 5027796\n",
            "min, max 1116910879938 9223371107563590722\n",
            "campaign_clicks\n",
            "size 822\n",
            "min, max 0 829\n",
            "os_id\n",
            "size 11\n",
            "min, max 0 10\n",
            "[ 0  1  2  3  4  5  6  7  8  9 10]\n",
            "country_id\n",
            "size 17\n",
            "min, max 0 16\n",
            "[ 1  0  2  3  4  5  6  8  9 10  7 11 13 12 14 15 16]\n",
            "banner_id0\n",
            "size 1558\n",
            "min, max 0 1632\n",
            "rate0\n",
            "size 57\n",
            "min, max 0.0 0.1\n",
            "g0\n",
            "size 11783534\n",
            "min, max -0.0176373981227117 691.088787242959\n",
            "coeff_sum0\n",
            "size 4189282\n",
            "min, max -8.58897042950208 0.0\n",
            "banner_id1\n",
            "size 2678438\n",
            "min, max 0 14623602\n",
            "rate1\n",
            "size 825\n",
            "min, max nan nan\n",
            "g1\n",
            "size 11566529\n",
            "min, max nan nan\n",
            "coeff_sum1\n",
            "size 4570436\n",
            "min, max nan nan\n",
            "impressions\n",
            "size 1\n",
            "min, max 1 1\n",
            "[1]\n"
          ]
        }
      ]
    },
    {
      "cell_type": "markdown",
      "source": [
        "Соберем отдельно данные по послднему дню, для pi стратегии, для baner_id0 и для baner_id1. А так же обучающую выборку на всех данных без последнего дня"
      ],
      "metadata": {
        "id": "_n32ZGpRrLVk"
      }
    },
    {
      "cell_type": "code",
      "source": [
        "\n",
        "\n",
        "pi_0_data_last_day = data_last_day[['coeff_sum0', 'g0', 'coeff_sum1', 'g1']]\n",
        "\n",
        "pi_data_last_day = data_last_day[['coeff_sum0', 'g0', 'coeff_sum1', 'g1']]\n",
        "\n",
        "data_banerid = data[my_feature]\n",
        "\n",
        "data_last_day_banerid0 = data_last_day[my_feature]\n",
        "data_last_day_banerid0['banner_id'] = data_last_day['banner_id0']\n",
        "\n",
        "data_last_day_banerid1 = data_last_day[my_feature]\n",
        "data_last_day_banerid1['banner_id'] = data_last_day['banner_id1']\n"
      ],
      "metadata": {
        "colab": {
          "base_uri": "https://localhost:8080/"
        },
        "id": "I3BrOgyDoD9z",
        "outputId": "00c69ce0-684d-422b-d74e-3f619ad0d09c"
      },
      "execution_count": null,
      "outputs": [
        {
          "output_type": "stream",
          "name": "stderr",
          "text": [
            "<ipython-input-10-a09c78926d5c>:8: SettingWithCopyWarning: \n",
            "A value is trying to be set on a copy of a slice from a DataFrame.\n",
            "Try using .loc[row_indexer,col_indexer] = value instead\n",
            "\n",
            "See the caveats in the documentation: https://pandas.pydata.org/pandas-docs/stable/user_guide/indexing.html#returning-a-view-versus-a-copy\n",
            "  data_last_day_banerid0['banner_id'] = data_last_day['banner_id0']\n",
            "<ipython-input-10-a09c78926d5c>:11: SettingWithCopyWarning: \n",
            "A value is trying to be set on a copy of a slice from a DataFrame.\n",
            "Try using .loc[row_indexer,col_indexer] = value instead\n",
            "\n",
            "See the caveats in the documentation: https://pandas.pydata.org/pandas-docs/stable/user_guide/indexing.html#returning-a-view-versus-a-copy\n",
            "  data_last_day_banerid1['banner_id'] = data_last_day['banner_id1']\n"
          ]
        }
      ]
    },
    {
      "cell_type": "markdown",
      "source": [
        "Из-за того что baner_id0 содержит слишком много различных значений, которые не будут использоваться при обучении модели, то оставим только те baner_id которые состоят в обучающей выборке, всего их (1600 и значения они принимают до 1632). Так же для того что во всех данных совпали столбцы, объединим все данные в один большой dataframe, сделаем OHE и разъеденим."
      ],
      "metadata": {
        "id": "pF_X8rgAsZfU"
      }
    },
    {
      "cell_type": "code",
      "source": [
        "%%time\n",
        "\n",
        "data_banerid.insert(0, 'type', 'data_banerid')\n",
        "\n",
        "data_last_day_banerid0.insert(0, 'type', 'data_last_day_banerid0')\n",
        "\n",
        "data_last_day_banerid1.insert(0, 'type', 'data_last_day_banerid1')\n",
        "\n",
        "all_data = pd.concat([data_banerid, data_last_day_banerid0, data_last_day_banerid1])\n",
        "\n",
        "\n"
      ],
      "metadata": {
        "colab": {
          "base_uri": "https://localhost:8080/"
        },
        "id": "wD3CJf4MAlT3",
        "outputId": "59fc75a0-4d73-49c3-f1e8-fd4f6aba3e45"
      },
      "execution_count": null,
      "outputs": [
        {
          "output_type": "stream",
          "name": "stdout",
          "text": [
            "CPU times: user 262 ms, sys: 325 ms, total: 587 ms\n",
            "Wall time: 584 ms\n"
          ]
        }
      ]
    },
    {
      "cell_type": "code",
      "source": [
        "\n",
        "\n",
        "analysis(all_data)"
      ],
      "metadata": {
        "colab": {
          "base_uri": "https://localhost:8080/"
        },
        "id": "XdFhDCsjMZgJ",
        "outputId": "6a3769f4-80af-40f2-8c5d-9ec4ae4080ae"
      },
      "execution_count": null,
      "outputs": [
        {
          "output_type": "stream",
          "name": "stdout",
          "text": [
            "type\n",
            "size 3\n",
            "min, max data_banerid data_last_day_banerid1\n",
            "['data_banerid' 'data_last_day_banerid0' 'data_last_day_banerid1']\n",
            "zone_id\n",
            "size 3302\n",
            "min, max 0 3443\n",
            "banner_id\n",
            "size 464040\n",
            "min, max 0 14623601\n",
            "os_id\n",
            "size 11\n",
            "min, max 0 10\n",
            "[ 0  1  2  3  4  5  6  7  8  9 10]\n",
            "country_id\n",
            "size 17\n",
            "min, max 0 16\n",
            "[ 1  0  2  3  4  5  6  8  9 10  7 11 13 12 14 15 16]\n"
          ]
        }
      ]
    },
    {
      "cell_type": "markdown",
      "source": [
        "Из-за того что baner_id1 содержит слишком много"
      ],
      "metadata": {
        "id": "Mp63cqL1rrMg"
      }
    },
    {
      "cell_type": "code",
      "source": [
        "all_data['banner_id'] = all_data['banner_id']. where(all_data['banner_id']<2000, other=-1)\n",
        "\n",
        "print(all_data.head(7))\n",
        "analysis(all_data)"
      ],
      "metadata": {
        "colab": {
          "base_uri": "https://localhost:8080/"
        },
        "id": "0t9bIwOscqPK",
        "outputId": "a2c08c34-78c8-473f-e46a-fc29272056da"
      },
      "execution_count": null,
      "outputs": [
        {
          "output_type": "stream",
          "name": "stdout",
          "text": [
            "           type  zone_id  banner_id  os_id  country_id\n",
            "1  data_banerid        1          1      0           1\n",
            "2  data_banerid        2          2      0           0\n",
            "3  data_banerid        3          3      1           1\n",
            "4  data_banerid        4          4      1           0\n",
            "5  data_banerid        5          5      2           2\n",
            "6  data_banerid        6          6      3           0\n",
            "7  data_banerid        7          7      4           1\n",
            "type\n",
            "size 3\n",
            "min, max data_banerid data_last_day_banerid1\n",
            "['data_banerid' 'data_last_day_banerid0' 'data_last_day_banerid1']\n",
            "zone_id\n",
            "size 3302\n",
            "min, max 0 3443\n",
            "banner_id\n",
            "size 1608\n",
            "min, max -1 1632\n",
            "os_id\n",
            "size 11\n",
            "min, max 0 10\n",
            "[ 0  1  2  3  4  5  6  7  8  9 10]\n",
            "country_id\n",
            "size 17\n",
            "min, max 0 16\n",
            "[ 1  0  2  3  4  5  6  8  9 10  7 11 13 12 14 15 16]\n"
          ]
        }
      ]
    },
    {
      "cell_type": "code",
      "source": [
        "#all_data['banner_id'] = all_data['banner_id']. where(all_data['banner_id']>5000, other=-1)\n",
        "#all_data.where(all_data.apply(lambda x: x.map(x.value_counts())) >= 30, -1, inplace=True)\n",
        "\n",
        "all_data = pd.get_dummies(all_data, columns=my_feature, sparse = True)\n"
      ],
      "metadata": {
        "id": "RjkGbovmMZWU"
      },
      "execution_count": null,
      "outputs": []
    },
    {
      "cell_type": "code",
      "source": [
        "%%time\n",
        "\n",
        "data_banerid, data_last_day_banerid0,\n",
        "\n",
        "\n",
        "data_banerid = all_data.iloc[0:data_banerid.shape[0]]#all_data[all_data['type'] == 'data_banerid']\n",
        "data_banerid.drop(['type'],axis = 1, inplace = True)\n",
        "\n",
        "data_last_day_banerid0 = all_data.iloc[data_banerid.shape[0]:data_banerid.shape[0] + data_last_day_banerid0.shape[0]]#all_data[all_data['type'] == 'data_last_day_banerid0']\n",
        "data_last_day_banerid0.drop(['type'],axis = 1, inplace = True)\n",
        "\n",
        "data_last_day_banerid1 = all_data.iloc[data_banerid.shape[0] + data_last_day_banerid0.shape[0]:data_banerid.shape[0] + data_last_day_banerid0.shape[0] + data_last_day_banerid1.shape[0]]#all_data[all_data['type'] == 'data_last_day_banerid1']\n",
        "data_last_day_banerid1.drop(['type'],axis = 1, inplace = True)\n",
        "\n",
        "del all_data"
      ],
      "metadata": {
        "colab": {
          "base_uri": "https://localhost:8080/"
        },
        "id": "SnkCqixdMYgl",
        "outputId": "c426c6b9-8be1-4aa5-fc05-094f79d82492"
      },
      "execution_count": null,
      "outputs": [
        {
          "output_type": "stream",
          "name": "stderr",
          "text": [
            "<timed exec>:5: SettingWithCopyWarning: \n",
            "A value is trying to be set on a copy of a slice from a DataFrame\n",
            "\n",
            "See the caveats in the documentation: https://pandas.pydata.org/pandas-docs/stable/user_guide/indexing.html#returning-a-view-versus-a-copy\n",
            "<timed exec>:8: SettingWithCopyWarning: \n",
            "A value is trying to be set on a copy of a slice from a DataFrame\n",
            "\n",
            "See the caveats in the documentation: https://pandas.pydata.org/pandas-docs/stable/user_guide/indexing.html#returning-a-view-versus-a-copy\n"
          ]
        },
        {
          "output_type": "stream",
          "name": "stdout",
          "text": [
            "CPU times: user 1.71 s, sys: 70.3 ms, total: 1.78 s\n",
            "Wall time: 1.78 s\n"
          ]
        },
        {
          "output_type": "stream",
          "name": "stderr",
          "text": [
            "<timed exec>:11: SettingWithCopyWarning: \n",
            "A value is trying to be set on a copy of a slice from a DataFrame\n",
            "\n",
            "See the caveats in the documentation: https://pandas.pydata.org/pandas-docs/stable/user_guide/indexing.html#returning-a-view-versus-a-copy\n"
          ]
        }
      ]
    },
    {
      "cell_type": "code",
      "source": [],
      "metadata": {
        "id": "MInl_LYZCxMO"
      },
      "execution_count": null,
      "outputs": []
    },
    {
      "cell_type": "code",
      "source": [
        "print(type(data_banerid))\n",
        "print(type(data))\n",
        "print(data_banerid.head(2))"
      ],
      "metadata": {
        "id": "6xnSKm5m-gde",
        "colab": {
          "base_uri": "https://localhost:8080/"
        },
        "outputId": "bb377550-e3e7-4786-d925-d56881e2bfea"
      },
      "execution_count": null,
      "outputs": [
        {
          "output_type": "stream",
          "name": "stdout",
          "text": [
            "<class 'pandas.core.frame.DataFrame'>\n",
            "<class 'pandas.core.frame.DataFrame'>\n",
            "   zone_id_0  zone_id_1  zone_id_2  zone_id_3  zone_id_4  zone_id_5  \\\n",
            "1          0          1          0          0          0          0   \n",
            "2          0          0          1          0          0          0   \n",
            "\n",
            "   zone_id_6  zone_id_7  zone_id_8  zone_id_9  ...  country_id_7  \\\n",
            "1          0          0          0          0  ...             0   \n",
            "2          0          0          0          0  ...             0   \n",
            "\n",
            "   country_id_8  country_id_9  country_id_10  country_id_11  country_id_12  \\\n",
            "1             0             0              0              0              0   \n",
            "2             0             0              0              0              0   \n",
            "\n",
            "   country_id_13  country_id_14  country_id_15  country_id_16  \n",
            "1              0              0              0              0  \n",
            "2              0              0              0              0  \n",
            "\n",
            "[2 rows x 4938 columns]\n"
          ]
        }
      ]
    },
    {
      "cell_type": "code",
      "source": [],
      "metadata": {
        "id": "t8dsXDnQoD7C"
      },
      "execution_count": null,
      "outputs": []
    },
    {
      "cell_type": "code",
      "source": [
        "%%time\n",
        "mdl= LogisticRegression(solver='liblinear', C = 1.0)\n",
        "mdl.fit(data_banerid, y_data)"
      ],
      "metadata": {
        "id": "gyLECeNRoD3H",
        "colab": {
          "base_uri": "https://localhost:8080/",
          "height": 109
        },
        "outputId": "64e3d2f0-7529-43fc-f554-6b7226fc855e"
      },
      "execution_count": null,
      "outputs": [
        {
          "output_type": "stream",
          "name": "stdout",
          "text": [
            "CPU times: user 4min 6s, sys: 39 s, total: 4min 45s\n",
            "Wall time: 5min 4s\n"
          ]
        },
        {
          "output_type": "execute_result",
          "data": {
            "text/plain": [
              "LogisticRegression(solver='liblinear')"
            ],
            "text/html": [
              "<style>#sk-container-id-1 {color: black;background-color: white;}#sk-container-id-1 pre{padding: 0;}#sk-container-id-1 div.sk-toggleable {background-color: white;}#sk-container-id-1 label.sk-toggleable__label {cursor: pointer;display: block;width: 100%;margin-bottom: 0;padding: 0.3em;box-sizing: border-box;text-align: center;}#sk-container-id-1 label.sk-toggleable__label-arrow:before {content: \"▸\";float: left;margin-right: 0.25em;color: #696969;}#sk-container-id-1 label.sk-toggleable__label-arrow:hover:before {color: black;}#sk-container-id-1 div.sk-estimator:hover label.sk-toggleable__label-arrow:before {color: black;}#sk-container-id-1 div.sk-toggleable__content {max-height: 0;max-width: 0;overflow: hidden;text-align: left;background-color: #f0f8ff;}#sk-container-id-1 div.sk-toggleable__content pre {margin: 0.2em;color: black;border-radius: 0.25em;background-color: #f0f8ff;}#sk-container-id-1 input.sk-toggleable__control:checked~div.sk-toggleable__content {max-height: 200px;max-width: 100%;overflow: auto;}#sk-container-id-1 input.sk-toggleable__control:checked~label.sk-toggleable__label-arrow:before {content: \"▾\";}#sk-container-id-1 div.sk-estimator input.sk-toggleable__control:checked~label.sk-toggleable__label {background-color: #d4ebff;}#sk-container-id-1 div.sk-label input.sk-toggleable__control:checked~label.sk-toggleable__label {background-color: #d4ebff;}#sk-container-id-1 input.sk-hidden--visually {border: 0;clip: rect(1px 1px 1px 1px);clip: rect(1px, 1px, 1px, 1px);height: 1px;margin: -1px;overflow: hidden;padding: 0;position: absolute;width: 1px;}#sk-container-id-1 div.sk-estimator {font-family: monospace;background-color: #f0f8ff;border: 1px dotted black;border-radius: 0.25em;box-sizing: border-box;margin-bottom: 0.5em;}#sk-container-id-1 div.sk-estimator:hover {background-color: #d4ebff;}#sk-container-id-1 div.sk-parallel-item::after {content: \"\";width: 100%;border-bottom: 1px solid gray;flex-grow: 1;}#sk-container-id-1 div.sk-label:hover label.sk-toggleable__label {background-color: #d4ebff;}#sk-container-id-1 div.sk-serial::before {content: \"\";position: absolute;border-left: 1px solid gray;box-sizing: border-box;top: 0;bottom: 0;left: 50%;z-index: 0;}#sk-container-id-1 div.sk-serial {display: flex;flex-direction: column;align-items: center;background-color: white;padding-right: 0.2em;padding-left: 0.2em;position: relative;}#sk-container-id-1 div.sk-item {position: relative;z-index: 1;}#sk-container-id-1 div.sk-parallel {display: flex;align-items: stretch;justify-content: center;background-color: white;position: relative;}#sk-container-id-1 div.sk-item::before, #sk-container-id-1 div.sk-parallel-item::before {content: \"\";position: absolute;border-left: 1px solid gray;box-sizing: border-box;top: 0;bottom: 0;left: 50%;z-index: -1;}#sk-container-id-1 div.sk-parallel-item {display: flex;flex-direction: column;z-index: 1;position: relative;background-color: white;}#sk-container-id-1 div.sk-parallel-item:first-child::after {align-self: flex-end;width: 50%;}#sk-container-id-1 div.sk-parallel-item:last-child::after {align-self: flex-start;width: 50%;}#sk-container-id-1 div.sk-parallel-item:only-child::after {width: 0;}#sk-container-id-1 div.sk-dashed-wrapped {border: 1px dashed gray;margin: 0 0.4em 0.5em 0.4em;box-sizing: border-box;padding-bottom: 0.4em;background-color: white;}#sk-container-id-1 div.sk-label label {font-family: monospace;font-weight: bold;display: inline-block;line-height: 1.2em;}#sk-container-id-1 div.sk-label-container {text-align: center;}#sk-container-id-1 div.sk-container {/* jupyter's `normalize.less` sets `[hidden] { display: none; }` but bootstrap.min.css set `[hidden] { display: none !important; }` so we also need the `!important` here to be able to override the default hidden behavior on the sphinx rendered scikit-learn.org. See: https://github.com/scikit-learn/scikit-learn/issues/21755 */display: inline-block !important;position: relative;}#sk-container-id-1 div.sk-text-repr-fallback {display: none;}</style><div id=\"sk-container-id-1\" class=\"sk-top-container\"><div class=\"sk-text-repr-fallback\"><pre>LogisticRegression(solver=&#x27;liblinear&#x27;)</pre><b>In a Jupyter environment, please rerun this cell to show the HTML representation or trust the notebook. <br />On GitHub, the HTML representation is unable to render, please try loading this page with nbviewer.org.</b></div><div class=\"sk-container\" hidden><div class=\"sk-item\"><div class=\"sk-estimator sk-toggleable\"><input class=\"sk-toggleable__control sk-hidden--visually\" id=\"sk-estimator-id-1\" type=\"checkbox\" checked><label for=\"sk-estimator-id-1\" class=\"sk-toggleable__label sk-toggleable__label-arrow\">LogisticRegression</label><div class=\"sk-toggleable__content\"><pre>LogisticRegression(solver=&#x27;liblinear&#x27;)</pre></div></div></div></div></div>"
            ]
          },
          "metadata": {},
          "execution_count": 17
        }
      ]
    },
    {
      "cell_type": "code",
      "source": [
        "y_data_last_day_banerid0 = mdl.predict_proba(data_last_day_banerid0)\n",
        "\n",
        "y_data_last_day_banerid1 = mdl.predict_proba(data_last_day_banerid1)"
      ],
      "metadata": {
        "id": "iqchRLuDoDzy"
      },
      "execution_count": null,
      "outputs": []
    },
    {
      "cell_type": "code",
      "source": [
        "print('banerid0 roc auc score: ', roc_auc_score(y_data_last_day, y_data_last_day_banerid0[:, 1]))\n",
        "print('banerid0 log loss score: ', log_loss(y_data_last_day, y_data_last_day_banerid0))\n"
      ],
      "metadata": {
        "colab": {
          "base_uri": "https://localhost:8080/"
        },
        "id": "6bFPrXEsqKpH",
        "outputId": "f9161a02-76ef-4a20-9fa3-8ac327a3477f"
      },
      "execution_count": null,
      "outputs": [
        {
          "output_type": "stream",
          "name": "stdout",
          "text": [
            "banerid0 roc auc score:  0.7921276393941702\n",
            "banerid0 log loss score:  0.1337988121811708\n"
          ]
        }
      ]
    },
    {
      "cell_type": "markdown",
      "source": [
        "Модель обучилась довольно хорошо."
      ],
      "metadata": {
        "id": "mAwL7K1etduy"
      }
    },
    {
      "cell_type": "code",
      "source": [
        "pi_data_last_day['coeff_sum0'] = logit(y_data_last_day_banerid0[:, 1])\n",
        "pi_data_last_day['coeff_sum1'] = logit(y_data_last_day_banerid1[:, 1])"
      ],
      "metadata": {
        "id": "fJC-HOfgoDxb",
        "colab": {
          "base_uri": "https://localhost:8080/"
        },
        "outputId": "8a514f50-87e2-4955-c036-84f969abf645"
      },
      "execution_count": null,
      "outputs": [
        {
          "output_type": "stream",
          "name": "stderr",
          "text": [
            "<ipython-input-20-0d8b4db53a1a>:1: SettingWithCopyWarning: \n",
            "A value is trying to be set on a copy of a slice from a DataFrame.\n",
            "Try using .loc[row_indexer,col_indexer] = value instead\n",
            "\n",
            "See the caveats in the documentation: https://pandas.pydata.org/pandas-docs/stable/user_guide/indexing.html#returning-a-view-versus-a-copy\n",
            "  pi_data_last_day['coeff_sum0'] = logit(y_data_last_day_banerid0[:, 1])\n",
            "<ipython-input-20-0d8b4db53a1a>:2: SettingWithCopyWarning: \n",
            "A value is trying to be set on a copy of a slice from a DataFrame.\n",
            "Try using .loc[row_indexer,col_indexer] = value instead\n",
            "\n",
            "See the caveats in the documentation: https://pandas.pydata.org/pandas-docs/stable/user_guide/indexing.html#returning-a-view-versus-a-copy\n",
            "  pi_data_last_day['coeff_sum1'] = logit(y_data_last_day_banerid1[:, 1])\n"
          ]
        }
      ]
    },
    {
      "cell_type": "markdown",
      "source": [
        "\\xi_0, \\xi_1 - нормально распределеные величиы с параметрами \\mu_1, \\mu_0, sigma_0, sigma_1\n",
        "\n",
        "P(\\xi_0 < \\xi_1) = P(\\xi_1 - \\xi_0 > 0)\n",
        "Разница двух нормально распределеных величин это нормально распределеное величина, где \\mu = \\mu_1 - \\mu_0 и \\sigma^2 = sigma_0^2 + \\sigma_1^2\n"
      ],
      "metadata": {
        "id": "dOQkgZhht2mK"
      }
    },
    {
      "cell_type": "code",
      "source": [
        "#pi_0_data_last_day = data_last_day['coeff_sum0', 'g0', 'coeff_sum1', 'g1']\n",
        "\n",
        "pi0 = norm.cdf((pi_0_data_last_day['coeff_sum0'] - pi_0_data_last_day['coeff_sum1']) / (pi_0_data_last_day['g0']**2 + pi_0_data_last_day['g1']**2)**0.5)\n",
        "\n",
        "pi = norm.cdf((pi_data_last_day['coeff_sum0'] - pi_data_last_day['coeff_sum1']) / (pi_data_last_day['g0']**2 + pi_data_last_day['g1']**2)**0.5)"
      ],
      "metadata": {
        "id": "tKegoqrroDu5"
      },
      "execution_count": null,
      "outputs": []
    },
    {
      "cell_type": "code",
      "source": [
        "np.minimum(pi / pi0, 10)"
      ],
      "metadata": {
        "colab": {
          "base_uri": "https://localhost:8080/"
        },
        "id": "j9-I4hY8hOaP",
        "outputId": "e8d2232d-abbd-498e-b2d9-1c9539c11a03"
      },
      "execution_count": null,
      "outputs": [
        {
          "output_type": "execute_result",
          "data": {
            "text/plain": [
              "array([ 1.        ,  0.99999845, 10.        , ..., 10.        ,\n",
              "        1.51965228,  1.01437173])"
            ]
          },
          "metadata": {},
          "execution_count": 22
        }
      ]
    },
    {
      "cell_type": "code",
      "source": [
        "np.mean(y_data_last_day * np.minimum(pi / (pi0 ), 10))"
      ],
      "metadata": {
        "colab": {
          "base_uri": "https://localhost:8080/"
        },
        "id": "iMhsMB7xxV6s",
        "outputId": "626aa9b6-e94d-4b5a-e2f9-c183e255a49b"
      },
      "execution_count": null,
      "outputs": [
        {
          "output_type": "stream",
          "name": "stderr",
          "text": [
            "<ipython-input-25-13b1052df5ed>:1: RuntimeWarning: divide by zero encountered in divide\n",
            "  np.mean(y_data_last_day * np.minimum(pi / (pi0 ), 10))\n",
            "<ipython-input-25-13b1052df5ed>:1: RuntimeWarning: overflow encountered in divide\n",
            "  np.mean(y_data_last_day * np.minimum(pi / (pi0 ), 10))\n",
            "<ipython-input-25-13b1052df5ed>:1: RuntimeWarning: invalid value encountered in divide\n",
            "  np.mean(y_data_last_day * np.minimum(pi / (pi0 ), 10))\n"
          ]
        },
        {
          "output_type": "execute_result",
          "data": {
            "text/plain": [
              "0.07601045688155975"
            ]
          },
          "metadata": {},
          "execution_count": 25
        }
      ]
    },
    {
      "cell_type": "code",
      "source": [
        "print('CIPS :', np.mean(y_data_last_day * np.minimum(pi / (pi0 + 1e-9), 10)))"
      ],
      "metadata": {
        "id": "2Xwa5v7woDrd",
        "colab": {
          "base_uri": "https://localhost:8080/"
        },
        "outputId": "8794c9f4-ff38-41d5-849a-e1c30128318a"
      },
      "execution_count": null,
      "outputs": [
        {
          "output_type": "stream",
          "name": "stdout",
          "text": [
            "CIPS : 0.06604802229427255\n"
          ]
        }
      ]
    }
  ]
}