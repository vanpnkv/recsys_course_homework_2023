{
 "cells": [
  {
   "cell_type": "code",
   "execution_count": 1,
   "id": "8492816a",
   "metadata": {},
   "outputs": [
    {
     "name": "stderr",
     "output_type": "stream",
     "text": [
      "/usr/lib/python3/dist-packages/scipy/__init__.py:146: UserWarning: A NumPy version >=1.17.3 and <1.25.0 is required for this version of SciPy (detected version 1.26.2\n",
      "  warnings.warn(f\"A NumPy version >={np_minversion} and <{np_maxversion}\"\n"
     ]
    }
   ],
   "source": [
    "import pandas as pd\n",
    "import numpy as np\n",
    "from sklearn.linear_model import LogisticRegression\n",
    "from sklearn.model_selection import train_test_split\n",
    "from sklearn.metrics import log_loss, roc_auc_score\n",
    "import matplotlib.pyplot as plt\n",
    "from sklearn.preprocessing import StandardScaler\n",
    "from datetime import datetime\n",
    "from sklearn.preprocessing import OneHotEncoder\n",
    "import scipy\n",
    "from sklearn.model_selection import cross_validate\n",
    "from scipy.special import logit"
   ]
  },
  {
   "cell_type": "code",
   "execution_count": 2,
   "id": "192c453a",
   "metadata": {},
   "outputs": [],
   "source": [
    "all_data = pd.read_csv('data.csv')\n",
    "# data = all_data.sample(500000)\n",
    "data = all_data"
   ]
  },
  {
   "cell_type": "code",
   "execution_count": 3,
   "id": "7ba90488",
   "metadata": {},
   "outputs": [],
   "source": [
    "data.drop(columns=[\"campaign_clicks\"], inplace=True)"
   ]
  },
  {
   "cell_type": "markdown",
   "id": "4913fe1e",
   "metadata": {},
   "source": [
    "Отфильтруем данные, banner_id0 должен быть равен banner_id"
   ]
  },
  {
   "cell_type": "code",
   "execution_count": 4,
   "id": "e462efca",
   "metadata": {},
   "outputs": [],
   "source": [
    "data = data[data['banner_id0'] == data['banner_id']]"
   ]
  },
  {
   "cell_type": "code",
   "execution_count": 5,
   "id": "b0cf05d4",
   "metadata": {},
   "outputs": [
    {
     "data": {
      "text/html": [
       "<div>\n",
       "<style scoped>\n",
       "    .dataframe tbody tr th:only-of-type {\n",
       "        vertical-align: middle;\n",
       "    }\n",
       "\n",
       "    .dataframe tbody tr th {\n",
       "        vertical-align: top;\n",
       "    }\n",
       "\n",
       "    .dataframe thead th {\n",
       "        text-align: right;\n",
       "    }\n",
       "</style>\n",
       "<table border=\"1\" class=\"dataframe\">\n",
       "  <thead>\n",
       "    <tr style=\"text-align: right;\">\n",
       "      <th></th>\n",
       "      <th>date_time</th>\n",
       "      <th>zone_id</th>\n",
       "      <th>banner_id</th>\n",
       "      <th>oaid_hash</th>\n",
       "      <th>os_id</th>\n",
       "      <th>country_id</th>\n",
       "      <th>banner_id0</th>\n",
       "      <th>rate0</th>\n",
       "      <th>g0</th>\n",
       "      <th>coeff_sum0</th>\n",
       "      <th>banner_id1</th>\n",
       "      <th>rate1</th>\n",
       "      <th>g1</th>\n",
       "      <th>coeff_sum1</th>\n",
       "      <th>impressions</th>\n",
       "      <th>clicks</th>\n",
       "    </tr>\n",
       "  </thead>\n",
       "  <tbody>\n",
       "    <tr>\n",
       "      <th>1</th>\n",
       "      <td>2021-09-26 22:54:49.000000</td>\n",
       "      <td>1</td>\n",
       "      <td>1</td>\n",
       "      <td>5186611064559013950</td>\n",
       "      <td>0</td>\n",
       "      <td>1</td>\n",
       "      <td>1</td>\n",
       "      <td>0.002</td>\n",
       "      <td>0.054298</td>\n",
       "      <td>-2.657477</td>\n",
       "      <td>269</td>\n",
       "      <td>0.004</td>\n",
       "      <td>0.031942</td>\n",
       "      <td>-4.449220</td>\n",
       "      <td>1</td>\n",
       "      <td>1</td>\n",
       "    </tr>\n",
       "    <tr>\n",
       "      <th>2</th>\n",
       "      <td>2021-09-26 23:57:20.000000</td>\n",
       "      <td>2</td>\n",
       "      <td>2</td>\n",
       "      <td>2215519569292448030</td>\n",
       "      <td>0</td>\n",
       "      <td>0</td>\n",
       "      <td>2</td>\n",
       "      <td>0.014</td>\n",
       "      <td>0.014096</td>\n",
       "      <td>-3.824875</td>\n",
       "      <td>21</td>\n",
       "      <td>0.014</td>\n",
       "      <td>0.014906</td>\n",
       "      <td>-3.939309</td>\n",
       "      <td>1</td>\n",
       "      <td>1</td>\n",
       "    </tr>\n",
       "    <tr>\n",
       "      <th>3</th>\n",
       "      <td>2021-09-27 00:04:30.000000</td>\n",
       "      <td>3</td>\n",
       "      <td>3</td>\n",
       "      <td>6262169206735077204</td>\n",
       "      <td>1</td>\n",
       "      <td>1</td>\n",
       "      <td>3</td>\n",
       "      <td>0.012</td>\n",
       "      <td>0.015232</td>\n",
       "      <td>-3.461357</td>\n",
       "      <td>99</td>\n",
       "      <td>0.006</td>\n",
       "      <td>0.050671</td>\n",
       "      <td>-3.418403</td>\n",
       "      <td>1</td>\n",
       "      <td>1</td>\n",
       "    </tr>\n",
       "    <tr>\n",
       "      <th>4</th>\n",
       "      <td>2021-09-27 00:06:21.000000</td>\n",
       "      <td>4</td>\n",
       "      <td>4</td>\n",
       "      <td>4778985830203613115</td>\n",
       "      <td>1</td>\n",
       "      <td>0</td>\n",
       "      <td>4</td>\n",
       "      <td>0.019</td>\n",
       "      <td>0.051265</td>\n",
       "      <td>-4.009026</td>\n",
       "      <td>11464230</td>\n",
       "      <td>6.790</td>\n",
       "      <td>0.032005</td>\n",
       "      <td>-2.828797</td>\n",
       "      <td>1</td>\n",
       "      <td>1</td>\n",
       "    </tr>\n",
       "    <tr>\n",
       "      <th>5</th>\n",
       "      <td>2021-09-27 00:06:50.000000</td>\n",
       "      <td>5</td>\n",
       "      <td>5</td>\n",
       "      <td>2377014068362699676</td>\n",
       "      <td>2</td>\n",
       "      <td>2</td>\n",
       "      <td>5</td>\n",
       "      <td>0.004</td>\n",
       "      <td>0.337634</td>\n",
       "      <td>-3.222757</td>\n",
       "      <td>37</td>\n",
       "      <td>0.004</td>\n",
       "      <td>0.338195</td>\n",
       "      <td>-3.221755</td>\n",
       "      <td>1</td>\n",
       "      <td>1</td>\n",
       "    </tr>\n",
       "  </tbody>\n",
       "</table>\n",
       "</div>"
      ],
      "text/plain": [
       "                    date_time  zone_id  banner_id            oaid_hash  os_id  \\\n",
       "1  2021-09-26 22:54:49.000000        1          1  5186611064559013950      0   \n",
       "2  2021-09-26 23:57:20.000000        2          2  2215519569292448030      0   \n",
       "3  2021-09-27 00:04:30.000000        3          3  6262169206735077204      1   \n",
       "4  2021-09-27 00:06:21.000000        4          4  4778985830203613115      1   \n",
       "5  2021-09-27 00:06:50.000000        5          5  2377014068362699676      2   \n",
       "\n",
       "   country_id  banner_id0  rate0        g0  coeff_sum0  banner_id1  rate1  \\\n",
       "1           1           1  0.002  0.054298   -2.657477         269  0.004   \n",
       "2           0           2  0.014  0.014096   -3.824875          21  0.014   \n",
       "3           1           3  0.012  0.015232   -3.461357          99  0.006   \n",
       "4           0           4  0.019  0.051265   -4.009026    11464230  6.790   \n",
       "5           2           5  0.004  0.337634   -3.222757          37  0.004   \n",
       "\n",
       "         g1  coeff_sum1  impressions  clicks  \n",
       "1  0.031942   -4.449220            1       1  \n",
       "2  0.014906   -3.939309            1       1  \n",
       "3  0.050671   -3.418403            1       1  \n",
       "4  0.032005   -2.828797            1       1  \n",
       "5  0.338195   -3.221755            1       1  "
      ]
     },
     "execution_count": 5,
     "metadata": {},
     "output_type": "execute_result"
    }
   ],
   "source": [
    "data.head()"
   ]
  },
  {
   "cell_type": "markdown",
   "id": "3d2eb052",
   "metadata": {},
   "source": [
    "Предобработка данных, как в 1 дз"
   ]
  },
  {
   "cell_type": "code",
   "execution_count": 6,
   "id": "7cb9d4b7",
   "metadata": {},
   "outputs": [],
   "source": [
    "def get_date_features(x):\n",
    "    x_datetime = datetime.strptime(x.split('.')[0], '%Y-%m-%d %H:%M:%S')\n",
    "    year = x_datetime.year\n",
    "    month = x_datetime.month\n",
    "    day = x_datetime.day\n",
    "    hour = x_datetime.hour\n",
    "    \n",
    "    return [year, month, day, hour]\n",
    "\n",
    "def split_date_time(data: pd.DataFrame):\n",
    "    date_values= np.stack(data['date_time'].apply(lambda x: get_date_features(x)).values)\n",
    "    data['year'] = date_values[:, 0]\n",
    "    data['month'] = date_values[:, 1]\n",
    "    data['day'] = date_values[:, 2]\n",
    "    data['hour'] = date_values[:, 3]\n",
    "    data = data.drop(columns=['date_time'])\n",
    "    return data\n",
    "\n",
    "def feature_engineering(data: pd.DataFrame, min_frequency=100):    \n",
    "    data = split_date_time(data)\n",
    "    \n",
    "    data = data.drop(columns=['impressions', 'year'])    \n",
    "    data = data.drop_duplicates()\n",
    "    data = data.dropna()\n",
    "    \n",
    "\n",
    "    last_day_indices = np.logical_and((data['month'] == 10).values, (data['day'] == 2).values)\n",
    "    train_data, test_data = data[np.logical_not(last_day_indices)], data[last_day_indices]\n",
    "    \n",
    "    X_train, y_train = train_data.drop(columns=['clicks']), train_data['clicks']\n",
    "    X_test, y_test = test_data.drop(columns=['clicks']), test_data['clicks']\n",
    "\n",
    "    # Добавим test сет, для вычисления pi_1 (подставим вместо banner_id значение banner_id1)\n",
    "    X_test2, y_test2 = pd.DataFrame.copy(X_test), pd.DataFrame.copy(y_test)\n",
    "    X_test2['banner_id'] = X_test2['banner_id1']\n",
    "    \n",
    "    # А ещё отдельно выделим значения для ips: g, coeff_sum\n",
    "    data_for_ips = X_test[['g0', 'g1', 'coeff_sum0', 'coeff_sum1']]\n",
    "    \n",
    "    categorical_cols = ['zone_id', 'banner_id', 'os_id', 'country_id']\n",
    "    \n",
    "    enc = OneHotEncoder(handle_unknown='ignore', min_frequency=min_frequency)\n",
    "    X_train = enc.fit_transform(X_train[categorical_cols])\n",
    "    X_test = enc.transform(X_test[categorical_cols])\n",
    "    X_test2 = enc.transform(X_test2[categorical_cols])\n",
    "\n",
    "    # Я решил оставить только категориальные фичи, с one hot поверх них модель не переобучается\n",
    "    # и ресемплинг не нужен => не меняем исходного распределения\n",
    "    \n",
    "    return (X_train, y_train), (X_test, y_test), (X_test2, y_test2), data_for_ips\n",
    "\n",
    "def create_model(C=0.01):\n",
    "    model = LogisticRegression(solver='liblinear', C=C)\n",
    "    \n",
    "    return model\n",
    "\n",
    "def count_metrics(y_test, y_pred):\n",
    "    return log_loss(y_test, y_pred), roc_auc_score(y_test, y_pred)\n",
    "\n",
    "def validate_model(X, y, model):\n",
    "    y_pred_proba = model.predict_proba(X)[:, 1]\n",
    "    log_loss, roc_auc = count_metrics(y, y_pred_proba)\n",
    "    print(f\"log_loss: {log_loss}, roc_auc: {roc_auc}\")\n",
    "    return log_loss, roc_auc"
   ]
  },
  {
   "cell_type": "code",
   "execution_count": 7,
   "id": "cd7cc939",
   "metadata": {},
   "outputs": [
    {
     "name": "stderr",
     "output_type": "stream",
     "text": [
      "/tmp/ipykernel_132070/1802405448.py:12: SettingWithCopyWarning: \n",
      "A value is trying to be set on a copy of a slice from a DataFrame.\n",
      "Try using .loc[row_indexer,col_indexer] = value instead\n",
      "\n",
      "See the caveats in the documentation: https://pandas.pydata.org/pandas-docs/stable/user_guide/indexing.html#returning-a-view-versus-a-copy\n",
      "  data['year'] = date_values[:, 0]\n",
      "/tmp/ipykernel_132070/1802405448.py:13: SettingWithCopyWarning: \n",
      "A value is trying to be set on a copy of a slice from a DataFrame.\n",
      "Try using .loc[row_indexer,col_indexer] = value instead\n",
      "\n",
      "See the caveats in the documentation: https://pandas.pydata.org/pandas-docs/stable/user_guide/indexing.html#returning-a-view-versus-a-copy\n",
      "  data['month'] = date_values[:, 1]\n",
      "/tmp/ipykernel_132070/1802405448.py:14: SettingWithCopyWarning: \n",
      "A value is trying to be set on a copy of a slice from a DataFrame.\n",
      "Try using .loc[row_indexer,col_indexer] = value instead\n",
      "\n",
      "See the caveats in the documentation: https://pandas.pydata.org/pandas-docs/stable/user_guide/indexing.html#returning-a-view-versus-a-copy\n",
      "  data['day'] = date_values[:, 2]\n",
      "/tmp/ipykernel_132070/1802405448.py:15: SettingWithCopyWarning: \n",
      "A value is trying to be set on a copy of a slice from a DataFrame.\n",
      "Try using .loc[row_indexer,col_indexer] = value instead\n",
      "\n",
      "See the caveats in the documentation: https://pandas.pydata.org/pandas-docs/stable/user_guide/indexing.html#returning-a-view-versus-a-copy\n",
      "  data['hour'] = date_values[:, 3]\n"
     ]
    }
   ],
   "source": [
    "(X_train, y_train), (X_test, y_test), (X_test2, y_test2), data_for_ips = feature_engineering(data)"
   ]
  },
  {
   "cell_type": "code",
   "execution_count": 8,
   "id": "9806401e",
   "metadata": {},
   "outputs": [
    {
     "data": {
      "text/html": [
       "<style>#sk-container-id-1 {color: black;}#sk-container-id-1 pre{padding: 0;}#sk-container-id-1 div.sk-toggleable {background-color: white;}#sk-container-id-1 label.sk-toggleable__label {cursor: pointer;display: block;width: 100%;margin-bottom: 0;padding: 0.3em;box-sizing: border-box;text-align: center;}#sk-container-id-1 label.sk-toggleable__label-arrow:before {content: \"▸\";float: left;margin-right: 0.25em;color: #696969;}#sk-container-id-1 label.sk-toggleable__label-arrow:hover:before {color: black;}#sk-container-id-1 div.sk-estimator:hover label.sk-toggleable__label-arrow:before {color: black;}#sk-container-id-1 div.sk-toggleable__content {max-height: 0;max-width: 0;overflow: hidden;text-align: left;background-color: #f0f8ff;}#sk-container-id-1 div.sk-toggleable__content pre {margin: 0.2em;color: black;border-radius: 0.25em;background-color: #f0f8ff;}#sk-container-id-1 input.sk-toggleable__control:checked~div.sk-toggleable__content {max-height: 200px;max-width: 100%;overflow: auto;}#sk-container-id-1 input.sk-toggleable__control:checked~label.sk-toggleable__label-arrow:before {content: \"▾\";}#sk-container-id-1 div.sk-estimator input.sk-toggleable__control:checked~label.sk-toggleable__label {background-color: #d4ebff;}#sk-container-id-1 div.sk-label input.sk-toggleable__control:checked~label.sk-toggleable__label {background-color: #d4ebff;}#sk-container-id-1 input.sk-hidden--visually {border: 0;clip: rect(1px 1px 1px 1px);clip: rect(1px, 1px, 1px, 1px);height: 1px;margin: -1px;overflow: hidden;padding: 0;position: absolute;width: 1px;}#sk-container-id-1 div.sk-estimator {font-family: monospace;background-color: #f0f8ff;border: 1px dotted black;border-radius: 0.25em;box-sizing: border-box;margin-bottom: 0.5em;}#sk-container-id-1 div.sk-estimator:hover {background-color: #d4ebff;}#sk-container-id-1 div.sk-parallel-item::after {content: \"\";width: 100%;border-bottom: 1px solid gray;flex-grow: 1;}#sk-container-id-1 div.sk-label:hover label.sk-toggleable__label {background-color: #d4ebff;}#sk-container-id-1 div.sk-serial::before {content: \"\";position: absolute;border-left: 1px solid gray;box-sizing: border-box;top: 0;bottom: 0;left: 50%;z-index: 0;}#sk-container-id-1 div.sk-serial {display: flex;flex-direction: column;align-items: center;background-color: white;padding-right: 0.2em;padding-left: 0.2em;position: relative;}#sk-container-id-1 div.sk-item {position: relative;z-index: 1;}#sk-container-id-1 div.sk-parallel {display: flex;align-items: stretch;justify-content: center;background-color: white;position: relative;}#sk-container-id-1 div.sk-item::before, #sk-container-id-1 div.sk-parallel-item::before {content: \"\";position: absolute;border-left: 1px solid gray;box-sizing: border-box;top: 0;bottom: 0;left: 50%;z-index: -1;}#sk-container-id-1 div.sk-parallel-item {display: flex;flex-direction: column;z-index: 1;position: relative;background-color: white;}#sk-container-id-1 div.sk-parallel-item:first-child::after {align-self: flex-end;width: 50%;}#sk-container-id-1 div.sk-parallel-item:last-child::after {align-self: flex-start;width: 50%;}#sk-container-id-1 div.sk-parallel-item:only-child::after {width: 0;}#sk-container-id-1 div.sk-dashed-wrapped {border: 1px dashed gray;margin: 0 0.4em 0.5em 0.4em;box-sizing: border-box;padding-bottom: 0.4em;background-color: white;}#sk-container-id-1 div.sk-label label {font-family: monospace;font-weight: bold;display: inline-block;line-height: 1.2em;}#sk-container-id-1 div.sk-label-container {text-align: center;}#sk-container-id-1 div.sk-container {/* jupyter's `normalize.less` sets `[hidden] { display: none; }` but bootstrap.min.css set `[hidden] { display: none !important; }` so we also need the `!important` here to be able to override the default hidden behavior on the sphinx rendered scikit-learn.org. See: https://github.com/scikit-learn/scikit-learn/issues/21755 */display: inline-block !important;position: relative;}#sk-container-id-1 div.sk-text-repr-fallback {display: none;}</style><div id=\"sk-container-id-1\" class=\"sk-top-container\"><div class=\"sk-text-repr-fallback\"><pre>LogisticRegression(C=1, solver=&#x27;liblinear&#x27;)</pre><b>In a Jupyter environment, please rerun this cell to show the HTML representation or trust the notebook. <br />On GitHub, the HTML representation is unable to render, please try loading this page with nbviewer.org.</b></div><div class=\"sk-container\" hidden><div class=\"sk-item\"><div class=\"sk-estimator sk-toggleable\"><input class=\"sk-toggleable__control sk-hidden--visually\" id=\"sk-estimator-id-1\" type=\"checkbox\" checked><label for=\"sk-estimator-id-1\" class=\"sk-toggleable__label sk-toggleable__label-arrow\">LogisticRegression</label><div class=\"sk-toggleable__content\"><pre>LogisticRegression(C=1, solver=&#x27;liblinear&#x27;)</pre></div></div></div></div></div>"
      ],
      "text/plain": [
       "LogisticRegression(C=1, solver='liblinear')"
      ]
     },
     "execution_count": 8,
     "metadata": {},
     "output_type": "execute_result"
    }
   ],
   "source": [
    "# C=1 - лучшее значение из 1 дз\n",
    "model = create_model(C=1)\n",
    "model.fit(X_train, y_train)"
   ]
  },
  {
   "cell_type": "code",
   "execution_count": 9,
   "id": "f55a6bda",
   "metadata": {},
   "outputs": [
    {
     "name": "stdout",
     "output_type": "stream",
     "text": [
      "log_loss: 0.13284874125486476, roc_auc: 0.7914221159996891\n"
     ]
    }
   ],
   "source": [
    "validate_model(X_test, y_test, model)\n",
    "pass"
   ]
  },
  {
   "cell_type": "markdown",
   "id": "6d036eb9",
   "metadata": {},
   "source": [
    "$$\n",
    "P(X > Y) = P(X - Y > 0) = 1 - P(X - Y < 0) = 1 - F_{X-Y}(0);\n",
    "$$\n",
    "$$\n",
    "X,Y \\sim \\mathcal{N}(\\mu,\\sigma^2). \\Rightarrow X - Y \\sim \\mathcal{N} (\\mu_1 - \\mu_2, \\sigma_1^2 + \\sigma_2^2)\n",
    "$$"
   ]
  },
  {
   "cell_type": "code",
   "execution_count": 14,
   "id": "2882a5cf",
   "metadata": {},
   "outputs": [],
   "source": [
    "EPS = 1e-6\n",
    "\n",
    "def policy_prob(mu1, mu2, std1, std2):\n",
    "    mu = mu1 - mu2\n",
    "    std = np.sqrt(std1 ** 2 + std2 ** 2) + EPS\n",
    "    cum_dist = 1 - scipy.stats.norm.cdf(0, mu, std)\n",
    "    \n",
    "    return cum_dist\n",
    "\n",
    "pi_0 = policy_prob(data_for_ips['coeff_sum0'], data_for_ips['coeff_sum1'], data_for_ips['g0'], data_for_ips['g1'])\n",
    "\n",
    "coeff_sum0_pred = logit(model.predict_proba(X_test)[:, 1])\n",
    "coeff_sum1_pred = logit(model.predict_proba(X_test2)[:, 1])\n",
    "pi_1 = policy_prob(coeff_sum0_pred, coeff_sum1_pred, data_for_ips['g0'], data_for_ips['g1'])"
   ]
  },
  {
   "cell_type": "code",
   "execution_count": 15,
   "id": "fdaf172d",
   "metadata": {},
   "outputs": [
    {
     "data": {
      "text/plain": [
       "0.06404814885499405"
      ]
     },
     "execution_count": 15,
     "metadata": {},
     "output_type": "execute_result"
    }
   ],
   "source": [
    "def get_cips(y_test, pi_0, pi_1, l=10):\n",
    "    cips = np.mean(y_test * np.minimum(pi_1 / (pi_0 + EPS), l))\n",
    "    return cips\n",
    "\n",
    "get_cips(y_test, pi_0, pi_1, l=10)"
   ]
  }
 ],
 "metadata": {
  "kernelspec": {
   "display_name": "Python 3 (ipykernel)",
   "language": "python",
   "name": "python3"
  },
  "language_info": {
   "codemirror_mode": {
    "name": "ipython",
    "version": 3
   },
   "file_extension": ".py",
   "mimetype": "text/x-python",
   "name": "python",
   "nbconvert_exporter": "python",
   "pygments_lexer": "ipython3",
   "version": "3.10.12"
  }
 },
 "nbformat": 4,
 "nbformat_minor": 5
}
