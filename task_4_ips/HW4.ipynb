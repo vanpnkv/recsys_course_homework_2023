{
 "cells": [
  {
   "cell_type": "markdown",
   "metadata": {
    "id": "SGK1enE9m4pp"
   },
   "source": [
    "# Домашнее задание 4\n",
    "Рекомендательные системы, Оксана Нырка"
   ]
  },
  {
   "cell_type": "markdown",
   "metadata": {
    "id": "mIVkdBITm_gI"
   },
   "source": [
    "## Загрузка данных"
   ]
  },
  {
   "cell_type": "code",
   "execution_count": 40,
   "metadata": {
    "execution": {
     "iopub.execute_input": "2023-11-23T13:37:35.597327Z",
     "iopub.status.busy": "2023-11-23T13:37:35.596829Z",
     "iopub.status.idle": "2023-11-23T13:37:36.618784Z",
     "shell.execute_reply": "2023-11-23T13:37:36.618008Z",
     "shell.execute_reply.started": "2023-11-23T13:37:35.597230Z"
    },
    "id": "z-gOUGYgkaF4"
   },
   "outputs": [],
   "source": [
    "import pandas as pd\n",
    "import matplotlib.pyplot as plt\n",
    "import numpy as np\n",
    "from sklearn.preprocessing import OneHotEncoder\n",
    "from scipy import sparse\n",
    "from sklearn.linear_model import LogisticRegression\n",
    "from sklearn.metrics import roc_auc_score\n",
    "from sklearn.metrics import accuracy_score\n",
    "from sklearn.metrics import log_loss\n",
    "from sklearn.metrics import f1_score\n",
    "from scipy.stats import norm\n",
    "from scipy.special import logit"
   ]
  },
  {
   "cell_type": "code",
   "execution_count": 6,
   "metadata": {
    "execution": {
     "iopub.execute_input": "2023-11-23T13:37:46.276621Z",
     "iopub.status.busy": "2023-11-23T13:37:46.275942Z",
     "iopub.status.idle": "2023-11-23T13:38:42.621295Z",
     "shell.execute_reply": "2023-11-23T13:38:42.619773Z",
     "shell.execute_reply.started": "2023-11-23T13:37:46.276587Z"
    },
    "id": "XBk0DGK9kaF5"
   },
   "outputs": [],
   "source": [
    "data = pd.read_csv('data.csv')"
   ]
  },
  {
   "cell_type": "code",
   "execution_count": 7,
   "metadata": {
    "colab": {
     "base_uri": "https://localhost:8080/",
     "height": 206
    },
    "execution": {
     "iopub.execute_input": "2023-11-23T13:38:54.467582Z",
     "iopub.status.busy": "2023-11-23T13:38:54.466971Z",
     "iopub.status.idle": "2023-11-23T13:38:54.610881Z",
     "shell.execute_reply": "2023-11-23T13:38:54.608738Z",
     "shell.execute_reply.started": "2023-11-23T13:38:54.467541Z"
    },
    "id": "MeN6UDfBNpF-",
    "outputId": "ef883a61-aa0d-4157-dcfe-ac343635d20a"
   },
   "outputs": [
    {
     "data": {
      "text/html": [
       "<div>\n",
       "<style scoped>\n",
       "    .dataframe tbody tr th:only-of-type {\n",
       "        vertical-align: middle;\n",
       "    }\n",
       "\n",
       "    .dataframe tbody tr th {\n",
       "        vertical-align: top;\n",
       "    }\n",
       "\n",
       "    .dataframe thead th {\n",
       "        text-align: right;\n",
       "    }\n",
       "</style>\n",
       "<table border=\"1\" class=\"dataframe\">\n",
       "  <thead>\n",
       "    <tr style=\"text-align: right;\">\n",
       "      <th></th>\n",
       "      <th>date_time</th>\n",
       "      <th>zone_id</th>\n",
       "      <th>banner_id</th>\n",
       "      <th>oaid_hash</th>\n",
       "      <th>campaign_clicks</th>\n",
       "      <th>os_id</th>\n",
       "      <th>country_id</th>\n",
       "      <th>banner_id0</th>\n",
       "      <th>rate0</th>\n",
       "      <th>g0</th>\n",
       "      <th>coeff_sum0</th>\n",
       "      <th>banner_id1</th>\n",
       "      <th>rate1</th>\n",
       "      <th>g1</th>\n",
       "      <th>coeff_sum1</th>\n",
       "      <th>impressions</th>\n",
       "      <th>clicks</th>\n",
       "    </tr>\n",
       "  </thead>\n",
       "  <tbody>\n",
       "    <tr>\n",
       "      <th>0</th>\n",
       "      <td>2021-09-27 00:01:30</td>\n",
       "      <td>0</td>\n",
       "      <td>0</td>\n",
       "      <td>5664530014561852622</td>\n",
       "      <td>0</td>\n",
       "      <td>0</td>\n",
       "      <td>0</td>\n",
       "      <td>1240</td>\n",
       "      <td>0.067</td>\n",
       "      <td>0.035016</td>\n",
       "      <td>-7.268846</td>\n",
       "      <td>0</td>\n",
       "      <td>0.010</td>\n",
       "      <td>0.049516</td>\n",
       "      <td>-5.369901</td>\n",
       "      <td>1</td>\n",
       "      <td>1</td>\n",
       "    </tr>\n",
       "    <tr>\n",
       "      <th>1</th>\n",
       "      <td>2021-09-26 22:54:49</td>\n",
       "      <td>1</td>\n",
       "      <td>1</td>\n",
       "      <td>5186611064559013950</td>\n",
       "      <td>0</td>\n",
       "      <td>0</td>\n",
       "      <td>1</td>\n",
       "      <td>1</td>\n",
       "      <td>0.002</td>\n",
       "      <td>0.054298</td>\n",
       "      <td>-2.657477</td>\n",
       "      <td>269</td>\n",
       "      <td>0.004</td>\n",
       "      <td>0.031942</td>\n",
       "      <td>-4.449220</td>\n",
       "      <td>1</td>\n",
       "      <td>1</td>\n",
       "    </tr>\n",
       "    <tr>\n",
       "      <th>2</th>\n",
       "      <td>2021-09-26 23:57:20</td>\n",
       "      <td>2</td>\n",
       "      <td>2</td>\n",
       "      <td>2215519569292448030</td>\n",
       "      <td>3</td>\n",
       "      <td>0</td>\n",
       "      <td>0</td>\n",
       "      <td>2</td>\n",
       "      <td>0.014</td>\n",
       "      <td>0.014096</td>\n",
       "      <td>-3.824875</td>\n",
       "      <td>21</td>\n",
       "      <td>0.014</td>\n",
       "      <td>0.014906</td>\n",
       "      <td>-3.939309</td>\n",
       "      <td>1</td>\n",
       "      <td>1</td>\n",
       "    </tr>\n",
       "    <tr>\n",
       "      <th>3</th>\n",
       "      <td>2021-09-27 00:04:30</td>\n",
       "      <td>3</td>\n",
       "      <td>3</td>\n",
       "      <td>6262169206735077204</td>\n",
       "      <td>0</td>\n",
       "      <td>1</td>\n",
       "      <td>1</td>\n",
       "      <td>3</td>\n",
       "      <td>0.012</td>\n",
       "      <td>0.015232</td>\n",
       "      <td>-3.461357</td>\n",
       "      <td>99</td>\n",
       "      <td>0.006</td>\n",
       "      <td>0.050671</td>\n",
       "      <td>-3.418403</td>\n",
       "      <td>1</td>\n",
       "      <td>1</td>\n",
       "    </tr>\n",
       "    <tr>\n",
       "      <th>4</th>\n",
       "      <td>2021-09-27 00:06:21</td>\n",
       "      <td>4</td>\n",
       "      <td>4</td>\n",
       "      <td>4778985830203613115</td>\n",
       "      <td>0</td>\n",
       "      <td>1</td>\n",
       "      <td>0</td>\n",
       "      <td>4</td>\n",
       "      <td>0.019</td>\n",
       "      <td>0.051265</td>\n",
       "      <td>-4.009026</td>\n",
       "      <td>11464230</td>\n",
       "      <td>6.790</td>\n",
       "      <td>0.032005</td>\n",
       "      <td>-2.828797</td>\n",
       "      <td>1</td>\n",
       "      <td>1</td>\n",
       "    </tr>\n",
       "  </tbody>\n",
       "</table>\n",
       "</div>"
      ],
      "text/plain": [
       "            date_time  zone_id  banner_id            oaid_hash  \\\n",
       "0 2021-09-27 00:01:30        0          0  5664530014561852622   \n",
       "1 2021-09-26 22:54:49        1          1  5186611064559013950   \n",
       "2 2021-09-26 23:57:20        2          2  2215519569292448030   \n",
       "3 2021-09-27 00:04:30        3          3  6262169206735077204   \n",
       "4 2021-09-27 00:06:21        4          4  4778985830203613115   \n",
       "\n",
       "   campaign_clicks  os_id  country_id  banner_id0  rate0        g0  \\\n",
       "0                0      0           0        1240  0.067  0.035016   \n",
       "1                0      0           1           1  0.002  0.054298   \n",
       "2                3      0           0           2  0.014  0.014096   \n",
       "3                0      1           1           3  0.012  0.015232   \n",
       "4                0      1           0           4  0.019  0.051265   \n",
       "\n",
       "   coeff_sum0  banner_id1  rate1        g1  coeff_sum1  impressions  clicks  \n",
       "0   -7.268846           0  0.010  0.049516   -5.369901            1       1  \n",
       "1   -2.657477         269  0.004  0.031942   -4.449220            1       1  \n",
       "2   -3.824875          21  0.014  0.014906   -3.939309            1       1  \n",
       "3   -3.461357          99  0.006  0.050671   -3.418403            1       1  \n",
       "4   -4.009026    11464230  6.790  0.032005   -2.828797            1       1  "
      ]
     },
     "execution_count": 7,
     "metadata": {},
     "output_type": "execute_result"
    }
   ],
   "source": [
    "# date_time : object -> datetime\n",
    "data.date_time = pd.to_datetime(data.date_time)\n",
    "data.head()"
   ]
  },
  {
   "cell_type": "code",
   "execution_count": 8,
   "metadata": {},
   "outputs": [
    {
     "name": "stdout",
     "output_type": "stream",
     "text": [
      "(15821471, 17)\n"
     ]
    }
   ],
   "source": [
    "# Удалим выброс за 1 сентября\n",
    "data = data[data['date_time'] >= pd.to_datetime('2021-09-26')]\n",
    "print(data.shape)"
   ]
  },
  {
   "cell_type": "code",
   "execution_count": 9,
   "metadata": {},
   "outputs": [],
   "source": [
    "# Оставим только наблюдения, где banner_id совпадает с banner_id0\n",
    "data = data[data['banner_id'] == data['banner_id0']]"
   ]
  },
  {
   "cell_type": "markdown",
   "metadata": {
    "id": "rXNe2wDYpnEK"
   },
   "source": [
    "## Feature engineering\n",
    "\n",
    "> Сделаем предобработку как во второй домашке (на основе комментариев по первой домашке) и без использования campaign_clicks"
   ]
  },
  {
   "cell_type": "code",
   "execution_count": 10,
   "metadata": {
    "execution": {
     "iopub.execute_input": "2023-11-23T13:42:14.039049Z",
     "iopub.status.busy": "2023-11-23T13:42:14.038611Z",
     "iopub.status.idle": "2023-11-23T13:42:14.055579Z",
     "shell.execute_reply": "2023-11-23T13:42:14.053508Z",
     "shell.execute_reply.started": "2023-11-23T13:42:14.039020Z"
    },
    "id": "EZHoRw_Mp3p-"
   },
   "outputs": [],
   "source": [
    "# в impressions все единицы - удалим колонку\n",
    "data = data.drop('impressions', axis = 1)\n",
    "\n",
    "# date_time\n",
    "## достанем из date_time время суток и день недели\n",
    "data['day'] = data['date_time'].dt.weekday\n",
    "data['hour'] = data['date_time'].dt.hour\n",
    "\n",
    "\n",
    "## interactions between hour and day\n",
    "data['day_hour_interact'] = data['day'].astype(str) + data['hour'].astype(str)\n",
    "data['day_hour_interact'] = pd.factorize(data['day_hour_interact'])[0]\n",
    "\n",
    "\n",
    "# zone_id\n",
    "counts = data['zone_id'].value_counts()\n",
    "idxs = counts[counts < 20].index\n",
    "data.loc[data['zone_id'].isin(idxs), 'zone_id'] = -1\n",
    "\n",
    "# os_id\n",
    "data.os_id = data.os_id.replace({9: 1, 10: 1, 7: 2, 8: 2})"
   ]
  },
  {
   "cell_type": "code",
   "execution_count": 26,
   "metadata": {},
   "outputs": [],
   "source": [
    "# сделаем one-hot encoding для всех категориальных фичей\n",
    "## разделим на обучающую и тестовую выборку: тестовая - последний день датасета\n",
    "x_train = data[data['date_time'] < pd.to_datetime('2021-10-02')]\n",
    "y_train = x_train['clicks']\n",
    "x_test = data[~(data['date_time'] < pd.to_datetime('2021-10-02'))]\n",
    "y_test = x_test['clicks']"
   ]
  },
  {
   "cell_type": "code",
   "execution_count": 27,
   "metadata": {},
   "outputs": [],
   "source": [
    "## добавим тестовую для policy_1\n",
    "x_test_1 = x_test.copy()\n",
    "x_test_1['banner_id'] = x_test_1['banner_id1']"
   ]
  },
  {
   "cell_type": "code",
   "execution_count": 28,
   "metadata": {},
   "outputs": [],
   "source": [
    "## удалим все фичи, которые не надо делать dummies\n",
    "x_train = x_train.drop(columns = ['campaign_clicks', 'date_time', 'clicks', 'banner_id0', 'banner_id1', 'rate0', 'rate1', 'g0', 'g1', 'coeff_sum0', 'coeff_sum1', 'oaid_hash'])\n",
    "x_test = x_test.drop(columns = ['campaign_clicks', 'date_time', 'clicks', 'banner_id0', 'banner_id1', 'rate0', 'rate1', 'g0', 'g1', 'coeff_sum0', 'coeff_sum1', 'oaid_hash'])\n",
    "x_test_1 = x_test_1.drop(columns = ['campaign_clicks', 'date_time', 'clicks', 'banner_id0', 'banner_id1', 'rate0', 'rate1', 'g0', 'g1', 'coeff_sum0', 'coeff_sum1', 'oaid_hash'])\n"
   ]
  },
  {
   "cell_type": "code",
   "execution_count": 29,
   "metadata": {},
   "outputs": [
    {
     "name": "stderr",
     "output_type": "stream",
     "text": [
      "C:\\Anaconda3\\lib\\site-packages\\sklearn\\preprocessing\\_encoders.py:202: UserWarning: Found unknown categories in columns [0, 1, 4, 6] during transform. These unknown categories will be encoded as all zeros\n",
      "  warnings.warn(\n",
      "C:\\Anaconda3\\lib\\site-packages\\sklearn\\preprocessing\\_encoders.py:202: UserWarning: Found unknown categories in columns [0, 1, 4, 6] during transform. These unknown categories will be encoded as all zeros\n",
      "  warnings.warn(\n"
     ]
    }
   ],
   "source": [
    "# encoder для one-hot encoding\n",
    "encoder = OneHotEncoder(sparse_output=True, drop = 'first', handle_unknown='ignore')\n",
    "X_train = encoder.fit_transform(x_train)\n",
    "X_test = encoder.transform(x_test)\n",
    "X_test_1 = encoder.transform(x_test_1)"
   ]
  },
  {
   "cell_type": "markdown",
   "metadata": {},
   "source": [
    "## Линейная модель: линейная регрессия\n",
    "> по сравнению с HW1 используется другой солвер"
   ]
  },
  {
   "cell_type": "code",
   "execution_count": 52,
   "metadata": {
    "execution": {
     "iopub.execute_input": "2023-11-23T13:42:55.665644Z",
     "iopub.status.busy": "2023-11-23T13:42:55.665234Z",
     "iopub.status.idle": "2023-11-23T13:42:55.673400Z",
     "shell.execute_reply": "2023-11-23T13:42:55.671690Z",
     "shell.execute_reply.started": "2023-11-23T13:42:55.665615Z"
    }
   },
   "outputs": [
    {
     "data": {
      "text/html": [
       "<style>#sk-container-id-3 {color: black;background-color: white;}#sk-container-id-3 pre{padding: 0;}#sk-container-id-3 div.sk-toggleable {background-color: white;}#sk-container-id-3 label.sk-toggleable__label {cursor: pointer;display: block;width: 100%;margin-bottom: 0;padding: 0.3em;box-sizing: border-box;text-align: center;}#sk-container-id-3 label.sk-toggleable__label-arrow:before {content: \"▸\";float: left;margin-right: 0.25em;color: #696969;}#sk-container-id-3 label.sk-toggleable__label-arrow:hover:before {color: black;}#sk-container-id-3 div.sk-estimator:hover label.sk-toggleable__label-arrow:before {color: black;}#sk-container-id-3 div.sk-toggleable__content {max-height: 0;max-width: 0;overflow: hidden;text-align: left;background-color: #f0f8ff;}#sk-container-id-3 div.sk-toggleable__content pre {margin: 0.2em;color: black;border-radius: 0.25em;background-color: #f0f8ff;}#sk-container-id-3 input.sk-toggleable__control:checked~div.sk-toggleable__content {max-height: 200px;max-width: 100%;overflow: auto;}#sk-container-id-3 input.sk-toggleable__control:checked~label.sk-toggleable__label-arrow:before {content: \"▾\";}#sk-container-id-3 div.sk-estimator input.sk-toggleable__control:checked~label.sk-toggleable__label {background-color: #d4ebff;}#sk-container-id-3 div.sk-label input.sk-toggleable__control:checked~label.sk-toggleable__label {background-color: #d4ebff;}#sk-container-id-3 input.sk-hidden--visually {border: 0;clip: rect(1px 1px 1px 1px);clip: rect(1px, 1px, 1px, 1px);height: 1px;margin: -1px;overflow: hidden;padding: 0;position: absolute;width: 1px;}#sk-container-id-3 div.sk-estimator {font-family: monospace;background-color: #f0f8ff;border: 1px dotted black;border-radius: 0.25em;box-sizing: border-box;margin-bottom: 0.5em;}#sk-container-id-3 div.sk-estimator:hover {background-color: #d4ebff;}#sk-container-id-3 div.sk-parallel-item::after {content: \"\";width: 100%;border-bottom: 1px solid gray;flex-grow: 1;}#sk-container-id-3 div.sk-label:hover label.sk-toggleable__label {background-color: #d4ebff;}#sk-container-id-3 div.sk-serial::before {content: \"\";position: absolute;border-left: 1px solid gray;box-sizing: border-box;top: 0;bottom: 0;left: 50%;z-index: 0;}#sk-container-id-3 div.sk-serial {display: flex;flex-direction: column;align-items: center;background-color: white;padding-right: 0.2em;padding-left: 0.2em;position: relative;}#sk-container-id-3 div.sk-item {position: relative;z-index: 1;}#sk-container-id-3 div.sk-parallel {display: flex;align-items: stretch;justify-content: center;background-color: white;position: relative;}#sk-container-id-3 div.sk-item::before, #sk-container-id-3 div.sk-parallel-item::before {content: \"\";position: absolute;border-left: 1px solid gray;box-sizing: border-box;top: 0;bottom: 0;left: 50%;z-index: -1;}#sk-container-id-3 div.sk-parallel-item {display: flex;flex-direction: column;z-index: 1;position: relative;background-color: white;}#sk-container-id-3 div.sk-parallel-item:first-child::after {align-self: flex-end;width: 50%;}#sk-container-id-3 div.sk-parallel-item:last-child::after {align-self: flex-start;width: 50%;}#sk-container-id-3 div.sk-parallel-item:only-child::after {width: 0;}#sk-container-id-3 div.sk-dashed-wrapped {border: 1px dashed gray;margin: 0 0.4em 0.5em 0.4em;box-sizing: border-box;padding-bottom: 0.4em;background-color: white;}#sk-container-id-3 div.sk-label label {font-family: monospace;font-weight: bold;display: inline-block;line-height: 1.2em;}#sk-container-id-3 div.sk-label-container {text-align: center;}#sk-container-id-3 div.sk-container {/* jupyter's `normalize.less` sets `[hidden] { display: none; }` but bootstrap.min.css set `[hidden] { display: none !important; }` so we also need the `!important` here to be able to override the default hidden behavior on the sphinx rendered scikit-learn.org. See: https://github.com/scikit-learn/scikit-learn/issues/21755 */display: inline-block !important;position: relative;}#sk-container-id-3 div.sk-text-repr-fallback {display: none;}</style><div id=\"sk-container-id-3\" class=\"sk-top-container\"><div class=\"sk-text-repr-fallback\"><pre>LogisticRegression(C=0.1, max_iter=100000, solver=&#x27;liblinear&#x27;)</pre><b>In a Jupyter environment, please rerun this cell to show the HTML representation or trust the notebook. <br />On GitHub, the HTML representation is unable to render, please try loading this page with nbviewer.org.</b></div><div class=\"sk-container\" hidden><div class=\"sk-item\"><div class=\"sk-estimator sk-toggleable\"><input class=\"sk-toggleable__control sk-hidden--visually\" id=\"sk-estimator-id-3\" type=\"checkbox\" checked><label for=\"sk-estimator-id-3\" class=\"sk-toggleable__label sk-toggleable__label-arrow\">LogisticRegression</label><div class=\"sk-toggleable__content\"><pre>LogisticRegression(C=0.1, max_iter=100000, solver=&#x27;liblinear&#x27;)</pre></div></div></div></div></div>"
      ],
      "text/plain": [
       "LogisticRegression(C=0.1, max_iter=100000, solver='liblinear')"
      ]
     },
     "execution_count": 52,
     "metadata": {},
     "output_type": "execute_result"
    }
   ],
   "source": [
    "lr = LogisticRegression(C = .1, solver = 'liblinear', max_iter = 100000)\n",
    "lr.fit(X_train, y_train)"
   ]
  },
  {
   "cell_type": "code",
   "execution_count": 53,
   "metadata": {},
   "outputs": [
    {
     "name": "stdout",
     "output_type": "stream",
     "text": [
      "Model performance:\n",
      "roc auc score:  0.7915547337615091\n",
      "log loss score:  0.13428434368246028\n"
     ]
    }
   ],
   "source": [
    "# Результат на тесте\n",
    "print(\"Model performance:\")\n",
    "y_pred = lr.predict_proba(X_test)\n",
    "print('roc auc score: ', roc_auc_score(y_test, y_pred[:, 1]))\n",
    "print('log loss score: ', log_loss(y_test, y_pred))"
   ]
  },
  {
   "cell_type": "code",
   "execution_count": 21,
   "metadata": {},
   "outputs": [
    {
     "name": "stdout",
     "output_type": "stream",
     "text": [
      "Test Baseline:\n",
      "auc: 0.5\n",
      "log_loss: 0.15581177703186688\n"
     ]
    }
   ],
   "source": [
    "# Test baseline\n",
    "print(\"Test Baseline:\")\n",
    "pred = np.ones_like(y_test) * y_test.mean()\n",
    "print(f\"auc: {roc_auc_score(y_test, pred)}\")\n",
    "print(f\"log_loss: {log_loss(y_test, pred)}\")"
   ]
  },
  {
   "cell_type": "markdown",
   "metadata": {},
   "source": [
    "## CIPS"
   ]
  },
  {
   "cell_type": "markdown",
   "metadata": {},
   "source": [
    "Определим вероятность того, что одна нормальная величина больше другой."
   ]
  },
  {
   "cell_type": "markdown",
   "metadata": {},
   "source": [
    "Пусть $\\xi_0 \\sim \\mathcal{N}(\\mu_0; \\sigma_0^2)$, $\\xi_1 \\sim \\mathcal{N}(\\mu_1; \\sigma_1^2)$. Посчитаем вероятность как:\n",
    "\n",
    "$$Pr(\\xi_0 > \\xi_1) = Pr(\\xi_0 - \\xi_1 > 0) = 1 - Pr(\\xi_0 - \\xi_1 < 0) = 1 - F_{\\xi_0 - \\xi_1}(0)$$\n",
    "\n",
    "где $\\xi_0 - \\xi_1 \\sim \\mathcal{N}(\\mu_0 - \\mu_1; \\sigma_0^2 + \\sigma_1^2)$."
   ]
  },
  {
   "cell_type": "code",
   "execution_count": 34,
   "metadata": {},
   "outputs": [],
   "source": [
    "# Вернем данные, т.к. нужные колонки были удалены перед one-hot encoding\n",
    "x_test = data[~(data['date_time'] < pd.to_datetime('2021-10-02'))]"
   ]
  },
  {
   "cell_type": "code",
   "execution_count": 49,
   "metadata": {},
   "outputs": [],
   "source": [
    "# Посчитаем policy_0\n",
    "mu = x_test['coeff_sum0'] - x_test['coeff_sum1']\n",
    "sigma = np.sqrt(x_test['g0']**2 + x_test['g1']**2) + 1e-8\n",
    "pi_0 = 1 - norm.cdf(0, mu, sigma)"
   ]
  },
  {
   "cell_type": "code",
   "execution_count": 54,
   "metadata": {},
   "outputs": [],
   "source": [
    "# Посчитаем policy_1\n",
    "coeff_sum_new0 = logit(y_pred[:, 1])\n",
    "y_pred_new = lr.predict_proba(X_test_1)\n",
    "coeff_sum_new1 = logit(y_pred_new[:, 1])"
   ]
  },
  {
   "cell_type": "code",
   "execution_count": 55,
   "metadata": {},
   "outputs": [],
   "source": [
    "mu = coeff_sum_new0 - coeff_sum_new1\n",
    "sigma = np.sqrt(x_test['g0']**2 + x_test['g1']**2) + 1e-8\n",
    "pi_1 = 1 - norm.cdf(0, mu, sigma)"
   ]
  },
  {
   "cell_type": "markdown",
   "metadata": {},
   "source": [
    "$$CIPS = \\frac{1}{n}\\sum_i r_i\\cdot min \\left(\\frac{\\pi_1}{\\pi_0}, \\lambda\\right)$$"
   ]
  },
  {
   "cell_type": "code",
   "execution_count": 56,
   "metadata": {},
   "outputs": [
    {
     "name": "stdout",
     "output_type": "stream",
     "text": [
      "CIPS:  0.06273601501661438\n"
     ]
    }
   ],
   "source": [
    "# Посчитаем CIPS\n",
    "lambda_ = 10\n",
    "cips = np.mean(y_test*np.minimum(pi_1 / (pi_0 + 1e-8), lambda_))\n",
    "print('CIPS: ', cips)"
   ]
  }
 ],
 "metadata": {
  "colab": {
   "provenance": []
  },
  "kaggle": {
   "accelerator": "none",
   "dataSources": [
    {
     "datasetId": 4012891,
     "sourceId": 6982515,
     "sourceType": "datasetVersion"
    }
   ],
   "dockerImageVersionId": 30587,
   "isGpuEnabled": false,
   "isInternetEnabled": true,
   "language": "python",
   "sourceType": "notebook"
  },
  "kernelspec": {
   "display_name": "Python 3 (ipykernel)",
   "language": "python",
   "name": "python3"
  },
  "language_info": {
   "codemirror_mode": {
    "name": "ipython",
    "version": 3
   },
   "file_extension": ".py",
   "mimetype": "text/x-python",
   "name": "python",
   "nbconvert_exporter": "python",
   "pygments_lexer": "ipython3",
   "version": "3.8.8"
  }
 },
 "nbformat": 4,
 "nbformat_minor": 4
}
