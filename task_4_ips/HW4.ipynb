{
 "cells": [
  {
   "cell_type": "code",
   "execution_count": 1,
   "id": "33ff86e2",
   "metadata": {},
   "outputs": [],
   "source": [
    "import numpy as np\n",
    "import pandas as pd\n",
    "import datetime as dt\n",
    "from sklearn.linear_model import LogisticRegression\n",
    "from scipy.stats import norm\n",
    "from scipy.special import logit\n",
    "from sklearn.metrics import roc_auc_score, log_loss\n",
    "from sklearn.preprocessing import OneHotEncoder"
   ]
  },
  {
   "cell_type": "code",
   "execution_count": 2,
   "id": "c1b45edb",
   "metadata": {},
   "outputs": [],
   "source": [
    "data = pd.read_csv('data.csv', parse_dates=['date_time'], date_parser=pd.to_datetime)\n",
    "data.drop(['oaid_hash', 'rate0', 'rate1', 'campaign_clicks', 'impressions'], axis=1, inplace=True)"
   ]
  },
  {
   "cell_type": "markdown",
   "id": "37d0ccce",
   "metadata": {},
   "source": [
    "Сразу выбросим ненужные фичи"
   ]
  },
  {
   "cell_type": "code",
   "execution_count": 3,
   "id": "69e1e3be",
   "metadata": {},
   "outputs": [],
   "source": [
    "def feature_engineering(data: pd.DataFrame):\n",
    "    test = data[data['date_time'].dt.date == dt.date(2021, 10, 2)]\n",
    "    train = data[data['date_time'].dt.date < dt.date(2021, 10, 2)]\n",
    "    test = test[test['banner_id0'] == test['banner_id']]\n",
    "    test_0 = test.copy()\n",
    "    y_train = train['clicks']\n",
    "    y_test = test['clicks']\n",
    "    test.drop(['date_time', 'clicks'], axis=1, inplace=True)\n",
    "    train.drop(['date_time', 'clicks'], axis=1, inplace=True)\n",
    "    test_b1 = test.copy()\n",
    "    test_b1['banner_id'] = test_b1['banner_id1']\n",
    "    \n",
    "    OHE = OneHotEncoder(handle_unknown='ignore')\n",
    "    train = OHE.fit_transform(train)\n",
    "    test = OHE.transform(test)\n",
    "    test_b1 = OHE.transform(test_b1)\n",
    "    \n",
    "    return train, test, test_b1, test_0, y_train, y_test"
   ]
  },
  {
   "cell_type": "code",
   "execution_count": 4,
   "id": "ab94a090",
   "metadata": {},
   "outputs": [],
   "source": [
    "train, test, test_b1, test_0, y_train, y_test = feature_engineering(data)"
   ]
  },
  {
   "cell_type": "code",
   "execution_count": 5,
   "id": "ef179426",
   "metadata": {},
   "outputs": [
    {
     "name": "stdout",
     "output_type": "stream",
     "text": [
      "roc_auc = 0.7703158091435933 log_loss = 0.13954169461322535\n"
     ]
    }
   ],
   "source": [
    "model = LogisticRegression(C = 1, solver='liblinear')\n",
    "model.fit(train, y_train)\n",
    "y_pred = model.predict_proba(test)[:, 1]\n",
    "y_pred_b1 = model.predict_proba(test_b1)[:, 1]\n",
    "print('roc_auc =', roc_auc_score(y_test, y_pred), 'log_loss =', log_loss(y_test, y_pred))"
   ]
  },
  {
   "cell_type": "markdown",
   "id": "c093639a",
   "metadata": {},
   "source": [
    "Теперь рассмотрим вероятность того, что одна случайная величина $X \\sim N(\\mu_X, \\sigma_X^2)$ будет больше другой $Y \\sim N(\\mu_Y, \\sigma_Y^2)$:\n",
    "\n",
    "$P(X > Y) = P(X - Y > 0) = 1 - F_{X - Y}(0)$, причем\n",
    "\n",
    "$Z = X - Y \\sim N(\\mu_X - \\mu_Y, \\sigma_X^2+\\sigma_Y^2)$"
   ]
  },
  {
   "cell_type": "markdown",
   "id": "2bd7d519",
   "metadata": {},
   "source": [
    "Дальше у нас производятся операции деления, поэтому на всякий случай везде добавим небольшое слогаемое, чтобы избежать деления на 0"
   ]
  },
  {
   "cell_type": "code",
   "execution_count": 6,
   "id": "b7167a57",
   "metadata": {},
   "outputs": [],
   "source": [
    "def pi(coeff_0, g_0, coeff_1, g_1):\n",
    "    res = 1 - norm.cdf(0, loc = coeff_0 - coeff_1, scale = np.sqrt(g_0**2 + g_0**2) + 1e-9)\n",
    "    return res"
   ]
  },
  {
   "cell_type": "code",
   "execution_count": 7,
   "id": "fa5c3fb2",
   "metadata": {},
   "outputs": [],
   "source": [
    "pi_0 = pi(test_0['coeff_sum0'], test_0['g0'], test_0['coeff_sum1'], test_0['g1'])"
   ]
  },
  {
   "cell_type": "code",
   "execution_count": 8,
   "id": "a6f13880",
   "metadata": {},
   "outputs": [],
   "source": [
    "coeff_sum0_new = logit(y_pred)\n",
    "coeff_sum1_new = logit(y_pred_b1)\n",
    "\n",
    "pi_1 = pi(coeff_sum0_new, test_0['g0'], coeff_sum1_new, test_0['g1'])"
   ]
  },
  {
   "cell_type": "code",
   "execution_count": 9,
   "id": "02683e13",
   "metadata": {},
   "outputs": [
    {
     "data": {
      "text/plain": [
       "0.07114695880379313"
      ]
     },
     "execution_count": 9,
     "metadata": {},
     "output_type": "execute_result"
    }
   ],
   "source": [
    "clips = np.mean(y_test * np.minimum(pi_1 / (pi_0 + 1e-9), 10))\n",
    "clips"
   ]
  },
  {
   "cell_type": "code",
   "execution_count": null,
   "id": "16b8dc81",
   "metadata": {},
   "outputs": [],
   "source": []
  }
 ],
 "metadata": {
  "kernelspec": {
   "display_name": "Python 3 (ipykernel)",
   "language": "python",
   "name": "python3"
  },
  "language_info": {
   "codemirror_mode": {
    "name": "ipython",
    "version": 3
   },
   "file_extension": ".py",
   "mimetype": "text/x-python",
   "name": "python",
   "nbconvert_exporter": "python",
   "pygments_lexer": "ipython3",
   "version": "3.9.13"
  }
 },
 "nbformat": 4,
 "nbformat_minor": 5
}
