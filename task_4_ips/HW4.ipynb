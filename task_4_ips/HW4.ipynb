{
 "cells": [
  {
   "cell_type": "markdown",
   "id": "dda52ee7-ed36-4859-bdbe-e29433c059bb",
   "metadata": {},
   "source": [
    "## data analysis and transformation"
   ]
  },
  {
   "cell_type": "markdown",
   "id": "ae32f7df-18b3-45aa-8536-9ec8adc00b1f",
   "metadata": {},
   "source": [
    "features:\n",
    "- date_time - время показа рекламы\n",
    "- oaid_hash - хэш юзера\n",
    "- zone_id - id зоны, где зона - место на сайте для размещения рекламы\n",
    "- banner_id - id баннера, где баннер - сама реклама\n",
    "- os_id - id операционной системы\n",
    "- country_id - id страны\n",
    "- clicks - был ли клик\n",
    "\n",
    "to calculate probs:\n",
    "- banner_id0 - нулевой баннер в “стакане” баннеров\n",
    "- banner_id1 - перый баннер в “стакане” баннеров\n",
    "- g0 - стандартное отклонение предикта с banner_id0\n",
    "- g1 - стандартное отклонение предикта с banner_id1\n",
    "- coeff_sum0 - сумма коэффициентов для banner_id0\n",
    "- coeff_sum1 - сумма коэффициентов для banner_id1"
   ]
  },
  {
   "cell_type": "code",
   "execution_count": 1,
   "id": "17a22a57-3b79-4fcd-8bee-8e5ca4c905d7",
   "metadata": {},
   "outputs": [],
   "source": [
    "import pandas as pd\n",
    "import matplotlib.pyplot as plt\n",
    "import numpy as np"
   ]
  },
  {
   "cell_type": "code",
   "execution_count": 2,
   "id": "d465b739-d4d4-4ce6-9895-cd9b824c7cf9",
   "metadata": {},
   "outputs": [
    {
     "data": {
      "text/html": [
       "<div>\n",
       "<style scoped>\n",
       "    .dataframe tbody tr th:only-of-type {\n",
       "        vertical-align: middle;\n",
       "    }\n",
       "\n",
       "    .dataframe tbody tr th {\n",
       "        vertical-align: top;\n",
       "    }\n",
       "\n",
       "    .dataframe thead th {\n",
       "        text-align: right;\n",
       "    }\n",
       "</style>\n",
       "<table border=\"1\" class=\"dataframe\">\n",
       "  <thead>\n",
       "    <tr style=\"text-align: right;\">\n",
       "      <th></th>\n",
       "      <th>date_time</th>\n",
       "      <th>zone_id</th>\n",
       "      <th>banner_id</th>\n",
       "      <th>oaid_hash</th>\n",
       "      <th>os_id</th>\n",
       "      <th>country_id</th>\n",
       "      <th>banner_id0</th>\n",
       "      <th>g0</th>\n",
       "      <th>coeff_sum0</th>\n",
       "      <th>banner_id1</th>\n",
       "      <th>g1</th>\n",
       "      <th>coeff_sum1</th>\n",
       "      <th>clicks</th>\n",
       "    </tr>\n",
       "  </thead>\n",
       "  <tbody>\n",
       "    <tr>\n",
       "      <th>0</th>\n",
       "      <td>2021-09-27 00:01:30</td>\n",
       "      <td>0</td>\n",
       "      <td>0</td>\n",
       "      <td>5664530014561852622</td>\n",
       "      <td>0</td>\n",
       "      <td>0</td>\n",
       "      <td>1240</td>\n",
       "      <td>0.035016</td>\n",
       "      <td>-7.268846</td>\n",
       "      <td>0</td>\n",
       "      <td>0.049516</td>\n",
       "      <td>-5.369901</td>\n",
       "      <td>1</td>\n",
       "    </tr>\n",
       "    <tr>\n",
       "      <th>1</th>\n",
       "      <td>2021-09-26 22:54:49</td>\n",
       "      <td>1</td>\n",
       "      <td>1</td>\n",
       "      <td>5186611064559013950</td>\n",
       "      <td>0</td>\n",
       "      <td>1</td>\n",
       "      <td>1</td>\n",
       "      <td>0.054298</td>\n",
       "      <td>-2.657477</td>\n",
       "      <td>269</td>\n",
       "      <td>0.031942</td>\n",
       "      <td>-4.449220</td>\n",
       "      <td>1</td>\n",
       "    </tr>\n",
       "    <tr>\n",
       "      <th>2</th>\n",
       "      <td>2021-09-26 23:57:20</td>\n",
       "      <td>2</td>\n",
       "      <td>2</td>\n",
       "      <td>2215519569292448030</td>\n",
       "      <td>0</td>\n",
       "      <td>0</td>\n",
       "      <td>2</td>\n",
       "      <td>0.014096</td>\n",
       "      <td>-3.824875</td>\n",
       "      <td>21</td>\n",
       "      <td>0.014906</td>\n",
       "      <td>-3.939309</td>\n",
       "      <td>1</td>\n",
       "    </tr>\n",
       "    <tr>\n",
       "      <th>3</th>\n",
       "      <td>2021-09-27 00:04:30</td>\n",
       "      <td>3</td>\n",
       "      <td>3</td>\n",
       "      <td>6262169206735077204</td>\n",
       "      <td>1</td>\n",
       "      <td>1</td>\n",
       "      <td>3</td>\n",
       "      <td>0.015232</td>\n",
       "      <td>-3.461357</td>\n",
       "      <td>99</td>\n",
       "      <td>0.050671</td>\n",
       "      <td>-3.418403</td>\n",
       "      <td>1</td>\n",
       "    </tr>\n",
       "    <tr>\n",
       "      <th>4</th>\n",
       "      <td>2021-09-27 00:06:21</td>\n",
       "      <td>4</td>\n",
       "      <td>4</td>\n",
       "      <td>4778985830203613115</td>\n",
       "      <td>1</td>\n",
       "      <td>0</td>\n",
       "      <td>4</td>\n",
       "      <td>0.051265</td>\n",
       "      <td>-4.009026</td>\n",
       "      <td>11464230</td>\n",
       "      <td>0.032005</td>\n",
       "      <td>-2.828797</td>\n",
       "      <td>1</td>\n",
       "    </tr>\n",
       "  </tbody>\n",
       "</table>\n",
       "</div>"
      ],
      "text/plain": [
       "            date_time  zone_id  banner_id            oaid_hash  os_id  \\\n",
       "0 2021-09-27 00:01:30        0          0  5664530014561852622      0   \n",
       "1 2021-09-26 22:54:49        1          1  5186611064559013950      0   \n",
       "2 2021-09-26 23:57:20        2          2  2215519569292448030      0   \n",
       "3 2021-09-27 00:04:30        3          3  6262169206735077204      1   \n",
       "4 2021-09-27 00:06:21        4          4  4778985830203613115      1   \n",
       "\n",
       "   country_id  banner_id0        g0  coeff_sum0  banner_id1        g1  \\\n",
       "0           0        1240  0.035016   -7.268846           0  0.049516   \n",
       "1           1           1  0.054298   -2.657477         269  0.031942   \n",
       "2           0           2  0.014096   -3.824875          21  0.014906   \n",
       "3           1           3  0.015232   -3.461357          99  0.050671   \n",
       "4           0           4  0.051265   -4.009026    11464230  0.032005   \n",
       "\n",
       "   coeff_sum1  clicks  \n",
       "0   -5.369901       1  \n",
       "1   -4.449220       1  \n",
       "2   -3.939309       1  \n",
       "3   -3.418403       1  \n",
       "4   -2.828797       1  "
      ]
     },
     "execution_count": 2,
     "metadata": {},
     "output_type": "execute_result"
    }
   ],
   "source": [
    "# Знаем, что 'impressions' не нужны.\n",
    "# по условию ревард не за зависит от цены клика, так что уберем 'rate0' и 'rate1'\n",
    "data_raw = pd.read_csv('data.csv', parse_dates=['date_time']).drop(['campaign_clicks', 'impressions', 'rate0', 'rate1'], axis=1)\n",
    "data_raw.head()"
   ]
  },
  {
   "cell_type": "code",
   "execution_count": 3,
   "id": "3b9e1deb-2236-4578-9b0b-0d08476f9e3a",
   "metadata": {},
   "outputs": [],
   "source": [
    "def clear_ds(df):\n",
    "    print('Check nans:')\n",
    "    print(df.isna().sum(), end='\\n\\n')\n",
    "\n",
    "    # delete rows with nans\n",
    "    data_without_nans = df.drop(df[df.isna().any(axis=1)].index)\n",
    "\n",
    "    # знаем, что есть выброс, уберем его тоже\n",
    "    data_without_nans_outliers = data_without_nans.drop(data_without_nans[data_without_nans['date_time'].dt.date\n",
    "                                                        == pd.to_datetime('2021-09-01').date()].index)\n",
    "\n",
    "    # уберем строчки где 'banner_id0' != 'banner_id'\n",
    "    data_cleared =  data_without_nans_outliers.drop(data_without_nans_outliers[data_without_nans_outliers['banner_id0']\n",
    "                                                    != data_without_nans_outliers['banner_id']].index)\n",
    "    data_cleared.reset_index(drop=True, inplace=True)\n",
    "\n",
    "    return data_cleared"
   ]
  },
  {
   "cell_type": "code",
   "execution_count": 4,
   "id": "a2bd17e1-f609-4a6e-82c9-1ebd9676407b",
   "metadata": {},
   "outputs": [
    {
     "name": "stdout",
     "output_type": "stream",
     "text": [
      "Check nans:\n",
      "date_time         0\n",
      "zone_id           0\n",
      "banner_id         0\n",
      "oaid_hash         0\n",
      "os_id             0\n",
      "country_id        0\n",
      "banner_id0        0\n",
      "g0               69\n",
      "coeff_sum0       69\n",
      "banner_id1        0\n",
      "g1            19744\n",
      "coeff_sum1    19744\n",
      "clicks            0\n",
      "dtype: int64\n",
      "\n"
     ]
    }
   ],
   "source": [
    "data_cleared = clear_ds(data_raw)"
   ]
  },
  {
   "cell_type": "code",
   "execution_count": 5,
   "id": "da801f9f-642b-4247-935c-2d2114c2d6c1",
   "metadata": {},
   "outputs": [],
   "source": [
    "def analysis(df):\n",
    "    # посмотрим на новые фичи\n",
    "    new_features = ['g0', 'g1', 'coeff_sum0', 'coeff_sum1']\n",
    "    for feature in new_features:\n",
    "        print(f\"{feature}: min_val: {min(df[feature].values)}, max_val: {max(df[feature].values)}\")"
   ]
  },
  {
   "cell_type": "code",
   "execution_count": 6,
   "id": "6b1b6de5-14d1-4b3d-8b08-f944a5caf368",
   "metadata": {},
   "outputs": [
    {
     "name": "stdout",
     "output_type": "stream",
     "text": [
      "g0: min_val: -0.0176373981227117, max_val: 691.088787242959\n",
      "g1: min_val: -0.0698389748079466, max_val: 691.088452897728\n",
      "coeff_sum0: min_val: -8.31140713055213, max_val: 0.0\n",
      "coeff_sum1: min_val: -8.42782707927554, max_val: 0.475618061292297\n"
     ]
    }
   ],
   "source": [
    "analysis(data_cleared)"
   ]
  },
  {
   "cell_type": "markdown",
   "id": "9d876f04-4557-4af8-9e9d-4475bfb45f1b",
   "metadata": {},
   "source": [
    "- Удалим отрицательные g0 и g1, так как они будут выступать в роли стандартного отклонения.\n",
    "- Разделим на train и test. \n",
    "- От дат оставим только часы, как делали в предыдущих работах\n",
    "- Применим one-hot (фичи все категориальные)"
   ]
  },
  {
   "cell_type": "code",
   "execution_count": 7,
   "id": "18643ff3-8b44-479d-be0f-9531530c65a6",
   "metadata": {},
   "outputs": [],
   "source": [
    "from sklearn.preprocessing import OneHotEncoder\n",
    "from scipy.sparse import hstack"
   ]
  },
  {
   "cell_type": "code",
   "execution_count": 8,
   "id": "09172de3-abba-4ddd-8587-9e99e5020ad5",
   "metadata": {},
   "outputs": [],
   "source": [
    "def transform(df):\n",
    "    # remove invalid g0 and g1\n",
    "    df = df.drop(df[(df['g0'] < 0) & (df['g1'] < 0)].index)\n",
    "    df.reset_index(drop=True, inplace=True)\n",
    "\n",
    "    #train test\n",
    "    x_train = df[df['date_time'].dt.date != pd.to_datetime('2021-10-02').date()]\n",
    "    y_train = x_train['clicks']\n",
    "    x_train = x_train.drop('clicks', axis=1)\n",
    "\n",
    "    x_test = df[df['date_time'].dt.date == pd.to_datetime('2021-10-02').date()]\n",
    "    y_test = x_test['clicks']\n",
    "    x_test = x_test.drop('clicks', axis=1)\n",
    "\n",
    "    #remove dates, add hours\n",
    "    x_train['hour'] = x_train['date_time'].dt.hour\n",
    "    x_train = x_train.drop('date_time', axis=1)\n",
    "\n",
    "    x_test['hour'] = x_test['date_time'].dt.hour\n",
    "    x_test = x_test.drop('date_time', axis=1)\n",
    "\n",
    "    # уберем фичи, которые не будут использоваться для предсказания \n",
    "    x_train = x_train.drop(['coeff_sum0', 'coeff_sum1', 'g0', 'g1', 'banner_id0', 'banner_id1'],axis=1) #banner_id\n",
    "    x_test_pi0 = x_test.drop(['coeff_sum0', 'coeff_sum1', 'g0', 'g1', 'banner_id0', 'banner_id1'],axis=1) #banner_id\n",
    "    \n",
    "    x_test_pi1 = x_test.drop(['coeff_sum0', 'coeff_sum1', 'g0', 'g1', 'banner_id0', 'banner_id'],axis=1) #banner_id1\n",
    "    x_test_pi1['banner_id'] = x_test_pi1['banner_id1']\n",
    "    x_test_pi1 = x_test_pi1.drop('banner_id1', axis=1)\n",
    "\n",
    "    # понадобится, чтобы считать вероятности для p0 и p1\n",
    "    distrib_parameters = x_test[['coeff_sum0', 'coeff_sum1', 'g0', 'g1']]\n",
    "\n",
    "    #interactions\n",
    "    for context_feature in ['os_id', 'country_id', 'oaid_hash']:\n",
    "        for adv_feature in ['hour', 'zone_id', 'banner_id']:\n",
    "            inter_feature = context_feature + '_' + adv_feature\n",
    "            x_train[inter_feature] = x_train[context_feature].astype(str)+ '_' + x_train[adv_feature].astype(str)\n",
    "            x_test_pi0[inter_feature] = x_test_pi0[context_feature].astype(str)+ '_' + x_test_pi0[adv_feature].astype(str)\n",
    "            x_test_pi1[inter_feature] = x_test_pi1[context_feature].astype(str)+ '_' + x_test_pi1[adv_feature].astype(str)\n",
    "\n",
    "    \n",
    "    #one_hot\n",
    "    train_sparse = []\n",
    "    test_sparse_pi0 = []\n",
    "    test_sparse_pi1 = []\n",
    "    \n",
    "    for feature in list(x_train.columns):\n",
    "        encoder = OneHotEncoder(sparse_output=True, handle_unknown='ignore').fit(x_train[[feature]])\n",
    "        train_encoded = encoder.transform(x_train[[feature]])\n",
    "        train_sparse.append(train_encoded)\n",
    "        \n",
    "        test_pi0_encoded = encoder.transform(x_test_pi0[[feature]])\n",
    "        test_sparse_pi0.append(test_pi0_encoded)\n",
    "\n",
    "        test_pi1_encoded = encoder.transform(x_test_pi1[[feature]])\n",
    "        test_sparse_pi1.append(test_pi1_encoded)\n",
    "    \n",
    "    return hstack(train_sparse), y_train, hstack(test_sparse_pi0), hstack(test_sparse_pi1), y_test, distrib_parameters\n",
    "\n",
    "train_sparse, y_train, test_sparse_pi0, test_sparse_pi1, y_test, distrib_parameters = transform(data_cleared)"
   ]
  },
  {
   "cell_type": "markdown",
   "id": "f79b0105-9ede-4d92-b12a-93ffa91ca5c6",
   "metadata": {},
   "source": [
    "## получим оценку "
   ]
  },
  {
   "cell_type": "code",
   "execution_count": 9,
   "id": "53a95dd8-c235-435e-b095-3f58a682b0ed",
   "metadata": {},
   "outputs": [],
   "source": [
    "from sklearn.linear_model import LogisticRegression\n",
    "from sklearn.metrics import log_loss, roc_auc_score"
   ]
  },
  {
   "cell_type": "code",
   "execution_count": 10,
   "id": "d5330289-05e6-44d2-b03b-a2c53a1a0a88",
   "metadata": {},
   "outputs": [],
   "source": [
    "# как в первом дз\n",
    "model = LogisticRegression(penalty='l2',\n",
    "                           C=1.0,\n",
    "                           solver='liblinear')"
   ]
  },
  {
   "cell_type": "code",
   "execution_count": 11,
   "id": "e18bb93b-6045-4b63-97b3-dcae94ef2900",
   "metadata": {},
   "outputs": [
    {
     "data": {
      "text/html": [
       "<style>#sk-container-id-1 {color: black;background-color: white;}#sk-container-id-1 pre{padding: 0;}#sk-container-id-1 div.sk-toggleable {background-color: white;}#sk-container-id-1 label.sk-toggleable__label {cursor: pointer;display: block;width: 100%;margin-bottom: 0;padding: 0.3em;box-sizing: border-box;text-align: center;}#sk-container-id-1 label.sk-toggleable__label-arrow:before {content: \"▸\";float: left;margin-right: 0.25em;color: #696969;}#sk-container-id-1 label.sk-toggleable__label-arrow:hover:before {color: black;}#sk-container-id-1 div.sk-estimator:hover label.sk-toggleable__label-arrow:before {color: black;}#sk-container-id-1 div.sk-toggleable__content {max-height: 0;max-width: 0;overflow: hidden;text-align: left;background-color: #f0f8ff;}#sk-container-id-1 div.sk-toggleable__content pre {margin: 0.2em;color: black;border-radius: 0.25em;background-color: #f0f8ff;}#sk-container-id-1 input.sk-toggleable__control:checked~div.sk-toggleable__content {max-height: 200px;max-width: 100%;overflow: auto;}#sk-container-id-1 input.sk-toggleable__control:checked~label.sk-toggleable__label-arrow:before {content: \"▾\";}#sk-container-id-1 div.sk-estimator input.sk-toggleable__control:checked~label.sk-toggleable__label {background-color: #d4ebff;}#sk-container-id-1 div.sk-label input.sk-toggleable__control:checked~label.sk-toggleable__label {background-color: #d4ebff;}#sk-container-id-1 input.sk-hidden--visually {border: 0;clip: rect(1px 1px 1px 1px);clip: rect(1px, 1px, 1px, 1px);height: 1px;margin: -1px;overflow: hidden;padding: 0;position: absolute;width: 1px;}#sk-container-id-1 div.sk-estimator {font-family: monospace;background-color: #f0f8ff;border: 1px dotted black;border-radius: 0.25em;box-sizing: border-box;margin-bottom: 0.5em;}#sk-container-id-1 div.sk-estimator:hover {background-color: #d4ebff;}#sk-container-id-1 div.sk-parallel-item::after {content: \"\";width: 100%;border-bottom: 1px solid gray;flex-grow: 1;}#sk-container-id-1 div.sk-label:hover label.sk-toggleable__label {background-color: #d4ebff;}#sk-container-id-1 div.sk-serial::before {content: \"\";position: absolute;border-left: 1px solid gray;box-sizing: border-box;top: 0;bottom: 0;left: 50%;z-index: 0;}#sk-container-id-1 div.sk-serial {display: flex;flex-direction: column;align-items: center;background-color: white;padding-right: 0.2em;padding-left: 0.2em;position: relative;}#sk-container-id-1 div.sk-item {position: relative;z-index: 1;}#sk-container-id-1 div.sk-parallel {display: flex;align-items: stretch;justify-content: center;background-color: white;position: relative;}#sk-container-id-1 div.sk-item::before, #sk-container-id-1 div.sk-parallel-item::before {content: \"\";position: absolute;border-left: 1px solid gray;box-sizing: border-box;top: 0;bottom: 0;left: 50%;z-index: -1;}#sk-container-id-1 div.sk-parallel-item {display: flex;flex-direction: column;z-index: 1;position: relative;background-color: white;}#sk-container-id-1 div.sk-parallel-item:first-child::after {align-self: flex-end;width: 50%;}#sk-container-id-1 div.sk-parallel-item:last-child::after {align-self: flex-start;width: 50%;}#sk-container-id-1 div.sk-parallel-item:only-child::after {width: 0;}#sk-container-id-1 div.sk-dashed-wrapped {border: 1px dashed gray;margin: 0 0.4em 0.5em 0.4em;box-sizing: border-box;padding-bottom: 0.4em;background-color: white;}#sk-container-id-1 div.sk-label label {font-family: monospace;font-weight: bold;display: inline-block;line-height: 1.2em;}#sk-container-id-1 div.sk-label-container {text-align: center;}#sk-container-id-1 div.sk-container {/* jupyter's `normalize.less` sets `[hidden] { display: none; }` but bootstrap.min.css set `[hidden] { display: none !important; }` so we also need the `!important` here to be able to override the default hidden behavior on the sphinx rendered scikit-learn.org. See: https://github.com/scikit-learn/scikit-learn/issues/21755 */display: inline-block !important;position: relative;}#sk-container-id-1 div.sk-text-repr-fallback {display: none;}</style><div id=\"sk-container-id-1\" class=\"sk-top-container\"><div class=\"sk-text-repr-fallback\"><pre>LogisticRegression(solver=&#x27;liblinear&#x27;)</pre><b>In a Jupyter environment, please rerun this cell to show the HTML representation or trust the notebook. <br />On GitHub, the HTML representation is unable to render, please try loading this page with nbviewer.org.</b></div><div class=\"sk-container\" hidden><div class=\"sk-item\"><div class=\"sk-estimator sk-toggleable\"><input class=\"sk-toggleable__control sk-hidden--visually\" id=\"sk-estimator-id-1\" type=\"checkbox\" checked><label for=\"sk-estimator-id-1\" class=\"sk-toggleable__label sk-toggleable__label-arrow\">LogisticRegression</label><div class=\"sk-toggleable__content\"><pre>LogisticRegression(solver=&#x27;liblinear&#x27;)</pre></div></div></div></div></div>"
      ],
      "text/plain": [
       "LogisticRegression(solver='liblinear')"
      ]
     },
     "execution_count": 11,
     "metadata": {},
     "output_type": "execute_result"
    }
   ],
   "source": [
    "model.fit(train_sparse, y_train)"
   ]
  },
  {
   "cell_type": "markdown",
   "id": "ef5913af-ec03-490b-b20c-4fb5d24ea476",
   "metadata": {},
   "source": [
    "Проверим качество эстиматора:"
   ]
  },
  {
   "cell_type": "code",
   "execution_count": 12,
   "id": "9552a686-5be9-429f-831b-2cb63b660426",
   "metadata": {},
   "outputs": [],
   "source": [
    "preds = model.predict_proba(test_sparse_pi0)[:, 1]"
   ]
  },
  {
   "cell_type": "code",
   "execution_count": 13,
   "id": "e3220f62-1fe1-400e-a180-46d390aafd1a",
   "metadata": {},
   "outputs": [
    {
     "data": {
      "text/plain": [
       "(0.12536785397565942, 0.8262897351234961)"
      ]
     },
     "execution_count": 13,
     "metadata": {},
     "output_type": "execute_result"
    }
   ],
   "source": [
    "log_loss(y_test, preds), roc_auc_score(y_test, preds)"
   ]
  },
  {
   "cell_type": "markdown",
   "id": "f2fa9d7d-19e5-48b3-9982-2a4788c3c52a",
   "metadata": {},
   "source": [
    "Качество даже лучше, чем в первом дз."
   ]
  },
  {
   "cell_type": "markdown",
   "id": "38062e91-3e3e-4d2f-b1e2-46f91c229e91",
   "metadata": {},
   "source": [
    "## CIPS"
   ]
  },
  {
   "cell_type": "markdown",
   "id": "3bc909cd-1b9c-44fd-bb83-5a180595b946",
   "metadata": {},
   "source": [
    "Посчитаем новые средние:"
   ]
  },
  {
   "cell_type": "code",
   "execution_count": 14,
   "id": "df9f6a94-95f9-4c49-9fe8-c5f72bd6cb81",
   "metadata": {},
   "outputs": [],
   "source": [
    "from scipy.special import logit\n",
    "from scipy.stats import norm"
   ]
  },
  {
   "cell_type": "code",
   "execution_count": 15,
   "id": "235df6d6-18ab-497d-979f-bacf431203a7",
   "metadata": {},
   "outputs": [],
   "source": [
    "probs0 = model.predict_proba(test_sparse_pi0)[:, 1]\n",
    "new_mean0 = logit(probs0)\n",
    "\n",
    "probs1 = model.predict_proba(test_sparse_pi1)[:, 1]\n",
    "new_mean1 = logit(probs1)"
   ]
  },
  {
   "cell_type": "markdown",
   "id": "5e1e87e0-9357-4b1b-b507-20cec625efee",
   "metadata": {},
   "source": [
    "Итак, нужно оценить вероятность того, что одна случайная величина больше другой.  \n",
    "$$\n",
    "x_1 \\sim N(a_1, \\sigma_1), x_2 \\sim N(a_2, \\sigma_2)\n",
    "$$\n",
    "$$\n",
    "P(x_1 > x_2) = 1 - P(x_1 - x_2 < 0) = 1 - F_{x_1-x_2}(0) \n",
    "$$\n",
    "$$\n",
    "x_1 - x_2 \\sim N(a1-a2, \\sigma_1 + \\sigma_2)\n",
    "$$"
   ]
  },
  {
   "cell_type": "code",
   "execution_count": 16,
   "id": "33605075-591b-4796-9df9-f6844d57307b",
   "metadata": {},
   "outputs": [],
   "source": [
    "def calc_prob(a1, s1, a2, s2):\n",
    "    return 1 - norm.cdf(0, loc=a1-a2, scale=np.sqrt(s1**2 + s2**2) + 1e-3)"
   ]
  },
  {
   "cell_type": "code",
   "execution_count": 17,
   "id": "15e162bc-a549-4af0-8379-397a4b1ba0c0",
   "metadata": {},
   "outputs": [],
   "source": [
    "pi0 = calc_prob(distrib_parameters['coeff_sum0'], \n",
    "                distrib_parameters['g0'],\n",
    "                distrib_parameters['coeff_sum1'],\n",
    "                distrib_parameters['g1'])\n",
    "\n",
    "pi1 = calc_prob(new_mean0,\n",
    "                distrib_parameters['g0'], \n",
    "                new_mean1,\n",
    "                distrib_parameters['g1'])"
   ]
  },
  {
   "cell_type": "code",
   "execution_count": 18,
   "id": "ef930fb1-99ab-4d92-b6a5-5341682fe35d",
   "metadata": {},
   "outputs": [
    {
     "name": "stdout",
     "output_type": "stream",
     "text": [
      "cips: 0.06212541678077257\n"
     ]
    }
   ],
   "source": [
    "# reward у нас 0 или 1 в зависимости от клика\n",
    "lambda_ = 10\n",
    "cips = np.mean(y_test * np.clip(pi1/(pi0+1e-3), a_min=None, a_max=lambda_))\n",
    "print(f\"cips: {cips}\")"
   ]
  },
  {
   "cell_type": "code",
   "execution_count": null,
   "id": "6dc0a56f-384f-463a-9c8f-9ff727c9bc70",
   "metadata": {},
   "outputs": [],
   "source": []
  }
 ],
 "metadata": {
  "kernelspec": {
   "display_name": "Python 3 (ipykernel)",
   "language": "python",
   "name": "python3"
  },
  "language_info": {
   "codemirror_mode": {
    "name": "ipython",
    "version": 3
   },
   "file_extension": ".py",
   "mimetype": "text/x-python",
   "name": "python",
   "nbconvert_exporter": "python",
   "pygments_lexer": "ipython3",
   "version": "3.11.4"
  }
 },
 "nbformat": 4,
 "nbformat_minor": 5
}
