{
 "cells": [
  {
   "cell_type": "code",
   "execution_count": 2,
   "metadata": {},
   "outputs": [],
   "source": [
    "import pandas as pd\n",
    "import matplotlib.pyplot as plt\n",
    "import seaborn as sns\n",
    "import matplotlib.pyplot as plt\n",
    "import numpy as np\n",
    "import datetime\n",
    "from sklearn.linear_model import LogisticRegression\n",
    "from scipy.sparse import hstack\n",
    "from sklearn.preprocessing import StandardScaler, OneHotEncoder\n",
    "from sklearn.model_selection import cross_validate\n",
    "from sklearn.metrics import log_loss, roc_auc_score\n",
    "from sklearn.model_selection import train_test_split, GridSearchCV\n",
    "from sklearn.model_selection import GridSearchCV, StratifiedKFold\n",
    "from sklearn.metrics import make_scorer, roc_auc_score, log_loss\n",
    "from sklearn.compose import ColumnTransformer"
   ]
  },
  {
   "cell_type": "code",
   "execution_count": 3,
   "metadata": {},
   "outputs": [
    {
     "data": {
      "text/html": [
       "<div>\n",
       "<style scoped>\n",
       "    .dataframe tbody tr th:only-of-type {\n",
       "        vertical-align: middle;\n",
       "    }\n",
       "\n",
       "    .dataframe tbody tr th {\n",
       "        vertical-align: top;\n",
       "    }\n",
       "\n",
       "    .dataframe thead th {\n",
       "        text-align: right;\n",
       "    }\n",
       "</style>\n",
       "<table border=\"1\" class=\"dataframe\">\n",
       "  <thead>\n",
       "    <tr style=\"text-align: right;\">\n",
       "      <th></th>\n",
       "      <th>date_time</th>\n",
       "      <th>zone_id</th>\n",
       "      <th>banner_id</th>\n",
       "      <th>oaid_hash</th>\n",
       "      <th>campaign_clicks</th>\n",
       "      <th>os_id</th>\n",
       "      <th>country_id</th>\n",
       "      <th>banner_id0</th>\n",
       "      <th>rate0</th>\n",
       "      <th>g0</th>\n",
       "      <th>coeff_sum0</th>\n",
       "      <th>banner_id1</th>\n",
       "      <th>rate1</th>\n",
       "      <th>g1</th>\n",
       "      <th>coeff_sum1</th>\n",
       "      <th>impressions</th>\n",
       "      <th>clicks</th>\n",
       "    </tr>\n",
       "  </thead>\n",
       "  <tbody>\n",
       "    <tr>\n",
       "      <th>0</th>\n",
       "      <td>2021-09-27 00:01:30.000000</td>\n",
       "      <td>0</td>\n",
       "      <td>0</td>\n",
       "      <td>5664530014561852622</td>\n",
       "      <td>0</td>\n",
       "      <td>0</td>\n",
       "      <td>0</td>\n",
       "      <td>1240</td>\n",
       "      <td>0.067</td>\n",
       "      <td>0.035016</td>\n",
       "      <td>-7.268846</td>\n",
       "      <td>0</td>\n",
       "      <td>0.010</td>\n",
       "      <td>0.049516</td>\n",
       "      <td>-5.369901</td>\n",
       "      <td>1</td>\n",
       "      <td>1</td>\n",
       "    </tr>\n",
       "    <tr>\n",
       "      <th>1</th>\n",
       "      <td>2021-09-26 22:54:49.000000</td>\n",
       "      <td>1</td>\n",
       "      <td>1</td>\n",
       "      <td>5186611064559013950</td>\n",
       "      <td>0</td>\n",
       "      <td>0</td>\n",
       "      <td>1</td>\n",
       "      <td>1</td>\n",
       "      <td>0.002</td>\n",
       "      <td>0.054298</td>\n",
       "      <td>-2.657477</td>\n",
       "      <td>269</td>\n",
       "      <td>0.004</td>\n",
       "      <td>0.031942</td>\n",
       "      <td>-4.449220</td>\n",
       "      <td>1</td>\n",
       "      <td>1</td>\n",
       "    </tr>\n",
       "    <tr>\n",
       "      <th>2</th>\n",
       "      <td>2021-09-26 23:57:20.000000</td>\n",
       "      <td>2</td>\n",
       "      <td>2</td>\n",
       "      <td>2215519569292448030</td>\n",
       "      <td>3</td>\n",
       "      <td>0</td>\n",
       "      <td>0</td>\n",
       "      <td>2</td>\n",
       "      <td>0.014</td>\n",
       "      <td>0.014096</td>\n",
       "      <td>-3.824875</td>\n",
       "      <td>21</td>\n",
       "      <td>0.014</td>\n",
       "      <td>0.014906</td>\n",
       "      <td>-3.939309</td>\n",
       "      <td>1</td>\n",
       "      <td>1</td>\n",
       "    </tr>\n",
       "    <tr>\n",
       "      <th>3</th>\n",
       "      <td>2021-09-27 00:04:30.000000</td>\n",
       "      <td>3</td>\n",
       "      <td>3</td>\n",
       "      <td>6262169206735077204</td>\n",
       "      <td>0</td>\n",
       "      <td>1</td>\n",
       "      <td>1</td>\n",
       "      <td>3</td>\n",
       "      <td>0.012</td>\n",
       "      <td>0.015232</td>\n",
       "      <td>-3.461357</td>\n",
       "      <td>99</td>\n",
       "      <td>0.006</td>\n",
       "      <td>0.050671</td>\n",
       "      <td>-3.418403</td>\n",
       "      <td>1</td>\n",
       "      <td>1</td>\n",
       "    </tr>\n",
       "    <tr>\n",
       "      <th>4</th>\n",
       "      <td>2021-09-27 00:06:21.000000</td>\n",
       "      <td>4</td>\n",
       "      <td>4</td>\n",
       "      <td>4778985830203613115</td>\n",
       "      <td>0</td>\n",
       "      <td>1</td>\n",
       "      <td>0</td>\n",
       "      <td>4</td>\n",
       "      <td>0.019</td>\n",
       "      <td>0.051265</td>\n",
       "      <td>-4.009026</td>\n",
       "      <td>11464230</td>\n",
       "      <td>6.790</td>\n",
       "      <td>0.032005</td>\n",
       "      <td>-2.828797</td>\n",
       "      <td>1</td>\n",
       "      <td>1</td>\n",
       "    </tr>\n",
       "  </tbody>\n",
       "</table>\n",
       "</div>"
      ],
      "text/plain": [
       "                    date_time  zone_id  banner_id            oaid_hash  \\\n",
       "0  2021-09-27 00:01:30.000000        0          0  5664530014561852622   \n",
       "1  2021-09-26 22:54:49.000000        1          1  5186611064559013950   \n",
       "2  2021-09-26 23:57:20.000000        2          2  2215519569292448030   \n",
       "3  2021-09-27 00:04:30.000000        3          3  6262169206735077204   \n",
       "4  2021-09-27 00:06:21.000000        4          4  4778985830203613115   \n",
       "\n",
       "   campaign_clicks  os_id  country_id  banner_id0  rate0        g0  \\\n",
       "0                0      0           0        1240  0.067  0.035016   \n",
       "1                0      0           1           1  0.002  0.054298   \n",
       "2                3      0           0           2  0.014  0.014096   \n",
       "3                0      1           1           3  0.012  0.015232   \n",
       "4                0      1           0           4  0.019  0.051265   \n",
       "\n",
       "   coeff_sum0  banner_id1  rate1        g1  coeff_sum1  impressions  clicks  \n",
       "0   -7.268846           0  0.010  0.049516   -5.369901            1       1  \n",
       "1   -2.657477         269  0.004  0.031942   -4.449220            1       1  \n",
       "2   -3.824875          21  0.014  0.014906   -3.939309            1       1  \n",
       "3   -3.461357          99  0.006  0.050671   -3.418403            1       1  \n",
       "4   -4.009026    11464230  6.790  0.032005   -2.828797            1       1  "
      ]
     },
     "execution_count": 3,
     "metadata": {},
     "output_type": "execute_result"
    }
   ],
   "source": [
    "data = pd.read_csv('data.csv')\n",
    "data.head()"
   ]
  },
  {
   "cell_type": "markdown",
   "metadata": {},
   "source": [
    "Препроцессинг из первого дз + прислушился к комментариям и добавил несколько интеракций."
   ]
  },
  {
   "cell_type": "code",
   "execution_count": 4,
   "metadata": {},
   "outputs": [],
   "source": [
    "def data_preprocess(data):\n",
    "    data['date_time'] = pd.to_datetime(data['date_time'], errors='coerce')\n",
    "    data['date'] = data['date_time'].dt.date\n",
    "    data['day_of_the_week'] = data['date_time'].dt.dayofweek\n",
    "    data['day_period'] = (data['date_time'].dt.hour % 24 + 4) // 4\n",
    "    data = data[(data['g0'] >= 0) & (data['g1'] >= 0)]\n",
    "\n",
    "    mask_first = (data['date_time'].dt.date != datetime.date(2021, 10, 2)) & (data['banner_id'] == data['banner_id0'])\n",
    "    mask_last = (data['date_time'].dt.date == datetime.date(2021, 10, 2)) & (data['banner_id'] == data['banner_id0'])\n",
    "    \n",
    "    first = data[mask_first].copy()\n",
    "    last = data[mask_last].dropna(subset=['coeff_sum0', 'coeff_sum1']).copy()\n",
    "\n",
    "    data.drop(['date_time'], axis=1, inplace=True)\n",
    "    \n",
    "    for i in ['os_id', 'country_id']:\n",
    "        for j in ['banner_id']:\n",
    "            inter_feature = f\"{i}_{j}\"\n",
    "            first[inter_feature] = first[i].astype(str) + '_' + first[j].astype(str)\n",
    "            last[inter_feature] = last[i].astype(str) + '_' + last[j].astype(str)\n",
    "    \n",
    "    return data, first, last"
   ]
  },
  {
   "cell_type": "code",
   "execution_count": 5,
   "metadata": {},
   "outputs": [
    {
     "name": "stderr",
     "output_type": "stream",
     "text": [
      "/var/folders/nh/5_1n3ycs0f3g8ltxlc_pcr6m0000gn/T/ipykernel_19025/2016565790.py:14: SettingWithCopyWarning: \n",
      "A value is trying to be set on a copy of a slice from a DataFrame\n",
      "\n",
      "See the caveats in the documentation: https://pandas.pydata.org/pandas-docs/stable/user_guide/indexing.html#returning-a-view-versus-a-copy\n",
      "  data.drop(['date_time'], axis=1, inplace=True)\n"
     ]
    }
   ],
   "source": [
    "data,first,last = data_preprocess(data)"
   ]
  },
  {
   "cell_type": "markdown",
   "metadata": {},
   "source": [
    "One-hot encoding"
   ]
  },
  {
   "cell_type": "code",
   "execution_count": 6,
   "metadata": {},
   "outputs": [],
   "source": [
    "def transform_data(first, non_banner_features):\n",
    "    transforms = ColumnTransformer([\n",
    "        ('banner_one_hot', OneHotEncoder(sparse=True, handle_unknown='ignore'), [0]),\n",
    "        ('others_one_hot', OneHotEncoder(sparse=True, handle_unknown='ignore'), list(range(1, len(non_banner_features) + 1))),\n",
    "    ])\n",
    "    \n",
    "    selected_columns = first[['banner_id'] + non_banner_features]\n",
    "    transforms.fit(selected_columns.to_numpy())\n",
    "    return transforms\n"
   ]
  },
  {
   "cell_type": "code",
   "execution_count": 7,
   "metadata": {},
   "outputs": [],
   "source": [
    "features = ['day_of_the_week', 'day_period','zone_id', 'os_id', 'country_id' ,'country_id_banner_id','os_id_banner_id']\n",
    "transforms = transform_data(first, features)\n"
   ]
  },
  {
   "cell_type": "markdown",
   "metadata": {},
   "source": [
    "Деление датасета"
   ]
  },
  {
   "cell_type": "code",
   "execution_count": 8,
   "metadata": {},
   "outputs": [],
   "source": [
    "X_train = transforms.transform(first[['banner_id'] + features].to_numpy())\n",
    "X_test0 = transforms.transform(last[['banner_id0'] + features].to_numpy())\n",
    "X_test1 = transforms.transform(last[['banner_id1'] + features].to_numpy())"
   ]
  },
  {
   "cell_type": "markdown",
   "metadata": {},
   "source": [
    "лучшее значение C=1.0 из ДЗ 1"
   ]
  },
  {
   "cell_type": "code",
   "execution_count": 9,
   "metadata": {},
   "outputs": [
    {
     "name": "stdout",
     "output_type": "stream",
     "text": [
      "[LibLinear]iter  1 act 6.076e+06 pre 5.405e+06 delta 1.608e+00 f 8.347e+06 |g| 7.677e+06 CG   1\n",
      "iter  2 act 7.364e+05 pre 6.102e+05 delta 1.608e+00 f 2.271e+06 |g| 1.726e+06 CG   1\n",
      "iter  3 act 1.837e+05 pre 1.519e+05 delta 1.608e+00 f 1.534e+06 |g| 5.154e+05 CG   2\n",
      "cg reaches trust region boundary\n",
      "iter  4 act 5.808e+04 pre 5.179e+04 delta 1.998e+00 f 1.351e+06 |g| 1.477e+05 CG   3\n",
      "cg reaches trust region boundary\n",
      "iter  5 act 2.352e+04 pre 2.226e+04 delta 2.433e+00 f 1.293e+06 |g| 5.143e+04 CG   3\n",
      "cg reaches trust region boundary\n",
      "iter  6 act 1.420e+04 pre 1.348e+04 delta 2.680e+00 f 1.269e+06 |g| 2.660e+04 CG   5\n",
      "cg reaches trust region boundary\n",
      "iter  7 act 1.005e+04 pre 9.691e+03 delta 2.939e+00 f 1.255e+06 |g| 2.064e+04 CG   6\n",
      "cg reaches trust region boundary\n",
      "iter  8 act 6.097e+03 pre 6.362e+03 delta 2.939e+00 f 1.245e+06 |g| 1.487e+04 CG   8\n",
      "cg reaches trust region boundary\n",
      "iter  9 act 4.673e+03 pre 4.599e+03 delta 3.013e+00 f 1.239e+06 |g| 1.157e+04 CG   9\n",
      "cg reaches trust region boundary\n",
      "iter 10 act 3.007e+03 pre 3.016e+03 delta 3.119e+00 f 1.234e+06 |g| 7.932e+03 CG  11\n",
      "cg reaches trust region boundary\n",
      "iter 11 act 1.896e+03 pre 1.861e+03 delta 3.172e+00 f 1.231e+06 |g| 5.440e+03 CG  12\n",
      "cg reaches trust region boundary\n",
      "iter 12 act 1.335e+03 pre 1.376e+03 delta 3.172e+00 f 1.229e+06 |g| 5.177e+03 CG  16\n",
      "cg reaches trust region boundary\n",
      "iter 13 act 1.056e+03 pre 1.060e+03 delta 3.236e+00 f 1.228e+06 |g| 2.983e+03 CG  18\n",
      "cg reaches trust region boundary\n",
      "iter 14 act 8.173e+02 pre 8.087e+02 delta 3.272e+00 f 1.227e+06 |g| 2.134e+03 CG  19\n",
      "cg reaches trust region boundary\n",
      "iter 15 act 6.997e+02 pre 6.960e+02 delta 3.360e+00 f 1.226e+06 |g| 2.172e+03 CG  21\n",
      "cg reaches trust region boundary\n",
      "iter 16 act 5.530e+02 pre 5.679e+02 delta 3.371e+00 f 1.225e+06 |g| 2.859e+03 CG  24\n",
      "cg reaches trust region boundary\n",
      "iter 17 act 4.734e+02 pre 4.819e+02 delta 3.433e+00 f 1.225e+06 |g| 1.240e+03 CG  26\n",
      "cg reaches trust region boundary\n",
      "iter 18 act 3.960e+02 pre 3.917e+02 delta 3.556e+00 f 1.224e+06 |g| 1.070e+03 CG  27\n",
      "cg reaches trust region boundary\n",
      "iter 19 act 3.286e+02 pre 3.364e+02 delta 3.556e+00 f 1.224e+06 |g| 1.126e+03 CG  32\n",
      "cg reaches trust region boundary\n",
      "iter 20 act 2.886e+02 pre 2.850e+02 delta 3.634e+00 f 1.224e+06 |g| 1.015e+03 CG  34\n",
      "cg reaches trust region boundary\n",
      "iter 21 act 2.429e+02 pre 2.437e+02 delta 3.710e+00 f 1.223e+06 |g| 9.184e+02 CG  36\n",
      "cg reaches trust region boundary\n",
      "iter 22 act 2.028e+02 pre 2.037e+02 delta 3.786e+00 f 1.223e+06 |g| 6.992e+02 CG  39\n",
      "cg reaches trust region boundary\n",
      "iter 23 act 1.682e+02 pre 1.686e+02 delta 3.878e+00 f 1.223e+06 |g| 5.091e+02 CG  43\n",
      "cg reaches trust region boundary\n",
      "iter 24 act 1.346e+02 pre 1.352e+02 delta 3.913e+00 f 1.223e+06 |g| 4.417e+02 CG  50\n",
      "cg reaches trust region boundary\n",
      "iter 25 act 1.098e+02 pre 1.095e+02 delta 4.073e+00 f 1.223e+06 |g| 4.074e+02 CG  54\n",
      "cg reaches trust region boundary\n",
      "iter 26 act 7.797e+01 pre 7.821e+01 delta 4.160e+00 f 1.222e+06 |g| 2.606e+02 CG  62\n",
      "cg reaches trust region boundary\n",
      "iter 27 act 5.224e+01 pre 5.231e+01 delta 4.172e+00 f 1.222e+06 |g| 2.254e+02 CG  76\n",
      "iter 28 act 1.146e+01 pre 1.146e+01 delta 4.172e+00 f 1.222e+06 |g| 7.155e+02 CG  26\n",
      "cg reaches trust region boundary\n",
      "iter 29 act 1.626e+01 pre 1.630e+01 delta 4.177e+00 f 1.222e+06 |g| 6.990e+01 CG  86\n",
      "iter 30 act 2.552e+00 pre 2.553e+00 delta 4.177e+00 f 1.222e+06 |g| 3.724e+01 CG 171\n"
     ]
    },
    {
     "data": {
      "text/plain": [
       "LogisticRegression(random_state=3141, solver='liblinear', verbose=1)"
      ]
     },
     "execution_count": 9,
     "metadata": {},
     "output_type": "execute_result"
    }
   ],
   "source": [
    "model = LogisticRegression(solver='liblinear', C=1.0, random_state=3141,verbose=1)\n",
    "model.fit(X_train, first['clicks'])"
   ]
  },
  {
   "cell_type": "code",
   "execution_count": 12,
   "metadata": {},
   "outputs": [],
   "source": [
    "p_0 = model.predict_proba(X_test0)[:, 1]\n",
    "p_1 = model.predict_proba(X_test1)[:, 1]"
   ]
  },
  {
   "cell_type": "code",
   "execution_count": 13,
   "metadata": {},
   "outputs": [
    {
     "name": "stdout",
     "output_type": "stream",
     "text": [
      "log_loss: 0.13450044509454878\n",
      "auc: 0.7903352370721316\n",
      "log_loss: 0.13568115622718738\n",
      "auc: 0.7826085328668043\n"
     ]
    }
   ],
   "source": [
    "print(f'log_loss: {log_loss(last[\"clicks\"], p_0)}')\n",
    "print(f'auc: {roc_auc_score(last[\"clicks\"], p_0)}')"
   ]
  },
  {
   "cell_type": "markdown",
   "metadata": {},
   "source": [
    "Оценка вероятности\n",
    "\n",
    "$X\\sim N(\\mu_1,\\sigma_1^2)\\\\$\n",
    "$Y\\sim N(\\mu_2,\\sigma_1^2)\\\\$\n",
    "$D=X-Y\\\\$\n",
    "$D\\sim N(\\mu_1-\\mu_2,\\sigma_1^2+\\sigma_2^2)\\\\$\n",
    "$F$ фун-я распределения"
   ]
  },
  {
   "cell_type": "code",
   "execution_count": 116,
   "metadata": {},
   "outputs": [],
   "source": [
    "from scipy.stats import norm\n",
    "from scipy.special import logit\n",
    "\n",
    "\n",
    "import numpy as np\n",
    "from scipy.stats import norm\n",
    "\n",
    "def calculate(last, p_0, p_1, LAMBDA=10):\n",
    "    pi_0 = norm.cdf(\n",
    "        (last['coeff_sum0'] - last['coeff_sum1']) / \n",
    "        np.sqrt(last['g0'] ** 2 + last['g1'] ** 2))\n",
    "\n",
    "    pi_1 = norm.cdf(\n",
    "        (logit(p_0) - logit(p_1)) / \n",
    "        np.sqrt(last['g0'] ** 2 + last['g1'] ** 2))\n",
    "\n",
    "    mask = np.isfinite(pi_0) * np.isfinite(pi_1) * (abs(pi_0) > np.finfo(np.float64).tiny)\n",
    "    \n",
    "    filtered_pi_0 = pi_0[mask]\n",
    "    filtered_pi_1 = pi_1[mask]\n",
    "    \n",
    "    V_cips = np.mean(last['clicks'][mask] * np.minimum(filtered_pi_1 / filtered_pi_0, LAMBDA))\n",
    "    print(f'V_cips = {V_cips:.3f} при lambda = {LAMBDA}')\n",
    "    \n",
    "    return filtered_pi_0, filtered_pi_1, V_cips\n"
   ]
  },
  {
   "cell_type": "code",
   "execution_count": 117,
   "metadata": {},
   "outputs": [
    {
     "name": "stdout",
     "output_type": "stream",
     "text": [
      "V_cips = 0.069 при lambda = 10\n"
     ]
    }
   ],
   "source": [
    "filtered_pi_0, filtered_pi_1, V_cips = calculate(last,p_0,p_1)"
   ]
  }
 ],
 "metadata": {
  "kernelspec": {
   "display_name": "ML_tasks",
   "language": "python",
   "name": "python3"
  },
  "language_info": {
   "codemirror_mode": {
    "name": "ipython",
    "version": 3
   },
   "file_extension": ".py",
   "mimetype": "text/x-python",
   "name": "python",
   "nbconvert_exporter": "python",
   "pygments_lexer": "ipython3",
   "version": "3.9.18"
  }
 },
 "nbformat": 4,
 "nbformat_minor": 2
}
